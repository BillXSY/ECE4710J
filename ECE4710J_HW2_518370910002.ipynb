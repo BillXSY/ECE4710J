{
  "nbformat": 4,
  "nbformat_minor": 0,
  "metadata": {
    "colab": {
      "name": "ECE4710J-HW2.ipynb",
      "provenance": [],
      "collapsed_sections": [
        "Biphwd1WAoqe",
        "aNbaEA3-Aoqe",
        "E52L4g-BAoqs",
        "6podvNV9Aoqx",
        "2K3NWjjuAoqy"
      ],
      "toc_visible": true
    },
    "kernelspec": {
      "display_name": "Python 3",
      "language": "python",
      "name": "python3"
    },
    "language_info": {
      "codemirror_mode": {
        "name": "ipython",
        "version": 3
      },
      "file_extension": ".py",
      "mimetype": "text/x-python",
      "name": "python",
      "nbconvert_exporter": "python",
      "pygments_lexer": "ipython3",
      "version": "3.8.5"
    }
  },
  "cells": [
    {
      "cell_type": "markdown",
      "metadata": {
        "id": "YTCE4IDJAoqO"
      },
      "source": [
        "# Homework 2: Food Safety (50 Pts)\n",
        "## Cleaning and Exploring Data with Pandas\n"
      ]
    },
    {
      "cell_type": "markdown",
      "metadata": {
        "id": "SakxgCTdAoqS"
      },
      "source": [
        "\n",
        "## This Assignment\n",
        "\n",
        "In this homework, we will investigate restaurant food safety scores for restaurants in San Francisco. The scores and violation information have been [made available by the San Francisco Department of Public Health](https://data.sfgov.org/Health-and-Social-Services/Restaurant-Scores-LIVES-Standard/pyih-qa8i). The main goal for this assignment is to walk through the process of Data Cleaning and EDA. \n",
        "\n",
        "\n",
        "As we clean and explore these data, you will gain practice with:\n",
        "* Reading simple csv files and using Pandas\n",
        "* Working with data at different levels of granularity\n",
        "* Identifying the type of data collected, missing values, anomalies, etc.\n",
        "* Exploring characteristics and distributions of individual variables\n",
        "\n"
      ]
    },
    {
      "cell_type": "code",
      "metadata": {
        "id": "dFiHMWCUA9Lp",
        "colab": {
          "base_uri": "https://localhost:8080/"
        },
        "outputId": "a5b56cd5-f84c-4b32-e871-badedff6bb2f"
      },
      "source": [
        "from google.colab import drive\n",
        "drive.mount('/content/drive')"
      ],
      "execution_count": 2,
      "outputs": [
        {
          "output_type": "stream",
          "name": "stdout",
          "text": [
            "Drive already mounted at /content/drive; to attempt to forcibly remount, call drive.mount(\"/content/drive\", force_remount=True).\n"
          ]
        }
      ]
    },
    {
      "cell_type": "code",
      "metadata": {
        "id": "T3Gip1I9AoqT"
      },
      "source": [
        "import numpy as np\n",
        "import pandas as pd\n",
        "\n",
        "import matplotlib\n",
        "import matplotlib.pyplot as plt\n",
        "import seaborn as sns\n",
        "sns.set()\n",
        "plt.style.use('fivethirtyeight')\n",
        "\n",
        "import zipfile\n",
        "from pathlib import Path\n",
        "import os # Used to interact with the file system"
      ],
      "execution_count": 3,
      "outputs": []
    },
    {
      "cell_type": "markdown",
      "metadata": {
        "id": "qOXN3S_oAoqU"
      },
      "source": [
        "## Importing and Verifying Data\n",
        "\n",
        "There are several tables in the data folder. Let's attempt to load `bus.csv`, `ins2vio.csv`, `ins.csv`, and `vio.csv` into pandas dataframes with the following names: `bus`, `ins2vio`, `ins`, and `vio` respectively.\n",
        "\n",
        "*Note:* Because of character encoding issues one of the files (`bus`) will require an additional argument `encoding='ISO-8859-1'` when calling `pd.read_csv`."
      ]
    },
    {
      "cell_type": "code",
      "metadata": {
        "colab": {
          "base_uri": "https://localhost:8080/"
        },
        "id": "9r0lRaJNFxDP",
        "outputId": "2721bbcd-c9d3-496e-8495-062dd55ca893"
      },
      "source": [
        "# try to connect to and import dataset from google drive\n",
        "with open('/content/drive/My Drive/data/bus.csv', 'r') as f:\n",
        "  print('hello dataset')"
      ],
      "execution_count": 4,
      "outputs": [
        {
          "output_type": "stream",
          "name": "stdout",
          "text": [
            "hello dataset\n"
          ]
        }
      ]
    },
    {
      "cell_type": "code",
      "metadata": {
        "id": "5mkh9KKwAoqV"
      },
      "source": [
        "# path to directory containing data\n",
        "#dsDir = Path('data')\n",
        "dsDir = '/content/drive/My Drive/data'\n",
        "\n",
        "bus = pd.read_csv(dsDir+'/bus.csv', encoding='ISO-8859-1')\n",
        "ins2vio = pd.read_csv(dsDir+'/ins2vio.csv')\n",
        "ins = pd.read_csv(dsDir+'/ins.csv')\n",
        "vio = pd.read_csv(dsDir+'/vio.csv')\n"
      ],
      "execution_count": 5,
      "outputs": []
    },
    {
      "cell_type": "markdown",
      "metadata": {
        "id": "bJ1C_uStAoqV"
      },
      "source": [
        "Now that you've read in the files, let's try some `pd.DataFrame` methods ([docs](https://pandas.pydata.org/pandas-docs/version/0.21/generated/pandas.DataFrame.html)).\n",
        "Use the `DataFrame.head` method to show the top few lines of the `bus`, `ins`, and `vio` dataframes. To show multiple return outputs in one single cell, you can use `display()`. Currently, running the cell below will display the first few lines of the `bus` dataframe. "
      ]
    },
    {
      "cell_type": "code",
      "metadata": {
        "colab": {
          "base_uri": "https://localhost:8080/",
          "height": 412
        },
        "id": "qkBWr5bRAoqW",
        "outputId": "ad5ce59b-9805-416a-8d0b-f1f58eb2731e"
      },
      "source": [
        "bus.head()"
      ],
      "execution_count": 6,
      "outputs": [
        {
          "output_type": "execute_result",
          "data": {
            "text/html": [
              "<div>\n",
              "<style scoped>\n",
              "    .dataframe tbody tr th:only-of-type {\n",
              "        vertical-align: middle;\n",
              "    }\n",
              "\n",
              "    .dataframe tbody tr th {\n",
              "        vertical-align: top;\n",
              "    }\n",
              "\n",
              "    .dataframe thead th {\n",
              "        text-align: right;\n",
              "    }\n",
              "</style>\n",
              "<table border=\"1\" class=\"dataframe\">\n",
              "  <thead>\n",
              "    <tr style=\"text-align: right;\">\n",
              "      <th></th>\n",
              "      <th>business id column</th>\n",
              "      <th>name</th>\n",
              "      <th>address</th>\n",
              "      <th>city</th>\n",
              "      <th>state</th>\n",
              "      <th>postal_code</th>\n",
              "      <th>latitude</th>\n",
              "      <th>longitude</th>\n",
              "      <th>phone_number</th>\n",
              "    </tr>\n",
              "  </thead>\n",
              "  <tbody>\n",
              "    <tr>\n",
              "      <th>0</th>\n",
              "      <td>1000</td>\n",
              "      <td>HEUNG YUEN RESTAURANT</td>\n",
              "      <td>3279 22nd St</td>\n",
              "      <td>San Francisco</td>\n",
              "      <td>CA</td>\n",
              "      <td>94110</td>\n",
              "      <td>37.755282</td>\n",
              "      <td>-122.420493</td>\n",
              "      <td>-9999</td>\n",
              "    </tr>\n",
              "    <tr>\n",
              "      <th>1</th>\n",
              "      <td>100010</td>\n",
              "      <td>ILLY CAFFE SF_PIER 39</td>\n",
              "      <td>PIER 39  K-106-B</td>\n",
              "      <td>San Francisco</td>\n",
              "      <td>CA</td>\n",
              "      <td>94133</td>\n",
              "      <td>-9999.000000</td>\n",
              "      <td>-9999.000000</td>\n",
              "      <td>14154827284</td>\n",
              "    </tr>\n",
              "    <tr>\n",
              "      <th>2</th>\n",
              "      <td>100017</td>\n",
              "      <td>AMICI'S EAST COAST PIZZERIA</td>\n",
              "      <td>475 06th St</td>\n",
              "      <td>San Francisco</td>\n",
              "      <td>CA</td>\n",
              "      <td>94103</td>\n",
              "      <td>-9999.000000</td>\n",
              "      <td>-9999.000000</td>\n",
              "      <td>14155279839</td>\n",
              "    </tr>\n",
              "    <tr>\n",
              "      <th>3</th>\n",
              "      <td>100026</td>\n",
              "      <td>LOCAL CATERING</td>\n",
              "      <td>1566 CARROLL AVE</td>\n",
              "      <td>San Francisco</td>\n",
              "      <td>CA</td>\n",
              "      <td>94124</td>\n",
              "      <td>-9999.000000</td>\n",
              "      <td>-9999.000000</td>\n",
              "      <td>14155860315</td>\n",
              "    </tr>\n",
              "    <tr>\n",
              "      <th>4</th>\n",
              "      <td>100030</td>\n",
              "      <td>OUI OUI! MACARON</td>\n",
              "      <td>2200 JERROLD AVE STE C</td>\n",
              "      <td>San Francisco</td>\n",
              "      <td>CA</td>\n",
              "      <td>94124</td>\n",
              "      <td>-9999.000000</td>\n",
              "      <td>-9999.000000</td>\n",
              "      <td>14159702675</td>\n",
              "    </tr>\n",
              "  </tbody>\n",
              "</table>\n",
              "</div>"
            ],
            "text/plain": [
              "   business id column                         name  ...    longitude phone_number\n",
              "0                1000        HEUNG YUEN RESTAURANT  ...  -122.420493        -9999\n",
              "1              100010        ILLY CAFFE SF_PIER 39  ... -9999.000000  14154827284\n",
              "2              100017  AMICI'S EAST COAST PIZZERIA  ... -9999.000000  14155279839\n",
              "3              100026               LOCAL CATERING  ... -9999.000000  14155860315\n",
              "4              100030             OUI OUI! MACARON  ... -9999.000000  14159702675\n",
              "\n",
              "[5 rows x 9 columns]"
            ]
          },
          "metadata": {},
          "execution_count": 6
        }
      ]
    },
    {
      "cell_type": "markdown",
      "metadata": {
        "id": "85vln2WpAoqX"
      },
      "source": [
        "The `DataFrame.describe` method can also be handy for computing summaries of numeric columns of our dataframes. Try it out with each of our 4 dataframes. Below, we have used the method to give a summary of the `bus` dataframe. "
      ]
    },
    {
      "cell_type": "code",
      "metadata": {
        "colab": {
          "base_uri": "https://localhost:8080/",
          "height": 297
        },
        "id": "1-kM0gRSAoqY",
        "outputId": "ef6bac20-c8b8-405d-f288-bb881f69d00f"
      },
      "source": [
        "bus.describe()"
      ],
      "execution_count": 7,
      "outputs": [
        {
          "output_type": "execute_result",
          "data": {
            "text/html": [
              "<div>\n",
              "<style scoped>\n",
              "    .dataframe tbody tr th:only-of-type {\n",
              "        vertical-align: middle;\n",
              "    }\n",
              "\n",
              "    .dataframe tbody tr th {\n",
              "        vertical-align: top;\n",
              "    }\n",
              "\n",
              "    .dataframe thead th {\n",
              "        text-align: right;\n",
              "    }\n",
              "</style>\n",
              "<table border=\"1\" class=\"dataframe\">\n",
              "  <thead>\n",
              "    <tr style=\"text-align: right;\">\n",
              "      <th></th>\n",
              "      <th>business id column</th>\n",
              "      <th>latitude</th>\n",
              "      <th>longitude</th>\n",
              "      <th>phone_number</th>\n",
              "    </tr>\n",
              "  </thead>\n",
              "  <tbody>\n",
              "    <tr>\n",
              "      <th>count</th>\n",
              "      <td>6253.000000</td>\n",
              "      <td>6253.000000</td>\n",
              "      <td>6253.000000</td>\n",
              "      <td>6.253000e+03</td>\n",
              "    </tr>\n",
              "    <tr>\n",
              "      <th>mean</th>\n",
              "      <td>60448.948984</td>\n",
              "      <td>-5575.337966</td>\n",
              "      <td>-5645.817699</td>\n",
              "      <td>4.701819e+09</td>\n",
              "    </tr>\n",
              "    <tr>\n",
              "      <th>std</th>\n",
              "      <td>36480.132445</td>\n",
              "      <td>4983.390142</td>\n",
              "      <td>4903.993683</td>\n",
              "      <td>6.667508e+09</td>\n",
              "    </tr>\n",
              "    <tr>\n",
              "      <th>min</th>\n",
              "      <td>19.000000</td>\n",
              "      <td>-9999.000000</td>\n",
              "      <td>-9999.000000</td>\n",
              "      <td>-9.999000e+03</td>\n",
              "    </tr>\n",
              "    <tr>\n",
              "      <th>25%</th>\n",
              "      <td>18399.000000</td>\n",
              "      <td>-9999.000000</td>\n",
              "      <td>-9999.000000</td>\n",
              "      <td>-9.999000e+03</td>\n",
              "    </tr>\n",
              "    <tr>\n",
              "      <th>50%</th>\n",
              "      <td>75685.000000</td>\n",
              "      <td>-9999.000000</td>\n",
              "      <td>-9999.000000</td>\n",
              "      <td>-9.999000e+03</td>\n",
              "    </tr>\n",
              "    <tr>\n",
              "      <th>75%</th>\n",
              "      <td>90886.000000</td>\n",
              "      <td>37.776494</td>\n",
              "      <td>-122.421553</td>\n",
              "      <td>1.415533e+10</td>\n",
              "    </tr>\n",
              "    <tr>\n",
              "      <th>max</th>\n",
              "      <td>102705.000000</td>\n",
              "      <td>37.824494</td>\n",
              "      <td>0.000000</td>\n",
              "      <td>1.415988e+10</td>\n",
              "    </tr>\n",
              "  </tbody>\n",
              "</table>\n",
              "</div>"
            ],
            "text/plain": [
              "       business id column     latitude    longitude  phone_number\n",
              "count         6253.000000  6253.000000  6253.000000  6.253000e+03\n",
              "mean         60448.948984 -5575.337966 -5645.817699  4.701819e+09\n",
              "std          36480.132445  4983.390142  4903.993683  6.667508e+09\n",
              "min             19.000000 -9999.000000 -9999.000000 -9.999000e+03\n",
              "25%          18399.000000 -9999.000000 -9999.000000 -9.999000e+03\n",
              "50%          75685.000000 -9999.000000 -9999.000000 -9.999000e+03\n",
              "75%          90886.000000    37.776494  -122.421553  1.415533e+10\n",
              "max         102705.000000    37.824494     0.000000  1.415988e+10"
            ]
          },
          "metadata": {},
          "execution_count": 7
        }
      ]
    },
    {
      "cell_type": "markdown",
      "metadata": {
        "id": "JDs0cb3VAoqZ"
      },
      "source": [
        "Now, we perform some sanity checks for you to verify that the data was loaded with the correct structure. Run the following cells to load some basic utilities (you do not need to change these at all):"
      ]
    },
    {
      "cell_type": "markdown",
      "metadata": {
        "id": "pm62EFqIAoqZ"
      },
      "source": [
        "First, we check the basic structure of the data frames you created:"
      ]
    },
    {
      "cell_type": "code",
      "metadata": {
        "id": "7coiK4nBAoqZ"
      },
      "source": [
        "assert all(bus.columns == ['business id column', 'name', 'address', 'city', 'state', 'postal_code',\n",
        "                           'latitude', 'longitude', 'phone_number'])\n",
        "assert 6250 <= len(bus) <= 6260\n",
        "\n",
        "assert all(ins.columns == ['iid', 'date', 'score', 'type'])\n",
        "assert 26660 <= len(ins) <= 26670\n",
        "\n",
        "assert all(vio.columns == ['description', 'risk_category', 'vid'])\n",
        "assert 60 <= len(vio) <= 65\n",
        "\n",
        "assert all(ins2vio.columns == ['iid', 'vid'])\n",
        "assert 40210 <= len(ins2vio) <= 40220"
      ],
      "execution_count": 8,
      "outputs": []
    },
    {
      "cell_type": "markdown",
      "metadata": {
        "id": "6hgeMDc0Aoqa"
      },
      "source": [
        "Next we'll check that the statistics match what we expect. The following are hard-coded statistical summaries of the correct data."
      ]
    },
    {
      "cell_type": "code",
      "metadata": {
        "colab": {
          "base_uri": "https://localhost:8080/",
          "height": 444
        },
        "id": "VfHKv1rFAoqa",
        "outputId": "eedcb723-904a-4e65-dcca-08cc2bf893e9"
      },
      "source": [
        "bus_summary = pd.DataFrame(**{'columns': ['business id column', 'latitude', 'longitude'],\n",
        " 'data': {'business id column': {'50%': 75685.0, 'max': 102705.0, 'min': 19.0},\n",
        "  'latitude': {'50%': -9999.0, 'max': 37.824494, 'min': -9999.0},\n",
        "  'longitude': {'50%': -9999.0,\n",
        "   'max': 0.0,\n",
        "   'min': -9999.0}},\n",
        " 'index': ['min', '50%', 'max']})\n",
        "\n",
        "ins_summary = pd.DataFrame(**{'columns': ['score'],\n",
        " 'data': {'score': {'50%': 76.0, 'max': 100.0, 'min': -1.0}},\n",
        " 'index': ['min', '50%', 'max']})\n",
        "\n",
        "vio_summary = pd.DataFrame(**{'columns': ['vid'],\n",
        " 'data': {'vid': {'50%': 103135.0, 'max': 103177.0, 'min': 103102.0}},\n",
        " 'index': ['min', '50%', 'max']})\n",
        "\n",
        "from IPython.display import display\n",
        "\n",
        "print('What we expect from your Businesses dataframe:')\n",
        "display(bus_summary)\n",
        "print('What we expect from your Inspections dataframe:')\n",
        "display(ins_summary)\n",
        "print('What we expect from your Violations dataframe:')\n",
        "display(vio_summary)"
      ],
      "execution_count": 9,
      "outputs": [
        {
          "output_type": "stream",
          "name": "stdout",
          "text": [
            "What we expect from your Businesses dataframe:\n"
          ]
        },
        {
          "output_type": "display_data",
          "data": {
            "text/html": [
              "<div>\n",
              "<style scoped>\n",
              "    .dataframe tbody tr th:only-of-type {\n",
              "        vertical-align: middle;\n",
              "    }\n",
              "\n",
              "    .dataframe tbody tr th {\n",
              "        vertical-align: top;\n",
              "    }\n",
              "\n",
              "    .dataframe thead th {\n",
              "        text-align: right;\n",
              "    }\n",
              "</style>\n",
              "<table border=\"1\" class=\"dataframe\">\n",
              "  <thead>\n",
              "    <tr style=\"text-align: right;\">\n",
              "      <th></th>\n",
              "      <th>business id column</th>\n",
              "      <th>latitude</th>\n",
              "      <th>longitude</th>\n",
              "    </tr>\n",
              "  </thead>\n",
              "  <tbody>\n",
              "    <tr>\n",
              "      <th>min</th>\n",
              "      <td>19.0</td>\n",
              "      <td>-9999.000000</td>\n",
              "      <td>-9999.0</td>\n",
              "    </tr>\n",
              "    <tr>\n",
              "      <th>50%</th>\n",
              "      <td>75685.0</td>\n",
              "      <td>-9999.000000</td>\n",
              "      <td>-9999.0</td>\n",
              "    </tr>\n",
              "    <tr>\n",
              "      <th>max</th>\n",
              "      <td>102705.0</td>\n",
              "      <td>37.824494</td>\n",
              "      <td>0.0</td>\n",
              "    </tr>\n",
              "  </tbody>\n",
              "</table>\n",
              "</div>"
            ],
            "text/plain": [
              "     business id column     latitude  longitude\n",
              "min                19.0 -9999.000000    -9999.0\n",
              "50%             75685.0 -9999.000000    -9999.0\n",
              "max            102705.0    37.824494        0.0"
            ]
          },
          "metadata": {}
        },
        {
          "output_type": "stream",
          "name": "stdout",
          "text": [
            "What we expect from your Inspections dataframe:\n"
          ]
        },
        {
          "output_type": "display_data",
          "data": {
            "text/html": [
              "<div>\n",
              "<style scoped>\n",
              "    .dataframe tbody tr th:only-of-type {\n",
              "        vertical-align: middle;\n",
              "    }\n",
              "\n",
              "    .dataframe tbody tr th {\n",
              "        vertical-align: top;\n",
              "    }\n",
              "\n",
              "    .dataframe thead th {\n",
              "        text-align: right;\n",
              "    }\n",
              "</style>\n",
              "<table border=\"1\" class=\"dataframe\">\n",
              "  <thead>\n",
              "    <tr style=\"text-align: right;\">\n",
              "      <th></th>\n",
              "      <th>score</th>\n",
              "    </tr>\n",
              "  </thead>\n",
              "  <tbody>\n",
              "    <tr>\n",
              "      <th>min</th>\n",
              "      <td>-1.0</td>\n",
              "    </tr>\n",
              "    <tr>\n",
              "      <th>50%</th>\n",
              "      <td>76.0</td>\n",
              "    </tr>\n",
              "    <tr>\n",
              "      <th>max</th>\n",
              "      <td>100.0</td>\n",
              "    </tr>\n",
              "  </tbody>\n",
              "</table>\n",
              "</div>"
            ],
            "text/plain": [
              "     score\n",
              "min   -1.0\n",
              "50%   76.0\n",
              "max  100.0"
            ]
          },
          "metadata": {}
        },
        {
          "output_type": "stream",
          "name": "stdout",
          "text": [
            "What we expect from your Violations dataframe:\n"
          ]
        },
        {
          "output_type": "display_data",
          "data": {
            "text/html": [
              "<div>\n",
              "<style scoped>\n",
              "    .dataframe tbody tr th:only-of-type {\n",
              "        vertical-align: middle;\n",
              "    }\n",
              "\n",
              "    .dataframe tbody tr th {\n",
              "        vertical-align: top;\n",
              "    }\n",
              "\n",
              "    .dataframe thead th {\n",
              "        text-align: right;\n",
              "    }\n",
              "</style>\n",
              "<table border=\"1\" class=\"dataframe\">\n",
              "  <thead>\n",
              "    <tr style=\"text-align: right;\">\n",
              "      <th></th>\n",
              "      <th>vid</th>\n",
              "    </tr>\n",
              "  </thead>\n",
              "  <tbody>\n",
              "    <tr>\n",
              "      <th>min</th>\n",
              "      <td>103102.0</td>\n",
              "    </tr>\n",
              "    <tr>\n",
              "      <th>50%</th>\n",
              "      <td>103135.0</td>\n",
              "    </tr>\n",
              "    <tr>\n",
              "      <th>max</th>\n",
              "      <td>103177.0</td>\n",
              "    </tr>\n",
              "  </tbody>\n",
              "</table>\n",
              "</div>"
            ],
            "text/plain": [
              "          vid\n",
              "min  103102.0\n",
              "50%  103135.0\n",
              "max  103177.0"
            ]
          },
          "metadata": {}
        }
      ]
    },
    {
      "cell_type": "markdown",
      "metadata": {
        "id": "LluksofRAoqa"
      },
      "source": [
        "The code below defines a testing function that we'll use to verify that your data has the same statistics as what we expect. Run these cells to define the function. The `df_allclose` function has this name because we are verifying that all of the statistics for your dataframe are close to the expected values. Why not `df_allequal`? It's a bad idea in almost all cases to compare two floating point values like 37.780435, as rounding error can cause spurious failures."
      ]
    },
    {
      "cell_type": "code",
      "metadata": {
        "id": "_wXtW5DcAoqb"
      },
      "source": [
        "\"\"\"Run this cell to load this utility comparison function that we will use in various\n",
        "tests below \n",
        "\n",
        "Do not modify the function in any way.\n",
        "\"\"\"\n",
        "\n",
        "\n",
        "def df_allclose(actual, desired, columns=None, rtol=5e-2):\n",
        "    \"\"\"Compare selected columns of two dataframes on a few summary statistics.\n",
        "    \n",
        "    Compute the min, median and max of the two dataframes on the given columns, and compare\n",
        "    that they match numerically to the given relative tolerance.\n",
        "    \n",
        "    If they don't match, an AssertionError is raised (by `numpy.testing`).\n",
        "    \"\"\"    \n",
        "    # summary statistics to compare on\n",
        "    stats = ['min', '50%', 'max']\n",
        "    \n",
        "    # For the desired values, we can provide a full DF with the same structure as\n",
        "    # the actual data, or pre-computed summary statistics.\n",
        "    # We assume a pre-computed summary was provided if columns is None. In that case, \n",
        "    # `desired` *must* have the same structure as the actual's summary\n",
        "    if columns is None:\n",
        "        des = desired\n",
        "        columns = desired.columns\n",
        "    else:\n",
        "        des = desired[columns].describe().loc[stats]\n",
        "\n",
        "    # Extract summary stats from actual DF\n",
        "    act = actual[columns].describe().loc[stats]\n",
        "\n",
        "    return np.allclose(act, des, rtol)"
      ],
      "execution_count": 10,
      "outputs": []
    },
    {
      "cell_type": "markdown",
      "metadata": {
        "id": "_wxi6x9bAoqb"
      },
      "source": [
        "<br/><br/><br/>\n",
        "\n",
        "---\n",
        "\n",
        "<br/><br/><br/>\n",
        "\n",
        "## Question 1a: Identifying Issues with the Data"
      ]
    },
    {
      "cell_type": "markdown",
      "metadata": {
        "id": "lpLoPFSiAoqc"
      },
      "source": [
        "<!-- BEGIN QUESTION -->\n",
        "\n",
        "Use the `head` command on your three files again. This time, describe at least one potential problem with the data you see. Consider issues with missing values and bad data.\n",
        "\n",
        "<!--\n",
        "BEGIN QUESTION\n",
        "name: q1a\n",
        "manual: True\n",
        "points: 1\n",
        "-->"
      ]
    },
    {
      "cell_type": "code",
      "metadata": {
        "colab": {
          "base_uri": "https://localhost:8080/",
          "height": 738
        },
        "id": "SXyzgW4AOotk",
        "outputId": "12be9ef6-d2f2-4a9d-a37b-b8162ffc4131"
      },
      "source": [
        "bus.sort_values('business id column')\n",
        "bus.head(10)"
      ],
      "execution_count": 11,
      "outputs": [
        {
          "output_type": "execute_result",
          "data": {
            "text/html": [
              "<div>\n",
              "<style scoped>\n",
              "    .dataframe tbody tr th:only-of-type {\n",
              "        vertical-align: middle;\n",
              "    }\n",
              "\n",
              "    .dataframe tbody tr th {\n",
              "        vertical-align: top;\n",
              "    }\n",
              "\n",
              "    .dataframe thead th {\n",
              "        text-align: right;\n",
              "    }\n",
              "</style>\n",
              "<table border=\"1\" class=\"dataframe\">\n",
              "  <thead>\n",
              "    <tr style=\"text-align: right;\">\n",
              "      <th></th>\n",
              "      <th>business id column</th>\n",
              "      <th>name</th>\n",
              "      <th>address</th>\n",
              "      <th>city</th>\n",
              "      <th>state</th>\n",
              "      <th>postal_code</th>\n",
              "      <th>latitude</th>\n",
              "      <th>longitude</th>\n",
              "      <th>phone_number</th>\n",
              "    </tr>\n",
              "  </thead>\n",
              "  <tbody>\n",
              "    <tr>\n",
              "      <th>0</th>\n",
              "      <td>1000</td>\n",
              "      <td>HEUNG YUEN RESTAURANT</td>\n",
              "      <td>3279 22nd St</td>\n",
              "      <td>San Francisco</td>\n",
              "      <td>CA</td>\n",
              "      <td>94110</td>\n",
              "      <td>37.755282</td>\n",
              "      <td>-122.420493</td>\n",
              "      <td>-9999</td>\n",
              "    </tr>\n",
              "    <tr>\n",
              "      <th>1</th>\n",
              "      <td>100010</td>\n",
              "      <td>ILLY CAFFE SF_PIER 39</td>\n",
              "      <td>PIER 39  K-106-B</td>\n",
              "      <td>San Francisco</td>\n",
              "      <td>CA</td>\n",
              "      <td>94133</td>\n",
              "      <td>-9999.000000</td>\n",
              "      <td>-9999.000000</td>\n",
              "      <td>14154827284</td>\n",
              "    </tr>\n",
              "    <tr>\n",
              "      <th>2</th>\n",
              "      <td>100017</td>\n",
              "      <td>AMICI'S EAST COAST PIZZERIA</td>\n",
              "      <td>475 06th St</td>\n",
              "      <td>San Francisco</td>\n",
              "      <td>CA</td>\n",
              "      <td>94103</td>\n",
              "      <td>-9999.000000</td>\n",
              "      <td>-9999.000000</td>\n",
              "      <td>14155279839</td>\n",
              "    </tr>\n",
              "    <tr>\n",
              "      <th>3</th>\n",
              "      <td>100026</td>\n",
              "      <td>LOCAL CATERING</td>\n",
              "      <td>1566 CARROLL AVE</td>\n",
              "      <td>San Francisco</td>\n",
              "      <td>CA</td>\n",
              "      <td>94124</td>\n",
              "      <td>-9999.000000</td>\n",
              "      <td>-9999.000000</td>\n",
              "      <td>14155860315</td>\n",
              "    </tr>\n",
              "    <tr>\n",
              "      <th>4</th>\n",
              "      <td>100030</td>\n",
              "      <td>OUI OUI! MACARON</td>\n",
              "      <td>2200 JERROLD AVE STE C</td>\n",
              "      <td>San Francisco</td>\n",
              "      <td>CA</td>\n",
              "      <td>94124</td>\n",
              "      <td>-9999.000000</td>\n",
              "      <td>-9999.000000</td>\n",
              "      <td>14159702675</td>\n",
              "    </tr>\n",
              "    <tr>\n",
              "      <th>5</th>\n",
              "      <td>100036</td>\n",
              "      <td>Hula Truck (#2)</td>\n",
              "      <td>2 Marina Blvd</td>\n",
              "      <td>San Francisco</td>\n",
              "      <td>CA</td>\n",
              "      <td>94123</td>\n",
              "      <td>-9999.000000</td>\n",
              "      <td>-9999.000000</td>\n",
              "      <td>-9999</td>\n",
              "    </tr>\n",
              "    <tr>\n",
              "      <th>6</th>\n",
              "      <td>100039</td>\n",
              "      <td>GENKI CREPES &amp; MINI MART</td>\n",
              "      <td>330 CLEMENT ST</td>\n",
              "      <td>San Francisco</td>\n",
              "      <td>CA</td>\n",
              "      <td>94118</td>\n",
              "      <td>-9999.000000</td>\n",
              "      <td>-9999.000000</td>\n",
              "      <td>14155376414</td>\n",
              "    </tr>\n",
              "    <tr>\n",
              "      <th>7</th>\n",
              "      <td>100041</td>\n",
              "      <td>UNCLE LEE CAFE</td>\n",
              "      <td>3608 BALBOA ST</td>\n",
              "      <td>San Francisco</td>\n",
              "      <td>CA</td>\n",
              "      <td>94121</td>\n",
              "      <td>-9999.000000</td>\n",
              "      <td>-9999.000000</td>\n",
              "      <td>-9999</td>\n",
              "    </tr>\n",
              "    <tr>\n",
              "      <th>8</th>\n",
              "      <td>100055</td>\n",
              "      <td>Twirl and Dip</td>\n",
              "      <td>335 Martin Luther King Jr. Dr</td>\n",
              "      <td>San Francisco</td>\n",
              "      <td>CA</td>\n",
              "      <td>94118</td>\n",
              "      <td>-9999.000000</td>\n",
              "      <td>-9999.000000</td>\n",
              "      <td>14155300260</td>\n",
              "    </tr>\n",
              "    <tr>\n",
              "      <th>9</th>\n",
              "      <td>100058</td>\n",
              "      <td>SF PITA HUB</td>\n",
              "      <td>475 06TH ST</td>\n",
              "      <td>San Francisco</td>\n",
              "      <td>CA</td>\n",
              "      <td>94103</td>\n",
              "      <td>-9999.000000</td>\n",
              "      <td>-9999.000000</td>\n",
              "      <td>14155642006</td>\n",
              "    </tr>\n",
              "  </tbody>\n",
              "</table>\n",
              "</div>"
            ],
            "text/plain": [
              "   business id column                         name  ...    longitude phone_number\n",
              "0                1000        HEUNG YUEN RESTAURANT  ...  -122.420493        -9999\n",
              "1              100010        ILLY CAFFE SF_PIER 39  ... -9999.000000  14154827284\n",
              "2              100017  AMICI'S EAST COAST PIZZERIA  ... -9999.000000  14155279839\n",
              "3              100026               LOCAL CATERING  ... -9999.000000  14155860315\n",
              "4              100030             OUI OUI! MACARON  ... -9999.000000  14159702675\n",
              "5              100036              Hula Truck (#2)  ... -9999.000000        -9999\n",
              "6              100039     GENKI CREPES & MINI MART  ... -9999.000000  14155376414\n",
              "7              100041               UNCLE LEE CAFE  ... -9999.000000        -9999\n",
              "8              100055                Twirl and Dip  ... -9999.000000  14155300260\n",
              "9              100058                  SF PITA HUB  ... -9999.000000  14155642006\n",
              "\n",
              "[10 rows x 9 columns]"
            ]
          },
          "metadata": {},
          "execution_count": 11
        }
      ]
    },
    {
      "cell_type": "markdown",
      "metadata": {
        "id": "Z9phiTw2X9lu"
      },
      "source": [
        "Ans: We can see that some of the blocks are of different range than most of the data so that we can infer there exist missing values. Such as: some \"-9999\" in phone_number column and some \"-9999.000000\" in latitude and longitude column. And also, there exists some bad data, like we sort the business id column and find there exists a \"1000\", by observing the other values we believe it should be a loss of the last two digits."
      ]
    },
    {
      "cell_type": "code",
      "metadata": {
        "colab": {
          "base_uri": "https://localhost:8080/",
          "height": 360
        },
        "id": "La4RxdhDOrT5",
        "outputId": "2ec1bb7f-c8c9-4e4c-fcd5-09671b2fec22"
      },
      "source": [
        "ins.head(10)"
      ],
      "execution_count": 12,
      "outputs": [
        {
          "output_type": "execute_result",
          "data": {
            "text/html": [
              "<div>\n",
              "<style scoped>\n",
              "    .dataframe tbody tr th:only-of-type {\n",
              "        vertical-align: middle;\n",
              "    }\n",
              "\n",
              "    .dataframe tbody tr th {\n",
              "        vertical-align: top;\n",
              "    }\n",
              "\n",
              "    .dataframe thead th {\n",
              "        text-align: right;\n",
              "    }\n",
              "</style>\n",
              "<table border=\"1\" class=\"dataframe\">\n",
              "  <thead>\n",
              "    <tr style=\"text-align: right;\">\n",
              "      <th></th>\n",
              "      <th>iid</th>\n",
              "      <th>date</th>\n",
              "      <th>score</th>\n",
              "      <th>type</th>\n",
              "    </tr>\n",
              "  </thead>\n",
              "  <tbody>\n",
              "    <tr>\n",
              "      <th>0</th>\n",
              "      <td>100010_20190329</td>\n",
              "      <td>03/29/2019 12:00:00 AM</td>\n",
              "      <td>-1</td>\n",
              "      <td>New Construction</td>\n",
              "    </tr>\n",
              "    <tr>\n",
              "      <th>1</th>\n",
              "      <td>100010_20190403</td>\n",
              "      <td>04/03/2019 12:00:00 AM</td>\n",
              "      <td>100</td>\n",
              "      <td>Routine - Unscheduled</td>\n",
              "    </tr>\n",
              "    <tr>\n",
              "      <th>2</th>\n",
              "      <td>100017_20190417</td>\n",
              "      <td>04/17/2019 12:00:00 AM</td>\n",
              "      <td>-1</td>\n",
              "      <td>New Ownership</td>\n",
              "    </tr>\n",
              "    <tr>\n",
              "      <th>3</th>\n",
              "      <td>100017_20190816</td>\n",
              "      <td>08/16/2019 12:00:00 AM</td>\n",
              "      <td>91</td>\n",
              "      <td>Routine - Unscheduled</td>\n",
              "    </tr>\n",
              "    <tr>\n",
              "      <th>4</th>\n",
              "      <td>100017_20190826</td>\n",
              "      <td>08/26/2019 12:00:00 AM</td>\n",
              "      <td>-1</td>\n",
              "      <td>Reinspection/Followup</td>\n",
              "    </tr>\n",
              "    <tr>\n",
              "      <th>5</th>\n",
              "      <td>100017_20190912</td>\n",
              "      <td>09/12/2019 12:00:00 AM</td>\n",
              "      <td>-1</td>\n",
              "      <td>Reinspection/Followup</td>\n",
              "    </tr>\n",
              "    <tr>\n",
              "      <th>6</th>\n",
              "      <td>100026_20190418</td>\n",
              "      <td>04/18/2019 12:00:00 AM</td>\n",
              "      <td>-1</td>\n",
              "      <td>New Ownership</td>\n",
              "    </tr>\n",
              "    <tr>\n",
              "      <th>7</th>\n",
              "      <td>100030_20190612</td>\n",
              "      <td>06/12/2019 12:00:00 AM</td>\n",
              "      <td>-1</td>\n",
              "      <td>New Ownership</td>\n",
              "    </tr>\n",
              "    <tr>\n",
              "      <th>8</th>\n",
              "      <td>100030_20190826</td>\n",
              "      <td>08/26/2019 12:00:00 AM</td>\n",
              "      <td>-1</td>\n",
              "      <td>New Ownership</td>\n",
              "    </tr>\n",
              "    <tr>\n",
              "      <th>9</th>\n",
              "      <td>100036_20190325</td>\n",
              "      <td>03/25/2019 12:00:00 AM</td>\n",
              "      <td>-1</td>\n",
              "      <td>Structural Inspection</td>\n",
              "    </tr>\n",
              "  </tbody>\n",
              "</table>\n",
              "</div>"
            ],
            "text/plain": [
              "               iid                    date  score                   type\n",
              "0  100010_20190329  03/29/2019 12:00:00 AM     -1       New Construction\n",
              "1  100010_20190403  04/03/2019 12:00:00 AM    100  Routine - Unscheduled\n",
              "2  100017_20190417  04/17/2019 12:00:00 AM     -1          New Ownership\n",
              "3  100017_20190816  08/16/2019 12:00:00 AM     91  Routine - Unscheduled\n",
              "4  100017_20190826  08/26/2019 12:00:00 AM     -1  Reinspection/Followup\n",
              "5  100017_20190912  09/12/2019 12:00:00 AM     -1  Reinspection/Followup\n",
              "6  100026_20190418  04/18/2019 12:00:00 AM     -1          New Ownership\n",
              "7  100030_20190612  06/12/2019 12:00:00 AM     -1          New Ownership\n",
              "8  100030_20190826  08/26/2019 12:00:00 AM     -1          New Ownership\n",
              "9  100036_20190325  03/25/2019 12:00:00 AM     -1  Structural Inspection"
            ]
          },
          "metadata": {},
          "execution_count": 12
        }
      ]
    },
    {
      "cell_type": "markdown",
      "metadata": {
        "id": "fPrk9K9ZaJtv"
      },
      "source": [
        "Also, here in ins file, we believe the score of \"-1\" should be a replace ment for the missing data."
      ]
    },
    {
      "cell_type": "code",
      "metadata": {
        "colab": {
          "base_uri": "https://localhost:8080/",
          "height": 360
        },
        "id": "FsncAqjGOvH0",
        "outputId": "c39e43f7-b3d4-4713-a04d-4e0d6427eca4"
      },
      "source": [
        "vio.sort_values('vid')\n",
        "vio.head(10)"
      ],
      "execution_count": 13,
      "outputs": [
        {
          "output_type": "execute_result",
          "data": {
            "text/html": [
              "<div>\n",
              "<style scoped>\n",
              "    .dataframe tbody tr th:only-of-type {\n",
              "        vertical-align: middle;\n",
              "    }\n",
              "\n",
              "    .dataframe tbody tr th {\n",
              "        vertical-align: top;\n",
              "    }\n",
              "\n",
              "    .dataframe thead th {\n",
              "        text-align: right;\n",
              "    }\n",
              "</style>\n",
              "<table border=\"1\" class=\"dataframe\">\n",
              "  <thead>\n",
              "    <tr style=\"text-align: right;\">\n",
              "      <th></th>\n",
              "      <th>description</th>\n",
              "      <th>risk_category</th>\n",
              "      <th>vid</th>\n",
              "    </tr>\n",
              "  </thead>\n",
              "  <tbody>\n",
              "    <tr>\n",
              "      <th>0</th>\n",
              "      <td>Consumer advisory not provided for raw or unde...</td>\n",
              "      <td>Moderate Risk</td>\n",
              "      <td>103128</td>\n",
              "    </tr>\n",
              "    <tr>\n",
              "      <th>1</th>\n",
              "      <td>Contaminated or adulterated food</td>\n",
              "      <td>High Risk</td>\n",
              "      <td>103108</td>\n",
              "    </tr>\n",
              "    <tr>\n",
              "      <th>2</th>\n",
              "      <td>Discharge from employee nose mouth or eye</td>\n",
              "      <td>Moderate Risk</td>\n",
              "      <td>103117</td>\n",
              "    </tr>\n",
              "    <tr>\n",
              "      <th>3</th>\n",
              "      <td>Employee eating or smoking</td>\n",
              "      <td>Moderate Risk</td>\n",
              "      <td>103118</td>\n",
              "    </tr>\n",
              "    <tr>\n",
              "      <th>4</th>\n",
              "      <td>Food in poor condition</td>\n",
              "      <td>Moderate Risk</td>\n",
              "      <td>103123</td>\n",
              "    </tr>\n",
              "    <tr>\n",
              "      <th>5</th>\n",
              "      <td>Food safety certificate or food handler card n...</td>\n",
              "      <td>Low Risk</td>\n",
              "      <td>103157</td>\n",
              "    </tr>\n",
              "    <tr>\n",
              "      <th>6</th>\n",
              "      <td>Foods not protected from contamination</td>\n",
              "      <td>Moderate Risk</td>\n",
              "      <td>103133</td>\n",
              "    </tr>\n",
              "    <tr>\n",
              "      <th>7</th>\n",
              "      <td>High risk food holding temperature</td>\n",
              "      <td>High Risk</td>\n",
              "      <td>103103</td>\n",
              "    </tr>\n",
              "    <tr>\n",
              "      <th>8</th>\n",
              "      <td>High risk vermin infestation</td>\n",
              "      <td>High Risk</td>\n",
              "      <td>103114</td>\n",
              "    </tr>\n",
              "    <tr>\n",
              "      <th>9</th>\n",
              "      <td>Improper cooking time or temperatures</td>\n",
              "      <td>High Risk</td>\n",
              "      <td>103106</td>\n",
              "    </tr>\n",
              "  </tbody>\n",
              "</table>\n",
              "</div>"
            ],
            "text/plain": [
              "                                         description  risk_category     vid\n",
              "0  Consumer advisory not provided for raw or unde...  Moderate Risk  103128\n",
              "1                   Contaminated or adulterated food      High Risk  103108\n",
              "2          Discharge from employee nose mouth or eye  Moderate Risk  103117\n",
              "3                         Employee eating or smoking  Moderate Risk  103118\n",
              "4                             Food in poor condition  Moderate Risk  103123\n",
              "5  Food safety certificate or food handler card n...       Low Risk  103157\n",
              "6             Foods not protected from contamination  Moderate Risk  103133\n",
              "7                 High risk food holding temperature      High Risk  103103\n",
              "8                       High risk vermin infestation      High Risk  103114\n",
              "9              Improper cooking time or temperatures      High Risk  103106"
            ]
          },
          "metadata": {},
          "execution_count": 13
        }
      ]
    },
    {
      "cell_type": "markdown",
      "metadata": {
        "id": "SwU5v4eZbmBS"
      },
      "source": [
        "There seems to be no missing value or bad/wrong data in vio at the first glance, but we still need to furtherly explore."
      ]
    },
    {
      "cell_type": "markdown",
      "metadata": {
        "id": "ikGKukeIAoqc"
      },
      "source": [
        "<!-- END QUESTION -->\n",
        "\n",
        "\n",
        "\n",
        "We will explore each file in turn, including determining its granularity and primary keys and exploring many of the variables individually. Let's begin with the businesses file, which has been read into the `bus` dataframe."
      ]
    },
    {
      "cell_type": "markdown",
      "metadata": {
        "id": "iWWnDpdGAoqd"
      },
      "source": [
        "<br/><br/><br/>\n",
        "\n",
        "---\n",
        "\n",
        "<br/><br/><br/>\n",
        "\n",
        "## Question 1b: Examining the Business Data File"
      ]
    },
    {
      "cell_type": "markdown",
      "metadata": {
        "id": "gwd8D8-iAoqd"
      },
      "source": [
        "From its name alone, we expect the `bus.csv` file to contain information about the restaurants. Let's investigate the granularity of this dataset."
      ]
    },
    {
      "cell_type": "code",
      "metadata": {
        "colab": {
          "base_uri": "https://localhost:8080/",
          "height": 412
        },
        "id": "pjG83ESIAoqd",
        "outputId": "f9fd801f-8930-464f-a1d3-2bbdc937200a"
      },
      "source": [
        "bus.head()"
      ],
      "execution_count": 14,
      "outputs": [
        {
          "output_type": "execute_result",
          "data": {
            "text/html": [
              "<div>\n",
              "<style scoped>\n",
              "    .dataframe tbody tr th:only-of-type {\n",
              "        vertical-align: middle;\n",
              "    }\n",
              "\n",
              "    .dataframe tbody tr th {\n",
              "        vertical-align: top;\n",
              "    }\n",
              "\n",
              "    .dataframe thead th {\n",
              "        text-align: right;\n",
              "    }\n",
              "</style>\n",
              "<table border=\"1\" class=\"dataframe\">\n",
              "  <thead>\n",
              "    <tr style=\"text-align: right;\">\n",
              "      <th></th>\n",
              "      <th>business id column</th>\n",
              "      <th>name</th>\n",
              "      <th>address</th>\n",
              "      <th>city</th>\n",
              "      <th>state</th>\n",
              "      <th>postal_code</th>\n",
              "      <th>latitude</th>\n",
              "      <th>longitude</th>\n",
              "      <th>phone_number</th>\n",
              "    </tr>\n",
              "  </thead>\n",
              "  <tbody>\n",
              "    <tr>\n",
              "      <th>0</th>\n",
              "      <td>1000</td>\n",
              "      <td>HEUNG YUEN RESTAURANT</td>\n",
              "      <td>3279 22nd St</td>\n",
              "      <td>San Francisco</td>\n",
              "      <td>CA</td>\n",
              "      <td>94110</td>\n",
              "      <td>37.755282</td>\n",
              "      <td>-122.420493</td>\n",
              "      <td>-9999</td>\n",
              "    </tr>\n",
              "    <tr>\n",
              "      <th>1</th>\n",
              "      <td>100010</td>\n",
              "      <td>ILLY CAFFE SF_PIER 39</td>\n",
              "      <td>PIER 39  K-106-B</td>\n",
              "      <td>San Francisco</td>\n",
              "      <td>CA</td>\n",
              "      <td>94133</td>\n",
              "      <td>-9999.000000</td>\n",
              "      <td>-9999.000000</td>\n",
              "      <td>14154827284</td>\n",
              "    </tr>\n",
              "    <tr>\n",
              "      <th>2</th>\n",
              "      <td>100017</td>\n",
              "      <td>AMICI'S EAST COAST PIZZERIA</td>\n",
              "      <td>475 06th St</td>\n",
              "      <td>San Francisco</td>\n",
              "      <td>CA</td>\n",
              "      <td>94103</td>\n",
              "      <td>-9999.000000</td>\n",
              "      <td>-9999.000000</td>\n",
              "      <td>14155279839</td>\n",
              "    </tr>\n",
              "    <tr>\n",
              "      <th>3</th>\n",
              "      <td>100026</td>\n",
              "      <td>LOCAL CATERING</td>\n",
              "      <td>1566 CARROLL AVE</td>\n",
              "      <td>San Francisco</td>\n",
              "      <td>CA</td>\n",
              "      <td>94124</td>\n",
              "      <td>-9999.000000</td>\n",
              "      <td>-9999.000000</td>\n",
              "      <td>14155860315</td>\n",
              "    </tr>\n",
              "    <tr>\n",
              "      <th>4</th>\n",
              "      <td>100030</td>\n",
              "      <td>OUI OUI! MACARON</td>\n",
              "      <td>2200 JERROLD AVE STE C</td>\n",
              "      <td>San Francisco</td>\n",
              "      <td>CA</td>\n",
              "      <td>94124</td>\n",
              "      <td>-9999.000000</td>\n",
              "      <td>-9999.000000</td>\n",
              "      <td>14159702675</td>\n",
              "    </tr>\n",
              "  </tbody>\n",
              "</table>\n",
              "</div>"
            ],
            "text/plain": [
              "   business id column                         name  ...    longitude phone_number\n",
              "0                1000        HEUNG YUEN RESTAURANT  ...  -122.420493        -9999\n",
              "1              100010        ILLY CAFFE SF_PIER 39  ... -9999.000000  14154827284\n",
              "2              100017  AMICI'S EAST COAST PIZZERIA  ... -9999.000000  14155279839\n",
              "3              100026               LOCAL CATERING  ... -9999.000000  14155860315\n",
              "4              100030             OUI OUI! MACARON  ... -9999.000000  14159702675\n",
              "\n",
              "[5 rows x 9 columns]"
            ]
          },
          "metadata": {},
          "execution_count": 14
        }
      ]
    },
    {
      "cell_type": "markdown",
      "metadata": {
        "id": "NDInSfc6Aoqd"
      },
      "source": [
        "The `bus` dataframe contains a column called `business id column` which probably corresponds to a unique business id.  However, we will first rename that column to `bid` for simplicity.\n"
      ]
    },
    {
      "cell_type": "code",
      "metadata": {
        "id": "5ro-Bae4Aoqe"
      },
      "source": [
        "bus = bus.rename(columns={\"business id column\": \"bid\"})"
      ],
      "execution_count": 15,
      "outputs": []
    },
    {
      "cell_type": "markdown",
      "metadata": {
        "id": "IDqxGYtBAoqe"
      },
      "source": [
        "Examining the entries in `bus`, is the `bid` unique for each record (i.e. each row of data)? Your code should compute the answer, i.e. don't just hard code `True` or `False`.\n",
        "\n",
        "Hint: use `value_counts()` or `unique()` to determine if the `bid` series has any duplicates.\n",
        "\n",
        "<!--\n",
        "BEGIN QUESTION\n",
        "name: q1b\n",
        "points: 1\n",
        "-->"
      ]
    },
    {
      "cell_type": "code",
      "metadata": {
        "colab": {
          "base_uri": "https://localhost:8080/"
        },
        "id": "a9jbNvcGAoqe",
        "outputId": "bdb1414b-494c-4dfa-c20a-d95ff9299cc6"
      },
      "source": [
        "count = bus.value_counts('bid')\n",
        "is_bid_unique = sum(count) == len(count)\n",
        "is_bid_unique"
      ],
      "execution_count": 16,
      "outputs": [
        {
          "output_type": "execute_result",
          "data": {
            "text/plain": [
              "True"
            ]
          },
          "metadata": {},
          "execution_count": 16
        }
      ]
    },
    {
      "cell_type": "markdown",
      "metadata": {
        "id": "WSCOkkceeqwv"
      },
      "source": [
        "Or to use attribute unique():"
      ]
    },
    {
      "cell_type": "code",
      "metadata": {
        "colab": {
          "base_uri": "https://localhost:8080/"
        },
        "id": "f-g-YoI4ep1r",
        "outputId": "341eaec8-e4aa-4759-e38e-ae920e19ee50"
      },
      "source": [
        "is_bid_unique = len(pd.unique(bus.bid)) == len(bus.bid)\n",
        "is_bid_unique"
      ],
      "execution_count": 17,
      "outputs": [
        {
          "output_type": "execute_result",
          "data": {
            "text/plain": [
              "True"
            ]
          },
          "metadata": {},
          "execution_count": 17
        }
      ]
    },
    {
      "cell_type": "markdown",
      "metadata": {
        "id": "Biphwd1WAoqe"
      },
      "source": [
        "<br/><br/><br/>\n",
        "\n",
        "---\n",
        "\n",
        "\n",
        "## Question 1c\n",
        "\n",
        "We will now work with some important fields in `bus`. In the two cells below create the following **two numpy arrays**:\n",
        "\n",
        "1. Assign `top_names` to the top 5 most frequently used business names, from most frequent to least frequent.\n",
        "2. Assign `top_addresses` to the top 5 addressses where businesses are located, from most popular to least popular.\n",
        "\n",
        "Hint: you may find `value_counts()` helpful. \n",
        "\n",
        "**Step 1**\n",
        "\n",
        "<!--\n",
        "BEGIN QUESTION\n",
        "name: q1c\n",
        "points: 2\n",
        "-->"
      ]
    },
    {
      "cell_type": "code",
      "metadata": {
        "colab": {
          "base_uri": "https://localhost:8080/"
        },
        "id": "2Tu_BmDTAoqe",
        "outputId": "496c394c-4f7f-4f39-f34e-a70ae7c9d5ac"
      },
      "source": [
        "frq_use = bus.value_counts('name')\n",
        "top_names = list(frq_use.head(5).index)\n",
        "\n",
        "frq_addr = bus.value_counts('address')\n",
        "top_addresses = list(frq_addr.head(5).index)\n",
        "\n",
        "top_names, top_addresses"
      ],
      "execution_count": 18,
      "outputs": [
        {
          "output_type": "execute_result",
          "data": {
            "text/plain": [
              "([\"Peet's Coffee & Tea\",\n",
              "  'Starbucks Coffee',\n",
              "  'Jamba Juice',\n",
              "  \"McDonald's\",\n",
              "  'STARBUCKS'],\n",
              " ['Off The Grid', '428 11th St', '3251 20th Ave', '2948 Folsom St', 'Pier 41'])"
            ]
          },
          "metadata": {},
          "execution_count": 18
        }
      ]
    },
    {
      "cell_type": "markdown",
      "metadata": {
        "id": "aNbaEA3-Aoqe"
      },
      "source": [
        "<br/><br/><br/>\n",
        "\n",
        "---\n",
        "\n",
        "\n",
        "## Question 1d\n",
        "\n",
        "Based on the above exploration, answer each of the following questions about `bus` by assigning your answers to the corresponding variables\n",
        "\n",
        "1. What does each record represent?  \n",
        "1. What is the minimal primary key?\n",
        "\n",
        "<!--\n",
        "BEGIN QUESTION\n",
        "name: q1d\n",
        "points: 2\n",
        "-->"
      ]
    },
    {
      "cell_type": "code",
      "metadata": {
        "id": "7ms4MULEAoqf"
      },
      "source": [
        "# What does each record represent?  Valid answers are:\n",
        "#    \"One location of a restaurant.\"\n",
        "#    \"A chain of restaurants.\"\n",
        "#    \"A city block.\"\n",
        "q1d_part1 = \"One location of a restaurant.\"\n",
        "\n",
        "# What is the minimal primary key? Valid answers are:\n",
        "#    \"bid\"\n",
        "#    \"bid, name\"\n",
        "#    \"bid, name, address\"\n",
        "q1d_part2 = \"bid\""
      ],
      "execution_count": 19,
      "outputs": []
    },
    {
      "cell_type": "markdown",
      "metadata": {
        "id": "2Wsi4ilQAoqf"
      },
      "source": [
        "\n",
        "\n",
        "# 2: Cleaning the Business Data Postal Codes\n",
        "\n",
        "The business data contains postal code information that we can use to aggregate the ratings over regions of the city.  Let's examine and clean the postal code field.  The postal code (sometimes also called a ZIP code) partitions the city into regions:\n",
        "\n",
        "<img src=\"https://www.usmapguide.com/wp-content/uploads/2019/03/printable-san-francisco-zip-code-map.jpg\" alt=\"ZIP Code Map\" style=\"width: 600px\">"
      ]
    },
    {
      "cell_type": "markdown",
      "metadata": {
        "id": "jTsmp9-VAoqf"
      },
      "source": [
        "<br/><br/><br/>\n",
        "\n",
        "---\n",
        "\n",
        "\n",
        "## Question 2a\n",
        "\n",
        "How many restaurants are in each ZIP code? \n",
        "\n",
        "In the cell below, create a **series** where the index is the postal code and the value is the number of records with that postal code in descending order of count. You may need to use `groupby()`, `size()`, or `value_counts()`. Do you notice any odd/invalid zip codes?\n",
        "\n",
        "<!--\n",
        "BEGIN QUESTION\n",
        "name: q2a\n",
        "points: 2\n",
        "-->"
      ]
    },
    {
      "cell_type": "code",
      "metadata": {
        "colab": {
          "base_uri": "https://localhost:8080/"
        },
        "id": "Wv3aAdGzF9p8",
        "outputId": "57a3e474-7288-4b90-efd9-fec6c8387c87"
      },
      "source": [
        "zip_counts = bus.value_counts('postal_code')\n",
        "print(zip_counts.to_string())"
      ],
      "execution_count": 20,
      "outputs": [
        {
          "output_type": "stream",
          "name": "stdout",
          "text": [
            "postal_code\n",
            "94103         562\n",
            "94110         555\n",
            "94102         456\n",
            "94107         408\n",
            "94133         398\n",
            "94109         382\n",
            "94111         259\n",
            "94122         255\n",
            "94105         249\n",
            "94118         231\n",
            "94115         230\n",
            "94108         229\n",
            "94124         218\n",
            "94114         200\n",
            "-9999         194\n",
            "94112         192\n",
            "94117         189\n",
            "94123         177\n",
            "94121         157\n",
            "94104         142\n",
            "94132         132\n",
            "94116          97\n",
            "94158          90\n",
            "94134          82\n",
            "94127          67\n",
            "94131          49\n",
            "94130           8\n",
            "94143           5\n",
            "94013           2\n",
            "94188           2\n",
            "CA              2\n",
            "94301           2\n",
            "94101           2\n",
            "95122           1\n",
            "941033148       1\n",
            "95133           1\n",
            "95132           1\n",
            "94102-5917      1\n",
            "94014           1\n",
            "941             1\n",
            "94080           1\n",
            "94105-2907      1\n",
            "92672           1\n",
            "64110           1\n",
            "00000           1\n",
            "94105-1420      1\n",
            "941102019       1\n",
            "95117           1\n",
            "95112           1\n",
            "95109           1\n",
            "95105           1\n",
            "94901           1\n",
            "94621           1\n",
            "94602           1\n",
            "94544           1\n",
            "94518           1\n",
            "94117-3504      1\n",
            "94120           1\n",
            "94122-1909      1\n",
            "94123-3106      1\n",
            "94124-1917      1\n",
            "94129           1\n",
            "Ca              1\n"
          ]
        }
      ]
    },
    {
      "cell_type": "markdown",
      "metadata": {
        "id": "kEn-P94zG1Z_"
      },
      "source": [
        "There exist some odd or invalid postal codes like \"CA\",\"Ca\", which are like miswritings, and also exists \"-9999\" values, they should be missing data replacement. And there also exist invaid code like \"94123-3106\", it contains some subcodes. And also, some displayed postal codes are not given in above map, which may be invalid or of other regions."
      ]
    },
    {
      "cell_type": "markdown",
      "metadata": {
        "id": "fdkp5FKGAoqf"
      },
      "source": [
        "\n",
        "## Question 2b\n",
        "\n",
        "Answer the following questions about the `postal_code` column in the `bus` dataframe.\n",
        "\n",
        "1. The ZIP code column is which of the following type of data:\n",
        "    1. Quantitative Continuous\n",
        "    1. Quantitative Discrete\n",
        "    1. Qualitative Ordinal\n",
        "    1. Qualitative Nominal    \n",
        "1. What Python data type is used to represent a ZIP code?\n",
        "\n",
        "*Note*: ZIP codes and postal codes are the same thing.\n",
        "\n",
        "Please write your answers in the variables below:\n",
        "\n",
        "<!--\n",
        "BEGIN QUESTION\n",
        "name: q2b\n",
        "points: 2\n",
        "-->"
      ]
    },
    {
      "cell_type": "code",
      "metadata": {
        "id": "n5LUY3Z9Aoqf"
      },
      "source": [
        "# The ZIP code column is which of the following type of data:\n",
        "#   \"Quantitative Continuous\" \n",
        "#   \"Quantitative Discrete\"\n",
        "#   \"Qualitative Ordinal\"\n",
        "#   \"Qualitative Nominal\"\n",
        "q2b_part1 = \"Qualitative Nominal\"\n",
        "\n",
        "# What Python data type is used to represent a ZIP code? \n",
        "#    \"str\"\n",
        "#    \"int\"\n",
        "#    \"bool\"\n",
        "#    \"float\"\n",
        "q2b_part2 = \"str\""
      ],
      "execution_count": 21,
      "outputs": []
    },
    {
      "cell_type": "markdown",
      "metadata": {
        "id": "-OWyhL3WAoqg"
      },
      "source": [
        "<br/><br/><br/>\n",
        "\n",
        "--- \n",
        "\n",
        "## Question 2c\n",
        "\n",
        "In question 2a we noticed a large number of potentially invalid ZIP codes (e.g., \"Ca\").  These are likely due to data entry errors.  To get a better understanding of the potential errors in the zip codes we will:\n",
        "\n",
        "1. Import a list of valid San Francisco ZIP codes by using `pd.read_json` to load the file `data/sf_zipcodes.json` and extract a **series** of type `str` containing the valid ZIP codes.  *Hint: set `dtype` when invoking `read_json`.*\n",
        "1. Construct a `DataFrame` containing only the businesses which DO NOT have valid ZIP codes.  You will probably want to use the `Series.isin` function. \n"
      ]
    },
    {
      "cell_type": "markdown",
      "metadata": {
        "id": "6VsHDa1bAoqg"
      },
      "source": [
        "**Step 1**\n",
        "\n",
        "<!--\n",
        "BEGIN QUESTION\n",
        "name: q2ci\n",
        "points: 1\n",
        "-->"
      ]
    },
    {
      "cell_type": "code",
      "metadata": {
        "colab": {
          "base_uri": "https://localhost:8080/"
        },
        "id": "_trZ8W3QAoqg",
        "outputId": "d99a25af-8674-4a84-84e4-ae4b2dddca9a"
      },
      "source": [
        "valid_zips = pd.read_json('/content/drive/My Drive/data/sf_zipcodes.json',dtype = 'str').zip_codes\n",
        "valid_zips.head()"
      ],
      "execution_count": 22,
      "outputs": [
        {
          "output_type": "execute_result",
          "data": {
            "text/plain": [
              "0    94102\n",
              "1    94103\n",
              "2    94104\n",
              "3    94105\n",
              "4    94107\n",
              "Name: zip_codes, dtype: object"
            ]
          },
          "metadata": {},
          "execution_count": 22
        }
      ]
    },
    {
      "cell_type": "markdown",
      "metadata": {
        "id": "wy7rAiXeAoqg"
      },
      "source": [
        "**Step 2**\n",
        "\n",
        "<!--\n",
        "BEGIN QUESTION\n",
        "name: q2cii\n",
        "points: 1\n",
        "-->"
      ]
    },
    {
      "cell_type": "code",
      "metadata": {
        "colab": {
          "base_uri": "https://localhost:8080/",
          "height": 1000
        },
        "id": "RdGLFYjRAoqg",
        "outputId": "d4859cb6-8048-4646-b3e0-e52954923052"
      },
      "source": [
        "invalid_zip_bus = bus.loc[bus['postal_code'].isin(valid_zips) == False]\n",
        "invalid_zip_bus.head(20) "
      ],
      "execution_count": 23,
      "outputs": [
        {
          "output_type": "execute_result",
          "data": {
            "text/html": [
              "<div>\n",
              "<style scoped>\n",
              "    .dataframe tbody tr th:only-of-type {\n",
              "        vertical-align: middle;\n",
              "    }\n",
              "\n",
              "    .dataframe tbody tr th {\n",
              "        vertical-align: top;\n",
              "    }\n",
              "\n",
              "    .dataframe thead th {\n",
              "        text-align: right;\n",
              "    }\n",
              "</style>\n",
              "<table border=\"1\" class=\"dataframe\">\n",
              "  <thead>\n",
              "    <tr style=\"text-align: right;\">\n",
              "      <th></th>\n",
              "      <th>bid</th>\n",
              "      <th>name</th>\n",
              "      <th>address</th>\n",
              "      <th>city</th>\n",
              "      <th>state</th>\n",
              "      <th>postal_code</th>\n",
              "      <th>latitude</th>\n",
              "      <th>longitude</th>\n",
              "      <th>phone_number</th>\n",
              "    </tr>\n",
              "  </thead>\n",
              "  <tbody>\n",
              "    <tr>\n",
              "      <th>22</th>\n",
              "      <td>100126</td>\n",
              "      <td>Lamas Peruvian Food Truck</td>\n",
              "      <td>Private Location</td>\n",
              "      <td>San Francisco</td>\n",
              "      <td>CA</td>\n",
              "      <td>-9999</td>\n",
              "      <td>-9999.000000</td>\n",
              "      <td>-9999.000000</td>\n",
              "      <td>-9999</td>\n",
              "    </tr>\n",
              "    <tr>\n",
              "      <th>68</th>\n",
              "      <td>100417</td>\n",
              "      <td>COMPASS ONE, LLC</td>\n",
              "      <td>1 MARKET ST. FL</td>\n",
              "      <td>San Francisco</td>\n",
              "      <td>CA</td>\n",
              "      <td>94105-1420</td>\n",
              "      <td>-9999.000000</td>\n",
              "      <td>-9999.000000</td>\n",
              "      <td>14154324000</td>\n",
              "    </tr>\n",
              "    <tr>\n",
              "      <th>96</th>\n",
              "      <td>100660</td>\n",
              "      <td>TEAPENTER</td>\n",
              "      <td>1518 IRVING ST</td>\n",
              "      <td>San Francisco</td>\n",
              "      <td>CA</td>\n",
              "      <td>94122-1909</td>\n",
              "      <td>-9999.000000</td>\n",
              "      <td>-9999.000000</td>\n",
              "      <td>14155868318</td>\n",
              "    </tr>\n",
              "    <tr>\n",
              "      <th>109</th>\n",
              "      <td>100781</td>\n",
              "      <td>LE CAFE DU SOLEIL</td>\n",
              "      <td>200 FILLMORE ST</td>\n",
              "      <td>San Francisco</td>\n",
              "      <td>CA</td>\n",
              "      <td>94117-3504</td>\n",
              "      <td>-9999.000000</td>\n",
              "      <td>-9999.000000</td>\n",
              "      <td>14155614215</td>\n",
              "    </tr>\n",
              "    <tr>\n",
              "      <th>144</th>\n",
              "      <td>101084</td>\n",
              "      <td>Deli North 200</td>\n",
              "      <td>1 Warriors Way Level 300 North East</td>\n",
              "      <td>San Francisco</td>\n",
              "      <td>CA</td>\n",
              "      <td>94518</td>\n",
              "      <td>-9999.000000</td>\n",
              "      <td>-9999.000000</td>\n",
              "      <td>-9999</td>\n",
              "    </tr>\n",
              "    <tr>\n",
              "      <th>156</th>\n",
              "      <td>101129</td>\n",
              "      <td>Vendor Room 200</td>\n",
              "      <td>1 Warriors Way Level 300 South West</td>\n",
              "      <td>San Francisco</td>\n",
              "      <td>CA</td>\n",
              "      <td>-9999</td>\n",
              "      <td>-9999.000000</td>\n",
              "      <td>-9999.000000</td>\n",
              "      <td>-9999</td>\n",
              "    </tr>\n",
              "    <tr>\n",
              "      <th>177</th>\n",
              "      <td>101192</td>\n",
              "      <td>Cochinita #2</td>\n",
              "      <td>2 Marina Blvd Fort Mason</td>\n",
              "      <td>San Francisco</td>\n",
              "      <td>CA</td>\n",
              "      <td>-9999</td>\n",
              "      <td>-9999.000000</td>\n",
              "      <td>-9999.000000</td>\n",
              "      <td>14150429222</td>\n",
              "    </tr>\n",
              "    <tr>\n",
              "      <th>276</th>\n",
              "      <td>102014</td>\n",
              "      <td>DROPBOX (Section 3, Floor 7)</td>\n",
              "      <td>1800 Owens St</td>\n",
              "      <td>San Francisco</td>\n",
              "      <td>CA</td>\n",
              "      <td>-9999</td>\n",
              "      <td>-9999.000000</td>\n",
              "      <td>-9999.000000</td>\n",
              "      <td>-9999</td>\n",
              "    </tr>\n",
              "    <tr>\n",
              "      <th>295</th>\n",
              "      <td>102245</td>\n",
              "      <td>Vessell CA Operations (#4)</td>\n",
              "      <td>2351 Mission St</td>\n",
              "      <td>San Francisco</td>\n",
              "      <td>CA</td>\n",
              "      <td>-9999</td>\n",
              "      <td>-9999.000000</td>\n",
              "      <td>-9999.000000</td>\n",
              "      <td>-9999</td>\n",
              "    </tr>\n",
              "    <tr>\n",
              "      <th>298</th>\n",
              "      <td>10227</td>\n",
              "      <td>The Napper Tandy</td>\n",
              "      <td>3200 24th St</td>\n",
              "      <td>San Francisco</td>\n",
              "      <td>CA</td>\n",
              "      <td>-9999</td>\n",
              "      <td>37.752581</td>\n",
              "      <td>-122.416482</td>\n",
              "      <td>-9999</td>\n",
              "    </tr>\n",
              "    <tr>\n",
              "      <th>320</th>\n",
              "      <td>10372</td>\n",
              "      <td>BERNAL HEIGHTS NEIGBORHOOD CENTER</td>\n",
              "      <td>515 CORTLAND AVE</td>\n",
              "      <td>San Francisco</td>\n",
              "      <td>CA</td>\n",
              "      <td>-9999</td>\n",
              "      <td>37.739110</td>\n",
              "      <td>-122.416404</td>\n",
              "      <td>14155202142</td>\n",
              "    </tr>\n",
              "    <tr>\n",
              "      <th>321</th>\n",
              "      <td>10373</td>\n",
              "      <td>El Tonayense #1</td>\n",
              "      <td>1717 Harrison St</td>\n",
              "      <td>San Francisco</td>\n",
              "      <td>CA</td>\n",
              "      <td>-9999</td>\n",
              "      <td>37.769426</td>\n",
              "      <td>-122.413446</td>\n",
              "      <td>14155556127</td>\n",
              "    </tr>\n",
              "    <tr>\n",
              "      <th>322</th>\n",
              "      <td>10376</td>\n",
              "      <td>Good Frikin Chicken</td>\n",
              "      <td>10 29th St</td>\n",
              "      <td>San Francisco</td>\n",
              "      <td>CA</td>\n",
              "      <td>-9999</td>\n",
              "      <td>37.744369</td>\n",
              "      <td>-122.420967</td>\n",
              "      <td>-9999</td>\n",
              "    </tr>\n",
              "    <tr>\n",
              "      <th>324</th>\n",
              "      <td>10406</td>\n",
              "      <td>Sunset Youth Services</td>\n",
              "      <td>3918 Judah St</td>\n",
              "      <td>San Francisco</td>\n",
              "      <td>CA</td>\n",
              "      <td>-9999</td>\n",
              "      <td>37.760560</td>\n",
              "      <td>-122.504027</td>\n",
              "      <td>-9999</td>\n",
              "    </tr>\n",
              "    <tr>\n",
              "      <th>357</th>\n",
              "      <td>11416</td>\n",
              "      <td>El Beach Burrito</td>\n",
              "      <td>3914 Judah St</td>\n",
              "      <td>San Francisco</td>\n",
              "      <td>CA</td>\n",
              "      <td>-9999</td>\n",
              "      <td>37.760851</td>\n",
              "      <td>-122.503998</td>\n",
              "      <td>-9999</td>\n",
              "    </tr>\n",
              "    <tr>\n",
              "      <th>381</th>\n",
              "      <td>12199</td>\n",
              "      <td>El Gallo Giro</td>\n",
              "      <td>3055 23rd St</td>\n",
              "      <td>San Francisco</td>\n",
              "      <td>CA</td>\n",
              "      <td>-9999</td>\n",
              "      <td>37.754218</td>\n",
              "      <td>-122.413285</td>\n",
              "      <td>14155553048</td>\n",
              "    </tr>\n",
              "    <tr>\n",
              "      <th>384</th>\n",
              "      <td>12344</td>\n",
              "      <td>The Village Market &amp; Pizza</td>\n",
              "      <td>750 Font Blvd</td>\n",
              "      <td>San Francisco</td>\n",
              "      <td>CA</td>\n",
              "      <td>-9999</td>\n",
              "      <td>37.723462</td>\n",
              "      <td>-122.483012</td>\n",
              "      <td>14155374525</td>\n",
              "    </tr>\n",
              "    <tr>\n",
              "      <th>406</th>\n",
              "      <td>13062</td>\n",
              "      <td>Everett Middle School</td>\n",
              "      <td>450 Church St</td>\n",
              "      <td>San Francisco</td>\n",
              "      <td>CA</td>\n",
              "      <td>-9999</td>\n",
              "      <td>37.763794</td>\n",
              "      <td>-122.428617</td>\n",
              "      <td>-9999</td>\n",
              "    </tr>\n",
              "    <tr>\n",
              "      <th>434</th>\n",
              "      <td>13753</td>\n",
              "      <td>Taboun</td>\n",
              "      <td>203 Parnassus Ave</td>\n",
              "      <td>San Francisco</td>\n",
              "      <td>CA</td>\n",
              "      <td>-9999</td>\n",
              "      <td>37.764574</td>\n",
              "      <td>-122.452950</td>\n",
              "      <td>-9999</td>\n",
              "    </tr>\n",
              "    <tr>\n",
              "      <th>548</th>\n",
              "      <td>17423</td>\n",
              "      <td>Project Open Hand</td>\n",
              "      <td>100 Diamond St</td>\n",
              "      <td>San Francisco</td>\n",
              "      <td>CA</td>\n",
              "      <td>-9999</td>\n",
              "      <td>37.760689</td>\n",
              "      <td>-122.437252</td>\n",
              "      <td>-9999</td>\n",
              "    </tr>\n",
              "  </tbody>\n",
              "</table>\n",
              "</div>"
            ],
            "text/plain": [
              "        bid                               name  ...    longitude phone_number\n",
              "22   100126          Lamas Peruvian Food Truck  ... -9999.000000        -9999\n",
              "68   100417                   COMPASS ONE, LLC  ... -9999.000000  14154324000\n",
              "96   100660                          TEAPENTER  ... -9999.000000  14155868318\n",
              "109  100781                  LE CAFE DU SOLEIL  ... -9999.000000  14155614215\n",
              "144  101084                     Deli North 200  ... -9999.000000        -9999\n",
              "156  101129                    Vendor Room 200  ... -9999.000000        -9999\n",
              "177  101192                       Cochinita #2  ... -9999.000000  14150429222\n",
              "276  102014       DROPBOX (Section 3, Floor 7)  ... -9999.000000        -9999\n",
              "295  102245         Vessell CA Operations (#4)  ... -9999.000000        -9999\n",
              "298   10227                   The Napper Tandy  ...  -122.416482        -9999\n",
              "320   10372  BERNAL HEIGHTS NEIGBORHOOD CENTER  ...  -122.416404  14155202142\n",
              "321   10373                    El Tonayense #1  ...  -122.413446  14155556127\n",
              "322   10376                Good Frikin Chicken  ...  -122.420967        -9999\n",
              "324   10406              Sunset Youth Services  ...  -122.504027        -9999\n",
              "357   11416                   El Beach Burrito  ...  -122.503998        -9999\n",
              "381   12199                      El Gallo Giro  ...  -122.413285  14155553048\n",
              "384   12344         The Village Market & Pizza  ...  -122.483012  14155374525\n",
              "406   13062              Everett Middle School  ...  -122.428617        -9999\n",
              "434   13753                             Taboun  ...  -122.452950        -9999\n",
              "548   17423                  Project Open Hand  ...  -122.437252        -9999\n",
              "\n",
              "[20 rows x 9 columns]"
            ]
          },
          "metadata": {},
          "execution_count": 23
        }
      ]
    },
    {
      "cell_type": "markdown",
      "metadata": {
        "id": "RLWvi-KLAoqh"
      },
      "source": [
        "<br/><br/><br/>\n",
        "\n",
        "--- \n",
        "\n",
        "## Question 2d\n",
        "\n",
        "In the previous question, many of the businesses had a common invalid postal code that was likely used to encode a MISSING postal code.  Do they all share a potentially \"interesting address\"?\n",
        "\n",
        "In the following cell, construct a **series** that counts the number of businesses at each `address` that have this single likely MISSING postal code value.  Order the series in descending order by count. \n",
        "\n",
        "After examining the output, please answer the following question (2e) by filling in the appropriate variable. If we were to drop businesses with MISSING postal code values would a particular class of business be affected?  If you are unsure try to search the web for the most common addresses.\n",
        "\n",
        "\n",
        "<!--\n",
        "BEGIN QUESTION\n",
        "name: q2d\n",
        "points: 3\n",
        "-->"
      ]
    },
    {
      "cell_type": "code",
      "metadata": {
        "colab": {
          "base_uri": "https://localhost:8080/"
        },
        "id": "1jGJRiKpAoqh",
        "outputId": "970b155a-189c-4ddb-8027-531077c9ba06"
      },
      "source": [
        "bus_missing = invalid_zip_bus.loc[invalid_zip_bus['postal_code']=='-9999']\n",
        "missing_zip_address_count = bus_missing.value_counts('address')\n",
        "missing_zip_address_count"
      ],
      "execution_count": 24,
      "outputs": [
        {
          "output_type": "execute_result",
          "data": {
            "text/plain": [
              "address\n",
              "Off The Grid                           39\n",
              "Off the Grid                           10\n",
              "OTG                                     4\n",
              "Approved Locations                      3\n",
              "Approved Private Locations              3\n",
              "                                       ..\n",
              "681 Broadway St                         1\n",
              "685 Market St 520                       1\n",
              "699 Avenue of the Palms                 1\n",
              "705 Natoma St                           1\n",
              "1 Warriors Way Level 300 South West     1\n",
              "Length: 135, dtype: int64"
            ]
          },
          "metadata": {},
          "execution_count": 24
        }
      ]
    },
    {
      "cell_type": "markdown",
      "metadata": {
        "id": "VsgtADo3Aoqh"
      },
      "source": [
        "<br/><br/><br/>\n",
        "\n",
        "--- \n",
        "\n",
        "## Question 2e\n",
        "\n",
        "**True or False**:  *If we were to drop businesses with MISSING postal code values, a particular class of business will be affected.*\n",
        "\n",
        "<!--\n",
        "BEGIN QUESTION\n",
        "name: q2e\n",
        "points: 2\n",
        "-->"
      ]
    },
    {
      "cell_type": "code",
      "metadata": {
        "id": "MS7drKUMAoqh"
      },
      "source": [
        "# True or False: \n",
        "#  If we were to drop businesses with MISSING postal code values \n",
        "#   a particular class of business be affected.\n",
        "q2e_true_or_false = True"
      ],
      "execution_count": 25,
      "outputs": []
    },
    {
      "cell_type": "markdown",
      "metadata": {
        "id": "ntIIwDr0Aoqh"
      },
      "source": [
        "<br/><br/><br/>\n",
        "\n",
        "--- \n",
        "\n",
        "## Question 2f\n",
        "\n",
        "Examine the `invalid_zip_bus` dataframe we computed above and look at the businesses that DO NOT have the special MISSING ZIP code value.  Some of the invalid postal codes are just the full 9 digit code rather than the first 5 digits.  Create a new column named `postal5` in the original `bus` dataframe which contains only the first 5 digits of the `postal_code` column.   Finally, for any of the `postal5` ZIP code entries that were not a valid San Fransisco ZIP Code (according to `valid_zips`) set the entry to `None`.  \n",
        "\n",
        "\n",
        "<!--\n",
        "BEGIN QUESTION\n",
        "name: q2f\n",
        "points: 2\n",
        "-->"
      ]
    },
    {
      "cell_type": "code",
      "metadata": {
        "colab": {
          "base_uri": "https://localhost:8080/",
          "height": 420
        },
        "id": "LoNujpUGAoqh",
        "outputId": "04fb0f37-b1ee-4048-de82-2c67ff0ad383"
      },
      "source": [
        "bus['postal5'] = bus['postal_code'].str[0:5]\n",
        "bus.loc[bus.postal5.isin(valid_zips) == False, 'postal5'] = None\n",
        "\n",
        "\n",
        "# Checking the corrected postal5 column\n",
        "bus.loc[invalid_zip_bus.index, ['bid', 'name', 'postal_code', 'postal5']]"
      ],
      "execution_count": 26,
      "outputs": [
        {
          "output_type": "execute_result",
          "data": {
            "text/html": [
              "<div>\n",
              "<style scoped>\n",
              "    .dataframe tbody tr th:only-of-type {\n",
              "        vertical-align: middle;\n",
              "    }\n",
              "\n",
              "    .dataframe tbody tr th {\n",
              "        vertical-align: top;\n",
              "    }\n",
              "\n",
              "    .dataframe thead th {\n",
              "        text-align: right;\n",
              "    }\n",
              "</style>\n",
              "<table border=\"1\" class=\"dataframe\">\n",
              "  <thead>\n",
              "    <tr style=\"text-align: right;\">\n",
              "      <th></th>\n",
              "      <th>bid</th>\n",
              "      <th>name</th>\n",
              "      <th>postal_code</th>\n",
              "      <th>postal5</th>\n",
              "    </tr>\n",
              "  </thead>\n",
              "  <tbody>\n",
              "    <tr>\n",
              "      <th>22</th>\n",
              "      <td>100126</td>\n",
              "      <td>Lamas Peruvian Food Truck</td>\n",
              "      <td>-9999</td>\n",
              "      <td>None</td>\n",
              "    </tr>\n",
              "    <tr>\n",
              "      <th>68</th>\n",
              "      <td>100417</td>\n",
              "      <td>COMPASS ONE, LLC</td>\n",
              "      <td>94105-1420</td>\n",
              "      <td>94105</td>\n",
              "    </tr>\n",
              "    <tr>\n",
              "      <th>96</th>\n",
              "      <td>100660</td>\n",
              "      <td>TEAPENTER</td>\n",
              "      <td>94122-1909</td>\n",
              "      <td>94122</td>\n",
              "    </tr>\n",
              "    <tr>\n",
              "      <th>109</th>\n",
              "      <td>100781</td>\n",
              "      <td>LE CAFE DU SOLEIL</td>\n",
              "      <td>94117-3504</td>\n",
              "      <td>94117</td>\n",
              "    </tr>\n",
              "    <tr>\n",
              "      <th>144</th>\n",
              "      <td>101084</td>\n",
              "      <td>Deli North 200</td>\n",
              "      <td>94518</td>\n",
              "      <td>None</td>\n",
              "    </tr>\n",
              "    <tr>\n",
              "      <th>...</th>\n",
              "      <td>...</td>\n",
              "      <td>...</td>\n",
              "      <td>...</td>\n",
              "      <td>...</td>\n",
              "    </tr>\n",
              "    <tr>\n",
              "      <th>6173</th>\n",
              "      <td>99369</td>\n",
              "      <td>HOTEL BIRON</td>\n",
              "      <td>94102-5917</td>\n",
              "      <td>94102</td>\n",
              "    </tr>\n",
              "    <tr>\n",
              "      <th>6174</th>\n",
              "      <td>99376</td>\n",
              "      <td>Mashallah Halal Food truck Ind</td>\n",
              "      <td>-9999</td>\n",
              "      <td>None</td>\n",
              "    </tr>\n",
              "    <tr>\n",
              "      <th>6199</th>\n",
              "      <td>99536</td>\n",
              "      <td>FAITH SANDWICH #2</td>\n",
              "      <td>94105-2907</td>\n",
              "      <td>94105</td>\n",
              "    </tr>\n",
              "    <tr>\n",
              "      <th>6204</th>\n",
              "      <td>99681</td>\n",
              "      <td>Twister</td>\n",
              "      <td>95112</td>\n",
              "      <td>None</td>\n",
              "    </tr>\n",
              "    <tr>\n",
              "      <th>6241</th>\n",
              "      <td>99819</td>\n",
              "      <td>CHESTNUT DINER</td>\n",
              "      <td>94123-3106</td>\n",
              "      <td>94123</td>\n",
              "    </tr>\n",
              "  </tbody>\n",
              "</table>\n",
              "<p>230 rows × 4 columns</p>\n",
              "</div>"
            ],
            "text/plain": [
              "         bid                            name postal_code postal5\n",
              "22    100126       Lamas Peruvian Food Truck       -9999    None\n",
              "68    100417                COMPASS ONE, LLC  94105-1420   94105\n",
              "96    100660                       TEAPENTER  94122-1909   94122\n",
              "109   100781               LE CAFE DU SOLEIL  94117-3504   94117\n",
              "144   101084                  Deli North 200       94518    None\n",
              "...      ...                             ...         ...     ...\n",
              "6173   99369                     HOTEL BIRON  94102-5917   94102\n",
              "6174   99376  Mashallah Halal Food truck Ind       -9999    None\n",
              "6199   99536               FAITH SANDWICH #2  94105-2907   94105\n",
              "6204   99681                         Twister       95112    None\n",
              "6241   99819                  CHESTNUT DINER  94123-3106   94123\n",
              "\n",
              "[230 rows x 4 columns]"
            ]
          },
          "metadata": {},
          "execution_count": 26
        }
      ]
    },
    {
      "cell_type": "markdown",
      "metadata": {
        "id": "lqgAmTSmAoqh"
      },
      "source": [
        "<br/><br/><br/>\n",
        "\n",
        "---\n",
        "\n",
        "<br/><br/><br/>\n",
        "\n",
        "# 3: Investigate the Inspection Data\n",
        "\n",
        "Let's now turn to the inspection DataFrame. Earlier, we found that `ins` has 4 columns named \n",
        "`iid`, `score`, `date` and `type`.  In this section, we determine the granularity of `ins` and investigate the kinds of information provided for the inspections. "
      ]
    },
    {
      "cell_type": "markdown",
      "metadata": {
        "id": "B36XAD96Aoqi"
      },
      "source": [
        "Let's start by looking again at the first 5 rows of `ins` to see what we're working with."
      ]
    },
    {
      "cell_type": "code",
      "metadata": {
        "colab": {
          "base_uri": "https://localhost:8080/",
          "height": 670
        },
        "id": "t67oUsahAoqi",
        "outputId": "c7e00e0f-b85b-44b6-b017-dbad47795b88"
      },
      "source": [
        "ins.head(20)"
      ],
      "execution_count": 27,
      "outputs": [
        {
          "output_type": "execute_result",
          "data": {
            "text/html": [
              "<div>\n",
              "<style scoped>\n",
              "    .dataframe tbody tr th:only-of-type {\n",
              "        vertical-align: middle;\n",
              "    }\n",
              "\n",
              "    .dataframe tbody tr th {\n",
              "        vertical-align: top;\n",
              "    }\n",
              "\n",
              "    .dataframe thead th {\n",
              "        text-align: right;\n",
              "    }\n",
              "</style>\n",
              "<table border=\"1\" class=\"dataframe\">\n",
              "  <thead>\n",
              "    <tr style=\"text-align: right;\">\n",
              "      <th></th>\n",
              "      <th>iid</th>\n",
              "      <th>date</th>\n",
              "      <th>score</th>\n",
              "      <th>type</th>\n",
              "    </tr>\n",
              "  </thead>\n",
              "  <tbody>\n",
              "    <tr>\n",
              "      <th>0</th>\n",
              "      <td>100010_20190329</td>\n",
              "      <td>03/29/2019 12:00:00 AM</td>\n",
              "      <td>-1</td>\n",
              "      <td>New Construction</td>\n",
              "    </tr>\n",
              "    <tr>\n",
              "      <th>1</th>\n",
              "      <td>100010_20190403</td>\n",
              "      <td>04/03/2019 12:00:00 AM</td>\n",
              "      <td>100</td>\n",
              "      <td>Routine - Unscheduled</td>\n",
              "    </tr>\n",
              "    <tr>\n",
              "      <th>2</th>\n",
              "      <td>100017_20190417</td>\n",
              "      <td>04/17/2019 12:00:00 AM</td>\n",
              "      <td>-1</td>\n",
              "      <td>New Ownership</td>\n",
              "    </tr>\n",
              "    <tr>\n",
              "      <th>3</th>\n",
              "      <td>100017_20190816</td>\n",
              "      <td>08/16/2019 12:00:00 AM</td>\n",
              "      <td>91</td>\n",
              "      <td>Routine - Unscheduled</td>\n",
              "    </tr>\n",
              "    <tr>\n",
              "      <th>4</th>\n",
              "      <td>100017_20190826</td>\n",
              "      <td>08/26/2019 12:00:00 AM</td>\n",
              "      <td>-1</td>\n",
              "      <td>Reinspection/Followup</td>\n",
              "    </tr>\n",
              "    <tr>\n",
              "      <th>5</th>\n",
              "      <td>100017_20190912</td>\n",
              "      <td>09/12/2019 12:00:00 AM</td>\n",
              "      <td>-1</td>\n",
              "      <td>Reinspection/Followup</td>\n",
              "    </tr>\n",
              "    <tr>\n",
              "      <th>6</th>\n",
              "      <td>100026_20190418</td>\n",
              "      <td>04/18/2019 12:00:00 AM</td>\n",
              "      <td>-1</td>\n",
              "      <td>New Ownership</td>\n",
              "    </tr>\n",
              "    <tr>\n",
              "      <th>7</th>\n",
              "      <td>100030_20190612</td>\n",
              "      <td>06/12/2019 12:00:00 AM</td>\n",
              "      <td>-1</td>\n",
              "      <td>New Ownership</td>\n",
              "    </tr>\n",
              "    <tr>\n",
              "      <th>8</th>\n",
              "      <td>100030_20190826</td>\n",
              "      <td>08/26/2019 12:00:00 AM</td>\n",
              "      <td>-1</td>\n",
              "      <td>New Ownership</td>\n",
              "    </tr>\n",
              "    <tr>\n",
              "      <th>9</th>\n",
              "      <td>100036_20190325</td>\n",
              "      <td>03/25/2019 12:00:00 AM</td>\n",
              "      <td>-1</td>\n",
              "      <td>Structural Inspection</td>\n",
              "    </tr>\n",
              "    <tr>\n",
              "      <th>10</th>\n",
              "      <td>100036_20190531</td>\n",
              "      <td>05/31/2019 12:00:00 AM</td>\n",
              "      <td>-1</td>\n",
              "      <td>New Ownership - Followup</td>\n",
              "    </tr>\n",
              "    <tr>\n",
              "      <th>11</th>\n",
              "      <td>100036_20190906</td>\n",
              "      <td>09/06/2019 12:00:00 AM</td>\n",
              "      <td>-1</td>\n",
              "      <td>New Ownership</td>\n",
              "    </tr>\n",
              "    <tr>\n",
              "      <th>12</th>\n",
              "      <td>100039_20190607</td>\n",
              "      <td>06/07/2019 12:00:00 AM</td>\n",
              "      <td>-1</td>\n",
              "      <td>New Ownership</td>\n",
              "    </tr>\n",
              "    <tr>\n",
              "      <th>13</th>\n",
              "      <td>100041_20190424</td>\n",
              "      <td>04/24/2019 12:00:00 AM</td>\n",
              "      <td>-1</td>\n",
              "      <td>New Ownership</td>\n",
              "    </tr>\n",
              "    <tr>\n",
              "      <th>14</th>\n",
              "      <td>100041_20190506</td>\n",
              "      <td>05/06/2019 12:00:00 AM</td>\n",
              "      <td>-1</td>\n",
              "      <td>New Ownership</td>\n",
              "    </tr>\n",
              "    <tr>\n",
              "      <th>15</th>\n",
              "      <td>100041_20190520</td>\n",
              "      <td>05/20/2019 12:00:00 AM</td>\n",
              "      <td>83</td>\n",
              "      <td>Routine - Unscheduled</td>\n",
              "    </tr>\n",
              "    <tr>\n",
              "      <th>16</th>\n",
              "      <td>100041_20190529</td>\n",
              "      <td>05/29/2019 12:00:00 AM</td>\n",
              "      <td>-1</td>\n",
              "      <td>Reinspection/Followup</td>\n",
              "    </tr>\n",
              "    <tr>\n",
              "      <th>17</th>\n",
              "      <td>100041_20190605</td>\n",
              "      <td>06/05/2019 12:00:00 AM</td>\n",
              "      <td>-1</td>\n",
              "      <td>Reinspection/Followup</td>\n",
              "    </tr>\n",
              "    <tr>\n",
              "      <th>18</th>\n",
              "      <td>100041_20190620</td>\n",
              "      <td>06/20/2019 12:00:00 AM</td>\n",
              "      <td>-1</td>\n",
              "      <td>Reinspection/Followup</td>\n",
              "    </tr>\n",
              "    <tr>\n",
              "      <th>19</th>\n",
              "      <td>100055_20190416</td>\n",
              "      <td>04/16/2019 12:00:00 AM</td>\n",
              "      <td>-1</td>\n",
              "      <td>New Ownership</td>\n",
              "    </tr>\n",
              "  </tbody>\n",
              "</table>\n",
              "</div>"
            ],
            "text/plain": [
              "                iid                    date  score                      type\n",
              "0   100010_20190329  03/29/2019 12:00:00 AM     -1          New Construction\n",
              "1   100010_20190403  04/03/2019 12:00:00 AM    100     Routine - Unscheduled\n",
              "2   100017_20190417  04/17/2019 12:00:00 AM     -1             New Ownership\n",
              "3   100017_20190816  08/16/2019 12:00:00 AM     91     Routine - Unscheduled\n",
              "4   100017_20190826  08/26/2019 12:00:00 AM     -1     Reinspection/Followup\n",
              "5   100017_20190912  09/12/2019 12:00:00 AM     -1     Reinspection/Followup\n",
              "6   100026_20190418  04/18/2019 12:00:00 AM     -1             New Ownership\n",
              "7   100030_20190612  06/12/2019 12:00:00 AM     -1             New Ownership\n",
              "8   100030_20190826  08/26/2019 12:00:00 AM     -1             New Ownership\n",
              "9   100036_20190325  03/25/2019 12:00:00 AM     -1     Structural Inspection\n",
              "10  100036_20190531  05/31/2019 12:00:00 AM     -1  New Ownership - Followup\n",
              "11  100036_20190906  09/06/2019 12:00:00 AM     -1             New Ownership\n",
              "12  100039_20190607  06/07/2019 12:00:00 AM     -1             New Ownership\n",
              "13  100041_20190424  04/24/2019 12:00:00 AM     -1             New Ownership\n",
              "14  100041_20190506  05/06/2019 12:00:00 AM     -1             New Ownership\n",
              "15  100041_20190520  05/20/2019 12:00:00 AM     83     Routine - Unscheduled\n",
              "16  100041_20190529  05/29/2019 12:00:00 AM     -1     Reinspection/Followup\n",
              "17  100041_20190605  06/05/2019 12:00:00 AM     -1     Reinspection/Followup\n",
              "18  100041_20190620  06/20/2019 12:00:00 AM     -1     Reinspection/Followup\n",
              "19  100055_20190416  04/16/2019 12:00:00 AM     -1             New Ownership"
            ]
          },
          "metadata": {},
          "execution_count": 27
        }
      ]
    },
    {
      "cell_type": "markdown",
      "metadata": {
        "id": "5lROMzxhAoqi"
      },
      "source": [
        "<br/><br/><br/>\n",
        "\n",
        "---\n",
        "\n",
        "## Question 3a\n",
        "\n",
        "The column `iid` probably corresponds to an inspection id.  Is it a primary key?  Write an expression (line of code) that evaluates to `True` or `False` based on whether all the values are unique.\n",
        "\n",
        "\n",
        "<!--\n",
        "BEGIN QUESTION\n",
        "name: q3a\n",
        "points: 1\n",
        "-->"
      ]
    },
    {
      "cell_type": "code",
      "metadata": {
        "colab": {
          "base_uri": "https://localhost:8080/"
        },
        "id": "XbfBJlHNAoqi",
        "outputId": "4c9d9485-06fa-4ad6-c6b8-108d5ea0caf0"
      },
      "source": [
        "is_ins_iid_a_primary_key = len(ins.iid) == len(pd.unique(ins.iid))\n",
        "is_ins_iid_a_primary_key"
      ],
      "execution_count": 28,
      "outputs": [
        {
          "output_type": "execute_result",
          "data": {
            "text/plain": [
              "True"
            ]
          },
          "metadata": {},
          "execution_count": 28
        }
      ]
    },
    {
      "cell_type": "markdown",
      "metadata": {
        "id": "HmoP6eBNAoqi"
      },
      "source": [
        "<br/><br/><br/>\n",
        "\n",
        "---\n",
        "\n",
        "## Question 3b\n",
        "\n",
        "The column `iid` appears to be the composition of two numbers and the first number looks like a business id.  \n",
        "\n",
        "**Part 1.**: Create a new column called `bid` in the `ins` dataframe containing just the business id.  You will want to use `ins['iid'].str` operations to do this.  Also be sure to convert the type of this column to `int`\n",
        "\n",
        "**Part 2.**: Then compute how many values in this new column are invalid business ids (i.e. do not appear in the `bus['bid']` column). This is verifying a foreign key relationship. Consider using the `pd.Series.isin` function.\n",
        "\n",
        "**Part 3.**: Answer True or False, `ins['bid']` is a foreign key reference to `bus['bid']`.\n",
        "\n",
        "\n",
        "**No python `for` loops or list comprehensions required!**"
      ]
    },
    {
      "cell_type": "markdown",
      "metadata": {
        "id": "U4wZw3X7Aoqi"
      },
      "source": [
        "**Part 1**\n",
        "\n",
        "<!--\n",
        "BEGIN QUESTION\n",
        "name: q3bi\n",
        "points: 1\n",
        "-->"
      ]
    },
    {
      "cell_type": "code",
      "metadata": {
        "colab": {
          "base_uri": "https://localhost:8080/",
          "height": 204
        },
        "id": "zDTbcGJ-Aoqi",
        "outputId": "5a544b8b-1645-4e1e-ff02-7218015af951"
      },
      "source": [
        "# This solution needs for loop\n",
        "bid = []\n",
        "for x in list(ins['iid'].str.split('_')):\n",
        "  bid.append(int(x[0]))\n",
        "ins['bid'] = pd.Series(bid)\n",
        "ins.head()"
      ],
      "execution_count": 29,
      "outputs": [
        {
          "output_type": "execute_result",
          "data": {
            "text/html": [
              "<div>\n",
              "<style scoped>\n",
              "    .dataframe tbody tr th:only-of-type {\n",
              "        vertical-align: middle;\n",
              "    }\n",
              "\n",
              "    .dataframe tbody tr th {\n",
              "        vertical-align: top;\n",
              "    }\n",
              "\n",
              "    .dataframe thead th {\n",
              "        text-align: right;\n",
              "    }\n",
              "</style>\n",
              "<table border=\"1\" class=\"dataframe\">\n",
              "  <thead>\n",
              "    <tr style=\"text-align: right;\">\n",
              "      <th></th>\n",
              "      <th>iid</th>\n",
              "      <th>date</th>\n",
              "      <th>score</th>\n",
              "      <th>type</th>\n",
              "      <th>bid</th>\n",
              "    </tr>\n",
              "  </thead>\n",
              "  <tbody>\n",
              "    <tr>\n",
              "      <th>0</th>\n",
              "      <td>100010_20190329</td>\n",
              "      <td>03/29/2019 12:00:00 AM</td>\n",
              "      <td>-1</td>\n",
              "      <td>New Construction</td>\n",
              "      <td>100010</td>\n",
              "    </tr>\n",
              "    <tr>\n",
              "      <th>1</th>\n",
              "      <td>100010_20190403</td>\n",
              "      <td>04/03/2019 12:00:00 AM</td>\n",
              "      <td>100</td>\n",
              "      <td>Routine - Unscheduled</td>\n",
              "      <td>100010</td>\n",
              "    </tr>\n",
              "    <tr>\n",
              "      <th>2</th>\n",
              "      <td>100017_20190417</td>\n",
              "      <td>04/17/2019 12:00:00 AM</td>\n",
              "      <td>-1</td>\n",
              "      <td>New Ownership</td>\n",
              "      <td>100017</td>\n",
              "    </tr>\n",
              "    <tr>\n",
              "      <th>3</th>\n",
              "      <td>100017_20190816</td>\n",
              "      <td>08/16/2019 12:00:00 AM</td>\n",
              "      <td>91</td>\n",
              "      <td>Routine - Unscheduled</td>\n",
              "      <td>100017</td>\n",
              "    </tr>\n",
              "    <tr>\n",
              "      <th>4</th>\n",
              "      <td>100017_20190826</td>\n",
              "      <td>08/26/2019 12:00:00 AM</td>\n",
              "      <td>-1</td>\n",
              "      <td>Reinspection/Followup</td>\n",
              "      <td>100017</td>\n",
              "    </tr>\n",
              "  </tbody>\n",
              "</table>\n",
              "</div>"
            ],
            "text/plain": [
              "               iid                    date  ...                   type     bid\n",
              "0  100010_20190329  03/29/2019 12:00:00 AM  ...       New Construction  100010\n",
              "1  100010_20190403  04/03/2019 12:00:00 AM  ...  Routine - Unscheduled  100010\n",
              "2  100017_20190417  04/17/2019 12:00:00 AM  ...          New Ownership  100017\n",
              "3  100017_20190816  08/16/2019 12:00:00 AM  ...  Routine - Unscheduled  100017\n",
              "4  100017_20190826  08/26/2019 12:00:00 AM  ...  Reinspection/Followup  100017\n",
              "\n",
              "[5 rows x 5 columns]"
            ]
          },
          "metadata": {},
          "execution_count": 29
        }
      ]
    },
    {
      "cell_type": "code",
      "metadata": {
        "colab": {
          "base_uri": "https://localhost:8080/",
          "height": 204
        },
        "id": "NyqTQSYuzBES",
        "outputId": "f388595c-a3de-4025-c23c-6acf577af538"
      },
      "source": [
        "ins['bid'] = ins['iid'].str[:-9]\n",
        "ins['bid'].astype(int)\n",
        "ins.head()"
      ],
      "execution_count": 30,
      "outputs": [
        {
          "output_type": "execute_result",
          "data": {
            "text/html": [
              "<div>\n",
              "<style scoped>\n",
              "    .dataframe tbody tr th:only-of-type {\n",
              "        vertical-align: middle;\n",
              "    }\n",
              "\n",
              "    .dataframe tbody tr th {\n",
              "        vertical-align: top;\n",
              "    }\n",
              "\n",
              "    .dataframe thead th {\n",
              "        text-align: right;\n",
              "    }\n",
              "</style>\n",
              "<table border=\"1\" class=\"dataframe\">\n",
              "  <thead>\n",
              "    <tr style=\"text-align: right;\">\n",
              "      <th></th>\n",
              "      <th>iid</th>\n",
              "      <th>date</th>\n",
              "      <th>score</th>\n",
              "      <th>type</th>\n",
              "      <th>bid</th>\n",
              "    </tr>\n",
              "  </thead>\n",
              "  <tbody>\n",
              "    <tr>\n",
              "      <th>0</th>\n",
              "      <td>100010_20190329</td>\n",
              "      <td>03/29/2019 12:00:00 AM</td>\n",
              "      <td>-1</td>\n",
              "      <td>New Construction</td>\n",
              "      <td>100010</td>\n",
              "    </tr>\n",
              "    <tr>\n",
              "      <th>1</th>\n",
              "      <td>100010_20190403</td>\n",
              "      <td>04/03/2019 12:00:00 AM</td>\n",
              "      <td>100</td>\n",
              "      <td>Routine - Unscheduled</td>\n",
              "      <td>100010</td>\n",
              "    </tr>\n",
              "    <tr>\n",
              "      <th>2</th>\n",
              "      <td>100017_20190417</td>\n",
              "      <td>04/17/2019 12:00:00 AM</td>\n",
              "      <td>-1</td>\n",
              "      <td>New Ownership</td>\n",
              "      <td>100017</td>\n",
              "    </tr>\n",
              "    <tr>\n",
              "      <th>3</th>\n",
              "      <td>100017_20190816</td>\n",
              "      <td>08/16/2019 12:00:00 AM</td>\n",
              "      <td>91</td>\n",
              "      <td>Routine - Unscheduled</td>\n",
              "      <td>100017</td>\n",
              "    </tr>\n",
              "    <tr>\n",
              "      <th>4</th>\n",
              "      <td>100017_20190826</td>\n",
              "      <td>08/26/2019 12:00:00 AM</td>\n",
              "      <td>-1</td>\n",
              "      <td>Reinspection/Followup</td>\n",
              "      <td>100017</td>\n",
              "    </tr>\n",
              "  </tbody>\n",
              "</table>\n",
              "</div>"
            ],
            "text/plain": [
              "               iid                    date  ...                   type     bid\n",
              "0  100010_20190329  03/29/2019 12:00:00 AM  ...       New Construction  100010\n",
              "1  100010_20190403  04/03/2019 12:00:00 AM  ...  Routine - Unscheduled  100010\n",
              "2  100017_20190417  04/17/2019 12:00:00 AM  ...          New Ownership  100017\n",
              "3  100017_20190816  08/16/2019 12:00:00 AM  ...  Routine - Unscheduled  100017\n",
              "4  100017_20190826  08/26/2019 12:00:00 AM  ...  Reinspection/Followup  100017\n",
              "\n",
              "[5 rows x 5 columns]"
            ]
          },
          "metadata": {},
          "execution_count": 30
        }
      ]
    },
    {
      "cell_type": "markdown",
      "metadata": {
        "id": "8I5hxogmAoqj"
      },
      "source": [
        "**Part 2**\n",
        "\n",
        "<!--\n",
        "BEGIN QUESTION\n",
        "name: q3bii\n",
        "points: 1\n",
        "-->"
      ]
    },
    {
      "cell_type": "code",
      "metadata": {
        "colab": {
          "base_uri": "https://localhost:8080/"
        },
        "id": "NnnK5ng9Aoqj",
        "outputId": "91d75368-373a-4a3e-c01c-e5a84c9d0a7a"
      },
      "source": [
        "ins_bid = ins.bid.unique()\n",
        "bus_bid = pd.unique(bus.bid)\n",
        "\n",
        "ins_invalid_bid_count = list(pd.Series(ins_bid).isin(bus_bid).values).count(False)\n",
        "ins_invalid_bid_count"
      ],
      "execution_count": 31,
      "outputs": [
        {
          "output_type": "execute_result",
          "data": {
            "text/plain": [
              "6253"
            ]
          },
          "metadata": {},
          "execution_count": 31
        }
      ]
    },
    {
      "cell_type": "markdown",
      "metadata": {
        "id": "Lm3AFzSqAoqj"
      },
      "source": [
        "**Part 3**\n",
        "\n",
        "<!--\n",
        "BEGIN QUESTION\n",
        "name: q3biii\n",
        "points: 1\n",
        "-->"
      ]
    },
    {
      "cell_type": "code",
      "metadata": {
        "id": "Q-8AShdBAoqj"
      },
      "source": [
        "# True or False: The column ins['bid'] is a foreign key \n",
        "#   referencing the bus['bid'] primary key.\n",
        "\n",
        "q3b_is_foreign_key = True"
      ],
      "execution_count": 32,
      "outputs": []
    },
    {
      "cell_type": "markdown",
      "metadata": {
        "id": "PTXcv7CWAoqj"
      },
      "source": [
        "<br/><br/><br/>\n",
        "\n",
        "---\n",
        "\n",
        "## Question 3c\n",
        "\n",
        "What if we are interested in a time component of the inspection data?  We need to examine the date column of each inspection. \n",
        "\n",
        "**Part 1:** What is the type of the individual `ins['date']` entries? You may want to grab the very first entry and use the `type` function in python. \n",
        "\n",
        "**Part 2:** Use `pd.to_datetime` to create a new `ins['timestamp']` column containing of `pd.Timestamp` objects.  These will allow us to do more date manipulation.\n",
        "\n",
        "**Part 3:** What are the earliest and latest dates in our inspection data?  *Hint: you can use `min` and `max` on dates of the correct type.*\n",
        "\n",
        "**Part 4:** We probably want to examine the inspections by year. Create an additional `ins['year']` column containing just the year of the inspection.  Consider using `pd.Series.dt.year` to do this.\n",
        "\n",
        "**No python `for` loops or list comprehensions required!**"
      ]
    },
    {
      "cell_type": "markdown",
      "metadata": {
        "id": "muTiRmISAoqj"
      },
      "source": [
        "**Part 1**\n",
        "\n",
        "<!--\n",
        "BEGIN QUESTION\n",
        "name: q3ci\n",
        "points: 1\n",
        "-->"
      ]
    },
    {
      "cell_type": "code",
      "metadata": {
        "colab": {
          "base_uri": "https://localhost:8080/"
        },
        "id": "cg5zvfyGAoqj",
        "outputId": "29cd9dec-a37d-4083-b2f7-d757c5c5d832"
      },
      "source": [
        "ins_date_type = type(ins['date'][0])\n",
        "ins_date_type"
      ],
      "execution_count": 33,
      "outputs": [
        {
          "output_type": "execute_result",
          "data": {
            "text/plain": [
              "str"
            ]
          },
          "metadata": {},
          "execution_count": 33
        }
      ]
    },
    {
      "cell_type": "markdown",
      "metadata": {
        "id": "hFmcIDs3Aoqk"
      },
      "source": [
        "**Part 2**\n",
        "\n",
        "<!--\n",
        "BEGIN QUESTION\n",
        "name: q3cii\n",
        "points: 1\n",
        "-->"
      ]
    },
    {
      "cell_type": "code",
      "metadata": {
        "colab": {
          "base_uri": "https://localhost:8080/",
          "height": 306
        },
        "id": "tCe9FJUhAoqk",
        "outputId": "fd533131-d085-49d5-e083-1fafc412b24d"
      },
      "source": [
        "ins['timestamp'] = pd.to_datetime(ins['date'])\n",
        "print(type(ins.timestamp[0]))\n",
        "ins.head()"
      ],
      "execution_count": 34,
      "outputs": [
        {
          "output_type": "stream",
          "name": "stdout",
          "text": [
            "<class 'pandas._libs.tslibs.timestamps.Timestamp'>\n"
          ]
        },
        {
          "output_type": "execute_result",
          "data": {
            "text/html": [
              "<div>\n",
              "<style scoped>\n",
              "    .dataframe tbody tr th:only-of-type {\n",
              "        vertical-align: middle;\n",
              "    }\n",
              "\n",
              "    .dataframe tbody tr th {\n",
              "        vertical-align: top;\n",
              "    }\n",
              "\n",
              "    .dataframe thead th {\n",
              "        text-align: right;\n",
              "    }\n",
              "</style>\n",
              "<table border=\"1\" class=\"dataframe\">\n",
              "  <thead>\n",
              "    <tr style=\"text-align: right;\">\n",
              "      <th></th>\n",
              "      <th>iid</th>\n",
              "      <th>date</th>\n",
              "      <th>score</th>\n",
              "      <th>type</th>\n",
              "      <th>bid</th>\n",
              "      <th>timestamp</th>\n",
              "    </tr>\n",
              "  </thead>\n",
              "  <tbody>\n",
              "    <tr>\n",
              "      <th>0</th>\n",
              "      <td>100010_20190329</td>\n",
              "      <td>03/29/2019 12:00:00 AM</td>\n",
              "      <td>-1</td>\n",
              "      <td>New Construction</td>\n",
              "      <td>100010</td>\n",
              "      <td>2019-03-29</td>\n",
              "    </tr>\n",
              "    <tr>\n",
              "      <th>1</th>\n",
              "      <td>100010_20190403</td>\n",
              "      <td>04/03/2019 12:00:00 AM</td>\n",
              "      <td>100</td>\n",
              "      <td>Routine - Unscheduled</td>\n",
              "      <td>100010</td>\n",
              "      <td>2019-04-03</td>\n",
              "    </tr>\n",
              "    <tr>\n",
              "      <th>2</th>\n",
              "      <td>100017_20190417</td>\n",
              "      <td>04/17/2019 12:00:00 AM</td>\n",
              "      <td>-1</td>\n",
              "      <td>New Ownership</td>\n",
              "      <td>100017</td>\n",
              "      <td>2019-04-17</td>\n",
              "    </tr>\n",
              "    <tr>\n",
              "      <th>3</th>\n",
              "      <td>100017_20190816</td>\n",
              "      <td>08/16/2019 12:00:00 AM</td>\n",
              "      <td>91</td>\n",
              "      <td>Routine - Unscheduled</td>\n",
              "      <td>100017</td>\n",
              "      <td>2019-08-16</td>\n",
              "    </tr>\n",
              "    <tr>\n",
              "      <th>4</th>\n",
              "      <td>100017_20190826</td>\n",
              "      <td>08/26/2019 12:00:00 AM</td>\n",
              "      <td>-1</td>\n",
              "      <td>Reinspection/Followup</td>\n",
              "      <td>100017</td>\n",
              "      <td>2019-08-26</td>\n",
              "    </tr>\n",
              "  </tbody>\n",
              "</table>\n",
              "</div>"
            ],
            "text/plain": [
              "               iid                    date  ...     bid  timestamp\n",
              "0  100010_20190329  03/29/2019 12:00:00 AM  ...  100010 2019-03-29\n",
              "1  100010_20190403  04/03/2019 12:00:00 AM  ...  100010 2019-04-03\n",
              "2  100017_20190417  04/17/2019 12:00:00 AM  ...  100017 2019-04-17\n",
              "3  100017_20190816  08/16/2019 12:00:00 AM  ...  100017 2019-08-16\n",
              "4  100017_20190826  08/26/2019 12:00:00 AM  ...  100017 2019-08-26\n",
              "\n",
              "[5 rows x 6 columns]"
            ]
          },
          "metadata": {},
          "execution_count": 34
        }
      ]
    },
    {
      "cell_type": "markdown",
      "metadata": {
        "id": "Ono2uc2BAoqk"
      },
      "source": [
        "**Part 3**\n",
        "\n",
        "<!--\n",
        "BEGIN QUESTION\n",
        "name: q3ciii\n",
        "points: 1\n",
        "-->"
      ]
    },
    {
      "cell_type": "code",
      "metadata": {
        "colab": {
          "base_uri": "https://localhost:8080/"
        },
        "id": "0bgKE7ssAoqk",
        "outputId": "f0930607-59fc-4210-9afe-293aa6ae4466"
      },
      "source": [
        "earliest_date = min(ins['timestamp'])\n",
        "latest_date = max(ins['timestamp'])\n",
        "\n",
        "print(\"Earliest Date:\", earliest_date)\n",
        "print(\"Latest Date:\", latest_date)"
      ],
      "execution_count": 35,
      "outputs": [
        {
          "output_type": "stream",
          "name": "stdout",
          "text": [
            "Earliest Date: 2016-10-04 00:00:00\n",
            "Latest Date: 2019-11-28 00:00:00\n"
          ]
        }
      ]
    },
    {
      "cell_type": "markdown",
      "metadata": {
        "id": "ozOAI14NAoqk"
      },
      "source": [
        "**Part 4**\n",
        "\n",
        "<!--\n",
        "BEGIN QUESTION\n",
        "name: q3civ\n",
        "points: 1\n",
        "-->"
      ]
    },
    {
      "cell_type": "code",
      "metadata": {
        "id": "q88q2lgaAoqk"
      },
      "source": [
        "ins['year'] = ins['timestamp'].dt.year"
      ],
      "execution_count": 36,
      "outputs": []
    },
    {
      "cell_type": "code",
      "metadata": {
        "colab": {
          "base_uri": "https://localhost:8080/",
          "height": 375
        },
        "id": "6j7pIDkxAoqk",
        "outputId": "583ea422-0e33-4fb8-d3ab-b6b2c10964af"
      },
      "source": [
        "ins.head()"
      ],
      "execution_count": 37,
      "outputs": [
        {
          "output_type": "execute_result",
          "data": {
            "text/html": [
              "<div>\n",
              "<style scoped>\n",
              "    .dataframe tbody tr th:only-of-type {\n",
              "        vertical-align: middle;\n",
              "    }\n",
              "\n",
              "    .dataframe tbody tr th {\n",
              "        vertical-align: top;\n",
              "    }\n",
              "\n",
              "    .dataframe thead th {\n",
              "        text-align: right;\n",
              "    }\n",
              "</style>\n",
              "<table border=\"1\" class=\"dataframe\">\n",
              "  <thead>\n",
              "    <tr style=\"text-align: right;\">\n",
              "      <th></th>\n",
              "      <th>iid</th>\n",
              "      <th>date</th>\n",
              "      <th>score</th>\n",
              "      <th>type</th>\n",
              "      <th>bid</th>\n",
              "      <th>timestamp</th>\n",
              "      <th>year</th>\n",
              "    </tr>\n",
              "  </thead>\n",
              "  <tbody>\n",
              "    <tr>\n",
              "      <th>0</th>\n",
              "      <td>100010_20190329</td>\n",
              "      <td>03/29/2019 12:00:00 AM</td>\n",
              "      <td>-1</td>\n",
              "      <td>New Construction</td>\n",
              "      <td>100010</td>\n",
              "      <td>2019-03-29</td>\n",
              "      <td>2019</td>\n",
              "    </tr>\n",
              "    <tr>\n",
              "      <th>1</th>\n",
              "      <td>100010_20190403</td>\n",
              "      <td>04/03/2019 12:00:00 AM</td>\n",
              "      <td>100</td>\n",
              "      <td>Routine - Unscheduled</td>\n",
              "      <td>100010</td>\n",
              "      <td>2019-04-03</td>\n",
              "      <td>2019</td>\n",
              "    </tr>\n",
              "    <tr>\n",
              "      <th>2</th>\n",
              "      <td>100017_20190417</td>\n",
              "      <td>04/17/2019 12:00:00 AM</td>\n",
              "      <td>-1</td>\n",
              "      <td>New Ownership</td>\n",
              "      <td>100017</td>\n",
              "      <td>2019-04-17</td>\n",
              "      <td>2019</td>\n",
              "    </tr>\n",
              "    <tr>\n",
              "      <th>3</th>\n",
              "      <td>100017_20190816</td>\n",
              "      <td>08/16/2019 12:00:00 AM</td>\n",
              "      <td>91</td>\n",
              "      <td>Routine - Unscheduled</td>\n",
              "      <td>100017</td>\n",
              "      <td>2019-08-16</td>\n",
              "      <td>2019</td>\n",
              "    </tr>\n",
              "    <tr>\n",
              "      <th>4</th>\n",
              "      <td>100017_20190826</td>\n",
              "      <td>08/26/2019 12:00:00 AM</td>\n",
              "      <td>-1</td>\n",
              "      <td>Reinspection/Followup</td>\n",
              "      <td>100017</td>\n",
              "      <td>2019-08-26</td>\n",
              "      <td>2019</td>\n",
              "    </tr>\n",
              "  </tbody>\n",
              "</table>\n",
              "</div>"
            ],
            "text/plain": [
              "               iid                    date  score  ...     bid  timestamp  year\n",
              "0  100010_20190329  03/29/2019 12:00:00 AM     -1  ...  100010 2019-03-29  2019\n",
              "1  100010_20190403  04/03/2019 12:00:00 AM    100  ...  100010 2019-04-03  2019\n",
              "2  100017_20190417  04/17/2019 12:00:00 AM     -1  ...  100017 2019-04-17  2019\n",
              "3  100017_20190816  08/16/2019 12:00:00 AM     91  ...  100017 2019-08-16  2019\n",
              "4  100017_20190826  08/26/2019 12:00:00 AM     -1  ...  100017 2019-08-26  2019\n",
              "\n",
              "[5 rows x 7 columns]"
            ]
          },
          "metadata": {},
          "execution_count": 37
        }
      ]
    },
    {
      "cell_type": "markdown",
      "metadata": {
        "id": "wStLKs6DAoqk"
      },
      "source": [
        "<br/><br/><br/>\n",
        "\n",
        "---\n",
        "\n",
        "## Question 3d\n",
        "\n",
        "What is the relationship between the type of inspection over the 2016 to 2019 timeframe? \n",
        "\n",
        "**Part 1**\n",
        "\n",
        "Construct the following table by\n",
        "1. Using the `pivot_table` containing the number (`size`) of inspections for the given `type` and `year`.\n",
        "1. Adding an extra `Total` column to the result using `sum`\n",
        "1. Sort the results in descending order by the `Total`.\n",
        "\n",
        "<table border=\"1\" class=\"dataframe\">  <thead>    <tr style=\"text-align: right;\">      <th>year</th>      <th>2016</th>      <th>2017</th>      <th>2018</th>      <th>2019</th>      <th>Total</th>    </tr>    <tr>      <th>type</th>      <th></th>      <th></th>      <th></th>      <th></th>      <th></th>    </tr>  </thead>  <tbody>    <tr>      <th>Routine - Unscheduled</th>      <td>966</td>      <td>4057</td>      <td>4373</td>      <td>4681</td>      <td>14077</td>    </tr>    <tr>      <th>Reinspection/Followup</th>      <td>445</td>      <td>1767</td>      <td>1935</td>      <td>2292</td>      <td>6439</td>    </tr>    <tr>      <th>New Ownership</th>      <td>99</td>      <td>506</td>      <td>528</td>      <td>459</td>      <td>1592</td>    </tr>    <tr>      <th>Complaint</th>      <td>91</td>      <td>418</td>      <td>512</td>      <td>437</td>      <td>1458</td>    </tr>    <tr>      <th>New Construction</th>      <td>102</td>      <td>485</td>      <td>218</td>      <td>189</td>      <td>994</td>    </tr>    <tr>      <th>Non-inspection site visit</th>      <td>51</td>      <td>276</td>      <td>253</td>      <td>231</td>      <td>811</td>    </tr>    <tr>      <th>New Ownership - Followup</th>      <td>0</td>      <td>45</td>      <td>219</td>      <td>235</td>      <td>499</td>    </tr>    <tr>      <th>Structural Inspection</th>      <td>1</td>      <td>153</td>      <td>50</td>      <td>190</td>      <td>394</td>    </tr>    <tr>      <th>Complaint Reinspection/Followup</th>      <td>19</td>      <td>68</td>      <td>70</td>      <td>70</td>      <td>227</td>    </tr>    <tr>      <th>Foodborne Illness Investigation</th>      <td>1</td>      <td>29</td>      <td>50</td>      <td>35</td>      <td>115</td>    </tr>    <tr>      <th>Routine - Scheduled</th>      <td>0</td>      <td>9</td>      <td>8</td>      <td>29</td>      <td>46</td>    </tr>    <tr>      <th>Administrative or Document Review</th>      <td>2</td>      <td>1</td>      <td>1</td>      <td>0</td>      <td>4</td>    </tr>    <tr>      <th>Multi-agency Investigation</th>      <td>0</td>      <td>0</td>      <td>1</td>      <td>2</td>      <td>3</td>    </tr>    <tr>      <th>Special Event</th>      <td>0</td>      <td>3</td>      <td>0</td>      <td>0</td>      <td>3</td>    </tr>    <tr>      <th>Community Health Assessment</th>      <td>1</td>      <td>0</td>      <td>0</td>      <td>0</td>      <td>1</td>    </tr>  </tbody></table>\n",
        "\n",
        "**No python `for` loops or list comprehensions required!**"
      ]
    },
    {
      "cell_type": "code",
      "metadata": {
        "colab": {
          "base_uri": "https://localhost:8080/",
          "height": 546
        },
        "id": "k2HqWN6HAoql",
        "outputId": "2c368d06-7736-4135-e6f0-3ab657cd89e1"
      },
      "source": [
        "ins_pivot = pd.pivot_table(ins, values='bid', index='type', columns='year', aggfunc='count')\n",
        "ins_pivot.fillna(0, inplace=True)\n",
        "ins_pivot['Total'] = ins_pivot.sum(axis=1)\n",
        "ins_pivot.astype('int32')\n",
        "ins_pivot_sorted = ins_pivot.sort_values(by=['Total'],ascending=False)\n",
        "ins_pivot_sorted"
      ],
      "execution_count": 38,
      "outputs": [
        {
          "output_type": "execute_result",
          "data": {
            "text/html": [
              "<div>\n",
              "<style scoped>\n",
              "    .dataframe tbody tr th:only-of-type {\n",
              "        vertical-align: middle;\n",
              "    }\n",
              "\n",
              "    .dataframe tbody tr th {\n",
              "        vertical-align: top;\n",
              "    }\n",
              "\n",
              "    .dataframe thead th {\n",
              "        text-align: right;\n",
              "    }\n",
              "</style>\n",
              "<table border=\"1\" class=\"dataframe\">\n",
              "  <thead>\n",
              "    <tr style=\"text-align: right;\">\n",
              "      <th>year</th>\n",
              "      <th>2016</th>\n",
              "      <th>2017</th>\n",
              "      <th>2018</th>\n",
              "      <th>2019</th>\n",
              "      <th>Total</th>\n",
              "    </tr>\n",
              "    <tr>\n",
              "      <th>type</th>\n",
              "      <th></th>\n",
              "      <th></th>\n",
              "      <th></th>\n",
              "      <th></th>\n",
              "      <th></th>\n",
              "    </tr>\n",
              "  </thead>\n",
              "  <tbody>\n",
              "    <tr>\n",
              "      <th>Routine - Unscheduled</th>\n",
              "      <td>966.0</td>\n",
              "      <td>4057.0</td>\n",
              "      <td>4373.0</td>\n",
              "      <td>4681.0</td>\n",
              "      <td>14077.0</td>\n",
              "    </tr>\n",
              "    <tr>\n",
              "      <th>Reinspection/Followup</th>\n",
              "      <td>445.0</td>\n",
              "      <td>1767.0</td>\n",
              "      <td>1935.0</td>\n",
              "      <td>2292.0</td>\n",
              "      <td>6439.0</td>\n",
              "    </tr>\n",
              "    <tr>\n",
              "      <th>New Ownership</th>\n",
              "      <td>99.0</td>\n",
              "      <td>506.0</td>\n",
              "      <td>528.0</td>\n",
              "      <td>459.0</td>\n",
              "      <td>1592.0</td>\n",
              "    </tr>\n",
              "    <tr>\n",
              "      <th>Complaint</th>\n",
              "      <td>91.0</td>\n",
              "      <td>418.0</td>\n",
              "      <td>512.0</td>\n",
              "      <td>437.0</td>\n",
              "      <td>1458.0</td>\n",
              "    </tr>\n",
              "    <tr>\n",
              "      <th>New Construction</th>\n",
              "      <td>102.0</td>\n",
              "      <td>485.0</td>\n",
              "      <td>218.0</td>\n",
              "      <td>189.0</td>\n",
              "      <td>994.0</td>\n",
              "    </tr>\n",
              "    <tr>\n",
              "      <th>Non-inspection site visit</th>\n",
              "      <td>51.0</td>\n",
              "      <td>276.0</td>\n",
              "      <td>253.0</td>\n",
              "      <td>231.0</td>\n",
              "      <td>811.0</td>\n",
              "    </tr>\n",
              "    <tr>\n",
              "      <th>New Ownership - Followup</th>\n",
              "      <td>0.0</td>\n",
              "      <td>45.0</td>\n",
              "      <td>219.0</td>\n",
              "      <td>235.0</td>\n",
              "      <td>499.0</td>\n",
              "    </tr>\n",
              "    <tr>\n",
              "      <th>Structural Inspection</th>\n",
              "      <td>1.0</td>\n",
              "      <td>153.0</td>\n",
              "      <td>50.0</td>\n",
              "      <td>190.0</td>\n",
              "      <td>394.0</td>\n",
              "    </tr>\n",
              "    <tr>\n",
              "      <th>Complaint Reinspection/Followup</th>\n",
              "      <td>19.0</td>\n",
              "      <td>68.0</td>\n",
              "      <td>70.0</td>\n",
              "      <td>70.0</td>\n",
              "      <td>227.0</td>\n",
              "    </tr>\n",
              "    <tr>\n",
              "      <th>Foodborne Illness Investigation</th>\n",
              "      <td>1.0</td>\n",
              "      <td>29.0</td>\n",
              "      <td>50.0</td>\n",
              "      <td>35.0</td>\n",
              "      <td>115.0</td>\n",
              "    </tr>\n",
              "    <tr>\n",
              "      <th>Routine - Scheduled</th>\n",
              "      <td>0.0</td>\n",
              "      <td>9.0</td>\n",
              "      <td>8.0</td>\n",
              "      <td>29.0</td>\n",
              "      <td>46.0</td>\n",
              "    </tr>\n",
              "    <tr>\n",
              "      <th>Administrative or Document Review</th>\n",
              "      <td>2.0</td>\n",
              "      <td>1.0</td>\n",
              "      <td>1.0</td>\n",
              "      <td>0.0</td>\n",
              "      <td>4.0</td>\n",
              "    </tr>\n",
              "    <tr>\n",
              "      <th>Multi-agency Investigation</th>\n",
              "      <td>0.0</td>\n",
              "      <td>0.0</td>\n",
              "      <td>1.0</td>\n",
              "      <td>2.0</td>\n",
              "      <td>3.0</td>\n",
              "    </tr>\n",
              "    <tr>\n",
              "      <th>Special Event</th>\n",
              "      <td>0.0</td>\n",
              "      <td>3.0</td>\n",
              "      <td>0.0</td>\n",
              "      <td>0.0</td>\n",
              "      <td>3.0</td>\n",
              "    </tr>\n",
              "    <tr>\n",
              "      <th>Community Health Assessment</th>\n",
              "      <td>1.0</td>\n",
              "      <td>0.0</td>\n",
              "      <td>0.0</td>\n",
              "      <td>0.0</td>\n",
              "      <td>1.0</td>\n",
              "    </tr>\n",
              "  </tbody>\n",
              "</table>\n",
              "</div>"
            ],
            "text/plain": [
              "year                                2016    2017    2018    2019    Total\n",
              "type                                                                     \n",
              "Routine - Unscheduled              966.0  4057.0  4373.0  4681.0  14077.0\n",
              "Reinspection/Followup              445.0  1767.0  1935.0  2292.0   6439.0\n",
              "New Ownership                       99.0   506.0   528.0   459.0   1592.0\n",
              "Complaint                           91.0   418.0   512.0   437.0   1458.0\n",
              "New Construction                   102.0   485.0   218.0   189.0    994.0\n",
              "Non-inspection site visit           51.0   276.0   253.0   231.0    811.0\n",
              "New Ownership - Followup             0.0    45.0   219.0   235.0    499.0\n",
              "Structural Inspection                1.0   153.0    50.0   190.0    394.0\n",
              "Complaint Reinspection/Followup     19.0    68.0    70.0    70.0    227.0\n",
              "Foodborne Illness Investigation      1.0    29.0    50.0    35.0    115.0\n",
              "Routine - Scheduled                  0.0     9.0     8.0    29.0     46.0\n",
              "Administrative or Document Review    2.0     1.0     1.0     0.0      4.0\n",
              "Multi-agency Investigation           0.0     0.0     1.0     2.0      3.0\n",
              "Special Event                        0.0     3.0     0.0     0.0      3.0\n",
              "Community Health Assessment          1.0     0.0     0.0     0.0      1.0"
            ]
          },
          "metadata": {},
          "execution_count": 38
        }
      ]
    },
    {
      "cell_type": "markdown",
      "metadata": {
        "id": "MB6y-RbkAoql"
      },
      "source": [
        "**Part 2**\n",
        "\n",
        "Based on the above analysis, which year appears to have had a lot of businesses in newly constructed buildings?\n",
        "<!--\n",
        "BEGIN QUESTION\n",
        "name: q3dii\n",
        "points: 2\n",
        "-->"
      ]
    },
    {
      "cell_type": "code",
      "metadata": {
        "id": "_ThMHjlJAoql"
      },
      "source": [
        "year_of_new_construction = 2017"
      ],
      "execution_count": 39,
      "outputs": []
    },
    {
      "cell_type": "markdown",
      "metadata": {
        "id": "H4WPDkyNAoqq"
      },
      "source": [
        "<br/><br/><br/>\n",
        "\n",
        "---\n",
        "\n",
        "## Question 3e\n",
        "\n",
        "Let's examine the inspection scores `ins['score']`\n",
        "\n"
      ]
    },
    {
      "cell_type": "code",
      "metadata": {
        "colab": {
          "base_uri": "https://localhost:8080/"
        },
        "id": "-6sZfyh_Aoqq",
        "outputId": "7aaea2a4-4169-47d1-bdea-5e9958b39dd7"
      },
      "source": [
        "ins['score'].value_counts().head()"
      ],
      "execution_count": 40,
      "outputs": [
        {
          "output_type": "execute_result",
          "data": {
            "text/plain": [
              "-1      12632\n",
              " 100     1993\n",
              " 96      1681\n",
              " 92      1260\n",
              " 94      1250\n",
              "Name: score, dtype: int64"
            ]
          },
          "metadata": {},
          "execution_count": 40
        }
      ]
    },
    {
      "cell_type": "markdown",
      "metadata": {
        "id": "PnO2widrAoqq"
      },
      "source": [
        "There are a large number of inspections with the `'score'` of `-1`.   These are probably missing values.  Let's see what type of inspections have scores and which do not. Create the following dataframe using steps similar to the previous question, and assign it to to the variable `ins_missing_score_pivot`.\n",
        "\n",
        "You should observe that inspection scores appear only to be assigned to `Routine - Unscheduled` inspections.\n",
        "\n",
        "\n",
        "<table border=\"1\" class=\"dataframe\">  <thead>    <tr style=\"text-align: right;\">      <th>Missing Score</th>      <th>False</th>      <th>True</th>      <th>Total</th>    </tr>    <tr>      <th>type</th>      <th></th>      <th></th>      <th></th>    </tr>  </thead>  <tbody>    <tr>      <th>Routine - Unscheduled</th>      <td>14031</td>      <td>46</td>      <td>14077</td>    </tr>    <tr>      <th>Reinspection/Followup</th>      <td>0</td>      <td>6439</td>      <td>6439</td>    </tr>    <tr>      <th>New Ownership</th>      <td>0</td>      <td>1592</td>      <td>1592</td>    </tr>    <tr>      <th>Complaint</th>      <td>0</td>      <td>1458</td>      <td>1458</td>    </tr>    <tr>      <th>New Construction</th>      <td>0</td>      <td>994</td>      <td>994</td>    </tr>    <tr>      <th>Non-inspection site visit</th>      <td>0</td>      <td>811</td>      <td>811</td>    </tr>    <tr>      <th>New Ownership - Followup</th>      <td>0</td>      <td>499</td>      <td>499</td>    </tr>    <tr>      <th>Structural Inspection</th>      <td>0</td>      <td>394</td>      <td>394</td>    </tr>    <tr>      <th>Complaint Reinspection/Followup</th>      <td>0</td>      <td>227</td>      <td>227</td>    </tr>    <tr>      <th>Foodborne Illness Investigation</th>      <td>0</td>      <td>115</td>      <td>115</td>    </tr>    <tr>      <th>Routine - Scheduled</th>      <td>0</td>      <td>46</td>      <td>46</td>    </tr>    <tr>      <th>Administrative or Document Review</th>      <td>0</td>      <td>4</td>      <td>4</td>    </tr>    <tr>      <th>Multi-agency Investigation</th>      <td>0</td>      <td>3</td>      <td>3</td>    </tr>    <tr>      <th>Special Event</th>      <td>0</td>      <td>3</td>      <td>3</td>    </tr>    <tr>      <th>Community Health Assessment</th>      <td>0</td>      <td>1</td>      <td>1</td>    </tr>  </tbody></table>\n",
        "\n"
      ]
    },
    {
      "cell_type": "code",
      "metadata": {
        "colab": {
          "base_uri": "https://localhost:8080/",
          "height": 546
        },
        "id": "UqPAKyD4Aoqq",
        "outputId": "3a9e4023-4312-4e0f-de0c-c8d1f638c059"
      },
      "source": [
        "ins['missing'] = ins['score'] == -1\n",
        "ins_missing_score_pivot = pd.pivot_table(ins, values='bid', index='type', columns='missing', aggfunc='count')\n",
        "ins_missing_score_pivot.fillna(0, inplace=True)\n",
        "ins_missing_score_pivot['Total'] = ins_missing_score_pivot.sum(axis=1)\n",
        "ins_missing_score_pivot_sorted = ins_missing_score_pivot.sort_values(by=['Total'],ascending=False)\n",
        "ins_missing_score_pivot_sorted"
      ],
      "execution_count": 41,
      "outputs": [
        {
          "output_type": "execute_result",
          "data": {
            "text/html": [
              "<div>\n",
              "<style scoped>\n",
              "    .dataframe tbody tr th:only-of-type {\n",
              "        vertical-align: middle;\n",
              "    }\n",
              "\n",
              "    .dataframe tbody tr th {\n",
              "        vertical-align: top;\n",
              "    }\n",
              "\n",
              "    .dataframe thead th {\n",
              "        text-align: right;\n",
              "    }\n",
              "</style>\n",
              "<table border=\"1\" class=\"dataframe\">\n",
              "  <thead>\n",
              "    <tr style=\"text-align: right;\">\n",
              "      <th>missing</th>\n",
              "      <th>False</th>\n",
              "      <th>True</th>\n",
              "      <th>Total</th>\n",
              "    </tr>\n",
              "    <tr>\n",
              "      <th>type</th>\n",
              "      <th></th>\n",
              "      <th></th>\n",
              "      <th></th>\n",
              "    </tr>\n",
              "  </thead>\n",
              "  <tbody>\n",
              "    <tr>\n",
              "      <th>Routine - Unscheduled</th>\n",
              "      <td>14031.0</td>\n",
              "      <td>46.0</td>\n",
              "      <td>14077.0</td>\n",
              "    </tr>\n",
              "    <tr>\n",
              "      <th>Reinspection/Followup</th>\n",
              "      <td>0.0</td>\n",
              "      <td>6439.0</td>\n",
              "      <td>6439.0</td>\n",
              "    </tr>\n",
              "    <tr>\n",
              "      <th>New Ownership</th>\n",
              "      <td>0.0</td>\n",
              "      <td>1592.0</td>\n",
              "      <td>1592.0</td>\n",
              "    </tr>\n",
              "    <tr>\n",
              "      <th>Complaint</th>\n",
              "      <td>0.0</td>\n",
              "      <td>1458.0</td>\n",
              "      <td>1458.0</td>\n",
              "    </tr>\n",
              "    <tr>\n",
              "      <th>New Construction</th>\n",
              "      <td>0.0</td>\n",
              "      <td>994.0</td>\n",
              "      <td>994.0</td>\n",
              "    </tr>\n",
              "    <tr>\n",
              "      <th>Non-inspection site visit</th>\n",
              "      <td>0.0</td>\n",
              "      <td>811.0</td>\n",
              "      <td>811.0</td>\n",
              "    </tr>\n",
              "    <tr>\n",
              "      <th>New Ownership - Followup</th>\n",
              "      <td>0.0</td>\n",
              "      <td>499.0</td>\n",
              "      <td>499.0</td>\n",
              "    </tr>\n",
              "    <tr>\n",
              "      <th>Structural Inspection</th>\n",
              "      <td>0.0</td>\n",
              "      <td>394.0</td>\n",
              "      <td>394.0</td>\n",
              "    </tr>\n",
              "    <tr>\n",
              "      <th>Complaint Reinspection/Followup</th>\n",
              "      <td>0.0</td>\n",
              "      <td>227.0</td>\n",
              "      <td>227.0</td>\n",
              "    </tr>\n",
              "    <tr>\n",
              "      <th>Foodborne Illness Investigation</th>\n",
              "      <td>0.0</td>\n",
              "      <td>115.0</td>\n",
              "      <td>115.0</td>\n",
              "    </tr>\n",
              "    <tr>\n",
              "      <th>Routine - Scheduled</th>\n",
              "      <td>0.0</td>\n",
              "      <td>46.0</td>\n",
              "      <td>46.0</td>\n",
              "    </tr>\n",
              "    <tr>\n",
              "      <th>Administrative or Document Review</th>\n",
              "      <td>0.0</td>\n",
              "      <td>4.0</td>\n",
              "      <td>4.0</td>\n",
              "    </tr>\n",
              "    <tr>\n",
              "      <th>Multi-agency Investigation</th>\n",
              "      <td>0.0</td>\n",
              "      <td>3.0</td>\n",
              "      <td>3.0</td>\n",
              "    </tr>\n",
              "    <tr>\n",
              "      <th>Special Event</th>\n",
              "      <td>0.0</td>\n",
              "      <td>3.0</td>\n",
              "      <td>3.0</td>\n",
              "    </tr>\n",
              "    <tr>\n",
              "      <th>Community Health Assessment</th>\n",
              "      <td>0.0</td>\n",
              "      <td>1.0</td>\n",
              "      <td>1.0</td>\n",
              "    </tr>\n",
              "  </tbody>\n",
              "</table>\n",
              "</div>"
            ],
            "text/plain": [
              "missing                              False    True    Total\n",
              "type                                                       \n",
              "Routine - Unscheduled              14031.0    46.0  14077.0\n",
              "Reinspection/Followup                  0.0  6439.0   6439.0\n",
              "New Ownership                          0.0  1592.0   1592.0\n",
              "Complaint                              0.0  1458.0   1458.0\n",
              "New Construction                       0.0   994.0    994.0\n",
              "Non-inspection site visit              0.0   811.0    811.0\n",
              "New Ownership - Followup               0.0   499.0    499.0\n",
              "Structural Inspection                  0.0   394.0    394.0\n",
              "Complaint Reinspection/Followup        0.0   227.0    227.0\n",
              "Foodborne Illness Investigation        0.0   115.0    115.0\n",
              "Routine - Scheduled                    0.0    46.0     46.0\n",
              "Administrative or Document Review      0.0     4.0      4.0\n",
              "Multi-agency Investigation             0.0     3.0      3.0\n",
              "Special Event                          0.0     3.0      3.0\n",
              "Community Health Assessment            0.0     1.0      1.0"
            ]
          },
          "metadata": {},
          "execution_count": 41
        }
      ]
    },
    {
      "cell_type": "markdown",
      "metadata": {
        "id": "BCIybJSTAoqq"
      },
      "source": [
        "Notice that inspection scores appear only to be assigned to `Routine - Unscheduled` inspections. It is reasonable that for inspection types such as `New Ownership` and `Complaint` to have no associated inspection scores, but we might be curious why there are no inspection scores for the `Reinspection/Followup` inspection type."
      ]
    },
    {
      "cell_type": "markdown",
      "metadata": {
        "id": "J_N39Wg3Aoqr"
      },
      "source": [
        "<br/><br/><br/>\n",
        "\n",
        "---\n",
        "\n",
        "<br/><br/><br/>\n",
        "\n",
        "# 4: Joining Data Across Tables\n",
        "\n",
        "In this question we will start to connect data across mulitple tables.  We will be using the `merge` function. "
      ]
    },
    {
      "cell_type": "markdown",
      "metadata": {
        "id": "76nvBOy8Aoqr"
      },
      "source": [
        "<br/><br/><br/>\n",
        "\n",
        "--- \n",
        "\n",
        "## Question 4a\n",
        "\n",
        "Let's figure out which restaurants had the lowest scores. Before we proceed, let's filter out missing scores from `ins` so that negative scores don't influence our results."
      ]
    },
    {
      "cell_type": "code",
      "metadata": {
        "id": "O24q8poPAoqr"
      },
      "source": [
        "ins = ins[ins[\"score\"] > 0]"
      ],
      "execution_count": 42,
      "outputs": []
    },
    {
      "cell_type": "markdown",
      "metadata": {
        "id": "XRe3RI48Aoqr"
      },
      "source": [
        "We'll start by creating a new dataframe called `ins_named`. It should be exactly the same as `ins`, except that it should have the name and address of every business, as determined by the `bus` dataframe. If a `business_id` in `ins` does not exist in `bus`, the name and address should be given as `NaN`. \n",
        "\n",
        "*Hint*: Use the merge method to join the `ins` dataframe with the appropriate portion of the `bus` dataframe. See the official [documentation](https://pandas.pydata.org/pandas-docs/stable/user_guide/merging.html) on how to use `merge`.\n",
        "\n",
        "*Note*: For quick reference, a pandas 'left' join keeps the keys from the left frame, so if `ins` is the left frame, all the keys from `ins` are kept and if a set of these keys don't have matches in the other frame, the columns from the other frame for these \"unmatched\" key rows contains NaNs.\n",
        "\n",
        "<!--\n",
        "BEGIN QUESTION\n",
        "name: q4a\n",
        "points: 2\n",
        "-->"
      ]
    },
    {
      "cell_type": "code",
      "metadata": {
        "colab": {
          "base_uri": "https://localhost:8080/",
          "height": 497
        },
        "id": "KOoeX1dpAoqr",
        "outputId": "2b48a4dc-6664-4fb2-99ab-e3f260b9a3cb"
      },
      "source": [
        "ins.head()\n",
        "bus['bid'] = bus['bid'].apply(int)\n",
        "ins['bid'] = ins['bid'].apply(int)\n",
        "ins_named = pd.merge(ins,bus,how='left',on='bid')\n",
        "ins_named.head()"
      ],
      "execution_count": 43,
      "outputs": [
        {
          "output_type": "execute_result",
          "data": {
            "text/html": [
              "<div>\n",
              "<style scoped>\n",
              "    .dataframe tbody tr th:only-of-type {\n",
              "        vertical-align: middle;\n",
              "    }\n",
              "\n",
              "    .dataframe tbody tr th {\n",
              "        vertical-align: top;\n",
              "    }\n",
              "\n",
              "    .dataframe thead th {\n",
              "        text-align: right;\n",
              "    }\n",
              "</style>\n",
              "<table border=\"1\" class=\"dataframe\">\n",
              "  <thead>\n",
              "    <tr style=\"text-align: right;\">\n",
              "      <th></th>\n",
              "      <th>iid</th>\n",
              "      <th>date</th>\n",
              "      <th>score</th>\n",
              "      <th>type</th>\n",
              "      <th>bid</th>\n",
              "      <th>timestamp</th>\n",
              "      <th>year</th>\n",
              "      <th>missing</th>\n",
              "      <th>name</th>\n",
              "      <th>address</th>\n",
              "      <th>city</th>\n",
              "      <th>state</th>\n",
              "      <th>postal_code</th>\n",
              "      <th>latitude</th>\n",
              "      <th>longitude</th>\n",
              "      <th>phone_number</th>\n",
              "      <th>postal5</th>\n",
              "    </tr>\n",
              "  </thead>\n",
              "  <tbody>\n",
              "    <tr>\n",
              "      <th>0</th>\n",
              "      <td>100010_20190403</td>\n",
              "      <td>04/03/2019 12:00:00 AM</td>\n",
              "      <td>100</td>\n",
              "      <td>Routine - Unscheduled</td>\n",
              "      <td>100010</td>\n",
              "      <td>2019-04-03</td>\n",
              "      <td>2019</td>\n",
              "      <td>False</td>\n",
              "      <td>ILLY CAFFE SF_PIER 39</td>\n",
              "      <td>PIER 39  K-106-B</td>\n",
              "      <td>San Francisco</td>\n",
              "      <td>CA</td>\n",
              "      <td>94133</td>\n",
              "      <td>-9999.0</td>\n",
              "      <td>-9999.0</td>\n",
              "      <td>14154827284</td>\n",
              "      <td>94133</td>\n",
              "    </tr>\n",
              "    <tr>\n",
              "      <th>1</th>\n",
              "      <td>100017_20190816</td>\n",
              "      <td>08/16/2019 12:00:00 AM</td>\n",
              "      <td>91</td>\n",
              "      <td>Routine - Unscheduled</td>\n",
              "      <td>100017</td>\n",
              "      <td>2019-08-16</td>\n",
              "      <td>2019</td>\n",
              "      <td>False</td>\n",
              "      <td>AMICI'S EAST COAST PIZZERIA</td>\n",
              "      <td>475 06th St</td>\n",
              "      <td>San Francisco</td>\n",
              "      <td>CA</td>\n",
              "      <td>94103</td>\n",
              "      <td>-9999.0</td>\n",
              "      <td>-9999.0</td>\n",
              "      <td>14155279839</td>\n",
              "      <td>94103</td>\n",
              "    </tr>\n",
              "    <tr>\n",
              "      <th>2</th>\n",
              "      <td>100041_20190520</td>\n",
              "      <td>05/20/2019 12:00:00 AM</td>\n",
              "      <td>83</td>\n",
              "      <td>Routine - Unscheduled</td>\n",
              "      <td>100041</td>\n",
              "      <td>2019-05-20</td>\n",
              "      <td>2019</td>\n",
              "      <td>False</td>\n",
              "      <td>UNCLE LEE CAFE</td>\n",
              "      <td>3608 BALBOA ST</td>\n",
              "      <td>San Francisco</td>\n",
              "      <td>CA</td>\n",
              "      <td>94121</td>\n",
              "      <td>-9999.0</td>\n",
              "      <td>-9999.0</td>\n",
              "      <td>-9999</td>\n",
              "      <td>94121</td>\n",
              "    </tr>\n",
              "    <tr>\n",
              "      <th>3</th>\n",
              "      <td>100055_20190425</td>\n",
              "      <td>04/25/2019 12:00:00 AM</td>\n",
              "      <td>98</td>\n",
              "      <td>Routine - Unscheduled</td>\n",
              "      <td>100055</td>\n",
              "      <td>2019-04-25</td>\n",
              "      <td>2019</td>\n",
              "      <td>False</td>\n",
              "      <td>Twirl and Dip</td>\n",
              "      <td>335 Martin Luther King Jr. Dr</td>\n",
              "      <td>San Francisco</td>\n",
              "      <td>CA</td>\n",
              "      <td>94118</td>\n",
              "      <td>-9999.0</td>\n",
              "      <td>-9999.0</td>\n",
              "      <td>14155300260</td>\n",
              "      <td>94118</td>\n",
              "    </tr>\n",
              "    <tr>\n",
              "      <th>4</th>\n",
              "      <td>100055_20190912</td>\n",
              "      <td>09/12/2019 12:00:00 AM</td>\n",
              "      <td>82</td>\n",
              "      <td>Routine - Unscheduled</td>\n",
              "      <td>100055</td>\n",
              "      <td>2019-09-12</td>\n",
              "      <td>2019</td>\n",
              "      <td>False</td>\n",
              "      <td>Twirl and Dip</td>\n",
              "      <td>335 Martin Luther King Jr. Dr</td>\n",
              "      <td>San Francisco</td>\n",
              "      <td>CA</td>\n",
              "      <td>94118</td>\n",
              "      <td>-9999.0</td>\n",
              "      <td>-9999.0</td>\n",
              "      <td>14155300260</td>\n",
              "      <td>94118</td>\n",
              "    </tr>\n",
              "  </tbody>\n",
              "</table>\n",
              "</div>"
            ],
            "text/plain": [
              "               iid                    date  ...  phone_number postal5\n",
              "0  100010_20190403  04/03/2019 12:00:00 AM  ...   14154827284   94133\n",
              "1  100017_20190816  08/16/2019 12:00:00 AM  ...   14155279839   94103\n",
              "2  100041_20190520  05/20/2019 12:00:00 AM  ...         -9999   94121\n",
              "3  100055_20190425  04/25/2019 12:00:00 AM  ...   14155300260   94118\n",
              "4  100055_20190912  09/12/2019 12:00:00 AM  ...   14155300260   94118\n",
              "\n",
              "[5 rows x 17 columns]"
            ]
          },
          "metadata": {},
          "execution_count": 43
        }
      ]
    },
    {
      "cell_type": "markdown",
      "metadata": {
        "id": "ms5sqA6tAoqr"
      },
      "source": [
        "<br/><br/><br/>\n",
        "\n",
        "--- \n",
        "\n",
        "## Question 4b\n",
        "\n",
        "Let's look at the 20 businesses with the lowest **median** score.  Order your results by the median score followed by the business id to break ties. The resulting table should look like:\n",
        "\n",
        "\n",
        "*Hint: You may find the `as_index` argument in the `groupby` method important*. [The documentation is linked here!](https://pandas.pydata.org/pandas-docs/stable/reference/api/pandas.DataFrame.groupby.html)\n",
        "\n",
        "<table border=\"1\" class=\"dataframe\">  <thead>    <tr style=\"text-align: right;\">      <th></th>      <th>bid</th>      <th>name</th>      <th>median score</th>    </tr>  </thead>  <tbody>    <tr>      <th>3876</th>      <td>84590</td>      <td>Chaat Corner</td>      <td>54.0</td>    </tr>    <tr>      <th>4564</th>      <td>90622</td>      <td>Taqueria Lolita</td>      <td>57.0</td>    </tr>    <tr>      <th>4990</th>      <td>94351</td>      <td>VBowls LLC</td>      <td>58.0</td>    </tr>    <tr>      <th>2719</th>      <td>69282</td>      <td>New Jumbo Seafood Restaurant</td>      <td>60.5</td>    </tr>    <tr>      <th>222</th>      <td>1154</td>      <td>SUNFLOWER RESTAURANT</td>      <td>63.5</td>    </tr>    <tr>      <th>1991</th>      <td>39776</td>      <td>Duc Loi Supermarket</td>      <td>64.0</td>    </tr>    <tr>      <th>2734</th>      <td>69397</td>      <td>Minna SF Group LLC</td>      <td>64.0</td>    </tr>    <tr>      <th>3291</th>      <td>78328</td>      <td>Golden Wok</td>      <td>64.0</td>    </tr>    <tr>      <th>4870</th>      <td>93150</td>      <td>Chez Beesen</td>      <td>64.0</td>    </tr>    <tr>      <th>4911</th>      <td>93502</td>      <td>Smoky Man</td>      <td>64.0</td>    </tr>    <tr>      <th>5510</th>      <td>98995</td>      <td>Vallarta's Taco Bar</td>      <td>64.0</td>    </tr>    <tr>      <th>1457</th>      <td>10877</td>      <td>CHINA FIRST INC.</td>      <td>64.5</td>    </tr>    <tr>      <th>2890</th>      <td>71310</td>      <td>Golden King Vietnamese Restaurant</td>      <td>64.5</td>    </tr>    <tr>      <th>4352</th>      <td>89070</td>      <td>Lafayette Coffee Shop</td>      <td>64.5</td>    </tr>    <tr>      <th>505</th>      <td>2542</td>      <td>PETER D'S RESTAURANT</td>      <td>65.0</td>    </tr>    <tr>      <th>2874</th>      <td>71008</td>      <td>House of Pancakes</td>      <td>65.0</td>    </tr>    <tr>      <th>818</th>      <td>3862</td>      <td>IMPERIAL GARDEN SEAFOOD RESTAURANT</td>      <td>66.0</td>    </tr>    <tr>      <th>2141</th>      <td>61427</td>      <td>Nick's Foods</td>      <td>66.0</td>    </tr>    <tr>      <th>2954</th>      <td>72176</td>      <td>Wolfes Lunch</td>      <td>66.0</td>    </tr>    <tr>      <th>4367</th>      <td>89141</td>      <td>Cha Cha Cha on Mission</td>      <td>66.5</td>    </tr>  </tbody></table>\n",
        "\n",
        "\n",
        "<!--\n",
        "BEGIN QUESTION\n",
        "name: q4b\n",
        "points: 3\n",
        "-->"
      ]
    },
    {
      "cell_type": "code",
      "metadata": {
        "colab": {
          "base_uri": "https://localhost:8080/",
          "height": 670
        },
        "id": "dgom10X_Aoqr",
        "outputId": "ee5faf47-f398-4385-88ae-52ddfe378871"
      },
      "source": [
        "twenty_lowest_scoring = ins_named.groupby(['bid','name'], as_index=False).median()\n",
        "twenty_lowest_scoring = twenty_lowest_scoring.sort_values(by=['score'],ascending=True)\n",
        "twenty_lowest_scoring = twenty_lowest_scoring[:20].drop(labels=['year','missing','latitude','longitude','phone_number'],axis=1)\n",
        "twenty_lowest_scoring.rename(columns={'score':'median score'},inplace=True)\n",
        "twenty_lowest_scoring"
      ],
      "execution_count": 44,
      "outputs": [
        {
          "output_type": "execute_result",
          "data": {
            "text/html": [
              "<div>\n",
              "<style scoped>\n",
              "    .dataframe tbody tr th:only-of-type {\n",
              "        vertical-align: middle;\n",
              "    }\n",
              "\n",
              "    .dataframe tbody tr th {\n",
              "        vertical-align: top;\n",
              "    }\n",
              "\n",
              "    .dataframe thead th {\n",
              "        text-align: right;\n",
              "    }\n",
              "</style>\n",
              "<table border=\"1\" class=\"dataframe\">\n",
              "  <thead>\n",
              "    <tr style=\"text-align: right;\">\n",
              "      <th></th>\n",
              "      <th>bid</th>\n",
              "      <th>name</th>\n",
              "      <th>median score</th>\n",
              "    </tr>\n",
              "  </thead>\n",
              "  <tbody>\n",
              "    <tr>\n",
              "      <th>3876</th>\n",
              "      <td>84590</td>\n",
              "      <td>Chaat Corner</td>\n",
              "      <td>54.0</td>\n",
              "    </tr>\n",
              "    <tr>\n",
              "      <th>4564</th>\n",
              "      <td>90622</td>\n",
              "      <td>Taqueria Lolita</td>\n",
              "      <td>57.0</td>\n",
              "    </tr>\n",
              "    <tr>\n",
              "      <th>4990</th>\n",
              "      <td>94351</td>\n",
              "      <td>VBowls LLC</td>\n",
              "      <td>58.0</td>\n",
              "    </tr>\n",
              "    <tr>\n",
              "      <th>2719</th>\n",
              "      <td>69282</td>\n",
              "      <td>New Jumbo Seafood Restaurant</td>\n",
              "      <td>60.5</td>\n",
              "    </tr>\n",
              "    <tr>\n",
              "      <th>222</th>\n",
              "      <td>1154</td>\n",
              "      <td>SUNFLOWER RESTAURANT</td>\n",
              "      <td>63.5</td>\n",
              "    </tr>\n",
              "    <tr>\n",
              "      <th>1991</th>\n",
              "      <td>39776</td>\n",
              "      <td>Duc Loi Supermarket</td>\n",
              "      <td>64.0</td>\n",
              "    </tr>\n",
              "    <tr>\n",
              "      <th>2734</th>\n",
              "      <td>69397</td>\n",
              "      <td>Minna SF Group LLC</td>\n",
              "      <td>64.0</td>\n",
              "    </tr>\n",
              "    <tr>\n",
              "      <th>4870</th>\n",
              "      <td>93150</td>\n",
              "      <td>Chez Beesen</td>\n",
              "      <td>64.0</td>\n",
              "    </tr>\n",
              "    <tr>\n",
              "      <th>4911</th>\n",
              "      <td>93502</td>\n",
              "      <td>Smoky Man</td>\n",
              "      <td>64.0</td>\n",
              "    </tr>\n",
              "    <tr>\n",
              "      <th>3291</th>\n",
              "      <td>78328</td>\n",
              "      <td>Golden Wok</td>\n",
              "      <td>64.0</td>\n",
              "    </tr>\n",
              "    <tr>\n",
              "      <th>5510</th>\n",
              "      <td>98995</td>\n",
              "      <td>Vallarta's Taco Bar</td>\n",
              "      <td>64.0</td>\n",
              "    </tr>\n",
              "    <tr>\n",
              "      <th>2890</th>\n",
              "      <td>71310</td>\n",
              "      <td>Golden King Vietnamese Restaurant</td>\n",
              "      <td>64.5</td>\n",
              "    </tr>\n",
              "    <tr>\n",
              "      <th>1457</th>\n",
              "      <td>10877</td>\n",
              "      <td>CHINA FIRST INC.</td>\n",
              "      <td>64.5</td>\n",
              "    </tr>\n",
              "    <tr>\n",
              "      <th>4352</th>\n",
              "      <td>89070</td>\n",
              "      <td>Lafayette Coffee Shop</td>\n",
              "      <td>64.5</td>\n",
              "    </tr>\n",
              "    <tr>\n",
              "      <th>505</th>\n",
              "      <td>2542</td>\n",
              "      <td>PETER D'S RESTAURANT</td>\n",
              "      <td>65.0</td>\n",
              "    </tr>\n",
              "    <tr>\n",
              "      <th>2874</th>\n",
              "      <td>71008</td>\n",
              "      <td>House of Pancakes</td>\n",
              "      <td>65.0</td>\n",
              "    </tr>\n",
              "    <tr>\n",
              "      <th>818</th>\n",
              "      <td>3862</td>\n",
              "      <td>IMPERIAL GARDEN SEAFOOD RESTAURANT</td>\n",
              "      <td>66.0</td>\n",
              "    </tr>\n",
              "    <tr>\n",
              "      <th>2141</th>\n",
              "      <td>61427</td>\n",
              "      <td>Nick's Foods</td>\n",
              "      <td>66.0</td>\n",
              "    </tr>\n",
              "    <tr>\n",
              "      <th>2954</th>\n",
              "      <td>72176</td>\n",
              "      <td>Wolfes Lunch</td>\n",
              "      <td>66.0</td>\n",
              "    </tr>\n",
              "    <tr>\n",
              "      <th>4367</th>\n",
              "      <td>89141</td>\n",
              "      <td>Cha Cha Cha on Mission</td>\n",
              "      <td>66.5</td>\n",
              "    </tr>\n",
              "  </tbody>\n",
              "</table>\n",
              "</div>"
            ],
            "text/plain": [
              "        bid                                name  median score\n",
              "3876  84590                        Chaat Corner          54.0\n",
              "4564  90622                     Taqueria Lolita          57.0\n",
              "4990  94351                          VBowls LLC          58.0\n",
              "2719  69282        New Jumbo Seafood Restaurant          60.5\n",
              "222    1154                SUNFLOWER RESTAURANT          63.5\n",
              "1991  39776                 Duc Loi Supermarket          64.0\n",
              "2734  69397                  Minna SF Group LLC          64.0\n",
              "4870  93150                         Chez Beesen          64.0\n",
              "4911  93502                           Smoky Man          64.0\n",
              "3291  78328                          Golden Wok          64.0\n",
              "5510  98995                 Vallarta's Taco Bar          64.0\n",
              "2890  71310   Golden King Vietnamese Restaurant          64.5\n",
              "1457  10877                    CHINA FIRST INC.          64.5\n",
              "4352  89070               Lafayette Coffee Shop          64.5\n",
              "505    2542                PETER D'S RESTAURANT          65.0\n",
              "2874  71008                   House of Pancakes          65.0\n",
              "818    3862  IMPERIAL GARDEN SEAFOOD RESTAURANT          66.0\n",
              "2141  61427                        Nick's Foods          66.0\n",
              "2954  72176                        Wolfes Lunch          66.0\n",
              "4367  89141              Cha Cha Cha on Mission          66.5"
            ]
          },
          "metadata": {},
          "execution_count": 44
        }
      ]
    },
    {
      "cell_type": "markdown",
      "metadata": {
        "id": "u_015xlmAoqr"
      },
      "source": [
        "<br/><br/><br/>\n",
        "\n",
        "--- \n",
        "\n",
        "## Question 4c\n",
        "\n",
        "Let's now examine the descriptions of violations for inspections with `score > 0` and `score < 65`.  Construct a **Series** indexed by the `description` of the violation from the `vio` table with the value being the number of times that violation occured for inspections with the above score range.  Sort the results in descending order of the count.\n",
        "\n",
        "The first few entries should look like:\n",
        "\n",
        "```\n",
        "Unclean or unsanitary food contact surfaces                                  43\n",
        "High risk food holding temperature                                           42\n",
        "Unclean or degraded floors walls or ceilings                                 40\n",
        "Unapproved or unmaintained equipment or utensils                             39\n",
        "```\n",
        "You will need to use `merge` twice.\n",
        "\n",
        "<!--\n",
        "BEGIN QUESTION\n",
        "name: q4c\n",
        "points: 2\n",
        "-->"
      ]
    },
    {
      "cell_type": "code",
      "metadata": {
        "colab": {
          "base_uri": "https://localhost:8080/"
        },
        "id": "BJQ-Zc_3uyLO",
        "outputId": "cf7e7320-e428-4e88-9080-d01dfe91a84c"
      },
      "source": [
        "ins_with_vio = pd.merge(ins2vio,vio,on='vid')\n",
        "risk = pd.merge(ins_with_vio,ins_named,on='iid')\n",
        "risk = risk[risk['score']>0]\n",
        "risk = risk[risk['score']<65]\n",
        "risk = risk.groupby(['description']).count()\n",
        "risk = risk.sort_values(by=['vid'],ascending=False)\n",
        "low_score_violations = risk['iid']\n",
        "low_score_violations.head(20)"
      ],
      "execution_count": 45,
      "outputs": [
        {
          "output_type": "execute_result",
          "data": {
            "text/plain": [
              "description\n",
              "Unclean or unsanitary food contact surfaces                                  43\n",
              "High risk food holding temperature                                           42\n",
              "Unclean or degraded floors walls or ceilings                                 40\n",
              "Unapproved or unmaintained equipment or utensils                             39\n",
              "Foods not protected from contamination                                       37\n",
              "High risk vermin infestation                                                 37\n",
              "Inadequate food safety knowledge or lack of certified food safety manager    35\n",
              "Inadequate and inaccessible handwashing facilities                           35\n",
              "Improper thawing methods                                                     30\n",
              "Unclean hands or improper use of gloves                                      27\n",
              "Improper cooling methods                                                     25\n",
              "Unclean nonfood contact surfaces                                             21\n",
              "Improper food storage                                                        20\n",
              "Inadequately cleaned or sanitized food contact surfaces                      20\n",
              "Contaminated or adulterated food                                             18\n",
              "Moderate risk vermin infestation                                             15\n",
              "Permit license or inspection report not posted                               13\n",
              "Moderate risk food holding temperature                                       13\n",
              "Food safety certificate or food handler card not available                   12\n",
              "Improper storage use or identification of toxic substances                   10\n",
              "Name: iid, dtype: int64"
            ]
          },
          "metadata": {},
          "execution_count": 45
        }
      ]
    },
    {
      "cell_type": "markdown",
      "metadata": {
        "id": "yD2vP1NWAoqs"
      },
      "source": [
        "### Question 4d\n",
        "\n",
        "Let's figure out which restaurant had the worst scores ever (single lowest score). \n",
        "\n",
        "**In the cell below, write the name of the restaurant** with the lowest inspection scores ever. You can also head to yelp.com and look up the reviews page for this restaurant. Feel free to add anything interesting you want to share.\n",
        "\n",
        "<!--\n",
        "BEGIN QUESTION\n",
        "name: q4d\n",
        "points: 2\n",
        "-->"
      ]
    },
    {
      "cell_type": "code",
      "metadata": {
        "id": "uyDehOzQ25_b"
      },
      "source": [
        "worst_restaurant = ins_named.sort_values(by=['score'],ascending=True)\n",
        "worst_restaurant = 'Lollipot'"
      ],
      "execution_count": 46,
      "outputs": []
    },
    {
      "cell_type": "markdown",
      "metadata": {
        "id": "E52L4g-BAoqs"
      },
      "source": [
        "<br/><br/><br/><br/>\n",
        "\n",
        "---\n",
        "\n",
        "<br/><br/>\n",
        "\n",
        "## 5: Explore Inspection Scores\n",
        "\n",
        "In this part we explore some of the basic inspection score values visually."
      ]
    },
    {
      "cell_type": "markdown",
      "metadata": {
        "collapsed": true,
        "id": "mD60mQ1oAoqs"
      },
      "source": [
        "<!-- BEGIN QUESTION -->\n",
        "\n",
        "<br/><br/><br/>\n",
        "\n",
        "---\n",
        "\n",
        "\n",
        "## Question 5a\n",
        "Let's look at the distribution of inspection scores. As we saw before when we called head on this data frame, inspection scores appear to be integer values. The discreteness of this variable means that we can use a bar plot to visualize the distribution of the inspection score. Make a bar plot of the counts of the number of inspections receiving each score.\n",
        "\n",
        "It should look like the image below. It does not need to look exactly the same (e.g., no grid), but make sure that all labels and axes are correct.\n",
        "\n",
        "![](pics/6a.png)\n",
        "\n",
        "You might find this [matplotlib.pyplot tutorial](https://matplotlib.org/tutorials/introductory/pyplot.html) useful. Key syntax that you'll need:\n",
        "\n",
        "```\n",
        "plt.bar\n",
        "plt.xlabel\n",
        "plt.ylabel\n",
        "plt.title\n",
        "```\n",
        "\n",
        "*Note*: If you want to use another plotting library for your plots (e.g. plotly, sns) you are welcome to use that library instead so long as it works on DataHub. If you use seaborn sns.countplot(), you may need to manually set what to display on xticks.\n",
        "\n",
        "\n",
        "<!--\n",
        "BEGIN QUESTION\n",
        "name: q5a\n",
        "points: 1\n",
        "manual: True\n",
        "-->"
      ]
    },
    {
      "cell_type": "code",
      "metadata": {
        "id": "z2xUXgnMAoqs",
        "scrolled": false,
        "colab": {
          "base_uri": "https://localhost:8080/",
          "height": 321
        },
        "outputId": "7d033ac8-576c-47b0-b6f7-abd3b30d0259"
      },
      "source": [
        "countplt = ins.groupby(by=['score']).count()['iid']\n",
        "score_counts = plt.bar(countplt.index,countplt.values)\n",
        "score_counts = plt.xlabel('Score')\n",
        "score_counts = plt.ylabel('Count')\n",
        "score_counts = plt.title('Distribution of Inspection Scores')"
      ],
      "execution_count": 47,
      "outputs": [
        {
          "output_type": "display_data",
          "data": {
            "image/png": "[encoded data removed]",
            "text/plain": [
              "<Figure size 432x288 with 1 Axes>"
            ]
          },
          "metadata": {}
        }
      ]
    },
    {
      "cell_type": "markdown",
      "metadata": {
        "id": "v8ENeIBXAoqt"
      },
      "source": [
        "<!-- BEGIN QUESTION -->\n",
        "\n",
        "<br/><br/><br/>\n",
        "\n",
        "---\n",
        "\n",
        "### Question 5b\n",
        "Describe the qualities of the distribution of the inspections scores based on your bar plot. Consider the mode(s), symmetry, tails, gaps, and anomalous values. Are there any unusual features of this distribution? What do your observations imply about the scores?\n",
        "\n",
        "<!--\n",
        "BEGIN QUESTION\n",
        "name: q5b\n",
        "points: 2\n",
        "manual: True\n",
        "-->"
      ]
    },
    {
      "cell_type": "markdown",
      "metadata": {
        "id": "LXe9vq3vAoqt"
      },
      "source": [
        "one mode; skew left; not symmetric; there seems to be no anomalous values; the distribution is not normal, there are more high scores than low scores. The reason may be people intend to give high scores for good experience more than giving low scores."
      ]
    },
    {
      "cell_type": "markdown",
      "metadata": {
        "id": "7OByZVP942C5"
      },
      "source": [
        ""
      ]
    },
    {
      "cell_type": "markdown",
      "metadata": {
        "id": "5M54l_shAoqt"
      },
      "source": [
        "<!-- END QUESTION -->\n",
        "\n",
        "\n",
        "\n",
        "<br/><br/><br/><br/>\n",
        "\n",
        "---\n",
        "\n",
        "<br/><br/>\n",
        "\n",
        "## 6: Restaurant Ratings Over Time\n",
        "\n",
        "Let's consider various scenarios involving restaurants with multiple ratings over time.\n",
        "\n"
      ]
    },
    {
      "cell_type": "markdown",
      "metadata": {
        "id": "AIGL8TxlAoqu"
      },
      "source": [
        "<br/><br/><br/>\n",
        "\n",
        "---\n",
        "\n",
        "### Question 6a\n",
        "\n",
        "Let's see which restaurant has had the most extreme improvement in its rating, aka scores. Let the \"swing\" of a restaurant be defined as the difference between its highest-ever and lowest-ever rating. **Only consider restaurants with at least 3 ratings, aka rated for at least 3 times (3 scores)!** Using whatever technique you want to use, assign `max_swing` to the name of restaurant that has the maximum swing.\n",
        "\n",
        "*Note*: The \"swing\" is of a specific business. There might be some restaurants with multiple locations; each location has its own \"swing\"."
      ]
    },
    {
      "cell_type": "markdown",
      "metadata": {
        "id": "h1Y9oUDQAoqu"
      },
      "source": [
        "The city would like to know if the state of food safety has been getting better, worse, or about average. This is a pretty vague and broad question, which you should expect as part of your future job as a data scientist! However for the ease of grading for this assignment, we are going to guide you through it and offer some specific directions to consider.\n",
        "\n",
        "<!--\n",
        "BEGIN QUESTION\n",
        "name: q6a\n",
        "points: 2\n",
        "-->"
      ]
    },
    {
      "cell_type": "code",
      "metadata": {
        "colab": {
          "base_uri": "https://localhost:8080/",
          "height": 204
        },
        "id": "H1Or1OiX5-eQ",
        "outputId": "ca4699bf-b000-4efd-b237-41e636b8fdab"
      },
      "source": [
        "swing = ins_named.groupby(by=['bid','address'],as_index=False).count()\n",
        "swing = swing[swing['score']>2][['bid','address']]\n",
        "swing_max = ins_named.groupby(by=['bid','address'],as_index=False).max()[['bid','address','score','name']]\n",
        "swing_min = ins_named.groupby(by=['bid','address'],as_index=False).min()[['bid','address','score']]\n",
        "swing = pd.merge(swing,swing_max,how='left',on=['bid','address'])\n",
        "swing.rename(columns={\"score\": \"maxscore\"},inplace=True)\n",
        "swing = pd.merge(swing,swing_min,how='left',on=['bid','address'])\n",
        "swing.rename(columns={\"score\": \"minscore\"},inplace=True)\n",
        "swing.head()"
      ],
      "execution_count": 72,
      "outputs": [
        {
          "output_type": "execute_result",
          "data": {
            "text/html": [
              "<div>\n",
              "<style scoped>\n",
              "    .dataframe tbody tr th:only-of-type {\n",
              "        vertical-align: middle;\n",
              "    }\n",
              "\n",
              "    .dataframe tbody tr th {\n",
              "        vertical-align: top;\n",
              "    }\n",
              "\n",
              "    .dataframe thead th {\n",
              "        text-align: right;\n",
              "    }\n",
              "</style>\n",
              "<table border=\"1\" class=\"dataframe\">\n",
              "  <thead>\n",
              "    <tr style=\"text-align: right;\">\n",
              "      <th></th>\n",
              "      <th>bid</th>\n",
              "      <th>address</th>\n",
              "      <th>maxscore</th>\n",
              "      <th>name</th>\n",
              "      <th>minscore</th>\n",
              "    </tr>\n",
              "  </thead>\n",
              "  <tbody>\n",
              "    <tr>\n",
              "      <th>0</th>\n",
              "      <td>24</td>\n",
              "      <td>500 California St, 2nd  Floor</td>\n",
              "      <td>98</td>\n",
              "      <td>OMNI S.F. Hotel - 2nd Floor Pantry</td>\n",
              "      <td>98</td>\n",
              "    </tr>\n",
              "    <tr>\n",
              "      <th>1</th>\n",
              "      <td>45</td>\n",
              "      <td>3202 FOLSOM St</td>\n",
              "      <td>92</td>\n",
              "      <td>CHARLIE'S DELI CAFE</td>\n",
              "      <td>85</td>\n",
              "    </tr>\n",
              "    <tr>\n",
              "      <th>2</th>\n",
              "      <td>58</td>\n",
              "      <td>91 Drumm St</td>\n",
              "      <td>83</td>\n",
              "      <td>Oasis Grill</td>\n",
              "      <td>70</td>\n",
              "    </tr>\n",
              "    <tr>\n",
              "      <th>3</th>\n",
              "      <td>61</td>\n",
              "      <td>Pier 39  Space A3</td>\n",
              "      <td>98</td>\n",
              "      <td>Chowders</td>\n",
              "      <td>94</td>\n",
              "    </tr>\n",
              "    <tr>\n",
              "      <th>4</th>\n",
              "      <td>66</td>\n",
              "      <td>1800 IRVING St</td>\n",
              "      <td>98</td>\n",
              "      <td>STARBUCKS</td>\n",
              "      <td>96</td>\n",
              "    </tr>\n",
              "  </tbody>\n",
              "</table>\n",
              "</div>"
            ],
            "text/plain": [
              "   bid  ... minscore\n",
              "0   24  ...       98\n",
              "1   45  ...       85\n",
              "2   58  ...       70\n",
              "3   61  ...       94\n",
              "4   66  ...       96\n",
              "\n",
              "[5 rows x 5 columns]"
            ]
          },
          "metadata": {},
          "execution_count": 72
        }
      ]
    },
    {
      "cell_type": "code",
      "metadata": {
        "id": "njpARii8Aoqu"
      },
      "source": [
        "swing['swing'] = swing['maxscore'] - swing['minscore']\n",
        "swing = swing.sort_values('swing',ascending=False)\n",
        "swing.head()\n",
        "max_swing = 'Lollipot'"
      ],
      "execution_count": 75,
      "outputs": []
    },
    {
      "cell_type": "markdown",
      "metadata": {
        "id": "HZ9KZiRLAoqu"
      },
      "source": [
        "<br/><br/><br/>\n",
        "\n",
        "---\n",
        "\n",
        "\n",
        "### Question 6b\n",
        "\n",
        "What's the relationship between the first and second scores for the businesses with 2 inspections in a year? Do they typically improve? For simplicity, let's focus on only 2018 for this problem, using `ins2018` data frame that will be created for you below.\n",
        "\n",
        "First, make a dataframe called `scores_pairs_by_business` indexed by `bid` (containing only businesses with exactly 2 inspections in 2018). This dataframe contains the field score_pair consisting of the score pairs ordered chronologically [first_score, second_score].\n",
        "\n",
        "Plot these scores. That is, make a scatter plot to display these pairs of scores. Include on the plot a reference line with slope 1.\n",
        "\n",
        "You may find the functions `sort_values`, `groupby`, `filter` and `agg` helpful, though not all necessary.\n",
        "\n",
        "The first few rows of the resulting table should look something like:\n",
        "\n",
        "|  **bid**   | **score_pair** |\n",
        "|-----|------------|\n",
        "| 48  | [94, 87]   |\n",
        "| 66  | [98, 98]   |\n",
        "| 146  | [81, 90]   |\n",
        "| 184  | [90, 96]  |\n",
        "| 273  | [83, 84]   |\n",
        "\n",
        "In the cell below, create `scores_pairs_by_business` as described above.\n",
        "\n",
        "Note: Each score pair must be a list type; numpy arrays will not pass the autograder.\n",
        "\n",
        "Hint: Use the filter method from lecture 5 to create a new dataframe that only contains restaurants that received exactly 2 inspections.\n",
        "\n",
        "Hint: Our code that creates the needed DataFrame is a single line of code that uses `sort_values`, `groupby`, `filter`, `groupby`, `agg`, and `rename` in that order. Your answer does not need to use these exact methods.\n",
        "\n",
        "<!--\n",
        "BEGIN QUESTION\n",
        "name: q6bi\n",
        "points: 4\n",
        "-->"
      ]
    },
    {
      "cell_type": "code",
      "metadata": {
        "id": "W3ZsN2KcAoqu",
        "colab": {
          "base_uri": "https://localhost:8080/",
          "height": 420
        },
        "outputId": "443d4c37-d726-4f9a-b2b4-6829bdd364d5"
      },
      "source": [
        "ins2018 = ins[ins['year'] == 2018]\n",
        "bidList = ins2018.groupby('bid').agg('count').iloc[:,0]\n",
        "bidList = bidList[bidList == 2].index\n",
        "# Create the dataframe here\n",
        "scores_pairs_by_business = pd.DataFrame({'bid':bidList})\n",
        "scores_pairs_by_business['score_pair'] = None\n",
        "scores_pairs_by_business = scores_pairs_by_business.astype('object')\n",
        "for i in range(len(bidList)):\n",
        "    tempDf = ins2018[ins2018['bid'] == bidList[i]]\n",
        "    pair = []\n",
        "    score1 = tempDf.iloc[0, 2]\n",
        "    pair.append(score1)\n",
        "    score2 = tempDf.iloc[1, 2]\n",
        "    pair.append(score2)\n",
        "    scores_pairs_by_business.iloc[i, 1] = list(pair)\n",
        "scores_pairs_by_business"
      ],
      "execution_count": 93,
      "outputs": [
        {
          "output_type": "execute_result",
          "data": {
            "text/html": [
              "<div>\n",
              "<style scoped>\n",
              "    .dataframe tbody tr th:only-of-type {\n",
              "        vertical-align: middle;\n",
              "    }\n",
              "\n",
              "    .dataframe tbody tr th {\n",
              "        vertical-align: top;\n",
              "    }\n",
              "\n",
              "    .dataframe thead th {\n",
              "        text-align: right;\n",
              "    }\n",
              "</style>\n",
              "<table border=\"1\" class=\"dataframe\">\n",
              "  <thead>\n",
              "    <tr style=\"text-align: right;\">\n",
              "      <th></th>\n",
              "      <th>bid</th>\n",
              "      <th>score_pair</th>\n",
              "    </tr>\n",
              "  </thead>\n",
              "  <tbody>\n",
              "    <tr>\n",
              "      <th>0</th>\n",
              "      <td>48</td>\n",
              "      <td>[94, 87]</td>\n",
              "    </tr>\n",
              "    <tr>\n",
              "      <th>1</th>\n",
              "      <td>66</td>\n",
              "      <td>[98, 98]</td>\n",
              "    </tr>\n",
              "    <tr>\n",
              "      <th>2</th>\n",
              "      <td>146</td>\n",
              "      <td>[81, 90]</td>\n",
              "    </tr>\n",
              "    <tr>\n",
              "      <th>3</th>\n",
              "      <td>184</td>\n",
              "      <td>[90, 96]</td>\n",
              "    </tr>\n",
              "    <tr>\n",
              "      <th>4</th>\n",
              "      <td>273</td>\n",
              "      <td>[83, 84]</td>\n",
              "    </tr>\n",
              "    <tr>\n",
              "      <th>...</th>\n",
              "      <td>...</td>\n",
              "      <td>...</td>\n",
              "    </tr>\n",
              "    <tr>\n",
              "      <th>530</th>\n",
              "      <td>95621</td>\n",
              "      <td>[100, 100]</td>\n",
              "    </tr>\n",
              "    <tr>\n",
              "      <th>531</th>\n",
              "      <td>95628</td>\n",
              "      <td>[75, 75]</td>\n",
              "    </tr>\n",
              "    <tr>\n",
              "      <th>532</th>\n",
              "      <td>95674</td>\n",
              "      <td>[100, 96]</td>\n",
              "    </tr>\n",
              "    <tr>\n",
              "      <th>533</th>\n",
              "      <td>95761</td>\n",
              "      <td>[91, 87]</td>\n",
              "    </tr>\n",
              "    <tr>\n",
              "      <th>534</th>\n",
              "      <td>95764</td>\n",
              "      <td>[100, 92]</td>\n",
              "    </tr>\n",
              "  </tbody>\n",
              "</table>\n",
              "<p>535 rows × 2 columns</p>\n",
              "</div>"
            ],
            "text/plain": [
              "       bid  score_pair\n",
              "0       48    [94, 87]\n",
              "1       66    [98, 98]\n",
              "2      146    [81, 90]\n",
              "3      184    [90, 96]\n",
              "4      273    [83, 84]\n",
              "..     ...         ...\n",
              "530  95621  [100, 100]\n",
              "531  95628    [75, 75]\n",
              "532  95674   [100, 96]\n",
              "533  95761    [91, 87]\n",
              "534  95764   [100, 92]\n",
              "\n",
              "[535 rows x 2 columns]"
            ]
          },
          "metadata": {},
          "execution_count": 93
        }
      ]
    },
    {
      "cell_type": "markdown",
      "metadata": {
        "id": "G5z9lO9bAoqw"
      },
      "source": [
        "<!-- BEGIN QUESTION -->\n",
        "\n",
        "Now, create your scatter plot in the cell below. It does not need to look exactly the same (e.g., no grid) as the sample below, but make sure that all labels, axes and data itself are correct.\n",
        "\n",
        "![](pics/7c.png)\n",
        "\n",
        "Key pieces of syntax you'll need:\n",
        "\n",
        "`plt.scatter` plots a set of points. Use `facecolors='none'` and `edgecolors='b'` to make circle markers with blue borders. \n",
        "\n",
        "`plt.plot` for the reference line.\n",
        "\n",
        "`plt.xlabel`, `plt.ylabel`, `plt.axis`, and `plt.title`.\n",
        "\n",
        "Hint: You may find it convenient to use the `zip()` function to unzip scores in the list.\n",
        "\n",
        "<!--\n",
        "BEGIN QUESTION\n",
        "name: q6bii\n",
        "points: 2\n",
        "manual: True\n",
        "-->"
      ]
    },
    {
      "cell_type": "code",
      "metadata": {
        "id": "Dn61Yb_hAoqw",
        "colab": {
          "base_uri": "https://localhost:8080/",
          "height": 338
        },
        "outputId": "8716d484-44b4-4196-b457-3db1d3b44039"
      },
      "source": [
        "x = []\n",
        "y = []\n",
        "for point in scores_pairs_by_business['score_pair']:\n",
        "  x.append(point[0])\n",
        "  y.append(point[1])\n",
        "plt.axis([55,100,55,100])\n",
        "plt.scatter(x,y,facecolors='none',edgecolors='b')\n",
        "x_ = np.arange(55,100)\n",
        "y_ = x_\n",
        "plt.plot(x_,y_)\n",
        "plt.xlabel('First Score')\n",
        "plt.ylabel('Second Score')\n",
        "plt.title('First Inspection Score vs. Second Inspection Score')"
      ],
      "execution_count": 106,
      "outputs": [
        {
          "output_type": "execute_result",
          "data": {
            "text/plain": [
              "Text(0.5, 1.0, 'First Inspection Score vs. Second Inspection Score')"
            ]
          },
          "metadata": {},
          "execution_count": 106
        },
        {
          "output_type": "display_data",
          "data": {
            "image/png": "[encoded data removed]",
            "text/plain": [
              "<Figure size 432x288 with 1 Axes>"
            ]
          },
          "metadata": {}
        }
      ]
    },
    {
      "cell_type": "markdown",
      "metadata": {
        "id": "gA1EHlNkAoqw"
      },
      "source": [
        "<!-- END QUESTION -->\n",
        "\n",
        "<!-- BEGIN QUESTION -->\n",
        "\n",
        "<br/><br/><br/>\n",
        "\n",
        "\n",
        "---\n",
        "\n",
        "\n",
        "### Question 6c\n",
        "\n",
        "If restaurants' scores tend to improve from the first to the second inspection, what do you expect to see in the scatter plot that you made in question 6b? What do you oberve from the plot? Are your observations consistent with your expectations? \n",
        "\n",
        "Hint: What does the slope represent?\n",
        "\n",
        "<!--\n",
        "BEGIN QUESTION\n",
        "name: q6c\n",
        "points: 1\n",
        "manual: True\n",
        "-->"
      ]
    },
    {
      "cell_type": "markdown",
      "metadata": {
        "id": "8zNfp80ZAoqw"
      },
      "source": [
        "1. If restaurants' scores tend to improve from the first to the second inspection, we expect to see the points are above the reference line. 2. We observed from the plot that there also exists about half points that lies below the reference line which means their scores are getting lower. 3. It meets with expectation that statistically, about half of the restaurants will get improvement.\n"
      ]
    },
    {
      "cell_type": "markdown",
      "metadata": {
        "id": "xRWOU9PLAoqx"
      },
      "source": [
        "<!-- END QUESTION -->\n",
        "\n",
        "<!-- BEGIN QUESTION -->\n",
        "\n",
        "<br/><br/><br/>\n",
        "\n",
        "---\n",
        "\n",
        "### Question 6d\n",
        "To wrap up our analysis of the restaurant ratings over time, one final metric we will be looking at is the distribution of restaurant scores over time. Create a side-by-side boxplot that shows the distribution of these scores for each different risk category from 2017 to 2019. Use a figure size of at least 12 by 8.\n",
        "\n",
        "The boxplot should look similar to the sample below. Make sure the boxes are in the correct order!\n",
        "\n",
        "![](pics/7g.png)\n",
        "\n",
        "**Hint**: Use `sns.boxplot()`. Try taking a look at the first several parameters. [The documentation is linked here!](https://seaborn.pydata.org/generated/seaborn.boxplot.html)\n",
        "\n",
        "**Hint**: Use `plt.figure()` to adjust the figure size of your plot.\n",
        "\n",
        "<!--\n",
        "BEGIN QUESTION\n",
        "name: q6d\n",
        "points: 3\n",
        "manual: True\n",
        "-->"
      ]
    },
    {
      "cell_type": "code",
      "metadata": {
        "id": "1U3JgM08Aoqx",
        "scrolled": true,
        "colab": {
          "base_uri": "https://localhost:8080/",
          "height": 946
        },
        "outputId": "63eea2b6-cbf1-437d-8127-180db6501e35"
      },
      "source": [
        "ins_with_vio = pd.merge(ins2vio,vio,on='vid')\n",
        "ins789 = ins[ins['year'].isin([2017,2018,2019])][['iid','score','bid','year']]\n",
        "risk = pd.merge(ins789,ins_with_vio,how='right',on='iid')[['score','year','risk_category']]\n",
        "#risk = risk.groupby(by=['year','risk_category']).count()[['iid']]\n",
        "plt.figure(1)\n",
        "sns.boxplot(x=\"risk_category\",y=\"score\",data=risk[risk['year']==2017])\n",
        "plt.title('2017')\n",
        "plt.figure(2)\n",
        "sns.boxplot(x=\"risk_category\",y=\"score\",data=risk[risk['year']==2018])\n",
        "plt.title('2018')\n",
        "plt.figure(3)\n",
        "sns.boxplot(x=\"risk_category\",y=\"score\",data=risk[risk['year']==2019])\n",
        "plt.title('2019')"
      ],
      "execution_count": 138,
      "outputs": [
        {
          "output_type": "execute_result",
          "data": {
            "text/plain": [
              "Text(0.5, 1.0, '2019')"
            ]
          },
          "metadata": {},
          "execution_count": 138
        },
        {
          "output_type": "display_data",
          "data": {
            "image/png": "[encoded data removed]",
            "text/plain": [
              "<Figure size 432x288 with 1 Axes>"
            ]
          },
          "metadata": {}
        },
        {
          "output_type": "display_data",
          "data": {
            "image/png": "[encoded data removed]",
            "text/plain": [
              "<Figure size 432x288 with 1 Axes>"
            ]
          },
          "metadata": {}
        },
        {
          "output_type": "display_data",
          "data": {
            "image/png": "[encoded data removed]",
            "text/plain": [
              "<Figure size 432x288 with 1 Axes>"
            ]
          },
          "metadata": {}
        }
      ]
    },
    {
      "cell_type": "markdown",
      "metadata": {
        "id": "6podvNV9Aoqx"
      },
      "source": [
        "<!-- END QUESTION -->\n",
        "\n",
        "\n",
        "\n",
        "## Summary of Inspections Data\n",
        "\n",
        "We have done a lot in this project! Below are some examples of what we have learned about the inspections data through some cool visualizations!\n",
        "\n",
        "- We found that the records are at the inspection level and that we have inspections for multiple years.\n",
        "- We also found that many restaurants have more than one inspection a year.\n",
        "- By joining the business and inspection data, we identified the name of the restaurant with the worst rating and optionally the names of the restaurants with the best rating.\n",
        "- We identified the restaurant that had the largest swing in rating over time.\n",
        "- We also examined the change of scores over time! Many restaurants are not actually doing better."
      ]
    },
    {
      "cell_type": "markdown",
      "metadata": {
        "id": "FMxABBG9Aoqx"
      },
      "source": [
        "<br/><br/><br/><br/>\n",
        "\n",
        "---\n",
        "\n",
        "<br/><br/>\n",
        "\n",
        "# 7: Open Ended Question \n",
        "\n",
        "### Discover something interesting about the data!\n",
        "\n",
        "<br/>"
      ]
    },
    {
      "cell_type": "markdown",
      "metadata": {
        "id": "simftQNyAoqx"
      },
      "source": [
        "Play with the data, and try to answer one question that you find interesting regarding the data. Show us how you would answer this question through exploratory data analysis. \n",
        "\n",
        "Here are some possible routes you can take in completing your analysis:\n",
        "* Construct a dataframe by computing something interesting about the data with methods such as `merge`/`groupby`/`pivot`, etc.\n",
        "* Create a visualization with the data from which you can draw a conclusion that can answer you question.\n",
        "\n",
        "Here are some possible questions you can ask about the data:\n",
        "* How do the inspection scores relate to the geolocation (latitude, longitude) of a restaurant?\n",
        "* How do all the inspection scores for each type of business change over time? \n",
        "\n",
        "**Note**: You are not limited to the questions we provided above. We actually strongly recommend you to explore something you are personally interested in knowing about the data. On topics such as how the socioeconomic background of the neighborhoods impact all the nearby restaurants, you are welcome to reference external sources (make sure to quote the sources) as well to guide your exploration.\n",
        "\n",
        "Please show your work in the cells below (feel free to use extra cells if you want), and describe in words **what question you were trying to answer** and **what you found through your analysis** within the same cell. This question will be graded leniently, but good solutions may be used to create future homework problems. "
      ]
    },
    {
      "cell_type": "markdown",
      "metadata": {
        "id": "ulOnq7_BAoqy"
      },
      "source": [
        "<!-- BEGIN QUESTION -->\n",
        "\n",
        "### Grading ###\n",
        "\n",
        "Since the question is more open ended, we will have a more relaxed rubric, classifying your answers into the following three categories:\n",
        "\n",
        "- **Great** (4 points): \n",
        "    - For a dataframe, a combination of pandas operations (such as groupby, pivot, merge) is used to answer a relevant question about the data. The text description provides a reasonable interpretation of the result.\n",
        "    - For a visualization, the chart is well designed and the data computation is correct. The conclusion based on the visualization articulates a reasonable metric and correctly describes the relevant insight and answer to the question you are interested in. \n",
        "- **Passing** (1-3 points): \n",
        "    - For a dataframe, computation is flawed or very simple. The conclusion doesn't fully address the question, but reasonable progress has been made toward answering it.\n",
        "    - For a visualization, a chart is produced but with some flaws such as bad encoding. The conclusion based on the visualization is incomplete but makes some sense.\n",
        "- **Unsatisfactory** (0 points): \n",
        "    - For a dataframe, no computation is performed, or the conclusion does not match what is computed at all.\n",
        "    - For a visualization, no chart is created, or a chart with completely wrong results.\n",
        "\n",
        "We will lean towards being generous with the grading. \n",
        "\n",
        "You should have the following in your answers:\n",
        "* a question you want to explore about the data.\n",
        "* either of the following:\n",
        "    * a few computed dataframes.\n",
        "    * a few visualizations.\n",
        "* a few sentences summarizing what you found based on your analysis and how that answered your question (not too long please!)\n",
        "\n",
        "Please limit the number of your computed dataframes and visualizations **you plan on showing** to no more than 5.\n",
        "\n",
        "\n",
        "<!--\n",
        "BEGIN QUESTION\n",
        "name: q7\n",
        "points: 4\n",
        "manual: True\n",
        "-->"
      ]
    },
    {
      "cell_type": "code",
      "metadata": {
        "id": "1I8UoWusAoqy"
      },
      "source": [
        "# YOUR QUESTION HERE (in a comment)\n",
        "\n",
        "# YOUR DATA PROCESSING AND PLOTTING HERE\n",
        "\n",
        "# YOUR SUMMARY AND CONCLUSION HERE (in a comment)"
      ],
      "execution_count": null,
      "outputs": []
    },
    {
      "cell_type": "markdown",
      "metadata": {
        "id": "iGNjCd_tAoqy"
      },
      "source": [
        "<!-- END QUESTION -->"
      ]
    },
    {
      "cell_type": "markdown",
      "metadata": {
        "id": "2K3NWjjuAoqy"
      },
      "source": [
        "## Congratulations! You have finished Homework 2! ##"
      ]
    }
  ]
}