{
 "cells": [
  {
   "cell_type": "code",
   "execution_count": 22,
   "metadata": {},
   "outputs": [],
   "source": [
    "%matplotlib inline\n",
    "import numpy as np # allows us to access linear algebra capabilities\n",
    "#import pandas as pd # pandas data manipulation library\n",
    "from scipy import stats #import statistical functions\n",
    "import matplotlib.pyplot as plt # python's matlab'esque graphics library\n",
    "import math"
   ]
  },
  {
   "cell_type": "markdown",
   "metadata": {},
   "source": [
    "# Some math operations"
   ]
  },
  {
   "cell_type": "code",
   "execution_count": 54,
   "metadata": {},
   "outputs": [
    {
     "name": "stdout",
     "output_type": "stream",
     "text": [
      "3.1622776601683795\n",
      "7.38905609893065\n",
      "3628800\n",
      "9\n",
      "1024\n"
     ]
    }
   ],
   "source": [
    "print(math.sqrt(10.0))\n",
    "print(math.exp(2))\n",
    "print(math.factorial(10))\n",
    "print(3**2)\n",
    "print(2**10)"
   ]
  },
  {
   "cell_type": "markdown",
   "metadata": {},
   "source": [
    "# Binomial distribution\n",
    "\n",
    "For example, the chance of 2 sixes in 5 rolls of a die is"
   ]
  },
  {
   "cell_type": "code",
   "execution_count": 55,
   "metadata": {},
   "outputs": [
    {
     "data": {
      "text/plain": [
       "0.16075102880658435"
      ]
     },
     "execution_count": 55,
     "metadata": {},
     "output_type": "execute_result"
    }
   ],
   "source": [
    "stats.binom.pmf(2, 5, 1/6)\n"
   ]
  },
  {
   "cell_type": "markdown",
   "metadata": {},
   "source": [
    "You can use stats.binom.pmf to get more than one probability in a binomial distribution in a single call. If k_array is an array of possible values, then stats.binom.pmf(k_array, n, p) evaluates to an array of binomial  (𝑛,𝑝)  probabilities for all  𝑘  in k_array.\n",
    "\n",
    "For example, here are all the probabilities in the binomial  (3,1/2)  distribution. They are the probabilities in the distribution of the number of heads in 3 tosses of a coin."
   ]
  },
  {
   "cell_type": "code",
   "execution_count": 56,
   "metadata": {},
   "outputs": [
    {
     "data": {
      "text/plain": [
       "array([0.125, 0.375, 0.375, 0.125])"
      ]
     },
     "execution_count": 56,
     "metadata": {},
     "output_type": "execute_result"
    }
   ],
   "source": [
    "stats.binom.pmf(np.arange(4), 3, 1/2)\n"
   ]
  },
  {
   "cell_type": "code",
   "execution_count": 57,
   "metadata": {},
   "outputs": [
    {
     "data": {
      "text/plain": [
       "1.0"
      ]
     },
     "execution_count": 57,
     "metadata": {},
     "output_type": "execute_result"
    }
   ],
   "source": [
    "#Sum pmf\n",
    "sum(stats.binom.pmf(np.arange(4), 3, 1/2))"
   ]
  },
  {
   "cell_type": "markdown",
   "metadata": {},
   "source": [
    "Simulate Bin(n,p) and plot the probability function"
   ]
  },
  {
   "cell_type": "code",
   "execution_count": 58,
   "metadata": {},
   "outputs": [
    {
     "data": {
      "image/png": "[encoded data removed]",
      "text/plain": [
       "<Figure size 432x288 with 1 Axes>"
      ]
     },
     "metadata": {
      "needs_background": "light"
     },
     "output_type": "display_data"
    }
   ],
   "source": [
    "n = 50\n",
    "p = 0.6\n",
    "# defining list of r values\n",
    "r_values = list(range(n + 1))\n",
    "# list of pmf values\n",
    "dist = stats.binom.pmf(np.arange(n+1), n, p)\n",
    "#[stats.binom.pmf(r, n, p) for r in r_values ]\n",
    "# plotting the graph \n",
    "plt.bar(r_values, dist,width=0.5)\n",
    "plt.xlabel('Value(s)')\n",
    "plt.ylabel('Probability')\n",
    "plt.show()\n",
    "#N(np,npq)"
   ]
  },
  {
   "cell_type": "code",
   "execution_count": null,
   "metadata": {},
   "outputs": [],
   "source": []
  },
  {
   "cell_type": "markdown",
   "metadata": {},
   "source": [
    "# Random functions\n",
    "Returns a random integer between a (inclusive) and b (exclusive)"
   ]
  },
  {
   "cell_type": "code",
   "execution_count": 61,
   "metadata": {},
   "outputs": [
    {
     "name": "stdout",
     "output_type": "stream",
     "text": [
      "0\n",
      "[7 3 1 5 3 2 8 2 2 5]\n"
     ]
    }
   ],
   "source": [
    "a = 0\n",
    "b = 10\n",
    "print(np.random.randint(a,b))\n",
    "print(np.random.randint(a, b, size = 10))"
   ]
  },
  {
   "cell_type": "markdown",
   "metadata": {},
   "source": [
    "Returns a uniform float in the interval [0, 1)\n"
   ]
  },
  {
   "cell_type": "code",
   "execution_count": 64,
   "metadata": {},
   "outputs": [
    {
     "data": {
      "text/plain": [
       "array([0.15741009])"
      ]
     },
     "execution_count": 64,
     "metadata": {},
     "output_type": "execute_result"
    }
   ],
   "source": [
    "np.random.random(1)\n"
   ]
  },
  {
   "cell_type": "markdown",
   "metadata": {},
   "source": [
    "Draw random samples from a list"
   ]
  },
  {
   "cell_type": "code",
   "execution_count": 65,
   "metadata": {},
   "outputs": [
    {
     "name": "stdout",
     "output_type": "stream",
     "text": [
      "First random choice:  1\n",
      "Second random choice:  2\n",
      "Third random choice:  5\n"
     ]
    }
   ],
   "source": [
    "Dice_list = [1,2,3,4,5,6]\n",
    "print(\"First random choice: \",np.random.choice(Dice_list))\n",
    "print(\"Second random choice: \",np.random.choice(Dice_list))\n",
    "print(\"Third random choice: \",np.random.choice(Dice_list))\n",
    "\n",
    "#np.random.choice"
   ]
  },
  {
   "cell_type": "markdown",
   "metadata": {},
   "source": [
    "Random variables generated from tossing the die for K times"
   ]
  },
  {
   "cell_type": "code",
   "execution_count": 72,
   "metadata": {},
   "outputs": [
    {
     "name": "stdout",
     "output_type": "stream",
     "text": [
      "3.465 Theoretical Exp = 3.5\n"
     ]
    }
   ],
   "source": [
    "k = 10000\n",
    "random_samples = np.random.choice(Dice_list,k) \n",
    "Long_run_average = np.sum(random_samples)/k\n",
    "print(Long_run_average, \"Theoretical Exp = 3.5\")"
   ]
  },
  {
   "cell_type": "code",
   "execution_count": 73,
   "metadata": {},
   "outputs": [
    {
     "data": {
      "text/plain": [
       "(array([1668.,    0., 1735.,    0., 1683.,    0., 1707.,    0., 1607.,\n",
       "        1600.]),\n",
       " array([1. , 1.5, 2. , 2.5, 3. , 3.5, 4. , 4.5, 5. , 5.5, 6. ]),\n",
       " <BarContainer object of 10 artists>)"
      ]
     },
     "execution_count": 73,
     "metadata": {},
     "output_type": "execute_result"
    },
    {
     "data": {
      "image/png": "[encoded data removed]",
      "text/plain": [
       "<Figure size 432x288 with 1 Axes>"
      ]
     },
     "metadata": {
      "needs_background": "light"
     },
     "output_type": "display_data"
    }
   ],
   "source": [
    "plt.hist(random_samples)"
   ]
  },
  {
   "cell_type": "code",
   "execution_count": null,
   "metadata": {},
   "outputs": [],
   "source": []
  },
  {
   "cell_type": "code",
   "execution_count": null,
   "metadata": {},
   "outputs": [],
   "source": []
  }
 ],
 "metadata": {
  "kernelspec": {
   "display_name": "Python 3",
   "language": "python",
   "name": "python3"
  },
  "language_info": {
   "codemirror_mode": {
    "name": "ipython",
    "version": 3
   },
   "file_extension": ".py",
   "mimetype": "text/x-python",
   "name": "python",
   "nbconvert_exporter": "python",
   "pygments_lexer": "ipython3",
   "version": "3.8.5"
  }
 },
 "nbformat": 4,
 "nbformat_minor": 4
}
