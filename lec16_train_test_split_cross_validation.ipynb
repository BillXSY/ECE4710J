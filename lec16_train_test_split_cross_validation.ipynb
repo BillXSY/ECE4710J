{
 "cells": [
  {
   "cell_type": "markdown",
   "metadata": {},
   "source": [
    "## Train Test Split and Cross Validation\n",
    "\n",
    "In this section we will work through the train test-split and the process of cross validation.  "
   ]
  },
  {
   "cell_type": "code",
   "execution_count": 1,
   "metadata": {},
   "outputs": [],
   "source": [
    "import numpy as np\n",
    "import pandas as pd"
   ]
  },
  {
   "cell_type": "code",
   "execution_count": 2,
   "metadata": {},
   "outputs": [
    {
     "data": {
      "text/html": [
       "        <script type=\"text/javascript\">\n",
       "        window.PlotlyConfig = {MathJaxConfig: 'local'};\n",
       "        if (window.MathJax) {MathJax.Hub.Config({SVG: {font: \"STIX-Web\"}});}\n",
       "        if (typeof require !== 'undefined') {\n",
       "        require.undef(\"plotly\");\n",
       "        requirejs.config({\n",
       "            paths: {\n",
       "                'plotly': ['https://cdn.plot.ly/plotly-2.4.2.min']\n",
       "            }\n",
       "        });\n",
       "        require(['plotly'], function(Plotly) {\n",
       "            window._Plotly = Plotly;\n",
       "        });\n",
       "        }\n",
       "        </script>\n",
       "        "
      ]
     },
     "metadata": {},
     "output_type": "display_data"
    },
    {
     "data": {
      "text/html": [
       "        <script type=\"text/javascript\">\n",
       "        window.PlotlyConfig = {MathJaxConfig: 'local'};\n",
       "        if (window.MathJax) {MathJax.Hub.Config({SVG: {font: \"STIX-Web\"}});}\n",
       "        if (typeof require !== 'undefined') {\n",
       "        require.undef(\"plotly\");\n",
       "        requirejs.config({\n",
       "            paths: {\n",
       "                'plotly': ['https://cdn.plot.ly/plotly-2.4.2.min']\n",
       "            }\n",
       "        });\n",
       "        require(['plotly'], function(Plotly) {\n",
       "            window._Plotly = Plotly;\n",
       "        });\n",
       "        }\n",
       "        </script>\n",
       "        "
      ]
     },
     "metadata": {},
     "output_type": "display_data"
    }
   ],
   "source": [
    "# !pip install cufflinks\n",
    "import plotly.offline as py\n",
    "import plotly.express as px\n",
    "import plotly.graph_objects as go\n",
    "from plotly.subplots import make_subplots\n",
    "import plotly.figure_factory as ff\n",
    "import cufflinks as cf\n",
    "cf.set_config_file(offline=True, sharing=False, theme='ggplot');"
   ]
  },
  {
   "cell_type": "code",
   "execution_count": 3,
   "metadata": {},
   "outputs": [],
   "source": [
    "from sklearn.linear_model import LinearRegression"
   ]
  },
  {
   "cell_type": "markdown",
   "metadata": {},
   "source": [
    "## The Data\n",
    "\n",
    "For this notebook, we will use the seaborn `mpg` dataset which describes the fuel mileage (measured in miles per gallon or mpg) of various cars along with characteristics of those cars.  Our goal will be to build a model that can predict the fuel mileage of a car based on the characteristics of that car."
   ]
  },
  {
   "cell_type": "code",
   "execution_count": 4,
   "metadata": {},
   "outputs": [
    {
     "data": {
      "text/html": [
       "<div>\n",
       "<style scoped>\n",
       "    .dataframe tbody tr th:only-of-type {\n",
       "        vertical-align: middle;\n",
       "    }\n",
       "\n",
       "    .dataframe tbody tr th {\n",
       "        vertical-align: top;\n",
       "    }\n",
       "\n",
       "    .dataframe thead th {\n",
       "        text-align: right;\n",
       "    }\n",
       "</style>\n",
       "<table border=\"1\" class=\"dataframe\">\n",
       "  <thead>\n",
       "    <tr style=\"text-align: right;\">\n",
       "      <th></th>\n",
       "      <th>mpg</th>\n",
       "      <th>cylinders</th>\n",
       "      <th>displacement</th>\n",
       "      <th>horsepower</th>\n",
       "      <th>weight</th>\n",
       "      <th>acceleration</th>\n",
       "      <th>model_year</th>\n",
       "      <th>origin</th>\n",
       "      <th>name</th>\n",
       "    </tr>\n",
       "  </thead>\n",
       "  <tbody>\n",
       "    <tr>\n",
       "      <th>0</th>\n",
       "      <td>18.0</td>\n",
       "      <td>8</td>\n",
       "      <td>307.0</td>\n",
       "      <td>130.0</td>\n",
       "      <td>3504</td>\n",
       "      <td>12.0</td>\n",
       "      <td>70</td>\n",
       "      <td>usa</td>\n",
       "      <td>chevrolet chevelle malibu</td>\n",
       "    </tr>\n",
       "    <tr>\n",
       "      <th>1</th>\n",
       "      <td>15.0</td>\n",
       "      <td>8</td>\n",
       "      <td>350.0</td>\n",
       "      <td>165.0</td>\n",
       "      <td>3693</td>\n",
       "      <td>11.5</td>\n",
       "      <td>70</td>\n",
       "      <td>usa</td>\n",
       "      <td>buick skylark 320</td>\n",
       "    </tr>\n",
       "    <tr>\n",
       "      <th>2</th>\n",
       "      <td>18.0</td>\n",
       "      <td>8</td>\n",
       "      <td>318.0</td>\n",
       "      <td>150.0</td>\n",
       "      <td>3436</td>\n",
       "      <td>11.0</td>\n",
       "      <td>70</td>\n",
       "      <td>usa</td>\n",
       "      <td>plymouth satellite</td>\n",
       "    </tr>\n",
       "    <tr>\n",
       "      <th>3</th>\n",
       "      <td>16.0</td>\n",
       "      <td>8</td>\n",
       "      <td>304.0</td>\n",
       "      <td>150.0</td>\n",
       "      <td>3433</td>\n",
       "      <td>12.0</td>\n",
       "      <td>70</td>\n",
       "      <td>usa</td>\n",
       "      <td>amc rebel sst</td>\n",
       "    </tr>\n",
       "    <tr>\n",
       "      <th>4</th>\n",
       "      <td>17.0</td>\n",
       "      <td>8</td>\n",
       "      <td>302.0</td>\n",
       "      <td>140.0</td>\n",
       "      <td>3449</td>\n",
       "      <td>10.5</td>\n",
       "      <td>70</td>\n",
       "      <td>usa</td>\n",
       "      <td>ford torino</td>\n",
       "    </tr>\n",
       "    <tr>\n",
       "      <th>...</th>\n",
       "      <td>...</td>\n",
       "      <td>...</td>\n",
       "      <td>...</td>\n",
       "      <td>...</td>\n",
       "      <td>...</td>\n",
       "      <td>...</td>\n",
       "      <td>...</td>\n",
       "      <td>...</td>\n",
       "      <td>...</td>\n",
       "    </tr>\n",
       "    <tr>\n",
       "      <th>393</th>\n",
       "      <td>27.0</td>\n",
       "      <td>4</td>\n",
       "      <td>140.0</td>\n",
       "      <td>86.0</td>\n",
       "      <td>2790</td>\n",
       "      <td>15.6</td>\n",
       "      <td>82</td>\n",
       "      <td>usa</td>\n",
       "      <td>ford mustang gl</td>\n",
       "    </tr>\n",
       "    <tr>\n",
       "      <th>394</th>\n",
       "      <td>44.0</td>\n",
       "      <td>4</td>\n",
       "      <td>97.0</td>\n",
       "      <td>52.0</td>\n",
       "      <td>2130</td>\n",
       "      <td>24.6</td>\n",
       "      <td>82</td>\n",
       "      <td>europe</td>\n",
       "      <td>vw pickup</td>\n",
       "    </tr>\n",
       "    <tr>\n",
       "      <th>395</th>\n",
       "      <td>32.0</td>\n",
       "      <td>4</td>\n",
       "      <td>135.0</td>\n",
       "      <td>84.0</td>\n",
       "      <td>2295</td>\n",
       "      <td>11.6</td>\n",
       "      <td>82</td>\n",
       "      <td>usa</td>\n",
       "      <td>dodge rampage</td>\n",
       "    </tr>\n",
       "    <tr>\n",
       "      <th>396</th>\n",
       "      <td>28.0</td>\n",
       "      <td>4</td>\n",
       "      <td>120.0</td>\n",
       "      <td>79.0</td>\n",
       "      <td>2625</td>\n",
       "      <td>18.6</td>\n",
       "      <td>82</td>\n",
       "      <td>usa</td>\n",
       "      <td>ford ranger</td>\n",
       "    </tr>\n",
       "    <tr>\n",
       "      <th>397</th>\n",
       "      <td>31.0</td>\n",
       "      <td>4</td>\n",
       "      <td>119.0</td>\n",
       "      <td>82.0</td>\n",
       "      <td>2720</td>\n",
       "      <td>19.4</td>\n",
       "      <td>82</td>\n",
       "      <td>usa</td>\n",
       "      <td>chevy s-10</td>\n",
       "    </tr>\n",
       "  </tbody>\n",
       "</table>\n",
       "<p>398 rows × 9 columns</p>\n",
       "</div>"
      ],
      "text/plain": [
       "      mpg  cylinders  displacement  horsepower  weight  acceleration  \\\n",
       "0    18.0          8         307.0       130.0    3504          12.0   \n",
       "1    15.0          8         350.0       165.0    3693          11.5   \n",
       "2    18.0          8         318.0       150.0    3436          11.0   \n",
       "3    16.0          8         304.0       150.0    3433          12.0   \n",
       "4    17.0          8         302.0       140.0    3449          10.5   \n",
       "..    ...        ...           ...         ...     ...           ...   \n",
       "393  27.0          4         140.0        86.0    2790          15.6   \n",
       "394  44.0          4          97.0        52.0    2130          24.6   \n",
       "395  32.0          4         135.0        84.0    2295          11.6   \n",
       "396  28.0          4         120.0        79.0    2625          18.6   \n",
       "397  31.0          4         119.0        82.0    2720          19.4   \n",
       "\n",
       "     model_year  origin                       name  \n",
       "0            70     usa  chevrolet chevelle malibu  \n",
       "1            70     usa          buick skylark 320  \n",
       "2            70     usa         plymouth satellite  \n",
       "3            70     usa              amc rebel sst  \n",
       "4            70     usa                ford torino  \n",
       "..          ...     ...                        ...  \n",
       "393          82     usa            ford mustang gl  \n",
       "394          82  europe                  vw pickup  \n",
       "395          82     usa              dodge rampage  \n",
       "396          82     usa                ford ranger  \n",
       "397          82     usa                 chevy s-10  \n",
       "\n",
       "[398 rows x 9 columns]"
      ]
     },
     "execution_count": 4,
     "metadata": {},
     "output_type": "execute_result"
    }
   ],
   "source": [
    "from seaborn import load_dataset\n",
    "data = load_dataset(\"mpg\")\n",
    "data"
   ]
  },
  {
   "cell_type": "markdown",
   "metadata": {},
   "source": [
    "This data has some rows with missing data. We will ignore those rows until later for the sake of this lecture. We can use the Pandas `DataFrame.isna` function to find rows with missing values and drop them, although of course, this is not always the best idea!"
   ]
  },
  {
   "cell_type": "code",
   "execution_count": 5,
   "metadata": {},
   "outputs": [],
   "source": [
    "data = data[~data.isna().any(axis=1)].copy()"
   ]
  },
  {
   "cell_type": "markdown",
   "metadata": {},
   "source": [
    "## Train Test Split\n",
    "\n",
    "The first thing we will want to do with this data is construct a train/test split. Constructing a train test split before EDA and data cleaning can often be helpful.  This allows us to see if our data cleaning and any conclusions we draw from visualizations generalize to new data. This can be done by re-running the data cleaning and EDA process on the test dataset."
   ]
  },
  {
   "cell_type": "markdown",
   "metadata": {},
   "source": [
    "### Using Pandas Operations\n",
    "\n",
    "We can sample the entire dataset to get a permutation and then select a range of rows."
   ]
  },
  {
   "cell_type": "code",
   "execution_count": 6,
   "metadata": {},
   "outputs": [
    {
     "data": {
      "text/html": [
       "<div>\n",
       "<style scoped>\n",
       "    .dataframe tbody tr th:only-of-type {\n",
       "        vertical-align: middle;\n",
       "    }\n",
       "\n",
       "    .dataframe tbody tr th {\n",
       "        vertical-align: top;\n",
       "    }\n",
       "\n",
       "    .dataframe thead th {\n",
       "        text-align: right;\n",
       "    }\n",
       "</style>\n",
       "<table border=\"1\" class=\"dataframe\">\n",
       "  <thead>\n",
       "    <tr style=\"text-align: right;\">\n",
       "      <th></th>\n",
       "      <th>mpg</th>\n",
       "      <th>cylinders</th>\n",
       "      <th>displacement</th>\n",
       "      <th>horsepower</th>\n",
       "      <th>weight</th>\n",
       "      <th>acceleration</th>\n",
       "      <th>model_year</th>\n",
       "      <th>origin</th>\n",
       "      <th>name</th>\n",
       "    </tr>\n",
       "  </thead>\n",
       "  <tbody>\n",
       "    <tr>\n",
       "      <th>79</th>\n",
       "      <td>26.0</td>\n",
       "      <td>4</td>\n",
       "      <td>96.0</td>\n",
       "      <td>69.0</td>\n",
       "      <td>2189</td>\n",
       "      <td>18.0</td>\n",
       "      <td>72</td>\n",
       "      <td>europe</td>\n",
       "      <td>renault 12 (sw)</td>\n",
       "    </tr>\n",
       "    <tr>\n",
       "      <th>276</th>\n",
       "      <td>21.6</td>\n",
       "      <td>4</td>\n",
       "      <td>121.0</td>\n",
       "      <td>115.0</td>\n",
       "      <td>2795</td>\n",
       "      <td>15.7</td>\n",
       "      <td>78</td>\n",
       "      <td>europe</td>\n",
       "      <td>saab 99gle</td>\n",
       "    </tr>\n",
       "    <tr>\n",
       "      <th>248</th>\n",
       "      <td>36.1</td>\n",
       "      <td>4</td>\n",
       "      <td>91.0</td>\n",
       "      <td>60.0</td>\n",
       "      <td>1800</td>\n",
       "      <td>16.4</td>\n",
       "      <td>78</td>\n",
       "      <td>japan</td>\n",
       "      <td>honda civic cvcc</td>\n",
       "    </tr>\n",
       "    <tr>\n",
       "      <th>56</th>\n",
       "      <td>26.0</td>\n",
       "      <td>4</td>\n",
       "      <td>91.0</td>\n",
       "      <td>70.0</td>\n",
       "      <td>1955</td>\n",
       "      <td>20.5</td>\n",
       "      <td>71</td>\n",
       "      <td>usa</td>\n",
       "      <td>plymouth cricket</td>\n",
       "    </tr>\n",
       "    <tr>\n",
       "      <th>393</th>\n",
       "      <td>27.0</td>\n",
       "      <td>4</td>\n",
       "      <td>140.0</td>\n",
       "      <td>86.0</td>\n",
       "      <td>2790</td>\n",
       "      <td>15.6</td>\n",
       "      <td>82</td>\n",
       "      <td>usa</td>\n",
       "      <td>ford mustang gl</td>\n",
       "    </tr>\n",
       "    <tr>\n",
       "      <th>...</th>\n",
       "      <td>...</td>\n",
       "      <td>...</td>\n",
       "      <td>...</td>\n",
       "      <td>...</td>\n",
       "      <td>...</td>\n",
       "      <td>...</td>\n",
       "      <td>...</td>\n",
       "      <td>...</td>\n",
       "      <td>...</td>\n",
       "    </tr>\n",
       "    <tr>\n",
       "      <th>72</th>\n",
       "      <td>15.0</td>\n",
       "      <td>8</td>\n",
       "      <td>304.0</td>\n",
       "      <td>150.0</td>\n",
       "      <td>3892</td>\n",
       "      <td>12.5</td>\n",
       "      <td>72</td>\n",
       "      <td>usa</td>\n",
       "      <td>amc matador (sw)</td>\n",
       "    </tr>\n",
       "    <tr>\n",
       "      <th>107</th>\n",
       "      <td>18.0</td>\n",
       "      <td>6</td>\n",
       "      <td>232.0</td>\n",
       "      <td>100.0</td>\n",
       "      <td>2789</td>\n",
       "      <td>15.0</td>\n",
       "      <td>73</td>\n",
       "      <td>usa</td>\n",
       "      <td>amc gremlin</td>\n",
       "    </tr>\n",
       "    <tr>\n",
       "      <th>272</th>\n",
       "      <td>23.8</td>\n",
       "      <td>4</td>\n",
       "      <td>151.0</td>\n",
       "      <td>85.0</td>\n",
       "      <td>2855</td>\n",
       "      <td>17.6</td>\n",
       "      <td>78</td>\n",
       "      <td>usa</td>\n",
       "      <td>oldsmobile starfire sx</td>\n",
       "    </tr>\n",
       "    <tr>\n",
       "      <th>352</th>\n",
       "      <td>29.9</td>\n",
       "      <td>4</td>\n",
       "      <td>98.0</td>\n",
       "      <td>65.0</td>\n",
       "      <td>2380</td>\n",
       "      <td>20.7</td>\n",
       "      <td>81</td>\n",
       "      <td>usa</td>\n",
       "      <td>ford escort 2h</td>\n",
       "    </tr>\n",
       "    <tr>\n",
       "      <th>103</th>\n",
       "      <td>11.0</td>\n",
       "      <td>8</td>\n",
       "      <td>400.0</td>\n",
       "      <td>150.0</td>\n",
       "      <td>4997</td>\n",
       "      <td>14.0</td>\n",
       "      <td>73</td>\n",
       "      <td>usa</td>\n",
       "      <td>chevrolet impala</td>\n",
       "    </tr>\n",
       "  </tbody>\n",
       "</table>\n",
       "<p>392 rows × 9 columns</p>\n",
       "</div>"
      ],
      "text/plain": [
       "      mpg  cylinders  displacement  horsepower  weight  acceleration  \\\n",
       "79   26.0          4          96.0        69.0    2189          18.0   \n",
       "276  21.6          4         121.0       115.0    2795          15.7   \n",
       "248  36.1          4          91.0        60.0    1800          16.4   \n",
       "56   26.0          4          91.0        70.0    1955          20.5   \n",
       "393  27.0          4         140.0        86.0    2790          15.6   \n",
       "..    ...        ...           ...         ...     ...           ...   \n",
       "72   15.0          8         304.0       150.0    3892          12.5   \n",
       "107  18.0          6         232.0       100.0    2789          15.0   \n",
       "272  23.8          4         151.0        85.0    2855          17.6   \n",
       "352  29.9          4          98.0        65.0    2380          20.7   \n",
       "103  11.0          8         400.0       150.0    4997          14.0   \n",
       "\n",
       "     model_year  origin                    name  \n",
       "79           72  europe         renault 12 (sw)  \n",
       "276          78  europe              saab 99gle  \n",
       "248          78   japan        honda civic cvcc  \n",
       "56           71     usa        plymouth cricket  \n",
       "393          82     usa         ford mustang gl  \n",
       "..          ...     ...                     ...  \n",
       "72           72     usa        amc matador (sw)  \n",
       "107          73     usa             amc gremlin  \n",
       "272          78     usa  oldsmobile starfire sx  \n",
       "352          81     usa          ford escort 2h  \n",
       "103          73     usa        chevrolet impala  \n",
       "\n",
       "[392 rows x 9 columns]"
      ]
     },
     "execution_count": 6,
     "metadata": {},
     "output_type": "execute_result"
    }
   ],
   "source": [
    "shuffled_data = data.sample(frac = 1, random_state = 42)\n",
    "shuffled_data"
   ]
  },
  {
   "cell_type": "markdown",
   "metadata": {},
   "source": [
    "Selecting a range of rows for training and test."
   ]
  },
  {
   "cell_type": "code",
   "execution_count": 7,
   "metadata": {},
   "outputs": [
    {
     "data": {
      "text/plain": [
       "352"
      ]
     },
     "execution_count": 7,
     "metadata": {},
     "output_type": "execute_result"
    }
   ],
   "source": [
    "split_point = int(shuffled_data.shape[0] * 0.90)\n",
    "split_point"
   ]
  },
  {
   "cell_type": "code",
   "execution_count": 8,
   "metadata": {},
   "outputs": [],
   "source": [
    "tr = shuffled_data.iloc[:split_point]\n",
    "te = shuffled_data.iloc[split_point:]"
   ]
  },
  {
   "cell_type": "code",
   "execution_count": 9,
   "metadata": {},
   "outputs": [
    {
     "data": {
      "text/plain": [
       "(352, 40)"
      ]
     },
     "execution_count": 9,
     "metadata": {},
     "output_type": "execute_result"
    }
   ],
   "source": [
    "len(tr), len(te)"
   ]
  },
  {
   "cell_type": "code",
   "execution_count": 10,
   "metadata": {},
   "outputs": [
    {
     "data": {
      "text/html": [
       "<div>\n",
       "<style scoped>\n",
       "    .dataframe tbody tr th:only-of-type {\n",
       "        vertical-align: middle;\n",
       "    }\n",
       "\n",
       "    .dataframe tbody tr th {\n",
       "        vertical-align: top;\n",
       "    }\n",
       "\n",
       "    .dataframe thead th {\n",
       "        text-align: right;\n",
       "    }\n",
       "</style>\n",
       "<table border=\"1\" class=\"dataframe\">\n",
       "  <thead>\n",
       "    <tr style=\"text-align: right;\">\n",
       "      <th></th>\n",
       "      <th>mpg</th>\n",
       "      <th>cylinders</th>\n",
       "      <th>displacement</th>\n",
       "      <th>horsepower</th>\n",
       "      <th>weight</th>\n",
       "      <th>acceleration</th>\n",
       "      <th>model_year</th>\n",
       "      <th>origin</th>\n",
       "      <th>name</th>\n",
       "    </tr>\n",
       "  </thead>\n",
       "  <tbody>\n",
       "    <tr>\n",
       "      <th>79</th>\n",
       "      <td>26.0</td>\n",
       "      <td>4</td>\n",
       "      <td>96.0</td>\n",
       "      <td>69.0</td>\n",
       "      <td>2189</td>\n",
       "      <td>18.0</td>\n",
       "      <td>72</td>\n",
       "      <td>europe</td>\n",
       "      <td>renault 12 (sw)</td>\n",
       "    </tr>\n",
       "    <tr>\n",
       "      <th>276</th>\n",
       "      <td>21.6</td>\n",
       "      <td>4</td>\n",
       "      <td>121.0</td>\n",
       "      <td>115.0</td>\n",
       "      <td>2795</td>\n",
       "      <td>15.7</td>\n",
       "      <td>78</td>\n",
       "      <td>europe</td>\n",
       "      <td>saab 99gle</td>\n",
       "    </tr>\n",
       "    <tr>\n",
       "      <th>248</th>\n",
       "      <td>36.1</td>\n",
       "      <td>4</td>\n",
       "      <td>91.0</td>\n",
       "      <td>60.0</td>\n",
       "      <td>1800</td>\n",
       "      <td>16.4</td>\n",
       "      <td>78</td>\n",
       "      <td>japan</td>\n",
       "      <td>honda civic cvcc</td>\n",
       "    </tr>\n",
       "    <tr>\n",
       "      <th>56</th>\n",
       "      <td>26.0</td>\n",
       "      <td>4</td>\n",
       "      <td>91.0</td>\n",
       "      <td>70.0</td>\n",
       "      <td>1955</td>\n",
       "      <td>20.5</td>\n",
       "      <td>71</td>\n",
       "      <td>usa</td>\n",
       "      <td>plymouth cricket</td>\n",
       "    </tr>\n",
       "    <tr>\n",
       "      <th>393</th>\n",
       "      <td>27.0</td>\n",
       "      <td>4</td>\n",
       "      <td>140.0</td>\n",
       "      <td>86.0</td>\n",
       "      <td>2790</td>\n",
       "      <td>15.6</td>\n",
       "      <td>82</td>\n",
       "      <td>usa</td>\n",
       "      <td>ford mustang gl</td>\n",
       "    </tr>\n",
       "  </tbody>\n",
       "</table>\n",
       "</div>"
      ],
      "text/plain": [
       "      mpg  cylinders  displacement  horsepower  weight  acceleration  \\\n",
       "79   26.0          4          96.0        69.0    2189          18.0   \n",
       "276  21.6          4         121.0       115.0    2795          15.7   \n",
       "248  36.1          4          91.0        60.0    1800          16.4   \n",
       "56   26.0          4          91.0        70.0    1955          20.5   \n",
       "393  27.0          4         140.0        86.0    2790          15.6   \n",
       "\n",
       "     model_year  origin              name  \n",
       "79           72  europe   renault 12 (sw)  \n",
       "276          78  europe        saab 99gle  \n",
       "248          78   japan  honda civic cvcc  \n",
       "56           71     usa  plymouth cricket  \n",
       "393          82     usa   ford mustang gl  "
      ]
     },
     "execution_count": 10,
     "metadata": {},
     "output_type": "execute_result"
    }
   ],
   "source": [
    "tr.head()"
   ]
  },
  {
   "cell_type": "code",
   "execution_count": 11,
   "metadata": {},
   "outputs": [
    {
     "data": {
      "text/html": [
       "<div>\n",
       "<style scoped>\n",
       "    .dataframe tbody tr th:only-of-type {\n",
       "        vertical-align: middle;\n",
       "    }\n",
       "\n",
       "    .dataframe tbody tr th {\n",
       "        vertical-align: top;\n",
       "    }\n",
       "\n",
       "    .dataframe thead th {\n",
       "        text-align: right;\n",
       "    }\n",
       "</style>\n",
       "<table border=\"1\" class=\"dataframe\">\n",
       "  <thead>\n",
       "    <tr style=\"text-align: right;\">\n",
       "      <th></th>\n",
       "      <th>mpg</th>\n",
       "      <th>cylinders</th>\n",
       "      <th>displacement</th>\n",
       "      <th>horsepower</th>\n",
       "      <th>weight</th>\n",
       "      <th>acceleration</th>\n",
       "      <th>model_year</th>\n",
       "      <th>origin</th>\n",
       "      <th>name</th>\n",
       "    </tr>\n",
       "  </thead>\n",
       "  <tbody>\n",
       "    <tr>\n",
       "      <th>245</th>\n",
       "      <td>36.1</td>\n",
       "      <td>4</td>\n",
       "      <td>98.0</td>\n",
       "      <td>66.0</td>\n",
       "      <td>1800</td>\n",
       "      <td>14.4</td>\n",
       "      <td>78</td>\n",
       "      <td>usa</td>\n",
       "      <td>ford fiesta</td>\n",
       "    </tr>\n",
       "    <tr>\n",
       "      <th>55</th>\n",
       "      <td>27.0</td>\n",
       "      <td>4</td>\n",
       "      <td>97.0</td>\n",
       "      <td>60.0</td>\n",
       "      <td>1834</td>\n",
       "      <td>19.0</td>\n",
       "      <td>71</td>\n",
       "      <td>europe</td>\n",
       "      <td>volkswagen model 111</td>\n",
       "    </tr>\n",
       "    <tr>\n",
       "      <th>51</th>\n",
       "      <td>30.0</td>\n",
       "      <td>4</td>\n",
       "      <td>79.0</td>\n",
       "      <td>70.0</td>\n",
       "      <td>2074</td>\n",
       "      <td>19.5</td>\n",
       "      <td>71</td>\n",
       "      <td>europe</td>\n",
       "      <td>peugeot 304</td>\n",
       "    </tr>\n",
       "    <tr>\n",
       "      <th>176</th>\n",
       "      <td>19.0</td>\n",
       "      <td>6</td>\n",
       "      <td>232.0</td>\n",
       "      <td>90.0</td>\n",
       "      <td>3211</td>\n",
       "      <td>17.0</td>\n",
       "      <td>75</td>\n",
       "      <td>usa</td>\n",
       "      <td>amc pacer</td>\n",
       "    </tr>\n",
       "    <tr>\n",
       "      <th>191</th>\n",
       "      <td>22.0</td>\n",
       "      <td>6</td>\n",
       "      <td>225.0</td>\n",
       "      <td>100.0</td>\n",
       "      <td>3233</td>\n",
       "      <td>15.4</td>\n",
       "      <td>76</td>\n",
       "      <td>usa</td>\n",
       "      <td>plymouth valiant</td>\n",
       "    </tr>\n",
       "  </tbody>\n",
       "</table>\n",
       "</div>"
      ],
      "text/plain": [
       "      mpg  cylinders  displacement  horsepower  weight  acceleration  \\\n",
       "245  36.1          4          98.0        66.0    1800          14.4   \n",
       "55   27.0          4          97.0        60.0    1834          19.0   \n",
       "51   30.0          4          79.0        70.0    2074          19.5   \n",
       "176  19.0          6         232.0        90.0    3211          17.0   \n",
       "191  22.0          6         225.0       100.0    3233          15.4   \n",
       "\n",
       "     model_year  origin                  name  \n",
       "245          78     usa           ford fiesta  \n",
       "55           71  europe  volkswagen model 111  \n",
       "51           71  europe           peugeot 304  \n",
       "176          75     usa             amc pacer  \n",
       "191          76     usa      plymouth valiant  "
      ]
     },
     "execution_count": 11,
     "metadata": {},
     "output_type": "execute_result"
    }
   ],
   "source": [
    "te.head()"
   ]
  },
  {
   "cell_type": "markdown",
   "metadata": {},
   "source": [
    "Checking that they add up."
   ]
  },
  {
   "cell_type": "code",
   "execution_count": 12,
   "metadata": {},
   "outputs": [
    {
     "data": {
      "text/plain": [
       "True"
      ]
     },
     "execution_count": 12,
     "metadata": {},
     "output_type": "execute_result"
    }
   ],
   "source": [
    "len(tr) + len(te) == len(data)"
   ]
  },
  {
   "cell_type": "markdown",
   "metadata": {},
   "source": [
    "### Shuffling with Numpy\n",
    "\n",
    "We can directly shuffle the data with `numpy`, and then select the corresponding rows from our original DataFrame."
   ]
  },
  {
   "cell_type": "code",
   "execution_count": 13,
   "metadata": {},
   "outputs": [
    {
     "data": {
      "text/plain": [
       "array([124, 140, 276, 252, 326, 136, 369, 132, 387, 174, 225, 356, 257,\n",
       "       239, 231, 267,   7, 129, 258, 234,  43, 190, 227, 368,  75, 149,\n",
       "       201, 288,  78, 163, 347, 284, 152,   1, 246, 213,  21, 110, 161,\n",
       "        69,  56, 198, 160, 134,  97, 195, 255,  98,  54, 118, 361,  18,\n",
       "       311,  64, 272, 295, 298, 127, 191,   5, 103, 377, 266, 346,  90,\n",
       "       385, 188, 293,  96,  46,  50, 282, 248, 120, 233, 209, 187,  27,\n",
       "       235, 338, 328, 352, 372, 304, 308,   6, 153, 219, 279, 121,   3,\n",
       "        20, 125, 166, 307, 309,  60,  84, 342,  80, 147, 133,  31, 345,\n",
       "        45,  47, 260, 150, 391,  59, 334,  23,  88, 332,  15,  33, 171,\n",
       "       355, 169, 265, 386, 241, 249, 178, 362,  19,  26, 297,  35, 157,\n",
       "        39, 244, 375,  10, 199, 184, 208, 367,  65, 259, 285,  41, 378,\n",
       "       203, 104, 128, 216, 151, 142, 158,  40, 217,  32,  48, 327, 197,\n",
       "       123, 173, 204,  61,  71, 305, 330, 126, 115, 271,  85, 159, 164,\n",
       "        52, 321, 154, 205, 315,  29, 358, 139, 302, 319, 162, 111, 296,\n",
       "       177, 371, 300, 175, 331, 324, 281, 339,  62, 247,  99, 269, 112,\n",
       "        37, 189, 206, 374,  83, 373, 314,  51, 263, 341, 370,  42, 357,\n",
       "       229, 236, 318, 179,  87, 268,  55,  22, 379, 313, 101,  11, 291,\n",
       "       108, 376, 194,  25, 117,  81, 366, 275, 242, 230,  82, 292, 156,\n",
       "       278, 333, 329,  74, 224, 254, 218, 306, 145, 320, 130, 113, 349,\n",
       "       351, 287, 388, 353, 210,  28, 344, 221,  24, 168, 148, 380, 322,\n",
       "        77, 340,  34, 144, 182, 232,  73, 301,  57, 365,  44,  92, 146,\n",
       "       200, 264, 138, 223, 220,  67, 109,  12,  16,  89, 337, 243, 382,\n",
       "       286, 222, 107, 186, 116, 122, 165, 262, 277,   9, 253, 196, 310,\n",
       "       384, 250, 256, 102, 289,  76, 119, 237, 114,  95, 170, 381,  94,\n",
       "       214,  38, 261,  36, 299, 180, 176, 360, 215, 207, 212, 325,  70,\n",
       "       131, 185, 335,   0, 348,  68, 383,  17,  30, 106,  13,  72, 273,\n",
       "       202, 192, 274, 172, 294, 167, 303, 238, 312, 283, 181,  63, 105,\n",
       "         2, 336, 251, 183, 270, 317, 193,  49, 135, 389,  91,   4, 100,\n",
       "       211, 245, 141, 364, 155,  86,  93, 137,  58, 316, 363, 228, 143,\n",
       "       390, 240, 290,  14, 226,  66,  53, 354, 350,  79, 343, 359, 323,\n",
       "       280,   8])"
      ]
     },
     "execution_count": 13,
     "metadata": {},
     "output_type": "execute_result"
    }
   ],
   "source": [
    "np.random.seed(100)\n",
    "shuffled_indices = np.random.permutation(np.arange(len(data)))\n",
    "shuffled_indices"
   ]
  },
  {
   "cell_type": "code",
   "execution_count": 14,
   "metadata": {},
   "outputs": [
    {
     "data": {
      "text/html": [
       "<div>\n",
       "<style scoped>\n",
       "    .dataframe tbody tr th:only-of-type {\n",
       "        vertical-align: middle;\n",
       "    }\n",
       "\n",
       "    .dataframe tbody tr th {\n",
       "        vertical-align: top;\n",
       "    }\n",
       "\n",
       "    .dataframe thead th {\n",
       "        text-align: right;\n",
       "    }\n",
       "</style>\n",
       "<table border=\"1\" class=\"dataframe\">\n",
       "  <thead>\n",
       "    <tr style=\"text-align: right;\">\n",
       "      <th></th>\n",
       "      <th>mpg</th>\n",
       "      <th>cylinders</th>\n",
       "      <th>displacement</th>\n",
       "      <th>horsepower</th>\n",
       "      <th>weight</th>\n",
       "      <th>acceleration</th>\n",
       "      <th>model_year</th>\n",
       "      <th>origin</th>\n",
       "      <th>name</th>\n",
       "    </tr>\n",
       "  </thead>\n",
       "  <tbody>\n",
       "    <tr>\n",
       "      <th>125</th>\n",
       "      <td>20.0</td>\n",
       "      <td>6</td>\n",
       "      <td>198.0</td>\n",
       "      <td>95.0</td>\n",
       "      <td>3102</td>\n",
       "      <td>16.5</td>\n",
       "      <td>74</td>\n",
       "      <td>usa</td>\n",
       "      <td>plymouth duster</td>\n",
       "    </tr>\n",
       "    <tr>\n",
       "      <th>142</th>\n",
       "      <td>26.0</td>\n",
       "      <td>4</td>\n",
       "      <td>79.0</td>\n",
       "      <td>67.0</td>\n",
       "      <td>1963</td>\n",
       "      <td>15.5</td>\n",
       "      <td>74</td>\n",
       "      <td>europe</td>\n",
       "      <td>volkswagen dasher</td>\n",
       "    </tr>\n",
       "    <tr>\n",
       "      <th>278</th>\n",
       "      <td>31.5</td>\n",
       "      <td>4</td>\n",
       "      <td>89.0</td>\n",
       "      <td>71.0</td>\n",
       "      <td>1990</td>\n",
       "      <td>14.9</td>\n",
       "      <td>78</td>\n",
       "      <td>europe</td>\n",
       "      <td>volkswagen scirocco</td>\n",
       "    </tr>\n",
       "    <tr>\n",
       "      <th>254</th>\n",
       "      <td>20.2</td>\n",
       "      <td>6</td>\n",
       "      <td>200.0</td>\n",
       "      <td>85.0</td>\n",
       "      <td>2965</td>\n",
       "      <td>15.8</td>\n",
       "      <td>78</td>\n",
       "      <td>usa</td>\n",
       "      <td>ford fairmont (auto)</td>\n",
       "    </tr>\n",
       "    <tr>\n",
       "      <th>328</th>\n",
       "      <td>30.0</td>\n",
       "      <td>4</td>\n",
       "      <td>146.0</td>\n",
       "      <td>67.0</td>\n",
       "      <td>3250</td>\n",
       "      <td>21.8</td>\n",
       "      <td>80</td>\n",
       "      <td>europe</td>\n",
       "      <td>mercedes-benz 240d</td>\n",
       "    </tr>\n",
       "  </tbody>\n",
       "</table>\n",
       "</div>"
      ],
      "text/plain": [
       "      mpg  cylinders  displacement  horsepower  weight  acceleration  \\\n",
       "125  20.0          6         198.0        95.0    3102          16.5   \n",
       "142  26.0          4          79.0        67.0    1963          15.5   \n",
       "278  31.5          4          89.0        71.0    1990          14.9   \n",
       "254  20.2          6         200.0        85.0    2965          15.8   \n",
       "328  30.0          4         146.0        67.0    3250          21.8   \n",
       "\n",
       "     model_year  origin                  name  \n",
       "125          74     usa       plymouth duster  \n",
       "142          74  europe     volkswagen dasher  \n",
       "278          78  europe   volkswagen scirocco  \n",
       "254          78     usa  ford fairmont (auto)  \n",
       "328          80  europe    mercedes-benz 240d  "
      ]
     },
     "execution_count": 14,
     "metadata": {},
     "output_type": "execute_result"
    }
   ],
   "source": [
    "data.iloc[shuffled_indices].head()"
   ]
  },
  {
   "cell_type": "code",
   "execution_count": 15,
   "metadata": {},
   "outputs": [],
   "source": [
    "tr = data.iloc[shuffled_indices[:split_point]]\n",
    "te = data.iloc[shuffled_indices[split_point:]]"
   ]
  },
  {
   "cell_type": "code",
   "execution_count": 16,
   "metadata": {},
   "outputs": [
    {
     "data": {
      "text/plain": [
       "(352, 40)"
      ]
     },
     "execution_count": 16,
     "metadata": {},
     "output_type": "execute_result"
    }
   ],
   "source": [
    "len(tr), len(te)"
   ]
  },
  {
   "cell_type": "markdown",
   "metadata": {},
   "source": [
    "### Using SKLearn\n",
    "\n",
    "We can use the `train_test_split` function from `sklearn.model_selection` to do this easily."
   ]
  },
  {
   "cell_type": "code",
   "execution_count": 17,
   "metadata": {},
   "outputs": [],
   "source": [
    "from sklearn.model_selection import train_test_split"
   ]
  },
  {
   "cell_type": "code",
   "execution_count": 18,
   "metadata": {},
   "outputs": [],
   "source": [
    "tr, te = train_test_split(data, test_size = 0.1, random_state = 83)"
   ]
  },
  {
   "cell_type": "code",
   "execution_count": 19,
   "metadata": {},
   "outputs": [
    {
     "data": {
      "text/plain": [
       "(352, 40)"
      ]
     },
     "execution_count": 19,
     "metadata": {},
     "output_type": "execute_result"
    }
   ],
   "source": [
    "len(tr), len(te)"
   ]
  },
  {
   "cell_type": "code",
   "execution_count": 20,
   "metadata": {},
   "outputs": [
    {
     "data": {
      "text/html": [
       "<div>\n",
       "<style scoped>\n",
       "    .dataframe tbody tr th:only-of-type {\n",
       "        vertical-align: middle;\n",
       "    }\n",
       "\n",
       "    .dataframe tbody tr th {\n",
       "        vertical-align: top;\n",
       "    }\n",
       "\n",
       "    .dataframe thead th {\n",
       "        text-align: right;\n",
       "    }\n",
       "</style>\n",
       "<table border=\"1\" class=\"dataframe\">\n",
       "  <thead>\n",
       "    <tr style=\"text-align: right;\">\n",
       "      <th></th>\n",
       "      <th>mpg</th>\n",
       "      <th>cylinders</th>\n",
       "      <th>displacement</th>\n",
       "      <th>horsepower</th>\n",
       "      <th>weight</th>\n",
       "      <th>acceleration</th>\n",
       "      <th>model_year</th>\n",
       "      <th>origin</th>\n",
       "      <th>name</th>\n",
       "    </tr>\n",
       "  </thead>\n",
       "  <tbody>\n",
       "    <tr>\n",
       "      <th>6</th>\n",
       "      <td>14.0</td>\n",
       "      <td>8</td>\n",
       "      <td>454.0</td>\n",
       "      <td>220.0</td>\n",
       "      <td>4354</td>\n",
       "      <td>9.0</td>\n",
       "      <td>70</td>\n",
       "      <td>usa</td>\n",
       "      <td>chevrolet impala</td>\n",
       "    </tr>\n",
       "    <tr>\n",
       "      <th>352</th>\n",
       "      <td>29.9</td>\n",
       "      <td>4</td>\n",
       "      <td>98.0</td>\n",
       "      <td>65.0</td>\n",
       "      <td>2380</td>\n",
       "      <td>20.7</td>\n",
       "      <td>81</td>\n",
       "      <td>usa</td>\n",
       "      <td>ford escort 2h</td>\n",
       "    </tr>\n",
       "    <tr>\n",
       "      <th>47</th>\n",
       "      <td>19.0</td>\n",
       "      <td>6</td>\n",
       "      <td>250.0</td>\n",
       "      <td>100.0</td>\n",
       "      <td>3282</td>\n",
       "      <td>15.0</td>\n",
       "      <td>71</td>\n",
       "      <td>usa</td>\n",
       "      <td>pontiac firebird</td>\n",
       "    </tr>\n",
       "    <tr>\n",
       "      <th>39</th>\n",
       "      <td>14.0</td>\n",
       "      <td>8</td>\n",
       "      <td>400.0</td>\n",
       "      <td>175.0</td>\n",
       "      <td>4464</td>\n",
       "      <td>11.5</td>\n",
       "      <td>71</td>\n",
       "      <td>usa</td>\n",
       "      <td>pontiac catalina brougham</td>\n",
       "    </tr>\n",
       "    <tr>\n",
       "      <th>304</th>\n",
       "      <td>37.3</td>\n",
       "      <td>4</td>\n",
       "      <td>91.0</td>\n",
       "      <td>69.0</td>\n",
       "      <td>2130</td>\n",
       "      <td>14.7</td>\n",
       "      <td>79</td>\n",
       "      <td>europe</td>\n",
       "      <td>fiat strada custom</td>\n",
       "    </tr>\n",
       "  </tbody>\n",
       "</table>\n",
       "</div>"
      ],
      "text/plain": [
       "      mpg  cylinders  displacement  horsepower  weight  acceleration  \\\n",
       "6    14.0          8         454.0       220.0    4354           9.0   \n",
       "352  29.9          4          98.0        65.0    2380          20.7   \n",
       "47   19.0          6         250.0       100.0    3282          15.0   \n",
       "39   14.0          8         400.0       175.0    4464          11.5   \n",
       "304  37.3          4          91.0        69.0    2130          14.7   \n",
       "\n",
       "     model_year  origin                       name  \n",
       "6            70     usa           chevrolet impala  \n",
       "352          81     usa             ford escort 2h  \n",
       "47           71     usa           pontiac firebird  \n",
       "39           71     usa  pontiac catalina brougham  \n",
       "304          79  europe         fiat strada custom  "
      ]
     },
     "execution_count": 20,
     "metadata": {},
     "output_type": "execute_result"
    }
   ],
   "source": [
    "tr.head()"
   ]
  },
  {
   "cell_type": "code",
   "execution_count": 21,
   "metadata": {},
   "outputs": [
    {
     "data": {
      "text/html": [
       "<div>\n",
       "<style scoped>\n",
       "    .dataframe tbody tr th:only-of-type {\n",
       "        vertical-align: middle;\n",
       "    }\n",
       "\n",
       "    .dataframe tbody tr th {\n",
       "        vertical-align: top;\n",
       "    }\n",
       "\n",
       "    .dataframe thead th {\n",
       "        text-align: right;\n",
       "    }\n",
       "</style>\n",
       "<table border=\"1\" class=\"dataframe\">\n",
       "  <thead>\n",
       "    <tr style=\"text-align: right;\">\n",
       "      <th></th>\n",
       "      <th>mpg</th>\n",
       "      <th>cylinders</th>\n",
       "      <th>displacement</th>\n",
       "      <th>horsepower</th>\n",
       "      <th>weight</th>\n",
       "      <th>acceleration</th>\n",
       "      <th>model_year</th>\n",
       "      <th>origin</th>\n",
       "      <th>name</th>\n",
       "    </tr>\n",
       "  </thead>\n",
       "  <tbody>\n",
       "    <tr>\n",
       "      <th>87</th>\n",
       "      <td>13.0</td>\n",
       "      <td>8</td>\n",
       "      <td>350.0</td>\n",
       "      <td>145.0</td>\n",
       "      <td>3988</td>\n",
       "      <td>13.0</td>\n",
       "      <td>73</td>\n",
       "      <td>usa</td>\n",
       "      <td>chevrolet malibu</td>\n",
       "    </tr>\n",
       "    <tr>\n",
       "      <th>279</th>\n",
       "      <td>29.5</td>\n",
       "      <td>4</td>\n",
       "      <td>98.0</td>\n",
       "      <td>68.0</td>\n",
       "      <td>2135</td>\n",
       "      <td>16.6</td>\n",
       "      <td>78</td>\n",
       "      <td>japan</td>\n",
       "      <td>honda accord lx</td>\n",
       "    </tr>\n",
       "    <tr>\n",
       "      <th>319</th>\n",
       "      <td>31.3</td>\n",
       "      <td>4</td>\n",
       "      <td>120.0</td>\n",
       "      <td>75.0</td>\n",
       "      <td>2542</td>\n",
       "      <td>17.5</td>\n",
       "      <td>80</td>\n",
       "      <td>japan</td>\n",
       "      <td>mazda 626</td>\n",
       "    </tr>\n",
       "    <tr>\n",
       "      <th>173</th>\n",
       "      <td>24.0</td>\n",
       "      <td>4</td>\n",
       "      <td>119.0</td>\n",
       "      <td>97.0</td>\n",
       "      <td>2545</td>\n",
       "      <td>17.0</td>\n",
       "      <td>75</td>\n",
       "      <td>japan</td>\n",
       "      <td>datsun 710</td>\n",
       "    </tr>\n",
       "    <tr>\n",
       "      <th>148</th>\n",
       "      <td>26.0</td>\n",
       "      <td>4</td>\n",
       "      <td>116.0</td>\n",
       "      <td>75.0</td>\n",
       "      <td>2246</td>\n",
       "      <td>14.0</td>\n",
       "      <td>74</td>\n",
       "      <td>europe</td>\n",
       "      <td>fiat 124 tc</td>\n",
       "    </tr>\n",
       "  </tbody>\n",
       "</table>\n",
       "</div>"
      ],
      "text/plain": [
       "      mpg  cylinders  displacement  horsepower  weight  acceleration  \\\n",
       "87   13.0          8         350.0       145.0    3988          13.0   \n",
       "279  29.5          4          98.0        68.0    2135          16.6   \n",
       "319  31.3          4         120.0        75.0    2542          17.5   \n",
       "173  24.0          4         119.0        97.0    2545          17.0   \n",
       "148  26.0          4         116.0        75.0    2246          14.0   \n",
       "\n",
       "     model_year  origin              name  \n",
       "87           73     usa  chevrolet malibu  \n",
       "279          78   japan   honda accord lx  \n",
       "319          80   japan         mazda 626  \n",
       "173          75   japan        datsun 710  \n",
       "148          74  europe       fiat 124 tc  "
      ]
     },
     "execution_count": 21,
     "metadata": {},
     "output_type": "execute_result"
    }
   ],
   "source": [
    "te.head()"
   ]
  },
  {
   "cell_type": "markdown",
   "metadata": {},
   "source": [
    "## Building A Basic Model\n",
    "\n",
    "Let's go through the process of building a model. Let's start by looking at the raw quantitative features available. We will first use just our own feature function (as we did in previous lectures). This function will just extract the quantitative features we can use for our model."
   ]
  },
  {
   "cell_type": "code",
   "execution_count": 22,
   "metadata": {},
   "outputs": [
    {
     "data": {
      "text/html": [
       "<div>\n",
       "<style scoped>\n",
       "    .dataframe tbody tr th:only-of-type {\n",
       "        vertical-align: middle;\n",
       "    }\n",
       "\n",
       "    .dataframe tbody tr th {\n",
       "        vertical-align: top;\n",
       "    }\n",
       "\n",
       "    .dataframe thead th {\n",
       "        text-align: right;\n",
       "    }\n",
       "</style>\n",
       "<table border=\"1\" class=\"dataframe\">\n",
       "  <thead>\n",
       "    <tr style=\"text-align: right;\">\n",
       "      <th></th>\n",
       "      <th>cylinders</th>\n",
       "      <th>displacement</th>\n",
       "      <th>horsepower</th>\n",
       "      <th>weight</th>\n",
       "      <th>acceleration</th>\n",
       "      <th>model_year</th>\n",
       "    </tr>\n",
       "  </thead>\n",
       "  <tbody>\n",
       "    <tr>\n",
       "      <th>6</th>\n",
       "      <td>8</td>\n",
       "      <td>454.0</td>\n",
       "      <td>220.0</td>\n",
       "      <td>4354</td>\n",
       "      <td>9.0</td>\n",
       "      <td>70</td>\n",
       "    </tr>\n",
       "    <tr>\n",
       "      <th>352</th>\n",
       "      <td>4</td>\n",
       "      <td>98.0</td>\n",
       "      <td>65.0</td>\n",
       "      <td>2380</td>\n",
       "      <td>20.7</td>\n",
       "      <td>81</td>\n",
       "    </tr>\n",
       "    <tr>\n",
       "      <th>47</th>\n",
       "      <td>6</td>\n",
       "      <td>250.0</td>\n",
       "      <td>100.0</td>\n",
       "      <td>3282</td>\n",
       "      <td>15.0</td>\n",
       "      <td>71</td>\n",
       "    </tr>\n",
       "    <tr>\n",
       "      <th>39</th>\n",
       "      <td>8</td>\n",
       "      <td>400.0</td>\n",
       "      <td>175.0</td>\n",
       "      <td>4464</td>\n",
       "      <td>11.5</td>\n",
       "      <td>71</td>\n",
       "    </tr>\n",
       "    <tr>\n",
       "      <th>304</th>\n",
       "      <td>4</td>\n",
       "      <td>91.0</td>\n",
       "      <td>69.0</td>\n",
       "      <td>2130</td>\n",
       "      <td>14.7</td>\n",
       "      <td>79</td>\n",
       "    </tr>\n",
       "    <tr>\n",
       "      <th>...</th>\n",
       "      <td>...</td>\n",
       "      <td>...</td>\n",
       "      <td>...</td>\n",
       "      <td>...</td>\n",
       "      <td>...</td>\n",
       "      <td>...</td>\n",
       "    </tr>\n",
       "    <tr>\n",
       "      <th>394</th>\n",
       "      <td>4</td>\n",
       "      <td>97.0</td>\n",
       "      <td>52.0</td>\n",
       "      <td>2130</td>\n",
       "      <td>24.6</td>\n",
       "      <td>82</td>\n",
       "    </tr>\n",
       "    <tr>\n",
       "      <th>258</th>\n",
       "      <td>6</td>\n",
       "      <td>231.0</td>\n",
       "      <td>105.0</td>\n",
       "      <td>3380</td>\n",
       "      <td>15.8</td>\n",
       "      <td>78</td>\n",
       "    </tr>\n",
       "    <tr>\n",
       "      <th>297</th>\n",
       "      <td>5</td>\n",
       "      <td>183.0</td>\n",
       "      <td>77.0</td>\n",
       "      <td>3530</td>\n",
       "      <td>20.1</td>\n",
       "      <td>79</td>\n",
       "    </tr>\n",
       "    <tr>\n",
       "      <th>23</th>\n",
       "      <td>4</td>\n",
       "      <td>121.0</td>\n",
       "      <td>113.0</td>\n",
       "      <td>2234</td>\n",
       "      <td>12.5</td>\n",
       "      <td>70</td>\n",
       "    </tr>\n",
       "    <tr>\n",
       "      <th>83</th>\n",
       "      <td>4</td>\n",
       "      <td>98.0</td>\n",
       "      <td>80.0</td>\n",
       "      <td>2164</td>\n",
       "      <td>15.0</td>\n",
       "      <td>72</td>\n",
       "    </tr>\n",
       "  </tbody>\n",
       "</table>\n",
       "<p>352 rows × 6 columns</p>\n",
       "</div>"
      ],
      "text/plain": [
       "     cylinders  displacement  horsepower  weight  acceleration  model_year\n",
       "6            8         454.0       220.0    4354           9.0          70\n",
       "352          4          98.0        65.0    2380          20.7          81\n",
       "47           6         250.0       100.0    3282          15.0          71\n",
       "39           8         400.0       175.0    4464          11.5          71\n",
       "304          4          91.0        69.0    2130          14.7          79\n",
       "..         ...           ...         ...     ...           ...         ...\n",
       "394          4          97.0        52.0    2130          24.6          82\n",
       "258          6         231.0       105.0    3380          15.8          78\n",
       "297          5         183.0        77.0    3530          20.1          79\n",
       "23           4         121.0       113.0    2234          12.5          70\n",
       "83           4          98.0        80.0    2164          15.0          72\n",
       "\n",
       "[352 rows x 6 columns]"
      ]
     },
     "execution_count": 22,
     "metadata": {},
     "output_type": "execute_result"
    }
   ],
   "source": [
    "def basic_design_matrix(df):\n",
    "    X = df[[\"cylinders\", \"displacement\", \n",
    "          \"horsepower\", \"weight\", \"acceleration\", \"model_year\"]]\n",
    "    return X\n",
    "\n",
    "basic_design_matrix(tr)"
   ]
  },
  {
   "cell_type": "markdown",
   "metadata": {},
   "source": [
    "Then we fit a `scikit-learn` `LinearRegression` model to our training data."
   ]
  },
  {
   "cell_type": "code",
   "execution_count": 23,
   "metadata": {},
   "outputs": [],
   "source": [
    "from sklearn.linear_model import LinearRegression\n",
    "model = LinearRegression()"
   ]
  },
  {
   "cell_type": "code",
   "execution_count": 24,
   "metadata": {},
   "outputs": [
    {
     "data": {
      "text/plain": [
       "LinearRegression()"
      ]
     },
     "execution_count": 24,
     "metadata": {},
     "output_type": "execute_result"
    }
   ],
   "source": [
    "model.fit(basic_design_matrix(tr), tr['mpg'])"
   ]
  },
  {
   "cell_type": "markdown",
   "metadata": {},
   "source": [
    "To evaluate the error we will use the **Root Mean Squared Error (RMSE)** which is like the mean squared error but in the correct units (mpg) instead of (mpg^2). "
   ]
  },
  {
   "cell_type": "code",
   "execution_count": 25,
   "metadata": {},
   "outputs": [],
   "source": [
    "def rmse(y, yhat):\n",
    "    return np.sqrt(np.mean((y - yhat)**2))"
   ]
  },
  {
   "cell_type": "markdown",
   "metadata": {},
   "source": [
    "The training error is:"
   ]
  },
  {
   "cell_type": "code",
   "execution_count": 26,
   "metadata": {},
   "outputs": [
    {
     "name": "stdout",
     "output_type": "stream",
     "text": [
      "Training Error (RMSE): 3.3745826999424575\n"
     ]
    }
   ],
   "source": [
    "Y_hat = model.predict(basic_design_matrix(tr))\n",
    "Y = tr['mpg']\n",
    "print(\"Training Error (RMSE):\", rmse(Y, Y_hat))"
   ]
  },
  {
   "cell_type": "markdown",
   "metadata": {},
   "source": [
    "Testing Error\n",
    "\n",
    "(Don't try this at home!)  \n",
    "\n",
    "**Notice:** The test error is slightly higher than the training error. This is typically (but not always) the case. Sometimes we get lucky and the test data is \"easier to predict\" or happens to closely follow the training data."
   ]
  },
  {
   "cell_type": "code",
   "execution_count": 27,
   "metadata": {},
   "outputs": [],
   "source": [
    "# Y_hat = model.predict(basic_design_matrix(te))\n",
    "# Y = te['mpg']\n",
    "# print(\"Testing Error (RMSE):\", rmse(Y, Y_hat))"
   ]
  },
  {
   "cell_type": "markdown",
   "metadata": {},
   "source": [
    "## Cross-Validation"
   ]
  },
  {
   "cell_type": "markdown",
   "metadata": {},
   "source": [
    "#### Keeping track of all the models.\n",
    "\n",
    "In this notebook (and in life) we will want to keep track of all our models. \n",
    "\n",
    "We store our model settings in a dictionary. The key is some identifying name, and the value is a 2-element tuple, with the first element being the transformation function (e.g. `basic_design_matrix`), and the second element being an empty model object (e.g. `LinearRegression()`)."
   ]
  },
  {
   "cell_type": "code",
   "execution_count": 28,
   "metadata": {},
   "outputs": [],
   "source": [
    "models = {\"quant\": (basic_design_matrix, LinearRegression())}"
   ]
  },
  {
   "cell_type": "markdown",
   "metadata": {},
   "source": [
    "### More Feature Transformations"
   ]
  },
  {
   "cell_type": "markdown",
   "metadata": {},
   "source": [
    "we might want to look at the displacement per cylinder as well."
   ]
  },
  {
   "cell_type": "code",
   "execution_count": 29,
   "metadata": {},
   "outputs": [
    {
     "data": {
      "text/html": [
       "<div>\n",
       "<style scoped>\n",
       "    .dataframe tbody tr th:only-of-type {\n",
       "        vertical-align: middle;\n",
       "    }\n",
       "\n",
       "    .dataframe tbody tr th {\n",
       "        vertical-align: top;\n",
       "    }\n",
       "\n",
       "    .dataframe thead th {\n",
       "        text-align: right;\n",
       "    }\n",
       "</style>\n",
       "<table border=\"1\" class=\"dataframe\">\n",
       "  <thead>\n",
       "    <tr style=\"text-align: right;\">\n",
       "      <th></th>\n",
       "      <th>cylinders</th>\n",
       "      <th>displacement</th>\n",
       "      <th>horsepower</th>\n",
       "      <th>weight</th>\n",
       "      <th>acceleration</th>\n",
       "      <th>model_year</th>\n",
       "      <th>displacement/cylinder</th>\n",
       "    </tr>\n",
       "  </thead>\n",
       "  <tbody>\n",
       "    <tr>\n",
       "      <th>6</th>\n",
       "      <td>8</td>\n",
       "      <td>454.0</td>\n",
       "      <td>220.0</td>\n",
       "      <td>4354</td>\n",
       "      <td>9.0</td>\n",
       "      <td>70</td>\n",
       "      <td>56.750000</td>\n",
       "    </tr>\n",
       "    <tr>\n",
       "      <th>352</th>\n",
       "      <td>4</td>\n",
       "      <td>98.0</td>\n",
       "      <td>65.0</td>\n",
       "      <td>2380</td>\n",
       "      <td>20.7</td>\n",
       "      <td>81</td>\n",
       "      <td>24.500000</td>\n",
       "    </tr>\n",
       "    <tr>\n",
       "      <th>47</th>\n",
       "      <td>6</td>\n",
       "      <td>250.0</td>\n",
       "      <td>100.0</td>\n",
       "      <td>3282</td>\n",
       "      <td>15.0</td>\n",
       "      <td>71</td>\n",
       "      <td>41.666667</td>\n",
       "    </tr>\n",
       "    <tr>\n",
       "      <th>39</th>\n",
       "      <td>8</td>\n",
       "      <td>400.0</td>\n",
       "      <td>175.0</td>\n",
       "      <td>4464</td>\n",
       "      <td>11.5</td>\n",
       "      <td>71</td>\n",
       "      <td>50.000000</td>\n",
       "    </tr>\n",
       "    <tr>\n",
       "      <th>304</th>\n",
       "      <td>4</td>\n",
       "      <td>91.0</td>\n",
       "      <td>69.0</td>\n",
       "      <td>2130</td>\n",
       "      <td>14.7</td>\n",
       "      <td>79</td>\n",
       "      <td>22.750000</td>\n",
       "    </tr>\n",
       "    <tr>\n",
       "      <th>...</th>\n",
       "      <td>...</td>\n",
       "      <td>...</td>\n",
       "      <td>...</td>\n",
       "      <td>...</td>\n",
       "      <td>...</td>\n",
       "      <td>...</td>\n",
       "      <td>...</td>\n",
       "    </tr>\n",
       "    <tr>\n",
       "      <th>394</th>\n",
       "      <td>4</td>\n",
       "      <td>97.0</td>\n",
       "      <td>52.0</td>\n",
       "      <td>2130</td>\n",
       "      <td>24.6</td>\n",
       "      <td>82</td>\n",
       "      <td>24.250000</td>\n",
       "    </tr>\n",
       "    <tr>\n",
       "      <th>258</th>\n",
       "      <td>6</td>\n",
       "      <td>231.0</td>\n",
       "      <td>105.0</td>\n",
       "      <td>3380</td>\n",
       "      <td>15.8</td>\n",
       "      <td>78</td>\n",
       "      <td>38.500000</td>\n",
       "    </tr>\n",
       "    <tr>\n",
       "      <th>297</th>\n",
       "      <td>5</td>\n",
       "      <td>183.0</td>\n",
       "      <td>77.0</td>\n",
       "      <td>3530</td>\n",
       "      <td>20.1</td>\n",
       "      <td>79</td>\n",
       "      <td>36.600000</td>\n",
       "    </tr>\n",
       "    <tr>\n",
       "      <th>23</th>\n",
       "      <td>4</td>\n",
       "      <td>121.0</td>\n",
       "      <td>113.0</td>\n",
       "      <td>2234</td>\n",
       "      <td>12.5</td>\n",
       "      <td>70</td>\n",
       "      <td>30.250000</td>\n",
       "    </tr>\n",
       "    <tr>\n",
       "      <th>83</th>\n",
       "      <td>4</td>\n",
       "      <td>98.0</td>\n",
       "      <td>80.0</td>\n",
       "      <td>2164</td>\n",
       "      <td>15.0</td>\n",
       "      <td>72</td>\n",
       "      <td>24.500000</td>\n",
       "    </tr>\n",
       "  </tbody>\n",
       "</table>\n",
       "<p>352 rows × 7 columns</p>\n",
       "</div>"
      ],
      "text/plain": [
       "     cylinders  displacement  horsepower  weight  acceleration  model_year  \\\n",
       "6            8         454.0       220.0    4354           9.0          70   \n",
       "352          4          98.0        65.0    2380          20.7          81   \n",
       "47           6         250.0       100.0    3282          15.0          71   \n",
       "39           8         400.0       175.0    4464          11.5          71   \n",
       "304          4          91.0        69.0    2130          14.7          79   \n",
       "..         ...           ...         ...     ...           ...         ...   \n",
       "394          4          97.0        52.0    2130          24.6          82   \n",
       "258          6         231.0       105.0    3380          15.8          78   \n",
       "297          5         183.0        77.0    3530          20.1          79   \n",
       "23           4         121.0       113.0    2234          12.5          70   \n",
       "83           4          98.0        80.0    2164          15.0          72   \n",
       "\n",
       "     displacement/cylinder  \n",
       "6                56.750000  \n",
       "352              24.500000  \n",
       "47               41.666667  \n",
       "39               50.000000  \n",
       "304              22.750000  \n",
       "..                     ...  \n",
       "394              24.250000  \n",
       "258              38.500000  \n",
       "297              36.600000  \n",
       "23               30.250000  \n",
       "83               24.500000  \n",
       "\n",
       "[352 rows x 7 columns]"
      ]
     },
     "execution_count": 29,
     "metadata": {},
     "output_type": "execute_result"
    }
   ],
   "source": [
    "def dispcyl_design_matrix(df):\n",
    "    X = basic_design_matrix(df)\n",
    "    X['displacement/cylinder'] = X['displacement'] / X['cylinders']\n",
    "    return X\n",
    "\n",
    "dispcyl_design_matrix(tr)"
   ]
  },
  {
   "cell_type": "markdown",
   "metadata": {},
   "source": [
    "We can build a linear model using the same quantitative features as before, but with this new \"displacement per cylinder\" feature."
   ]
  },
  {
   "cell_type": "code",
   "execution_count": 30,
   "metadata": {},
   "outputs": [],
   "source": [
    "model = LinearRegression()\n",
    "model.fit(dispcyl_design_matrix(tr), tr['mpg'])\n",
    "\n",
    "models['quant+dc'] = (dispcyl_design_matrix, LinearRegression())"
   ]
  },
  {
   "cell_type": "code",
   "execution_count": 31,
   "metadata": {},
   "outputs": [
    {
     "name": "stdout",
     "output_type": "stream",
     "text": [
      "Training Error (RMSE): 3.0333093446259114\n"
     ]
    }
   ],
   "source": [
    "Y_hat = model.predict(dispcyl_design_matrix(tr))\n",
    "Y = tr['mpg']\n",
    "print(\"Training Error (RMSE):\", rmse(Y, Y_hat))"
   ]
  },
  {
   "cell_type": "markdown",
   "metadata": {},
   "source": [
    "Our training error is definitely lower than with the previous model, but what we really care about is the model's performance on new data. But we shouldn't actually ever look at the test data. Instead, to compare these models, we can use cross-validation to \"mimic\" the train-test split."
   ]
  },
  {
   "cell_type": "markdown",
   "metadata": {},
   "source": [
    "In the following function we use the sklearn `KFold` cross validation class. "
   ]
  },
  {
   "cell_type": "markdown",
   "metadata": {},
   "source": [
    "Here we define a five fold cross validation with \n",
    "\n",
    "```python \n",
    "five_fold = KFold(n_splits=5)\n",
    "```\n",
    "\n",
    "Then we loop over the 5 splits and get the indicies (`tr_ind`) in the training data to use for training and the indices (`va_ind`) in the training data to use for validation:\n",
    "\n",
    "```python\n",
    "for tr_ind, te_ind in five_fold.split(tr):\n",
    "```"
   ]
  },
  {
   "cell_type": "code",
   "execution_count": 32,
   "metadata": {},
   "outputs": [],
   "source": [
    "from sklearn.model_selection import KFold\n",
    "from sklearn.base import clone\n",
    "\n",
    "def cross_validate_rmse(phi_function, model):\n",
    "    model = clone(model)\n",
    "    five_fold = KFold(n_splits = 5, random_state = 100, shuffle = True)\n",
    "    rmse_values = []\n",
    "    for tr_ind, va_ind in five_fold.split(tr):\n",
    "        \n",
    "        X_train = phi_function(tr.iloc[tr_ind, :])\n",
    "        y_train = tr['mpg'].iloc[tr_ind]\n",
    "        X_val = phi_function(tr.iloc[va_ind, :])\n",
    "        y_val = tr['mpg'].iloc[va_ind]\n",
    "        \n",
    "        model.fit(X_train, y_train)\n",
    "        \n",
    "        rmse_values.append(rmse(y_val, model.predict(X_val)))\n",
    "        \n",
    "    return np.mean(rmse_values)\n"
   ]
  },
  {
   "cell_type": "markdown",
   "metadata": {},
   "source": [
    "Valiating the model"
   ]
  },
  {
   "cell_type": "code",
   "execution_count": 33,
   "metadata": {
    "scrolled": true
   },
   "outputs": [
    {
     "data": {
      "text/plain": [
       "3.1113159765045713"
      ]
     },
     "execution_count": 33,
     "metadata": {},
     "output_type": "execute_result"
    }
   ],
   "source": [
    "cross_validate_rmse(dispcyl_design_matrix, LinearRegression())"
   ]
  },
  {
   "cell_type": "markdown",
   "metadata": {},
   "source": [
    "The following helper function generates a plot comparing all the models in the `transformations` dictionary."
   ]
  },
  {
   "cell_type": "code",
   "execution_count": 34,
   "metadata": {},
   "outputs": [],
   "source": [
    "def compare_models(models):\n",
    "    \n",
    "    # Compute the training error for each model\n",
    "    training_rmse = []\n",
    "    for transformation, model in models.values():\n",
    "        model = clone(model)\n",
    "        model.fit(transformation(tr), tr['mpg'])\n",
    "        training_rmse.append(rmse(tr['mpg'], model.predict(transformation(tr))))\n",
    "    \n",
    "    # Compute the cross validation error for each model\n",
    "    validation_rmse = [cross_validate_rmse(transformation, model) for transformation, model in models.values()]\n",
    "    \n",
    "    names = list(models.keys())\n",
    "    fig = go.Figure([\n",
    "        go.Bar(x = names, y = training_rmse, name=\"Training RMSE\"),\n",
    "        go.Bar(x = names, y = validation_rmse, name=\"CV RMSE\")])\n",
    "    return fig"
   ]
  },
  {
   "cell_type": "code",
   "execution_count": 35,
   "metadata": {},
   "outputs": [
    {
     "data": {
      "application/vnd.plotly.v1+json": {
       "config": {
        "plotlyServerURL": "https://plot.ly"
       },
       "data": [
        {
         "name": "Training RMSE",
         "type": "bar",
         "x": [
          "quant",
          "quant+dc"
         ],
         "y": [
          3.3745826999424575,
          3.0333093446259114
         ]
        },
        {
         "name": "CV RMSE",
         "type": "bar",
         "x": [
          "quant",
          "quant+dc"
         ],
         "y": [
          3.455901515616253,
          3.1113159765045713
         ]
        }
       ],
       "layout": {
        "template": {
         "data": {
          "bar": [
           {
            "error_x": {
             "color": "#2a3f5f"
            },
            "error_y": {
             "color": "#2a3f5f"
            },
            "marker": {
             "line": {
              "color": "#E5ECF6",
              "width": 0.5
             },
             "pattern": {
              "fillmode": "overlay",
              "size": 10,
              "solidity": 0.2
             }
            },
            "type": "bar"
           }
          ],
          "barpolar": [
           {
            "marker": {
             "line": {
              "color": "#E5ECF6",
              "width": 0.5
             },
             "pattern": {
              "fillmode": "overlay",
              "size": 10,
              "solidity": 0.2
             }
            },
            "type": "barpolar"
           }
          ],
          "carpet": [
           {
            "aaxis": {
             "endlinecolor": "#2a3f5f",
             "gridcolor": "white",
             "linecolor": "white",
             "minorgridcolor": "white",
             "startlinecolor": "#2a3f5f"
            },
            "baxis": {
             "endlinecolor": "#2a3f5f",
             "gridcolor": "white",
             "linecolor": "white",
             "minorgridcolor": "white",
             "startlinecolor": "#2a3f5f"
            },
            "type": "carpet"
           }
          ],
          "choropleth": [
           {
            "colorbar": {
             "outlinewidth": 0,
             "ticks": ""
            },
            "type": "choropleth"
           }
          ],
          "contour": [
           {
            "colorbar": {
             "outlinewidth": 0,
             "ticks": ""
            },
            "colorscale": [
             [
              0,
              "#0d0887"
             ],
             [
              0.1111111111111111,
              "#46039f"
             ],
             [
              0.2222222222222222,
              "#7201a8"
             ],
             [
              0.3333333333333333,
              "#9c179e"
             ],
             [
              0.4444444444444444,
              "#bd3786"
             ],
             [
              0.5555555555555556,
              "#d8576b"
             ],
             [
              0.6666666666666666,
              "#ed7953"
             ],
             [
              0.7777777777777778,
              "#fb9f3a"
             ],
             [
              0.8888888888888888,
              "#fdca26"
             ],
             [
              1,
              "#f0f921"
             ]
            ],
            "type": "contour"
           }
          ],
          "contourcarpet": [
           {
            "colorbar": {
             "outlinewidth": 0,
             "ticks": ""
            },
            "type": "contourcarpet"
           }
          ],
          "heatmap": [
           {
            "colorbar": {
             "outlinewidth": 0,
             "ticks": ""
            },
            "colorscale": [
             [
              0,
              "#0d0887"
             ],
             [
              0.1111111111111111,
              "#46039f"
             ],
             [
              0.2222222222222222,
              "#7201a8"
             ],
             [
              0.3333333333333333,
              "#9c179e"
             ],
             [
              0.4444444444444444,
              "#bd3786"
             ],
             [
              0.5555555555555556,
              "#d8576b"
             ],
             [
              0.6666666666666666,
              "#ed7953"
             ],
             [
              0.7777777777777778,
              "#fb9f3a"
             ],
             [
              0.8888888888888888,
              "#fdca26"
             ],
             [
              1,
              "#f0f921"
             ]
            ],
            "type": "heatmap"
           }
          ],
          "heatmapgl": [
           {
            "colorbar": {
             "outlinewidth": 0,
             "ticks": ""
            },
            "colorscale": [
             [
              0,
              "#0d0887"
             ],
             [
              0.1111111111111111,
              "#46039f"
             ],
             [
              0.2222222222222222,
              "#7201a8"
             ],
             [
              0.3333333333333333,
              "#9c179e"
             ],
             [
              0.4444444444444444,
              "#bd3786"
             ],
             [
              0.5555555555555556,
              "#d8576b"
             ],
             [
              0.6666666666666666,
              "#ed7953"
             ],
             [
              0.7777777777777778,
              "#fb9f3a"
             ],
             [
              0.8888888888888888,
              "#fdca26"
             ],
             [
              1,
              "#f0f921"
             ]
            ],
            "type": "heatmapgl"
           }
          ],
          "histogram": [
           {
            "marker": {
             "pattern": {
              "fillmode": "overlay",
              "size": 10,
              "solidity": 0.2
             }
            },
            "type": "histogram"
           }
          ],
          "histogram2d": [
           {
            "colorbar": {
             "outlinewidth": 0,
             "ticks": ""
            },
            "colorscale": [
             [
              0,
              "#0d0887"
             ],
             [
              0.1111111111111111,
              "#46039f"
             ],
             [
              0.2222222222222222,
              "#7201a8"
             ],
             [
              0.3333333333333333,
              "#9c179e"
             ],
             [
              0.4444444444444444,
              "#bd3786"
             ],
             [
              0.5555555555555556,
              "#d8576b"
             ],
             [
              0.6666666666666666,
              "#ed7953"
             ],
             [
              0.7777777777777778,
              "#fb9f3a"
             ],
             [
              0.8888888888888888,
              "#fdca26"
             ],
             [
              1,
              "#f0f921"
             ]
            ],
            "type": "histogram2d"
           }
          ],
          "histogram2dcontour": [
           {
            "colorbar": {
             "outlinewidth": 0,
             "ticks": ""
            },
            "colorscale": [
             [
              0,
              "#0d0887"
             ],
             [
              0.1111111111111111,
              "#46039f"
             ],
             [
              0.2222222222222222,
              "#7201a8"
             ],
             [
              0.3333333333333333,
              "#9c179e"
             ],
             [
              0.4444444444444444,
              "#bd3786"
             ],
             [
              0.5555555555555556,
              "#d8576b"
             ],
             [
              0.6666666666666666,
              "#ed7953"
             ],
             [
              0.7777777777777778,
              "#fb9f3a"
             ],
             [
              0.8888888888888888,
              "#fdca26"
             ],
             [
              1,
              "#f0f921"
             ]
            ],
            "type": "histogram2dcontour"
           }
          ],
          "mesh3d": [
           {
            "colorbar": {
             "outlinewidth": 0,
             "ticks": ""
            },
            "type": "mesh3d"
           }
          ],
          "parcoords": [
           {
            "line": {
             "colorbar": {
              "outlinewidth": 0,
              "ticks": ""
             }
            },
            "type": "parcoords"
           }
          ],
          "pie": [
           {
            "automargin": true,
            "type": "pie"
           }
          ],
          "scatter": [
           {
            "marker": {
             "colorbar": {
              "outlinewidth": 0,
              "ticks": ""
             }
            },
            "type": "scatter"
           }
          ],
          "scatter3d": [
           {
            "line": {
             "colorbar": {
              "outlinewidth": 0,
              "ticks": ""
             }
            },
            "marker": {
             "colorbar": {
              "outlinewidth": 0,
              "ticks": ""
             }
            },
            "type": "scatter3d"
           }
          ],
          "scattercarpet": [
           {
            "marker": {
             "colorbar": {
              "outlinewidth": 0,
              "ticks": ""
             }
            },
            "type": "scattercarpet"
           }
          ],
          "scattergeo": [
           {
            "marker": {
             "colorbar": {
              "outlinewidth": 0,
              "ticks": ""
             }
            },
            "type": "scattergeo"
           }
          ],
          "scattergl": [
           {
            "marker": {
             "colorbar": {
              "outlinewidth": 0,
              "ticks": ""
             }
            },
            "type": "scattergl"
           }
          ],
          "scattermapbox": [
           {
            "marker": {
             "colorbar": {
              "outlinewidth": 0,
              "ticks": ""
             }
            },
            "type": "scattermapbox"
           }
          ],
          "scatterpolar": [
           {
            "marker": {
             "colorbar": {
              "outlinewidth": 0,
              "ticks": ""
             }
            },
            "type": "scatterpolar"
           }
          ],
          "scatterpolargl": [
           {
            "marker": {
             "colorbar": {
              "outlinewidth": 0,
              "ticks": ""
             }
            },
            "type": "scatterpolargl"
           }
          ],
          "scatterternary": [
           {
            "marker": {
             "colorbar": {
              "outlinewidth": 0,
              "ticks": ""
             }
            },
            "type": "scatterternary"
           }
          ],
          "surface": [
           {
            "colorbar": {
             "outlinewidth": 0,
             "ticks": ""
            },
            "colorscale": [
             [
              0,
              "#0d0887"
             ],
             [
              0.1111111111111111,
              "#46039f"
             ],
             [
              0.2222222222222222,
              "#7201a8"
             ],
             [
              0.3333333333333333,
              "#9c179e"
             ],
             [
              0.4444444444444444,
              "#bd3786"
             ],
             [
              0.5555555555555556,
              "#d8576b"
             ],
             [
              0.6666666666666666,
              "#ed7953"
             ],
             [
              0.7777777777777778,
              "#fb9f3a"
             ],
             [
              0.8888888888888888,
              "#fdca26"
             ],
             [
              1,
              "#f0f921"
             ]
            ],
            "type": "surface"
           }
          ],
          "table": [
           {
            "cells": {
             "fill": {
              "color": "#EBF0F8"
             },
             "line": {
              "color": "white"
             }
            },
            "header": {
             "fill": {
              "color": "#C8D4E3"
             },
             "line": {
              "color": "white"
             }
            },
            "type": "table"
           }
          ]
         },
         "layout": {
          "annotationdefaults": {
           "arrowcolor": "#2a3f5f",
           "arrowhead": 0,
           "arrowwidth": 1
          },
          "autotypenumbers": "strict",
          "coloraxis": {
           "colorbar": {
            "outlinewidth": 0,
            "ticks": ""
           }
          },
          "colorscale": {
           "diverging": [
            [
             0,
             "#8e0152"
            ],
            [
             0.1,
             "#c51b7d"
            ],
            [
             0.2,
             "#de77ae"
            ],
            [
             0.3,
             "#f1b6da"
            ],
            [
             0.4,
             "#fde0ef"
            ],
            [
             0.5,
             "#f7f7f7"
            ],
            [
             0.6,
             "#e6f5d0"
            ],
            [
             0.7,
             "#b8e186"
            ],
            [
             0.8,
             "#7fbc41"
            ],
            [
             0.9,
             "#4d9221"
            ],
            [
             1,
             "#276419"
            ]
           ],
           "sequential": [
            [
             0,
             "#0d0887"
            ],
            [
             0.1111111111111111,
             "#46039f"
            ],
            [
             0.2222222222222222,
             "#7201a8"
            ],
            [
             0.3333333333333333,
             "#9c179e"
            ],
            [
             0.4444444444444444,
             "#bd3786"
            ],
            [
             0.5555555555555556,
             "#d8576b"
            ],
            [
             0.6666666666666666,
             "#ed7953"
            ],
            [
             0.7777777777777778,
             "#fb9f3a"
            ],
            [
             0.8888888888888888,
             "#fdca26"
            ],
            [
             1,
             "#f0f921"
            ]
           ],
           "sequentialminus": [
            [
             0,
             "#0d0887"
            ],
            [
             0.1111111111111111,
             "#46039f"
            ],
            [
             0.2222222222222222,
             "#7201a8"
            ],
            [
             0.3333333333333333,
             "#9c179e"
            ],
            [
             0.4444444444444444,
             "#bd3786"
            ],
            [
             0.5555555555555556,
             "#d8576b"
            ],
            [
             0.6666666666666666,
             "#ed7953"
            ],
            [
             0.7777777777777778,
             "#fb9f3a"
            ],
            [
             0.8888888888888888,
             "#fdca26"
            ],
            [
             1,
             "#f0f921"
            ]
           ]
          },
          "colorway": [
           "#636efa",
           "#EF553B",
           "#00cc96",
           "#ab63fa",
           "#FFA15A",
           "#19d3f3",
           "#FF6692",
           "#B6E880",
           "#FF97FF",
           "#FECB52"
          ],
          "font": {
           "color": "#2a3f5f"
          },
          "geo": {
           "bgcolor": "white",
           "lakecolor": "white",
           "landcolor": "#E5ECF6",
           "showlakes": true,
           "showland": true,
           "subunitcolor": "white"
          },
          "hoverlabel": {
           "align": "left"
          },
          "hovermode": "closest",
          "mapbox": {
           "style": "light"
          },
          "paper_bgcolor": "white",
          "plot_bgcolor": "#E5ECF6",
          "polar": {
           "angularaxis": {
            "gridcolor": "white",
            "linecolor": "white",
            "ticks": ""
           },
           "bgcolor": "#E5ECF6",
           "radialaxis": {
            "gridcolor": "white",
            "linecolor": "white",
            "ticks": ""
           }
          },
          "scene": {
           "xaxis": {
            "backgroundcolor": "#E5ECF6",
            "gridcolor": "white",
            "gridwidth": 2,
            "linecolor": "white",
            "showbackground": true,
            "ticks": "",
            "zerolinecolor": "white"
           },
           "yaxis": {
            "backgroundcolor": "#E5ECF6",
            "gridcolor": "white",
            "gridwidth": 2,
            "linecolor": "white",
            "showbackground": true,
            "ticks": "",
            "zerolinecolor": "white"
           },
           "zaxis": {
            "backgroundcolor": "#E5ECF6",
            "gridcolor": "white",
            "gridwidth": 2,
            "linecolor": "white",
            "showbackground": true,
            "ticks": "",
            "zerolinecolor": "white"
           }
          },
          "shapedefaults": {
           "line": {
            "color": "#2a3f5f"
           }
          },
          "ternary": {
           "aaxis": {
            "gridcolor": "white",
            "linecolor": "white",
            "ticks": ""
           },
           "baxis": {
            "gridcolor": "white",
            "linecolor": "white",
            "ticks": ""
           },
           "bgcolor": "#E5ECF6",
           "caxis": {
            "gridcolor": "white",
            "linecolor": "white",
            "ticks": ""
           }
          },
          "title": {
           "x": 0.05
          },
          "xaxis": {
           "automargin": true,
           "gridcolor": "white",
           "linecolor": "white",
           "ticks": "",
           "title": {
            "standoff": 15
           },
           "zerolinecolor": "white",
           "zerolinewidth": 2
          },
          "yaxis": {
           "automargin": true,
           "gridcolor": "white",
           "linecolor": "white",
           "ticks": "",
           "title": {
            "standoff": 15
           },
           "zerolinecolor": "white",
           "zerolinewidth": 2
          }
         }
        },
        "yaxis": {
         "range": [
          0,
          4
         ],
         "title": {
          "text": "RMSE"
         }
        }
       }
      },
      "text/html": [
       "<div>                            <div id=\"91de3903-8706-4a89-be3f-4d0263b0095c\" class=\"plotly-graph-div\" style=\"height:525px; width:100%;\"></div>            <script type=\"text/javascript\">                require([\"plotly\"], function(Plotly) {                    window.PLOTLYENV=window.PLOTLYENV || {};                                    if (document.getElementById(\"91de3903-8706-4a89-be3f-4d0263b0095c\")) {                    Plotly.newPlot(                        \"91de3903-8706-4a89-be3f-4d0263b0095c\",                        [{\"name\":\"Training RMSE\",\"type\":\"bar\",\"x\":[\"quant\",\"quant+dc\"],\"y\":[3.3745826999424575,3.0333093446259114]},{\"name\":\"CV RMSE\",\"type\":\"bar\",\"x\":[\"quant\",\"quant+dc\"],\"y\":[3.455901515616253,3.1113159765045713]}],                        {\"template\":{\"data\":{\"bar\":[{\"error_x\":{\"color\":\"#2a3f5f\"},\"error_y\":{\"color\":\"#2a3f5f\"},\"marker\":{\"line\":{\"color\":\"#E5ECF6\",\"width\":0.5},\"pattern\":{\"fillmode\":\"overlay\",\"size\":10,\"solidity\":0.2}},\"type\":\"bar\"}],\"barpolar\":[{\"marker\":{\"line\":{\"color\":\"#E5ECF6\",\"width\":0.5},\"pattern\":{\"fillmode\":\"overlay\",\"size\":10,\"solidity\":0.2}},\"type\":\"barpolar\"}],\"carpet\":[{\"aaxis\":{\"endlinecolor\":\"#2a3f5f\",\"gridcolor\":\"white\",\"linecolor\":\"white\",\"minorgridcolor\":\"white\",\"startlinecolor\":\"#2a3f5f\"},\"baxis\":{\"endlinecolor\":\"#2a3f5f\",\"gridcolor\":\"white\",\"linecolor\":\"white\",\"minorgridcolor\":\"white\",\"startlinecolor\":\"#2a3f5f\"},\"type\":\"carpet\"}],\"choropleth\":[{\"colorbar\":{\"outlinewidth\":0,\"ticks\":\"\"},\"type\":\"choropleth\"}],\"contour\":[{\"colorbar\":{\"outlinewidth\":0,\"ticks\":\"\"},\"colorscale\":[[0.0,\"#0d0887\"],[0.1111111111111111,\"#46039f\"],[0.2222222222222222,\"#7201a8\"],[0.3333333333333333,\"#9c179e\"],[0.4444444444444444,\"#bd3786\"],[0.5555555555555556,\"#d8576b\"],[0.6666666666666666,\"#ed7953\"],[0.7777777777777778,\"#fb9f3a\"],[0.8888888888888888,\"#fdca26\"],[1.0,\"#f0f921\"]],\"type\":\"contour\"}],\"contourcarpet\":[{\"colorbar\":{\"outlinewidth\":0,\"ticks\":\"\"},\"type\":\"contourcarpet\"}],\"heatmap\":[{\"colorbar\":{\"outlinewidth\":0,\"ticks\":\"\"},\"colorscale\":[[0.0,\"#0d0887\"],[0.1111111111111111,\"#46039f\"],[0.2222222222222222,\"#7201a8\"],[0.3333333333333333,\"#9c179e\"],[0.4444444444444444,\"#bd3786\"],[0.5555555555555556,\"#d8576b\"],[0.6666666666666666,\"#ed7953\"],[0.7777777777777778,\"#fb9f3a\"],[0.8888888888888888,\"#fdca26\"],[1.0,\"#f0f921\"]],\"type\":\"heatmap\"}],\"heatmapgl\":[{\"colorbar\":{\"outlinewidth\":0,\"ticks\":\"\"},\"colorscale\":[[0.0,\"#0d0887\"],[0.1111111111111111,\"#46039f\"],[0.2222222222222222,\"#7201a8\"],[0.3333333333333333,\"#9c179e\"],[0.4444444444444444,\"#bd3786\"],[0.5555555555555556,\"#d8576b\"],[0.6666666666666666,\"#ed7953\"],[0.7777777777777778,\"#fb9f3a\"],[0.8888888888888888,\"#fdca26\"],[1.0,\"#f0f921\"]],\"type\":\"heatmapgl\"}],\"histogram\":[{\"marker\":{\"pattern\":{\"fillmode\":\"overlay\",\"size\":10,\"solidity\":0.2}},\"type\":\"histogram\"}],\"histogram2d\":[{\"colorbar\":{\"outlinewidth\":0,\"ticks\":\"\"},\"colorscale\":[[0.0,\"#0d0887\"],[0.1111111111111111,\"#46039f\"],[0.2222222222222222,\"#7201a8\"],[0.3333333333333333,\"#9c179e\"],[0.4444444444444444,\"#bd3786\"],[0.5555555555555556,\"#d8576b\"],[0.6666666666666666,\"#ed7953\"],[0.7777777777777778,\"#fb9f3a\"],[0.8888888888888888,\"#fdca26\"],[1.0,\"#f0f921\"]],\"type\":\"histogram2d\"}],\"histogram2dcontour\":[{\"colorbar\":{\"outlinewidth\":0,\"ticks\":\"\"},\"colorscale\":[[0.0,\"#0d0887\"],[0.1111111111111111,\"#46039f\"],[0.2222222222222222,\"#7201a8\"],[0.3333333333333333,\"#9c179e\"],[0.4444444444444444,\"#bd3786\"],[0.5555555555555556,\"#d8576b\"],[0.6666666666666666,\"#ed7953\"],[0.7777777777777778,\"#fb9f3a\"],[0.8888888888888888,\"#fdca26\"],[1.0,\"#f0f921\"]],\"type\":\"histogram2dcontour\"}],\"mesh3d\":[{\"colorbar\":{\"outlinewidth\":0,\"ticks\":\"\"},\"type\":\"mesh3d\"}],\"parcoords\":[{\"line\":{\"colorbar\":{\"outlinewidth\":0,\"ticks\":\"\"}},\"type\":\"parcoords\"}],\"pie\":[{\"automargin\":true,\"type\":\"pie\"}],\"scatter\":[{\"marker\":{\"colorbar\":{\"outlinewidth\":0,\"ticks\":\"\"}},\"type\":\"scatter\"}],\"scatter3d\":[{\"line\":{\"colorbar\":{\"outlinewidth\":0,\"ticks\":\"\"}},\"marker\":{\"colorbar\":{\"outlinewidth\":0,\"ticks\":\"\"}},\"type\":\"scatter3d\"}],\"scattercarpet\":[{\"marker\":{\"colorbar\":{\"outlinewidth\":0,\"ticks\":\"\"}},\"type\":\"scattercarpet\"}],\"scattergeo\":[{\"marker\":{\"colorbar\":{\"outlinewidth\":0,\"ticks\":\"\"}},\"type\":\"scattergeo\"}],\"scattergl\":[{\"marker\":{\"colorbar\":{\"outlinewidth\":0,\"ticks\":\"\"}},\"type\":\"scattergl\"}],\"scattermapbox\":[{\"marker\":{\"colorbar\":{\"outlinewidth\":0,\"ticks\":\"\"}},\"type\":\"scattermapbox\"}],\"scatterpolar\":[{\"marker\":{\"colorbar\":{\"outlinewidth\":0,\"ticks\":\"\"}},\"type\":\"scatterpolar\"}],\"scatterpolargl\":[{\"marker\":{\"colorbar\":{\"outlinewidth\":0,\"ticks\":\"\"}},\"type\":\"scatterpolargl\"}],\"scatterternary\":[{\"marker\":{\"colorbar\":{\"outlinewidth\":0,\"ticks\":\"\"}},\"type\":\"scatterternary\"}],\"surface\":[{\"colorbar\":{\"outlinewidth\":0,\"ticks\":\"\"},\"colorscale\":[[0.0,\"#0d0887\"],[0.1111111111111111,\"#46039f\"],[0.2222222222222222,\"#7201a8\"],[0.3333333333333333,\"#9c179e\"],[0.4444444444444444,\"#bd3786\"],[0.5555555555555556,\"#d8576b\"],[0.6666666666666666,\"#ed7953\"],[0.7777777777777778,\"#fb9f3a\"],[0.8888888888888888,\"#fdca26\"],[1.0,\"#f0f921\"]],\"type\":\"surface\"}],\"table\":[{\"cells\":{\"fill\":{\"color\":\"#EBF0F8\"},\"line\":{\"color\":\"white\"}},\"header\":{\"fill\":{\"color\":\"#C8D4E3\"},\"line\":{\"color\":\"white\"}},\"type\":\"table\"}]},\"layout\":{\"annotationdefaults\":{\"arrowcolor\":\"#2a3f5f\",\"arrowhead\":0,\"arrowwidth\":1},\"autotypenumbers\":\"strict\",\"coloraxis\":{\"colorbar\":{\"outlinewidth\":0,\"ticks\":\"\"}},\"colorscale\":{\"diverging\":[[0,\"#8e0152\"],[0.1,\"#c51b7d\"],[0.2,\"#de77ae\"],[0.3,\"#f1b6da\"],[0.4,\"#fde0ef\"],[0.5,\"#f7f7f7\"],[0.6,\"#e6f5d0\"],[0.7,\"#b8e186\"],[0.8,\"#7fbc41\"],[0.9,\"#4d9221\"],[1,\"#276419\"]],\"sequential\":[[0.0,\"#0d0887\"],[0.1111111111111111,\"#46039f\"],[0.2222222222222222,\"#7201a8\"],[0.3333333333333333,\"#9c179e\"],[0.4444444444444444,\"#bd3786\"],[0.5555555555555556,\"#d8576b\"],[0.6666666666666666,\"#ed7953\"],[0.7777777777777778,\"#fb9f3a\"],[0.8888888888888888,\"#fdca26\"],[1.0,\"#f0f921\"]],\"sequentialminus\":[[0.0,\"#0d0887\"],[0.1111111111111111,\"#46039f\"],[0.2222222222222222,\"#7201a8\"],[0.3333333333333333,\"#9c179e\"],[0.4444444444444444,\"#bd3786\"],[0.5555555555555556,\"#d8576b\"],[0.6666666666666666,\"#ed7953\"],[0.7777777777777778,\"#fb9f3a\"],[0.8888888888888888,\"#fdca26\"],[1.0,\"#f0f921\"]]},\"colorway\":[\"#636efa\",\"#EF553B\",\"#00cc96\",\"#ab63fa\",\"#FFA15A\",\"#19d3f3\",\"#FF6692\",\"#B6E880\",\"#FF97FF\",\"#FECB52\"],\"font\":{\"color\":\"#2a3f5f\"},\"geo\":{\"bgcolor\":\"white\",\"lakecolor\":\"white\",\"landcolor\":\"#E5ECF6\",\"showlakes\":true,\"showland\":true,\"subunitcolor\":\"white\"},\"hoverlabel\":{\"align\":\"left\"},\"hovermode\":\"closest\",\"mapbox\":{\"style\":\"light\"},\"paper_bgcolor\":\"white\",\"plot_bgcolor\":\"#E5ECF6\",\"polar\":{\"angularaxis\":{\"gridcolor\":\"white\",\"linecolor\":\"white\",\"ticks\":\"\"},\"bgcolor\":\"#E5ECF6\",\"radialaxis\":{\"gridcolor\":\"white\",\"linecolor\":\"white\",\"ticks\":\"\"}},\"scene\":{\"xaxis\":{\"backgroundcolor\":\"#E5ECF6\",\"gridcolor\":\"white\",\"gridwidth\":2,\"linecolor\":\"white\",\"showbackground\":true,\"ticks\":\"\",\"zerolinecolor\":\"white\"},\"yaxis\":{\"backgroundcolor\":\"#E5ECF6\",\"gridcolor\":\"white\",\"gridwidth\":2,\"linecolor\":\"white\",\"showbackground\":true,\"ticks\":\"\",\"zerolinecolor\":\"white\"},\"zaxis\":{\"backgroundcolor\":\"#E5ECF6\",\"gridcolor\":\"white\",\"gridwidth\":2,\"linecolor\":\"white\",\"showbackground\":true,\"ticks\":\"\",\"zerolinecolor\":\"white\"}},\"shapedefaults\":{\"line\":{\"color\":\"#2a3f5f\"}},\"ternary\":{\"aaxis\":{\"gridcolor\":\"white\",\"linecolor\":\"white\",\"ticks\":\"\"},\"baxis\":{\"gridcolor\":\"white\",\"linecolor\":\"white\",\"ticks\":\"\"},\"bgcolor\":\"#E5ECF6\",\"caxis\":{\"gridcolor\":\"white\",\"linecolor\":\"white\",\"ticks\":\"\"}},\"title\":{\"x\":0.05},\"xaxis\":{\"automargin\":true,\"gridcolor\":\"white\",\"linecolor\":\"white\",\"ticks\":\"\",\"title\":{\"standoff\":15},\"zerolinecolor\":\"white\",\"zerolinewidth\":2},\"yaxis\":{\"automargin\":true,\"gridcolor\":\"white\",\"linecolor\":\"white\",\"ticks\":\"\",\"title\":{\"standoff\":15},\"zerolinecolor\":\"white\",\"zerolinewidth\":2}}},\"yaxis\":{\"range\":[0,4],\"title\":{\"text\":\"RMSE\"}}},                        {\"responsive\": true}                    ).then(function(){\n",
       "                            \n",
       "var gd = document.getElementById('91de3903-8706-4a89-be3f-4d0263b0095c');\n",
       "var x = new MutationObserver(function (mutations, observer) {{\n",
       "        var display = window.getComputedStyle(gd).display;\n",
       "        if (!display || display === 'none') {{\n",
       "            console.log([gd, 'removed!']);\n",
       "            Plotly.purge(gd);\n",
       "            observer.disconnect();\n",
       "        }}\n",
       "}});\n",
       "\n",
       "// Listen for the removal of the full notebook cells\n",
       "var notebookContainer = gd.closest('#notebook-container');\n",
       "if (notebookContainer) {{\n",
       "    x.observe(notebookContainer, {childList: true});\n",
       "}}\n",
       "\n",
       "// Listen for the clearing of the current output cell\n",
       "var outputEl = gd.closest('.output');\n",
       "if (outputEl) {{\n",
       "    x.observe(outputEl, {childList: true});\n",
       "}}\n",
       "\n",
       "                        })                };                });            </script>        </div>"
      ]
     },
     "metadata": {},
     "output_type": "display_data"
    }
   ],
   "source": [
    "fig = compare_models(models)\n",
    "fig.update_yaxes(range = [0, 4], title = \"RMSE\")"
   ]
  },
  {
   "cell_type": "markdown",
   "metadata": {},
   "source": [
    "So not only did the new displacement / cylinders feature improve our training error, it also improved our cross-validation error. This indicates that this feature helps our model generalize, or in other words, that it has \"predictive power.\"\n",
    "\n",
    "Now let's try adding some categorical data, such as the `origin` column. As this is categorical data, we will have to one-hot encode this variable."
   ]
  },
  {
   "cell_type": "code",
   "execution_count": 36,
   "metadata": {},
   "outputs": [
    {
     "data": {
      "text/plain": [
       "usa       245\n",
       "japan      79\n",
       "europe     68\n",
       "Name: origin, dtype: int64"
      ]
     },
     "execution_count": 36,
     "metadata": {},
     "output_type": "execute_result"
    }
   ],
   "source": [
    "data['origin'].value_counts()"
   ]
  },
  {
   "cell_type": "markdown",
   "metadata": {},
   "source": [
    "Fortunately, it looks like we have only three possible values for `origin`. We will use `scikit-learn`'s one-hot encoder to do the transformation. Check out Lecture 14 for a refresher on how this works."
   ]
  },
  {
   "cell_type": "code",
   "execution_count": 37,
   "metadata": {},
   "outputs": [
    {
     "data": {
      "text/html": [
       "<div>\n",
       "<style scoped>\n",
       "    .dataframe tbody tr th:only-of-type {\n",
       "        vertical-align: middle;\n",
       "    }\n",
       "\n",
       "    .dataframe tbody tr th {\n",
       "        vertical-align: top;\n",
       "    }\n",
       "\n",
       "    .dataframe thead th {\n",
       "        text-align: right;\n",
       "    }\n",
       "</style>\n",
       "<table border=\"1\" class=\"dataframe\">\n",
       "  <thead>\n",
       "    <tr style=\"text-align: right;\">\n",
       "      <th></th>\n",
       "      <th>cylinders</th>\n",
       "      <th>displacement</th>\n",
       "      <th>horsepower</th>\n",
       "      <th>weight</th>\n",
       "      <th>acceleration</th>\n",
       "      <th>model_year</th>\n",
       "      <th>displacement/cylinder</th>\n",
       "      <th>x0_europe</th>\n",
       "      <th>x0_japan</th>\n",
       "      <th>x0_usa</th>\n",
       "    </tr>\n",
       "  </thead>\n",
       "  <tbody>\n",
       "    <tr>\n",
       "      <th>6</th>\n",
       "      <td>8</td>\n",
       "      <td>454.0</td>\n",
       "      <td>220.0</td>\n",
       "      <td>4354</td>\n",
       "      <td>9.0</td>\n",
       "      <td>70</td>\n",
       "      <td>56.750000</td>\n",
       "      <td>0.0</td>\n",
       "      <td>0.0</td>\n",
       "      <td>1.0</td>\n",
       "    </tr>\n",
       "    <tr>\n",
       "      <th>352</th>\n",
       "      <td>4</td>\n",
       "      <td>98.0</td>\n",
       "      <td>65.0</td>\n",
       "      <td>2380</td>\n",
       "      <td>20.7</td>\n",
       "      <td>81</td>\n",
       "      <td>24.500000</td>\n",
       "      <td>0.0</td>\n",
       "      <td>0.0</td>\n",
       "      <td>1.0</td>\n",
       "    </tr>\n",
       "    <tr>\n",
       "      <th>47</th>\n",
       "      <td>6</td>\n",
       "      <td>250.0</td>\n",
       "      <td>100.0</td>\n",
       "      <td>3282</td>\n",
       "      <td>15.0</td>\n",
       "      <td>71</td>\n",
       "      <td>41.666667</td>\n",
       "      <td>0.0</td>\n",
       "      <td>0.0</td>\n",
       "      <td>1.0</td>\n",
       "    </tr>\n",
       "    <tr>\n",
       "      <th>39</th>\n",
       "      <td>8</td>\n",
       "      <td>400.0</td>\n",
       "      <td>175.0</td>\n",
       "      <td>4464</td>\n",
       "      <td>11.5</td>\n",
       "      <td>71</td>\n",
       "      <td>50.000000</td>\n",
       "      <td>0.0</td>\n",
       "      <td>0.0</td>\n",
       "      <td>1.0</td>\n",
       "    </tr>\n",
       "    <tr>\n",
       "      <th>304</th>\n",
       "      <td>4</td>\n",
       "      <td>91.0</td>\n",
       "      <td>69.0</td>\n",
       "      <td>2130</td>\n",
       "      <td>14.7</td>\n",
       "      <td>79</td>\n",
       "      <td>22.750000</td>\n",
       "      <td>1.0</td>\n",
       "      <td>0.0</td>\n",
       "      <td>0.0</td>\n",
       "    </tr>\n",
       "    <tr>\n",
       "      <th>...</th>\n",
       "      <td>...</td>\n",
       "      <td>...</td>\n",
       "      <td>...</td>\n",
       "      <td>...</td>\n",
       "      <td>...</td>\n",
       "      <td>...</td>\n",
       "      <td>...</td>\n",
       "      <td>...</td>\n",
       "      <td>...</td>\n",
       "      <td>...</td>\n",
       "    </tr>\n",
       "    <tr>\n",
       "      <th>394</th>\n",
       "      <td>4</td>\n",
       "      <td>97.0</td>\n",
       "      <td>52.0</td>\n",
       "      <td>2130</td>\n",
       "      <td>24.6</td>\n",
       "      <td>82</td>\n",
       "      <td>24.250000</td>\n",
       "      <td>1.0</td>\n",
       "      <td>0.0</td>\n",
       "      <td>0.0</td>\n",
       "    </tr>\n",
       "    <tr>\n",
       "      <th>258</th>\n",
       "      <td>6</td>\n",
       "      <td>231.0</td>\n",
       "      <td>105.0</td>\n",
       "      <td>3380</td>\n",
       "      <td>15.8</td>\n",
       "      <td>78</td>\n",
       "      <td>38.500000</td>\n",
       "      <td>0.0</td>\n",
       "      <td>0.0</td>\n",
       "      <td>1.0</td>\n",
       "    </tr>\n",
       "    <tr>\n",
       "      <th>297</th>\n",
       "      <td>5</td>\n",
       "      <td>183.0</td>\n",
       "      <td>77.0</td>\n",
       "      <td>3530</td>\n",
       "      <td>20.1</td>\n",
       "      <td>79</td>\n",
       "      <td>36.600000</td>\n",
       "      <td>1.0</td>\n",
       "      <td>0.0</td>\n",
       "      <td>0.0</td>\n",
       "    </tr>\n",
       "    <tr>\n",
       "      <th>23</th>\n",
       "      <td>4</td>\n",
       "      <td>121.0</td>\n",
       "      <td>113.0</td>\n",
       "      <td>2234</td>\n",
       "      <td>12.5</td>\n",
       "      <td>70</td>\n",
       "      <td>30.250000</td>\n",
       "      <td>1.0</td>\n",
       "      <td>0.0</td>\n",
       "      <td>0.0</td>\n",
       "    </tr>\n",
       "    <tr>\n",
       "      <th>83</th>\n",
       "      <td>4</td>\n",
       "      <td>98.0</td>\n",
       "      <td>80.0</td>\n",
       "      <td>2164</td>\n",
       "      <td>15.0</td>\n",
       "      <td>72</td>\n",
       "      <td>24.500000</td>\n",
       "      <td>0.0</td>\n",
       "      <td>0.0</td>\n",
       "      <td>1.0</td>\n",
       "    </tr>\n",
       "  </tbody>\n",
       "</table>\n",
       "<p>352 rows × 10 columns</p>\n",
       "</div>"
      ],
      "text/plain": [
       "     cylinders  displacement  horsepower  weight  acceleration  model_year  \\\n",
       "6            8         454.0       220.0    4354           9.0          70   \n",
       "352          4          98.0        65.0    2380          20.7          81   \n",
       "47           6         250.0       100.0    3282          15.0          71   \n",
       "39           8         400.0       175.0    4464          11.5          71   \n",
       "304          4          91.0        69.0    2130          14.7          79   \n",
       "..         ...           ...         ...     ...           ...         ...   \n",
       "394          4          97.0        52.0    2130          24.6          82   \n",
       "258          6         231.0       105.0    3380          15.8          78   \n",
       "297          5         183.0        77.0    3530          20.1          79   \n",
       "23           4         121.0       113.0    2234          12.5          70   \n",
       "83           4          98.0        80.0    2164          15.0          72   \n",
       "\n",
       "     displacement/cylinder  x0_europe  x0_japan  x0_usa  \n",
       "6                56.750000        0.0       0.0     1.0  \n",
       "352              24.500000        0.0       0.0     1.0  \n",
       "47               41.666667        0.0       0.0     1.0  \n",
       "39               50.000000        0.0       0.0     1.0  \n",
       "304              22.750000        1.0       0.0     0.0  \n",
       "..                     ...        ...       ...     ...  \n",
       "394              24.250000        1.0       0.0     0.0  \n",
       "258              38.500000        0.0       0.0     1.0  \n",
       "297              36.600000        1.0       0.0     0.0  \n",
       "23               30.250000        1.0       0.0     0.0  \n",
       "83               24.500000        0.0       0.0     1.0  \n",
       "\n",
       "[352 rows x 10 columns]"
      ]
     },
     "execution_count": 37,
     "metadata": {},
     "output_type": "execute_result"
    }
   ],
   "source": [
    "from sklearn.preprocessing import OneHotEncoder\n",
    "oh_enc = OneHotEncoder()\n",
    "oh_enc.fit(data[['origin']])\n",
    "\n",
    "def origin_design_matrix(df):\n",
    "    X = dispcyl_design_matrix(df)\n",
    "    ohe_cols = pd.DataFrame(oh_enc.transform(df[['origin']]).todense(), \n",
    "                           columns = oh_enc.get_feature_names(),\n",
    "                           index = df.index)\n",
    "    return X.join(ohe_cols)\n",
    "\n",
    "models['quant+dc+o'] = (origin_design_matrix, LinearRegression())\n",
    "\n",
    "origin_design_matrix(tr)"
   ]
  },
  {
   "cell_type": "code",
   "execution_count": 38,
   "metadata": {},
   "outputs": [
    {
     "data": {
      "application/vnd.plotly.v1+json": {
       "config": {
        "plotlyServerURL": "https://plot.ly"
       },
       "data": [
        {
         "name": "Training RMSE",
         "type": "bar",
         "x": [
          "quant",
          "quant+dc",
          "quant+dc+o"
         ],
         "y": [
          3.3745826999424575,
          3.0333093446259114,
          3.012941172853171
         ]
        },
        {
         "name": "CV RMSE",
         "type": "bar",
         "x": [
          "quant",
          "quant+dc",
          "quant+dc+o"
         ],
         "y": [
          3.455901515616253,
          3.1113159765045713,
          3.1207285180151887
         ]
        }
       ],
       "layout": {
        "template": {
         "data": {
          "bar": [
           {
            "error_x": {
             "color": "#2a3f5f"
            },
            "error_y": {
             "color": "#2a3f5f"
            },
            "marker": {
             "line": {
              "color": "#E5ECF6",
              "width": 0.5
             },
             "pattern": {
              "fillmode": "overlay",
              "size": 10,
              "solidity": 0.2
             }
            },
            "type": "bar"
           }
          ],
          "barpolar": [
           {
            "marker": {
             "line": {
              "color": "#E5ECF6",
              "width": 0.5
             },
             "pattern": {
              "fillmode": "overlay",
              "size": 10,
              "solidity": 0.2
             }
            },
            "type": "barpolar"
           }
          ],
          "carpet": [
           {
            "aaxis": {
             "endlinecolor": "#2a3f5f",
             "gridcolor": "white",
             "linecolor": "white",
             "minorgridcolor": "white",
             "startlinecolor": "#2a3f5f"
            },
            "baxis": {
             "endlinecolor": "#2a3f5f",
             "gridcolor": "white",
             "linecolor": "white",
             "minorgridcolor": "white",
             "startlinecolor": "#2a3f5f"
            },
            "type": "carpet"
           }
          ],
          "choropleth": [
           {
            "colorbar": {
             "outlinewidth": 0,
             "ticks": ""
            },
            "type": "choropleth"
           }
          ],
          "contour": [
           {
            "colorbar": {
             "outlinewidth": 0,
             "ticks": ""
            },
            "colorscale": [
             [
              0,
              "#0d0887"
             ],
             [
              0.1111111111111111,
              "#46039f"
             ],
             [
              0.2222222222222222,
              "#7201a8"
             ],
             [
              0.3333333333333333,
              "#9c179e"
             ],
             [
              0.4444444444444444,
              "#bd3786"
             ],
             [
              0.5555555555555556,
              "#d8576b"
             ],
             [
              0.6666666666666666,
              "#ed7953"
             ],
             [
              0.7777777777777778,
              "#fb9f3a"
             ],
             [
              0.8888888888888888,
              "#fdca26"
             ],
             [
              1,
              "#f0f921"
             ]
            ],
            "type": "contour"
           }
          ],
          "contourcarpet": [
           {
            "colorbar": {
             "outlinewidth": 0,
             "ticks": ""
            },
            "type": "contourcarpet"
           }
          ],
          "heatmap": [
           {
            "colorbar": {
             "outlinewidth": 0,
             "ticks": ""
            },
            "colorscale": [
             [
              0,
              "#0d0887"
             ],
             [
              0.1111111111111111,
              "#46039f"
             ],
             [
              0.2222222222222222,
              "#7201a8"
             ],
             [
              0.3333333333333333,
              "#9c179e"
             ],
             [
              0.4444444444444444,
              "#bd3786"
             ],
             [
              0.5555555555555556,
              "#d8576b"
             ],
             [
              0.6666666666666666,
              "#ed7953"
             ],
             [
              0.7777777777777778,
              "#fb9f3a"
             ],
             [
              0.8888888888888888,
              "#fdca26"
             ],
             [
              1,
              "#f0f921"
             ]
            ],
            "type": "heatmap"
           }
          ],
          "heatmapgl": [
           {
            "colorbar": {
             "outlinewidth": 0,
             "ticks": ""
            },
            "colorscale": [
             [
              0,
              "#0d0887"
             ],
             [
              0.1111111111111111,
              "#46039f"
             ],
             [
              0.2222222222222222,
              "#7201a8"
             ],
             [
              0.3333333333333333,
              "#9c179e"
             ],
             [
              0.4444444444444444,
              "#bd3786"
             ],
             [
              0.5555555555555556,
              "#d8576b"
             ],
             [
              0.6666666666666666,
              "#ed7953"
             ],
             [
              0.7777777777777778,
              "#fb9f3a"
             ],
             [
              0.8888888888888888,
              "#fdca26"
             ],
             [
              1,
              "#f0f921"
             ]
            ],
            "type": "heatmapgl"
           }
          ],
          "histogram": [
           {
            "marker": {
             "pattern": {
              "fillmode": "overlay",
              "size": 10,
              "solidity": 0.2
             }
            },
            "type": "histogram"
           }
          ],
          "histogram2d": [
           {
            "colorbar": {
             "outlinewidth": 0,
             "ticks": ""
            },
            "colorscale": [
             [
              0,
              "#0d0887"
             ],
             [
              0.1111111111111111,
              "#46039f"
             ],
             [
              0.2222222222222222,
              "#7201a8"
             ],
             [
              0.3333333333333333,
              "#9c179e"
             ],
             [
              0.4444444444444444,
              "#bd3786"
             ],
             [
              0.5555555555555556,
              "#d8576b"
             ],
             [
              0.6666666666666666,
              "#ed7953"
             ],
             [
              0.7777777777777778,
              "#fb9f3a"
             ],
             [
              0.8888888888888888,
              "#fdca26"
             ],
             [
              1,
              "#f0f921"
             ]
            ],
            "type": "histogram2d"
           }
          ],
          "histogram2dcontour": [
           {
            "colorbar": {
             "outlinewidth": 0,
             "ticks": ""
            },
            "colorscale": [
             [
              0,
              "#0d0887"
             ],
             [
              0.1111111111111111,
              "#46039f"
             ],
             [
              0.2222222222222222,
              "#7201a8"
             ],
             [
              0.3333333333333333,
              "#9c179e"
             ],
             [
              0.4444444444444444,
              "#bd3786"
             ],
             [
              0.5555555555555556,
              "#d8576b"
             ],
             [
              0.6666666666666666,
              "#ed7953"
             ],
             [
              0.7777777777777778,
              "#fb9f3a"
             ],
             [
              0.8888888888888888,
              "#fdca26"
             ],
             [
              1,
              "#f0f921"
             ]
            ],
            "type": "histogram2dcontour"
           }
          ],
          "mesh3d": [
           {
            "colorbar": {
             "outlinewidth": 0,
             "ticks": ""
            },
            "type": "mesh3d"
           }
          ],
          "parcoords": [
           {
            "line": {
             "colorbar": {
              "outlinewidth": 0,
              "ticks": ""
             }
            },
            "type": "parcoords"
           }
          ],
          "pie": [
           {
            "automargin": true,
            "type": "pie"
           }
          ],
          "scatter": [
           {
            "marker": {
             "colorbar": {
              "outlinewidth": 0,
              "ticks": ""
             }
            },
            "type": "scatter"
           }
          ],
          "scatter3d": [
           {
            "line": {
             "colorbar": {
              "outlinewidth": 0,
              "ticks": ""
             }
            },
            "marker": {
             "colorbar": {
              "outlinewidth": 0,
              "ticks": ""
             }
            },
            "type": "scatter3d"
           }
          ],
          "scattercarpet": [
           {
            "marker": {
             "colorbar": {
              "outlinewidth": 0,
              "ticks": ""
             }
            },
            "type": "scattercarpet"
           }
          ],
          "scattergeo": [
           {
            "marker": {
             "colorbar": {
              "outlinewidth": 0,
              "ticks": ""
             }
            },
            "type": "scattergeo"
           }
          ],
          "scattergl": [
           {
            "marker": {
             "colorbar": {
              "outlinewidth": 0,
              "ticks": ""
             }
            },
            "type": "scattergl"
           }
          ],
          "scattermapbox": [
           {
            "marker": {
             "colorbar": {
              "outlinewidth": 0,
              "ticks": ""
             }
            },
            "type": "scattermapbox"
           }
          ],
          "scatterpolar": [
           {
            "marker": {
             "colorbar": {
              "outlinewidth": 0,
              "ticks": ""
             }
            },
            "type": "scatterpolar"
           }
          ],
          "scatterpolargl": [
           {
            "marker": {
             "colorbar": {
              "outlinewidth": 0,
              "ticks": ""
             }
            },
            "type": "scatterpolargl"
           }
          ],
          "scatterternary": [
           {
            "marker": {
             "colorbar": {
              "outlinewidth": 0,
              "ticks": ""
             }
            },
            "type": "scatterternary"
           }
          ],
          "surface": [
           {
            "colorbar": {
             "outlinewidth": 0,
             "ticks": ""
            },
            "colorscale": [
             [
              0,
              "#0d0887"
             ],
             [
              0.1111111111111111,
              "#46039f"
             ],
             [
              0.2222222222222222,
              "#7201a8"
             ],
             [
              0.3333333333333333,
              "#9c179e"
             ],
             [
              0.4444444444444444,
              "#bd3786"
             ],
             [
              0.5555555555555556,
              "#d8576b"
             ],
             [
              0.6666666666666666,
              "#ed7953"
             ],
             [
              0.7777777777777778,
              "#fb9f3a"
             ],
             [
              0.8888888888888888,
              "#fdca26"
             ],
             [
              1,
              "#f0f921"
             ]
            ],
            "type": "surface"
           }
          ],
          "table": [
           {
            "cells": {
             "fill": {
              "color": "#EBF0F8"
             },
             "line": {
              "color": "white"
             }
            },
            "header": {
             "fill": {
              "color": "#C8D4E3"
             },
             "line": {
              "color": "white"
             }
            },
            "type": "table"
           }
          ]
         },
         "layout": {
          "annotationdefaults": {
           "arrowcolor": "#2a3f5f",
           "arrowhead": 0,
           "arrowwidth": 1
          },
          "autotypenumbers": "strict",
          "coloraxis": {
           "colorbar": {
            "outlinewidth": 0,
            "ticks": ""
           }
          },
          "colorscale": {
           "diverging": [
            [
             0,
             "#8e0152"
            ],
            [
             0.1,
             "#c51b7d"
            ],
            [
             0.2,
             "#de77ae"
            ],
            [
             0.3,
             "#f1b6da"
            ],
            [
             0.4,
             "#fde0ef"
            ],
            [
             0.5,
             "#f7f7f7"
            ],
            [
             0.6,
             "#e6f5d0"
            ],
            [
             0.7,
             "#b8e186"
            ],
            [
             0.8,
             "#7fbc41"
            ],
            [
             0.9,
             "#4d9221"
            ],
            [
             1,
             "#276419"
            ]
           ],
           "sequential": [
            [
             0,
             "#0d0887"
            ],
            [
             0.1111111111111111,
             "#46039f"
            ],
            [
             0.2222222222222222,
             "#7201a8"
            ],
            [
             0.3333333333333333,
             "#9c179e"
            ],
            [
             0.4444444444444444,
             "#bd3786"
            ],
            [
             0.5555555555555556,
             "#d8576b"
            ],
            [
             0.6666666666666666,
             "#ed7953"
            ],
            [
             0.7777777777777778,
             "#fb9f3a"
            ],
            [
             0.8888888888888888,
             "#fdca26"
            ],
            [
             1,
             "#f0f921"
            ]
           ],
           "sequentialminus": [
            [
             0,
             "#0d0887"
            ],
            [
             0.1111111111111111,
             "#46039f"
            ],
            [
             0.2222222222222222,
             "#7201a8"
            ],
            [
             0.3333333333333333,
             "#9c179e"
            ],
            [
             0.4444444444444444,
             "#bd3786"
            ],
            [
             0.5555555555555556,
             "#d8576b"
            ],
            [
             0.6666666666666666,
             "#ed7953"
            ],
            [
             0.7777777777777778,
             "#fb9f3a"
            ],
            [
             0.8888888888888888,
             "#fdca26"
            ],
            [
             1,
             "#f0f921"
            ]
           ]
          },
          "colorway": [
           "#636efa",
           "#EF553B",
           "#00cc96",
           "#ab63fa",
           "#FFA15A",
           "#19d3f3",
           "#FF6692",
           "#B6E880",
           "#FF97FF",
           "#FECB52"
          ],
          "font": {
           "color": "#2a3f5f"
          },
          "geo": {
           "bgcolor": "white",
           "lakecolor": "white",
           "landcolor": "#E5ECF6",
           "showlakes": true,
           "showland": true,
           "subunitcolor": "white"
          },
          "hoverlabel": {
           "align": "left"
          },
          "hovermode": "closest",
          "mapbox": {
           "style": "light"
          },
          "paper_bgcolor": "white",
          "plot_bgcolor": "#E5ECF6",
          "polar": {
           "angularaxis": {
            "gridcolor": "white",
            "linecolor": "white",
            "ticks": ""
           },
           "bgcolor": "#E5ECF6",
           "radialaxis": {
            "gridcolor": "white",
            "linecolor": "white",
            "ticks": ""
           }
          },
          "scene": {
           "xaxis": {
            "backgroundcolor": "#E5ECF6",
            "gridcolor": "white",
            "gridwidth": 2,
            "linecolor": "white",
            "showbackground": true,
            "ticks": "",
            "zerolinecolor": "white"
           },
           "yaxis": {
            "backgroundcolor": "#E5ECF6",
            "gridcolor": "white",
            "gridwidth": 2,
            "linecolor": "white",
            "showbackground": true,
            "ticks": "",
            "zerolinecolor": "white"
           },
           "zaxis": {
            "backgroundcolor": "#E5ECF6",
            "gridcolor": "white",
            "gridwidth": 2,
            "linecolor": "white",
            "showbackground": true,
            "ticks": "",
            "zerolinecolor": "white"
           }
          },
          "shapedefaults": {
           "line": {
            "color": "#2a3f5f"
           }
          },
          "ternary": {
           "aaxis": {
            "gridcolor": "white",
            "linecolor": "white",
            "ticks": ""
           },
           "baxis": {
            "gridcolor": "white",
            "linecolor": "white",
            "ticks": ""
           },
           "bgcolor": "#E5ECF6",
           "caxis": {
            "gridcolor": "white",
            "linecolor": "white",
            "ticks": ""
           }
          },
          "title": {
           "x": 0.05
          },
          "xaxis": {
           "automargin": true,
           "gridcolor": "white",
           "linecolor": "white",
           "ticks": "",
           "title": {
            "standoff": 15
           },
           "zerolinecolor": "white",
           "zerolinewidth": 2
          },
          "yaxis": {
           "automargin": true,
           "gridcolor": "white",
           "linecolor": "white",
           "ticks": "",
           "title": {
            "standoff": 15
           },
           "zerolinecolor": "white",
           "zerolinewidth": 2
          }
         }
        },
        "yaxis": {
         "range": [
          0,
          4
         ],
         "title": {
          "text": "RMSE"
         }
        }
       }
      },
      "text/html": [
       "<div>                            <div id=\"b4c8c323-30d0-4519-b2b6-2df10d4606c7\" class=\"plotly-graph-div\" style=\"height:525px; width:100%;\"></div>            <script type=\"text/javascript\">                require([\"plotly\"], function(Plotly) {                    window.PLOTLYENV=window.PLOTLYENV || {};                                    if (document.getElementById(\"b4c8c323-30d0-4519-b2b6-2df10d4606c7\")) {                    Plotly.newPlot(                        \"b4c8c323-30d0-4519-b2b6-2df10d4606c7\",                        [{\"name\":\"Training RMSE\",\"type\":\"bar\",\"x\":[\"quant\",\"quant+dc\",\"quant+dc+o\"],\"y\":[3.3745826999424575,3.0333093446259114,3.012941172853171]},{\"name\":\"CV RMSE\",\"type\":\"bar\",\"x\":[\"quant\",\"quant+dc\",\"quant+dc+o\"],\"y\":[3.455901515616253,3.1113159765045713,3.1207285180151887]}],                        {\"template\":{\"data\":{\"bar\":[{\"error_x\":{\"color\":\"#2a3f5f\"},\"error_y\":{\"color\":\"#2a3f5f\"},\"marker\":{\"line\":{\"color\":\"#E5ECF6\",\"width\":0.5},\"pattern\":{\"fillmode\":\"overlay\",\"size\":10,\"solidity\":0.2}},\"type\":\"bar\"}],\"barpolar\":[{\"marker\":{\"line\":{\"color\":\"#E5ECF6\",\"width\":0.5},\"pattern\":{\"fillmode\":\"overlay\",\"size\":10,\"solidity\":0.2}},\"type\":\"barpolar\"}],\"carpet\":[{\"aaxis\":{\"endlinecolor\":\"#2a3f5f\",\"gridcolor\":\"white\",\"linecolor\":\"white\",\"minorgridcolor\":\"white\",\"startlinecolor\":\"#2a3f5f\"},\"baxis\":{\"endlinecolor\":\"#2a3f5f\",\"gridcolor\":\"white\",\"linecolor\":\"white\",\"minorgridcolor\":\"white\",\"startlinecolor\":\"#2a3f5f\"},\"type\":\"carpet\"}],\"choropleth\":[{\"colorbar\":{\"outlinewidth\":0,\"ticks\":\"\"},\"type\":\"choropleth\"}],\"contour\":[{\"colorbar\":{\"outlinewidth\":0,\"ticks\":\"\"},\"colorscale\":[[0.0,\"#0d0887\"],[0.1111111111111111,\"#46039f\"],[0.2222222222222222,\"#7201a8\"],[0.3333333333333333,\"#9c179e\"],[0.4444444444444444,\"#bd3786\"],[0.5555555555555556,\"#d8576b\"],[0.6666666666666666,\"#ed7953\"],[0.7777777777777778,\"#fb9f3a\"],[0.8888888888888888,\"#fdca26\"],[1.0,\"#f0f921\"]],\"type\":\"contour\"}],\"contourcarpet\":[{\"colorbar\":{\"outlinewidth\":0,\"ticks\":\"\"},\"type\":\"contourcarpet\"}],\"heatmap\":[{\"colorbar\":{\"outlinewidth\":0,\"ticks\":\"\"},\"colorscale\":[[0.0,\"#0d0887\"],[0.1111111111111111,\"#46039f\"],[0.2222222222222222,\"#7201a8\"],[0.3333333333333333,\"#9c179e\"],[0.4444444444444444,\"#bd3786\"],[0.5555555555555556,\"#d8576b\"],[0.6666666666666666,\"#ed7953\"],[0.7777777777777778,\"#fb9f3a\"],[0.8888888888888888,\"#fdca26\"],[1.0,\"#f0f921\"]],\"type\":\"heatmap\"}],\"heatmapgl\":[{\"colorbar\":{\"outlinewidth\":0,\"ticks\":\"\"},\"colorscale\":[[0.0,\"#0d0887\"],[0.1111111111111111,\"#46039f\"],[0.2222222222222222,\"#7201a8\"],[0.3333333333333333,\"#9c179e\"],[0.4444444444444444,\"#bd3786\"],[0.5555555555555556,\"#d8576b\"],[0.6666666666666666,\"#ed7953\"],[0.7777777777777778,\"#fb9f3a\"],[0.8888888888888888,\"#fdca26\"],[1.0,\"#f0f921\"]],\"type\":\"heatmapgl\"}],\"histogram\":[{\"marker\":{\"pattern\":{\"fillmode\":\"overlay\",\"size\":10,\"solidity\":0.2}},\"type\":\"histogram\"}],\"histogram2d\":[{\"colorbar\":{\"outlinewidth\":0,\"ticks\":\"\"},\"colorscale\":[[0.0,\"#0d0887\"],[0.1111111111111111,\"#46039f\"],[0.2222222222222222,\"#7201a8\"],[0.3333333333333333,\"#9c179e\"],[0.4444444444444444,\"#bd3786\"],[0.5555555555555556,\"#d8576b\"],[0.6666666666666666,\"#ed7953\"],[0.7777777777777778,\"#fb9f3a\"],[0.8888888888888888,\"#fdca26\"],[1.0,\"#f0f921\"]],\"type\":\"histogram2d\"}],\"histogram2dcontour\":[{\"colorbar\":{\"outlinewidth\":0,\"ticks\":\"\"},\"colorscale\":[[0.0,\"#0d0887\"],[0.1111111111111111,\"#46039f\"],[0.2222222222222222,\"#7201a8\"],[0.3333333333333333,\"#9c179e\"],[0.4444444444444444,\"#bd3786\"],[0.5555555555555556,\"#d8576b\"],[0.6666666666666666,\"#ed7953\"],[0.7777777777777778,\"#fb9f3a\"],[0.8888888888888888,\"#fdca26\"],[1.0,\"#f0f921\"]],\"type\":\"histogram2dcontour\"}],\"mesh3d\":[{\"colorbar\":{\"outlinewidth\":0,\"ticks\":\"\"},\"type\":\"mesh3d\"}],\"parcoords\":[{\"line\":{\"colorbar\":{\"outlinewidth\":0,\"ticks\":\"\"}},\"type\":\"parcoords\"}],\"pie\":[{\"automargin\":true,\"type\":\"pie\"}],\"scatter\":[{\"marker\":{\"colorbar\":{\"outlinewidth\":0,\"ticks\":\"\"}},\"type\":\"scatter\"}],\"scatter3d\":[{\"line\":{\"colorbar\":{\"outlinewidth\":0,\"ticks\":\"\"}},\"marker\":{\"colorbar\":{\"outlinewidth\":0,\"ticks\":\"\"}},\"type\":\"scatter3d\"}],\"scattercarpet\":[{\"marker\":{\"colorbar\":{\"outlinewidth\":0,\"ticks\":\"\"}},\"type\":\"scattercarpet\"}],\"scattergeo\":[{\"marker\":{\"colorbar\":{\"outlinewidth\":0,\"ticks\":\"\"}},\"type\":\"scattergeo\"}],\"scattergl\":[{\"marker\":{\"colorbar\":{\"outlinewidth\":0,\"ticks\":\"\"}},\"type\":\"scattergl\"}],\"scattermapbox\":[{\"marker\":{\"colorbar\":{\"outlinewidth\":0,\"ticks\":\"\"}},\"type\":\"scattermapbox\"}],\"scatterpolar\":[{\"marker\":{\"colorbar\":{\"outlinewidth\":0,\"ticks\":\"\"}},\"type\":\"scatterpolar\"}],\"scatterpolargl\":[{\"marker\":{\"colorbar\":{\"outlinewidth\":0,\"ticks\":\"\"}},\"type\":\"scatterpolargl\"}],\"scatterternary\":[{\"marker\":{\"colorbar\":{\"outlinewidth\":0,\"ticks\":\"\"}},\"type\":\"scatterternary\"}],\"surface\":[{\"colorbar\":{\"outlinewidth\":0,\"ticks\":\"\"},\"colorscale\":[[0.0,\"#0d0887\"],[0.1111111111111111,\"#46039f\"],[0.2222222222222222,\"#7201a8\"],[0.3333333333333333,\"#9c179e\"],[0.4444444444444444,\"#bd3786\"],[0.5555555555555556,\"#d8576b\"],[0.6666666666666666,\"#ed7953\"],[0.7777777777777778,\"#fb9f3a\"],[0.8888888888888888,\"#fdca26\"],[1.0,\"#f0f921\"]],\"type\":\"surface\"}],\"table\":[{\"cells\":{\"fill\":{\"color\":\"#EBF0F8\"},\"line\":{\"color\":\"white\"}},\"header\":{\"fill\":{\"color\":\"#C8D4E3\"},\"line\":{\"color\":\"white\"}},\"type\":\"table\"}]},\"layout\":{\"annotationdefaults\":{\"arrowcolor\":\"#2a3f5f\",\"arrowhead\":0,\"arrowwidth\":1},\"autotypenumbers\":\"strict\",\"coloraxis\":{\"colorbar\":{\"outlinewidth\":0,\"ticks\":\"\"}},\"colorscale\":{\"diverging\":[[0,\"#8e0152\"],[0.1,\"#c51b7d\"],[0.2,\"#de77ae\"],[0.3,\"#f1b6da\"],[0.4,\"#fde0ef\"],[0.5,\"#f7f7f7\"],[0.6,\"#e6f5d0\"],[0.7,\"#b8e186\"],[0.8,\"#7fbc41\"],[0.9,\"#4d9221\"],[1,\"#276419\"]],\"sequential\":[[0.0,\"#0d0887\"],[0.1111111111111111,\"#46039f\"],[0.2222222222222222,\"#7201a8\"],[0.3333333333333333,\"#9c179e\"],[0.4444444444444444,\"#bd3786\"],[0.5555555555555556,\"#d8576b\"],[0.6666666666666666,\"#ed7953\"],[0.7777777777777778,\"#fb9f3a\"],[0.8888888888888888,\"#fdca26\"],[1.0,\"#f0f921\"]],\"sequentialminus\":[[0.0,\"#0d0887\"],[0.1111111111111111,\"#46039f\"],[0.2222222222222222,\"#7201a8\"],[0.3333333333333333,\"#9c179e\"],[0.4444444444444444,\"#bd3786\"],[0.5555555555555556,\"#d8576b\"],[0.6666666666666666,\"#ed7953\"],[0.7777777777777778,\"#fb9f3a\"],[0.8888888888888888,\"#fdca26\"],[1.0,\"#f0f921\"]]},\"colorway\":[\"#636efa\",\"#EF553B\",\"#00cc96\",\"#ab63fa\",\"#FFA15A\",\"#19d3f3\",\"#FF6692\",\"#B6E880\",\"#FF97FF\",\"#FECB52\"],\"font\":{\"color\":\"#2a3f5f\"},\"geo\":{\"bgcolor\":\"white\",\"lakecolor\":\"white\",\"landcolor\":\"#E5ECF6\",\"showlakes\":true,\"showland\":true,\"subunitcolor\":\"white\"},\"hoverlabel\":{\"align\":\"left\"},\"hovermode\":\"closest\",\"mapbox\":{\"style\":\"light\"},\"paper_bgcolor\":\"white\",\"plot_bgcolor\":\"#E5ECF6\",\"polar\":{\"angularaxis\":{\"gridcolor\":\"white\",\"linecolor\":\"white\",\"ticks\":\"\"},\"bgcolor\":\"#E5ECF6\",\"radialaxis\":{\"gridcolor\":\"white\",\"linecolor\":\"white\",\"ticks\":\"\"}},\"scene\":{\"xaxis\":{\"backgroundcolor\":\"#E5ECF6\",\"gridcolor\":\"white\",\"gridwidth\":2,\"linecolor\":\"white\",\"showbackground\":true,\"ticks\":\"\",\"zerolinecolor\":\"white\"},\"yaxis\":{\"backgroundcolor\":\"#E5ECF6\",\"gridcolor\":\"white\",\"gridwidth\":2,\"linecolor\":\"white\",\"showbackground\":true,\"ticks\":\"\",\"zerolinecolor\":\"white\"},\"zaxis\":{\"backgroundcolor\":\"#E5ECF6\",\"gridcolor\":\"white\",\"gridwidth\":2,\"linecolor\":\"white\",\"showbackground\":true,\"ticks\":\"\",\"zerolinecolor\":\"white\"}},\"shapedefaults\":{\"line\":{\"color\":\"#2a3f5f\"}},\"ternary\":{\"aaxis\":{\"gridcolor\":\"white\",\"linecolor\":\"white\",\"ticks\":\"\"},\"baxis\":{\"gridcolor\":\"white\",\"linecolor\":\"white\",\"ticks\":\"\"},\"bgcolor\":\"#E5ECF6\",\"caxis\":{\"gridcolor\":\"white\",\"linecolor\":\"white\",\"ticks\":\"\"}},\"title\":{\"x\":0.05},\"xaxis\":{\"automargin\":true,\"gridcolor\":\"white\",\"linecolor\":\"white\",\"ticks\":\"\",\"title\":{\"standoff\":15},\"zerolinecolor\":\"white\",\"zerolinewidth\":2},\"yaxis\":{\"automargin\":true,\"gridcolor\":\"white\",\"linecolor\":\"white\",\"ticks\":\"\",\"title\":{\"standoff\":15},\"zerolinecolor\":\"white\",\"zerolinewidth\":2}}},\"yaxis\":{\"range\":[0,4],\"title\":{\"text\":\"RMSE\"}}},                        {\"responsive\": true}                    ).then(function(){\n",
       "                            \n",
       "var gd = document.getElementById('b4c8c323-30d0-4519-b2b6-2df10d4606c7');\n",
       "var x = new MutationObserver(function (mutations, observer) {{\n",
       "        var display = window.getComputedStyle(gd).display;\n",
       "        if (!display || display === 'none') {{\n",
       "            console.log([gd, 'removed!']);\n",
       "            Plotly.purge(gd);\n",
       "            observer.disconnect();\n",
       "        }}\n",
       "}});\n",
       "\n",
       "// Listen for the removal of the full notebook cells\n",
       "var notebookContainer = gd.closest('#notebook-container');\n",
       "if (notebookContainer) {{\n",
       "    x.observe(notebookContainer, {childList: true});\n",
       "}}\n",
       "\n",
       "// Listen for the clearing of the current output cell\n",
       "var outputEl = gd.closest('.output');\n",
       "if (outputEl) {{\n",
       "    x.observe(outputEl, {childList: true});\n",
       "}}\n",
       "\n",
       "                        })                };                });            </script>        </div>"
      ]
     },
     "metadata": {},
     "output_type": "display_data"
    }
   ],
   "source": [
    "fig = compare_models(models)\n",
    "fig.update_yaxes(range = [0, 4], title = \"RMSE\")"
   ]
  },
  {
   "cell_type": "markdown",
   "metadata": {},
   "source": [
    "It looks like adding these new features about origin didn't really affect our model."
   ]
  },
  {
   "cell_type": "markdown",
   "metadata": {},
   "source": [
    "Let's try if we can gain any information from the `name` column. This column contains the make and model of each car. The models are fairly unique, so let's try to extract information about the brand (e.g. `ford`). The following cell shows the top 20 words that appear in this column."
   ]
  },
  {
   "cell_type": "code",
   "execution_count": 39,
   "metadata": {},
   "outputs": [
    {
     "data": {
      "text/plain": [
       "ford          44\n",
       "chevrolet     37\n",
       "plymouth      28\n",
       "(sw)          27\n",
       "amc           26\n",
       "dodge         26\n",
       "toyota        22\n",
       "datsun        17\n",
       "custom        17\n",
       "buick         16\n",
       "volkswagen    14\n",
       "pontiac       14\n",
       "rabbit        10\n",
       "brougham      10\n",
       "honda         10\n",
       "oldsmobile    10\n",
       "mercury       10\n",
       "mazda          9\n",
       "corolla        9\n",
       "torino         7\n",
       "Name: name, dtype: int64"
      ]
     },
     "execution_count": 39,
     "metadata": {},
     "output_type": "execute_result"
    }
   ],
   "source": [
    "tr['name'].str.split().explode().value_counts().head(20)"
   ]
  },
  {
   "cell_type": "markdown",
   "metadata": {},
   "source": [
    "It looks like there is at least one model here (`corolla`), but it does show the most common brands. We will add one column for each of these strings, with a `1` for a specific car indicating that the name of the car contains the string.\n",
    "\n",
    "Note: In practice, you would use `scikit-learn` or some other package, but we will do this manually just to be explicit about what we're doing."
   ]
  },
  {
   "cell_type": "code",
   "execution_count": 40,
   "metadata": {},
   "outputs": [
    {
     "data": {
      "text/html": [
       "<div>\n",
       "<style scoped>\n",
       "    .dataframe tbody tr th:only-of-type {\n",
       "        vertical-align: middle;\n",
       "    }\n",
       "\n",
       "    .dataframe tbody tr th {\n",
       "        vertical-align: top;\n",
       "    }\n",
       "\n",
       "    .dataframe thead th {\n",
       "        text-align: right;\n",
       "    }\n",
       "</style>\n",
       "<table border=\"1\" class=\"dataframe\">\n",
       "  <thead>\n",
       "    <tr style=\"text-align: right;\">\n",
       "      <th></th>\n",
       "      <th>cylinders</th>\n",
       "      <th>displacement</th>\n",
       "      <th>horsepower</th>\n",
       "      <th>weight</th>\n",
       "      <th>acceleration</th>\n",
       "      <th>model_year</th>\n",
       "      <th>displacement/cylinder</th>\n",
       "      <th>x0_europe</th>\n",
       "      <th>x0_japan</th>\n",
       "      <th>x0_usa</th>\n",
       "      <th>...</th>\n",
       "      <th>volkswagen</th>\n",
       "      <th>pontiac</th>\n",
       "      <th>rabbit</th>\n",
       "      <th>brougham</th>\n",
       "      <th>honda</th>\n",
       "      <th>oldsmobile</th>\n",
       "      <th>mercury</th>\n",
       "      <th>mazda</th>\n",
       "      <th>corolla</th>\n",
       "      <th>torino</th>\n",
       "    </tr>\n",
       "  </thead>\n",
       "  <tbody>\n",
       "    <tr>\n",
       "      <th>6</th>\n",
       "      <td>8</td>\n",
       "      <td>454.0</td>\n",
       "      <td>220.0</td>\n",
       "      <td>4354</td>\n",
       "      <td>9.0</td>\n",
       "      <td>70</td>\n",
       "      <td>56.750000</td>\n",
       "      <td>0.0</td>\n",
       "      <td>0.0</td>\n",
       "      <td>1.0</td>\n",
       "      <td>...</td>\n",
       "      <td>0.0</td>\n",
       "      <td>0.0</td>\n",
       "      <td>0.0</td>\n",
       "      <td>0.0</td>\n",
       "      <td>0.0</td>\n",
       "      <td>0.0</td>\n",
       "      <td>0.0</td>\n",
       "      <td>0.0</td>\n",
       "      <td>0.0</td>\n",
       "      <td>0.0</td>\n",
       "    </tr>\n",
       "    <tr>\n",
       "      <th>352</th>\n",
       "      <td>4</td>\n",
       "      <td>98.0</td>\n",
       "      <td>65.0</td>\n",
       "      <td>2380</td>\n",
       "      <td>20.7</td>\n",
       "      <td>81</td>\n",
       "      <td>24.500000</td>\n",
       "      <td>0.0</td>\n",
       "      <td>0.0</td>\n",
       "      <td>1.0</td>\n",
       "      <td>...</td>\n",
       "      <td>0.0</td>\n",
       "      <td>0.0</td>\n",
       "      <td>0.0</td>\n",
       "      <td>0.0</td>\n",
       "      <td>0.0</td>\n",
       "      <td>0.0</td>\n",
       "      <td>0.0</td>\n",
       "      <td>0.0</td>\n",
       "      <td>0.0</td>\n",
       "      <td>0.0</td>\n",
       "    </tr>\n",
       "    <tr>\n",
       "      <th>47</th>\n",
       "      <td>6</td>\n",
       "      <td>250.0</td>\n",
       "      <td>100.0</td>\n",
       "      <td>3282</td>\n",
       "      <td>15.0</td>\n",
       "      <td>71</td>\n",
       "      <td>41.666667</td>\n",
       "      <td>0.0</td>\n",
       "      <td>0.0</td>\n",
       "      <td>1.0</td>\n",
       "      <td>...</td>\n",
       "      <td>0.0</td>\n",
       "      <td>1.0</td>\n",
       "      <td>0.0</td>\n",
       "      <td>0.0</td>\n",
       "      <td>0.0</td>\n",
       "      <td>0.0</td>\n",
       "      <td>0.0</td>\n",
       "      <td>0.0</td>\n",
       "      <td>0.0</td>\n",
       "      <td>0.0</td>\n",
       "    </tr>\n",
       "    <tr>\n",
       "      <th>39</th>\n",
       "      <td>8</td>\n",
       "      <td>400.0</td>\n",
       "      <td>175.0</td>\n",
       "      <td>4464</td>\n",
       "      <td>11.5</td>\n",
       "      <td>71</td>\n",
       "      <td>50.000000</td>\n",
       "      <td>0.0</td>\n",
       "      <td>0.0</td>\n",
       "      <td>1.0</td>\n",
       "      <td>...</td>\n",
       "      <td>0.0</td>\n",
       "      <td>1.0</td>\n",
       "      <td>0.0</td>\n",
       "      <td>1.0</td>\n",
       "      <td>0.0</td>\n",
       "      <td>0.0</td>\n",
       "      <td>0.0</td>\n",
       "      <td>0.0</td>\n",
       "      <td>0.0</td>\n",
       "      <td>0.0</td>\n",
       "    </tr>\n",
       "    <tr>\n",
       "      <th>304</th>\n",
       "      <td>4</td>\n",
       "      <td>91.0</td>\n",
       "      <td>69.0</td>\n",
       "      <td>2130</td>\n",
       "      <td>14.7</td>\n",
       "      <td>79</td>\n",
       "      <td>22.750000</td>\n",
       "      <td>1.0</td>\n",
       "      <td>0.0</td>\n",
       "      <td>0.0</td>\n",
       "      <td>...</td>\n",
       "      <td>0.0</td>\n",
       "      <td>0.0</td>\n",
       "      <td>0.0</td>\n",
       "      <td>0.0</td>\n",
       "      <td>0.0</td>\n",
       "      <td>0.0</td>\n",
       "      <td>0.0</td>\n",
       "      <td>0.0</td>\n",
       "      <td>0.0</td>\n",
       "      <td>0.0</td>\n",
       "    </tr>\n",
       "    <tr>\n",
       "      <th>...</th>\n",
       "      <td>...</td>\n",
       "      <td>...</td>\n",
       "      <td>...</td>\n",
       "      <td>...</td>\n",
       "      <td>...</td>\n",
       "      <td>...</td>\n",
       "      <td>...</td>\n",
       "      <td>...</td>\n",
       "      <td>...</td>\n",
       "      <td>...</td>\n",
       "      <td>...</td>\n",
       "      <td>...</td>\n",
       "      <td>...</td>\n",
       "      <td>...</td>\n",
       "      <td>...</td>\n",
       "      <td>...</td>\n",
       "      <td>...</td>\n",
       "      <td>...</td>\n",
       "      <td>...</td>\n",
       "      <td>...</td>\n",
       "      <td>...</td>\n",
       "    </tr>\n",
       "    <tr>\n",
       "      <th>394</th>\n",
       "      <td>4</td>\n",
       "      <td>97.0</td>\n",
       "      <td>52.0</td>\n",
       "      <td>2130</td>\n",
       "      <td>24.6</td>\n",
       "      <td>82</td>\n",
       "      <td>24.250000</td>\n",
       "      <td>1.0</td>\n",
       "      <td>0.0</td>\n",
       "      <td>0.0</td>\n",
       "      <td>...</td>\n",
       "      <td>0.0</td>\n",
       "      <td>0.0</td>\n",
       "      <td>0.0</td>\n",
       "      <td>0.0</td>\n",
       "      <td>0.0</td>\n",
       "      <td>0.0</td>\n",
       "      <td>0.0</td>\n",
       "      <td>0.0</td>\n",
       "      <td>0.0</td>\n",
       "      <td>0.0</td>\n",
       "    </tr>\n",
       "    <tr>\n",
       "      <th>258</th>\n",
       "      <td>6</td>\n",
       "      <td>231.0</td>\n",
       "      <td>105.0</td>\n",
       "      <td>3380</td>\n",
       "      <td>15.8</td>\n",
       "      <td>78</td>\n",
       "      <td>38.500000</td>\n",
       "      <td>0.0</td>\n",
       "      <td>0.0</td>\n",
       "      <td>1.0</td>\n",
       "      <td>...</td>\n",
       "      <td>0.0</td>\n",
       "      <td>0.0</td>\n",
       "      <td>0.0</td>\n",
       "      <td>0.0</td>\n",
       "      <td>0.0</td>\n",
       "      <td>0.0</td>\n",
       "      <td>0.0</td>\n",
       "      <td>0.0</td>\n",
       "      <td>0.0</td>\n",
       "      <td>0.0</td>\n",
       "    </tr>\n",
       "    <tr>\n",
       "      <th>297</th>\n",
       "      <td>5</td>\n",
       "      <td>183.0</td>\n",
       "      <td>77.0</td>\n",
       "      <td>3530</td>\n",
       "      <td>20.1</td>\n",
       "      <td>79</td>\n",
       "      <td>36.600000</td>\n",
       "      <td>1.0</td>\n",
       "      <td>0.0</td>\n",
       "      <td>0.0</td>\n",
       "      <td>...</td>\n",
       "      <td>0.0</td>\n",
       "      <td>0.0</td>\n",
       "      <td>0.0</td>\n",
       "      <td>0.0</td>\n",
       "      <td>0.0</td>\n",
       "      <td>0.0</td>\n",
       "      <td>0.0</td>\n",
       "      <td>0.0</td>\n",
       "      <td>0.0</td>\n",
       "      <td>0.0</td>\n",
       "    </tr>\n",
       "    <tr>\n",
       "      <th>23</th>\n",
       "      <td>4</td>\n",
       "      <td>121.0</td>\n",
       "      <td>113.0</td>\n",
       "      <td>2234</td>\n",
       "      <td>12.5</td>\n",
       "      <td>70</td>\n",
       "      <td>30.250000</td>\n",
       "      <td>1.0</td>\n",
       "      <td>0.0</td>\n",
       "      <td>0.0</td>\n",
       "      <td>...</td>\n",
       "      <td>0.0</td>\n",
       "      <td>0.0</td>\n",
       "      <td>0.0</td>\n",
       "      <td>0.0</td>\n",
       "      <td>0.0</td>\n",
       "      <td>0.0</td>\n",
       "      <td>0.0</td>\n",
       "      <td>0.0</td>\n",
       "      <td>0.0</td>\n",
       "      <td>0.0</td>\n",
       "    </tr>\n",
       "    <tr>\n",
       "      <th>83</th>\n",
       "      <td>4</td>\n",
       "      <td>98.0</td>\n",
       "      <td>80.0</td>\n",
       "      <td>2164</td>\n",
       "      <td>15.0</td>\n",
       "      <td>72</td>\n",
       "      <td>24.500000</td>\n",
       "      <td>0.0</td>\n",
       "      <td>0.0</td>\n",
       "      <td>1.0</td>\n",
       "      <td>...</td>\n",
       "      <td>0.0</td>\n",
       "      <td>0.0</td>\n",
       "      <td>0.0</td>\n",
       "      <td>0.0</td>\n",
       "      <td>0.0</td>\n",
       "      <td>0.0</td>\n",
       "      <td>0.0</td>\n",
       "      <td>0.0</td>\n",
       "      <td>0.0</td>\n",
       "      <td>0.0</td>\n",
       "    </tr>\n",
       "  </tbody>\n",
       "</table>\n",
       "<p>352 rows × 30 columns</p>\n",
       "</div>"
      ],
      "text/plain": [
       "     cylinders  displacement  horsepower  weight  acceleration  model_year  \\\n",
       "6            8         454.0       220.0    4354           9.0          70   \n",
       "352          4          98.0        65.0    2380          20.7          81   \n",
       "47           6         250.0       100.0    3282          15.0          71   \n",
       "39           8         400.0       175.0    4464          11.5          71   \n",
       "304          4          91.0        69.0    2130          14.7          79   \n",
       "..         ...           ...         ...     ...           ...         ...   \n",
       "394          4          97.0        52.0    2130          24.6          82   \n",
       "258          6         231.0       105.0    3380          15.8          78   \n",
       "297          5         183.0        77.0    3530          20.1          79   \n",
       "23           4         121.0       113.0    2234          12.5          70   \n",
       "83           4          98.0        80.0    2164          15.0          72   \n",
       "\n",
       "     displacement/cylinder  x0_europe  x0_japan  x0_usa  ...  volkswagen  \\\n",
       "6                56.750000        0.0       0.0     1.0  ...         0.0   \n",
       "352              24.500000        0.0       0.0     1.0  ...         0.0   \n",
       "47               41.666667        0.0       0.0     1.0  ...         0.0   \n",
       "39               50.000000        0.0       0.0     1.0  ...         0.0   \n",
       "304              22.750000        1.0       0.0     0.0  ...         0.0   \n",
       "..                     ...        ...       ...     ...  ...         ...   \n",
       "394              24.250000        1.0       0.0     0.0  ...         0.0   \n",
       "258              38.500000        0.0       0.0     1.0  ...         0.0   \n",
       "297              36.600000        1.0       0.0     0.0  ...         0.0   \n",
       "23               30.250000        1.0       0.0     0.0  ...         0.0   \n",
       "83               24.500000        0.0       0.0     1.0  ...         0.0   \n",
       "\n",
       "     pontiac  rabbit  brougham  honda  oldsmobile  mercury  mazda  corolla  \\\n",
       "6        0.0     0.0       0.0    0.0         0.0      0.0    0.0      0.0   \n",
       "352      0.0     0.0       0.0    0.0         0.0      0.0    0.0      0.0   \n",
       "47       1.0     0.0       0.0    0.0         0.0      0.0    0.0      0.0   \n",
       "39       1.0     0.0       1.0    0.0         0.0      0.0    0.0      0.0   \n",
       "304      0.0     0.0       0.0    0.0         0.0      0.0    0.0      0.0   \n",
       "..       ...     ...       ...    ...         ...      ...    ...      ...   \n",
       "394      0.0     0.0       0.0    0.0         0.0      0.0    0.0      0.0   \n",
       "258      0.0     0.0       0.0    0.0         0.0      0.0    0.0      0.0   \n",
       "297      0.0     0.0       0.0    0.0         0.0      0.0    0.0      0.0   \n",
       "23       0.0     0.0       0.0    0.0         0.0      0.0    0.0      0.0   \n",
       "83       0.0     0.0       0.0    0.0         0.0      0.0    0.0      0.0   \n",
       "\n",
       "     torino  \n",
       "6       0.0  \n",
       "352     0.0  \n",
       "47      0.0  \n",
       "39      0.0  \n",
       "304     0.0  \n",
       "..      ...  \n",
       "394     0.0  \n",
       "258     0.0  \n",
       "297     0.0  \n",
       "23      0.0  \n",
       "83      0.0  \n",
       "\n",
       "[352 rows x 30 columns]"
      ]
     },
     "execution_count": 40,
     "metadata": {},
     "output_type": "execute_result"
    }
   ],
   "source": [
    "brands = tr['name'].str.split().explode().value_counts().head(20).index\n",
    "\n",
    "def brands_design_matrix(df):\n",
    "    X = origin_design_matrix(df)\n",
    "    for brand in brands:\n",
    "        X[brand] = df['name'].str.contains(brand, regex = False).astype(float)\n",
    "    return X\n",
    "\n",
    "models['quant+dc+o+b'] = (brands_design_matrix, LinearRegression())\n",
    "\n",
    "brands_design_matrix(tr)"
   ]
  },
  {
   "cell_type": "code",
   "execution_count": 41,
   "metadata": {},
   "outputs": [
    {
     "data": {
      "application/vnd.plotly.v1+json": {
       "config": {
        "plotlyServerURL": "https://plot.ly"
       },
       "data": [
        {
         "name": "Training RMSE",
         "type": "bar",
         "x": [
          "quant",
          "quant+dc",
          "quant+dc+o",
          "quant+dc+o+b"
         ],
         "y": [
          3.3745826999424575,
          3.0333093446259114,
          3.012941172853171,
          2.8544602711982514
         ]
        },
        {
         "name": "CV RMSE",
         "type": "bar",
         "x": [
          "quant",
          "quant+dc",
          "quant+dc+o",
          "quant+dc+o+b"
         ],
         "y": [
          3.455901515616253,
          3.1113159765045713,
          3.1207285180151887,
          3.191957976808454
         ]
        }
       ],
       "layout": {
        "template": {
         "data": {
          "bar": [
           {
            "error_x": {
             "color": "#2a3f5f"
            },
            "error_y": {
             "color": "#2a3f5f"
            },
            "marker": {
             "line": {
              "color": "#E5ECF6",
              "width": 0.5
             },
             "pattern": {
              "fillmode": "overlay",
              "size": 10,
              "solidity": 0.2
             }
            },
            "type": "bar"
           }
          ],
          "barpolar": [
           {
            "marker": {
             "line": {
              "color": "#E5ECF6",
              "width": 0.5
             },
             "pattern": {
              "fillmode": "overlay",
              "size": 10,
              "solidity": 0.2
             }
            },
            "type": "barpolar"
           }
          ],
          "carpet": [
           {
            "aaxis": {
             "endlinecolor": "#2a3f5f",
             "gridcolor": "white",
             "linecolor": "white",
             "minorgridcolor": "white",
             "startlinecolor": "#2a3f5f"
            },
            "baxis": {
             "endlinecolor": "#2a3f5f",
             "gridcolor": "white",
             "linecolor": "white",
             "minorgridcolor": "white",
             "startlinecolor": "#2a3f5f"
            },
            "type": "carpet"
           }
          ],
          "choropleth": [
           {
            "colorbar": {
             "outlinewidth": 0,
             "ticks": ""
            },
            "type": "choropleth"
           }
          ],
          "contour": [
           {
            "colorbar": {
             "outlinewidth": 0,
             "ticks": ""
            },
            "colorscale": [
             [
              0,
              "#0d0887"
             ],
             [
              0.1111111111111111,
              "#46039f"
             ],
             [
              0.2222222222222222,
              "#7201a8"
             ],
             [
              0.3333333333333333,
              "#9c179e"
             ],
             [
              0.4444444444444444,
              "#bd3786"
             ],
             [
              0.5555555555555556,
              "#d8576b"
             ],
             [
              0.6666666666666666,
              "#ed7953"
             ],
             [
              0.7777777777777778,
              "#fb9f3a"
             ],
             [
              0.8888888888888888,
              "#fdca26"
             ],
             [
              1,
              "#f0f921"
             ]
            ],
            "type": "contour"
           }
          ],
          "contourcarpet": [
           {
            "colorbar": {
             "outlinewidth": 0,
             "ticks": ""
            },
            "type": "contourcarpet"
           }
          ],
          "heatmap": [
           {
            "colorbar": {
             "outlinewidth": 0,
             "ticks": ""
            },
            "colorscale": [
             [
              0,
              "#0d0887"
             ],
             [
              0.1111111111111111,
              "#46039f"
             ],
             [
              0.2222222222222222,
              "#7201a8"
             ],
             [
              0.3333333333333333,
              "#9c179e"
             ],
             [
              0.4444444444444444,
              "#bd3786"
             ],
             [
              0.5555555555555556,
              "#d8576b"
             ],
             [
              0.6666666666666666,
              "#ed7953"
             ],
             [
              0.7777777777777778,
              "#fb9f3a"
             ],
             [
              0.8888888888888888,
              "#fdca26"
             ],
             [
              1,
              "#f0f921"
             ]
            ],
            "type": "heatmap"
           }
          ],
          "heatmapgl": [
           {
            "colorbar": {
             "outlinewidth": 0,
             "ticks": ""
            },
            "colorscale": [
             [
              0,
              "#0d0887"
             ],
             [
              0.1111111111111111,
              "#46039f"
             ],
             [
              0.2222222222222222,
              "#7201a8"
             ],
             [
              0.3333333333333333,
              "#9c179e"
             ],
             [
              0.4444444444444444,
              "#bd3786"
             ],
             [
              0.5555555555555556,
              "#d8576b"
             ],
             [
              0.6666666666666666,
              "#ed7953"
             ],
             [
              0.7777777777777778,
              "#fb9f3a"
             ],
             [
              0.8888888888888888,
              "#fdca26"
             ],
             [
              1,
              "#f0f921"
             ]
            ],
            "type": "heatmapgl"
           }
          ],
          "histogram": [
           {
            "marker": {
             "pattern": {
              "fillmode": "overlay",
              "size": 10,
              "solidity": 0.2
             }
            },
            "type": "histogram"
           }
          ],
          "histogram2d": [
           {
            "colorbar": {
             "outlinewidth": 0,
             "ticks": ""
            },
            "colorscale": [
             [
              0,
              "#0d0887"
             ],
             [
              0.1111111111111111,
              "#46039f"
             ],
             [
              0.2222222222222222,
              "#7201a8"
             ],
             [
              0.3333333333333333,
              "#9c179e"
             ],
             [
              0.4444444444444444,
              "#bd3786"
             ],
             [
              0.5555555555555556,
              "#d8576b"
             ],
             [
              0.6666666666666666,
              "#ed7953"
             ],
             [
              0.7777777777777778,
              "#fb9f3a"
             ],
             [
              0.8888888888888888,
              "#fdca26"
             ],
             [
              1,
              "#f0f921"
             ]
            ],
            "type": "histogram2d"
           }
          ],
          "histogram2dcontour": [
           {
            "colorbar": {
             "outlinewidth": 0,
             "ticks": ""
            },
            "colorscale": [
             [
              0,
              "#0d0887"
             ],
             [
              0.1111111111111111,
              "#46039f"
             ],
             [
              0.2222222222222222,
              "#7201a8"
             ],
             [
              0.3333333333333333,
              "#9c179e"
             ],
             [
              0.4444444444444444,
              "#bd3786"
             ],
             [
              0.5555555555555556,
              "#d8576b"
             ],
             [
              0.6666666666666666,
              "#ed7953"
             ],
             [
              0.7777777777777778,
              "#fb9f3a"
             ],
             [
              0.8888888888888888,
              "#fdca26"
             ],
             [
              1,
              "#f0f921"
             ]
            ],
            "type": "histogram2dcontour"
           }
          ],
          "mesh3d": [
           {
            "colorbar": {
             "outlinewidth": 0,
             "ticks": ""
            },
            "type": "mesh3d"
           }
          ],
          "parcoords": [
           {
            "line": {
             "colorbar": {
              "outlinewidth": 0,
              "ticks": ""
             }
            },
            "type": "parcoords"
           }
          ],
          "pie": [
           {
            "automargin": true,
            "type": "pie"
           }
          ],
          "scatter": [
           {
            "marker": {
             "colorbar": {
              "outlinewidth": 0,
              "ticks": ""
             }
            },
            "type": "scatter"
           }
          ],
          "scatter3d": [
           {
            "line": {
             "colorbar": {
              "outlinewidth": 0,
              "ticks": ""
             }
            },
            "marker": {
             "colorbar": {
              "outlinewidth": 0,
              "ticks": ""
             }
            },
            "type": "scatter3d"
           }
          ],
          "scattercarpet": [
           {
            "marker": {
             "colorbar": {
              "outlinewidth": 0,
              "ticks": ""
             }
            },
            "type": "scattercarpet"
           }
          ],
          "scattergeo": [
           {
            "marker": {
             "colorbar": {
              "outlinewidth": 0,
              "ticks": ""
             }
            },
            "type": "scattergeo"
           }
          ],
          "scattergl": [
           {
            "marker": {
             "colorbar": {
              "outlinewidth": 0,
              "ticks": ""
             }
            },
            "type": "scattergl"
           }
          ],
          "scattermapbox": [
           {
            "marker": {
             "colorbar": {
              "outlinewidth": 0,
              "ticks": ""
             }
            },
            "type": "scattermapbox"
           }
          ],
          "scatterpolar": [
           {
            "marker": {
             "colorbar": {
              "outlinewidth": 0,
              "ticks": ""
             }
            },
            "type": "scatterpolar"
           }
          ],
          "scatterpolargl": [
           {
            "marker": {
             "colorbar": {
              "outlinewidth": 0,
              "ticks": ""
             }
            },
            "type": "scatterpolargl"
           }
          ],
          "scatterternary": [
           {
            "marker": {
             "colorbar": {
              "outlinewidth": 0,
              "ticks": ""
             }
            },
            "type": "scatterternary"
           }
          ],
          "surface": [
           {
            "colorbar": {
             "outlinewidth": 0,
             "ticks": ""
            },
            "colorscale": [
             [
              0,
              "#0d0887"
             ],
             [
              0.1111111111111111,
              "#46039f"
             ],
             [
              0.2222222222222222,
              "#7201a8"
             ],
             [
              0.3333333333333333,
              "#9c179e"
             ],
             [
              0.4444444444444444,
              "#bd3786"
             ],
             [
              0.5555555555555556,
              "#d8576b"
             ],
             [
              0.6666666666666666,
              "#ed7953"
             ],
             [
              0.7777777777777778,
              "#fb9f3a"
             ],
             [
              0.8888888888888888,
              "#fdca26"
             ],
             [
              1,
              "#f0f921"
             ]
            ],
            "type": "surface"
           }
          ],
          "table": [
           {
            "cells": {
             "fill": {
              "color": "#EBF0F8"
             },
             "line": {
              "color": "white"
             }
            },
            "header": {
             "fill": {
              "color": "#C8D4E3"
             },
             "line": {
              "color": "white"
             }
            },
            "type": "table"
           }
          ]
         },
         "layout": {
          "annotationdefaults": {
           "arrowcolor": "#2a3f5f",
           "arrowhead": 0,
           "arrowwidth": 1
          },
          "autotypenumbers": "strict",
          "coloraxis": {
           "colorbar": {
            "outlinewidth": 0,
            "ticks": ""
           }
          },
          "colorscale": {
           "diverging": [
            [
             0,
             "#8e0152"
            ],
            [
             0.1,
             "#c51b7d"
            ],
            [
             0.2,
             "#de77ae"
            ],
            [
             0.3,
             "#f1b6da"
            ],
            [
             0.4,
             "#fde0ef"
            ],
            [
             0.5,
             "#f7f7f7"
            ],
            [
             0.6,
             "#e6f5d0"
            ],
            [
             0.7,
             "#b8e186"
            ],
            [
             0.8,
             "#7fbc41"
            ],
            [
             0.9,
             "#4d9221"
            ],
            [
             1,
             "#276419"
            ]
           ],
           "sequential": [
            [
             0,
             "#0d0887"
            ],
            [
             0.1111111111111111,
             "#46039f"
            ],
            [
             0.2222222222222222,
             "#7201a8"
            ],
            [
             0.3333333333333333,
             "#9c179e"
            ],
            [
             0.4444444444444444,
             "#bd3786"
            ],
            [
             0.5555555555555556,
             "#d8576b"
            ],
            [
             0.6666666666666666,
             "#ed7953"
            ],
            [
             0.7777777777777778,
             "#fb9f3a"
            ],
            [
             0.8888888888888888,
             "#fdca26"
            ],
            [
             1,
             "#f0f921"
            ]
           ],
           "sequentialminus": [
            [
             0,
             "#0d0887"
            ],
            [
             0.1111111111111111,
             "#46039f"
            ],
            [
             0.2222222222222222,
             "#7201a8"
            ],
            [
             0.3333333333333333,
             "#9c179e"
            ],
            [
             0.4444444444444444,
             "#bd3786"
            ],
            [
             0.5555555555555556,
             "#d8576b"
            ],
            [
             0.6666666666666666,
             "#ed7953"
            ],
            [
             0.7777777777777778,
             "#fb9f3a"
            ],
            [
             0.8888888888888888,
             "#fdca26"
            ],
            [
             1,
             "#f0f921"
            ]
           ]
          },
          "colorway": [
           "#636efa",
           "#EF553B",
           "#00cc96",
           "#ab63fa",
           "#FFA15A",
           "#19d3f3",
           "#FF6692",
           "#B6E880",
           "#FF97FF",
           "#FECB52"
          ],
          "font": {
           "color": "#2a3f5f"
          },
          "geo": {
           "bgcolor": "white",
           "lakecolor": "white",
           "landcolor": "#E5ECF6",
           "showlakes": true,
           "showland": true,
           "subunitcolor": "white"
          },
          "hoverlabel": {
           "align": "left"
          },
          "hovermode": "closest",
          "mapbox": {
           "style": "light"
          },
          "paper_bgcolor": "white",
          "plot_bgcolor": "#E5ECF6",
          "polar": {
           "angularaxis": {
            "gridcolor": "white",
            "linecolor": "white",
            "ticks": ""
           },
           "bgcolor": "#E5ECF6",
           "radialaxis": {
            "gridcolor": "white",
            "linecolor": "white",
            "ticks": ""
           }
          },
          "scene": {
           "xaxis": {
            "backgroundcolor": "#E5ECF6",
            "gridcolor": "white",
            "gridwidth": 2,
            "linecolor": "white",
            "showbackground": true,
            "ticks": "",
            "zerolinecolor": "white"
           },
           "yaxis": {
            "backgroundcolor": "#E5ECF6",
            "gridcolor": "white",
            "gridwidth": 2,
            "linecolor": "white",
            "showbackground": true,
            "ticks": "",
            "zerolinecolor": "white"
           },
           "zaxis": {
            "backgroundcolor": "#E5ECF6",
            "gridcolor": "white",
            "gridwidth": 2,
            "linecolor": "white",
            "showbackground": true,
            "ticks": "",
            "zerolinecolor": "white"
           }
          },
          "shapedefaults": {
           "line": {
            "color": "#2a3f5f"
           }
          },
          "ternary": {
           "aaxis": {
            "gridcolor": "white",
            "linecolor": "white",
            "ticks": ""
           },
           "baxis": {
            "gridcolor": "white",
            "linecolor": "white",
            "ticks": ""
           },
           "bgcolor": "#E5ECF6",
           "caxis": {
            "gridcolor": "white",
            "linecolor": "white",
            "ticks": ""
           }
          },
          "title": {
           "x": 0.05
          },
          "xaxis": {
           "automargin": true,
           "gridcolor": "white",
           "linecolor": "white",
           "ticks": "",
           "title": {
            "standoff": 15
           },
           "zerolinecolor": "white",
           "zerolinewidth": 2
          },
          "yaxis": {
           "automargin": true,
           "gridcolor": "white",
           "linecolor": "white",
           "ticks": "",
           "title": {
            "standoff": 15
           },
           "zerolinecolor": "white",
           "zerolinewidth": 2
          }
         }
        },
        "yaxis": {
         "range": [
          0,
          4
         ],
         "title": {
          "text": "RMSE"
         }
        }
       }
      },
      "text/html": [
       "<div>                            <div id=\"9f023438-2654-4203-969b-60d0315f574c\" class=\"plotly-graph-div\" style=\"height:525px; width:100%;\"></div>            <script type=\"text/javascript\">                require([\"plotly\"], function(Plotly) {                    window.PLOTLYENV=window.PLOTLYENV || {};                                    if (document.getElementById(\"9f023438-2654-4203-969b-60d0315f574c\")) {                    Plotly.newPlot(                        \"9f023438-2654-4203-969b-60d0315f574c\",                        [{\"name\":\"Training RMSE\",\"type\":\"bar\",\"x\":[\"quant\",\"quant+dc\",\"quant+dc+o\",\"quant+dc+o+b\"],\"y\":[3.3745826999424575,3.0333093446259114,3.012941172853171,2.8544602711982514]},{\"name\":\"CV RMSE\",\"type\":\"bar\",\"x\":[\"quant\",\"quant+dc\",\"quant+dc+o\",\"quant+dc+o+b\"],\"y\":[3.455901515616253,3.1113159765045713,3.1207285180151887,3.191957976808454]}],                        {\"template\":{\"data\":{\"bar\":[{\"error_x\":{\"color\":\"#2a3f5f\"},\"error_y\":{\"color\":\"#2a3f5f\"},\"marker\":{\"line\":{\"color\":\"#E5ECF6\",\"width\":0.5},\"pattern\":{\"fillmode\":\"overlay\",\"size\":10,\"solidity\":0.2}},\"type\":\"bar\"}],\"barpolar\":[{\"marker\":{\"line\":{\"color\":\"#E5ECF6\",\"width\":0.5},\"pattern\":{\"fillmode\":\"overlay\",\"size\":10,\"solidity\":0.2}},\"type\":\"barpolar\"}],\"carpet\":[{\"aaxis\":{\"endlinecolor\":\"#2a3f5f\",\"gridcolor\":\"white\",\"linecolor\":\"white\",\"minorgridcolor\":\"white\",\"startlinecolor\":\"#2a3f5f\"},\"baxis\":{\"endlinecolor\":\"#2a3f5f\",\"gridcolor\":\"white\",\"linecolor\":\"white\",\"minorgridcolor\":\"white\",\"startlinecolor\":\"#2a3f5f\"},\"type\":\"carpet\"}],\"choropleth\":[{\"colorbar\":{\"outlinewidth\":0,\"ticks\":\"\"},\"type\":\"choropleth\"}],\"contour\":[{\"colorbar\":{\"outlinewidth\":0,\"ticks\":\"\"},\"colorscale\":[[0.0,\"#0d0887\"],[0.1111111111111111,\"#46039f\"],[0.2222222222222222,\"#7201a8\"],[0.3333333333333333,\"#9c179e\"],[0.4444444444444444,\"#bd3786\"],[0.5555555555555556,\"#d8576b\"],[0.6666666666666666,\"#ed7953\"],[0.7777777777777778,\"#fb9f3a\"],[0.8888888888888888,\"#fdca26\"],[1.0,\"#f0f921\"]],\"type\":\"contour\"}],\"contourcarpet\":[{\"colorbar\":{\"outlinewidth\":0,\"ticks\":\"\"},\"type\":\"contourcarpet\"}],\"heatmap\":[{\"colorbar\":{\"outlinewidth\":0,\"ticks\":\"\"},\"colorscale\":[[0.0,\"#0d0887\"],[0.1111111111111111,\"#46039f\"],[0.2222222222222222,\"#7201a8\"],[0.3333333333333333,\"#9c179e\"],[0.4444444444444444,\"#bd3786\"],[0.5555555555555556,\"#d8576b\"],[0.6666666666666666,\"#ed7953\"],[0.7777777777777778,\"#fb9f3a\"],[0.8888888888888888,\"#fdca26\"],[1.0,\"#f0f921\"]],\"type\":\"heatmap\"}],\"heatmapgl\":[{\"colorbar\":{\"outlinewidth\":0,\"ticks\":\"\"},\"colorscale\":[[0.0,\"#0d0887\"],[0.1111111111111111,\"#46039f\"],[0.2222222222222222,\"#7201a8\"],[0.3333333333333333,\"#9c179e\"],[0.4444444444444444,\"#bd3786\"],[0.5555555555555556,\"#d8576b\"],[0.6666666666666666,\"#ed7953\"],[0.7777777777777778,\"#fb9f3a\"],[0.8888888888888888,\"#fdca26\"],[1.0,\"#f0f921\"]],\"type\":\"heatmapgl\"}],\"histogram\":[{\"marker\":{\"pattern\":{\"fillmode\":\"overlay\",\"size\":10,\"solidity\":0.2}},\"type\":\"histogram\"}],\"histogram2d\":[{\"colorbar\":{\"outlinewidth\":0,\"ticks\":\"\"},\"colorscale\":[[0.0,\"#0d0887\"],[0.1111111111111111,\"#46039f\"],[0.2222222222222222,\"#7201a8\"],[0.3333333333333333,\"#9c179e\"],[0.4444444444444444,\"#bd3786\"],[0.5555555555555556,\"#d8576b\"],[0.6666666666666666,\"#ed7953\"],[0.7777777777777778,\"#fb9f3a\"],[0.8888888888888888,\"#fdca26\"],[1.0,\"#f0f921\"]],\"type\":\"histogram2d\"}],\"histogram2dcontour\":[{\"colorbar\":{\"outlinewidth\":0,\"ticks\":\"\"},\"colorscale\":[[0.0,\"#0d0887\"],[0.1111111111111111,\"#46039f\"],[0.2222222222222222,\"#7201a8\"],[0.3333333333333333,\"#9c179e\"],[0.4444444444444444,\"#bd3786\"],[0.5555555555555556,\"#d8576b\"],[0.6666666666666666,\"#ed7953\"],[0.7777777777777778,\"#fb9f3a\"],[0.8888888888888888,\"#fdca26\"],[1.0,\"#f0f921\"]],\"type\":\"histogram2dcontour\"}],\"mesh3d\":[{\"colorbar\":{\"outlinewidth\":0,\"ticks\":\"\"},\"type\":\"mesh3d\"}],\"parcoords\":[{\"line\":{\"colorbar\":{\"outlinewidth\":0,\"ticks\":\"\"}},\"type\":\"parcoords\"}],\"pie\":[{\"automargin\":true,\"type\":\"pie\"}],\"scatter\":[{\"marker\":{\"colorbar\":{\"outlinewidth\":0,\"ticks\":\"\"}},\"type\":\"scatter\"}],\"scatter3d\":[{\"line\":{\"colorbar\":{\"outlinewidth\":0,\"ticks\":\"\"}},\"marker\":{\"colorbar\":{\"outlinewidth\":0,\"ticks\":\"\"}},\"type\":\"scatter3d\"}],\"scattercarpet\":[{\"marker\":{\"colorbar\":{\"outlinewidth\":0,\"ticks\":\"\"}},\"type\":\"scattercarpet\"}],\"scattergeo\":[{\"marker\":{\"colorbar\":{\"outlinewidth\":0,\"ticks\":\"\"}},\"type\":\"scattergeo\"}],\"scattergl\":[{\"marker\":{\"colorbar\":{\"outlinewidth\":0,\"ticks\":\"\"}},\"type\":\"scattergl\"}],\"scattermapbox\":[{\"marker\":{\"colorbar\":{\"outlinewidth\":0,\"ticks\":\"\"}},\"type\":\"scattermapbox\"}],\"scatterpolar\":[{\"marker\":{\"colorbar\":{\"outlinewidth\":0,\"ticks\":\"\"}},\"type\":\"scatterpolar\"}],\"scatterpolargl\":[{\"marker\":{\"colorbar\":{\"outlinewidth\":0,\"ticks\":\"\"}},\"type\":\"scatterpolargl\"}],\"scatterternary\":[{\"marker\":{\"colorbar\":{\"outlinewidth\":0,\"ticks\":\"\"}},\"type\":\"scatterternary\"}],\"surface\":[{\"colorbar\":{\"outlinewidth\":0,\"ticks\":\"\"},\"colorscale\":[[0.0,\"#0d0887\"],[0.1111111111111111,\"#46039f\"],[0.2222222222222222,\"#7201a8\"],[0.3333333333333333,\"#9c179e\"],[0.4444444444444444,\"#bd3786\"],[0.5555555555555556,\"#d8576b\"],[0.6666666666666666,\"#ed7953\"],[0.7777777777777778,\"#fb9f3a\"],[0.8888888888888888,\"#fdca26\"],[1.0,\"#f0f921\"]],\"type\":\"surface\"}],\"table\":[{\"cells\":{\"fill\":{\"color\":\"#EBF0F8\"},\"line\":{\"color\":\"white\"}},\"header\":{\"fill\":{\"color\":\"#C8D4E3\"},\"line\":{\"color\":\"white\"}},\"type\":\"table\"}]},\"layout\":{\"annotationdefaults\":{\"arrowcolor\":\"#2a3f5f\",\"arrowhead\":0,\"arrowwidth\":1},\"autotypenumbers\":\"strict\",\"coloraxis\":{\"colorbar\":{\"outlinewidth\":0,\"ticks\":\"\"}},\"colorscale\":{\"diverging\":[[0,\"#8e0152\"],[0.1,\"#c51b7d\"],[0.2,\"#de77ae\"],[0.3,\"#f1b6da\"],[0.4,\"#fde0ef\"],[0.5,\"#f7f7f7\"],[0.6,\"#e6f5d0\"],[0.7,\"#b8e186\"],[0.8,\"#7fbc41\"],[0.9,\"#4d9221\"],[1,\"#276419\"]],\"sequential\":[[0.0,\"#0d0887\"],[0.1111111111111111,\"#46039f\"],[0.2222222222222222,\"#7201a8\"],[0.3333333333333333,\"#9c179e\"],[0.4444444444444444,\"#bd3786\"],[0.5555555555555556,\"#d8576b\"],[0.6666666666666666,\"#ed7953\"],[0.7777777777777778,\"#fb9f3a\"],[0.8888888888888888,\"#fdca26\"],[1.0,\"#f0f921\"]],\"sequentialminus\":[[0.0,\"#0d0887\"],[0.1111111111111111,\"#46039f\"],[0.2222222222222222,\"#7201a8\"],[0.3333333333333333,\"#9c179e\"],[0.4444444444444444,\"#bd3786\"],[0.5555555555555556,\"#d8576b\"],[0.6666666666666666,\"#ed7953\"],[0.7777777777777778,\"#fb9f3a\"],[0.8888888888888888,\"#fdca26\"],[1.0,\"#f0f921\"]]},\"colorway\":[\"#636efa\",\"#EF553B\",\"#00cc96\",\"#ab63fa\",\"#FFA15A\",\"#19d3f3\",\"#FF6692\",\"#B6E880\",\"#FF97FF\",\"#FECB52\"],\"font\":{\"color\":\"#2a3f5f\"},\"geo\":{\"bgcolor\":\"white\",\"lakecolor\":\"white\",\"landcolor\":\"#E5ECF6\",\"showlakes\":true,\"showland\":true,\"subunitcolor\":\"white\"},\"hoverlabel\":{\"align\":\"left\"},\"hovermode\":\"closest\",\"mapbox\":{\"style\":\"light\"},\"paper_bgcolor\":\"white\",\"plot_bgcolor\":\"#E5ECF6\",\"polar\":{\"angularaxis\":{\"gridcolor\":\"white\",\"linecolor\":\"white\",\"ticks\":\"\"},\"bgcolor\":\"#E5ECF6\",\"radialaxis\":{\"gridcolor\":\"white\",\"linecolor\":\"white\",\"ticks\":\"\"}},\"scene\":{\"xaxis\":{\"backgroundcolor\":\"#E5ECF6\",\"gridcolor\":\"white\",\"gridwidth\":2,\"linecolor\":\"white\",\"showbackground\":true,\"ticks\":\"\",\"zerolinecolor\":\"white\"},\"yaxis\":{\"backgroundcolor\":\"#E5ECF6\",\"gridcolor\":\"white\",\"gridwidth\":2,\"linecolor\":\"white\",\"showbackground\":true,\"ticks\":\"\",\"zerolinecolor\":\"white\"},\"zaxis\":{\"backgroundcolor\":\"#E5ECF6\",\"gridcolor\":\"white\",\"gridwidth\":2,\"linecolor\":\"white\",\"showbackground\":true,\"ticks\":\"\",\"zerolinecolor\":\"white\"}},\"shapedefaults\":{\"line\":{\"color\":\"#2a3f5f\"}},\"ternary\":{\"aaxis\":{\"gridcolor\":\"white\",\"linecolor\":\"white\",\"ticks\":\"\"},\"baxis\":{\"gridcolor\":\"white\",\"linecolor\":\"white\",\"ticks\":\"\"},\"bgcolor\":\"#E5ECF6\",\"caxis\":{\"gridcolor\":\"white\",\"linecolor\":\"white\",\"ticks\":\"\"}},\"title\":{\"x\":0.05},\"xaxis\":{\"automargin\":true,\"gridcolor\":\"white\",\"linecolor\":\"white\",\"ticks\":\"\",\"title\":{\"standoff\":15},\"zerolinecolor\":\"white\",\"zerolinewidth\":2},\"yaxis\":{\"automargin\":true,\"gridcolor\":\"white\",\"linecolor\":\"white\",\"ticks\":\"\",\"title\":{\"standoff\":15},\"zerolinecolor\":\"white\",\"zerolinewidth\":2}}},\"yaxis\":{\"range\":[0,4],\"title\":{\"text\":\"RMSE\"}}},                        {\"responsive\": true}                    ).then(function(){\n",
       "                            \n",
       "var gd = document.getElementById('9f023438-2654-4203-969b-60d0315f574c');\n",
       "var x = new MutationObserver(function (mutations, observer) {{\n",
       "        var display = window.getComputedStyle(gd).display;\n",
       "        if (!display || display === 'none') {{\n",
       "            console.log([gd, 'removed!']);\n",
       "            Plotly.purge(gd);\n",
       "            observer.disconnect();\n",
       "        }}\n",
       "}});\n",
       "\n",
       "// Listen for the removal of the full notebook cells\n",
       "var notebookContainer = gd.closest('#notebook-container');\n",
       "if (notebookContainer) {{\n",
       "    x.observe(notebookContainer, {childList: true});\n",
       "}}\n",
       "\n",
       "// Listen for the clearing of the current output cell\n",
       "var outputEl = gd.closest('.output');\n",
       "if (outputEl) {{\n",
       "    x.observe(outputEl, {childList: true});\n",
       "}}\n",
       "\n",
       "                        })                };                });            </script>        </div>"
      ]
     },
     "metadata": {},
     "output_type": "display_data"
    }
   ],
   "source": [
    "fig = compare_models(models)\n",
    "fig.update_yaxes(range = [0, 4], title = \"RMSE\")"
   ]
  },
  {
   "cell_type": "markdown",
   "metadata": {},
   "source": [
    "Adding the brand information to our design matrix decreased our training error, but it increased our cross-validation error. Looks like we overfit!"
   ]
  },
  {
   "cell_type": "code",
   "execution_count": null,
   "metadata": {},
   "outputs": [],
   "source": []
  },
  {
   "cell_type": "code",
   "execution_count": null,
   "metadata": {},
   "outputs": [],
   "source": []
  },
  {
   "cell_type": "markdown",
   "metadata": {},
   "source": [
    "## Regularization\n",
    "\n",
    "In this section we explore the use of regularization techniques to address overfitting.\n",
    "\n",
    "### Ridge Regression\n",
    "\n",
    "Ridge regression combines the ridge (L2, Squared) regularization function with the least squares loss.  \n",
    "\n",
    "$$\n",
    "\\hat{\\theta}_\\alpha = \\arg \\min_\\theta \\left[ \\left(\\frac{1}{n} \\sum_{i=1}^n \\left(Y_i -  f_\\theta(X_i)\\right)^2 \\right) + \\alpha \\sum_{k=1}^d \\theta_k^2 \\right]\n",
    "$$\n",
    "\n",
    "Ridge regression, like ordinary least squares regression, also has a closed form solution for the optimal $\\hat{\\theta}_\\alpha$\n",
    "\n",
    "$$\n",
    "\\hat{\\theta}_\\alpha = \\left(X^T X + n \\alpha \\mathbf{I}\\right)^{-1} X^T Y\n",
    "$$\n",
    "\n",
    "where $\\mathbf{I}$ is the identity matrix, $n$ is the number of data points, and $\\alpha$ is the regularization hyperparameter.\n",
    "\n",
    "Notice that even if $X^T X$ is not full rank, the addition of $n \\alpha \\mathbf{I}$ (which is full rank) makes $\\left(X^T X + n \\alpha \\mathbf{I}\\right)$ invertible. Thus, ridge regression addresses the possible issue of having an underdetermined system and partially improves the numerical stability of the solution.\n",
    "\n",
    "### The Regularization Hyperparameter\n",
    "\n",
    "The $\\alpha$ parameter is our regularization **hyperparameter**. It is a hyperparameter because it is not a model parameter but a choice of how we want to balance fitting the data and \"over-fitting\". The goal is to find a value of this hyper\"parameter to maximize our accuracy on the **test data**. However, **we can't use the test data to make modeling decisions** so we turn to cross validation. The standard way to find the best $\\alpha$ is to try a bunch of values (perhaps using binary search) and take the one with the lowest cross validation error. \n",
    "\n",
    "You may have noticed that in the video lecture we use $\\lambda$ instead of $\\alpha$.  This is because many textbooks use $\\lambda$ and sklearn uses $\\alpha$."
   ]
  },
  {
   "cell_type": "markdown",
   "metadata": {},
   "source": [
    "### Ridge Regression in SK Learn\n",
    "\n",
    "Both Ridge Regression and Lasso are built-in functions in SKLearn.  Let's start by importing the `Ridge` Regression class which behaves identically to the `LinearRegression` class we used earlier:"
   ]
  },
  {
   "cell_type": "code",
   "execution_count": 42,
   "metadata": {},
   "outputs": [],
   "source": [
    "from sklearn.linear_model import Ridge"
   ]
  },
  {
   "cell_type": "markdown",
   "metadata": {},
   "source": [
    "Take a look at the documentation.  Notice the regularized loss function. "
   ]
  },
  {
   "cell_type": "code",
   "execution_count": 43,
   "metadata": {},
   "outputs": [],
   "source": [
    "Ridge?"
   ]
  },
  {
   "cell_type": "markdown",
   "metadata": {},
   "source": [
    "Instead of just looking at the top 20 brands, let's bag-of-words encode the entire name column."
   ]
  },
  {
   "cell_type": "code",
   "execution_count": 44,
   "metadata": {},
   "outputs": [
    {
     "data": {
      "text/plain": [
       "CountVectorizer()"
      ]
     },
     "execution_count": 44,
     "metadata": {},
     "output_type": "execute_result"
    }
   ],
   "source": [
    "from sklearn.feature_extraction.text import CountVectorizer\n",
    "vectorizer = CountVectorizer()\n",
    "vectorizer.fit(tr['name'])"
   ]
  },
  {
   "cell_type": "code",
   "execution_count": 45,
   "metadata": {},
   "outputs": [
    {
     "data": {
      "text/html": [
       "<div>\n",
       "<style scoped>\n",
       "    .dataframe tbody tr th:only-of-type {\n",
       "        vertical-align: middle;\n",
       "    }\n",
       "\n",
       "    .dataframe tbody tr th {\n",
       "        vertical-align: top;\n",
       "    }\n",
       "\n",
       "    .dataframe thead th {\n",
       "        text-align: right;\n",
       "    }\n",
       "</style>\n",
       "<table border=\"1\" class=\"dataframe\">\n",
       "  <thead>\n",
       "    <tr style=\"text-align: right;\">\n",
       "      <th></th>\n",
       "      <th>cylinders</th>\n",
       "      <th>displacement</th>\n",
       "      <th>horsepower</th>\n",
       "      <th>weight</th>\n",
       "      <th>acceleration</th>\n",
       "      <th>model_year</th>\n",
       "      <th>displacement/cylinder</th>\n",
       "      <th>x0_europe</th>\n",
       "      <th>x0_japan</th>\n",
       "      <th>x0_usa</th>\n",
       "      <th>...</th>\n",
       "      <th>volare</th>\n",
       "      <th>volkswagen</th>\n",
       "      <th>volvo</th>\n",
       "      <th>vw</th>\n",
       "      <th>wagon</th>\n",
       "      <th>woody</th>\n",
       "      <th>xe</th>\n",
       "      <th>yorker</th>\n",
       "      <th>zephyr</th>\n",
       "      <th>zx</th>\n",
       "    </tr>\n",
       "  </thead>\n",
       "  <tbody>\n",
       "    <tr>\n",
       "      <th>6</th>\n",
       "      <td>8</td>\n",
       "      <td>454.0</td>\n",
       "      <td>220.0</td>\n",
       "      <td>4354</td>\n",
       "      <td>9.0</td>\n",
       "      <td>70</td>\n",
       "      <td>56.750000</td>\n",
       "      <td>0.0</td>\n",
       "      <td>0.0</td>\n",
       "      <td>1.0</td>\n",
       "      <td>...</td>\n",
       "      <td>0</td>\n",
       "      <td>0</td>\n",
       "      <td>0</td>\n",
       "      <td>0</td>\n",
       "      <td>0</td>\n",
       "      <td>0</td>\n",
       "      <td>0</td>\n",
       "      <td>0</td>\n",
       "      <td>0</td>\n",
       "      <td>0</td>\n",
       "    </tr>\n",
       "    <tr>\n",
       "      <th>352</th>\n",
       "      <td>4</td>\n",
       "      <td>98.0</td>\n",
       "      <td>65.0</td>\n",
       "      <td>2380</td>\n",
       "      <td>20.7</td>\n",
       "      <td>81</td>\n",
       "      <td>24.500000</td>\n",
       "      <td>0.0</td>\n",
       "      <td>0.0</td>\n",
       "      <td>1.0</td>\n",
       "      <td>...</td>\n",
       "      <td>0</td>\n",
       "      <td>0</td>\n",
       "      <td>0</td>\n",
       "      <td>0</td>\n",
       "      <td>0</td>\n",
       "      <td>0</td>\n",
       "      <td>0</td>\n",
       "      <td>0</td>\n",
       "      <td>0</td>\n",
       "      <td>0</td>\n",
       "    </tr>\n",
       "    <tr>\n",
       "      <th>47</th>\n",
       "      <td>6</td>\n",
       "      <td>250.0</td>\n",
       "      <td>100.0</td>\n",
       "      <td>3282</td>\n",
       "      <td>15.0</td>\n",
       "      <td>71</td>\n",
       "      <td>41.666667</td>\n",
       "      <td>0.0</td>\n",
       "      <td>0.0</td>\n",
       "      <td>1.0</td>\n",
       "      <td>...</td>\n",
       "      <td>0</td>\n",
       "      <td>0</td>\n",
       "      <td>0</td>\n",
       "      <td>0</td>\n",
       "      <td>0</td>\n",
       "      <td>0</td>\n",
       "      <td>0</td>\n",
       "      <td>0</td>\n",
       "      <td>0</td>\n",
       "      <td>0</td>\n",
       "    </tr>\n",
       "    <tr>\n",
       "      <th>39</th>\n",
       "      <td>8</td>\n",
       "      <td>400.0</td>\n",
       "      <td>175.0</td>\n",
       "      <td>4464</td>\n",
       "      <td>11.5</td>\n",
       "      <td>71</td>\n",
       "      <td>50.000000</td>\n",
       "      <td>0.0</td>\n",
       "      <td>0.0</td>\n",
       "      <td>1.0</td>\n",
       "      <td>...</td>\n",
       "      <td>0</td>\n",
       "      <td>0</td>\n",
       "      <td>0</td>\n",
       "      <td>0</td>\n",
       "      <td>0</td>\n",
       "      <td>0</td>\n",
       "      <td>0</td>\n",
       "      <td>0</td>\n",
       "      <td>0</td>\n",
       "      <td>0</td>\n",
       "    </tr>\n",
       "    <tr>\n",
       "      <th>304</th>\n",
       "      <td>4</td>\n",
       "      <td>91.0</td>\n",
       "      <td>69.0</td>\n",
       "      <td>2130</td>\n",
       "      <td>14.7</td>\n",
       "      <td>79</td>\n",
       "      <td>22.750000</td>\n",
       "      <td>1.0</td>\n",
       "      <td>0.0</td>\n",
       "      <td>0.0</td>\n",
       "      <td>...</td>\n",
       "      <td>0</td>\n",
       "      <td>0</td>\n",
       "      <td>0</td>\n",
       "      <td>0</td>\n",
       "      <td>0</td>\n",
       "      <td>0</td>\n",
       "      <td>0</td>\n",
       "      <td>0</td>\n",
       "      <td>0</td>\n",
       "      <td>0</td>\n",
       "    </tr>\n",
       "    <tr>\n",
       "      <th>...</th>\n",
       "      <td>...</td>\n",
       "      <td>...</td>\n",
       "      <td>...</td>\n",
       "      <td>...</td>\n",
       "      <td>...</td>\n",
       "      <td>...</td>\n",
       "      <td>...</td>\n",
       "      <td>...</td>\n",
       "      <td>...</td>\n",
       "      <td>...</td>\n",
       "      <td>...</td>\n",
       "      <td>...</td>\n",
       "      <td>...</td>\n",
       "      <td>...</td>\n",
       "      <td>...</td>\n",
       "      <td>...</td>\n",
       "      <td>...</td>\n",
       "      <td>...</td>\n",
       "      <td>...</td>\n",
       "      <td>...</td>\n",
       "      <td>...</td>\n",
       "    </tr>\n",
       "    <tr>\n",
       "      <th>394</th>\n",
       "      <td>4</td>\n",
       "      <td>97.0</td>\n",
       "      <td>52.0</td>\n",
       "      <td>2130</td>\n",
       "      <td>24.6</td>\n",
       "      <td>82</td>\n",
       "      <td>24.250000</td>\n",
       "      <td>1.0</td>\n",
       "      <td>0.0</td>\n",
       "      <td>0.0</td>\n",
       "      <td>...</td>\n",
       "      <td>0</td>\n",
       "      <td>0</td>\n",
       "      <td>0</td>\n",
       "      <td>1</td>\n",
       "      <td>0</td>\n",
       "      <td>0</td>\n",
       "      <td>0</td>\n",
       "      <td>0</td>\n",
       "      <td>0</td>\n",
       "      <td>0</td>\n",
       "    </tr>\n",
       "    <tr>\n",
       "      <th>258</th>\n",
       "      <td>6</td>\n",
       "      <td>231.0</td>\n",
       "      <td>105.0</td>\n",
       "      <td>3380</td>\n",
       "      <td>15.8</td>\n",
       "      <td>78</td>\n",
       "      <td>38.500000</td>\n",
       "      <td>0.0</td>\n",
       "      <td>0.0</td>\n",
       "      <td>1.0</td>\n",
       "      <td>...</td>\n",
       "      <td>0</td>\n",
       "      <td>0</td>\n",
       "      <td>0</td>\n",
       "      <td>0</td>\n",
       "      <td>0</td>\n",
       "      <td>0</td>\n",
       "      <td>0</td>\n",
       "      <td>0</td>\n",
       "      <td>0</td>\n",
       "      <td>0</td>\n",
       "    </tr>\n",
       "    <tr>\n",
       "      <th>297</th>\n",
       "      <td>5</td>\n",
       "      <td>183.0</td>\n",
       "      <td>77.0</td>\n",
       "      <td>3530</td>\n",
       "      <td>20.1</td>\n",
       "      <td>79</td>\n",
       "      <td>36.600000</td>\n",
       "      <td>1.0</td>\n",
       "      <td>0.0</td>\n",
       "      <td>0.0</td>\n",
       "      <td>...</td>\n",
       "      <td>0</td>\n",
       "      <td>0</td>\n",
       "      <td>0</td>\n",
       "      <td>0</td>\n",
       "      <td>0</td>\n",
       "      <td>0</td>\n",
       "      <td>0</td>\n",
       "      <td>0</td>\n",
       "      <td>0</td>\n",
       "      <td>0</td>\n",
       "    </tr>\n",
       "    <tr>\n",
       "      <th>23</th>\n",
       "      <td>4</td>\n",
       "      <td>121.0</td>\n",
       "      <td>113.0</td>\n",
       "      <td>2234</td>\n",
       "      <td>12.5</td>\n",
       "      <td>70</td>\n",
       "      <td>30.250000</td>\n",
       "      <td>1.0</td>\n",
       "      <td>0.0</td>\n",
       "      <td>0.0</td>\n",
       "      <td>...</td>\n",
       "      <td>0</td>\n",
       "      <td>0</td>\n",
       "      <td>0</td>\n",
       "      <td>0</td>\n",
       "      <td>0</td>\n",
       "      <td>0</td>\n",
       "      <td>0</td>\n",
       "      <td>0</td>\n",
       "      <td>0</td>\n",
       "      <td>0</td>\n",
       "    </tr>\n",
       "    <tr>\n",
       "      <th>83</th>\n",
       "      <td>4</td>\n",
       "      <td>98.0</td>\n",
       "      <td>80.0</td>\n",
       "      <td>2164</td>\n",
       "      <td>15.0</td>\n",
       "      <td>72</td>\n",
       "      <td>24.500000</td>\n",
       "      <td>0.0</td>\n",
       "      <td>0.0</td>\n",
       "      <td>1.0</td>\n",
       "      <td>...</td>\n",
       "      <td>0</td>\n",
       "      <td>0</td>\n",
       "      <td>0</td>\n",
       "      <td>0</td>\n",
       "      <td>0</td>\n",
       "      <td>0</td>\n",
       "      <td>0</td>\n",
       "      <td>0</td>\n",
       "      <td>0</td>\n",
       "      <td>0</td>\n",
       "    </tr>\n",
       "  </tbody>\n",
       "</table>\n",
       "<p>352 rows × 294 columns</p>\n",
       "</div>"
      ],
      "text/plain": [
       "     cylinders  displacement  horsepower  weight  acceleration  model_year  \\\n",
       "6            8         454.0       220.0    4354           9.0          70   \n",
       "352          4          98.0        65.0    2380          20.7          81   \n",
       "47           6         250.0       100.0    3282          15.0          71   \n",
       "39           8         400.0       175.0    4464          11.5          71   \n",
       "304          4          91.0        69.0    2130          14.7          79   \n",
       "..         ...           ...         ...     ...           ...         ...   \n",
       "394          4          97.0        52.0    2130          24.6          82   \n",
       "258          6         231.0       105.0    3380          15.8          78   \n",
       "297          5         183.0        77.0    3530          20.1          79   \n",
       "23           4         121.0       113.0    2234          12.5          70   \n",
       "83           4          98.0        80.0    2164          15.0          72   \n",
       "\n",
       "     displacement/cylinder  x0_europe  x0_japan  x0_usa  ...  volare  \\\n",
       "6                56.750000        0.0       0.0     1.0  ...       0   \n",
       "352              24.500000        0.0       0.0     1.0  ...       0   \n",
       "47               41.666667        0.0       0.0     1.0  ...       0   \n",
       "39               50.000000        0.0       0.0     1.0  ...       0   \n",
       "304              22.750000        1.0       0.0     0.0  ...       0   \n",
       "..                     ...        ...       ...     ...  ...     ...   \n",
       "394              24.250000        1.0       0.0     0.0  ...       0   \n",
       "258              38.500000        0.0       0.0     1.0  ...       0   \n",
       "297              36.600000        1.0       0.0     0.0  ...       0   \n",
       "23               30.250000        1.0       0.0     0.0  ...       0   \n",
       "83               24.500000        0.0       0.0     1.0  ...       0   \n",
       "\n",
       "     volkswagen  volvo  vw  wagon  woody  xe  yorker  zephyr  zx  \n",
       "6             0      0   0      0      0   0       0       0   0  \n",
       "352           0      0   0      0      0   0       0       0   0  \n",
       "47            0      0   0      0      0   0       0       0   0  \n",
       "39            0      0   0      0      0   0       0       0   0  \n",
       "304           0      0   0      0      0   0       0       0   0  \n",
       "..          ...    ...  ..    ...    ...  ..     ...     ...  ..  \n",
       "394           0      0   1      0      0   0       0       0   0  \n",
       "258           0      0   0      0      0   0       0       0   0  \n",
       "297           0      0   0      0      0   0       0       0   0  \n",
       "23            0      0   0      0      0   0       0       0   0  \n",
       "83            0      0   0      0      0   0       0       0   0  \n",
       "\n",
       "[352 rows x 294 columns]"
      ]
     },
     "execution_count": 45,
     "metadata": {},
     "output_type": "execute_result"
    }
   ],
   "source": [
    "def name_design_matrix(df):\n",
    "    X = origin_design_matrix(df)\n",
    "    feature_names = vectorizer.get_feature_names()\n",
    "    X[feature_names] = vectorizer.transform(df['name']).toarray()\n",
    "    return X\n",
    "\n",
    "name_design_matrix(tr)"
   ]
  },
  {
   "cell_type": "code",
   "execution_count": 46,
   "metadata": {},
   "outputs": [
    {
     "data": {
      "text/plain": [
       "1569468001.3462105"
      ]
     },
     "execution_count": 46,
     "metadata": {},
     "output_type": "execute_result"
    }
   ],
   "source": [
    "cross_validate_rmse(name_design_matrix, LinearRegression())"
   ]
  },
  {
   "cell_type": "markdown",
   "metadata": {},
   "source": [
    "Woah, our RMSE is really, really large! This is due to the fact that by adding all of these columns, our design matrix is no longer full rank. `numpy` tried to take the inverse of $\\mathbb{X}^T \\mathbb{X}$, but it ended up sending the parameters to really extreme values, leading to really extreme predictions."
   ]
  },
  {
   "cell_type": "markdown",
   "metadata": {},
   "source": [
    "To get around this, let's try regularization. As we're introducing regularization, let's also standardize our quantitative features:"
   ]
  },
  {
   "cell_type": "code",
   "execution_count": 47,
   "metadata": {},
   "outputs": [
    {
     "data": {
      "text/plain": [
       "StandardScaler()"
      ]
     },
     "execution_count": 47,
     "metadata": {},
     "output_type": "execute_result"
    }
   ],
   "source": [
    "from sklearn.preprocessing import StandardScaler\n",
    "quantitative_features = [\"cylinders\", \"displacement\", \"horsepower\", \"weight\", \"acceleration\", \"model_year\"]\n",
    "scaler = StandardScaler()\n",
    "scaler.fit(basic_design_matrix(tr[quantitative_features]))"
   ]
  },
  {
   "cell_type": "code",
   "execution_count": 48,
   "metadata": {},
   "outputs": [
    {
     "data": {
      "text/html": [
       "<div>\n",
       "<style scoped>\n",
       "    .dataframe tbody tr th:only-of-type {\n",
       "        vertical-align: middle;\n",
       "    }\n",
       "\n",
       "    .dataframe tbody tr th {\n",
       "        vertical-align: top;\n",
       "    }\n",
       "\n",
       "    .dataframe thead th {\n",
       "        text-align: right;\n",
       "    }\n",
       "</style>\n",
       "<table border=\"1\" class=\"dataframe\">\n",
       "  <thead>\n",
       "    <tr style=\"text-align: right;\">\n",
       "      <th></th>\n",
       "      <th>cylinders</th>\n",
       "      <th>displacement</th>\n",
       "      <th>horsepower</th>\n",
       "      <th>weight</th>\n",
       "      <th>acceleration</th>\n",
       "      <th>model_year</th>\n",
       "      <th>displacement/cylinder</th>\n",
       "      <th>x0_europe</th>\n",
       "      <th>x0_japan</th>\n",
       "      <th>x0_usa</th>\n",
       "      <th>...</th>\n",
       "      <th>volare</th>\n",
       "      <th>volkswagen</th>\n",
       "      <th>volvo</th>\n",
       "      <th>vw</th>\n",
       "      <th>wagon</th>\n",
       "      <th>woody</th>\n",
       "      <th>xe</th>\n",
       "      <th>yorker</th>\n",
       "      <th>zephyr</th>\n",
       "      <th>zx</th>\n",
       "    </tr>\n",
       "  </thead>\n",
       "  <tbody>\n",
       "    <tr>\n",
       "      <th>count</th>\n",
       "      <td>3.520000e+02</td>\n",
       "      <td>3.520000e+02</td>\n",
       "      <td>3.520000e+02</td>\n",
       "      <td>3.520000e+02</td>\n",
       "      <td>3.520000e+02</td>\n",
       "      <td>3.520000e+02</td>\n",
       "      <td>352.000000</td>\n",
       "      <td>352.000000</td>\n",
       "      <td>352.000000</td>\n",
       "      <td>352.000000</td>\n",
       "      <td>...</td>\n",
       "      <td>352.000000</td>\n",
       "      <td>352.000000</td>\n",
       "      <td>352.000000</td>\n",
       "      <td>352.000000</td>\n",
       "      <td>352.000000</td>\n",
       "      <td>352.000000</td>\n",
       "      <td>352.000000</td>\n",
       "      <td>352.000000</td>\n",
       "      <td>352.000000</td>\n",
       "      <td>352.000000</td>\n",
       "    </tr>\n",
       "    <tr>\n",
       "      <th>mean</th>\n",
       "      <td>-2.775558e-17</td>\n",
       "      <td>-2.365532e-17</td>\n",
       "      <td>-1.681105e-16</td>\n",
       "      <td>-8.705158e-17</td>\n",
       "      <td>8.618422e-16</td>\n",
       "      <td>-3.671306e-16</td>\n",
       "      <td>33.651515</td>\n",
       "      <td>0.176136</td>\n",
       "      <td>0.184659</td>\n",
       "      <td>0.639205</td>\n",
       "      <td>...</td>\n",
       "      <td>0.008523</td>\n",
       "      <td>0.039773</td>\n",
       "      <td>0.014205</td>\n",
       "      <td>0.017045</td>\n",
       "      <td>0.011364</td>\n",
       "      <td>0.002841</td>\n",
       "      <td>0.002841</td>\n",
       "      <td>0.002841</td>\n",
       "      <td>0.005682</td>\n",
       "      <td>0.002841</td>\n",
       "    </tr>\n",
       "    <tr>\n",
       "      <th>std</th>\n",
       "      <td>1.001423e+00</td>\n",
       "      <td>1.001423e+00</td>\n",
       "      <td>1.001423e+00</td>\n",
       "      <td>1.001423e+00</td>\n",
       "      <td>1.001423e+00</td>\n",
       "      <td>1.001423e+00</td>\n",
       "      <td>8.783269</td>\n",
       "      <td>0.381478</td>\n",
       "      <td>0.388573</td>\n",
       "      <td>0.480915</td>\n",
       "      <td>...</td>\n",
       "      <td>0.092055</td>\n",
       "      <td>0.195703</td>\n",
       "      <td>0.118502</td>\n",
       "      <td>0.129625</td>\n",
       "      <td>0.106144</td>\n",
       "      <td>0.053300</td>\n",
       "      <td>0.053300</td>\n",
       "      <td>0.053300</td>\n",
       "      <td>0.075270</td>\n",
       "      <td>0.053300</td>\n",
       "    </tr>\n",
       "    <tr>\n",
       "      <th>min</th>\n",
       "      <td>-1.456091e+00</td>\n",
       "      <td>-1.216536e+00</td>\n",
       "      <td>-1.518254e+00</td>\n",
       "      <td>-1.614892e+00</td>\n",
       "      <td>-2.678164e+00</td>\n",
       "      <td>-1.611836e+00</td>\n",
       "      <td>17.000000</td>\n",
       "      <td>0.000000</td>\n",
       "      <td>0.000000</td>\n",
       "      <td>0.000000</td>\n",
       "      <td>...</td>\n",
       "      <td>0.000000</td>\n",
       "      <td>0.000000</td>\n",
       "      <td>0.000000</td>\n",
       "      <td>0.000000</td>\n",
       "      <td>0.000000</td>\n",
       "      <td>0.000000</td>\n",
       "      <td>0.000000</td>\n",
       "      <td>0.000000</td>\n",
       "      <td>0.000000</td>\n",
       "      <td>0.000000</td>\n",
       "    </tr>\n",
       "    <tr>\n",
       "      <th>25%</th>\n",
       "      <td>-8.743157e-01</td>\n",
       "      <td>-8.673800e-01</td>\n",
       "      <td>-7.345454e-01</td>\n",
       "      <td>-8.926622e-01</td>\n",
       "      <td>-6.849795e-01</td>\n",
       "      <td>-8.036217e-01</td>\n",
       "      <td>25.958333</td>\n",
       "      <td>0.000000</td>\n",
       "      <td>0.000000</td>\n",
       "      <td>0.000000</td>\n",
       "      <td>...</td>\n",
       "      <td>0.000000</td>\n",
       "      <td>0.000000</td>\n",
       "      <td>0.000000</td>\n",
       "      <td>0.000000</td>\n",
       "      <td>0.000000</td>\n",
       "      <td>0.000000</td>\n",
       "      <td>0.000000</td>\n",
       "      <td>0.000000</td>\n",
       "      <td>0.000000</td>\n",
       "      <td>0.000000</td>\n",
       "    </tr>\n",
       "    <tr>\n",
       "      <th>50%</th>\n",
       "      <td>-8.743157e-01</td>\n",
       "      <td>-4.332946e-01</td>\n",
       "      <td>-2.694178e-01</td>\n",
       "      <td>-2.182315e-01</td>\n",
       "      <td>3.250199e-03</td>\n",
       "      <td>4.592124e-03</td>\n",
       "      <td>33.437500</td>\n",
       "      <td>0.000000</td>\n",
       "      <td>0.000000</td>\n",
       "      <td>1.000000</td>\n",
       "      <td>...</td>\n",
       "      <td>0.000000</td>\n",
       "      <td>0.000000</td>\n",
       "      <td>0.000000</td>\n",
       "      <td>0.000000</td>\n",
       "      <td>0.000000</td>\n",
       "      <td>0.000000</td>\n",
       "      <td>0.000000</td>\n",
       "      <td>0.000000</td>\n",
       "      <td>0.000000</td>\n",
       "      <td>0.000000</td>\n",
       "    </tr>\n",
       "    <tr>\n",
       "      <th>75%</th>\n",
       "      <td>1.452785e+00</td>\n",
       "      <td>9.916381e-01</td>\n",
       "      <td>6.034930e-01</td>\n",
       "      <td>7.427011e-01</td>\n",
       "      <td>5.395331e-01</td>\n",
       "      <td>8.128060e-01</td>\n",
       "      <td>39.750000</td>\n",
       "      <td>0.000000</td>\n",
       "      <td>0.000000</td>\n",
       "      <td>1.000000</td>\n",
       "      <td>...</td>\n",
       "      <td>0.000000</td>\n",
       "      <td>0.000000</td>\n",
       "      <td>0.000000</td>\n",
       "      <td>0.000000</td>\n",
       "      <td>0.000000</td>\n",
       "      <td>0.000000</td>\n",
       "      <td>0.000000</td>\n",
       "      <td>0.000000</td>\n",
       "      <td>0.000000</td>\n",
       "      <td>0.000000</td>\n",
       "    </tr>\n",
       "    <tr>\n",
       "      <th>max</th>\n",
       "      <td>1.452785e+00</td>\n",
       "      <td>2.435444e+00</td>\n",
       "      <td>3.171252e+00</td>\n",
       "      <td>2.496979e+00</td>\n",
       "      <td>3.328204e+00</td>\n",
       "      <td>1.621020e+00</td>\n",
       "      <td>56.875000</td>\n",
       "      <td>1.000000</td>\n",
       "      <td>1.000000</td>\n",
       "      <td>1.000000</td>\n",
       "      <td>...</td>\n",
       "      <td>1.000000</td>\n",
       "      <td>1.000000</td>\n",
       "      <td>1.000000</td>\n",
       "      <td>1.000000</td>\n",
       "      <td>1.000000</td>\n",
       "      <td>1.000000</td>\n",
       "      <td>1.000000</td>\n",
       "      <td>1.000000</td>\n",
       "      <td>1.000000</td>\n",
       "      <td>1.000000</td>\n",
       "    </tr>\n",
       "  </tbody>\n",
       "</table>\n",
       "<p>8 rows × 294 columns</p>\n",
       "</div>"
      ],
      "text/plain": [
       "          cylinders  displacement    horsepower        weight  acceleration  \\\n",
       "count  3.520000e+02  3.520000e+02  3.520000e+02  3.520000e+02  3.520000e+02   \n",
       "mean  -2.775558e-17 -2.365532e-17 -1.681105e-16 -8.705158e-17  8.618422e-16   \n",
       "std    1.001423e+00  1.001423e+00  1.001423e+00  1.001423e+00  1.001423e+00   \n",
       "min   -1.456091e+00 -1.216536e+00 -1.518254e+00 -1.614892e+00 -2.678164e+00   \n",
       "25%   -8.743157e-01 -8.673800e-01 -7.345454e-01 -8.926622e-01 -6.849795e-01   \n",
       "50%   -8.743157e-01 -4.332946e-01 -2.694178e-01 -2.182315e-01  3.250199e-03   \n",
       "75%    1.452785e+00  9.916381e-01  6.034930e-01  7.427011e-01  5.395331e-01   \n",
       "max    1.452785e+00  2.435444e+00  3.171252e+00  2.496979e+00  3.328204e+00   \n",
       "\n",
       "         model_year  displacement/cylinder   x0_europe    x0_japan  \\\n",
       "count  3.520000e+02             352.000000  352.000000  352.000000   \n",
       "mean  -3.671306e-16              33.651515    0.176136    0.184659   \n",
       "std    1.001423e+00               8.783269    0.381478    0.388573   \n",
       "min   -1.611836e+00              17.000000    0.000000    0.000000   \n",
       "25%   -8.036217e-01              25.958333    0.000000    0.000000   \n",
       "50%    4.592124e-03              33.437500    0.000000    0.000000   \n",
       "75%    8.128060e-01              39.750000    0.000000    0.000000   \n",
       "max    1.621020e+00              56.875000    1.000000    1.000000   \n",
       "\n",
       "           x0_usa  ...      volare  volkswagen       volvo          vw  \\\n",
       "count  352.000000  ...  352.000000  352.000000  352.000000  352.000000   \n",
       "mean     0.639205  ...    0.008523    0.039773    0.014205    0.017045   \n",
       "std      0.480915  ...    0.092055    0.195703    0.118502    0.129625   \n",
       "min      0.000000  ...    0.000000    0.000000    0.000000    0.000000   \n",
       "25%      0.000000  ...    0.000000    0.000000    0.000000    0.000000   \n",
       "50%      1.000000  ...    0.000000    0.000000    0.000000    0.000000   \n",
       "75%      1.000000  ...    0.000000    0.000000    0.000000    0.000000   \n",
       "max      1.000000  ...    1.000000    1.000000    1.000000    1.000000   \n",
       "\n",
       "            wagon       woody          xe      yorker      zephyr          zx  \n",
       "count  352.000000  352.000000  352.000000  352.000000  352.000000  352.000000  \n",
       "mean     0.011364    0.002841    0.002841    0.002841    0.005682    0.002841  \n",
       "std      0.106144    0.053300    0.053300    0.053300    0.075270    0.053300  \n",
       "min      0.000000    0.000000    0.000000    0.000000    0.000000    0.000000  \n",
       "25%      0.000000    0.000000    0.000000    0.000000    0.000000    0.000000  \n",
       "50%      0.000000    0.000000    0.000000    0.000000    0.000000    0.000000  \n",
       "75%      0.000000    0.000000    0.000000    0.000000    0.000000    0.000000  \n",
       "max      1.000000    1.000000    1.000000    1.000000    1.000000    1.000000  \n",
       "\n",
       "[8 rows x 294 columns]"
      ]
     },
     "execution_count": 48,
     "metadata": {},
     "output_type": "execute_result"
    }
   ],
   "source": [
    "def name_design_matrix_std(df):\n",
    "    X = name_design_matrix(df)\n",
    "    X[quantitative_features] = scaler.transform(X[quantitative_features])\n",
    "    return X\n",
    "\n",
    "name_design_matrix_std(tr)\n",
    "name_design_matrix_std(tr).describe()"
   ]
  },
  {
   "cell_type": "code",
   "execution_count": 49,
   "metadata": {},
   "outputs": [
    {
     "data": {
      "text/plain": [
       "3.1168076796252744"
      ]
     },
     "execution_count": 49,
     "metadata": {},
     "output_type": "execute_result"
    }
   ],
   "source": [
    "cross_validate_rmse(name_design_matrix_std, Ridge(alpha = .5))"
   ]
  },
  {
   "cell_type": "markdown",
   "metadata": {},
   "source": [
    "That looks more like it. Let's add this model into our set:"
   ]
  },
  {
   "cell_type": "code",
   "execution_count": 50,
   "metadata": {},
   "outputs": [],
   "source": [
    "models['quant+dc+o+n-Ridge.5'] = (name_design_matrix_std,  Ridge(alpha = .5))"
   ]
  },
  {
   "cell_type": "code",
   "execution_count": 51,
   "metadata": {},
   "outputs": [
    {
     "data": {
      "application/vnd.plotly.v1+json": {
       "config": {
        "plotlyServerURL": "https://plot.ly"
       },
       "data": [
        {
         "name": "Training RMSE",
         "type": "bar",
         "x": [
          "quant",
          "quant+dc",
          "quant+dc+o",
          "quant+dc+o+b",
          "quant+dc+o+n-Ridge.5"
         ],
         "y": [
          3.3745826999424575,
          3.0333093446259114,
          3.012941172853171,
          2.8544602711982514,
          1.5526480372681277
         ]
        },
        {
         "name": "CV RMSE",
         "type": "bar",
         "x": [
          "quant",
          "quant+dc",
          "quant+dc+o",
          "quant+dc+o+b",
          "quant+dc+o+n-Ridge.5"
         ],
         "y": [
          3.455901515616253,
          3.1113159765045713,
          3.1207285180151887,
          3.191957976808454,
          3.1168076796252744
         ]
        }
       ],
       "layout": {
        "template": {
         "data": {
          "bar": [
           {
            "error_x": {
             "color": "#2a3f5f"
            },
            "error_y": {
             "color": "#2a3f5f"
            },
            "marker": {
             "line": {
              "color": "#E5ECF6",
              "width": 0.5
             },
             "pattern": {
              "fillmode": "overlay",
              "size": 10,
              "solidity": 0.2
             }
            },
            "type": "bar"
           }
          ],
          "barpolar": [
           {
            "marker": {
             "line": {
              "color": "#E5ECF6",
              "width": 0.5
             },
             "pattern": {
              "fillmode": "overlay",
              "size": 10,
              "solidity": 0.2
             }
            },
            "type": "barpolar"
           }
          ],
          "carpet": [
           {
            "aaxis": {
             "endlinecolor": "#2a3f5f",
             "gridcolor": "white",
             "linecolor": "white",
             "minorgridcolor": "white",
             "startlinecolor": "#2a3f5f"
            },
            "baxis": {
             "endlinecolor": "#2a3f5f",
             "gridcolor": "white",
             "linecolor": "white",
             "minorgridcolor": "white",
             "startlinecolor": "#2a3f5f"
            },
            "type": "carpet"
           }
          ],
          "choropleth": [
           {
            "colorbar": {
             "outlinewidth": 0,
             "ticks": ""
            },
            "type": "choropleth"
           }
          ],
          "contour": [
           {
            "colorbar": {
             "outlinewidth": 0,
             "ticks": ""
            },
            "colorscale": [
             [
              0,
              "#0d0887"
             ],
             [
              0.1111111111111111,
              "#46039f"
             ],
             [
              0.2222222222222222,
              "#7201a8"
             ],
             [
              0.3333333333333333,
              "#9c179e"
             ],
             [
              0.4444444444444444,
              "#bd3786"
             ],
             [
              0.5555555555555556,
              "#d8576b"
             ],
             [
              0.6666666666666666,
              "#ed7953"
             ],
             [
              0.7777777777777778,
              "#fb9f3a"
             ],
             [
              0.8888888888888888,
              "#fdca26"
             ],
             [
              1,
              "#f0f921"
             ]
            ],
            "type": "contour"
           }
          ],
          "contourcarpet": [
           {
            "colorbar": {
             "outlinewidth": 0,
             "ticks": ""
            },
            "type": "contourcarpet"
           }
          ],
          "heatmap": [
           {
            "colorbar": {
             "outlinewidth": 0,
             "ticks": ""
            },
            "colorscale": [
             [
              0,
              "#0d0887"
             ],
             [
              0.1111111111111111,
              "#46039f"
             ],
             [
              0.2222222222222222,
              "#7201a8"
             ],
             [
              0.3333333333333333,
              "#9c179e"
             ],
             [
              0.4444444444444444,
              "#bd3786"
             ],
             [
              0.5555555555555556,
              "#d8576b"
             ],
             [
              0.6666666666666666,
              "#ed7953"
             ],
             [
              0.7777777777777778,
              "#fb9f3a"
             ],
             [
              0.8888888888888888,
              "#fdca26"
             ],
             [
              1,
              "#f0f921"
             ]
            ],
            "type": "heatmap"
           }
          ],
          "heatmapgl": [
           {
            "colorbar": {
             "outlinewidth": 0,
             "ticks": ""
            },
            "colorscale": [
             [
              0,
              "#0d0887"
             ],
             [
              0.1111111111111111,
              "#46039f"
             ],
             [
              0.2222222222222222,
              "#7201a8"
             ],
             [
              0.3333333333333333,
              "#9c179e"
             ],
             [
              0.4444444444444444,
              "#bd3786"
             ],
             [
              0.5555555555555556,
              "#d8576b"
             ],
             [
              0.6666666666666666,
              "#ed7953"
             ],
             [
              0.7777777777777778,
              "#fb9f3a"
             ],
             [
              0.8888888888888888,
              "#fdca26"
             ],
             [
              1,
              "#f0f921"
             ]
            ],
            "type": "heatmapgl"
           }
          ],
          "histogram": [
           {
            "marker": {
             "pattern": {
              "fillmode": "overlay",
              "size": 10,
              "solidity": 0.2
             }
            },
            "type": "histogram"
           }
          ],
          "histogram2d": [
           {
            "colorbar": {
             "outlinewidth": 0,
             "ticks": ""
            },
            "colorscale": [
             [
              0,
              "#0d0887"
             ],
             [
              0.1111111111111111,
              "#46039f"
             ],
             [
              0.2222222222222222,
              "#7201a8"
             ],
             [
              0.3333333333333333,
              "#9c179e"
             ],
             [
              0.4444444444444444,
              "#bd3786"
             ],
             [
              0.5555555555555556,
              "#d8576b"
             ],
             [
              0.6666666666666666,
              "#ed7953"
             ],
             [
              0.7777777777777778,
              "#fb9f3a"
             ],
             [
              0.8888888888888888,
              "#fdca26"
             ],
             [
              1,
              "#f0f921"
             ]
            ],
            "type": "histogram2d"
           }
          ],
          "histogram2dcontour": [
           {
            "colorbar": {
             "outlinewidth": 0,
             "ticks": ""
            },
            "colorscale": [
             [
              0,
              "#0d0887"
             ],
             [
              0.1111111111111111,
              "#46039f"
             ],
             [
              0.2222222222222222,
              "#7201a8"
             ],
             [
              0.3333333333333333,
              "#9c179e"
             ],
             [
              0.4444444444444444,
              "#bd3786"
             ],
             [
              0.5555555555555556,
              "#d8576b"
             ],
             [
              0.6666666666666666,
              "#ed7953"
             ],
             [
              0.7777777777777778,
              "#fb9f3a"
             ],
             [
              0.8888888888888888,
              "#fdca26"
             ],
             [
              1,
              "#f0f921"
             ]
            ],
            "type": "histogram2dcontour"
           }
          ],
          "mesh3d": [
           {
            "colorbar": {
             "outlinewidth": 0,
             "ticks": ""
            },
            "type": "mesh3d"
           }
          ],
          "parcoords": [
           {
            "line": {
             "colorbar": {
              "outlinewidth": 0,
              "ticks": ""
             }
            },
            "type": "parcoords"
           }
          ],
          "pie": [
           {
            "automargin": true,
            "type": "pie"
           }
          ],
          "scatter": [
           {
            "marker": {
             "colorbar": {
              "outlinewidth": 0,
              "ticks": ""
             }
            },
            "type": "scatter"
           }
          ],
          "scatter3d": [
           {
            "line": {
             "colorbar": {
              "outlinewidth": 0,
              "ticks": ""
             }
            },
            "marker": {
             "colorbar": {
              "outlinewidth": 0,
              "ticks": ""
             }
            },
            "type": "scatter3d"
           }
          ],
          "scattercarpet": [
           {
            "marker": {
             "colorbar": {
              "outlinewidth": 0,
              "ticks": ""
             }
            },
            "type": "scattercarpet"
           }
          ],
          "scattergeo": [
           {
            "marker": {
             "colorbar": {
              "outlinewidth": 0,
              "ticks": ""
             }
            },
            "type": "scattergeo"
           }
          ],
          "scattergl": [
           {
            "marker": {
             "colorbar": {
              "outlinewidth": 0,
              "ticks": ""
             }
            },
            "type": "scattergl"
           }
          ],
          "scattermapbox": [
           {
            "marker": {
             "colorbar": {
              "outlinewidth": 0,
              "ticks": ""
             }
            },
            "type": "scattermapbox"
           }
          ],
          "scatterpolar": [
           {
            "marker": {
             "colorbar": {
              "outlinewidth": 0,
              "ticks": ""
             }
            },
            "type": "scatterpolar"
           }
          ],
          "scatterpolargl": [
           {
            "marker": {
             "colorbar": {
              "outlinewidth": 0,
              "ticks": ""
             }
            },
            "type": "scatterpolargl"
           }
          ],
          "scatterternary": [
           {
            "marker": {
             "colorbar": {
              "outlinewidth": 0,
              "ticks": ""
             }
            },
            "type": "scatterternary"
           }
          ],
          "surface": [
           {
            "colorbar": {
             "outlinewidth": 0,
             "ticks": ""
            },
            "colorscale": [
             [
              0,
              "#0d0887"
             ],
             [
              0.1111111111111111,
              "#46039f"
             ],
             [
              0.2222222222222222,
              "#7201a8"
             ],
             [
              0.3333333333333333,
              "#9c179e"
             ],
             [
              0.4444444444444444,
              "#bd3786"
             ],
             [
              0.5555555555555556,
              "#d8576b"
             ],
             [
              0.6666666666666666,
              "#ed7953"
             ],
             [
              0.7777777777777778,
              "#fb9f3a"
             ],
             [
              0.8888888888888888,
              "#fdca26"
             ],
             [
              1,
              "#f0f921"
             ]
            ],
            "type": "surface"
           }
          ],
          "table": [
           {
            "cells": {
             "fill": {
              "color": "#EBF0F8"
             },
             "line": {
              "color": "white"
             }
            },
            "header": {
             "fill": {
              "color": "#C8D4E3"
             },
             "line": {
              "color": "white"
             }
            },
            "type": "table"
           }
          ]
         },
         "layout": {
          "annotationdefaults": {
           "arrowcolor": "#2a3f5f",
           "arrowhead": 0,
           "arrowwidth": 1
          },
          "autotypenumbers": "strict",
          "coloraxis": {
           "colorbar": {
            "outlinewidth": 0,
            "ticks": ""
           }
          },
          "colorscale": {
           "diverging": [
            [
             0,
             "#8e0152"
            ],
            [
             0.1,
             "#c51b7d"
            ],
            [
             0.2,
             "#de77ae"
            ],
            [
             0.3,
             "#f1b6da"
            ],
            [
             0.4,
             "#fde0ef"
            ],
            [
             0.5,
             "#f7f7f7"
            ],
            [
             0.6,
             "#e6f5d0"
            ],
            [
             0.7,
             "#b8e186"
            ],
            [
             0.8,
             "#7fbc41"
            ],
            [
             0.9,
             "#4d9221"
            ],
            [
             1,
             "#276419"
            ]
           ],
           "sequential": [
            [
             0,
             "#0d0887"
            ],
            [
             0.1111111111111111,
             "#46039f"
            ],
            [
             0.2222222222222222,
             "#7201a8"
            ],
            [
             0.3333333333333333,
             "#9c179e"
            ],
            [
             0.4444444444444444,
             "#bd3786"
            ],
            [
             0.5555555555555556,
             "#d8576b"
            ],
            [
             0.6666666666666666,
             "#ed7953"
            ],
            [
             0.7777777777777778,
             "#fb9f3a"
            ],
            [
             0.8888888888888888,
             "#fdca26"
            ],
            [
             1,
             "#f0f921"
            ]
           ],
           "sequentialminus": [
            [
             0,
             "#0d0887"
            ],
            [
             0.1111111111111111,
             "#46039f"
            ],
            [
             0.2222222222222222,
             "#7201a8"
            ],
            [
             0.3333333333333333,
             "#9c179e"
            ],
            [
             0.4444444444444444,
             "#bd3786"
            ],
            [
             0.5555555555555556,
             "#d8576b"
            ],
            [
             0.6666666666666666,
             "#ed7953"
            ],
            [
             0.7777777777777778,
             "#fb9f3a"
            ],
            [
             0.8888888888888888,
             "#fdca26"
            ],
            [
             1,
             "#f0f921"
            ]
           ]
          },
          "colorway": [
           "#636efa",
           "#EF553B",
           "#00cc96",
           "#ab63fa",
           "#FFA15A",
           "#19d3f3",
           "#FF6692",
           "#B6E880",
           "#FF97FF",
           "#FECB52"
          ],
          "font": {
           "color": "#2a3f5f"
          },
          "geo": {
           "bgcolor": "white",
           "lakecolor": "white",
           "landcolor": "#E5ECF6",
           "showlakes": true,
           "showland": true,
           "subunitcolor": "white"
          },
          "hoverlabel": {
           "align": "left"
          },
          "hovermode": "closest",
          "mapbox": {
           "style": "light"
          },
          "paper_bgcolor": "white",
          "plot_bgcolor": "#E5ECF6",
          "polar": {
           "angularaxis": {
            "gridcolor": "white",
            "linecolor": "white",
            "ticks": ""
           },
           "bgcolor": "#E5ECF6",
           "radialaxis": {
            "gridcolor": "white",
            "linecolor": "white",
            "ticks": ""
           }
          },
          "scene": {
           "xaxis": {
            "backgroundcolor": "#E5ECF6",
            "gridcolor": "white",
            "gridwidth": 2,
            "linecolor": "white",
            "showbackground": true,
            "ticks": "",
            "zerolinecolor": "white"
           },
           "yaxis": {
            "backgroundcolor": "#E5ECF6",
            "gridcolor": "white",
            "gridwidth": 2,
            "linecolor": "white",
            "showbackground": true,
            "ticks": "",
            "zerolinecolor": "white"
           },
           "zaxis": {
            "backgroundcolor": "#E5ECF6",
            "gridcolor": "white",
            "gridwidth": 2,
            "linecolor": "white",
            "showbackground": true,
            "ticks": "",
            "zerolinecolor": "white"
           }
          },
          "shapedefaults": {
           "line": {
            "color": "#2a3f5f"
           }
          },
          "ternary": {
           "aaxis": {
            "gridcolor": "white",
            "linecolor": "white",
            "ticks": ""
           },
           "baxis": {
            "gridcolor": "white",
            "linecolor": "white",
            "ticks": ""
           },
           "bgcolor": "#E5ECF6",
           "caxis": {
            "gridcolor": "white",
            "linecolor": "white",
            "ticks": ""
           }
          },
          "title": {
           "x": 0.05
          },
          "xaxis": {
           "automargin": true,
           "gridcolor": "white",
           "linecolor": "white",
           "ticks": "",
           "title": {
            "standoff": 15
           },
           "zerolinecolor": "white",
           "zerolinewidth": 2
          },
          "yaxis": {
           "automargin": true,
           "gridcolor": "white",
           "linecolor": "white",
           "ticks": "",
           "title": {
            "standoff": 15
           },
           "zerolinecolor": "white",
           "zerolinewidth": 2
          }
         }
        },
        "yaxis": {
         "range": [
          0,
          4
         ],
         "title": {
          "text": "RMSE"
         }
        }
       }
      },
      "text/html": [
       "<div>                            <div id=\"76e61a11-e962-4391-8dea-f7ea3e5c3ac8\" class=\"plotly-graph-div\" style=\"height:525px; width:100%;\"></div>            <script type=\"text/javascript\">                require([\"plotly\"], function(Plotly) {                    window.PLOTLYENV=window.PLOTLYENV || {};                                    if (document.getElementById(\"76e61a11-e962-4391-8dea-f7ea3e5c3ac8\")) {                    Plotly.newPlot(                        \"76e61a11-e962-4391-8dea-f7ea3e5c3ac8\",                        [{\"name\":\"Training RMSE\",\"type\":\"bar\",\"x\":[\"quant\",\"quant+dc\",\"quant+dc+o\",\"quant+dc+o+b\",\"quant+dc+o+n-Ridge.5\"],\"y\":[3.3745826999424575,3.0333093446259114,3.012941172853171,2.8544602711982514,1.5526480372681277]},{\"name\":\"CV RMSE\",\"type\":\"bar\",\"x\":[\"quant\",\"quant+dc\",\"quant+dc+o\",\"quant+dc+o+b\",\"quant+dc+o+n-Ridge.5\"],\"y\":[3.455901515616253,3.1113159765045713,3.1207285180151887,3.191957976808454,3.1168076796252744]}],                        {\"template\":{\"data\":{\"bar\":[{\"error_x\":{\"color\":\"#2a3f5f\"},\"error_y\":{\"color\":\"#2a3f5f\"},\"marker\":{\"line\":{\"color\":\"#E5ECF6\",\"width\":0.5},\"pattern\":{\"fillmode\":\"overlay\",\"size\":10,\"solidity\":0.2}},\"type\":\"bar\"}],\"barpolar\":[{\"marker\":{\"line\":{\"color\":\"#E5ECF6\",\"width\":0.5},\"pattern\":{\"fillmode\":\"overlay\",\"size\":10,\"solidity\":0.2}},\"type\":\"barpolar\"}],\"carpet\":[{\"aaxis\":{\"endlinecolor\":\"#2a3f5f\",\"gridcolor\":\"white\",\"linecolor\":\"white\",\"minorgridcolor\":\"white\",\"startlinecolor\":\"#2a3f5f\"},\"baxis\":{\"endlinecolor\":\"#2a3f5f\",\"gridcolor\":\"white\",\"linecolor\":\"white\",\"minorgridcolor\":\"white\",\"startlinecolor\":\"#2a3f5f\"},\"type\":\"carpet\"}],\"choropleth\":[{\"colorbar\":{\"outlinewidth\":0,\"ticks\":\"\"},\"type\":\"choropleth\"}],\"contour\":[{\"colorbar\":{\"outlinewidth\":0,\"ticks\":\"\"},\"colorscale\":[[0.0,\"#0d0887\"],[0.1111111111111111,\"#46039f\"],[0.2222222222222222,\"#7201a8\"],[0.3333333333333333,\"#9c179e\"],[0.4444444444444444,\"#bd3786\"],[0.5555555555555556,\"#d8576b\"],[0.6666666666666666,\"#ed7953\"],[0.7777777777777778,\"#fb9f3a\"],[0.8888888888888888,\"#fdca26\"],[1.0,\"#f0f921\"]],\"type\":\"contour\"}],\"contourcarpet\":[{\"colorbar\":{\"outlinewidth\":0,\"ticks\":\"\"},\"type\":\"contourcarpet\"}],\"heatmap\":[{\"colorbar\":{\"outlinewidth\":0,\"ticks\":\"\"},\"colorscale\":[[0.0,\"#0d0887\"],[0.1111111111111111,\"#46039f\"],[0.2222222222222222,\"#7201a8\"],[0.3333333333333333,\"#9c179e\"],[0.4444444444444444,\"#bd3786\"],[0.5555555555555556,\"#d8576b\"],[0.6666666666666666,\"#ed7953\"],[0.7777777777777778,\"#fb9f3a\"],[0.8888888888888888,\"#fdca26\"],[1.0,\"#f0f921\"]],\"type\":\"heatmap\"}],\"heatmapgl\":[{\"colorbar\":{\"outlinewidth\":0,\"ticks\":\"\"},\"colorscale\":[[0.0,\"#0d0887\"],[0.1111111111111111,\"#46039f\"],[0.2222222222222222,\"#7201a8\"],[0.3333333333333333,\"#9c179e\"],[0.4444444444444444,\"#bd3786\"],[0.5555555555555556,\"#d8576b\"],[0.6666666666666666,\"#ed7953\"],[0.7777777777777778,\"#fb9f3a\"],[0.8888888888888888,\"#fdca26\"],[1.0,\"#f0f921\"]],\"type\":\"heatmapgl\"}],\"histogram\":[{\"marker\":{\"pattern\":{\"fillmode\":\"overlay\",\"size\":10,\"solidity\":0.2}},\"type\":\"histogram\"}],\"histogram2d\":[{\"colorbar\":{\"outlinewidth\":0,\"ticks\":\"\"},\"colorscale\":[[0.0,\"#0d0887\"],[0.1111111111111111,\"#46039f\"],[0.2222222222222222,\"#7201a8\"],[0.3333333333333333,\"#9c179e\"],[0.4444444444444444,\"#bd3786\"],[0.5555555555555556,\"#d8576b\"],[0.6666666666666666,\"#ed7953\"],[0.7777777777777778,\"#fb9f3a\"],[0.8888888888888888,\"#fdca26\"],[1.0,\"#f0f921\"]],\"type\":\"histogram2d\"}],\"histogram2dcontour\":[{\"colorbar\":{\"outlinewidth\":0,\"ticks\":\"\"},\"colorscale\":[[0.0,\"#0d0887\"],[0.1111111111111111,\"#46039f\"],[0.2222222222222222,\"#7201a8\"],[0.3333333333333333,\"#9c179e\"],[0.4444444444444444,\"#bd3786\"],[0.5555555555555556,\"#d8576b\"],[0.6666666666666666,\"#ed7953\"],[0.7777777777777778,\"#fb9f3a\"],[0.8888888888888888,\"#fdca26\"],[1.0,\"#f0f921\"]],\"type\":\"histogram2dcontour\"}],\"mesh3d\":[{\"colorbar\":{\"outlinewidth\":0,\"ticks\":\"\"},\"type\":\"mesh3d\"}],\"parcoords\":[{\"line\":{\"colorbar\":{\"outlinewidth\":0,\"ticks\":\"\"}},\"type\":\"parcoords\"}],\"pie\":[{\"automargin\":true,\"type\":\"pie\"}],\"scatter\":[{\"marker\":{\"colorbar\":{\"outlinewidth\":0,\"ticks\":\"\"}},\"type\":\"scatter\"}],\"scatter3d\":[{\"line\":{\"colorbar\":{\"outlinewidth\":0,\"ticks\":\"\"}},\"marker\":{\"colorbar\":{\"outlinewidth\":0,\"ticks\":\"\"}},\"type\":\"scatter3d\"}],\"scattercarpet\":[{\"marker\":{\"colorbar\":{\"outlinewidth\":0,\"ticks\":\"\"}},\"type\":\"scattercarpet\"}],\"scattergeo\":[{\"marker\":{\"colorbar\":{\"outlinewidth\":0,\"ticks\":\"\"}},\"type\":\"scattergeo\"}],\"scattergl\":[{\"marker\":{\"colorbar\":{\"outlinewidth\":0,\"ticks\":\"\"}},\"type\":\"scattergl\"}],\"scattermapbox\":[{\"marker\":{\"colorbar\":{\"outlinewidth\":0,\"ticks\":\"\"}},\"type\":\"scattermapbox\"}],\"scatterpolar\":[{\"marker\":{\"colorbar\":{\"outlinewidth\":0,\"ticks\":\"\"}},\"type\":\"scatterpolar\"}],\"scatterpolargl\":[{\"marker\":{\"colorbar\":{\"outlinewidth\":0,\"ticks\":\"\"}},\"type\":\"scatterpolargl\"}],\"scatterternary\":[{\"marker\":{\"colorbar\":{\"outlinewidth\":0,\"ticks\":\"\"}},\"type\":\"scatterternary\"}],\"surface\":[{\"colorbar\":{\"outlinewidth\":0,\"ticks\":\"\"},\"colorscale\":[[0.0,\"#0d0887\"],[0.1111111111111111,\"#46039f\"],[0.2222222222222222,\"#7201a8\"],[0.3333333333333333,\"#9c179e\"],[0.4444444444444444,\"#bd3786\"],[0.5555555555555556,\"#d8576b\"],[0.6666666666666666,\"#ed7953\"],[0.7777777777777778,\"#fb9f3a\"],[0.8888888888888888,\"#fdca26\"],[1.0,\"#f0f921\"]],\"type\":\"surface\"}],\"table\":[{\"cells\":{\"fill\":{\"color\":\"#EBF0F8\"},\"line\":{\"color\":\"white\"}},\"header\":{\"fill\":{\"color\":\"#C8D4E3\"},\"line\":{\"color\":\"white\"}},\"type\":\"table\"}]},\"layout\":{\"annotationdefaults\":{\"arrowcolor\":\"#2a3f5f\",\"arrowhead\":0,\"arrowwidth\":1},\"autotypenumbers\":\"strict\",\"coloraxis\":{\"colorbar\":{\"outlinewidth\":0,\"ticks\":\"\"}},\"colorscale\":{\"diverging\":[[0,\"#8e0152\"],[0.1,\"#c51b7d\"],[0.2,\"#de77ae\"],[0.3,\"#f1b6da\"],[0.4,\"#fde0ef\"],[0.5,\"#f7f7f7\"],[0.6,\"#e6f5d0\"],[0.7,\"#b8e186\"],[0.8,\"#7fbc41\"],[0.9,\"#4d9221\"],[1,\"#276419\"]],\"sequential\":[[0.0,\"#0d0887\"],[0.1111111111111111,\"#46039f\"],[0.2222222222222222,\"#7201a8\"],[0.3333333333333333,\"#9c179e\"],[0.4444444444444444,\"#bd3786\"],[0.5555555555555556,\"#d8576b\"],[0.6666666666666666,\"#ed7953\"],[0.7777777777777778,\"#fb9f3a\"],[0.8888888888888888,\"#fdca26\"],[1.0,\"#f0f921\"]],\"sequentialminus\":[[0.0,\"#0d0887\"],[0.1111111111111111,\"#46039f\"],[0.2222222222222222,\"#7201a8\"],[0.3333333333333333,\"#9c179e\"],[0.4444444444444444,\"#bd3786\"],[0.5555555555555556,\"#d8576b\"],[0.6666666666666666,\"#ed7953\"],[0.7777777777777778,\"#fb9f3a\"],[0.8888888888888888,\"#fdca26\"],[1.0,\"#f0f921\"]]},\"colorway\":[\"#636efa\",\"#EF553B\",\"#00cc96\",\"#ab63fa\",\"#FFA15A\",\"#19d3f3\",\"#FF6692\",\"#B6E880\",\"#FF97FF\",\"#FECB52\"],\"font\":{\"color\":\"#2a3f5f\"},\"geo\":{\"bgcolor\":\"white\",\"lakecolor\":\"white\",\"landcolor\":\"#E5ECF6\",\"showlakes\":true,\"showland\":true,\"subunitcolor\":\"white\"},\"hoverlabel\":{\"align\":\"left\"},\"hovermode\":\"closest\",\"mapbox\":{\"style\":\"light\"},\"paper_bgcolor\":\"white\",\"plot_bgcolor\":\"#E5ECF6\",\"polar\":{\"angularaxis\":{\"gridcolor\":\"white\",\"linecolor\":\"white\",\"ticks\":\"\"},\"bgcolor\":\"#E5ECF6\",\"radialaxis\":{\"gridcolor\":\"white\",\"linecolor\":\"white\",\"ticks\":\"\"}},\"scene\":{\"xaxis\":{\"backgroundcolor\":\"#E5ECF6\",\"gridcolor\":\"white\",\"gridwidth\":2,\"linecolor\":\"white\",\"showbackground\":true,\"ticks\":\"\",\"zerolinecolor\":\"white\"},\"yaxis\":{\"backgroundcolor\":\"#E5ECF6\",\"gridcolor\":\"white\",\"gridwidth\":2,\"linecolor\":\"white\",\"showbackground\":true,\"ticks\":\"\",\"zerolinecolor\":\"white\"},\"zaxis\":{\"backgroundcolor\":\"#E5ECF6\",\"gridcolor\":\"white\",\"gridwidth\":2,\"linecolor\":\"white\",\"showbackground\":true,\"ticks\":\"\",\"zerolinecolor\":\"white\"}},\"shapedefaults\":{\"line\":{\"color\":\"#2a3f5f\"}},\"ternary\":{\"aaxis\":{\"gridcolor\":\"white\",\"linecolor\":\"white\",\"ticks\":\"\"},\"baxis\":{\"gridcolor\":\"white\",\"linecolor\":\"white\",\"ticks\":\"\"},\"bgcolor\":\"#E5ECF6\",\"caxis\":{\"gridcolor\":\"white\",\"linecolor\":\"white\",\"ticks\":\"\"}},\"title\":{\"x\":0.05},\"xaxis\":{\"automargin\":true,\"gridcolor\":\"white\",\"linecolor\":\"white\",\"ticks\":\"\",\"title\":{\"standoff\":15},\"zerolinecolor\":\"white\",\"zerolinewidth\":2},\"yaxis\":{\"automargin\":true,\"gridcolor\":\"white\",\"linecolor\":\"white\",\"ticks\":\"\",\"title\":{\"standoff\":15},\"zerolinecolor\":\"white\",\"zerolinewidth\":2}}},\"yaxis\":{\"range\":[0,4],\"title\":{\"text\":\"RMSE\"}}},                        {\"responsive\": true}                    ).then(function(){\n",
       "                            \n",
       "var gd = document.getElementById('76e61a11-e962-4391-8dea-f7ea3e5c3ac8');\n",
       "var x = new MutationObserver(function (mutations, observer) {{\n",
       "        var display = window.getComputedStyle(gd).display;\n",
       "        if (!display || display === 'none') {{\n",
       "            console.log([gd, 'removed!']);\n",
       "            Plotly.purge(gd);\n",
       "            observer.disconnect();\n",
       "        }}\n",
       "}});\n",
       "\n",
       "// Listen for the removal of the full notebook cells\n",
       "var notebookContainer = gd.closest('#notebook-container');\n",
       "if (notebookContainer) {{\n",
       "    x.observe(notebookContainer, {childList: true});\n",
       "}}\n",
       "\n",
       "// Listen for the clearing of the current output cell\n",
       "var outputEl = gd.closest('.output');\n",
       "if (outputEl) {{\n",
       "    x.observe(outputEl, {childList: true});\n",
       "}}\n",
       "\n",
       "                        })                };                });            </script>        </div>"
      ]
     },
     "metadata": {},
     "output_type": "display_data"
    }
   ],
   "source": [
    "fig = compare_models(models)\n",
    "fig.update_yaxes(range = [0, 4], title = \"RMSE\")"
   ]
  },
  {
   "cell_type": "markdown",
   "metadata": {},
   "source": [
    "Notice how our training error dropped significantly, but our CV error only changed a little bit. Let's try a different value of $\\alpha$:"
   ]
  },
  {
   "cell_type": "code",
   "execution_count": 52,
   "metadata": {},
   "outputs": [],
   "source": [
    "models['quant+dc+o+n-Ridge100'] = (name_design_matrix_std, Ridge(alpha = 100))"
   ]
  },
  {
   "cell_type": "code",
   "execution_count": 67,
   "metadata": {},
   "outputs": [
    {
     "data": {
      "application/vnd.plotly.v1+json": {
       "config": {
        "plotlyServerURL": "https://plot.ly"
       },
       "data": [
        {
         "name": "Training RMSE",
         "type": "bar",
         "x": [
          "quant",
          "quant+dc",
          "quant+dc+o",
          "quant+dc+o+b",
          "quant+dc+o+n-Ridge.5",
          "quant+dc+o+n-Ridge100",
          "quant+dc+o+n-Ridge1.75",
          "quant+dc+o+n-RidgeCV",
          "quant+dc+o+n-LassoCV"
         ],
         "y": [
          3.3745826999424575,
          3.0333093446259114,
          3.012941172853171,
          2.8544602711982514,
          1.5526480372681277,
          3.396301099326064,
          1.9166640085970117,
          1.7284925281129038,
          2.9102795855750845
         ]
        },
        {
         "name": "CV RMSE",
         "type": "bar",
         "x": [
          "quant",
          "quant+dc",
          "quant+dc+o",
          "quant+dc+o+b",
          "quant+dc+o+n-Ridge.5",
          "quant+dc+o+n-Ridge100",
          "quant+dc+o+n-Ridge1.75",
          "quant+dc+o+n-RidgeCV",
          "quant+dc+o+n-LassoCV"
         ],
         "y": [
          3.455901515616253,
          3.1113159765045713,
          3.1207285180151887,
          3.191957976808454,
          3.1168076796252744,
          3.592535514336081,
          3.049523335111162,
          3.064580510565783,
          3.112716924817969
         ]
        }
       ],
       "layout": {
        "template": {
         "data": {
          "bar": [
           {
            "error_x": {
             "color": "#2a3f5f"
            },
            "error_y": {
             "color": "#2a3f5f"
            },
            "marker": {
             "line": {
              "color": "#E5ECF6",
              "width": 0.5
             },
             "pattern": {
              "fillmode": "overlay",
              "size": 10,
              "solidity": 0.2
             }
            },
            "type": "bar"
           }
          ],
          "barpolar": [
           {
            "marker": {
             "line": {
              "color": "#E5ECF6",
              "width": 0.5
             },
             "pattern": {
              "fillmode": "overlay",
              "size": 10,
              "solidity": 0.2
             }
            },
            "type": "barpolar"
           }
          ],
          "carpet": [
           {
            "aaxis": {
             "endlinecolor": "#2a3f5f",
             "gridcolor": "white",
             "linecolor": "white",
             "minorgridcolor": "white",
             "startlinecolor": "#2a3f5f"
            },
            "baxis": {
             "endlinecolor": "#2a3f5f",
             "gridcolor": "white",
             "linecolor": "white",
             "minorgridcolor": "white",
             "startlinecolor": "#2a3f5f"
            },
            "type": "carpet"
           }
          ],
          "choropleth": [
           {
            "colorbar": {
             "outlinewidth": 0,
             "ticks": ""
            },
            "type": "choropleth"
           }
          ],
          "contour": [
           {
            "colorbar": {
             "outlinewidth": 0,
             "ticks": ""
            },
            "colorscale": [
             [
              0,
              "#0d0887"
             ],
             [
              0.1111111111111111,
              "#46039f"
             ],
             [
              0.2222222222222222,
              "#7201a8"
             ],
             [
              0.3333333333333333,
              "#9c179e"
             ],
             [
              0.4444444444444444,
              "#bd3786"
             ],
             [
              0.5555555555555556,
              "#d8576b"
             ],
             [
              0.6666666666666666,
              "#ed7953"
             ],
             [
              0.7777777777777778,
              "#fb9f3a"
             ],
             [
              0.8888888888888888,
              "#fdca26"
             ],
             [
              1,
              "#f0f921"
             ]
            ],
            "type": "contour"
           }
          ],
          "contourcarpet": [
           {
            "colorbar": {
             "outlinewidth": 0,
             "ticks": ""
            },
            "type": "contourcarpet"
           }
          ],
          "heatmap": [
           {
            "colorbar": {
             "outlinewidth": 0,
             "ticks": ""
            },
            "colorscale": [
             [
              0,
              "#0d0887"
             ],
             [
              0.1111111111111111,
              "#46039f"
             ],
             [
              0.2222222222222222,
              "#7201a8"
             ],
             [
              0.3333333333333333,
              "#9c179e"
             ],
             [
              0.4444444444444444,
              "#bd3786"
             ],
             [
              0.5555555555555556,
              "#d8576b"
             ],
             [
              0.6666666666666666,
              "#ed7953"
             ],
             [
              0.7777777777777778,
              "#fb9f3a"
             ],
             [
              0.8888888888888888,
              "#fdca26"
             ],
             [
              1,
              "#f0f921"
             ]
            ],
            "type": "heatmap"
           }
          ],
          "heatmapgl": [
           {
            "colorbar": {
             "outlinewidth": 0,
             "ticks": ""
            },
            "colorscale": [
             [
              0,
              "#0d0887"
             ],
             [
              0.1111111111111111,
              "#46039f"
             ],
             [
              0.2222222222222222,
              "#7201a8"
             ],
             [
              0.3333333333333333,
              "#9c179e"
             ],
             [
              0.4444444444444444,
              "#bd3786"
             ],
             [
              0.5555555555555556,
              "#d8576b"
             ],
             [
              0.6666666666666666,
              "#ed7953"
             ],
             [
              0.7777777777777778,
              "#fb9f3a"
             ],
             [
              0.8888888888888888,
              "#fdca26"
             ],
             [
              1,
              "#f0f921"
             ]
            ],
            "type": "heatmapgl"
           }
          ],
          "histogram": [
           {
            "marker": {
             "pattern": {
              "fillmode": "overlay",
              "size": 10,
              "solidity": 0.2
             }
            },
            "type": "histogram"
           }
          ],
          "histogram2d": [
           {
            "colorbar": {
             "outlinewidth": 0,
             "ticks": ""
            },
            "colorscale": [
             [
              0,
              "#0d0887"
             ],
             [
              0.1111111111111111,
              "#46039f"
             ],
             [
              0.2222222222222222,
              "#7201a8"
             ],
             [
              0.3333333333333333,
              "#9c179e"
             ],
             [
              0.4444444444444444,
              "#bd3786"
             ],
             [
              0.5555555555555556,
              "#d8576b"
             ],
             [
              0.6666666666666666,
              "#ed7953"
             ],
             [
              0.7777777777777778,
              "#fb9f3a"
             ],
             [
              0.8888888888888888,
              "#fdca26"
             ],
             [
              1,
              "#f0f921"
             ]
            ],
            "type": "histogram2d"
           }
          ],
          "histogram2dcontour": [
           {
            "colorbar": {
             "outlinewidth": 0,
             "ticks": ""
            },
            "colorscale": [
             [
              0,
              "#0d0887"
             ],
             [
              0.1111111111111111,
              "#46039f"
             ],
             [
              0.2222222222222222,
              "#7201a8"
             ],
             [
              0.3333333333333333,
              "#9c179e"
             ],
             [
              0.4444444444444444,
              "#bd3786"
             ],
             [
              0.5555555555555556,
              "#d8576b"
             ],
             [
              0.6666666666666666,
              "#ed7953"
             ],
             [
              0.7777777777777778,
              "#fb9f3a"
             ],
             [
              0.8888888888888888,
              "#fdca26"
             ],
             [
              1,
              "#f0f921"
             ]
            ],
            "type": "histogram2dcontour"
           }
          ],
          "mesh3d": [
           {
            "colorbar": {
             "outlinewidth": 0,
             "ticks": ""
            },
            "type": "mesh3d"
           }
          ],
          "parcoords": [
           {
            "line": {
             "colorbar": {
              "outlinewidth": 0,
              "ticks": ""
             }
            },
            "type": "parcoords"
           }
          ],
          "pie": [
           {
            "automargin": true,
            "type": "pie"
           }
          ],
          "scatter": [
           {
            "marker": {
             "colorbar": {
              "outlinewidth": 0,
              "ticks": ""
             }
            },
            "type": "scatter"
           }
          ],
          "scatter3d": [
           {
            "line": {
             "colorbar": {
              "outlinewidth": 0,
              "ticks": ""
             }
            },
            "marker": {
             "colorbar": {
              "outlinewidth": 0,
              "ticks": ""
             }
            },
            "type": "scatter3d"
           }
          ],
          "scattercarpet": [
           {
            "marker": {
             "colorbar": {
              "outlinewidth": 0,
              "ticks": ""
             }
            },
            "type": "scattercarpet"
           }
          ],
          "scattergeo": [
           {
            "marker": {
             "colorbar": {
              "outlinewidth": 0,
              "ticks": ""
             }
            },
            "type": "scattergeo"
           }
          ],
          "scattergl": [
           {
            "marker": {
             "colorbar": {
              "outlinewidth": 0,
              "ticks": ""
             }
            },
            "type": "scattergl"
           }
          ],
          "scattermapbox": [
           {
            "marker": {
             "colorbar": {
              "outlinewidth": 0,
              "ticks": ""
             }
            },
            "type": "scattermapbox"
           }
          ],
          "scatterpolar": [
           {
            "marker": {
             "colorbar": {
              "outlinewidth": 0,
              "ticks": ""
             }
            },
            "type": "scatterpolar"
           }
          ],
          "scatterpolargl": [
           {
            "marker": {
             "colorbar": {
              "outlinewidth": 0,
              "ticks": ""
             }
            },
            "type": "scatterpolargl"
           }
          ],
          "scatterternary": [
           {
            "marker": {
             "colorbar": {
              "outlinewidth": 0,
              "ticks": ""
             }
            },
            "type": "scatterternary"
           }
          ],
          "surface": [
           {
            "colorbar": {
             "outlinewidth": 0,
             "ticks": ""
            },
            "colorscale": [
             [
              0,
              "#0d0887"
             ],
             [
              0.1111111111111111,
              "#46039f"
             ],
             [
              0.2222222222222222,
              "#7201a8"
             ],
             [
              0.3333333333333333,
              "#9c179e"
             ],
             [
              0.4444444444444444,
              "#bd3786"
             ],
             [
              0.5555555555555556,
              "#d8576b"
             ],
             [
              0.6666666666666666,
              "#ed7953"
             ],
             [
              0.7777777777777778,
              "#fb9f3a"
             ],
             [
              0.8888888888888888,
              "#fdca26"
             ],
             [
              1,
              "#f0f921"
             ]
            ],
            "type": "surface"
           }
          ],
          "table": [
           {
            "cells": {
             "fill": {
              "color": "#EBF0F8"
             },
             "line": {
              "color": "white"
             }
            },
            "header": {
             "fill": {
              "color": "#C8D4E3"
             },
             "line": {
              "color": "white"
             }
            },
            "type": "table"
           }
          ]
         },
         "layout": {
          "annotationdefaults": {
           "arrowcolor": "#2a3f5f",
           "arrowhead": 0,
           "arrowwidth": 1
          },
          "autotypenumbers": "strict",
          "coloraxis": {
           "colorbar": {
            "outlinewidth": 0,
            "ticks": ""
           }
          },
          "colorscale": {
           "diverging": [
            [
             0,
             "#8e0152"
            ],
            [
             0.1,
             "#c51b7d"
            ],
            [
             0.2,
             "#de77ae"
            ],
            [
             0.3,
             "#f1b6da"
            ],
            [
             0.4,
             "#fde0ef"
            ],
            [
             0.5,
             "#f7f7f7"
            ],
            [
             0.6,
             "#e6f5d0"
            ],
            [
             0.7,
             "#b8e186"
            ],
            [
             0.8,
             "#7fbc41"
            ],
            [
             0.9,
             "#4d9221"
            ],
            [
             1,
             "#276419"
            ]
           ],
           "sequential": [
            [
             0,
             "#0d0887"
            ],
            [
             0.1111111111111111,
             "#46039f"
            ],
            [
             0.2222222222222222,
             "#7201a8"
            ],
            [
             0.3333333333333333,
             "#9c179e"
            ],
            [
             0.4444444444444444,
             "#bd3786"
            ],
            [
             0.5555555555555556,
             "#d8576b"
            ],
            [
             0.6666666666666666,
             "#ed7953"
            ],
            [
             0.7777777777777778,
             "#fb9f3a"
            ],
            [
             0.8888888888888888,
             "#fdca26"
            ],
            [
             1,
             "#f0f921"
            ]
           ],
           "sequentialminus": [
            [
             0,
             "#0d0887"
            ],
            [
             0.1111111111111111,
             "#46039f"
            ],
            [
             0.2222222222222222,
             "#7201a8"
            ],
            [
             0.3333333333333333,
             "#9c179e"
            ],
            [
             0.4444444444444444,
             "#bd3786"
            ],
            [
             0.5555555555555556,
             "#d8576b"
            ],
            [
             0.6666666666666666,
             "#ed7953"
            ],
            [
             0.7777777777777778,
             "#fb9f3a"
            ],
            [
             0.8888888888888888,
             "#fdca26"
            ],
            [
             1,
             "#f0f921"
            ]
           ]
          },
          "colorway": [
           "#636efa",
           "#EF553B",
           "#00cc96",
           "#ab63fa",
           "#FFA15A",
           "#19d3f3",
           "#FF6692",
           "#B6E880",
           "#FF97FF",
           "#FECB52"
          ],
          "font": {
           "color": "#2a3f5f"
          },
          "geo": {
           "bgcolor": "white",
           "lakecolor": "white",
           "landcolor": "#E5ECF6",
           "showlakes": true,
           "showland": true,
           "subunitcolor": "white"
          },
          "hoverlabel": {
           "align": "left"
          },
          "hovermode": "closest",
          "mapbox": {
           "style": "light"
          },
          "paper_bgcolor": "white",
          "plot_bgcolor": "#E5ECF6",
          "polar": {
           "angularaxis": {
            "gridcolor": "white",
            "linecolor": "white",
            "ticks": ""
           },
           "bgcolor": "#E5ECF6",
           "radialaxis": {
            "gridcolor": "white",
            "linecolor": "white",
            "ticks": ""
           }
          },
          "scene": {
           "xaxis": {
            "backgroundcolor": "#E5ECF6",
            "gridcolor": "white",
            "gridwidth": 2,
            "linecolor": "white",
            "showbackground": true,
            "ticks": "",
            "zerolinecolor": "white"
           },
           "yaxis": {
            "backgroundcolor": "#E5ECF6",
            "gridcolor": "white",
            "gridwidth": 2,
            "linecolor": "white",
            "showbackground": true,
            "ticks": "",
            "zerolinecolor": "white"
           },
           "zaxis": {
            "backgroundcolor": "#E5ECF6",
            "gridcolor": "white",
            "gridwidth": 2,
            "linecolor": "white",
            "showbackground": true,
            "ticks": "",
            "zerolinecolor": "white"
           }
          },
          "shapedefaults": {
           "line": {
            "color": "#2a3f5f"
           }
          },
          "ternary": {
           "aaxis": {
            "gridcolor": "white",
            "linecolor": "white",
            "ticks": ""
           },
           "baxis": {
            "gridcolor": "white",
            "linecolor": "white",
            "ticks": ""
           },
           "bgcolor": "#E5ECF6",
           "caxis": {
            "gridcolor": "white",
            "linecolor": "white",
            "ticks": ""
           }
          },
          "title": {
           "x": 0.05
          },
          "xaxis": {
           "automargin": true,
           "gridcolor": "white",
           "linecolor": "white",
           "ticks": "",
           "title": {
            "standoff": 15
           },
           "zerolinecolor": "white",
           "zerolinewidth": 2
          },
          "yaxis": {
           "automargin": true,
           "gridcolor": "white",
           "linecolor": "white",
           "ticks": "",
           "title": {
            "standoff": 15
           },
           "zerolinecolor": "white",
           "zerolinewidth": 2
          }
         }
        },
        "yaxis": {
         "range": [
          0,
          4
         ],
         "title": {
          "text": "RMSE"
         }
        }
       }
      },
      "text/html": [
       "<div>                            <div id=\"bca091e7-4ced-4673-8be2-d9bb26714686\" class=\"plotly-graph-div\" style=\"height:525px; width:100%;\"></div>            <script type=\"text/javascript\">                require([\"plotly\"], function(Plotly) {                    window.PLOTLYENV=window.PLOTLYENV || {};                                    if (document.getElementById(\"bca091e7-4ced-4673-8be2-d9bb26714686\")) {                    Plotly.newPlot(                        \"bca091e7-4ced-4673-8be2-d9bb26714686\",                        [{\"name\":\"Training RMSE\",\"type\":\"bar\",\"x\":[\"quant\",\"quant+dc\",\"quant+dc+o\",\"quant+dc+o+b\",\"quant+dc+o+n-Ridge.5\",\"quant+dc+o+n-Ridge100\",\"quant+dc+o+n-Ridge1.75\",\"quant+dc+o+n-RidgeCV\",\"quant+dc+o+n-LassoCV\"],\"y\":[3.3745826999424575,3.0333093446259114,3.012941172853171,2.8544602711982514,1.5526480372681277,3.396301099326064,1.9166640085970117,1.7284925281129038,2.9102795855750845]},{\"name\":\"CV RMSE\",\"type\":\"bar\",\"x\":[\"quant\",\"quant+dc\",\"quant+dc+o\",\"quant+dc+o+b\",\"quant+dc+o+n-Ridge.5\",\"quant+dc+o+n-Ridge100\",\"quant+dc+o+n-Ridge1.75\",\"quant+dc+o+n-RidgeCV\",\"quant+dc+o+n-LassoCV\"],\"y\":[3.455901515616253,3.1113159765045713,3.1207285180151887,3.191957976808454,3.1168076796252744,3.592535514336081,3.049523335111162,3.064580510565783,3.112716924817969]}],                        {\"template\":{\"data\":{\"bar\":[{\"error_x\":{\"color\":\"#2a3f5f\"},\"error_y\":{\"color\":\"#2a3f5f\"},\"marker\":{\"line\":{\"color\":\"#E5ECF6\",\"width\":0.5},\"pattern\":{\"fillmode\":\"overlay\",\"size\":10,\"solidity\":0.2}},\"type\":\"bar\"}],\"barpolar\":[{\"marker\":{\"line\":{\"color\":\"#E5ECF6\",\"width\":0.5},\"pattern\":{\"fillmode\":\"overlay\",\"size\":10,\"solidity\":0.2}},\"type\":\"barpolar\"}],\"carpet\":[{\"aaxis\":{\"endlinecolor\":\"#2a3f5f\",\"gridcolor\":\"white\",\"linecolor\":\"white\",\"minorgridcolor\":\"white\",\"startlinecolor\":\"#2a3f5f\"},\"baxis\":{\"endlinecolor\":\"#2a3f5f\",\"gridcolor\":\"white\",\"linecolor\":\"white\",\"minorgridcolor\":\"white\",\"startlinecolor\":\"#2a3f5f\"},\"type\":\"carpet\"}],\"choropleth\":[{\"colorbar\":{\"outlinewidth\":0,\"ticks\":\"\"},\"type\":\"choropleth\"}],\"contour\":[{\"colorbar\":{\"outlinewidth\":0,\"ticks\":\"\"},\"colorscale\":[[0.0,\"#0d0887\"],[0.1111111111111111,\"#46039f\"],[0.2222222222222222,\"#7201a8\"],[0.3333333333333333,\"#9c179e\"],[0.4444444444444444,\"#bd3786\"],[0.5555555555555556,\"#d8576b\"],[0.6666666666666666,\"#ed7953\"],[0.7777777777777778,\"#fb9f3a\"],[0.8888888888888888,\"#fdca26\"],[1.0,\"#f0f921\"]],\"type\":\"contour\"}],\"contourcarpet\":[{\"colorbar\":{\"outlinewidth\":0,\"ticks\":\"\"},\"type\":\"contourcarpet\"}],\"heatmap\":[{\"colorbar\":{\"outlinewidth\":0,\"ticks\":\"\"},\"colorscale\":[[0.0,\"#0d0887\"],[0.1111111111111111,\"#46039f\"],[0.2222222222222222,\"#7201a8\"],[0.3333333333333333,\"#9c179e\"],[0.4444444444444444,\"#bd3786\"],[0.5555555555555556,\"#d8576b\"],[0.6666666666666666,\"#ed7953\"],[0.7777777777777778,\"#fb9f3a\"],[0.8888888888888888,\"#fdca26\"],[1.0,\"#f0f921\"]],\"type\":\"heatmap\"}],\"heatmapgl\":[{\"colorbar\":{\"outlinewidth\":0,\"ticks\":\"\"},\"colorscale\":[[0.0,\"#0d0887\"],[0.1111111111111111,\"#46039f\"],[0.2222222222222222,\"#7201a8\"],[0.3333333333333333,\"#9c179e\"],[0.4444444444444444,\"#bd3786\"],[0.5555555555555556,\"#d8576b\"],[0.6666666666666666,\"#ed7953\"],[0.7777777777777778,\"#fb9f3a\"],[0.8888888888888888,\"#fdca26\"],[1.0,\"#f0f921\"]],\"type\":\"heatmapgl\"}],\"histogram\":[{\"marker\":{\"pattern\":{\"fillmode\":\"overlay\",\"size\":10,\"solidity\":0.2}},\"type\":\"histogram\"}],\"histogram2d\":[{\"colorbar\":{\"outlinewidth\":0,\"ticks\":\"\"},\"colorscale\":[[0.0,\"#0d0887\"],[0.1111111111111111,\"#46039f\"],[0.2222222222222222,\"#7201a8\"],[0.3333333333333333,\"#9c179e\"],[0.4444444444444444,\"#bd3786\"],[0.5555555555555556,\"#d8576b\"],[0.6666666666666666,\"#ed7953\"],[0.7777777777777778,\"#fb9f3a\"],[0.8888888888888888,\"#fdca26\"],[1.0,\"#f0f921\"]],\"type\":\"histogram2d\"}],\"histogram2dcontour\":[{\"colorbar\":{\"outlinewidth\":0,\"ticks\":\"\"},\"colorscale\":[[0.0,\"#0d0887\"],[0.1111111111111111,\"#46039f\"],[0.2222222222222222,\"#7201a8\"],[0.3333333333333333,\"#9c179e\"],[0.4444444444444444,\"#bd3786\"],[0.5555555555555556,\"#d8576b\"],[0.6666666666666666,\"#ed7953\"],[0.7777777777777778,\"#fb9f3a\"],[0.8888888888888888,\"#fdca26\"],[1.0,\"#f0f921\"]],\"type\":\"histogram2dcontour\"}],\"mesh3d\":[{\"colorbar\":{\"outlinewidth\":0,\"ticks\":\"\"},\"type\":\"mesh3d\"}],\"parcoords\":[{\"line\":{\"colorbar\":{\"outlinewidth\":0,\"ticks\":\"\"}},\"type\":\"parcoords\"}],\"pie\":[{\"automargin\":true,\"type\":\"pie\"}],\"scatter\":[{\"marker\":{\"colorbar\":{\"outlinewidth\":0,\"ticks\":\"\"}},\"type\":\"scatter\"}],\"scatter3d\":[{\"line\":{\"colorbar\":{\"outlinewidth\":0,\"ticks\":\"\"}},\"marker\":{\"colorbar\":{\"outlinewidth\":0,\"ticks\":\"\"}},\"type\":\"scatter3d\"}],\"scattercarpet\":[{\"marker\":{\"colorbar\":{\"outlinewidth\":0,\"ticks\":\"\"}},\"type\":\"scattercarpet\"}],\"scattergeo\":[{\"marker\":{\"colorbar\":{\"outlinewidth\":0,\"ticks\":\"\"}},\"type\":\"scattergeo\"}],\"scattergl\":[{\"marker\":{\"colorbar\":{\"outlinewidth\":0,\"ticks\":\"\"}},\"type\":\"scattergl\"}],\"scattermapbox\":[{\"marker\":{\"colorbar\":{\"outlinewidth\":0,\"ticks\":\"\"}},\"type\":\"scattermapbox\"}],\"scatterpolar\":[{\"marker\":{\"colorbar\":{\"outlinewidth\":0,\"ticks\":\"\"}},\"type\":\"scatterpolar\"}],\"scatterpolargl\":[{\"marker\":{\"colorbar\":{\"outlinewidth\":0,\"ticks\":\"\"}},\"type\":\"scatterpolargl\"}],\"scatterternary\":[{\"marker\":{\"colorbar\":{\"outlinewidth\":0,\"ticks\":\"\"}},\"type\":\"scatterternary\"}],\"surface\":[{\"colorbar\":{\"outlinewidth\":0,\"ticks\":\"\"},\"colorscale\":[[0.0,\"#0d0887\"],[0.1111111111111111,\"#46039f\"],[0.2222222222222222,\"#7201a8\"],[0.3333333333333333,\"#9c179e\"],[0.4444444444444444,\"#bd3786\"],[0.5555555555555556,\"#d8576b\"],[0.6666666666666666,\"#ed7953\"],[0.7777777777777778,\"#fb9f3a\"],[0.8888888888888888,\"#fdca26\"],[1.0,\"#f0f921\"]],\"type\":\"surface\"}],\"table\":[{\"cells\":{\"fill\":{\"color\":\"#EBF0F8\"},\"line\":{\"color\":\"white\"}},\"header\":{\"fill\":{\"color\":\"#C8D4E3\"},\"line\":{\"color\":\"white\"}},\"type\":\"table\"}]},\"layout\":{\"annotationdefaults\":{\"arrowcolor\":\"#2a3f5f\",\"arrowhead\":0,\"arrowwidth\":1},\"autotypenumbers\":\"strict\",\"coloraxis\":{\"colorbar\":{\"outlinewidth\":0,\"ticks\":\"\"}},\"colorscale\":{\"diverging\":[[0,\"#8e0152\"],[0.1,\"#c51b7d\"],[0.2,\"#de77ae\"],[0.3,\"#f1b6da\"],[0.4,\"#fde0ef\"],[0.5,\"#f7f7f7\"],[0.6,\"#e6f5d0\"],[0.7,\"#b8e186\"],[0.8,\"#7fbc41\"],[0.9,\"#4d9221\"],[1,\"#276419\"]],\"sequential\":[[0.0,\"#0d0887\"],[0.1111111111111111,\"#46039f\"],[0.2222222222222222,\"#7201a8\"],[0.3333333333333333,\"#9c179e\"],[0.4444444444444444,\"#bd3786\"],[0.5555555555555556,\"#d8576b\"],[0.6666666666666666,\"#ed7953\"],[0.7777777777777778,\"#fb9f3a\"],[0.8888888888888888,\"#fdca26\"],[1.0,\"#f0f921\"]],\"sequentialminus\":[[0.0,\"#0d0887\"],[0.1111111111111111,\"#46039f\"],[0.2222222222222222,\"#7201a8\"],[0.3333333333333333,\"#9c179e\"],[0.4444444444444444,\"#bd3786\"],[0.5555555555555556,\"#d8576b\"],[0.6666666666666666,\"#ed7953\"],[0.7777777777777778,\"#fb9f3a\"],[0.8888888888888888,\"#fdca26\"],[1.0,\"#f0f921\"]]},\"colorway\":[\"#636efa\",\"#EF553B\",\"#00cc96\",\"#ab63fa\",\"#FFA15A\",\"#19d3f3\",\"#FF6692\",\"#B6E880\",\"#FF97FF\",\"#FECB52\"],\"font\":{\"color\":\"#2a3f5f\"},\"geo\":{\"bgcolor\":\"white\",\"lakecolor\":\"white\",\"landcolor\":\"#E5ECF6\",\"showlakes\":true,\"showland\":true,\"subunitcolor\":\"white\"},\"hoverlabel\":{\"align\":\"left\"},\"hovermode\":\"closest\",\"mapbox\":{\"style\":\"light\"},\"paper_bgcolor\":\"white\",\"plot_bgcolor\":\"#E5ECF6\",\"polar\":{\"angularaxis\":{\"gridcolor\":\"white\",\"linecolor\":\"white\",\"ticks\":\"\"},\"bgcolor\":\"#E5ECF6\",\"radialaxis\":{\"gridcolor\":\"white\",\"linecolor\":\"white\",\"ticks\":\"\"}},\"scene\":{\"xaxis\":{\"backgroundcolor\":\"#E5ECF6\",\"gridcolor\":\"white\",\"gridwidth\":2,\"linecolor\":\"white\",\"showbackground\":true,\"ticks\":\"\",\"zerolinecolor\":\"white\"},\"yaxis\":{\"backgroundcolor\":\"#E5ECF6\",\"gridcolor\":\"white\",\"gridwidth\":2,\"linecolor\":\"white\",\"showbackground\":true,\"ticks\":\"\",\"zerolinecolor\":\"white\"},\"zaxis\":{\"backgroundcolor\":\"#E5ECF6\",\"gridcolor\":\"white\",\"gridwidth\":2,\"linecolor\":\"white\",\"showbackground\":true,\"ticks\":\"\",\"zerolinecolor\":\"white\"}},\"shapedefaults\":{\"line\":{\"color\":\"#2a3f5f\"}},\"ternary\":{\"aaxis\":{\"gridcolor\":\"white\",\"linecolor\":\"white\",\"ticks\":\"\"},\"baxis\":{\"gridcolor\":\"white\",\"linecolor\":\"white\",\"ticks\":\"\"},\"bgcolor\":\"#E5ECF6\",\"caxis\":{\"gridcolor\":\"white\",\"linecolor\":\"white\",\"ticks\":\"\"}},\"title\":{\"x\":0.05},\"xaxis\":{\"automargin\":true,\"gridcolor\":\"white\",\"linecolor\":\"white\",\"ticks\":\"\",\"title\":{\"standoff\":15},\"zerolinecolor\":\"white\",\"zerolinewidth\":2},\"yaxis\":{\"automargin\":true,\"gridcolor\":\"white\",\"linecolor\":\"white\",\"ticks\":\"\",\"title\":{\"standoff\":15},\"zerolinecolor\":\"white\",\"zerolinewidth\":2}}},\"yaxis\":{\"range\":[0,4],\"title\":{\"text\":\"RMSE\"}}},                        {\"responsive\": true}                    ).then(function(){\n",
       "                            \n",
       "var gd = document.getElementById('bca091e7-4ced-4673-8be2-d9bb26714686');\n",
       "var x = new MutationObserver(function (mutations, observer) {{\n",
       "        var display = window.getComputedStyle(gd).display;\n",
       "        if (!display || display === 'none') {{\n",
       "            console.log([gd, 'removed!']);\n",
       "            Plotly.purge(gd);\n",
       "            observer.disconnect();\n",
       "        }}\n",
       "}});\n",
       "\n",
       "// Listen for the removal of the full notebook cells\n",
       "var notebookContainer = gd.closest('#notebook-container');\n",
       "if (notebookContainer) {{\n",
       "    x.observe(notebookContainer, {childList: true});\n",
       "}}\n",
       "\n",
       "// Listen for the clearing of the current output cell\n",
       "var outputEl = gd.closest('.output');\n",
       "if (outputEl) {{\n",
       "    x.observe(outputEl, {childList: true});\n",
       "}}\n",
       "\n",
       "                        })                };                });            </script>        </div>"
      ]
     },
     "metadata": {},
     "output_type": "display_data"
    }
   ],
   "source": [
    "fig = compare_models(models)\n",
    "fig.update_yaxes(range = [0, 4], title = \"RMSE\")"
   ]
  },
  {
   "cell_type": "markdown",
   "metadata": {},
   "source": [
    "Oops, that was too much regularization. Let's do a search to find the best $\\alpha$:"
   ]
  },
  {
   "cell_type": "code",
   "execution_count": 54,
   "metadata": {},
   "outputs": [],
   "source": [
    "alphas = np.linspace(.5, 3.5, 20)\n",
    "cv_values = []\n",
    "train_values = []\n",
    "for alpha in alphas:\n",
    "    model = Ridge(alpha = alpha)\n",
    "    model.fit(name_design_matrix_std(tr), tr['mpg'])\n",
    "    train_values.append(rmse(tr['mpg'], model.predict(name_design_matrix_std(tr))))\n",
    "    \n",
    "    validation_rmse = cross_validate_rmse(name_design_matrix_std, model)\n",
    "    cv_values.append(validation_rmse)"
   ]
  },
  {
   "cell_type": "code",
   "execution_count": 55,
   "metadata": {},
   "outputs": [
    {
     "data": {
      "application/vnd.plotly.v1+json": {
       "config": {
        "plotlyServerURL": "https://plot.ly"
       },
       "data": [
        {
         "mode": "lines+markers",
         "name": "Train",
         "type": "scatter",
         "x": [
          0.5,
          0.6578947368421053,
          0.8157894736842105,
          0.9736842105263157,
          1.131578947368421,
          1.2894736842105263,
          1.4473684210526314,
          1.6052631578947367,
          1.763157894736842,
          1.9210526315789473,
          2.0789473684210527,
          2.2368421052631575,
          2.394736842105263,
          2.552631578947368,
          2.7105263157894735,
          2.8684210526315788,
          3.026315789473684,
          3.1842105263157894,
          3.3421052631578947,
          3.5
         ],
         "y": [
          1.5526480372681277,
          1.6142395403223977,
          1.6698833729958917,
          1.7204934307113111,
          1.7668002525072701,
          1.8093979617430365,
          1.8487747751435932,
          1.885335158760951,
          1.9194166963156296,
          1.9513031712569282,
          1.9812347998476223,
          2.0094162827849145,
          2.0360231752159477,
          2.0612069552426977,
          2.085099081131518,
          2.107814259191154,
          2.1294530924272705,
          2.1501042407325004,
          2.1698461935206255,
          2.188748733040865
         ]
        },
        {
         "mode": "lines+markers",
         "name": "CV",
         "type": "scatter",
         "x": [
          0.5,
          0.6578947368421053,
          0.8157894736842105,
          0.9736842105263157,
          1.131578947368421,
          1.2894736842105263,
          1.4473684210526314,
          1.6052631578947367,
          1.763157894736842,
          1.9210526315789473,
          2.0789473684210527,
          2.2368421052631575,
          2.394736842105263,
          2.552631578947368,
          2.7105263157894735,
          2.8684210526315788,
          3.026315789473684,
          3.1842105263157894,
          3.3421052631578947,
          3.5
         ],
         "y": [
          3.1168076796252744,
          3.09230953617901,
          3.0764778202519616,
          3.065957426425182,
          3.058944854124023,
          3.0543702014698093,
          3.0515533413093636,
          3.050039188552545,
          3.0495109624347814,
          3.049741125849623,
          3.050562027224768,
          3.051847513278407,
          3.05350097076193,
          3.0554472988681964,
          3.057627372523739,
          3.0599941333924283,
          3.0625097732419007,
          3.065143667692903,
          3.067870836170031,
          3.070670777669622
         ]
        }
       ],
       "layout": {
        "template": {
         "data": {
          "bar": [
           {
            "error_x": {
             "color": "#2a3f5f"
            },
            "error_y": {
             "color": "#2a3f5f"
            },
            "marker": {
             "line": {
              "color": "#E5ECF6",
              "width": 0.5
             },
             "pattern": {
              "fillmode": "overlay",
              "size": 10,
              "solidity": 0.2
             }
            },
            "type": "bar"
           }
          ],
          "barpolar": [
           {
            "marker": {
             "line": {
              "color": "#E5ECF6",
              "width": 0.5
             },
             "pattern": {
              "fillmode": "overlay",
              "size": 10,
              "solidity": 0.2
             }
            },
            "type": "barpolar"
           }
          ],
          "carpet": [
           {
            "aaxis": {
             "endlinecolor": "#2a3f5f",
             "gridcolor": "white",
             "linecolor": "white",
             "minorgridcolor": "white",
             "startlinecolor": "#2a3f5f"
            },
            "baxis": {
             "endlinecolor": "#2a3f5f",
             "gridcolor": "white",
             "linecolor": "white",
             "minorgridcolor": "white",
             "startlinecolor": "#2a3f5f"
            },
            "type": "carpet"
           }
          ],
          "choropleth": [
           {
            "colorbar": {
             "outlinewidth": 0,
             "ticks": ""
            },
            "type": "choropleth"
           }
          ],
          "contour": [
           {
            "colorbar": {
             "outlinewidth": 0,
             "ticks": ""
            },
            "colorscale": [
             [
              0,
              "#0d0887"
             ],
             [
              0.1111111111111111,
              "#46039f"
             ],
             [
              0.2222222222222222,
              "#7201a8"
             ],
             [
              0.3333333333333333,
              "#9c179e"
             ],
             [
              0.4444444444444444,
              "#bd3786"
             ],
             [
              0.5555555555555556,
              "#d8576b"
             ],
             [
              0.6666666666666666,
              "#ed7953"
             ],
             [
              0.7777777777777778,
              "#fb9f3a"
             ],
             [
              0.8888888888888888,
              "#fdca26"
             ],
             [
              1,
              "#f0f921"
             ]
            ],
            "type": "contour"
           }
          ],
          "contourcarpet": [
           {
            "colorbar": {
             "outlinewidth": 0,
             "ticks": ""
            },
            "type": "contourcarpet"
           }
          ],
          "heatmap": [
           {
            "colorbar": {
             "outlinewidth": 0,
             "ticks": ""
            },
            "colorscale": [
             [
              0,
              "#0d0887"
             ],
             [
              0.1111111111111111,
              "#46039f"
             ],
             [
              0.2222222222222222,
              "#7201a8"
             ],
             [
              0.3333333333333333,
              "#9c179e"
             ],
             [
              0.4444444444444444,
              "#bd3786"
             ],
             [
              0.5555555555555556,
              "#d8576b"
             ],
             [
              0.6666666666666666,
              "#ed7953"
             ],
             [
              0.7777777777777778,
              "#fb9f3a"
             ],
             [
              0.8888888888888888,
              "#fdca26"
             ],
             [
              1,
              "#f0f921"
             ]
            ],
            "type": "heatmap"
           }
          ],
          "heatmapgl": [
           {
            "colorbar": {
             "outlinewidth": 0,
             "ticks": ""
            },
            "colorscale": [
             [
              0,
              "#0d0887"
             ],
             [
              0.1111111111111111,
              "#46039f"
             ],
             [
              0.2222222222222222,
              "#7201a8"
             ],
             [
              0.3333333333333333,
              "#9c179e"
             ],
             [
              0.4444444444444444,
              "#bd3786"
             ],
             [
              0.5555555555555556,
              "#d8576b"
             ],
             [
              0.6666666666666666,
              "#ed7953"
             ],
             [
              0.7777777777777778,
              "#fb9f3a"
             ],
             [
              0.8888888888888888,
              "#fdca26"
             ],
             [
              1,
              "#f0f921"
             ]
            ],
            "type": "heatmapgl"
           }
          ],
          "histogram": [
           {
            "marker": {
             "pattern": {
              "fillmode": "overlay",
              "size": 10,
              "solidity": 0.2
             }
            },
            "type": "histogram"
           }
          ],
          "histogram2d": [
           {
            "colorbar": {
             "outlinewidth": 0,
             "ticks": ""
            },
            "colorscale": [
             [
              0,
              "#0d0887"
             ],
             [
              0.1111111111111111,
              "#46039f"
             ],
             [
              0.2222222222222222,
              "#7201a8"
             ],
             [
              0.3333333333333333,
              "#9c179e"
             ],
             [
              0.4444444444444444,
              "#bd3786"
             ],
             [
              0.5555555555555556,
              "#d8576b"
             ],
             [
              0.6666666666666666,
              "#ed7953"
             ],
             [
              0.7777777777777778,
              "#fb9f3a"
             ],
             [
              0.8888888888888888,
              "#fdca26"
             ],
             [
              1,
              "#f0f921"
             ]
            ],
            "type": "histogram2d"
           }
          ],
          "histogram2dcontour": [
           {
            "colorbar": {
             "outlinewidth": 0,
             "ticks": ""
            },
            "colorscale": [
             [
              0,
              "#0d0887"
             ],
             [
              0.1111111111111111,
              "#46039f"
             ],
             [
              0.2222222222222222,
              "#7201a8"
             ],
             [
              0.3333333333333333,
              "#9c179e"
             ],
             [
              0.4444444444444444,
              "#bd3786"
             ],
             [
              0.5555555555555556,
              "#d8576b"
             ],
             [
              0.6666666666666666,
              "#ed7953"
             ],
             [
              0.7777777777777778,
              "#fb9f3a"
             ],
             [
              0.8888888888888888,
              "#fdca26"
             ],
             [
              1,
              "#f0f921"
             ]
            ],
            "type": "histogram2dcontour"
           }
          ],
          "mesh3d": [
           {
            "colorbar": {
             "outlinewidth": 0,
             "ticks": ""
            },
            "type": "mesh3d"
           }
          ],
          "parcoords": [
           {
            "line": {
             "colorbar": {
              "outlinewidth": 0,
              "ticks": ""
             }
            },
            "type": "parcoords"
           }
          ],
          "pie": [
           {
            "automargin": true,
            "type": "pie"
           }
          ],
          "scatter": [
           {
            "marker": {
             "colorbar": {
              "outlinewidth": 0,
              "ticks": ""
             }
            },
            "type": "scatter"
           }
          ],
          "scatter3d": [
           {
            "line": {
             "colorbar": {
              "outlinewidth": 0,
              "ticks": ""
             }
            },
            "marker": {
             "colorbar": {
              "outlinewidth": 0,
              "ticks": ""
             }
            },
            "type": "scatter3d"
           }
          ],
          "scattercarpet": [
           {
            "marker": {
             "colorbar": {
              "outlinewidth": 0,
              "ticks": ""
             }
            },
            "type": "scattercarpet"
           }
          ],
          "scattergeo": [
           {
            "marker": {
             "colorbar": {
              "outlinewidth": 0,
              "ticks": ""
             }
            },
            "type": "scattergeo"
           }
          ],
          "scattergl": [
           {
            "marker": {
             "colorbar": {
              "outlinewidth": 0,
              "ticks": ""
             }
            },
            "type": "scattergl"
           }
          ],
          "scattermapbox": [
           {
            "marker": {
             "colorbar": {
              "outlinewidth": 0,
              "ticks": ""
             }
            },
            "type": "scattermapbox"
           }
          ],
          "scatterpolar": [
           {
            "marker": {
             "colorbar": {
              "outlinewidth": 0,
              "ticks": ""
             }
            },
            "type": "scatterpolar"
           }
          ],
          "scatterpolargl": [
           {
            "marker": {
             "colorbar": {
              "outlinewidth": 0,
              "ticks": ""
             }
            },
            "type": "scatterpolargl"
           }
          ],
          "scatterternary": [
           {
            "marker": {
             "colorbar": {
              "outlinewidth": 0,
              "ticks": ""
             }
            },
            "type": "scatterternary"
           }
          ],
          "surface": [
           {
            "colorbar": {
             "outlinewidth": 0,
             "ticks": ""
            },
            "colorscale": [
             [
              0,
              "#0d0887"
             ],
             [
              0.1111111111111111,
              "#46039f"
             ],
             [
              0.2222222222222222,
              "#7201a8"
             ],
             [
              0.3333333333333333,
              "#9c179e"
             ],
             [
              0.4444444444444444,
              "#bd3786"
             ],
             [
              0.5555555555555556,
              "#d8576b"
             ],
             [
              0.6666666666666666,
              "#ed7953"
             ],
             [
              0.7777777777777778,
              "#fb9f3a"
             ],
             [
              0.8888888888888888,
              "#fdca26"
             ],
             [
              1,
              "#f0f921"
             ]
            ],
            "type": "surface"
           }
          ],
          "table": [
           {
            "cells": {
             "fill": {
              "color": "#EBF0F8"
             },
             "line": {
              "color": "white"
             }
            },
            "header": {
             "fill": {
              "color": "#C8D4E3"
             },
             "line": {
              "color": "white"
             }
            },
            "type": "table"
           }
          ]
         },
         "layout": {
          "annotationdefaults": {
           "arrowcolor": "#2a3f5f",
           "arrowhead": 0,
           "arrowwidth": 1
          },
          "autotypenumbers": "strict",
          "coloraxis": {
           "colorbar": {
            "outlinewidth": 0,
            "ticks": ""
           }
          },
          "colorscale": {
           "diverging": [
            [
             0,
             "#8e0152"
            ],
            [
             0.1,
             "#c51b7d"
            ],
            [
             0.2,
             "#de77ae"
            ],
            [
             0.3,
             "#f1b6da"
            ],
            [
             0.4,
             "#fde0ef"
            ],
            [
             0.5,
             "#f7f7f7"
            ],
            [
             0.6,
             "#e6f5d0"
            ],
            [
             0.7,
             "#b8e186"
            ],
            [
             0.8,
             "#7fbc41"
            ],
            [
             0.9,
             "#4d9221"
            ],
            [
             1,
             "#276419"
            ]
           ],
           "sequential": [
            [
             0,
             "#0d0887"
            ],
            [
             0.1111111111111111,
             "#46039f"
            ],
            [
             0.2222222222222222,
             "#7201a8"
            ],
            [
             0.3333333333333333,
             "#9c179e"
            ],
            [
             0.4444444444444444,
             "#bd3786"
            ],
            [
             0.5555555555555556,
             "#d8576b"
            ],
            [
             0.6666666666666666,
             "#ed7953"
            ],
            [
             0.7777777777777778,
             "#fb9f3a"
            ],
            [
             0.8888888888888888,
             "#fdca26"
            ],
            [
             1,
             "#f0f921"
            ]
           ],
           "sequentialminus": [
            [
             0,
             "#0d0887"
            ],
            [
             0.1111111111111111,
             "#46039f"
            ],
            [
             0.2222222222222222,
             "#7201a8"
            ],
            [
             0.3333333333333333,
             "#9c179e"
            ],
            [
             0.4444444444444444,
             "#bd3786"
            ],
            [
             0.5555555555555556,
             "#d8576b"
            ],
            [
             0.6666666666666666,
             "#ed7953"
            ],
            [
             0.7777777777777778,
             "#fb9f3a"
            ],
            [
             0.8888888888888888,
             "#fdca26"
            ],
            [
             1,
             "#f0f921"
            ]
           ]
          },
          "colorway": [
           "#636efa",
           "#EF553B",
           "#00cc96",
           "#ab63fa",
           "#FFA15A",
           "#19d3f3",
           "#FF6692",
           "#B6E880",
           "#FF97FF",
           "#FECB52"
          ],
          "font": {
           "color": "#2a3f5f"
          },
          "geo": {
           "bgcolor": "white",
           "lakecolor": "white",
           "landcolor": "#E5ECF6",
           "showlakes": true,
           "showland": true,
           "subunitcolor": "white"
          },
          "hoverlabel": {
           "align": "left"
          },
          "hovermode": "closest",
          "mapbox": {
           "style": "light"
          },
          "paper_bgcolor": "white",
          "plot_bgcolor": "#E5ECF6",
          "polar": {
           "angularaxis": {
            "gridcolor": "white",
            "linecolor": "white",
            "ticks": ""
           },
           "bgcolor": "#E5ECF6",
           "radialaxis": {
            "gridcolor": "white",
            "linecolor": "white",
            "ticks": ""
           }
          },
          "scene": {
           "xaxis": {
            "backgroundcolor": "#E5ECF6",
            "gridcolor": "white",
            "gridwidth": 2,
            "linecolor": "white",
            "showbackground": true,
            "ticks": "",
            "zerolinecolor": "white"
           },
           "yaxis": {
            "backgroundcolor": "#E5ECF6",
            "gridcolor": "white",
            "gridwidth": 2,
            "linecolor": "white",
            "showbackground": true,
            "ticks": "",
            "zerolinecolor": "white"
           },
           "zaxis": {
            "backgroundcolor": "#E5ECF6",
            "gridcolor": "white",
            "gridwidth": 2,
            "linecolor": "white",
            "showbackground": true,
            "ticks": "",
            "zerolinecolor": "white"
           }
          },
          "shapedefaults": {
           "line": {
            "color": "#2a3f5f"
           }
          },
          "ternary": {
           "aaxis": {
            "gridcolor": "white",
            "linecolor": "white",
            "ticks": ""
           },
           "baxis": {
            "gridcolor": "white",
            "linecolor": "white",
            "ticks": ""
           },
           "bgcolor": "#E5ECF6",
           "caxis": {
            "gridcolor": "white",
            "linecolor": "white",
            "ticks": ""
           }
          },
          "title": {
           "x": 0.05
          },
          "xaxis": {
           "automargin": true,
           "gridcolor": "white",
           "linecolor": "white",
           "ticks": "",
           "title": {
            "standoff": 15
           },
           "zerolinecolor": "white",
           "zerolinewidth": 2
          },
          "yaxis": {
           "automargin": true,
           "gridcolor": "white",
           "linecolor": "white",
           "ticks": "",
           "title": {
            "standoff": 15
           },
           "zerolinecolor": "white",
           "zerolinewidth": 2
          }
         }
        },
        "xaxis": {
         "title": {
          "text": "$\\alpha$"
         }
        },
        "yaxis": {
         "title": {
          "text": "CV RMSE"
         }
        }
       }
      },
      "text/html": [
       "<div>                            <div id=\"f5cd4689-4edf-44f0-a0c6-178ca7666e2e\" class=\"plotly-graph-div\" style=\"height:525px; width:100%;\"></div>            <script type=\"text/javascript\">                require([\"plotly\"], function(Plotly) {                    window.PLOTLYENV=window.PLOTLYENV || {};                                    if (document.getElementById(\"f5cd4689-4edf-44f0-a0c6-178ca7666e2e\")) {                    Plotly.newPlot(                        \"f5cd4689-4edf-44f0-a0c6-178ca7666e2e\",                        [{\"mode\":\"lines+markers\",\"name\":\"Train\",\"type\":\"scatter\",\"x\":[0.5,0.6578947368421053,0.8157894736842105,0.9736842105263157,1.131578947368421,1.2894736842105263,1.4473684210526314,1.6052631578947367,1.763157894736842,1.9210526315789473,2.0789473684210527,2.2368421052631575,2.394736842105263,2.552631578947368,2.7105263157894735,2.8684210526315788,3.026315789473684,3.1842105263157894,3.3421052631578947,3.5],\"y\":[1.5526480372681277,1.6142395403223977,1.6698833729958917,1.7204934307113111,1.7668002525072701,1.8093979617430365,1.8487747751435932,1.885335158760951,1.9194166963156296,1.9513031712569282,1.9812347998476223,2.0094162827849145,2.0360231752159477,2.0612069552426977,2.085099081131518,2.107814259191154,2.1294530924272705,2.1501042407325004,2.1698461935206255,2.188748733040865]},{\"mode\":\"lines+markers\",\"name\":\"CV\",\"type\":\"scatter\",\"x\":[0.5,0.6578947368421053,0.8157894736842105,0.9736842105263157,1.131578947368421,1.2894736842105263,1.4473684210526314,1.6052631578947367,1.763157894736842,1.9210526315789473,2.0789473684210527,2.2368421052631575,2.394736842105263,2.552631578947368,2.7105263157894735,2.8684210526315788,3.026315789473684,3.1842105263157894,3.3421052631578947,3.5],\"y\":[3.1168076796252744,3.09230953617901,3.0764778202519616,3.065957426425182,3.058944854124023,3.0543702014698093,3.0515533413093636,3.050039188552545,3.0495109624347814,3.049741125849623,3.050562027224768,3.051847513278407,3.05350097076193,3.0554472988681964,3.057627372523739,3.0599941333924283,3.0625097732419007,3.065143667692903,3.067870836170031,3.070670777669622]}],                        {\"template\":{\"data\":{\"bar\":[{\"error_x\":{\"color\":\"#2a3f5f\"},\"error_y\":{\"color\":\"#2a3f5f\"},\"marker\":{\"line\":{\"color\":\"#E5ECF6\",\"width\":0.5},\"pattern\":{\"fillmode\":\"overlay\",\"size\":10,\"solidity\":0.2}},\"type\":\"bar\"}],\"barpolar\":[{\"marker\":{\"line\":{\"color\":\"#E5ECF6\",\"width\":0.5},\"pattern\":{\"fillmode\":\"overlay\",\"size\":10,\"solidity\":0.2}},\"type\":\"barpolar\"}],\"carpet\":[{\"aaxis\":{\"endlinecolor\":\"#2a3f5f\",\"gridcolor\":\"white\",\"linecolor\":\"white\",\"minorgridcolor\":\"white\",\"startlinecolor\":\"#2a3f5f\"},\"baxis\":{\"endlinecolor\":\"#2a3f5f\",\"gridcolor\":\"white\",\"linecolor\":\"white\",\"minorgridcolor\":\"white\",\"startlinecolor\":\"#2a3f5f\"},\"type\":\"carpet\"}],\"choropleth\":[{\"colorbar\":{\"outlinewidth\":0,\"ticks\":\"\"},\"type\":\"choropleth\"}],\"contour\":[{\"colorbar\":{\"outlinewidth\":0,\"ticks\":\"\"},\"colorscale\":[[0.0,\"#0d0887\"],[0.1111111111111111,\"#46039f\"],[0.2222222222222222,\"#7201a8\"],[0.3333333333333333,\"#9c179e\"],[0.4444444444444444,\"#bd3786\"],[0.5555555555555556,\"#d8576b\"],[0.6666666666666666,\"#ed7953\"],[0.7777777777777778,\"#fb9f3a\"],[0.8888888888888888,\"#fdca26\"],[1.0,\"#f0f921\"]],\"type\":\"contour\"}],\"contourcarpet\":[{\"colorbar\":{\"outlinewidth\":0,\"ticks\":\"\"},\"type\":\"contourcarpet\"}],\"heatmap\":[{\"colorbar\":{\"outlinewidth\":0,\"ticks\":\"\"},\"colorscale\":[[0.0,\"#0d0887\"],[0.1111111111111111,\"#46039f\"],[0.2222222222222222,\"#7201a8\"],[0.3333333333333333,\"#9c179e\"],[0.4444444444444444,\"#bd3786\"],[0.5555555555555556,\"#d8576b\"],[0.6666666666666666,\"#ed7953\"],[0.7777777777777778,\"#fb9f3a\"],[0.8888888888888888,\"#fdca26\"],[1.0,\"#f0f921\"]],\"type\":\"heatmap\"}],\"heatmapgl\":[{\"colorbar\":{\"outlinewidth\":0,\"ticks\":\"\"},\"colorscale\":[[0.0,\"#0d0887\"],[0.1111111111111111,\"#46039f\"],[0.2222222222222222,\"#7201a8\"],[0.3333333333333333,\"#9c179e\"],[0.4444444444444444,\"#bd3786\"],[0.5555555555555556,\"#d8576b\"],[0.6666666666666666,\"#ed7953\"],[0.7777777777777778,\"#fb9f3a\"],[0.8888888888888888,\"#fdca26\"],[1.0,\"#f0f921\"]],\"type\":\"heatmapgl\"}],\"histogram\":[{\"marker\":{\"pattern\":{\"fillmode\":\"overlay\",\"size\":10,\"solidity\":0.2}},\"type\":\"histogram\"}],\"histogram2d\":[{\"colorbar\":{\"outlinewidth\":0,\"ticks\":\"\"},\"colorscale\":[[0.0,\"#0d0887\"],[0.1111111111111111,\"#46039f\"],[0.2222222222222222,\"#7201a8\"],[0.3333333333333333,\"#9c179e\"],[0.4444444444444444,\"#bd3786\"],[0.5555555555555556,\"#d8576b\"],[0.6666666666666666,\"#ed7953\"],[0.7777777777777778,\"#fb9f3a\"],[0.8888888888888888,\"#fdca26\"],[1.0,\"#f0f921\"]],\"type\":\"histogram2d\"}],\"histogram2dcontour\":[{\"colorbar\":{\"outlinewidth\":0,\"ticks\":\"\"},\"colorscale\":[[0.0,\"#0d0887\"],[0.1111111111111111,\"#46039f\"],[0.2222222222222222,\"#7201a8\"],[0.3333333333333333,\"#9c179e\"],[0.4444444444444444,\"#bd3786\"],[0.5555555555555556,\"#d8576b\"],[0.6666666666666666,\"#ed7953\"],[0.7777777777777778,\"#fb9f3a\"],[0.8888888888888888,\"#fdca26\"],[1.0,\"#f0f921\"]],\"type\":\"histogram2dcontour\"}],\"mesh3d\":[{\"colorbar\":{\"outlinewidth\":0,\"ticks\":\"\"},\"type\":\"mesh3d\"}],\"parcoords\":[{\"line\":{\"colorbar\":{\"outlinewidth\":0,\"ticks\":\"\"}},\"type\":\"parcoords\"}],\"pie\":[{\"automargin\":true,\"type\":\"pie\"}],\"scatter\":[{\"marker\":{\"colorbar\":{\"outlinewidth\":0,\"ticks\":\"\"}},\"type\":\"scatter\"}],\"scatter3d\":[{\"line\":{\"colorbar\":{\"outlinewidth\":0,\"ticks\":\"\"}},\"marker\":{\"colorbar\":{\"outlinewidth\":0,\"ticks\":\"\"}},\"type\":\"scatter3d\"}],\"scattercarpet\":[{\"marker\":{\"colorbar\":{\"outlinewidth\":0,\"ticks\":\"\"}},\"type\":\"scattercarpet\"}],\"scattergeo\":[{\"marker\":{\"colorbar\":{\"outlinewidth\":0,\"ticks\":\"\"}},\"type\":\"scattergeo\"}],\"scattergl\":[{\"marker\":{\"colorbar\":{\"outlinewidth\":0,\"ticks\":\"\"}},\"type\":\"scattergl\"}],\"scattermapbox\":[{\"marker\":{\"colorbar\":{\"outlinewidth\":0,\"ticks\":\"\"}},\"type\":\"scattermapbox\"}],\"scatterpolar\":[{\"marker\":{\"colorbar\":{\"outlinewidth\":0,\"ticks\":\"\"}},\"type\":\"scatterpolar\"}],\"scatterpolargl\":[{\"marker\":{\"colorbar\":{\"outlinewidth\":0,\"ticks\":\"\"}},\"type\":\"scatterpolargl\"}],\"scatterternary\":[{\"marker\":{\"colorbar\":{\"outlinewidth\":0,\"ticks\":\"\"}},\"type\":\"scatterternary\"}],\"surface\":[{\"colorbar\":{\"outlinewidth\":0,\"ticks\":\"\"},\"colorscale\":[[0.0,\"#0d0887\"],[0.1111111111111111,\"#46039f\"],[0.2222222222222222,\"#7201a8\"],[0.3333333333333333,\"#9c179e\"],[0.4444444444444444,\"#bd3786\"],[0.5555555555555556,\"#d8576b\"],[0.6666666666666666,\"#ed7953\"],[0.7777777777777778,\"#fb9f3a\"],[0.8888888888888888,\"#fdca26\"],[1.0,\"#f0f921\"]],\"type\":\"surface\"}],\"table\":[{\"cells\":{\"fill\":{\"color\":\"#EBF0F8\"},\"line\":{\"color\":\"white\"}},\"header\":{\"fill\":{\"color\":\"#C8D4E3\"},\"line\":{\"color\":\"white\"}},\"type\":\"table\"}]},\"layout\":{\"annotationdefaults\":{\"arrowcolor\":\"#2a3f5f\",\"arrowhead\":0,\"arrowwidth\":1},\"autotypenumbers\":\"strict\",\"coloraxis\":{\"colorbar\":{\"outlinewidth\":0,\"ticks\":\"\"}},\"colorscale\":{\"diverging\":[[0,\"#8e0152\"],[0.1,\"#c51b7d\"],[0.2,\"#de77ae\"],[0.3,\"#f1b6da\"],[0.4,\"#fde0ef\"],[0.5,\"#f7f7f7\"],[0.6,\"#e6f5d0\"],[0.7,\"#b8e186\"],[0.8,\"#7fbc41\"],[0.9,\"#4d9221\"],[1,\"#276419\"]],\"sequential\":[[0.0,\"#0d0887\"],[0.1111111111111111,\"#46039f\"],[0.2222222222222222,\"#7201a8\"],[0.3333333333333333,\"#9c179e\"],[0.4444444444444444,\"#bd3786\"],[0.5555555555555556,\"#d8576b\"],[0.6666666666666666,\"#ed7953\"],[0.7777777777777778,\"#fb9f3a\"],[0.8888888888888888,\"#fdca26\"],[1.0,\"#f0f921\"]],\"sequentialminus\":[[0.0,\"#0d0887\"],[0.1111111111111111,\"#46039f\"],[0.2222222222222222,\"#7201a8\"],[0.3333333333333333,\"#9c179e\"],[0.4444444444444444,\"#bd3786\"],[0.5555555555555556,\"#d8576b\"],[0.6666666666666666,\"#ed7953\"],[0.7777777777777778,\"#fb9f3a\"],[0.8888888888888888,\"#fdca26\"],[1.0,\"#f0f921\"]]},\"colorway\":[\"#636efa\",\"#EF553B\",\"#00cc96\",\"#ab63fa\",\"#FFA15A\",\"#19d3f3\",\"#FF6692\",\"#B6E880\",\"#FF97FF\",\"#FECB52\"],\"font\":{\"color\":\"#2a3f5f\"},\"geo\":{\"bgcolor\":\"white\",\"lakecolor\":\"white\",\"landcolor\":\"#E5ECF6\",\"showlakes\":true,\"showland\":true,\"subunitcolor\":\"white\"},\"hoverlabel\":{\"align\":\"left\"},\"hovermode\":\"closest\",\"mapbox\":{\"style\":\"light\"},\"paper_bgcolor\":\"white\",\"plot_bgcolor\":\"#E5ECF6\",\"polar\":{\"angularaxis\":{\"gridcolor\":\"white\",\"linecolor\":\"white\",\"ticks\":\"\"},\"bgcolor\":\"#E5ECF6\",\"radialaxis\":{\"gridcolor\":\"white\",\"linecolor\":\"white\",\"ticks\":\"\"}},\"scene\":{\"xaxis\":{\"backgroundcolor\":\"#E5ECF6\",\"gridcolor\":\"white\",\"gridwidth\":2,\"linecolor\":\"white\",\"showbackground\":true,\"ticks\":\"\",\"zerolinecolor\":\"white\"},\"yaxis\":{\"backgroundcolor\":\"#E5ECF6\",\"gridcolor\":\"white\",\"gridwidth\":2,\"linecolor\":\"white\",\"showbackground\":true,\"ticks\":\"\",\"zerolinecolor\":\"white\"},\"zaxis\":{\"backgroundcolor\":\"#E5ECF6\",\"gridcolor\":\"white\",\"gridwidth\":2,\"linecolor\":\"white\",\"showbackground\":true,\"ticks\":\"\",\"zerolinecolor\":\"white\"}},\"shapedefaults\":{\"line\":{\"color\":\"#2a3f5f\"}},\"ternary\":{\"aaxis\":{\"gridcolor\":\"white\",\"linecolor\":\"white\",\"ticks\":\"\"},\"baxis\":{\"gridcolor\":\"white\",\"linecolor\":\"white\",\"ticks\":\"\"},\"bgcolor\":\"#E5ECF6\",\"caxis\":{\"gridcolor\":\"white\",\"linecolor\":\"white\",\"ticks\":\"\"}},\"title\":{\"x\":0.05},\"xaxis\":{\"automargin\":true,\"gridcolor\":\"white\",\"linecolor\":\"white\",\"ticks\":\"\",\"title\":{\"standoff\":15},\"zerolinecolor\":\"white\",\"zerolinewidth\":2},\"yaxis\":{\"automargin\":true,\"gridcolor\":\"white\",\"linecolor\":\"white\",\"ticks\":\"\",\"title\":{\"standoff\":15},\"zerolinecolor\":\"white\",\"zerolinewidth\":2}}},\"xaxis\":{\"title\":{\"text\":\"$\\\\alpha$\"}},\"yaxis\":{\"title\":{\"text\":\"CV RMSE\"}}},                        {\"responsive\": true}                    ).then(function(){\n",
       "                            \n",
       "var gd = document.getElementById('f5cd4689-4edf-44f0-a0c6-178ca7666e2e');\n",
       "var x = new MutationObserver(function (mutations, observer) {{\n",
       "        var display = window.getComputedStyle(gd).display;\n",
       "        if (!display || display === 'none') {{\n",
       "            console.log([gd, 'removed!']);\n",
       "            Plotly.purge(gd);\n",
       "            observer.disconnect();\n",
       "        }}\n",
       "}});\n",
       "\n",
       "// Listen for the removal of the full notebook cells\n",
       "var notebookContainer = gd.closest('#notebook-container');\n",
       "if (notebookContainer) {{\n",
       "    x.observe(notebookContainer, {childList: true});\n",
       "}}\n",
       "\n",
       "// Listen for the clearing of the current output cell\n",
       "var outputEl = gd.closest('.output');\n",
       "if (outputEl) {{\n",
       "    x.observe(outputEl, {childList: true});\n",
       "}}\n",
       "\n",
       "                        })                };                });            </script>        </div>"
      ]
     },
     "metadata": {},
     "output_type": "display_data"
    }
   ],
   "source": [
    "fig = go.Figure()\n",
    "fig.add_trace(go.Scatter(x = alphas, y = train_values, mode=\"lines+markers\", name=\"Train\"))\n",
    "fig.add_trace(go.Scatter(x = alphas, y = cv_values, mode=\"lines+markers\", name=\"CV\"))\n",
    "fig.update_layout(xaxis_title=r\"$\\alpha$\", yaxis_title=\"CV RMSE\")"
   ]
  },
  {
   "cell_type": "code",
   "execution_count": 56,
   "metadata": {},
   "outputs": [],
   "source": [
    "models['quant+dc+o+n-Ridge1.75'] = (name_design_matrix_std,  Ridge(alpha = 1.75))"
   ]
  },
  {
   "cell_type": "code",
   "execution_count": 57,
   "metadata": {},
   "outputs": [
    {
     "data": {
      "application/vnd.plotly.v1+json": {
       "config": {
        "plotlyServerURL": "https://plot.ly"
       },
       "data": [
        {
         "name": "Training RMSE",
         "type": "bar",
         "x": [
          "quant",
          "quant+dc",
          "quant+dc+o",
          "quant+dc+o+b",
          "quant+dc+o+n-Ridge.5",
          "quant+dc+o+n-Ridge100",
          "quant+dc+o+n-Ridge1.75"
         ],
         "y": [
          3.3745826999424575,
          3.0333093446259114,
          3.012941172853171,
          2.8544602711982514,
          1.5526480372681277,
          3.396301099326064,
          1.9166640085970117
         ]
        },
        {
         "name": "CV RMSE",
         "type": "bar",
         "x": [
          "quant",
          "quant+dc",
          "quant+dc+o",
          "quant+dc+o+b",
          "quant+dc+o+n-Ridge.5",
          "quant+dc+o+n-Ridge100",
          "quant+dc+o+n-Ridge1.75"
         ],
         "y": [
          3.455901515616253,
          3.1113159765045713,
          3.1207285180151887,
          3.191957976808454,
          3.1168076796252744,
          3.592535514336081,
          3.049523335111162
         ]
        }
       ],
       "layout": {
        "template": {
         "data": {
          "bar": [
           {
            "error_x": {
             "color": "#2a3f5f"
            },
            "error_y": {
             "color": "#2a3f5f"
            },
            "marker": {
             "line": {
              "color": "#E5ECF6",
              "width": 0.5
             },
             "pattern": {
              "fillmode": "overlay",
              "size": 10,
              "solidity": 0.2
             }
            },
            "type": "bar"
           }
          ],
          "barpolar": [
           {
            "marker": {
             "line": {
              "color": "#E5ECF6",
              "width": 0.5
             },
             "pattern": {
              "fillmode": "overlay",
              "size": 10,
              "solidity": 0.2
             }
            },
            "type": "barpolar"
           }
          ],
          "carpet": [
           {
            "aaxis": {
             "endlinecolor": "#2a3f5f",
             "gridcolor": "white",
             "linecolor": "white",
             "minorgridcolor": "white",
             "startlinecolor": "#2a3f5f"
            },
            "baxis": {
             "endlinecolor": "#2a3f5f",
             "gridcolor": "white",
             "linecolor": "white",
             "minorgridcolor": "white",
             "startlinecolor": "#2a3f5f"
            },
            "type": "carpet"
           }
          ],
          "choropleth": [
           {
            "colorbar": {
             "outlinewidth": 0,
             "ticks": ""
            },
            "type": "choropleth"
           }
          ],
          "contour": [
           {
            "colorbar": {
             "outlinewidth": 0,
             "ticks": ""
            },
            "colorscale": [
             [
              0,
              "#0d0887"
             ],
             [
              0.1111111111111111,
              "#46039f"
             ],
             [
              0.2222222222222222,
              "#7201a8"
             ],
             [
              0.3333333333333333,
              "#9c179e"
             ],
             [
              0.4444444444444444,
              "#bd3786"
             ],
             [
              0.5555555555555556,
              "#d8576b"
             ],
             [
              0.6666666666666666,
              "#ed7953"
             ],
             [
              0.7777777777777778,
              "#fb9f3a"
             ],
             [
              0.8888888888888888,
              "#fdca26"
             ],
             [
              1,
              "#f0f921"
             ]
            ],
            "type": "contour"
           }
          ],
          "contourcarpet": [
           {
            "colorbar": {
             "outlinewidth": 0,
             "ticks": ""
            },
            "type": "contourcarpet"
           }
          ],
          "heatmap": [
           {
            "colorbar": {
             "outlinewidth": 0,
             "ticks": ""
            },
            "colorscale": [
             [
              0,
              "#0d0887"
             ],
             [
              0.1111111111111111,
              "#46039f"
             ],
             [
              0.2222222222222222,
              "#7201a8"
             ],
             [
              0.3333333333333333,
              "#9c179e"
             ],
             [
              0.4444444444444444,
              "#bd3786"
             ],
             [
              0.5555555555555556,
              "#d8576b"
             ],
             [
              0.6666666666666666,
              "#ed7953"
             ],
             [
              0.7777777777777778,
              "#fb9f3a"
             ],
             [
              0.8888888888888888,
              "#fdca26"
             ],
             [
              1,
              "#f0f921"
             ]
            ],
            "type": "heatmap"
           }
          ],
          "heatmapgl": [
           {
            "colorbar": {
             "outlinewidth": 0,
             "ticks": ""
            },
            "colorscale": [
             [
              0,
              "#0d0887"
             ],
             [
              0.1111111111111111,
              "#46039f"
             ],
             [
              0.2222222222222222,
              "#7201a8"
             ],
             [
              0.3333333333333333,
              "#9c179e"
             ],
             [
              0.4444444444444444,
              "#bd3786"
             ],
             [
              0.5555555555555556,
              "#d8576b"
             ],
             [
              0.6666666666666666,
              "#ed7953"
             ],
             [
              0.7777777777777778,
              "#fb9f3a"
             ],
             [
              0.8888888888888888,
              "#fdca26"
             ],
             [
              1,
              "#f0f921"
             ]
            ],
            "type": "heatmapgl"
           }
          ],
          "histogram": [
           {
            "marker": {
             "pattern": {
              "fillmode": "overlay",
              "size": 10,
              "solidity": 0.2
             }
            },
            "type": "histogram"
           }
          ],
          "histogram2d": [
           {
            "colorbar": {
             "outlinewidth": 0,
             "ticks": ""
            },
            "colorscale": [
             [
              0,
              "#0d0887"
             ],
             [
              0.1111111111111111,
              "#46039f"
             ],
             [
              0.2222222222222222,
              "#7201a8"
             ],
             [
              0.3333333333333333,
              "#9c179e"
             ],
             [
              0.4444444444444444,
              "#bd3786"
             ],
             [
              0.5555555555555556,
              "#d8576b"
             ],
             [
              0.6666666666666666,
              "#ed7953"
             ],
             [
              0.7777777777777778,
              "#fb9f3a"
             ],
             [
              0.8888888888888888,
              "#fdca26"
             ],
             [
              1,
              "#f0f921"
             ]
            ],
            "type": "histogram2d"
           }
          ],
          "histogram2dcontour": [
           {
            "colorbar": {
             "outlinewidth": 0,
             "ticks": ""
            },
            "colorscale": [
             [
              0,
              "#0d0887"
             ],
             [
              0.1111111111111111,
              "#46039f"
             ],
             [
              0.2222222222222222,
              "#7201a8"
             ],
             [
              0.3333333333333333,
              "#9c179e"
             ],
             [
              0.4444444444444444,
              "#bd3786"
             ],
             [
              0.5555555555555556,
              "#d8576b"
             ],
             [
              0.6666666666666666,
              "#ed7953"
             ],
             [
              0.7777777777777778,
              "#fb9f3a"
             ],
             [
              0.8888888888888888,
              "#fdca26"
             ],
             [
              1,
              "#f0f921"
             ]
            ],
            "type": "histogram2dcontour"
           }
          ],
          "mesh3d": [
           {
            "colorbar": {
             "outlinewidth": 0,
             "ticks": ""
            },
            "type": "mesh3d"
           }
          ],
          "parcoords": [
           {
            "line": {
             "colorbar": {
              "outlinewidth": 0,
              "ticks": ""
             }
            },
            "type": "parcoords"
           }
          ],
          "pie": [
           {
            "automargin": true,
            "type": "pie"
           }
          ],
          "scatter": [
           {
            "marker": {
             "colorbar": {
              "outlinewidth": 0,
              "ticks": ""
             }
            },
            "type": "scatter"
           }
          ],
          "scatter3d": [
           {
            "line": {
             "colorbar": {
              "outlinewidth": 0,
              "ticks": ""
             }
            },
            "marker": {
             "colorbar": {
              "outlinewidth": 0,
              "ticks": ""
             }
            },
            "type": "scatter3d"
           }
          ],
          "scattercarpet": [
           {
            "marker": {
             "colorbar": {
              "outlinewidth": 0,
              "ticks": ""
             }
            },
            "type": "scattercarpet"
           }
          ],
          "scattergeo": [
           {
            "marker": {
             "colorbar": {
              "outlinewidth": 0,
              "ticks": ""
             }
            },
            "type": "scattergeo"
           }
          ],
          "scattergl": [
           {
            "marker": {
             "colorbar": {
              "outlinewidth": 0,
              "ticks": ""
             }
            },
            "type": "scattergl"
           }
          ],
          "scattermapbox": [
           {
            "marker": {
             "colorbar": {
              "outlinewidth": 0,
              "ticks": ""
             }
            },
            "type": "scattermapbox"
           }
          ],
          "scatterpolar": [
           {
            "marker": {
             "colorbar": {
              "outlinewidth": 0,
              "ticks": ""
             }
            },
            "type": "scatterpolar"
           }
          ],
          "scatterpolargl": [
           {
            "marker": {
             "colorbar": {
              "outlinewidth": 0,
              "ticks": ""
             }
            },
            "type": "scatterpolargl"
           }
          ],
          "scatterternary": [
           {
            "marker": {
             "colorbar": {
              "outlinewidth": 0,
              "ticks": ""
             }
            },
            "type": "scatterternary"
           }
          ],
          "surface": [
           {
            "colorbar": {
             "outlinewidth": 0,
             "ticks": ""
            },
            "colorscale": [
             [
              0,
              "#0d0887"
             ],
             [
              0.1111111111111111,
              "#46039f"
             ],
             [
              0.2222222222222222,
              "#7201a8"
             ],
             [
              0.3333333333333333,
              "#9c179e"
             ],
             [
              0.4444444444444444,
              "#bd3786"
             ],
             [
              0.5555555555555556,
              "#d8576b"
             ],
             [
              0.6666666666666666,
              "#ed7953"
             ],
             [
              0.7777777777777778,
              "#fb9f3a"
             ],
             [
              0.8888888888888888,
              "#fdca26"
             ],
             [
              1,
              "#f0f921"
             ]
            ],
            "type": "surface"
           }
          ],
          "table": [
           {
            "cells": {
             "fill": {
              "color": "#EBF0F8"
             },
             "line": {
              "color": "white"
             }
            },
            "header": {
             "fill": {
              "color": "#C8D4E3"
             },
             "line": {
              "color": "white"
             }
            },
            "type": "table"
           }
          ]
         },
         "layout": {
          "annotationdefaults": {
           "arrowcolor": "#2a3f5f",
           "arrowhead": 0,
           "arrowwidth": 1
          },
          "autotypenumbers": "strict",
          "coloraxis": {
           "colorbar": {
            "outlinewidth": 0,
            "ticks": ""
           }
          },
          "colorscale": {
           "diverging": [
            [
             0,
             "#8e0152"
            ],
            [
             0.1,
             "#c51b7d"
            ],
            [
             0.2,
             "#de77ae"
            ],
            [
             0.3,
             "#f1b6da"
            ],
            [
             0.4,
             "#fde0ef"
            ],
            [
             0.5,
             "#f7f7f7"
            ],
            [
             0.6,
             "#e6f5d0"
            ],
            [
             0.7,
             "#b8e186"
            ],
            [
             0.8,
             "#7fbc41"
            ],
            [
             0.9,
             "#4d9221"
            ],
            [
             1,
             "#276419"
            ]
           ],
           "sequential": [
            [
             0,
             "#0d0887"
            ],
            [
             0.1111111111111111,
             "#46039f"
            ],
            [
             0.2222222222222222,
             "#7201a8"
            ],
            [
             0.3333333333333333,
             "#9c179e"
            ],
            [
             0.4444444444444444,
             "#bd3786"
            ],
            [
             0.5555555555555556,
             "#d8576b"
            ],
            [
             0.6666666666666666,
             "#ed7953"
            ],
            [
             0.7777777777777778,
             "#fb9f3a"
            ],
            [
             0.8888888888888888,
             "#fdca26"
            ],
            [
             1,
             "#f0f921"
            ]
           ],
           "sequentialminus": [
            [
             0,
             "#0d0887"
            ],
            [
             0.1111111111111111,
             "#46039f"
            ],
            [
             0.2222222222222222,
             "#7201a8"
            ],
            [
             0.3333333333333333,
             "#9c179e"
            ],
            [
             0.4444444444444444,
             "#bd3786"
            ],
            [
             0.5555555555555556,
             "#d8576b"
            ],
            [
             0.6666666666666666,
             "#ed7953"
            ],
            [
             0.7777777777777778,
             "#fb9f3a"
            ],
            [
             0.8888888888888888,
             "#fdca26"
            ],
            [
             1,
             "#f0f921"
            ]
           ]
          },
          "colorway": [
           "#636efa",
           "#EF553B",
           "#00cc96",
           "#ab63fa",
           "#FFA15A",
           "#19d3f3",
           "#FF6692",
           "#B6E880",
           "#FF97FF",
           "#FECB52"
          ],
          "font": {
           "color": "#2a3f5f"
          },
          "geo": {
           "bgcolor": "white",
           "lakecolor": "white",
           "landcolor": "#E5ECF6",
           "showlakes": true,
           "showland": true,
           "subunitcolor": "white"
          },
          "hoverlabel": {
           "align": "left"
          },
          "hovermode": "closest",
          "mapbox": {
           "style": "light"
          },
          "paper_bgcolor": "white",
          "plot_bgcolor": "#E5ECF6",
          "polar": {
           "angularaxis": {
            "gridcolor": "white",
            "linecolor": "white",
            "ticks": ""
           },
           "bgcolor": "#E5ECF6",
           "radialaxis": {
            "gridcolor": "white",
            "linecolor": "white",
            "ticks": ""
           }
          },
          "scene": {
           "xaxis": {
            "backgroundcolor": "#E5ECF6",
            "gridcolor": "white",
            "gridwidth": 2,
            "linecolor": "white",
            "showbackground": true,
            "ticks": "",
            "zerolinecolor": "white"
           },
           "yaxis": {
            "backgroundcolor": "#E5ECF6",
            "gridcolor": "white",
            "gridwidth": 2,
            "linecolor": "white",
            "showbackground": true,
            "ticks": "",
            "zerolinecolor": "white"
           },
           "zaxis": {
            "backgroundcolor": "#E5ECF6",
            "gridcolor": "white",
            "gridwidth": 2,
            "linecolor": "white",
            "showbackground": true,
            "ticks": "",
            "zerolinecolor": "white"
           }
          },
          "shapedefaults": {
           "line": {
            "color": "#2a3f5f"
           }
          },
          "ternary": {
           "aaxis": {
            "gridcolor": "white",
            "linecolor": "white",
            "ticks": ""
           },
           "baxis": {
            "gridcolor": "white",
            "linecolor": "white",
            "ticks": ""
           },
           "bgcolor": "#E5ECF6",
           "caxis": {
            "gridcolor": "white",
            "linecolor": "white",
            "ticks": ""
           }
          },
          "title": {
           "x": 0.05
          },
          "xaxis": {
           "automargin": true,
           "gridcolor": "white",
           "linecolor": "white",
           "ticks": "",
           "title": {
            "standoff": 15
           },
           "zerolinecolor": "white",
           "zerolinewidth": 2
          },
          "yaxis": {
           "automargin": true,
           "gridcolor": "white",
           "linecolor": "white",
           "ticks": "",
           "title": {
            "standoff": 15
           },
           "zerolinecolor": "white",
           "zerolinewidth": 2
          }
         }
        },
        "yaxis": {
         "range": [
          0,
          4
         ],
         "title": {
          "text": "RMSE"
         }
        }
       }
      },
      "text/html": [
       "<div>                            <div id=\"d6b9a187-54ad-4ec3-8f0f-9992842a7e1e\" class=\"plotly-graph-div\" style=\"height:525px; width:100%;\"></div>            <script type=\"text/javascript\">                require([\"plotly\"], function(Plotly) {                    window.PLOTLYENV=window.PLOTLYENV || {};                                    if (document.getElementById(\"d6b9a187-54ad-4ec3-8f0f-9992842a7e1e\")) {                    Plotly.newPlot(                        \"d6b9a187-54ad-4ec3-8f0f-9992842a7e1e\",                        [{\"name\":\"Training RMSE\",\"type\":\"bar\",\"x\":[\"quant\",\"quant+dc\",\"quant+dc+o\",\"quant+dc+o+b\",\"quant+dc+o+n-Ridge.5\",\"quant+dc+o+n-Ridge100\",\"quant+dc+o+n-Ridge1.75\"],\"y\":[3.3745826999424575,3.0333093446259114,3.012941172853171,2.8544602711982514,1.5526480372681277,3.396301099326064,1.9166640085970117]},{\"name\":\"CV RMSE\",\"type\":\"bar\",\"x\":[\"quant\",\"quant+dc\",\"quant+dc+o\",\"quant+dc+o+b\",\"quant+dc+o+n-Ridge.5\",\"quant+dc+o+n-Ridge100\",\"quant+dc+o+n-Ridge1.75\"],\"y\":[3.455901515616253,3.1113159765045713,3.1207285180151887,3.191957976808454,3.1168076796252744,3.592535514336081,3.049523335111162]}],                        {\"template\":{\"data\":{\"bar\":[{\"error_x\":{\"color\":\"#2a3f5f\"},\"error_y\":{\"color\":\"#2a3f5f\"},\"marker\":{\"line\":{\"color\":\"#E5ECF6\",\"width\":0.5},\"pattern\":{\"fillmode\":\"overlay\",\"size\":10,\"solidity\":0.2}},\"type\":\"bar\"}],\"barpolar\":[{\"marker\":{\"line\":{\"color\":\"#E5ECF6\",\"width\":0.5},\"pattern\":{\"fillmode\":\"overlay\",\"size\":10,\"solidity\":0.2}},\"type\":\"barpolar\"}],\"carpet\":[{\"aaxis\":{\"endlinecolor\":\"#2a3f5f\",\"gridcolor\":\"white\",\"linecolor\":\"white\",\"minorgridcolor\":\"white\",\"startlinecolor\":\"#2a3f5f\"},\"baxis\":{\"endlinecolor\":\"#2a3f5f\",\"gridcolor\":\"white\",\"linecolor\":\"white\",\"minorgridcolor\":\"white\",\"startlinecolor\":\"#2a3f5f\"},\"type\":\"carpet\"}],\"choropleth\":[{\"colorbar\":{\"outlinewidth\":0,\"ticks\":\"\"},\"type\":\"choropleth\"}],\"contour\":[{\"colorbar\":{\"outlinewidth\":0,\"ticks\":\"\"},\"colorscale\":[[0.0,\"#0d0887\"],[0.1111111111111111,\"#46039f\"],[0.2222222222222222,\"#7201a8\"],[0.3333333333333333,\"#9c179e\"],[0.4444444444444444,\"#bd3786\"],[0.5555555555555556,\"#d8576b\"],[0.6666666666666666,\"#ed7953\"],[0.7777777777777778,\"#fb9f3a\"],[0.8888888888888888,\"#fdca26\"],[1.0,\"#f0f921\"]],\"type\":\"contour\"}],\"contourcarpet\":[{\"colorbar\":{\"outlinewidth\":0,\"ticks\":\"\"},\"type\":\"contourcarpet\"}],\"heatmap\":[{\"colorbar\":{\"outlinewidth\":0,\"ticks\":\"\"},\"colorscale\":[[0.0,\"#0d0887\"],[0.1111111111111111,\"#46039f\"],[0.2222222222222222,\"#7201a8\"],[0.3333333333333333,\"#9c179e\"],[0.4444444444444444,\"#bd3786\"],[0.5555555555555556,\"#d8576b\"],[0.6666666666666666,\"#ed7953\"],[0.7777777777777778,\"#fb9f3a\"],[0.8888888888888888,\"#fdca26\"],[1.0,\"#f0f921\"]],\"type\":\"heatmap\"}],\"heatmapgl\":[{\"colorbar\":{\"outlinewidth\":0,\"ticks\":\"\"},\"colorscale\":[[0.0,\"#0d0887\"],[0.1111111111111111,\"#46039f\"],[0.2222222222222222,\"#7201a8\"],[0.3333333333333333,\"#9c179e\"],[0.4444444444444444,\"#bd3786\"],[0.5555555555555556,\"#d8576b\"],[0.6666666666666666,\"#ed7953\"],[0.7777777777777778,\"#fb9f3a\"],[0.8888888888888888,\"#fdca26\"],[1.0,\"#f0f921\"]],\"type\":\"heatmapgl\"}],\"histogram\":[{\"marker\":{\"pattern\":{\"fillmode\":\"overlay\",\"size\":10,\"solidity\":0.2}},\"type\":\"histogram\"}],\"histogram2d\":[{\"colorbar\":{\"outlinewidth\":0,\"ticks\":\"\"},\"colorscale\":[[0.0,\"#0d0887\"],[0.1111111111111111,\"#46039f\"],[0.2222222222222222,\"#7201a8\"],[0.3333333333333333,\"#9c179e\"],[0.4444444444444444,\"#bd3786\"],[0.5555555555555556,\"#d8576b\"],[0.6666666666666666,\"#ed7953\"],[0.7777777777777778,\"#fb9f3a\"],[0.8888888888888888,\"#fdca26\"],[1.0,\"#f0f921\"]],\"type\":\"histogram2d\"}],\"histogram2dcontour\":[{\"colorbar\":{\"outlinewidth\":0,\"ticks\":\"\"},\"colorscale\":[[0.0,\"#0d0887\"],[0.1111111111111111,\"#46039f\"],[0.2222222222222222,\"#7201a8\"],[0.3333333333333333,\"#9c179e\"],[0.4444444444444444,\"#bd3786\"],[0.5555555555555556,\"#d8576b\"],[0.6666666666666666,\"#ed7953\"],[0.7777777777777778,\"#fb9f3a\"],[0.8888888888888888,\"#fdca26\"],[1.0,\"#f0f921\"]],\"type\":\"histogram2dcontour\"}],\"mesh3d\":[{\"colorbar\":{\"outlinewidth\":0,\"ticks\":\"\"},\"type\":\"mesh3d\"}],\"parcoords\":[{\"line\":{\"colorbar\":{\"outlinewidth\":0,\"ticks\":\"\"}},\"type\":\"parcoords\"}],\"pie\":[{\"automargin\":true,\"type\":\"pie\"}],\"scatter\":[{\"marker\":{\"colorbar\":{\"outlinewidth\":0,\"ticks\":\"\"}},\"type\":\"scatter\"}],\"scatter3d\":[{\"line\":{\"colorbar\":{\"outlinewidth\":0,\"ticks\":\"\"}},\"marker\":{\"colorbar\":{\"outlinewidth\":0,\"ticks\":\"\"}},\"type\":\"scatter3d\"}],\"scattercarpet\":[{\"marker\":{\"colorbar\":{\"outlinewidth\":0,\"ticks\":\"\"}},\"type\":\"scattercarpet\"}],\"scattergeo\":[{\"marker\":{\"colorbar\":{\"outlinewidth\":0,\"ticks\":\"\"}},\"type\":\"scattergeo\"}],\"scattergl\":[{\"marker\":{\"colorbar\":{\"outlinewidth\":0,\"ticks\":\"\"}},\"type\":\"scattergl\"}],\"scattermapbox\":[{\"marker\":{\"colorbar\":{\"outlinewidth\":0,\"ticks\":\"\"}},\"type\":\"scattermapbox\"}],\"scatterpolar\":[{\"marker\":{\"colorbar\":{\"outlinewidth\":0,\"ticks\":\"\"}},\"type\":\"scatterpolar\"}],\"scatterpolargl\":[{\"marker\":{\"colorbar\":{\"outlinewidth\":0,\"ticks\":\"\"}},\"type\":\"scatterpolargl\"}],\"scatterternary\":[{\"marker\":{\"colorbar\":{\"outlinewidth\":0,\"ticks\":\"\"}},\"type\":\"scatterternary\"}],\"surface\":[{\"colorbar\":{\"outlinewidth\":0,\"ticks\":\"\"},\"colorscale\":[[0.0,\"#0d0887\"],[0.1111111111111111,\"#46039f\"],[0.2222222222222222,\"#7201a8\"],[0.3333333333333333,\"#9c179e\"],[0.4444444444444444,\"#bd3786\"],[0.5555555555555556,\"#d8576b\"],[0.6666666666666666,\"#ed7953\"],[0.7777777777777778,\"#fb9f3a\"],[0.8888888888888888,\"#fdca26\"],[1.0,\"#f0f921\"]],\"type\":\"surface\"}],\"table\":[{\"cells\":{\"fill\":{\"color\":\"#EBF0F8\"},\"line\":{\"color\":\"white\"}},\"header\":{\"fill\":{\"color\":\"#C8D4E3\"},\"line\":{\"color\":\"white\"}},\"type\":\"table\"}]},\"layout\":{\"annotationdefaults\":{\"arrowcolor\":\"#2a3f5f\",\"arrowhead\":0,\"arrowwidth\":1},\"autotypenumbers\":\"strict\",\"coloraxis\":{\"colorbar\":{\"outlinewidth\":0,\"ticks\":\"\"}},\"colorscale\":{\"diverging\":[[0,\"#8e0152\"],[0.1,\"#c51b7d\"],[0.2,\"#de77ae\"],[0.3,\"#f1b6da\"],[0.4,\"#fde0ef\"],[0.5,\"#f7f7f7\"],[0.6,\"#e6f5d0\"],[0.7,\"#b8e186\"],[0.8,\"#7fbc41\"],[0.9,\"#4d9221\"],[1,\"#276419\"]],\"sequential\":[[0.0,\"#0d0887\"],[0.1111111111111111,\"#46039f\"],[0.2222222222222222,\"#7201a8\"],[0.3333333333333333,\"#9c179e\"],[0.4444444444444444,\"#bd3786\"],[0.5555555555555556,\"#d8576b\"],[0.6666666666666666,\"#ed7953\"],[0.7777777777777778,\"#fb9f3a\"],[0.8888888888888888,\"#fdca26\"],[1.0,\"#f0f921\"]],\"sequentialminus\":[[0.0,\"#0d0887\"],[0.1111111111111111,\"#46039f\"],[0.2222222222222222,\"#7201a8\"],[0.3333333333333333,\"#9c179e\"],[0.4444444444444444,\"#bd3786\"],[0.5555555555555556,\"#d8576b\"],[0.6666666666666666,\"#ed7953\"],[0.7777777777777778,\"#fb9f3a\"],[0.8888888888888888,\"#fdca26\"],[1.0,\"#f0f921\"]]},\"colorway\":[\"#636efa\",\"#EF553B\",\"#00cc96\",\"#ab63fa\",\"#FFA15A\",\"#19d3f3\",\"#FF6692\",\"#B6E880\",\"#FF97FF\",\"#FECB52\"],\"font\":{\"color\":\"#2a3f5f\"},\"geo\":{\"bgcolor\":\"white\",\"lakecolor\":\"white\",\"landcolor\":\"#E5ECF6\",\"showlakes\":true,\"showland\":true,\"subunitcolor\":\"white\"},\"hoverlabel\":{\"align\":\"left\"},\"hovermode\":\"closest\",\"mapbox\":{\"style\":\"light\"},\"paper_bgcolor\":\"white\",\"plot_bgcolor\":\"#E5ECF6\",\"polar\":{\"angularaxis\":{\"gridcolor\":\"white\",\"linecolor\":\"white\",\"ticks\":\"\"},\"bgcolor\":\"#E5ECF6\",\"radialaxis\":{\"gridcolor\":\"white\",\"linecolor\":\"white\",\"ticks\":\"\"}},\"scene\":{\"xaxis\":{\"backgroundcolor\":\"#E5ECF6\",\"gridcolor\":\"white\",\"gridwidth\":2,\"linecolor\":\"white\",\"showbackground\":true,\"ticks\":\"\",\"zerolinecolor\":\"white\"},\"yaxis\":{\"backgroundcolor\":\"#E5ECF6\",\"gridcolor\":\"white\",\"gridwidth\":2,\"linecolor\":\"white\",\"showbackground\":true,\"ticks\":\"\",\"zerolinecolor\":\"white\"},\"zaxis\":{\"backgroundcolor\":\"#E5ECF6\",\"gridcolor\":\"white\",\"gridwidth\":2,\"linecolor\":\"white\",\"showbackground\":true,\"ticks\":\"\",\"zerolinecolor\":\"white\"}},\"shapedefaults\":{\"line\":{\"color\":\"#2a3f5f\"}},\"ternary\":{\"aaxis\":{\"gridcolor\":\"white\",\"linecolor\":\"white\",\"ticks\":\"\"},\"baxis\":{\"gridcolor\":\"white\",\"linecolor\":\"white\",\"ticks\":\"\"},\"bgcolor\":\"#E5ECF6\",\"caxis\":{\"gridcolor\":\"white\",\"linecolor\":\"white\",\"ticks\":\"\"}},\"title\":{\"x\":0.05},\"xaxis\":{\"automargin\":true,\"gridcolor\":\"white\",\"linecolor\":\"white\",\"ticks\":\"\",\"title\":{\"standoff\":15},\"zerolinecolor\":\"white\",\"zerolinewidth\":2},\"yaxis\":{\"automargin\":true,\"gridcolor\":\"white\",\"linecolor\":\"white\",\"ticks\":\"\",\"title\":{\"standoff\":15},\"zerolinecolor\":\"white\",\"zerolinewidth\":2}}},\"yaxis\":{\"range\":[0,4],\"title\":{\"text\":\"RMSE\"}}},                        {\"responsive\": true}                    ).then(function(){\n",
       "                            \n",
       "var gd = document.getElementById('d6b9a187-54ad-4ec3-8f0f-9992842a7e1e');\n",
       "var x = new MutationObserver(function (mutations, observer) {{\n",
       "        var display = window.getComputedStyle(gd).display;\n",
       "        if (!display || display === 'none') {{\n",
       "            console.log([gd, 'removed!']);\n",
       "            Plotly.purge(gd);\n",
       "            observer.disconnect();\n",
       "        }}\n",
       "}});\n",
       "\n",
       "// Listen for the removal of the full notebook cells\n",
       "var notebookContainer = gd.closest('#notebook-container');\n",
       "if (notebookContainer) {{\n",
       "    x.observe(notebookContainer, {childList: true});\n",
       "}}\n",
       "\n",
       "// Listen for the clearing of the current output cell\n",
       "var outputEl = gd.closest('.output');\n",
       "if (outputEl) {{\n",
       "    x.observe(outputEl, {childList: true});\n",
       "}}\n",
       "\n",
       "                        })                };                });            </script>        </div>"
      ]
     },
     "metadata": {},
     "output_type": "display_data"
    }
   ],
   "source": [
    "fig = compare_models(models)\n",
    "fig.update_yaxes(range = [0, 4], title = \"RMSE\")"
   ]
  },
  {
   "cell_type": "code",
   "execution_count": 58,
   "metadata": {},
   "outputs": [],
   "source": [
    "from sklearn.linear_model import RidgeCV"
   ]
  },
  {
   "cell_type": "code",
   "execution_count": 59,
   "metadata": {},
   "outputs": [],
   "source": [
    "models['quant+dc+o+n-RidgeCV'] = (name_design_matrix_std, RidgeCV())"
   ]
  },
  {
   "cell_type": "code",
   "execution_count": 60,
   "metadata": {},
   "outputs": [
    {
     "data": {
      "application/vnd.plotly.v1+json": {
       "config": {
        "plotlyServerURL": "https://plot.ly"
       },
       "data": [
        {
         "name": "Training RMSE",
         "type": "bar",
         "x": [
          "quant",
          "quant+dc",
          "quant+dc+o",
          "quant+dc+o+b",
          "quant+dc+o+n-Ridge.5",
          "quant+dc+o+n-Ridge100",
          "quant+dc+o+n-Ridge1.75",
          "quant+dc+o+n-RidgeCV"
         ],
         "y": [
          3.3745826999424575,
          3.0333093446259114,
          3.012941172853171,
          2.8544602711982514,
          1.5526480372681277,
          3.396301099326064,
          1.9166640085970117,
          1.7284925281129038
         ]
        },
        {
         "name": "CV RMSE",
         "type": "bar",
         "x": [
          "quant",
          "quant+dc",
          "quant+dc+o",
          "quant+dc+o+b",
          "quant+dc+o+n-Ridge.5",
          "quant+dc+o+n-Ridge100",
          "quant+dc+o+n-Ridge1.75",
          "quant+dc+o+n-RidgeCV"
         ],
         "y": [
          3.455901515616253,
          3.1113159765045713,
          3.1207285180151887,
          3.191957976808454,
          3.1168076796252744,
          3.592535514336081,
          3.049523335111162,
          3.064580510565783
         ]
        }
       ],
       "layout": {
        "template": {
         "data": {
          "bar": [
           {
            "error_x": {
             "color": "#2a3f5f"
            },
            "error_y": {
             "color": "#2a3f5f"
            },
            "marker": {
             "line": {
              "color": "#E5ECF6",
              "width": 0.5
             },
             "pattern": {
              "fillmode": "overlay",
              "size": 10,
              "solidity": 0.2
             }
            },
            "type": "bar"
           }
          ],
          "barpolar": [
           {
            "marker": {
             "line": {
              "color": "#E5ECF6",
              "width": 0.5
             },
             "pattern": {
              "fillmode": "overlay",
              "size": 10,
              "solidity": 0.2
             }
            },
            "type": "barpolar"
           }
          ],
          "carpet": [
           {
            "aaxis": {
             "endlinecolor": "#2a3f5f",
             "gridcolor": "white",
             "linecolor": "white",
             "minorgridcolor": "white",
             "startlinecolor": "#2a3f5f"
            },
            "baxis": {
             "endlinecolor": "#2a3f5f",
             "gridcolor": "white",
             "linecolor": "white",
             "minorgridcolor": "white",
             "startlinecolor": "#2a3f5f"
            },
            "type": "carpet"
           }
          ],
          "choropleth": [
           {
            "colorbar": {
             "outlinewidth": 0,
             "ticks": ""
            },
            "type": "choropleth"
           }
          ],
          "contour": [
           {
            "colorbar": {
             "outlinewidth": 0,
             "ticks": ""
            },
            "colorscale": [
             [
              0,
              "#0d0887"
             ],
             [
              0.1111111111111111,
              "#46039f"
             ],
             [
              0.2222222222222222,
              "#7201a8"
             ],
             [
              0.3333333333333333,
              "#9c179e"
             ],
             [
              0.4444444444444444,
              "#bd3786"
             ],
             [
              0.5555555555555556,
              "#d8576b"
             ],
             [
              0.6666666666666666,
              "#ed7953"
             ],
             [
              0.7777777777777778,
              "#fb9f3a"
             ],
             [
              0.8888888888888888,
              "#fdca26"
             ],
             [
              1,
              "#f0f921"
             ]
            ],
            "type": "contour"
           }
          ],
          "contourcarpet": [
           {
            "colorbar": {
             "outlinewidth": 0,
             "ticks": ""
            },
            "type": "contourcarpet"
           }
          ],
          "heatmap": [
           {
            "colorbar": {
             "outlinewidth": 0,
             "ticks": ""
            },
            "colorscale": [
             [
              0,
              "#0d0887"
             ],
             [
              0.1111111111111111,
              "#46039f"
             ],
             [
              0.2222222222222222,
              "#7201a8"
             ],
             [
              0.3333333333333333,
              "#9c179e"
             ],
             [
              0.4444444444444444,
              "#bd3786"
             ],
             [
              0.5555555555555556,
              "#d8576b"
             ],
             [
              0.6666666666666666,
              "#ed7953"
             ],
             [
              0.7777777777777778,
              "#fb9f3a"
             ],
             [
              0.8888888888888888,
              "#fdca26"
             ],
             [
              1,
              "#f0f921"
             ]
            ],
            "type": "heatmap"
           }
          ],
          "heatmapgl": [
           {
            "colorbar": {
             "outlinewidth": 0,
             "ticks": ""
            },
            "colorscale": [
             [
              0,
              "#0d0887"
             ],
             [
              0.1111111111111111,
              "#46039f"
             ],
             [
              0.2222222222222222,
              "#7201a8"
             ],
             [
              0.3333333333333333,
              "#9c179e"
             ],
             [
              0.4444444444444444,
              "#bd3786"
             ],
             [
              0.5555555555555556,
              "#d8576b"
             ],
             [
              0.6666666666666666,
              "#ed7953"
             ],
             [
              0.7777777777777778,
              "#fb9f3a"
             ],
             [
              0.8888888888888888,
              "#fdca26"
             ],
             [
              1,
              "#f0f921"
             ]
            ],
            "type": "heatmapgl"
           }
          ],
          "histogram": [
           {
            "marker": {
             "pattern": {
              "fillmode": "overlay",
              "size": 10,
              "solidity": 0.2
             }
            },
            "type": "histogram"
           }
          ],
          "histogram2d": [
           {
            "colorbar": {
             "outlinewidth": 0,
             "ticks": ""
            },
            "colorscale": [
             [
              0,
              "#0d0887"
             ],
             [
              0.1111111111111111,
              "#46039f"
             ],
             [
              0.2222222222222222,
              "#7201a8"
             ],
             [
              0.3333333333333333,
              "#9c179e"
             ],
             [
              0.4444444444444444,
              "#bd3786"
             ],
             [
              0.5555555555555556,
              "#d8576b"
             ],
             [
              0.6666666666666666,
              "#ed7953"
             ],
             [
              0.7777777777777778,
              "#fb9f3a"
             ],
             [
              0.8888888888888888,
              "#fdca26"
             ],
             [
              1,
              "#f0f921"
             ]
            ],
            "type": "histogram2d"
           }
          ],
          "histogram2dcontour": [
           {
            "colorbar": {
             "outlinewidth": 0,
             "ticks": ""
            },
            "colorscale": [
             [
              0,
              "#0d0887"
             ],
             [
              0.1111111111111111,
              "#46039f"
             ],
             [
              0.2222222222222222,
              "#7201a8"
             ],
             [
              0.3333333333333333,
              "#9c179e"
             ],
             [
              0.4444444444444444,
              "#bd3786"
             ],
             [
              0.5555555555555556,
              "#d8576b"
             ],
             [
              0.6666666666666666,
              "#ed7953"
             ],
             [
              0.7777777777777778,
              "#fb9f3a"
             ],
             [
              0.8888888888888888,
              "#fdca26"
             ],
             [
              1,
              "#f0f921"
             ]
            ],
            "type": "histogram2dcontour"
           }
          ],
          "mesh3d": [
           {
            "colorbar": {
             "outlinewidth": 0,
             "ticks": ""
            },
            "type": "mesh3d"
           }
          ],
          "parcoords": [
           {
            "line": {
             "colorbar": {
              "outlinewidth": 0,
              "ticks": ""
             }
            },
            "type": "parcoords"
           }
          ],
          "pie": [
           {
            "automargin": true,
            "type": "pie"
           }
          ],
          "scatter": [
           {
            "marker": {
             "colorbar": {
              "outlinewidth": 0,
              "ticks": ""
             }
            },
            "type": "scatter"
           }
          ],
          "scatter3d": [
           {
            "line": {
             "colorbar": {
              "outlinewidth": 0,
              "ticks": ""
             }
            },
            "marker": {
             "colorbar": {
              "outlinewidth": 0,
              "ticks": ""
             }
            },
            "type": "scatter3d"
           }
          ],
          "scattercarpet": [
           {
            "marker": {
             "colorbar": {
              "outlinewidth": 0,
              "ticks": ""
             }
            },
            "type": "scattercarpet"
           }
          ],
          "scattergeo": [
           {
            "marker": {
             "colorbar": {
              "outlinewidth": 0,
              "ticks": ""
             }
            },
            "type": "scattergeo"
           }
          ],
          "scattergl": [
           {
            "marker": {
             "colorbar": {
              "outlinewidth": 0,
              "ticks": ""
             }
            },
            "type": "scattergl"
           }
          ],
          "scattermapbox": [
           {
            "marker": {
             "colorbar": {
              "outlinewidth": 0,
              "ticks": ""
             }
            },
            "type": "scattermapbox"
           }
          ],
          "scatterpolar": [
           {
            "marker": {
             "colorbar": {
              "outlinewidth": 0,
              "ticks": ""
             }
            },
            "type": "scatterpolar"
           }
          ],
          "scatterpolargl": [
           {
            "marker": {
             "colorbar": {
              "outlinewidth": 0,
              "ticks": ""
             }
            },
            "type": "scatterpolargl"
           }
          ],
          "scatterternary": [
           {
            "marker": {
             "colorbar": {
              "outlinewidth": 0,
              "ticks": ""
             }
            },
            "type": "scatterternary"
           }
          ],
          "surface": [
           {
            "colorbar": {
             "outlinewidth": 0,
             "ticks": ""
            },
            "colorscale": [
             [
              0,
              "#0d0887"
             ],
             [
              0.1111111111111111,
              "#46039f"
             ],
             [
              0.2222222222222222,
              "#7201a8"
             ],
             [
              0.3333333333333333,
              "#9c179e"
             ],
             [
              0.4444444444444444,
              "#bd3786"
             ],
             [
              0.5555555555555556,
              "#d8576b"
             ],
             [
              0.6666666666666666,
              "#ed7953"
             ],
             [
              0.7777777777777778,
              "#fb9f3a"
             ],
             [
              0.8888888888888888,
              "#fdca26"
             ],
             [
              1,
              "#f0f921"
             ]
            ],
            "type": "surface"
           }
          ],
          "table": [
           {
            "cells": {
             "fill": {
              "color": "#EBF0F8"
             },
             "line": {
              "color": "white"
             }
            },
            "header": {
             "fill": {
              "color": "#C8D4E3"
             },
             "line": {
              "color": "white"
             }
            },
            "type": "table"
           }
          ]
         },
         "layout": {
          "annotationdefaults": {
           "arrowcolor": "#2a3f5f",
           "arrowhead": 0,
           "arrowwidth": 1
          },
          "autotypenumbers": "strict",
          "coloraxis": {
           "colorbar": {
            "outlinewidth": 0,
            "ticks": ""
           }
          },
          "colorscale": {
           "diverging": [
            [
             0,
             "#8e0152"
            ],
            [
             0.1,
             "#c51b7d"
            ],
            [
             0.2,
             "#de77ae"
            ],
            [
             0.3,
             "#f1b6da"
            ],
            [
             0.4,
             "#fde0ef"
            ],
            [
             0.5,
             "#f7f7f7"
            ],
            [
             0.6,
             "#e6f5d0"
            ],
            [
             0.7,
             "#b8e186"
            ],
            [
             0.8,
             "#7fbc41"
            ],
            [
             0.9,
             "#4d9221"
            ],
            [
             1,
             "#276419"
            ]
           ],
           "sequential": [
            [
             0,
             "#0d0887"
            ],
            [
             0.1111111111111111,
             "#46039f"
            ],
            [
             0.2222222222222222,
             "#7201a8"
            ],
            [
             0.3333333333333333,
             "#9c179e"
            ],
            [
             0.4444444444444444,
             "#bd3786"
            ],
            [
             0.5555555555555556,
             "#d8576b"
            ],
            [
             0.6666666666666666,
             "#ed7953"
            ],
            [
             0.7777777777777778,
             "#fb9f3a"
            ],
            [
             0.8888888888888888,
             "#fdca26"
            ],
            [
             1,
             "#f0f921"
            ]
           ],
           "sequentialminus": [
            [
             0,
             "#0d0887"
            ],
            [
             0.1111111111111111,
             "#46039f"
            ],
            [
             0.2222222222222222,
             "#7201a8"
            ],
            [
             0.3333333333333333,
             "#9c179e"
            ],
            [
             0.4444444444444444,
             "#bd3786"
            ],
            [
             0.5555555555555556,
             "#d8576b"
            ],
            [
             0.6666666666666666,
             "#ed7953"
            ],
            [
             0.7777777777777778,
             "#fb9f3a"
            ],
            [
             0.8888888888888888,
             "#fdca26"
            ],
            [
             1,
             "#f0f921"
            ]
           ]
          },
          "colorway": [
           "#636efa",
           "#EF553B",
           "#00cc96",
           "#ab63fa",
           "#FFA15A",
           "#19d3f3",
           "#FF6692",
           "#B6E880",
           "#FF97FF",
           "#FECB52"
          ],
          "font": {
           "color": "#2a3f5f"
          },
          "geo": {
           "bgcolor": "white",
           "lakecolor": "white",
           "landcolor": "#E5ECF6",
           "showlakes": true,
           "showland": true,
           "subunitcolor": "white"
          },
          "hoverlabel": {
           "align": "left"
          },
          "hovermode": "closest",
          "mapbox": {
           "style": "light"
          },
          "paper_bgcolor": "white",
          "plot_bgcolor": "#E5ECF6",
          "polar": {
           "angularaxis": {
            "gridcolor": "white",
            "linecolor": "white",
            "ticks": ""
           },
           "bgcolor": "#E5ECF6",
           "radialaxis": {
            "gridcolor": "white",
            "linecolor": "white",
            "ticks": ""
           }
          },
          "scene": {
           "xaxis": {
            "backgroundcolor": "#E5ECF6",
            "gridcolor": "white",
            "gridwidth": 2,
            "linecolor": "white",
            "showbackground": true,
            "ticks": "",
            "zerolinecolor": "white"
           },
           "yaxis": {
            "backgroundcolor": "#E5ECF6",
            "gridcolor": "white",
            "gridwidth": 2,
            "linecolor": "white",
            "showbackground": true,
            "ticks": "",
            "zerolinecolor": "white"
           },
           "zaxis": {
            "backgroundcolor": "#E5ECF6",
            "gridcolor": "white",
            "gridwidth": 2,
            "linecolor": "white",
            "showbackground": true,
            "ticks": "",
            "zerolinecolor": "white"
           }
          },
          "shapedefaults": {
           "line": {
            "color": "#2a3f5f"
           }
          },
          "ternary": {
           "aaxis": {
            "gridcolor": "white",
            "linecolor": "white",
            "ticks": ""
           },
           "baxis": {
            "gridcolor": "white",
            "linecolor": "white",
            "ticks": ""
           },
           "bgcolor": "#E5ECF6",
           "caxis": {
            "gridcolor": "white",
            "linecolor": "white",
            "ticks": ""
           }
          },
          "title": {
           "x": 0.05
          },
          "xaxis": {
           "automargin": true,
           "gridcolor": "white",
           "linecolor": "white",
           "ticks": "",
           "title": {
            "standoff": 15
           },
           "zerolinecolor": "white",
           "zerolinewidth": 2
          },
          "yaxis": {
           "automargin": true,
           "gridcolor": "white",
           "linecolor": "white",
           "ticks": "",
           "title": {
            "standoff": 15
           },
           "zerolinecolor": "white",
           "zerolinewidth": 2
          }
         }
        },
        "yaxis": {
         "range": [
          0,
          4
         ],
         "title": {
          "text": "RMSE"
         }
        }
       }
      },
      "text/html": [
       "<div>                            <div id=\"c8226584-8f14-422c-8feb-32bbba8ac93c\" class=\"plotly-graph-div\" style=\"height:525px; width:100%;\"></div>            <script type=\"text/javascript\">                require([\"plotly\"], function(Plotly) {                    window.PLOTLYENV=window.PLOTLYENV || {};                                    if (document.getElementById(\"c8226584-8f14-422c-8feb-32bbba8ac93c\")) {                    Plotly.newPlot(                        \"c8226584-8f14-422c-8feb-32bbba8ac93c\",                        [{\"name\":\"Training RMSE\",\"type\":\"bar\",\"x\":[\"quant\",\"quant+dc\",\"quant+dc+o\",\"quant+dc+o+b\",\"quant+dc+o+n-Ridge.5\",\"quant+dc+o+n-Ridge100\",\"quant+dc+o+n-Ridge1.75\",\"quant+dc+o+n-RidgeCV\"],\"y\":[3.3745826999424575,3.0333093446259114,3.012941172853171,2.8544602711982514,1.5526480372681277,3.396301099326064,1.9166640085970117,1.7284925281129038]},{\"name\":\"CV RMSE\",\"type\":\"bar\",\"x\":[\"quant\",\"quant+dc\",\"quant+dc+o\",\"quant+dc+o+b\",\"quant+dc+o+n-Ridge.5\",\"quant+dc+o+n-Ridge100\",\"quant+dc+o+n-Ridge1.75\",\"quant+dc+o+n-RidgeCV\"],\"y\":[3.455901515616253,3.1113159765045713,3.1207285180151887,3.191957976808454,3.1168076796252744,3.592535514336081,3.049523335111162,3.064580510565783]}],                        {\"template\":{\"data\":{\"bar\":[{\"error_x\":{\"color\":\"#2a3f5f\"},\"error_y\":{\"color\":\"#2a3f5f\"},\"marker\":{\"line\":{\"color\":\"#E5ECF6\",\"width\":0.5},\"pattern\":{\"fillmode\":\"overlay\",\"size\":10,\"solidity\":0.2}},\"type\":\"bar\"}],\"barpolar\":[{\"marker\":{\"line\":{\"color\":\"#E5ECF6\",\"width\":0.5},\"pattern\":{\"fillmode\":\"overlay\",\"size\":10,\"solidity\":0.2}},\"type\":\"barpolar\"}],\"carpet\":[{\"aaxis\":{\"endlinecolor\":\"#2a3f5f\",\"gridcolor\":\"white\",\"linecolor\":\"white\",\"minorgridcolor\":\"white\",\"startlinecolor\":\"#2a3f5f\"},\"baxis\":{\"endlinecolor\":\"#2a3f5f\",\"gridcolor\":\"white\",\"linecolor\":\"white\",\"minorgridcolor\":\"white\",\"startlinecolor\":\"#2a3f5f\"},\"type\":\"carpet\"}],\"choropleth\":[{\"colorbar\":{\"outlinewidth\":0,\"ticks\":\"\"},\"type\":\"choropleth\"}],\"contour\":[{\"colorbar\":{\"outlinewidth\":0,\"ticks\":\"\"},\"colorscale\":[[0.0,\"#0d0887\"],[0.1111111111111111,\"#46039f\"],[0.2222222222222222,\"#7201a8\"],[0.3333333333333333,\"#9c179e\"],[0.4444444444444444,\"#bd3786\"],[0.5555555555555556,\"#d8576b\"],[0.6666666666666666,\"#ed7953\"],[0.7777777777777778,\"#fb9f3a\"],[0.8888888888888888,\"#fdca26\"],[1.0,\"#f0f921\"]],\"type\":\"contour\"}],\"contourcarpet\":[{\"colorbar\":{\"outlinewidth\":0,\"ticks\":\"\"},\"type\":\"contourcarpet\"}],\"heatmap\":[{\"colorbar\":{\"outlinewidth\":0,\"ticks\":\"\"},\"colorscale\":[[0.0,\"#0d0887\"],[0.1111111111111111,\"#46039f\"],[0.2222222222222222,\"#7201a8\"],[0.3333333333333333,\"#9c179e\"],[0.4444444444444444,\"#bd3786\"],[0.5555555555555556,\"#d8576b\"],[0.6666666666666666,\"#ed7953\"],[0.7777777777777778,\"#fb9f3a\"],[0.8888888888888888,\"#fdca26\"],[1.0,\"#f0f921\"]],\"type\":\"heatmap\"}],\"heatmapgl\":[{\"colorbar\":{\"outlinewidth\":0,\"ticks\":\"\"},\"colorscale\":[[0.0,\"#0d0887\"],[0.1111111111111111,\"#46039f\"],[0.2222222222222222,\"#7201a8\"],[0.3333333333333333,\"#9c179e\"],[0.4444444444444444,\"#bd3786\"],[0.5555555555555556,\"#d8576b\"],[0.6666666666666666,\"#ed7953\"],[0.7777777777777778,\"#fb9f3a\"],[0.8888888888888888,\"#fdca26\"],[1.0,\"#f0f921\"]],\"type\":\"heatmapgl\"}],\"histogram\":[{\"marker\":{\"pattern\":{\"fillmode\":\"overlay\",\"size\":10,\"solidity\":0.2}},\"type\":\"histogram\"}],\"histogram2d\":[{\"colorbar\":{\"outlinewidth\":0,\"ticks\":\"\"},\"colorscale\":[[0.0,\"#0d0887\"],[0.1111111111111111,\"#46039f\"],[0.2222222222222222,\"#7201a8\"],[0.3333333333333333,\"#9c179e\"],[0.4444444444444444,\"#bd3786\"],[0.5555555555555556,\"#d8576b\"],[0.6666666666666666,\"#ed7953\"],[0.7777777777777778,\"#fb9f3a\"],[0.8888888888888888,\"#fdca26\"],[1.0,\"#f0f921\"]],\"type\":\"histogram2d\"}],\"histogram2dcontour\":[{\"colorbar\":{\"outlinewidth\":0,\"ticks\":\"\"},\"colorscale\":[[0.0,\"#0d0887\"],[0.1111111111111111,\"#46039f\"],[0.2222222222222222,\"#7201a8\"],[0.3333333333333333,\"#9c179e\"],[0.4444444444444444,\"#bd3786\"],[0.5555555555555556,\"#d8576b\"],[0.6666666666666666,\"#ed7953\"],[0.7777777777777778,\"#fb9f3a\"],[0.8888888888888888,\"#fdca26\"],[1.0,\"#f0f921\"]],\"type\":\"histogram2dcontour\"}],\"mesh3d\":[{\"colorbar\":{\"outlinewidth\":0,\"ticks\":\"\"},\"type\":\"mesh3d\"}],\"parcoords\":[{\"line\":{\"colorbar\":{\"outlinewidth\":0,\"ticks\":\"\"}},\"type\":\"parcoords\"}],\"pie\":[{\"automargin\":true,\"type\":\"pie\"}],\"scatter\":[{\"marker\":{\"colorbar\":{\"outlinewidth\":0,\"ticks\":\"\"}},\"type\":\"scatter\"}],\"scatter3d\":[{\"line\":{\"colorbar\":{\"outlinewidth\":0,\"ticks\":\"\"}},\"marker\":{\"colorbar\":{\"outlinewidth\":0,\"ticks\":\"\"}},\"type\":\"scatter3d\"}],\"scattercarpet\":[{\"marker\":{\"colorbar\":{\"outlinewidth\":0,\"ticks\":\"\"}},\"type\":\"scattercarpet\"}],\"scattergeo\":[{\"marker\":{\"colorbar\":{\"outlinewidth\":0,\"ticks\":\"\"}},\"type\":\"scattergeo\"}],\"scattergl\":[{\"marker\":{\"colorbar\":{\"outlinewidth\":0,\"ticks\":\"\"}},\"type\":\"scattergl\"}],\"scattermapbox\":[{\"marker\":{\"colorbar\":{\"outlinewidth\":0,\"ticks\":\"\"}},\"type\":\"scattermapbox\"}],\"scatterpolar\":[{\"marker\":{\"colorbar\":{\"outlinewidth\":0,\"ticks\":\"\"}},\"type\":\"scatterpolar\"}],\"scatterpolargl\":[{\"marker\":{\"colorbar\":{\"outlinewidth\":0,\"ticks\":\"\"}},\"type\":\"scatterpolargl\"}],\"scatterternary\":[{\"marker\":{\"colorbar\":{\"outlinewidth\":0,\"ticks\":\"\"}},\"type\":\"scatterternary\"}],\"surface\":[{\"colorbar\":{\"outlinewidth\":0,\"ticks\":\"\"},\"colorscale\":[[0.0,\"#0d0887\"],[0.1111111111111111,\"#46039f\"],[0.2222222222222222,\"#7201a8\"],[0.3333333333333333,\"#9c179e\"],[0.4444444444444444,\"#bd3786\"],[0.5555555555555556,\"#d8576b\"],[0.6666666666666666,\"#ed7953\"],[0.7777777777777778,\"#fb9f3a\"],[0.8888888888888888,\"#fdca26\"],[1.0,\"#f0f921\"]],\"type\":\"surface\"}],\"table\":[{\"cells\":{\"fill\":{\"color\":\"#EBF0F8\"},\"line\":{\"color\":\"white\"}},\"header\":{\"fill\":{\"color\":\"#C8D4E3\"},\"line\":{\"color\":\"white\"}},\"type\":\"table\"}]},\"layout\":{\"annotationdefaults\":{\"arrowcolor\":\"#2a3f5f\",\"arrowhead\":0,\"arrowwidth\":1},\"autotypenumbers\":\"strict\",\"coloraxis\":{\"colorbar\":{\"outlinewidth\":0,\"ticks\":\"\"}},\"colorscale\":{\"diverging\":[[0,\"#8e0152\"],[0.1,\"#c51b7d\"],[0.2,\"#de77ae\"],[0.3,\"#f1b6da\"],[0.4,\"#fde0ef\"],[0.5,\"#f7f7f7\"],[0.6,\"#e6f5d0\"],[0.7,\"#b8e186\"],[0.8,\"#7fbc41\"],[0.9,\"#4d9221\"],[1,\"#276419\"]],\"sequential\":[[0.0,\"#0d0887\"],[0.1111111111111111,\"#46039f\"],[0.2222222222222222,\"#7201a8\"],[0.3333333333333333,\"#9c179e\"],[0.4444444444444444,\"#bd3786\"],[0.5555555555555556,\"#d8576b\"],[0.6666666666666666,\"#ed7953\"],[0.7777777777777778,\"#fb9f3a\"],[0.8888888888888888,\"#fdca26\"],[1.0,\"#f0f921\"]],\"sequentialminus\":[[0.0,\"#0d0887\"],[0.1111111111111111,\"#46039f\"],[0.2222222222222222,\"#7201a8\"],[0.3333333333333333,\"#9c179e\"],[0.4444444444444444,\"#bd3786\"],[0.5555555555555556,\"#d8576b\"],[0.6666666666666666,\"#ed7953\"],[0.7777777777777778,\"#fb9f3a\"],[0.8888888888888888,\"#fdca26\"],[1.0,\"#f0f921\"]]},\"colorway\":[\"#636efa\",\"#EF553B\",\"#00cc96\",\"#ab63fa\",\"#FFA15A\",\"#19d3f3\",\"#FF6692\",\"#B6E880\",\"#FF97FF\",\"#FECB52\"],\"font\":{\"color\":\"#2a3f5f\"},\"geo\":{\"bgcolor\":\"white\",\"lakecolor\":\"white\",\"landcolor\":\"#E5ECF6\",\"showlakes\":true,\"showland\":true,\"subunitcolor\":\"white\"},\"hoverlabel\":{\"align\":\"left\"},\"hovermode\":\"closest\",\"mapbox\":{\"style\":\"light\"},\"paper_bgcolor\":\"white\",\"plot_bgcolor\":\"#E5ECF6\",\"polar\":{\"angularaxis\":{\"gridcolor\":\"white\",\"linecolor\":\"white\",\"ticks\":\"\"},\"bgcolor\":\"#E5ECF6\",\"radialaxis\":{\"gridcolor\":\"white\",\"linecolor\":\"white\",\"ticks\":\"\"}},\"scene\":{\"xaxis\":{\"backgroundcolor\":\"#E5ECF6\",\"gridcolor\":\"white\",\"gridwidth\":2,\"linecolor\":\"white\",\"showbackground\":true,\"ticks\":\"\",\"zerolinecolor\":\"white\"},\"yaxis\":{\"backgroundcolor\":\"#E5ECF6\",\"gridcolor\":\"white\",\"gridwidth\":2,\"linecolor\":\"white\",\"showbackground\":true,\"ticks\":\"\",\"zerolinecolor\":\"white\"},\"zaxis\":{\"backgroundcolor\":\"#E5ECF6\",\"gridcolor\":\"white\",\"gridwidth\":2,\"linecolor\":\"white\",\"showbackground\":true,\"ticks\":\"\",\"zerolinecolor\":\"white\"}},\"shapedefaults\":{\"line\":{\"color\":\"#2a3f5f\"}},\"ternary\":{\"aaxis\":{\"gridcolor\":\"white\",\"linecolor\":\"white\",\"ticks\":\"\"},\"baxis\":{\"gridcolor\":\"white\",\"linecolor\":\"white\",\"ticks\":\"\"},\"bgcolor\":\"#E5ECF6\",\"caxis\":{\"gridcolor\":\"white\",\"linecolor\":\"white\",\"ticks\":\"\"}},\"title\":{\"x\":0.05},\"xaxis\":{\"automargin\":true,\"gridcolor\":\"white\",\"linecolor\":\"white\",\"ticks\":\"\",\"title\":{\"standoff\":15},\"zerolinecolor\":\"white\",\"zerolinewidth\":2},\"yaxis\":{\"automargin\":true,\"gridcolor\":\"white\",\"linecolor\":\"white\",\"ticks\":\"\",\"title\":{\"standoff\":15},\"zerolinecolor\":\"white\",\"zerolinewidth\":2}}},\"yaxis\":{\"range\":[0,4],\"title\":{\"text\":\"RMSE\"}}},                        {\"responsive\": true}                    ).then(function(){\n",
       "                            \n",
       "var gd = document.getElementById('c8226584-8f14-422c-8feb-32bbba8ac93c');\n",
       "var x = new MutationObserver(function (mutations, observer) {{\n",
       "        var display = window.getComputedStyle(gd).display;\n",
       "        if (!display || display === 'none') {{\n",
       "            console.log([gd, 'removed!']);\n",
       "            Plotly.purge(gd);\n",
       "            observer.disconnect();\n",
       "        }}\n",
       "}});\n",
       "\n",
       "// Listen for the removal of the full notebook cells\n",
       "var notebookContainer = gd.closest('#notebook-container');\n",
       "if (notebookContainer) {{\n",
       "    x.observe(notebookContainer, {childList: true});\n",
       "}}\n",
       "\n",
       "// Listen for the clearing of the current output cell\n",
       "var outputEl = gd.closest('.output');\n",
       "if (outputEl) {{\n",
       "    x.observe(outputEl, {childList: true});\n",
       "}}\n",
       "\n",
       "                        })                };                });            </script>        </div>"
      ]
     },
     "metadata": {},
     "output_type": "display_data"
    }
   ],
   "source": [
    "fig = compare_models(models)\n",
    "fig.update_yaxes(range = [0, 4], title = \"RMSE\")"
   ]
  },
  {
   "cell_type": "markdown",
   "metadata": {},
   "source": [
    "### Lasso Regression\n",
    "\n",
    "Lasso regression combines the absolute (L1) regularization function with the least squares loss.  \n",
    "\n",
    "$$\n",
    "\\hat{\\theta}_\\alpha = \\arg \\min_\\theta \\left(\\frac{1}{n} \\sum_{i=1}^n \\left(Y_i -  f_\\theta(X_i)\\right)^2 \\right) + \\alpha \\sum_{k=1}^d |\\theta_k|\n",
    "$$\n",
    "\n",
    "Lasso is actually an acronym (and a cool name) which stands for Least Absolute Shrinkage and Selection Operator.  It is an absolute operator because it is the absolute value.  It is a shrinkage operator because it favors smaller parameter values.  It is a selection operator because it has the peculiar property of pushing parameter values all the way to zero thereby selecting the remaining features.  It is this last property that makes Lasso regression so useful. By using Lasso regression and setting sufficiently large value of $\\alpha$ you can eliminate features that are not informative. \n",
    "\n",
    "Unfortunately, there is no closed form solution for Lasso regression and so iterative optimization algorithms like gradient descent are typically used. "
   ]
  },
  {
   "cell_type": "code",
   "execution_count": 61,
   "metadata": {},
   "outputs": [],
   "source": [
    "from sklearn.linear_model import Lasso, LassoCV"
   ]
  },
  {
   "cell_type": "code",
   "execution_count": 62,
   "metadata": {},
   "outputs": [],
   "source": [
    "models['quant+dc+o+n-LassoCV'] = (name_design_matrix_std,  LassoCV())"
   ]
  },
  {
   "cell_type": "code",
   "execution_count": 63,
   "metadata": {},
   "outputs": [
    {
     "data": {
      "application/vnd.plotly.v1+json": {
       "config": {
        "plotlyServerURL": "https://plot.ly"
       },
       "data": [
        {
         "name": "Training RMSE",
         "type": "bar",
         "x": [
          "quant",
          "quant+dc",
          "quant+dc+o",
          "quant+dc+o+b",
          "quant+dc+o+n-Ridge.5",
          "quant+dc+o+n-Ridge100",
          "quant+dc+o+n-Ridge1.75",
          "quant+dc+o+n-RidgeCV",
          "quant+dc+o+n-LassoCV"
         ],
         "y": [
          3.3745826999424575,
          3.0333093446259114,
          3.012941172853171,
          2.8544602711982514,
          1.5526480372681277,
          3.396301099326064,
          1.9166640085970117,
          1.7284925281129038,
          2.9102795855750845
         ]
        },
        {
         "name": "CV RMSE",
         "type": "bar",
         "x": [
          "quant",
          "quant+dc",
          "quant+dc+o",
          "quant+dc+o+b",
          "quant+dc+o+n-Ridge.5",
          "quant+dc+o+n-Ridge100",
          "quant+dc+o+n-Ridge1.75",
          "quant+dc+o+n-RidgeCV",
          "quant+dc+o+n-LassoCV"
         ],
         "y": [
          3.455901515616253,
          3.1113159765045713,
          3.1207285180151887,
          3.191957976808454,
          3.1168076796252744,
          3.592535514336081,
          3.049523335111162,
          3.064580510565783,
          3.112716924817969
         ]
        }
       ],
       "layout": {
        "template": {
         "data": {
          "bar": [
           {
            "error_x": {
             "color": "#2a3f5f"
            },
            "error_y": {
             "color": "#2a3f5f"
            },
            "marker": {
             "line": {
              "color": "#E5ECF6",
              "width": 0.5
             },
             "pattern": {
              "fillmode": "overlay",
              "size": 10,
              "solidity": 0.2
             }
            },
            "type": "bar"
           }
          ],
          "barpolar": [
           {
            "marker": {
             "line": {
              "color": "#E5ECF6",
              "width": 0.5
             },
             "pattern": {
              "fillmode": "overlay",
              "size": 10,
              "solidity": 0.2
             }
            },
            "type": "barpolar"
           }
          ],
          "carpet": [
           {
            "aaxis": {
             "endlinecolor": "#2a3f5f",
             "gridcolor": "white",
             "linecolor": "white",
             "minorgridcolor": "white",
             "startlinecolor": "#2a3f5f"
            },
            "baxis": {
             "endlinecolor": "#2a3f5f",
             "gridcolor": "white",
             "linecolor": "white",
             "minorgridcolor": "white",
             "startlinecolor": "#2a3f5f"
            },
            "type": "carpet"
           }
          ],
          "choropleth": [
           {
            "colorbar": {
             "outlinewidth": 0,
             "ticks": ""
            },
            "type": "choropleth"
           }
          ],
          "contour": [
           {
            "colorbar": {
             "outlinewidth": 0,
             "ticks": ""
            },
            "colorscale": [
             [
              0,
              "#0d0887"
             ],
             [
              0.1111111111111111,
              "#46039f"
             ],
             [
              0.2222222222222222,
              "#7201a8"
             ],
             [
              0.3333333333333333,
              "#9c179e"
             ],
             [
              0.4444444444444444,
              "#bd3786"
             ],
             [
              0.5555555555555556,
              "#d8576b"
             ],
             [
              0.6666666666666666,
              "#ed7953"
             ],
             [
              0.7777777777777778,
              "#fb9f3a"
             ],
             [
              0.8888888888888888,
              "#fdca26"
             ],
             [
              1,
              "#f0f921"
             ]
            ],
            "type": "contour"
           }
          ],
          "contourcarpet": [
           {
            "colorbar": {
             "outlinewidth": 0,
             "ticks": ""
            },
            "type": "contourcarpet"
           }
          ],
          "heatmap": [
           {
            "colorbar": {
             "outlinewidth": 0,
             "ticks": ""
            },
            "colorscale": [
             [
              0,
              "#0d0887"
             ],
             [
              0.1111111111111111,
              "#46039f"
             ],
             [
              0.2222222222222222,
              "#7201a8"
             ],
             [
              0.3333333333333333,
              "#9c179e"
             ],
             [
              0.4444444444444444,
              "#bd3786"
             ],
             [
              0.5555555555555556,
              "#d8576b"
             ],
             [
              0.6666666666666666,
              "#ed7953"
             ],
             [
              0.7777777777777778,
              "#fb9f3a"
             ],
             [
              0.8888888888888888,
              "#fdca26"
             ],
             [
              1,
              "#f0f921"
             ]
            ],
            "type": "heatmap"
           }
          ],
          "heatmapgl": [
           {
            "colorbar": {
             "outlinewidth": 0,
             "ticks": ""
            },
            "colorscale": [
             [
              0,
              "#0d0887"
             ],
             [
              0.1111111111111111,
              "#46039f"
             ],
             [
              0.2222222222222222,
              "#7201a8"
             ],
             [
              0.3333333333333333,
              "#9c179e"
             ],
             [
              0.4444444444444444,
              "#bd3786"
             ],
             [
              0.5555555555555556,
              "#d8576b"
             ],
             [
              0.6666666666666666,
              "#ed7953"
             ],
             [
              0.7777777777777778,
              "#fb9f3a"
             ],
             [
              0.8888888888888888,
              "#fdca26"
             ],
             [
              1,
              "#f0f921"
             ]
            ],
            "type": "heatmapgl"
           }
          ],
          "histogram": [
           {
            "marker": {
             "pattern": {
              "fillmode": "overlay",
              "size": 10,
              "solidity": 0.2
             }
            },
            "type": "histogram"
           }
          ],
          "histogram2d": [
           {
            "colorbar": {
             "outlinewidth": 0,
             "ticks": ""
            },
            "colorscale": [
             [
              0,
              "#0d0887"
             ],
             [
              0.1111111111111111,
              "#46039f"
             ],
             [
              0.2222222222222222,
              "#7201a8"
             ],
             [
              0.3333333333333333,
              "#9c179e"
             ],
             [
              0.4444444444444444,
              "#bd3786"
             ],
             [
              0.5555555555555556,
              "#d8576b"
             ],
             [
              0.6666666666666666,
              "#ed7953"
             ],
             [
              0.7777777777777778,
              "#fb9f3a"
             ],
             [
              0.8888888888888888,
              "#fdca26"
             ],
             [
              1,
              "#f0f921"
             ]
            ],
            "type": "histogram2d"
           }
          ],
          "histogram2dcontour": [
           {
            "colorbar": {
             "outlinewidth": 0,
             "ticks": ""
            },
            "colorscale": [
             [
              0,
              "#0d0887"
             ],
             [
              0.1111111111111111,
              "#46039f"
             ],
             [
              0.2222222222222222,
              "#7201a8"
             ],
             [
              0.3333333333333333,
              "#9c179e"
             ],
             [
              0.4444444444444444,
              "#bd3786"
             ],
             [
              0.5555555555555556,
              "#d8576b"
             ],
             [
              0.6666666666666666,
              "#ed7953"
             ],
             [
              0.7777777777777778,
              "#fb9f3a"
             ],
             [
              0.8888888888888888,
              "#fdca26"
             ],
             [
              1,
              "#f0f921"
             ]
            ],
            "type": "histogram2dcontour"
           }
          ],
          "mesh3d": [
           {
            "colorbar": {
             "outlinewidth": 0,
             "ticks": ""
            },
            "type": "mesh3d"
           }
          ],
          "parcoords": [
           {
            "line": {
             "colorbar": {
              "outlinewidth": 0,
              "ticks": ""
             }
            },
            "type": "parcoords"
           }
          ],
          "pie": [
           {
            "automargin": true,
            "type": "pie"
           }
          ],
          "scatter": [
           {
            "marker": {
             "colorbar": {
              "outlinewidth": 0,
              "ticks": ""
             }
            },
            "type": "scatter"
           }
          ],
          "scatter3d": [
           {
            "line": {
             "colorbar": {
              "outlinewidth": 0,
              "ticks": ""
             }
            },
            "marker": {
             "colorbar": {
              "outlinewidth": 0,
              "ticks": ""
             }
            },
            "type": "scatter3d"
           }
          ],
          "scattercarpet": [
           {
            "marker": {
             "colorbar": {
              "outlinewidth": 0,
              "ticks": ""
             }
            },
            "type": "scattercarpet"
           }
          ],
          "scattergeo": [
           {
            "marker": {
             "colorbar": {
              "outlinewidth": 0,
              "ticks": ""
             }
            },
            "type": "scattergeo"
           }
          ],
          "scattergl": [
           {
            "marker": {
             "colorbar": {
              "outlinewidth": 0,
              "ticks": ""
             }
            },
            "type": "scattergl"
           }
          ],
          "scattermapbox": [
           {
            "marker": {
             "colorbar": {
              "outlinewidth": 0,
              "ticks": ""
             }
            },
            "type": "scattermapbox"
           }
          ],
          "scatterpolar": [
           {
            "marker": {
             "colorbar": {
              "outlinewidth": 0,
              "ticks": ""
             }
            },
            "type": "scatterpolar"
           }
          ],
          "scatterpolargl": [
           {
            "marker": {
             "colorbar": {
              "outlinewidth": 0,
              "ticks": ""
             }
            },
            "type": "scatterpolargl"
           }
          ],
          "scatterternary": [
           {
            "marker": {
             "colorbar": {
              "outlinewidth": 0,
              "ticks": ""
             }
            },
            "type": "scatterternary"
           }
          ],
          "surface": [
           {
            "colorbar": {
             "outlinewidth": 0,
             "ticks": ""
            },
            "colorscale": [
             [
              0,
              "#0d0887"
             ],
             [
              0.1111111111111111,
              "#46039f"
             ],
             [
              0.2222222222222222,
              "#7201a8"
             ],
             [
              0.3333333333333333,
              "#9c179e"
             ],
             [
              0.4444444444444444,
              "#bd3786"
             ],
             [
              0.5555555555555556,
              "#d8576b"
             ],
             [
              0.6666666666666666,
              "#ed7953"
             ],
             [
              0.7777777777777778,
              "#fb9f3a"
             ],
             [
              0.8888888888888888,
              "#fdca26"
             ],
             [
              1,
              "#f0f921"
             ]
            ],
            "type": "surface"
           }
          ],
          "table": [
           {
            "cells": {
             "fill": {
              "color": "#EBF0F8"
             },
             "line": {
              "color": "white"
             }
            },
            "header": {
             "fill": {
              "color": "#C8D4E3"
             },
             "line": {
              "color": "white"
             }
            },
            "type": "table"
           }
          ]
         },
         "layout": {
          "annotationdefaults": {
           "arrowcolor": "#2a3f5f",
           "arrowhead": 0,
           "arrowwidth": 1
          },
          "autotypenumbers": "strict",
          "coloraxis": {
           "colorbar": {
            "outlinewidth": 0,
            "ticks": ""
           }
          },
          "colorscale": {
           "diverging": [
            [
             0,
             "#8e0152"
            ],
            [
             0.1,
             "#c51b7d"
            ],
            [
             0.2,
             "#de77ae"
            ],
            [
             0.3,
             "#f1b6da"
            ],
            [
             0.4,
             "#fde0ef"
            ],
            [
             0.5,
             "#f7f7f7"
            ],
            [
             0.6,
             "#e6f5d0"
            ],
            [
             0.7,
             "#b8e186"
            ],
            [
             0.8,
             "#7fbc41"
            ],
            [
             0.9,
             "#4d9221"
            ],
            [
             1,
             "#276419"
            ]
           ],
           "sequential": [
            [
             0,
             "#0d0887"
            ],
            [
             0.1111111111111111,
             "#46039f"
            ],
            [
             0.2222222222222222,
             "#7201a8"
            ],
            [
             0.3333333333333333,
             "#9c179e"
            ],
            [
             0.4444444444444444,
             "#bd3786"
            ],
            [
             0.5555555555555556,
             "#d8576b"
            ],
            [
             0.6666666666666666,
             "#ed7953"
            ],
            [
             0.7777777777777778,
             "#fb9f3a"
            ],
            [
             0.8888888888888888,
             "#fdca26"
            ],
            [
             1,
             "#f0f921"
            ]
           ],
           "sequentialminus": [
            [
             0,
             "#0d0887"
            ],
            [
             0.1111111111111111,
             "#46039f"
            ],
            [
             0.2222222222222222,
             "#7201a8"
            ],
            [
             0.3333333333333333,
             "#9c179e"
            ],
            [
             0.4444444444444444,
             "#bd3786"
            ],
            [
             0.5555555555555556,
             "#d8576b"
            ],
            [
             0.6666666666666666,
             "#ed7953"
            ],
            [
             0.7777777777777778,
             "#fb9f3a"
            ],
            [
             0.8888888888888888,
             "#fdca26"
            ],
            [
             1,
             "#f0f921"
            ]
           ]
          },
          "colorway": [
           "#636efa",
           "#EF553B",
           "#00cc96",
           "#ab63fa",
           "#FFA15A",
           "#19d3f3",
           "#FF6692",
           "#B6E880",
           "#FF97FF",
           "#FECB52"
          ],
          "font": {
           "color": "#2a3f5f"
          },
          "geo": {
           "bgcolor": "white",
           "lakecolor": "white",
           "landcolor": "#E5ECF6",
           "showlakes": true,
           "showland": true,
           "subunitcolor": "white"
          },
          "hoverlabel": {
           "align": "left"
          },
          "hovermode": "closest",
          "mapbox": {
           "style": "light"
          },
          "paper_bgcolor": "white",
          "plot_bgcolor": "#E5ECF6",
          "polar": {
           "angularaxis": {
            "gridcolor": "white",
            "linecolor": "white",
            "ticks": ""
           },
           "bgcolor": "#E5ECF6",
           "radialaxis": {
            "gridcolor": "white",
            "linecolor": "white",
            "ticks": ""
           }
          },
          "scene": {
           "xaxis": {
            "backgroundcolor": "#E5ECF6",
            "gridcolor": "white",
            "gridwidth": 2,
            "linecolor": "white",
            "showbackground": true,
            "ticks": "",
            "zerolinecolor": "white"
           },
           "yaxis": {
            "backgroundcolor": "#E5ECF6",
            "gridcolor": "white",
            "gridwidth": 2,
            "linecolor": "white",
            "showbackground": true,
            "ticks": "",
            "zerolinecolor": "white"
           },
           "zaxis": {
            "backgroundcolor": "#E5ECF6",
            "gridcolor": "white",
            "gridwidth": 2,
            "linecolor": "white",
            "showbackground": true,
            "ticks": "",
            "zerolinecolor": "white"
           }
          },
          "shapedefaults": {
           "line": {
            "color": "#2a3f5f"
           }
          },
          "ternary": {
           "aaxis": {
            "gridcolor": "white",
            "linecolor": "white",
            "ticks": ""
           },
           "baxis": {
            "gridcolor": "white",
            "linecolor": "white",
            "ticks": ""
           },
           "bgcolor": "#E5ECF6",
           "caxis": {
            "gridcolor": "white",
            "linecolor": "white",
            "ticks": ""
           }
          },
          "title": {
           "x": 0.05
          },
          "xaxis": {
           "automargin": true,
           "gridcolor": "white",
           "linecolor": "white",
           "ticks": "",
           "title": {
            "standoff": 15
           },
           "zerolinecolor": "white",
           "zerolinewidth": 2
          },
          "yaxis": {
           "automargin": true,
           "gridcolor": "white",
           "linecolor": "white",
           "ticks": "",
           "title": {
            "standoff": 15
           },
           "zerolinecolor": "white",
           "zerolinewidth": 2
          }
         }
        },
        "yaxis": {
         "range": [
          0,
          4
         ],
         "title": {
          "text": "RMSE"
         }
        }
       }
      },
      "text/html": [
       "<div>                            <div id=\"d42e3050-e911-44ac-a2f6-885b64a72671\" class=\"plotly-graph-div\" style=\"height:525px; width:100%;\"></div>            <script type=\"text/javascript\">                require([\"plotly\"], function(Plotly) {                    window.PLOTLYENV=window.PLOTLYENV || {};                                    if (document.getElementById(\"d42e3050-e911-44ac-a2f6-885b64a72671\")) {                    Plotly.newPlot(                        \"d42e3050-e911-44ac-a2f6-885b64a72671\",                        [{\"name\":\"Training RMSE\",\"type\":\"bar\",\"x\":[\"quant\",\"quant+dc\",\"quant+dc+o\",\"quant+dc+o+b\",\"quant+dc+o+n-Ridge.5\",\"quant+dc+o+n-Ridge100\",\"quant+dc+o+n-Ridge1.75\",\"quant+dc+o+n-RidgeCV\",\"quant+dc+o+n-LassoCV\"],\"y\":[3.3745826999424575,3.0333093446259114,3.012941172853171,2.8544602711982514,1.5526480372681277,3.396301099326064,1.9166640085970117,1.7284925281129038,2.9102795855750845]},{\"name\":\"CV RMSE\",\"type\":\"bar\",\"x\":[\"quant\",\"quant+dc\",\"quant+dc+o\",\"quant+dc+o+b\",\"quant+dc+o+n-Ridge.5\",\"quant+dc+o+n-Ridge100\",\"quant+dc+o+n-Ridge1.75\",\"quant+dc+o+n-RidgeCV\",\"quant+dc+o+n-LassoCV\"],\"y\":[3.455901515616253,3.1113159765045713,3.1207285180151887,3.191957976808454,3.1168076796252744,3.592535514336081,3.049523335111162,3.064580510565783,3.112716924817969]}],                        {\"template\":{\"data\":{\"bar\":[{\"error_x\":{\"color\":\"#2a3f5f\"},\"error_y\":{\"color\":\"#2a3f5f\"},\"marker\":{\"line\":{\"color\":\"#E5ECF6\",\"width\":0.5},\"pattern\":{\"fillmode\":\"overlay\",\"size\":10,\"solidity\":0.2}},\"type\":\"bar\"}],\"barpolar\":[{\"marker\":{\"line\":{\"color\":\"#E5ECF6\",\"width\":0.5},\"pattern\":{\"fillmode\":\"overlay\",\"size\":10,\"solidity\":0.2}},\"type\":\"barpolar\"}],\"carpet\":[{\"aaxis\":{\"endlinecolor\":\"#2a3f5f\",\"gridcolor\":\"white\",\"linecolor\":\"white\",\"minorgridcolor\":\"white\",\"startlinecolor\":\"#2a3f5f\"},\"baxis\":{\"endlinecolor\":\"#2a3f5f\",\"gridcolor\":\"white\",\"linecolor\":\"white\",\"minorgridcolor\":\"white\",\"startlinecolor\":\"#2a3f5f\"},\"type\":\"carpet\"}],\"choropleth\":[{\"colorbar\":{\"outlinewidth\":0,\"ticks\":\"\"},\"type\":\"choropleth\"}],\"contour\":[{\"colorbar\":{\"outlinewidth\":0,\"ticks\":\"\"},\"colorscale\":[[0.0,\"#0d0887\"],[0.1111111111111111,\"#46039f\"],[0.2222222222222222,\"#7201a8\"],[0.3333333333333333,\"#9c179e\"],[0.4444444444444444,\"#bd3786\"],[0.5555555555555556,\"#d8576b\"],[0.6666666666666666,\"#ed7953\"],[0.7777777777777778,\"#fb9f3a\"],[0.8888888888888888,\"#fdca26\"],[1.0,\"#f0f921\"]],\"type\":\"contour\"}],\"contourcarpet\":[{\"colorbar\":{\"outlinewidth\":0,\"ticks\":\"\"},\"type\":\"contourcarpet\"}],\"heatmap\":[{\"colorbar\":{\"outlinewidth\":0,\"ticks\":\"\"},\"colorscale\":[[0.0,\"#0d0887\"],[0.1111111111111111,\"#46039f\"],[0.2222222222222222,\"#7201a8\"],[0.3333333333333333,\"#9c179e\"],[0.4444444444444444,\"#bd3786\"],[0.5555555555555556,\"#d8576b\"],[0.6666666666666666,\"#ed7953\"],[0.7777777777777778,\"#fb9f3a\"],[0.8888888888888888,\"#fdca26\"],[1.0,\"#f0f921\"]],\"type\":\"heatmap\"}],\"heatmapgl\":[{\"colorbar\":{\"outlinewidth\":0,\"ticks\":\"\"},\"colorscale\":[[0.0,\"#0d0887\"],[0.1111111111111111,\"#46039f\"],[0.2222222222222222,\"#7201a8\"],[0.3333333333333333,\"#9c179e\"],[0.4444444444444444,\"#bd3786\"],[0.5555555555555556,\"#d8576b\"],[0.6666666666666666,\"#ed7953\"],[0.7777777777777778,\"#fb9f3a\"],[0.8888888888888888,\"#fdca26\"],[1.0,\"#f0f921\"]],\"type\":\"heatmapgl\"}],\"histogram\":[{\"marker\":{\"pattern\":{\"fillmode\":\"overlay\",\"size\":10,\"solidity\":0.2}},\"type\":\"histogram\"}],\"histogram2d\":[{\"colorbar\":{\"outlinewidth\":0,\"ticks\":\"\"},\"colorscale\":[[0.0,\"#0d0887\"],[0.1111111111111111,\"#46039f\"],[0.2222222222222222,\"#7201a8\"],[0.3333333333333333,\"#9c179e\"],[0.4444444444444444,\"#bd3786\"],[0.5555555555555556,\"#d8576b\"],[0.6666666666666666,\"#ed7953\"],[0.7777777777777778,\"#fb9f3a\"],[0.8888888888888888,\"#fdca26\"],[1.0,\"#f0f921\"]],\"type\":\"histogram2d\"}],\"histogram2dcontour\":[{\"colorbar\":{\"outlinewidth\":0,\"ticks\":\"\"},\"colorscale\":[[0.0,\"#0d0887\"],[0.1111111111111111,\"#46039f\"],[0.2222222222222222,\"#7201a8\"],[0.3333333333333333,\"#9c179e\"],[0.4444444444444444,\"#bd3786\"],[0.5555555555555556,\"#d8576b\"],[0.6666666666666666,\"#ed7953\"],[0.7777777777777778,\"#fb9f3a\"],[0.8888888888888888,\"#fdca26\"],[1.0,\"#f0f921\"]],\"type\":\"histogram2dcontour\"}],\"mesh3d\":[{\"colorbar\":{\"outlinewidth\":0,\"ticks\":\"\"},\"type\":\"mesh3d\"}],\"parcoords\":[{\"line\":{\"colorbar\":{\"outlinewidth\":0,\"ticks\":\"\"}},\"type\":\"parcoords\"}],\"pie\":[{\"automargin\":true,\"type\":\"pie\"}],\"scatter\":[{\"marker\":{\"colorbar\":{\"outlinewidth\":0,\"ticks\":\"\"}},\"type\":\"scatter\"}],\"scatter3d\":[{\"line\":{\"colorbar\":{\"outlinewidth\":0,\"ticks\":\"\"}},\"marker\":{\"colorbar\":{\"outlinewidth\":0,\"ticks\":\"\"}},\"type\":\"scatter3d\"}],\"scattercarpet\":[{\"marker\":{\"colorbar\":{\"outlinewidth\":0,\"ticks\":\"\"}},\"type\":\"scattercarpet\"}],\"scattergeo\":[{\"marker\":{\"colorbar\":{\"outlinewidth\":0,\"ticks\":\"\"}},\"type\":\"scattergeo\"}],\"scattergl\":[{\"marker\":{\"colorbar\":{\"outlinewidth\":0,\"ticks\":\"\"}},\"type\":\"scattergl\"}],\"scattermapbox\":[{\"marker\":{\"colorbar\":{\"outlinewidth\":0,\"ticks\":\"\"}},\"type\":\"scattermapbox\"}],\"scatterpolar\":[{\"marker\":{\"colorbar\":{\"outlinewidth\":0,\"ticks\":\"\"}},\"type\":\"scatterpolar\"}],\"scatterpolargl\":[{\"marker\":{\"colorbar\":{\"outlinewidth\":0,\"ticks\":\"\"}},\"type\":\"scatterpolargl\"}],\"scatterternary\":[{\"marker\":{\"colorbar\":{\"outlinewidth\":0,\"ticks\":\"\"}},\"type\":\"scatterternary\"}],\"surface\":[{\"colorbar\":{\"outlinewidth\":0,\"ticks\":\"\"},\"colorscale\":[[0.0,\"#0d0887\"],[0.1111111111111111,\"#46039f\"],[0.2222222222222222,\"#7201a8\"],[0.3333333333333333,\"#9c179e\"],[0.4444444444444444,\"#bd3786\"],[0.5555555555555556,\"#d8576b\"],[0.6666666666666666,\"#ed7953\"],[0.7777777777777778,\"#fb9f3a\"],[0.8888888888888888,\"#fdca26\"],[1.0,\"#f0f921\"]],\"type\":\"surface\"}],\"table\":[{\"cells\":{\"fill\":{\"color\":\"#EBF0F8\"},\"line\":{\"color\":\"white\"}},\"header\":{\"fill\":{\"color\":\"#C8D4E3\"},\"line\":{\"color\":\"white\"}},\"type\":\"table\"}]},\"layout\":{\"annotationdefaults\":{\"arrowcolor\":\"#2a3f5f\",\"arrowhead\":0,\"arrowwidth\":1},\"autotypenumbers\":\"strict\",\"coloraxis\":{\"colorbar\":{\"outlinewidth\":0,\"ticks\":\"\"}},\"colorscale\":{\"diverging\":[[0,\"#8e0152\"],[0.1,\"#c51b7d\"],[0.2,\"#de77ae\"],[0.3,\"#f1b6da\"],[0.4,\"#fde0ef\"],[0.5,\"#f7f7f7\"],[0.6,\"#e6f5d0\"],[0.7,\"#b8e186\"],[0.8,\"#7fbc41\"],[0.9,\"#4d9221\"],[1,\"#276419\"]],\"sequential\":[[0.0,\"#0d0887\"],[0.1111111111111111,\"#46039f\"],[0.2222222222222222,\"#7201a8\"],[0.3333333333333333,\"#9c179e\"],[0.4444444444444444,\"#bd3786\"],[0.5555555555555556,\"#d8576b\"],[0.6666666666666666,\"#ed7953\"],[0.7777777777777778,\"#fb9f3a\"],[0.8888888888888888,\"#fdca26\"],[1.0,\"#f0f921\"]],\"sequentialminus\":[[0.0,\"#0d0887\"],[0.1111111111111111,\"#46039f\"],[0.2222222222222222,\"#7201a8\"],[0.3333333333333333,\"#9c179e\"],[0.4444444444444444,\"#bd3786\"],[0.5555555555555556,\"#d8576b\"],[0.6666666666666666,\"#ed7953\"],[0.7777777777777778,\"#fb9f3a\"],[0.8888888888888888,\"#fdca26\"],[1.0,\"#f0f921\"]]},\"colorway\":[\"#636efa\",\"#EF553B\",\"#00cc96\",\"#ab63fa\",\"#FFA15A\",\"#19d3f3\",\"#FF6692\",\"#B6E880\",\"#FF97FF\",\"#FECB52\"],\"font\":{\"color\":\"#2a3f5f\"},\"geo\":{\"bgcolor\":\"white\",\"lakecolor\":\"white\",\"landcolor\":\"#E5ECF6\",\"showlakes\":true,\"showland\":true,\"subunitcolor\":\"white\"},\"hoverlabel\":{\"align\":\"left\"},\"hovermode\":\"closest\",\"mapbox\":{\"style\":\"light\"},\"paper_bgcolor\":\"white\",\"plot_bgcolor\":\"#E5ECF6\",\"polar\":{\"angularaxis\":{\"gridcolor\":\"white\",\"linecolor\":\"white\",\"ticks\":\"\"},\"bgcolor\":\"#E5ECF6\",\"radialaxis\":{\"gridcolor\":\"white\",\"linecolor\":\"white\",\"ticks\":\"\"}},\"scene\":{\"xaxis\":{\"backgroundcolor\":\"#E5ECF6\",\"gridcolor\":\"white\",\"gridwidth\":2,\"linecolor\":\"white\",\"showbackground\":true,\"ticks\":\"\",\"zerolinecolor\":\"white\"},\"yaxis\":{\"backgroundcolor\":\"#E5ECF6\",\"gridcolor\":\"white\",\"gridwidth\":2,\"linecolor\":\"white\",\"showbackground\":true,\"ticks\":\"\",\"zerolinecolor\":\"white\"},\"zaxis\":{\"backgroundcolor\":\"#E5ECF6\",\"gridcolor\":\"white\",\"gridwidth\":2,\"linecolor\":\"white\",\"showbackground\":true,\"ticks\":\"\",\"zerolinecolor\":\"white\"}},\"shapedefaults\":{\"line\":{\"color\":\"#2a3f5f\"}},\"ternary\":{\"aaxis\":{\"gridcolor\":\"white\",\"linecolor\":\"white\",\"ticks\":\"\"},\"baxis\":{\"gridcolor\":\"white\",\"linecolor\":\"white\",\"ticks\":\"\"},\"bgcolor\":\"#E5ECF6\",\"caxis\":{\"gridcolor\":\"white\",\"linecolor\":\"white\",\"ticks\":\"\"}},\"title\":{\"x\":0.05},\"xaxis\":{\"automargin\":true,\"gridcolor\":\"white\",\"linecolor\":\"white\",\"ticks\":\"\",\"title\":{\"standoff\":15},\"zerolinecolor\":\"white\",\"zerolinewidth\":2},\"yaxis\":{\"automargin\":true,\"gridcolor\":\"white\",\"linecolor\":\"white\",\"ticks\":\"\",\"title\":{\"standoff\":15},\"zerolinecolor\":\"white\",\"zerolinewidth\":2}}},\"yaxis\":{\"range\":[0,4],\"title\":{\"text\":\"RMSE\"}}},                        {\"responsive\": true}                    ).then(function(){\n",
       "                            \n",
       "var gd = document.getElementById('d42e3050-e911-44ac-a2f6-885b64a72671');\n",
       "var x = new MutationObserver(function (mutations, observer) {{\n",
       "        var display = window.getComputedStyle(gd).display;\n",
       "        if (!display || display === 'none') {{\n",
       "            console.log([gd, 'removed!']);\n",
       "            Plotly.purge(gd);\n",
       "            observer.disconnect();\n",
       "        }}\n",
       "}});\n",
       "\n",
       "// Listen for the removal of the full notebook cells\n",
       "var notebookContainer = gd.closest('#notebook-container');\n",
       "if (notebookContainer) {{\n",
       "    x.observe(notebookContainer, {childList: true});\n",
       "}}\n",
       "\n",
       "// Listen for the clearing of the current output cell\n",
       "var outputEl = gd.closest('.output');\n",
       "if (outputEl) {{\n",
       "    x.observe(outputEl, {childList: true});\n",
       "}}\n",
       "\n",
       "                        })                };                });            </script>        </div>"
      ]
     },
     "metadata": {},
     "output_type": "display_data"
    }
   ],
   "source": [
    "fig = compare_models(models)\n",
    "fig.update_yaxes(range = [0, 4], title = \"RMSE\")"
   ]
  },
  {
   "cell_type": "markdown",
   "metadata": {},
   "source": [
    "Let's compare the distribution of the parameters for both the `RidgeCV` and `LassoCV` models."
   ]
  },
  {
   "cell_type": "code",
   "execution_count": 64,
   "metadata": {},
   "outputs": [],
   "source": [
    "model = RidgeCV()\n",
    "model.fit(name_design_matrix_std(tr), tr['mpg'])\n",
    "ridge_coef = model.coef_\n",
    "\n",
    "model = LassoCV()\n",
    "model.fit(name_design_matrix_std(tr), tr['mpg'])\n",
    "lasso_coef = model.coef_"
   ]
  },
  {
   "cell_type": "code",
   "execution_count": 65,
   "metadata": {},
   "outputs": [
    {
     "data": {
      "application/vnd.plotly.v1+json": {
       "config": {
        "plotlyServerURL": "https://plot.ly"
       },
       "data": [
        {
         "autobinx": false,
         "histnorm": "probability density",
         "legendgroup": "Ridge",
         "marker": {
          "color": "rgb(31, 119, 180)"
         },
         "name": "Ridge",
         "opacity": 0.7,
         "type": "histogram",
         "x": [
          -3.9930691936815332,
          5.037703251895794,
          -0.8618254501185434,
          -3.5181435000930463,
          -0.4246938571400847,
          2.6812822014661393,
          -0.3053145831713664,
          0.22547086629846724,
          -0.10313995513732155,
          -0.12233091116114636,
          0.19802547403675608,
          -0.12096923597822179,
          -1.030734996008152,
          0.16054616663688268,
          0.18853639551107196,
          -0.5453464132844121,
          2.560592894499266,
          0.5680348391888845,
          -0.08841057029679247,
          1.247250531725382,
          -2.160230765395564,
          -1.0677409849345836,
          -0.7364849429178004,
          -0.2811209899778425,
          -0.4882475060998853,
          -0.14255761332358527,
          0.16910845093607968,
          -2.052987586031343,
          -0.22818313515558078,
          1.6303535359654067,
          0.8247284958344028,
          0.6917671103465357,
          0.6339733263642684,
          2.7866272842137185,
          1.6999498733488583,
          0.21763941698389852,
          -0.45854149897245966,
          -1.8837289958894206,
          1.7836060122605477,
          -1.7389733928317288,
          -0.4024316624779892,
          0.613432524299055,
          2.0043312211547626,
          0.9351900064124419,
          0.6522049111168258,
          -2.4074597277499716,
          -0.39265252407867224,
          -0.005285919488876797,
          1.3906261964441247,
          -1.1616037424271257,
          0.8189254155612922,
          1.0215379890426228,
          -2.6372219327165696,
          0.9361208196448098,
          -0.04223649969154142,
          -1.9565464961934262,
          0.24985779224657678,
          -2.315030515160203,
          1.6026187321075083,
          -2.329852832342274,
          -0.018319414366763074,
          1.2373129436137427,
          -2.1630547161835674,
          0.38742978467244865,
          0.49486736636344697,
          0.4341785024692655,
          0.39683123102571566,
          -1.1540100751196558,
          -1.0653725203822728,
          -0.4275049160296144,
          -1.3657494493721576,
          -0.3684794762000472,
          -1.3560032393828485,
          1.9161410482968504,
          0.4341785024692655,
          0.5744090048161836,
          -0.7771061917845639,
          0.40558274892234625,
          0.23064206609326598,
          -1.8974790844938205,
          0.46121366396004865,
          1.3590820283499805,
          -0.11806189831154376,
          -0.06233611749636697,
          -0.07435451646727739,
          -2.8553645595291433,
          0.38736355872639233,
          1.0392987593973324,
          -0.16148829932391284,
          -0.4898593874157782,
          -0.9368997009385048,
          0.15097206177048347,
          2.1509718272367166,
          2.381501788404203,
          0.7298908738782819,
          0.4611998508368884,
          -0.5850812205330903,
          -0.5766478514318314,
          -0.08427367234492039,
          -0.7326296025055843,
          0.7799620757296405,
          0.1073208498993452,
          0.5339684840239884,
          0.33179740827524307,
          0.9623797379288419,
          -1.4091362541086414,
          -1.2291494337634017,
          0.14425910823935698,
          0.43317135964248527,
          0.5838555717902949,
          0.3158534049891116,
          -0.34789097747256137,
          0.6189045066994652,
          -1.0726914056624646,
          -0.7417059249629399,
          -0.12408193154473632,
          -0.1106003528374035,
          -0.39265252407867224,
          -0.548748101865117,
          1.9467143014387593,
          0.8742526670257912,
          -2.098105545298221,
          0.9757650198916039,
          -0.6980378887425709,
          -0.8464642645194891,
          1.6856988605524745,
          -0.018319414366763074,
          -0.10760176154625611,
          7.6821753235669,
          0.16796990200656323,
          0.4482517885923387,
          -0.19999585750763327,
          1.794283391955585,
          1.2266152872656024,
          0.8071214607482697,
          1.169760812638812,
          0.6339733263642684,
          0.4164937530833034,
          -0.30428774746226717,
          -1.6816675765689784,
          1.0989302571808024,
          -0.6205092991725927,
          1.1145049284259914,
          2.332586517749339,
          0.21545201326449628,
          -0.6986593516110036,
          1.0936996724139623,
          0.99743157861618,
          -1.4074303075202999,
          1.2359178567007958,
          0.47996983491565337,
          -1.42624919929158,
          4.006720858317902,
          -0.32232830466393925,
          -1.4404328017368222,
          -0.1944250093704597,
          0.3417978238287023,
          -2.107840844595999,
          -0.4898593874157782,
          1.9572274502485496,
          2.111597152461549,
          -0.7683885279644291,
          2.0126422082188515,
          0.5680348391888845,
          1.192123079471259,
          1.8787650269127059,
          -0.050067932178152086,
          -1.1465662192600536,
          0.3000037209450849,
          1.6319378655427057,
          0.5095374822855097,
          -1.5520388924206827,
          0.26364822358944556,
          -1.2075031029262089,
          -2.1400776378361535,
          0.8045344667770618,
          -2.0981811705114426,
          0.15322260147553868,
          -1.8095174186696852,
          1.2933493524941184,
          0.34760805945346207,
          0.3263719150808022,
          1.8022382923921476,
          -0.7846170533600128,
          -0.04833304101051383,
          -1.0333405344985274,
          0.2588721030978307,
          0.08418350533015095,
          0.11381657692555586,
          -0.2784010220920654,
          -2.9148789948519944,
          -0.7162228698664246,
          -1.0989167937250928,
          -0.3371975377972639,
          0.5744090048161836,
          -0.7661721021389365,
          0.9965650814252086,
          0.16054616663688268,
          0.28572421857442953,
          0.30634306349153606,
          0.38736355872639233,
          0.6415168134902156,
          0.6917671103465357,
          -0.5604835780015947,
          0.6486327923858981,
          0.6145561347053154,
          0.891565741466179,
          -0.6494825002619384,
          0.28539380643842727,
          -1.5958345515656802,
          -0.354694601276938,
          -0.9939621593371002,
          0.005548225269794926,
          0.24830801554533466,
          3.8176466378032363,
          -1.3797561092144077,
          0.38177675143901524,
          0.6194056372609777,
          1.069901129062247,
          0.1632872290838228,
          -1.0166920313011314,
          0.8394235955605593,
          -0.10730650303032219,
          0.12140768004432642,
          -0.6919093726358961,
          0.5071910575636052,
          -0.04472434566115432,
          -0.3343042673219785,
          -1.6159508819679933,
          0.344140052029553,
          0.6145561347053154,
          -0.018319414366763074,
          -0.7623030730024091,
          -3.3571882637023203,
          -2.6385357025435545,
          -3.627411412756622,
          -0.5383119878973731,
          1.2766053960081987,
          -1.5397432817499117,
          -1.4006379765014878,
          0.30824874789876444,
          -0.02310303361719869,
          0.2710413648330383,
          -0.4911880484914884,
          -0.14113324828184104,
          0.18932121571116875,
          -0.5967101997755566,
          -0.22992584158208315,
          -0.20156557368956518,
          -0.3398644620897624,
          -0.06048041883934281,
          -0.133134915957947,
          -0.16936953546211495,
          -0.6564774170442531,
          1.5843929484364045,
          -0.3343042673219785,
          0.891565741466179,
          0.06343382376951481,
          1.9826221771151804,
          2.3970167223708088,
          0.3736258893235849,
          0.6405990301821889,
          -0.4004375585174369,
          -0.8376852920110974,
          0.7497945288488004,
          -1.9895537622618282,
          0.4734198938575282,
          2.9866868034965846,
          0.3517943015214493,
          1.286677573901931,
          0.32698211095889707,
          0.28733045197475127,
          -0.5196881893484819,
          2.0994167713564718,
          2.0994167713564718,
          -2.001270841854581,
          -0.9832916621767471,
          -0.3768322979785109,
          -1.0166920313011314,
          -0.8746832953430022,
          -0.2671839173785464,
          -0.5967101997755566,
          -0.1106003528374035,
          -2.022212202576244,
          -1.3282205088683383,
          -0.22915228605734494,
          -2.6730265939248605,
          3.5599727064033413,
          -1.6668494152711992,
          -1.5409088940631017,
          0.891565741466179,
          0.6486327923858981,
          -2.0060305527461213,
          1.7836060122605477
         ],
         "xaxis": "x",
         "xbins": {
          "end": 7.6821753235669,
          "size": 0.1,
          "start": -3.9930691936815332
         },
         "yaxis": "y"
        },
        {
         "autobinx": false,
         "histnorm": "probability density",
         "legendgroup": "Lasso",
         "marker": {
          "color": "rgb(255, 127, 14)"
         },
         "name": "Lasso",
         "opacity": 0.7,
         "type": "histogram",
         "x": [
          -2.0476198734900093,
          3.223742095739854,
          -0.22808811219082664,
          -4.424263598198707,
          0,
          2.6754583974503547,
          -0.23827509751446155,
          0,
          0.19334928481972458,
          -0.6878399125175529,
          0,
          0,
          0,
          0,
          0,
          0,
          0,
          0,
          0,
          0,
          0,
          0,
          0,
          0,
          0,
          0,
          0,
          0,
          0,
          0,
          0,
          0,
          0,
          0,
          0,
          0,
          0,
          0,
          0,
          0,
          0,
          0,
          0,
          0,
          0,
          0,
          0,
          0,
          0,
          0,
          0,
          0,
          0,
          0,
          0,
          0,
          0,
          0,
          0,
          0,
          0,
          0,
          0,
          0,
          0,
          0,
          0,
          -0.39833346661240243,
          0,
          0,
          0,
          0,
          0,
          0,
          0,
          0,
          0,
          0,
          0,
          0,
          0,
          0,
          0,
          0,
          0,
          0,
          0,
          0,
          0,
          0,
          0,
          0,
          0,
          0,
          0,
          0,
          0,
          0,
          0,
          0,
          0,
          0,
          0,
          0,
          0,
          0,
          0,
          0,
          0,
          0,
          0,
          0,
          0,
          0,
          0,
          0,
          0,
          0,
          0,
          0,
          0,
          0,
          0,
          0,
          0,
          0.6021573559342049,
          0,
          0,
          5.5889740575213995,
          0,
          0,
          0,
          0,
          0,
          0,
          0,
          0,
          0,
          0,
          0,
          0,
          0,
          0,
          0,
          0,
          -0.23075138186171823,
          0,
          0,
          0,
          0,
          0,
          0,
          0,
          0,
          0,
          0,
          0,
          0,
          0,
          0,
          0,
          0,
          0,
          0,
          0,
          0,
          0,
          0,
          0,
          0,
          0,
          0,
          0,
          0,
          0,
          0,
          0,
          0,
          0,
          0,
          0,
          0,
          0,
          0,
          0,
          0,
          0,
          0,
          0,
          0,
          0,
          0,
          0,
          0,
          0,
          0,
          0,
          0,
          0,
          0,
          0,
          0,
          0,
          0,
          0,
          0,
          0,
          0,
          0,
          0,
          0,
          0,
          0,
          0,
          0,
          0,
          0,
          0.18609257038558044,
          0.6622835325725617,
          0,
          0,
          0,
          0,
          0,
          0,
          0,
          0,
          0,
          0,
          0,
          0,
          0,
          0,
          0,
          0,
          0,
          0,
          0,
          0,
          0,
          0,
          0,
          0,
          0,
          0,
          0,
          0,
          0,
          0,
          0,
          0,
          0,
          0,
          0,
          0,
          0,
          0,
          0,
          0,
          0,
          0,
          0,
          0,
          0,
          0,
          0,
          0,
          0,
          0,
          0,
          0,
          0,
          0,
          0,
          0,
          0,
          0,
          0,
          0,
          0,
          0,
          0,
          0,
          0,
          0,
          0,
          0,
          1.808848090472989,
          0,
          0,
          0,
          0,
          0,
          0
         ],
         "xaxis": "x",
         "xbins": {
          "end": 5.5889740575213995,
          "size": 0.1,
          "start": -4.424263598198707
         },
         "yaxis": "y"
        },
        {
         "legendgroup": "Ridge",
         "marker": {
          "color": "rgb(31, 119, 180)"
         },
         "mode": "lines",
         "name": "Ridge",
         "showlegend": false,
         "type": "scatter",
         "x": [
          -3.9930691936815332,
          -3.9697187046470366,
          -3.9463682156125395,
          -3.923017726578043,
          -3.8996672375435457,
          -3.876316748509049,
          -3.852966259474552,
          -3.8296157704400553,
          -3.806265281405558,
          -3.7829147923710615,
          -3.7595643033365644,
          -3.736213814302068,
          -3.7128633252675707,
          -3.689512836233074,
          -3.666162347198577,
          -3.6428118581640803,
          -3.619461369129583,
          -3.5961108800950865,
          -3.57276039106059,
          -3.5494099020260927,
          -3.526059412991596,
          -3.502708923957099,
          -3.4793584349226023,
          -3.4560079458881052,
          -3.432657456853608,
          -3.4093069678191115,
          -3.385956478784615,
          -3.3626059897501177,
          -3.339255500715621,
          -3.315905011681124,
          -3.2925545226466273,
          -3.26920403361213,
          -3.2458535445776335,
          -3.222503055543137,
          -3.1991525665086398,
          -3.1758020774741427,
          -3.152451588439646,
          -3.1291010994051494,
          -3.1057506103706523,
          -3.0824001213361556,
          -3.0590496323016585,
          -3.035699143267162,
          -3.0123486542326647,
          -2.988998165198168,
          -2.965647676163671,
          -2.9422971871291743,
          -2.918946698094677,
          -2.8955962090601806,
          -2.8722457200256835,
          -2.848895230991187,
          -2.8255447419566897,
          -2.802194252922193,
          -2.7788437638876964,
          -2.7554932748531993,
          -2.732142785818702,
          -2.7087922967842055,
          -2.685441807749709,
          -2.6620913187152118,
          -2.6387408296807147,
          -2.6153903406462184,
          -2.5920398516117213,
          -2.5686893625772242,
          -2.545338873542727,
          -2.5219883845082305,
          -2.498637895473734,
          -2.4752874064392367,
          -2.45193691740474,
          -2.4285864283702434,
          -2.4052359393357463,
          -2.381885450301249,
          -2.3585349612667525,
          -2.335184472232256,
          -2.311833983197759,
          -2.288483494163262,
          -2.265133005128765,
          -2.2417825160942684,
          -2.2184320270597713,
          -2.195081538025274,
          -2.171731048990778,
          -2.148380559956281,
          -2.1250300709217838,
          -2.1016795818872867,
          -2.07832909285279,
          -2.0549786038182933,
          -2.0316281147837962,
          -2.0082776257492996,
          -1.984927136714803,
          -1.9615766476803058,
          -1.9382261586458087,
          -1.914875669611312,
          -1.8915251805768154,
          -1.8681746915423183,
          -1.8448242025078216,
          -1.8214737134733245,
          -1.7981232244388279,
          -1.7747727354043308,
          -1.7514222463698337,
          -1.728071757335337,
          -1.70472126830084,
          -1.6813707792663437,
          -1.6580202902318466,
          -1.63466980119735,
          -1.6113193121628528,
          -1.5879688231283557,
          -1.564618334093859,
          -1.541267845059362,
          -1.5179173560248653,
          -1.4945668669903682,
          -1.4712163779558716,
          -1.447865888921375,
          -1.4245153998868778,
          -1.4011649108523812,
          -1.377814421817884,
          -1.3544639327833874,
          -1.3311134437488903,
          -1.3077629547143936,
          -1.2844124656798965,
          -1.2610619766453994,
          -1.2377114876109032,
          -1.2143609985764061,
          -1.1910105095419095,
          -1.1676600205074124,
          -1.1443095314729153,
          -1.1209590424384186,
          -1.0976085534039215,
          -1.0742580643694248,
          -1.0509075753349277,
          -1.027557086300431,
          -1.0042065972659344,
          -0.9808561082314373,
          -0.9575056191969407,
          -0.9341551301624436,
          -0.9108046411279469,
          -0.8874541520934498,
          -0.8641036630589531,
          -0.840753174024456,
          -0.8174026849899589,
          -0.7940521959554627,
          -0.7707017069209656,
          -0.747351217886469,
          -0.7240007288519719,
          -0.7006502398174748,
          -0.6772997507829781,
          -0.653949261748481,
          -0.6305987727139843,
          -0.6072482836794872,
          -0.583897794644991,
          -0.5605473056104939,
          -0.5371968165759968,
          -0.5138463275415002,
          -0.49049583850700307,
          -0.4671453494725064,
          -0.4437948604380093,
          -0.42044437140351265,
          -0.39709388236901555,
          -0.37374339333451845,
          -0.35039290430002223,
          -0.32704241526552513,
          -0.3036919262310285,
          -0.2803414371965314,
          -0.2569909481620347,
          -0.23364045912753761,
          -0.2102899700930405,
          -0.18693948105854385,
          -0.16358899202404675,
          -0.14023850298955054,
          -0.11688801395505344,
          -0.09353752492055634,
          -0.07018703588605968,
          -0.04683654685156258,
          -0.02348605781706592,
          -0.00013556878256881788,
          0.023214920251927396,
          0.0465654092864245,
          0.0699158983209216,
          0.0932663873554187,
          0.1166168763899158,
          0.13996736542441202,
          0.16331785445890912,
          0.18666834349340622,
          0.21001883252790243,
          0.23336932156239953,
          0.25671981059689664,
          0.28007029963139374,
          0.30342078866588995,
          0.32677127770038705,
          0.35012176673488415,
          0.37347225576938126,
          0.39682274480387747,
          0.42017323383837457,
          0.4435237228728717,
          0.4668742119073679,
          0.4902247009418659,
          0.5135751899763621,
          0.5369256790108592,
          0.5602761680453554,
          0.5836266570798534,
          0.6069771461143496,
          0.6303276351488458,
          0.6536781241833438,
          0.67702861321784,
          0.7003791022523371,
          0.7237295912868333,
          0.7470800803213313,
          0.7704305693558275,
          0.7937810583903246,
          0.8171315474248217,
          0.8404820364593188,
          0.8638325254938151,
          0.8871830145283113,
          0.9105335035628093,
          0.9338839925973055,
          0.9572344816318026,
          0.9805849706662997,
          1.0039354597007968,
          1.027285948735293,
          1.05063643776979,
          1.0739869268042872,
          1.0973374158387834,
          1.1206879048732805,
          1.1440383939077776,
          1.1673888829422747,
          1.190739371976771,
          1.214089861011268,
          1.2374403500457651,
          1.2607908390802622,
          1.2841413281147585,
          1.3074918171492556,
          1.3308423061837527,
          1.3541927952182489,
          1.377543284252746,
          1.400893773287243,
          1.4242442623217402,
          1.4475947513562364,
          1.4709452403907344,
          1.4942957294252306,
          1.5176462184597268,
          1.5409967074942248,
          1.564347196528721,
          1.587697685563218,
          1.6110481745977143,
          1.6343986636322123,
          1.6577491526667085,
          1.6810996417012056,
          1.7044501307357027,
          1.7278006197701998,
          1.751151108804696,
          1.7745015978391923,
          1.7978520868736902,
          1.8212025759081865,
          1.8445530649426836,
          1.8679035539771807,
          1.8912540430116778,
          1.914604532046174,
          1.937955021080671,
          1.9613055101151682,
          1.9846559991496644,
          2.0080064881841615,
          2.0313569772186586,
          2.0547074662531557,
          2.078057955287652,
          2.101408444322149,
          2.124758933356646,
          2.148109422391143,
          2.1714599114256394,
          2.1948104004601365,
          2.2181608894946336,
          2.24151137852913,
          2.264861867563627,
          2.288212356598124,
          2.311562845632621,
          2.3349133346671174,
          2.3582638237016154,
          2.3816143127361116,
          2.404964801770608,
          2.428315290805105,
          2.451665779839602,
          2.475016268874099,
          2.4983667579085953,
          2.5217172469430933,
          2.5450677359775895,
          2.5684182250120866,
          2.5917687140465837,
          2.61511920308108,
          2.638469692115577,
          2.6618201811500732,
          2.6851706701845712,
          2.7085211592190674,
          2.7318716482535645,
          2.7552221372880616,
          2.7785726263225587,
          2.801923115357055,
          2.825273604391551,
          2.848624093426049,
          2.8719745824605454,
          2.8953250714950425,
          2.9186755605295396,
          2.9420260495640367,
          2.965376538598533,
          2.98872702763303,
          3.012077516667527,
          3.035428005702024,
          3.0587784947365204,
          3.0821289837710175,
          3.1054794728055146,
          3.128829961840011,
          3.152180450874508,
          3.175530939909005,
          3.198881428943502,
          3.2222319179779984,
          3.2455824070124963,
          3.2689328960469926,
          3.2922833850814888,
          3.315633874115986,
          3.338984363150483,
          3.36233485218498,
          3.3856853412194763,
          3.4090358302539743,
          3.4323863192884705,
          3.4557368083229676,
          3.479087297357464,
          3.502437786391961,
          3.525788275426458,
          3.549138764460954,
          3.572489253495452,
          3.5958397425299484,
          3.6191902315644455,
          3.6425407205989426,
          3.6658912096334397,
          3.689241698667936,
          3.712592187702432,
          3.73594267673693,
          3.7592931657714264,
          3.7826436548059235,
          3.8059941438404206,
          3.8293446328749177,
          3.852695121909414,
          3.876045610943911,
          3.899396099978408,
          3.922746589012905,
          3.9460970780474014,
          3.9694475670818985,
          3.9927980561163956,
          4.016148545150893,
          4.039499034185388,
          4.062849523219887,
          4.086200012254382,
          4.109550501288879,
          4.132900990323376,
          4.1562514793578735,
          4.179601968392371,
          4.202952457426866,
          4.226302946461365,
          4.249653435495862,
          4.273003924530357,
          4.296354413564854,
          4.3197049025993515,
          4.343055391633849,
          4.366405880668346,
          4.389756369702841,
          4.413106858737338,
          4.436457347771837,
          4.459807836806332,
          4.483158325840829,
          4.5065088148753265,
          4.529859303909824,
          4.553209792944321,
          4.576560281978818,
          4.599910771013313,
          4.62326126004781,
          4.646611749082307,
          4.669962238116804,
          4.6933127271513015,
          4.716663216185797,
          4.740013705220296,
          4.763364194254793,
          4.786714683289288,
          4.810065172323785,
          4.833415661358282,
          4.8567661503927795,
          4.880116639427277,
          4.903467128461774,
          4.926817617496269,
          4.950168106530768,
          4.973518595565265,
          4.99686908459976,
          5.020219573634257,
          5.043570062668753,
          5.066920551703252,
          5.090271040737749,
          5.113621529772244,
          5.136972018806741,
          5.16032250784124,
          5.183672996875735,
          5.2070234859102325,
          5.2303739749447296,
          5.253724463979225,
          5.277074953013724,
          5.300425442048221,
          5.323775931082716,
          5.347126420117213,
          5.37047690915171,
          5.3938273981862075,
          5.417177887220705,
          5.4405283762552,
          5.463878865289699,
          5.487229354324196,
          5.510579843358691,
          5.533930332393188,
          5.557280821427685,
          5.5806313104621825,
          5.60398179949668,
          5.627332288531177,
          5.650682777565672,
          5.674033266600171,
          5.697383755634666,
          5.720734244669163,
          5.7440847337036605,
          5.767435222738156,
          5.790785711772655,
          5.814136200807152,
          5.837486689841647,
          5.860837178876144,
          5.884187667910643,
          5.907538156945138,
          5.9308886459796355,
          5.954239135014133,
          5.977589624048628,
          6.000940113083127,
          6.024290602117624,
          6.047641091152119,
          6.070991580186616,
          6.094342069221113,
          6.1176925582556105,
          6.141043047290108,
          6.164393536324603,
          6.1877440253591,
          6.211094514393599,
          6.234445003428094,
          6.257795492462591,
          6.2811459814970885,
          6.304496470531586,
          6.327846959566083,
          6.35119744860058,
          6.374547937635075,
          6.397898426669572,
          6.421248915704069,
          6.444599404738566,
          6.4679498937730635,
          6.491300382807559,
          6.514650871842058,
          6.538001360876555,
          6.56135184991105,
          6.584702338945547,
          6.608052827980044,
          6.631403317014541,
          6.6547538060490385,
          6.678104295083536,
          6.701454784118031,
          6.72480527315253,
          6.748155762187025,
          6.771506251221522,
          6.794856740256019,
          6.818207229290515,
          6.841557718325014,
          6.864908207359511,
          6.888258696394006,
          6.911609185428503,
          6.934959674463002,
          6.958310163497497,
          6.981660652531994,
          7.0050111415664915,
          7.028361630600987,
          7.051712119635486,
          7.075062608669983,
          7.098413097704478,
          7.121763586738975,
          7.145114075773472,
          7.1684645648079695,
          7.1918150538424666,
          7.215165542876962,
          7.238516031911459,
          7.261866520945958,
          7.285217009980453,
          7.30856749901495,
          7.331917988049447,
          7.3552684770839445,
          7.378618966118442,
          7.401969455152939,
          7.425319944187434,
          7.448670433221933,
          7.472020922256428,
          7.495371411290925,
          7.518721900325422,
          7.542072389359918,
          7.565422878394417,
          7.588773367428914,
          7.612123856463409,
          7.635474345497906,
          7.658824834532405
         ],
         "xaxis": "x",
         "y": [
          0.00843784074155664,
          0.008769082774307114,
          0.00909956094837992,
          0.009428622228241075,
          0.009755662845965032,
          0.010080138863451044,
          0.010401576693462165,
          0.010719583437334836,
          0.01103385688926835,
          0.011344195051589415,
          0.01165050500272021,
          0.011952810960132757,
          0.012251261384649737,
          0.012546134980260058,
          0.012837845455257846,
          0.013126944925957257,
          0.013414125863322201,
          0.013700221505273813,
          0.013986204682753866,
          0.014273185035245677,
          0.01456240462068076,
          0.014855231954678782,
          0.01515315454399105,
          0.015457770007905644,
          0.015770775908272038,
          0.01609395843278505,
          0.016429180096365164,
          0.016778366641117506,
          0.017143493325818663,
          0.017526570800713872,
          0.017929630762351288,
          0.0183547115762034,
          0.018803844042130737,
          0.019279037459768944,
          0.01978226612834207,
          0.020315456389111364,
          0.020880474289734965,
          0.021479113919472298,
          0.02211308643375049,
          0.022784009757513865,
          0.02349339893038668,
          0.02424265703432197,
          0.02503306662729056,
          0.025865781595702193,
          0.026741819334438775,
          0.027662053167117794,
          0.028627204930688648,
          0.029637837667536557,
          0.030694348394429024,
          0.0317969609500289,
          0.03294571896013336,
          0.03414047900079376,
          0.035380904082300116,
          0.03666645761974717,
          0.03799639809650595,
          0.039369774663326834,
          0.04078542394597163,
          0.04224196835632187,
          0.04373781621417096,
          0.04527116398800759,
          0.04684000095204248,
          0.048442116532954556,
          0.05007511058324462,
          0.05173640676909545,
          0.05342326920015295,
          0.05513282235808788,
          0.056862074302009354,
          0.058607943044070444,
          0.060367285900504025,
          0.06213693153470637,
          0.06391371432280767,
          0.06569451059144359,
          0.06747627620509013,
          0.0692560849190649,
          0.07103116686655297,
          0.07279894651579084,
          0.07455707941836485,
          0.07630348707240767,
          0.07803638924567348,
          0.07975433314276557,
          0.08145621885727845,
          0.08314132062181176,
          0.08480930345464267,
          0.08646023489879043,
          0.08809459165431924,
          0.08971326101480617,
          0.09131753713054869,
          0.0929091122308738,
          0.09449006304248643,
          0.09606283273700464,
          0.09763020882583823,
          0.09919529749195893,
          0.10076149490396073,
          0.10233245609676263,
          0.10391206202460893,
          0.10550438539554423,
          0.10711365588275458,
          0.10874422527813783,
          0.1104005331087931,
          0.1120870731798357,
          0.11380836143948561,
          0.1155689054874235,
          0.11737317596782237,
          0.11922558000714618,
          0.12113043677662451,
          0.12309195518295853,
          0.12511421362073868,
          0.12720114165839302,
          0.1293565034779484,
          0.13158388284879244,
          0.1338866693877762,
          0.13626804584276186,
          0.138730976133985,
          0.1412781938967971,
          0.14391219128955712,
          0.1466352078603318,
          0.1494492193040864,
          0.15235592598640482,
          0.1553567411585534,
          0.15845277883990985,
          0.16164484139543386,
          0.16493340688606564,
          0.1683186163169288,
          0.1718002609503834,
          0.17537776988700154,
          0.17905019814625897,
          0.18281621549937974,
          0.18667409631874016,
          0.19062171071129957,
          0.19465651719767904,
          0.19877555718403475,
          0.20297545145127838,
          0.2072523988562027,
          0.21160217740261378,
          0.2160201477986992,
          0.22050125957075076,
          0.22504005975436858,
          0.2296307041336576,
          0.23426697094815682,
          0.23894227693766787,
          0.24364969554817806,
          0.24838197707900433,
          0.253131570513421,
          0.25789064674352,
          0.26265112287593007,
          0.26740468728921535,
          0.2721428251069828,
          0.27685684375350395,
          0.281537898271286,
          0.28617701610259005,
          0.2907651210691721,
          0.29529305632601194,
          0.2997516061147625,
          0.30413151619996626,
          0.3084235129343955,
          0.31261832096757197,
          0.31670667968163113,
          0.3206793585092071,
          0.3245271713565331,
          0.3282409904192408,
          0.33181175973581634,
          0.3352305088720866,
          0.3384883671671532,
          0.3415765789948005,
          0.3444865205028989,
          0.3472097182852774,
          0.34973787041509874,
          0.35206287022554517,
          0.35417683316279347,
          0.3560721269586787,
          0.3577414052774936,
          0.3591776448851023,
          0.3603741862715964,
          0.3613247775341311,
          0.3620236211979944,
          0.3624654235251616,
          0.3626454457347411,
          0.3625595564428897,
          0.36220428452511055,
          0.3615768715151245,
          0.3606753225852827,
          0.35949845510667044,
          0.3580459437650017,
          0.3563183612127556,
          0.35431721326951215,
          0.3520449677410585,
          0.3495050760125917,
          0.346701986680427,
          0.3436411506173562,
          0.3403290170158216,
          0.3367730201163062,
          0.3329815565012801,
          0.3289639530127522,
          0.3247304255289408,
          0.3202920290076181,
          0.3156605993655025,
          0.3108486879100023,
          0.30586948916770224,
          0.30073676305969643,
          0.29546475245474024,
          0.2900680971852595,
          0.28456174563777453,
          0.27896086502831974,
          0.27328075144589115,
          0.26753674069476585,
          0.2617441208923531,
          0.25591804768634874,
          0.2500734628473231,
          0.24422501687469172,
          0.23838699612985514,
          0.23257325488465674,
          0.22679715255066288,
          0.2210714962392365,
          0.21540848869767984,
          0.2098196815759718,
          0.2043159339042825,
          0.1989073756051928,
          0.19360337582724862,
          0.1884125158681915,
          0.18334256645613678,
          0.17840046917362706,
          0.17359232184060297,
          0.16892336771514863,
          0.1643979884220987,
          0.1600197005756794,
          0.15579115611955538,
          0.15171414646224524,
          0.14778961053422845,
          0.14401764693195315,
          0.14039753034046035,
          0.13692773243820816,
          0.1336059474831958,
          0.13042912275773078,
          0.1273934940099259,
          0.12449462597379683,
          0.12172745797795942,
          0.11908635456732528,
          0.11656516096549846,
          0.114157263100817,
          0.11185565180969308,
          0.10965299072082232,
          0.10754168721682864,
          0.10551396576986584,
          0.10356194285828767,
          0.10167770259617247,
          0.09985337214918895,
          0.09808119597153254,
          0.09635360788127337,
          0.09466329999665173,
          0.09300328758408574,
          0.09136696891968824,
          0.08974817933895825,
          0.08814123874236715,
          0.0865409919355517,
          0.08494284130895453,
          0.08334277149977103,
          0.08173736582539248,
          0.08012381442838648,
          0.07849991422453008,
          0.07686406089363865,
          0.07521523329420111,
          0.07355297081366184,
          0.07187734428346904,
          0.07018892118906035,
          0.06848872598761387,
          0.06677819640902974,
          0.06505913665721243,
          0.06333366844885244,
          0.06160418082574069,
          0.059873279654901974,
          0.05814373768977425,
          0.05641844600700904,
          0.05470036755935279,
          0.05299249349794134,
          0.051297802819900644,
          0.04961922579224699,
          0.047959611493640884,
          0.04632169970448649,
          0.04470809726599528,
          0.04312125892280111,
          0.04156347256394637,
          0.04003684868568774,
          0.038543313818412535,
          0.03708460759045466,
          0.035662283044833466,
          0.034277709781592405,
          0.03293207946879106,
          0.031626413249242334,
          0.03036157056736658,
          0.029138258950341996,
          0.027957044299038246,
          0.026818361275807494,
          0.02572252341661965,
          0.02466973264270339,
          0.023660087900113085,
          0.022693592712767992,
          0.02177016149379339,
          0.0208896245197473,
          0.02005173153096376,
          0.019256153977301477,
          0.01850248598073121,
          0.017790244133270513,
          0.017118866289816282,
          0.016487709549667082,
          0.015896047647416867,
          0.015343067993093606,
          0.014827868612775885,
          0.014349455244507824,
          0.013906738840395316,
          0.013498533714725123,
          0.013123556560367493,
          0.01278042653230218,
          0.012467666568649049,
          0.012183706086973561,
          0.011926885157812525,
          0.011695460219303322,
          0.011487611357478486,
          0.011301451137176824,
          0.01113503492955278,
          0.010986372644716474,
          0.010853441742916768,
          0.010734201365611163,
          0.010626607399380154,
          0.010528628261462902,
          0.01043826117613307,
          0.0103535486964998,
          0.010272595216799895,
          0.010193583215921863,
          0.010114788973740936,
          0.010034597507717515,
          0.009951516487894212,
          0.009864188903609947,
          0.009771404274548062,
          0.009672108221700337,
          0.009565410239956815,
          0.00945058954277883,
          0.009327098880205269,
          0.009194566263687753,
          0.009052794564350328,
          0.00890175898462776,
          0.008741602436274242,
          0.008572628889893177,
          0.008395294791895566,
          0.00821019867366467,
          0.008018069104251003,
          0.00781975116175906,
          0.007616191619387383,
          0.0074084230595757835,
          0.007197547143693677,
          0.006984717275020795,
          0.006771120899347603,
          0.006557961690329547,
          0.0063464418658034935,
          0.006137744876703784,
          0.005933018702138456,
          0.005733359972789811,
          0.005539799130312521,
          0.005353286813081398,
          0.005174681638783139,
          0.005004739532272967,
          0.004844104723168623,
          0.004693302512191475,
          0.004552733878656142,
          0.004422671974138517,
          0.004303260519600889,
          0.004194514095508095,
          0.004096320287117068,
          0.0040084436205414095,
          0.003930531199756398,
          0.0038621199307769956,
          0.003802645197157859,
          0.0037514508310546907,
          0.0037078002066529463,
          0.0036708882680857335,
          0.0036398542922669555,
          0.0036137951785594814,
          0.003591779052036318,
          0.003572858965382972,
          0.0035560864862821348,
          0.003540524962411167,
          0.0035252622648992518,
          0.0035094228231010464,
          0.0034921787786486897,
          0.0034727601046816016,
          0.0034504635565992237,
          0.0034246603432550775,
          0.003394802431779262,
          0.0033604274247079845,
          0.0033211619743062754,
          0.0032767237253685964,
          0.003226921803835784,
          0.003171655893747975,
          0.0031109139688500344,
          0.003044768767101558,
          0.0029733731159839473,
          0.002896954233467042,
          0.002815807143486926,
          0.0027302873555624368,
          0.002640802965586566,
          0.002547806338803087,
          0.00245178553653618,
          0.002353255645482996,
          0.0022527501624869193,
          0.00215081257893777,
          0.0020479882976114213,
          0.0019448170012368736,
          0.0018418255767768843,
          0.0017395216827677115,
          0.001638388029542072,
          0.001538877424211008,
          0.0014414086143508629,
          0.0013463629468515902,
          0.0012540818417169325,
          0.0011648650651085288,
          0.001078969771884233,
          0.0009966102755306,
          0.000917958492903192,
          0.0008431450026806328,
          0.0007722606499595166,
          0.0007053586249638065,
          0.0006424569413547171,
          0.0005835412389982696,
          0.0005285678371311222,
          0.00047746696647806616,
          0.00043014611280989723,
          0.0003864934094629706,
          0.00034638102223586033,
          0.00030966847659640473,
          0.00027620588404068285,
          0.00024583703152102266,
          0.00021840230489544412,
          0.00019374142415940588,
          0.00017169597463773264,
          0.00015211172420223328,
          0.00013484072182749098,
          0.00011974317731949053,
          0.00010668912579282609,
          9.555988340180037e-05,
          8.624930294333709e-05,
          7.866483926309384e-05,
          7.272843494886066e-05,
          6.837723664440485e-05,
          6.55641515356062e-05,
          6.425825223578123e-05,
          6.444503652654409e-05,
          6.612654630111842e-05,
          6.932134772185359e-05,
          7.406437216005359e-05,
          8.040661505322581e-05,
          8.841468751129212e-05,
          9.817021344539156e-05,
          0.0001097690632920415,
          0.00012332041416602196,
          0.0001389456255921315,
          0.00015677691992214732,
          0.00017695585720752557,
          0.00019963159572266816,
          0.00022495893155088174,
          0.0002530961136669979,
          0.0002842024347652911,
          0.0003184356026517554,
          0.00035594890228329005,
          0.0003968881644020831,
          0.00044138856306542325,
          0.0004895712710653136,
          0.0005415400091016638,
          0.0005973775314284342,
          0.0006571420973259377,
          0.0007208639839448726,
          0.0007885421015892741,
          0.0008601407771270033,
          0.0009355867747128339,
          0.0010147666251705356,
          0.0010975243360160445,
          0.0011836595530535896,
          0.0012729262416175475,
          0.0013650319507832497,
          0.0014596377172021394,
          0.0015563586566541773,
          0.0016547652810371934,
          0.0017543855664720295,
          0.0018547077846971251,
          0.001955184095215816,
          0.0020552348800576318,
          0.002154253786878441,
          0.002251613429849324,
          0.002346671681792861,
          0.002438778475752533,
          0.0025272830200656067,
          0.0026115413184752793,
          0.0026909238762621,
          0.002764823465154981,
          0.0028326628142014317,
          0.002893902091072257,
          0.0029480460386115126,
          0.002994650634896723,
          0.0030333291516399666,
          0.003063757495340091,
          0.0030856787280031947,
          0.003098906679212897
         ],
         "yaxis": "y"
        },
        {
         "legendgroup": "Lasso",
         "marker": {
          "color": "rgb(255, 127, 14)"
         },
         "mode": "lines",
         "name": "Lasso",
         "showlegend": false,
         "type": "scatter",
         "x": [
          -4.424263598198707,
          -4.404237122887267,
          -4.384210647575827,
          -4.364184172264387,
          -4.344157696952946,
          -4.324131221641506,
          -4.304104746330066,
          -4.284078271018625,
          -4.264051795707186,
          -4.244025320395745,
          -4.223998845084306,
          -4.203972369772865,
          -4.1839458944614245,
          -4.163919419149985,
          -4.143892943838544,
          -4.123866468527104,
          -4.103839993215664,
          -4.083813517904224,
          -4.063787042592783,
          -4.0437605672813435,
          -4.023734091969903,
          -4.003707616658462,
          -3.983681141347023,
          -3.9636546660355823,
          -3.943628190724142,
          -3.923601715412702,
          -3.9035752401012616,
          -3.8835487647898215,
          -3.8635222894783814,
          -3.843495814166941,
          -3.8234693388555008,
          -3.8034428635440607,
          -3.78341638823262,
          -3.76338991292118,
          -3.74336343760974,
          -3.7233369622983,
          -3.70331048698686,
          -3.6832840116754193,
          -3.663257536363979,
          -3.643231061052539,
          -3.6232045857410986,
          -3.6031781104296585,
          -3.5831516351182184,
          -3.563125159806778,
          -3.543098684495338,
          -3.5230722091838977,
          -3.503045733872457,
          -3.483019258561017,
          -3.462992783249577,
          -3.4429663079381365,
          -3.4229398326266964,
          -3.4029133573152563,
          -3.382886882003816,
          -3.3628604066923757,
          -3.3428339313809357,
          -3.322807456069495,
          -3.3027809807580555,
          -3.282754505446615,
          -3.2627280301351744,
          -3.242701554823735,
          -3.2226750795122943,
          -3.202648604200854,
          -3.182622128889414,
          -3.1625956535779736,
          -3.1425691782665335,
          -3.1225427029550934,
          -3.102516227643653,
          -3.082489752332213,
          -3.0624632770207727,
          -3.042436801709332,
          -3.0224103263978925,
          -3.002383851086452,
          -2.982357375775012,
          -2.962330900463572,
          -2.9423044251521313,
          -2.9222779498406912,
          -2.902251474529251,
          -2.8822249992178106,
          -2.8621985239063705,
          -2.8421720485949304,
          -2.82214557328349,
          -2.80211909797205,
          -2.7820926226606097,
          -2.762066147349169,
          -2.742039672037729,
          -2.722013196726289,
          -2.7019867214148485,
          -2.6819602461034084,
          -2.6619337707919684,
          -2.641907295480528,
          -2.621880820169088,
          -2.6018543448576477,
          -2.581827869546207,
          -2.5618013942347675,
          -2.541774918923327,
          -2.521748443611887,
          -2.501721968300447,
          -2.4816954929890063,
          -2.461669017677566,
          -2.441642542366126,
          -2.4216160670546856,
          -2.4015895917432455,
          -2.3815631164318054,
          -2.361536641120365,
          -2.341510165808925,
          -2.3214836904974847,
          -2.301457215186044,
          -2.281430739874604,
          -2.261404264563164,
          -2.2413777892517235,
          -2.2213513139402834,
          -2.2013248386288433,
          -2.1812983633174032,
          -2.1612718880059627,
          -2.1412454126945226,
          -2.1212189373830825,
          -2.101192462071642,
          -2.081165986760202,
          -2.061139511448762,
          -2.0411130361373218,
          -2.0210865608258812,
          -2.001060085514441,
          -1.981033610203001,
          -1.961007134891561,
          -1.9409806595801204,
          -1.9209541842686804,
          -1.9009277089572403,
          -1.8809012336457998,
          -1.8608747583343597,
          -1.8408482830229196,
          -1.8208218077114795,
          -1.800795332400039,
          -1.7807688570885989,
          -1.7607423817771588,
          -1.7407159064657183,
          -1.7206894311542782,
          -1.700662955842838,
          -1.680636480531398,
          -1.6606100052199575,
          -1.6405835299085174,
          -1.6205570545970773,
          -1.6005305792856368,
          -1.5805041039741967,
          -1.5604776286627566,
          -1.5404511533513165,
          -1.520424678039876,
          -1.500398202728436,
          -1.4803717274169959,
          -1.4603452521055558,
          -1.4403187767941152,
          -1.4202923014826752,
          -1.400265826171235,
          -1.3802393508597945,
          -1.3602128755483545,
          -1.3401864002369144,
          -1.3201599249254743,
          -1.3001334496140338,
          -1.2801069743025937,
          -1.2600804989911536,
          -1.240054023679713,
          -1.220027548368273,
          -1.2000010730568325,
          -1.1799745977453924,
          -1.1599481224339518,
          -1.1399216471225118,
          -1.1198951718110717,
          -1.0998686964996311,
          -1.079842221188191,
          -1.059815745876751,
          -1.039789270565311,
          -1.0197627952538704,
          -0.9997363199424303,
          -0.9797098446309902,
          -0.9596833693195497,
          -0.9396568940081096,
          -0.9196304186966695,
          -0.8996039433852294,
          -0.8795774680737889,
          -0.8595509927623488,
          -0.8395245174509087,
          -0.8194980421394686,
          -0.7994715668280281,
          -0.779445091516588,
          -0.759418616205148,
          -0.7393921408937074,
          -0.7193656655822673,
          -0.6993391902708272,
          -0.6793127149593872,
          -0.6592862396479466,
          -0.6392597643365066,
          -0.6192332890250665,
          -0.5992068137136259,
          -0.5791803384021859,
          -0.5591538630907458,
          -0.5391273877793057,
          -0.5191009124678652,
          -0.4990744371564251,
          -0.479047961844985,
          -0.45902148653354446,
          -0.4389950112221044,
          -0.41896853591066385,
          -0.3989420605992242,
          -0.3789155852877837,
          -0.35888910997634405,
          -0.3388626346649035,
          -0.318836159353463,
          -0.29880968404202246,
          -0.2787832087305828,
          -0.2587567334191423,
          -0.23873025810770265,
          -0.21870378279626213,
          -0.1986773074848216,
          -0.17865083217338107,
          -0.15862435686194143,
          -0.1385978815505009,
          -0.11857140623906126,
          -0.09854493092762073,
          -0.0785184556161811,
          -0.05849198030473968,
          -0.03846550499330004,
          -0.01843902968185951,
          0.001587445629580131,
          0.02161392094102066,
          0.0416403962524603,
          0.06166687156390083,
          0.08169334687534135,
          0.10171982218678188,
          0.12174629749822152,
          0.14177277280966205,
          0.1617992481211017,
          0.18182572343254222,
          0.20185219874398186,
          0.22187867405542328,
          0.24190514936686291,
          0.26193162467830344,
          0.2819580999897431,
          0.3019845753011836,
          0.32201105061262325,
          0.3420375259240638,
          0.3620640012355034,
          0.38209047654694483,
          0.4021169518583845,
          0.422143427169825,
          0.44216990248126464,
          0.46219637779270517,
          0.4822228531041448,
          0.5022493284155853,
          0.5222758037270259,
          0.5423022790384664,
          0.562328754349906,
          0.5823552296613466,
          0.6023817049727862,
          0.6224081802842267,
          0.6424346555956664,
          0.6624611309071078,
          0.6824876062185474,
          0.702514081529988,
          0.7225405568414285,
          0.7425670321528681,
          0.7625935074643087,
          0.7826199827757483,
          0.8026464580871897,
          0.8226729333986293,
          0.8426994087100699,
          0.8627258840215095,
          0.88275235933295,
          0.9027788346443897,
          0.9228053099558302,
          0.9428317852672707,
          0.9628582605787113,
          0.9828847358901509,
          1.0029112112015914,
          1.022937686513031,
          1.0429641618244716,
          1.0629906371359112,
          1.0830171124473527,
          1.1030435877587923,
          1.1230700630702328,
          1.1430965383816725,
          1.163123013693113,
          1.1831494890045526,
          1.2031759643159932,
          1.2232024396274337,
          1.2432289149388742,
          1.2632553902503139,
          1.2832818655617544,
          1.303308340873194,
          1.3233348161846346,
          1.3433612914960742,
          1.3633877668075156,
          1.3834142421189553,
          1.4034407174303958,
          1.4234671927418354,
          1.443493668053276,
          1.4635201433647156,
          1.4835466186761561,
          1.5035730939875958,
          1.5235995692990372,
          1.5436260446104768,
          1.5636525199219173,
          1.583678995233357,
          1.6037054705447975,
          1.6237319458562371,
          1.6437584211676777,
          1.6637848964791182,
          1.6838113717905587,
          1.7038378471019984,
          1.723864322413439,
          1.7438907977248785,
          1.763917273036319,
          1.7839437483477587,
          1.8039702236592001,
          1.8239966989706398,
          1.8440231742820803,
          1.86404964959352,
          1.8840761249049605,
          1.9041026002164,
          1.9241290755278406,
          1.9441555508392812,
          1.9641820261507217,
          1.9842085014621613,
          2.004234976773602,
          2.0242614520850424,
          2.044287927396482,
          2.0643144027079225,
          2.084340878019363,
          2.1043673533308036,
          2.1243938286422432,
          2.1444203039536838,
          2.1644467792651234,
          2.184473254576564,
          2.2044997298880036,
          2.224526205199445,
          2.2445526805108846,
          2.264579155822325,
          2.284605631133765,
          2.3046321064452053,
          2.324658581756645,
          2.3446850570680855,
          2.364711532379526,
          2.3847380076909666,
          2.404764483002406,
          2.4247909583138467,
          2.4448174336252864,
          2.464843908936727,
          2.4848703842481665,
          2.504896859559608,
          2.5249233348710476,
          2.544949810182488,
          2.5649762854939278,
          2.5850027608053683,
          2.605029236116808,
          2.6250557114282485,
          2.645082186739688,
          2.6651086620511295,
          2.685135137362569,
          2.7051616126740097,
          2.7251880879854493,
          2.74521456329689,
          2.7652410386083295,
          2.78526751391977,
          2.8052939892312105,
          2.825320464542651,
          2.8453469398540907,
          2.8653734151655312,
          2.885399890476971,
          2.9054263657884114,
          2.925452841099851,
          2.9454793164112925,
          2.965505791722732,
          2.9855322670341726,
          3.0055587423456123,
          3.025585217657053,
          3.0456116929684924,
          3.065638168279933,
          3.0856646435913735,
          3.105691118902814,
          3.1257175942142537,
          3.145744069525694,
          3.165770544837134,
          3.1857970201485744,
          3.205823495460014,
          3.2258499707714554,
          3.245876446082895,
          3.2659029213943356,
          3.285929396705776,
          3.3059558720172157,
          3.3259823473286563,
          3.346008822640096,
          3.3660352979515373,
          3.386061773262977,
          3.4060882485744175,
          3.426114723885857,
          3.4461411991972977,
          3.4661676745087373,
          3.486194149820178,
          3.5062206251316184,
          3.526247100443059,
          3.5462735757544985,
          3.566300051065939,
          3.5863265263773796,
          3.6063530016888192,
          3.626379477000259,
          3.6464059523117003,
          3.66643242762314,
          3.6864589029345796,
          3.706485378246019,
          3.7265118535574606,
          3.7465383288689003,
          3.7665648041803417,
          3.7865912794917813,
          3.806617754803221,
          3.8266442301146624,
          3.8466707054261002,
          3.8666971807375417,
          3.886723656048983,
          3.9067501313604227,
          3.9267766066718623,
          3.946803081983302,
          3.9668295572947434,
          3.986856032606183,
          4.006882507917623,
          4.026908983229064,
          4.046935458540504,
          4.066961933851945,
          4.086988409163383,
          4.107014884474824,
          4.127041359786264,
          4.1470678350977055,
          4.167094310409145,
          4.187120785720585,
          4.207147261032026,
          4.227173736343466,
          4.2472002116549055,
          4.267226686966345,
          4.2872531622777865,
          4.307279637589228,
          4.327306112900666,
          4.347332588212107,
          4.367359063523547,
          4.387385538834988,
          4.407412014146426,
          4.4274384894578676,
          4.447464964769309,
          4.467491440080749,
          4.487517915392188,
          4.507544390703628,
          4.527570866015069,
          4.547597341326509,
          4.56762381663795,
          4.58765029194939,
          4.60767676726083,
          4.627703242572271,
          4.647729717883711,
          4.66775619319515,
          4.68778266850659,
          4.707809143818031,
          4.727835619129473,
          4.747862094440911,
          4.767888569752352,
          4.787915045063792,
          4.807941520375233,
          4.827967995686671,
          4.847994470998112,
          4.868020946309554,
          4.8880474216209935,
          4.908073896932433,
          4.928100372243873,
          4.948126847555314,
          4.968153322866754,
          4.9881797981781935,
          5.008206273489635,
          5.0282327488010745,
          5.048259224112516,
          5.068285699423954,
          5.088312174735395,
          5.108338650046835,
          5.128365125358276,
          5.148391600669714,
          5.1684180759811555,
          5.188444551292597,
          5.208471026604037,
          5.228497501915476,
          5.248523977226916,
          5.268550452538357,
          5.288576927849799,
          5.308603403161237,
          5.328629878472678,
          5.348656353784118,
          5.368682829095559,
          5.388709304406997,
          5.408735779718438,
          5.428762255029878,
          5.448788730341319,
          5.468815205652759,
          5.488841680964199,
          5.50886815627564,
          5.52889463158708,
          5.548921106898519,
          5.568947582209959
         ],
         "xaxis": "x",
         "y": [
          0.00823115946786868,
          0.008170648324910325,
          0.007991770915025656,
          0.007702301941591483,
          0.007314574341882736,
          0.0068446080257981885,
          0.006311013533057743,
          0.00573377499114613,
          0.0051330227130815574,
          0.004527899003786089,
          0.003935602989373084,
          0.0033706746719643463,
          0.002844548866228237,
          0.002365380245099599,
          0.0019381149753480726,
          0.0015647649675472391,
          0.001244828999079642,
          0.0009758010582115619,
          0.0007537093066617579,
          0.0005736374233151166,
          0.0004301917526689474,
          0.0003178906023459808,
          0.00023146445284084305,
          0.00016606645825431368,
          0.00011740066272980212,
          8.178057860886275e-05,
          5.6133331032817944e-05,
          3.796491708240602e-05,
          2.530084942943482e-05,
          1.6614173970755835e-05,
          1.075012244060213e-05,
          6.853920664790282e-06,
          4.305818711933545e-06,
          2.6654062622089723e-06,
          1.6257811806413033e-06,
          9.771287139295966e-07,
          5.786719943928232e-07,
          3.3767908229910813e-07,
          1.9416317205252415e-07,
          1.1000706134551981e-07,
          6.141370147774226e-08,
          3.3783215940037454e-08,
          1.831165974888237e-08,
          9.780148211360318e-09,
          5.146999994627704e-09,
          2.669032761552876e-09,
          1.3637810352516873e-09,
          6.866357232408018e-10,
          3.4064274843645677e-10,
          1.6651866146834455e-10,
          8.020800291764391e-11,
          3.806831334360265e-11,
          1.780333449970706e-11,
          8.204168290369477e-12,
          3.7255005186475414e-12,
          1.6675337536487163e-12,
          7.369065385696574e-13,
          3.245127277441187e-13,
          1.4975396858386063e-13,
          8.953041896211411e-14,
          1.0035392135932206e-13,
          1.9009627620971556e-13,
          4.231416105499022e-13,
          9.619267545535162e-13,
          2.1685598225675798e-12,
          4.82255545733304e-12,
          1.0569595789683671e-11,
          2.2826807082203586e-11,
          4.8576419815247145e-11,
          1.0185850183017493e-10,
          2.104554354867133e-10,
          4.284636944418069e-10,
          8.595257998140329e-10,
          1.6990056058618987e-09,
          3.309190065718917e-09,
          6.350963507456585e-09,
          1.2010152668497295e-08,
          2.237940027427799e-08,
          4.109030505181367e-08,
          7.43397835308023e-08,
          1.3252390490140727e-07,
          2.3278669878406126e-07,
          4.0291469222938227e-07,
          6.871618688512934e-07,
          1.1547713633210201e-06,
          1.9121588333893003e-06,
          3.1199161919971885e-06,
          5.015946519046183e-06,
          7.94609717607452e-06,
          1.2403545720595035e-05,
          1.907782396212256e-05,
          2.89136438794779e-05,
          4.317852708767307e-05,
          6.353657861088274e-05,
          9.212358521948786e-05,
          0.0001316160470653677,
          0.00018528397542693137,
          0.00025701465219419884,
          0.0003512925265394969,
          0.0004731196041062133,
          0.0006278616864718494,
          0.0008210092043557596,
          0.0010578475270764044,
          0.0013430405629812545,
          0.0016801427773684347,
          0.002071067503894149,
          0.002515552148208898,
          0.0030106717019411154,
          0.0035504588342480173,
          0.0041256897675240245,
          0.004723888733130773,
          0.005329589462423044,
          0.0059248704536337665,
          0.006490153472375711,
          0.007005224850748189,
          0.007450410430422692,
          0.007807811531316299,
          0.008062494855446823,
          0.008203526489736889,
          0.008224750348681819,
          0.00812523385327578,
          0.00790933589363651,
          0.007586390175100883,
          0.007170035996267268,
          0.006677263305991602,
          0.0061272651418496265,
          0.0055402052001224935,
          0.0049360100213991145,
          0.0043332846682743,
          0.0037484300695749956,
          0.0031950128653731643,
          0.0026834086465969266,
          0.0022207108983889126,
          0.0018108740230191453,
          0.0014550417686129522,
          0.001152003214824828,
          0.0008987169592811285,
          0.0006908491318454229,
          0.000523280529682175,
          0.00039055045262249166,
          0.00028721775181873307,
          0.00020813155861193524,
          0.00014861400531932618,
          0.00010456439301926248,
          7.249859858680166e-05,
          4.9539316902291505e-05,
          3.3372517363462914e-05,
          2.2183874821411995e-05,
          1.458652482761887e-05,
          9.548816604953468e-06,
          6.328190291072736e-06,
          4.415142273501759e-06,
          3.4895872824059264e-06,
          3.390793861081311e-06,
          4.101396258598928e-06,
          5.745652225762633e-06,
          8.601972242636084e-06,
          1.3129626043434736e-05,
          2.0009270541290895e-05,
          3.019638541436763e-05,
          4.498572319387969e-05,
          6.608340331274424e-05,
          9.568130233723051e-05,
          0.00013652601573139447,
          0.00019197211683101003,
          0.00026600708308920947,
          0.00036323359780903553,
          0.0004887945633179644,
          0.0006482276987153855,
          0.0008472405788835568,
          0.0010914037230422596,
          0.0013857688288836966,
          0.001734430971868303,
          0.0021400665226966936,
          0.0026034911627214265,
          0.003123292841215094,
          0.0036956008984723302,
          0.004314053264410879,
          0.004970017765994424,
          0.005653111425525935,
          0.006352044949927838,
          0.007055801700781849,
          0.007755145979726692,
          0.008444450030852639,
          0.009123838382550093,
          0.009801676629453568,
          0.010497481792107629,
          0.01124540165934488,
          0.012098494832096886,
          0.013134129565760402,
          0.01446088972135605,
          0.01622740599316457,
          0.018633491239181173,
          0.02194381933503356,
          0.02650411882812333,
          0.03275943521914671,
          0.041273443914590514,
          0.052747088586981294,
          0.06803402740535339,
          0.08814958026621213,
          0.11426920994044082,
          0.14771219709504013,
          0.18990625804183836,
          0.24232957041056308,
          0.30642813836734806,
          0.3835086866242223,
          0.47461024454639483,
          0.5803610479545016,
          0.7008309775730585,
          0.8353929735015546,
          0.9826091451520723,
          1.1401580750861264,
          1.3048186422938026,
          1.4725223286506595,
          1.6384804838781615,
          1.7973858170076162,
          1.9436791987209594,
          2.0718647020581025,
          2.1768488087453317,
          2.254274947363445,
          2.3008228575054943,
          2.314444146498716,
          2.2945107794980992,
          2.2418615567585682,
          2.158741868933239,
          2.048642866218652,
          1.916056218445718,
          1.7661685971564536,
          1.6045249212359387,
          1.4366907854337667,
          1.2679423685197784,
          1.1030070137099752,
          0.9458704795090835,
          0.7996586709496359,
          0.6665935964040467,
          0.5480163219896647,
          0.4444645084737246,
          0.3557890702755447,
          0.2812936082995631,
          0.21988126610068484,
          0.1701960720547076,
          0.13074909422772568,
          0.10002328946365747,
          0.07655429646740448,
          0.058987258516791326,
          0.046111868570323775,
          0.0368791524265599,
          0.03040410192662523,
          0.025958273579599112,
          0.0229560493669691,
          0.02093759063474685,
          0.019550756934326056,
          0.01853352814946586,
          0.01769783843253318,
          0.016915244050636276,
          0.016104512164357664,
          0.015221019110100724,
          0.01424775688028614,
          0.013187732034405252,
          0.012057570291441026,
          0.010882186004255077,
          0.009690419555918754,
          0.008511576302053464,
          0.007372813902066729,
          0.006297322019035904,
          0.005303224127770555,
          0.0044031117485733556,
          0.0036041028855661804,
          0.002908303579682031,
          0.002313547173888828,
          0.001814290988134274,
          0.0014025636992058151,
          0.0010688766395610255,
          0.0008030356420177124,
          0.0005948140709724891,
          0.00043446980076867553,
          0.0003131073245253345,
          0.00022289990334948767,
          0.00015719546037077725,
          0.00011053416160175393,
          7.860608396019101e-05,
          5.817501382575359e-05,
          4.699021123930149e-05,
          4.370274674521988e-05,
          4.7797398618091026e-05,
          5.954550270133005e-05,
          7.997881299314615e-05,
          0.00011087948670250979,
          0.00015477685240316132,
          0.00021493780095322787,
          0.00029533470451198924,
          0.000400573089282778,
          0.0005357613302775217,
          0.0007063068966244641,
          0.0009176285647563891,
          0.0011747817226912837,
          0.0014820042362757764,
          0.0018422026862309243,
          0.0022564119360614005,
          0.002723273296712737,
          0.0032385860293095434,
          0.0037949915254478625,
          0.004381847462552136,
          0.004985339446533832,
          0.005588860015265551,
          0.006173660481238538,
          0.00671975227210473,
          0.007207004553069957,
          0.007616357973263963,
          0.007931054386474894,
          0.00813777273651732,
          0.00822756409609673,
          0.008196494530075288,
          0.00804593156479481,
          0.007782445395129959,
          0.007417335080766001,
          0.006965827812283262,
          0.006446031012652864,
          0.005877738693870049,
          0.005281202771536086,
          0.004675976457688809,
          0.004079921728826205,
          0.0035084490161932003,
          0.0029740284389243895,
          0.0024859821218034227,
          0.0020505400661076363,
          0.0016711204578182823,
          0.0013487808117781043,
          0.0010827793346722047,
          0.0008711856309466862,
          0.0007114848902451576,
          0.0006011281248056046,
          0.0005379910357784876,
          0.0005207141940450509,
          0.0005489064972265751,
          0.0006232020072489802,
          0.00074516752980248,
          0.0009170652805246785,
          0.0011414824116690247,
          0.0014208475948472119,
          0.0017568644011356845,
          0.0021499014415843763,
          0.0025983890609680045,
          0.003098280227534772,
          0.003642637262674724,
          0.004221404405511697,
          0.004821417577326447,
          0.005426686620784565,
          0.006018962392105277,
          0.0065785732668927266,
          0.0070854858782532105,
          0.007520516987262844,
          0.007866601241791454,
          0.008110006708904424,
          0.008241388874763141,
          0.008256585111143296,
          0.008157074395389643,
          0.007950058575009637,
          0.007648157575348797,
          0.007268746861359108,
          0.006832996504878141,
          0.006364693608613523,
          0.005888941357140242,
          0.005430828219667688,
          0.00501415126374035,
          0.004660261053711203,
          0.004387075920197125,
          0.004208294260204842,
          0.0041328180258599165,
          0.0041643904763398,
          0.004301446843339399,
          0.004537176538555075,
          0.00485979753481228,
          0.005253044696449866,
          0.005696871449631717,
          0.0061683564897992245,
          0.006642793819656488,
          0.007094926466626198,
          0.007500264338976596,
          0.007836408403188284,
          0.008084290532834581,
          0.008229234315138275,
          0.008261748910409133,
          0.00817798613219629,
          0.007979818753004932,
          0.007674532438053468,
          0.007274160270759549,
          0.006794522705278525,
          0.006254062472035348,
          0.005672580082222066,
          0.0050699793633312215,
          0.00446512399176284,
          0.0038748870862195203,
          0.0033134497373169466,
          0.0027918747662614473,
          0.0023179529989427704,
          0.0018962943537695575,
          0.0015286175369672729,
          0.0012141813722685542,
          0.0009502978010690359,
          0.0007328703846532993,
          0.0005569110241197441,
          0.0004169995530296601,
          0.00030766383831274,
          0.00022367033075827375,
          0.000160225394320184,
          0.0001130955061647509,
          7.86593530788652e-05,
          5.390715454849129e-05,
          3.640268850826454e-05,
          2.4222084833021405e-05,
          1.588110037972491e-05,
          1.0259841895402205e-05,
          6.531181496940143e-06,
          4.096696995045803e-06,
          2.532018881621224e-06,
          1.542023677755109e-06,
          9.2535025796575e-07,
          5.471573832673047e-07,
          3.1879344500387244e-07,
          1.830195601600269e-07,
          1.0353248475136886e-07,
          5.7709428333216873e-08,
          3.169625212198202e-08,
          1.7153788795281684e-08,
          9.147516672687421e-09,
          4.806593183509465e-09,
          2.488642583132895e-09,
          1.2696344421169537e-09,
          6.382427174493739e-10,
          3.1614334763840363e-10,
          1.543025990901058e-10,
          7.420847218475431e-11,
          3.516616663980898e-11,
          1.6420606867345282e-11,
          7.555334408642041e-12,
          3.4258028711619993e-12,
          1.5316719734929583e-12,
          6.774695641871379e-13,
          3.0192785133439256e-13,
          1.487930634888345e-13,
          1.1019823458263911e-13,
          1.584408341760119e-13,
          3.2810944300271344e-13,
          7.383735290402616e-13,
          1.6681231812548112e-12,
          3.725733820984053e-12,
          8.204259260008837e-12,
          1.7803369443159343e-11,
          3.806832656660865e-11,
          8.020800784702913e-11,
          1.665186632786709e-10,
          3.406427490914473e-10,
          6.86635723474293e-10,
          1.3637810353336875e-09,
          2.6690327615812332e-09,
          5.14699999463766e-09,
          9.780148211364484e-09,
          1.8311659748883765e-08,
          3.3783215940038996e-08,
          6.141370147774443e-08,
          1.1000706134552727e-07,
          1.9416317205252105e-07,
          3.37679082299119e-07,
          5.7867199439285e-07,
          9.77128713929642e-07,
          1.6257811806413497e-06,
          2.66540626220901e-06,
          4.305818711933724e-06,
          6.853920664790373e-06,
          1.0750122440602274e-05,
          1.661417397075668e-05,
          2.530084942943511e-05,
          3.796491708240777e-05,
          5.6133331032817944e-05,
          8.17805786088645e-05,
          0.00011740066272980327,
          0.00016606645825431864,
          0.0002314644528408408,
          0.0003178906023459865,
          0.0004301917526689584,
          0.000573637423315126,
          0.000753709306661764,
          0.0009758010582115619,
          0.0012448289990796592,
          0.0015647649675472899,
          0.0019381149753480726,
          0.002365380245099625,
          0.0028445488662282663,
          0.00337067467196441,
          0.003935602989373084,
          0.004527899003786106,
          0.005133022713081575,
          0.005733774991146199,
          0.006311013533057776,
          0.0068446080257981885,
          0.007314574341882775,
          0.007702301941591493,
          0.007991770915025665,
          0.00817064832491033
         ],
         "yaxis": "y"
        },
        {
         "legendgroup": "Ridge",
         "marker": {
          "color": "rgb(31, 119, 180)",
          "symbol": "line-ns-open"
         },
         "mode": "markers",
         "name": "Ridge",
         "showlegend": false,
         "type": "scatter",
         "x": [
          -3.9930691936815332,
          5.037703251895794,
          -0.8618254501185434,
          -3.5181435000930463,
          -0.4246938571400847,
          2.6812822014661393,
          -0.3053145831713664,
          0.22547086629846724,
          -0.10313995513732155,
          -0.12233091116114636,
          0.19802547403675608,
          -0.12096923597822179,
          -1.030734996008152,
          0.16054616663688268,
          0.18853639551107196,
          -0.5453464132844121,
          2.560592894499266,
          0.5680348391888845,
          -0.08841057029679247,
          1.247250531725382,
          -2.160230765395564,
          -1.0677409849345836,
          -0.7364849429178004,
          -0.2811209899778425,
          -0.4882475060998853,
          -0.14255761332358527,
          0.16910845093607968,
          -2.052987586031343,
          -0.22818313515558078,
          1.6303535359654067,
          0.8247284958344028,
          0.6917671103465357,
          0.6339733263642684,
          2.7866272842137185,
          1.6999498733488583,
          0.21763941698389852,
          -0.45854149897245966,
          -1.8837289958894206,
          1.7836060122605477,
          -1.7389733928317288,
          -0.4024316624779892,
          0.613432524299055,
          2.0043312211547626,
          0.9351900064124419,
          0.6522049111168258,
          -2.4074597277499716,
          -0.39265252407867224,
          -0.005285919488876797,
          1.3906261964441247,
          -1.1616037424271257,
          0.8189254155612922,
          1.0215379890426228,
          -2.6372219327165696,
          0.9361208196448098,
          -0.04223649969154142,
          -1.9565464961934262,
          0.24985779224657678,
          -2.315030515160203,
          1.6026187321075083,
          -2.329852832342274,
          -0.018319414366763074,
          1.2373129436137427,
          -2.1630547161835674,
          0.38742978467244865,
          0.49486736636344697,
          0.4341785024692655,
          0.39683123102571566,
          -1.1540100751196558,
          -1.0653725203822728,
          -0.4275049160296144,
          -1.3657494493721576,
          -0.3684794762000472,
          -1.3560032393828485,
          1.9161410482968504,
          0.4341785024692655,
          0.5744090048161836,
          -0.7771061917845639,
          0.40558274892234625,
          0.23064206609326598,
          -1.8974790844938205,
          0.46121366396004865,
          1.3590820283499805,
          -0.11806189831154376,
          -0.06233611749636697,
          -0.07435451646727739,
          -2.8553645595291433,
          0.38736355872639233,
          1.0392987593973324,
          -0.16148829932391284,
          -0.4898593874157782,
          -0.9368997009385048,
          0.15097206177048347,
          2.1509718272367166,
          2.381501788404203,
          0.7298908738782819,
          0.4611998508368884,
          -0.5850812205330903,
          -0.5766478514318314,
          -0.08427367234492039,
          -0.7326296025055843,
          0.7799620757296405,
          0.1073208498993452,
          0.5339684840239884,
          0.33179740827524307,
          0.9623797379288419,
          -1.4091362541086414,
          -1.2291494337634017,
          0.14425910823935698,
          0.43317135964248527,
          0.5838555717902949,
          0.3158534049891116,
          -0.34789097747256137,
          0.6189045066994652,
          -1.0726914056624646,
          -0.7417059249629399,
          -0.12408193154473632,
          -0.1106003528374035,
          -0.39265252407867224,
          -0.548748101865117,
          1.9467143014387593,
          0.8742526670257912,
          -2.098105545298221,
          0.9757650198916039,
          -0.6980378887425709,
          -0.8464642645194891,
          1.6856988605524745,
          -0.018319414366763074,
          -0.10760176154625611,
          7.6821753235669,
          0.16796990200656323,
          0.4482517885923387,
          -0.19999585750763327,
          1.794283391955585,
          1.2266152872656024,
          0.8071214607482697,
          1.169760812638812,
          0.6339733263642684,
          0.4164937530833034,
          -0.30428774746226717,
          -1.6816675765689784,
          1.0989302571808024,
          -0.6205092991725927,
          1.1145049284259914,
          2.332586517749339,
          0.21545201326449628,
          -0.6986593516110036,
          1.0936996724139623,
          0.99743157861618,
          -1.4074303075202999,
          1.2359178567007958,
          0.47996983491565337,
          -1.42624919929158,
          4.006720858317902,
          -0.32232830466393925,
          -1.4404328017368222,
          -0.1944250093704597,
          0.3417978238287023,
          -2.107840844595999,
          -0.4898593874157782,
          1.9572274502485496,
          2.111597152461549,
          -0.7683885279644291,
          2.0126422082188515,
          0.5680348391888845,
          1.192123079471259,
          1.8787650269127059,
          -0.050067932178152086,
          -1.1465662192600536,
          0.3000037209450849,
          1.6319378655427057,
          0.5095374822855097,
          -1.5520388924206827,
          0.26364822358944556,
          -1.2075031029262089,
          -2.1400776378361535,
          0.8045344667770618,
          -2.0981811705114426,
          0.15322260147553868,
          -1.8095174186696852,
          1.2933493524941184,
          0.34760805945346207,
          0.3263719150808022,
          1.8022382923921476,
          -0.7846170533600128,
          -0.04833304101051383,
          -1.0333405344985274,
          0.2588721030978307,
          0.08418350533015095,
          0.11381657692555586,
          -0.2784010220920654,
          -2.9148789948519944,
          -0.7162228698664246,
          -1.0989167937250928,
          -0.3371975377972639,
          0.5744090048161836,
          -0.7661721021389365,
          0.9965650814252086,
          0.16054616663688268,
          0.28572421857442953,
          0.30634306349153606,
          0.38736355872639233,
          0.6415168134902156,
          0.6917671103465357,
          -0.5604835780015947,
          0.6486327923858981,
          0.6145561347053154,
          0.891565741466179,
          -0.6494825002619384,
          0.28539380643842727,
          -1.5958345515656802,
          -0.354694601276938,
          -0.9939621593371002,
          0.005548225269794926,
          0.24830801554533466,
          3.8176466378032363,
          -1.3797561092144077,
          0.38177675143901524,
          0.6194056372609777,
          1.069901129062247,
          0.1632872290838228,
          -1.0166920313011314,
          0.8394235955605593,
          -0.10730650303032219,
          0.12140768004432642,
          -0.6919093726358961,
          0.5071910575636052,
          -0.04472434566115432,
          -0.3343042673219785,
          -1.6159508819679933,
          0.344140052029553,
          0.6145561347053154,
          -0.018319414366763074,
          -0.7623030730024091,
          -3.3571882637023203,
          -2.6385357025435545,
          -3.627411412756622,
          -0.5383119878973731,
          1.2766053960081987,
          -1.5397432817499117,
          -1.4006379765014878,
          0.30824874789876444,
          -0.02310303361719869,
          0.2710413648330383,
          -0.4911880484914884,
          -0.14113324828184104,
          0.18932121571116875,
          -0.5967101997755566,
          -0.22992584158208315,
          -0.20156557368956518,
          -0.3398644620897624,
          -0.06048041883934281,
          -0.133134915957947,
          -0.16936953546211495,
          -0.6564774170442531,
          1.5843929484364045,
          -0.3343042673219785,
          0.891565741466179,
          0.06343382376951481,
          1.9826221771151804,
          2.3970167223708088,
          0.3736258893235849,
          0.6405990301821889,
          -0.4004375585174369,
          -0.8376852920110974,
          0.7497945288488004,
          -1.9895537622618282,
          0.4734198938575282,
          2.9866868034965846,
          0.3517943015214493,
          1.286677573901931,
          0.32698211095889707,
          0.28733045197475127,
          -0.5196881893484819,
          2.0994167713564718,
          2.0994167713564718,
          -2.001270841854581,
          -0.9832916621767471,
          -0.3768322979785109,
          -1.0166920313011314,
          -0.8746832953430022,
          -0.2671839173785464,
          -0.5967101997755566,
          -0.1106003528374035,
          -2.022212202576244,
          -1.3282205088683383,
          -0.22915228605734494,
          -2.6730265939248605,
          3.5599727064033413,
          -1.6668494152711992,
          -1.5409088940631017,
          0.891565741466179,
          0.6486327923858981,
          -2.0060305527461213,
          1.7836060122605477
         ],
         "xaxis": "x",
         "y": [
          "Ridge",
          "Ridge",
          "Ridge",
          "Ridge",
          "Ridge",
          "Ridge",
          "Ridge",
          "Ridge",
          "Ridge",
          "Ridge",
          "Ridge",
          "Ridge",
          "Ridge",
          "Ridge",
          "Ridge",
          "Ridge",
          "Ridge",
          "Ridge",
          "Ridge",
          "Ridge",
          "Ridge",
          "Ridge",
          "Ridge",
          "Ridge",
          "Ridge",
          "Ridge",
          "Ridge",
          "Ridge",
          "Ridge",
          "Ridge",
          "Ridge",
          "Ridge",
          "Ridge",
          "Ridge",
          "Ridge",
          "Ridge",
          "Ridge",
          "Ridge",
          "Ridge",
          "Ridge",
          "Ridge",
          "Ridge",
          "Ridge",
          "Ridge",
          "Ridge",
          "Ridge",
          "Ridge",
          "Ridge",
          "Ridge",
          "Ridge",
          "Ridge",
          "Ridge",
          "Ridge",
          "Ridge",
          "Ridge",
          "Ridge",
          "Ridge",
          "Ridge",
          "Ridge",
          "Ridge",
          "Ridge",
          "Ridge",
          "Ridge",
          "Ridge",
          "Ridge",
          "Ridge",
          "Ridge",
          "Ridge",
          "Ridge",
          "Ridge",
          "Ridge",
          "Ridge",
          "Ridge",
          "Ridge",
          "Ridge",
          "Ridge",
          "Ridge",
          "Ridge",
          "Ridge",
          "Ridge",
          "Ridge",
          "Ridge",
          "Ridge",
          "Ridge",
          "Ridge",
          "Ridge",
          "Ridge",
          "Ridge",
          "Ridge",
          "Ridge",
          "Ridge",
          "Ridge",
          "Ridge",
          "Ridge",
          "Ridge",
          "Ridge",
          "Ridge",
          "Ridge",
          "Ridge",
          "Ridge",
          "Ridge",
          "Ridge",
          "Ridge",
          "Ridge",
          "Ridge",
          "Ridge",
          "Ridge",
          "Ridge",
          "Ridge",
          "Ridge",
          "Ridge",
          "Ridge",
          "Ridge",
          "Ridge",
          "Ridge",
          "Ridge",
          "Ridge",
          "Ridge",
          "Ridge",
          "Ridge",
          "Ridge",
          "Ridge",
          "Ridge",
          "Ridge",
          "Ridge",
          "Ridge",
          "Ridge",
          "Ridge",
          "Ridge",
          "Ridge",
          "Ridge",
          "Ridge",
          "Ridge",
          "Ridge",
          "Ridge",
          "Ridge",
          "Ridge",
          "Ridge",
          "Ridge",
          "Ridge",
          "Ridge",
          "Ridge",
          "Ridge",
          "Ridge",
          "Ridge",
          "Ridge",
          "Ridge",
          "Ridge",
          "Ridge",
          "Ridge",
          "Ridge",
          "Ridge",
          "Ridge",
          "Ridge",
          "Ridge",
          "Ridge",
          "Ridge",
          "Ridge",
          "Ridge",
          "Ridge",
          "Ridge",
          "Ridge",
          "Ridge",
          "Ridge",
          "Ridge",
          "Ridge",
          "Ridge",
          "Ridge",
          "Ridge",
          "Ridge",
          "Ridge",
          "Ridge",
          "Ridge",
          "Ridge",
          "Ridge",
          "Ridge",
          "Ridge",
          "Ridge",
          "Ridge",
          "Ridge",
          "Ridge",
          "Ridge",
          "Ridge",
          "Ridge",
          "Ridge",
          "Ridge",
          "Ridge",
          "Ridge",
          "Ridge",
          "Ridge",
          "Ridge",
          "Ridge",
          "Ridge",
          "Ridge",
          "Ridge",
          "Ridge",
          "Ridge",
          "Ridge",
          "Ridge",
          "Ridge",
          "Ridge",
          "Ridge",
          "Ridge",
          "Ridge",
          "Ridge",
          "Ridge",
          "Ridge",
          "Ridge",
          "Ridge",
          "Ridge",
          "Ridge",
          "Ridge",
          "Ridge",
          "Ridge",
          "Ridge",
          "Ridge",
          "Ridge",
          "Ridge",
          "Ridge",
          "Ridge",
          "Ridge",
          "Ridge",
          "Ridge",
          "Ridge",
          "Ridge",
          "Ridge",
          "Ridge",
          "Ridge",
          "Ridge",
          "Ridge",
          "Ridge",
          "Ridge",
          "Ridge",
          "Ridge",
          "Ridge",
          "Ridge",
          "Ridge",
          "Ridge",
          "Ridge",
          "Ridge",
          "Ridge",
          "Ridge",
          "Ridge",
          "Ridge",
          "Ridge",
          "Ridge",
          "Ridge",
          "Ridge",
          "Ridge",
          "Ridge",
          "Ridge",
          "Ridge",
          "Ridge",
          "Ridge",
          "Ridge",
          "Ridge",
          "Ridge",
          "Ridge",
          "Ridge",
          "Ridge",
          "Ridge",
          "Ridge",
          "Ridge",
          "Ridge",
          "Ridge",
          "Ridge",
          "Ridge",
          "Ridge",
          "Ridge",
          "Ridge",
          "Ridge",
          "Ridge",
          "Ridge",
          "Ridge",
          "Ridge",
          "Ridge",
          "Ridge",
          "Ridge",
          "Ridge",
          "Ridge",
          "Ridge",
          "Ridge",
          "Ridge",
          "Ridge",
          "Ridge",
          "Ridge",
          "Ridge",
          "Ridge",
          "Ridge",
          "Ridge",
          "Ridge",
          "Ridge",
          "Ridge",
          "Ridge"
         ],
         "yaxis": "y2"
        },
        {
         "legendgroup": "Lasso",
         "marker": {
          "color": "rgb(255, 127, 14)",
          "symbol": "line-ns-open"
         },
         "mode": "markers",
         "name": "Lasso",
         "showlegend": false,
         "type": "scatter",
         "x": [
          -2.0476198734900093,
          3.223742095739854,
          -0.22808811219082664,
          -4.424263598198707,
          0,
          2.6754583974503547,
          -0.23827509751446155,
          0,
          0.19334928481972458,
          -0.6878399125175529,
          0,
          0,
          0,
          0,
          0,
          0,
          0,
          0,
          0,
          0,
          0,
          0,
          0,
          0,
          0,
          0,
          0,
          0,
          0,
          0,
          0,
          0,
          0,
          0,
          0,
          0,
          0,
          0,
          0,
          0,
          0,
          0,
          0,
          0,
          0,
          0,
          0,
          0,
          0,
          0,
          0,
          0,
          0,
          0,
          0,
          0,
          0,
          0,
          0,
          0,
          0,
          0,
          0,
          0,
          0,
          0,
          0,
          -0.39833346661240243,
          0,
          0,
          0,
          0,
          0,
          0,
          0,
          0,
          0,
          0,
          0,
          0,
          0,
          0,
          0,
          0,
          0,
          0,
          0,
          0,
          0,
          0,
          0,
          0,
          0,
          0,
          0,
          0,
          0,
          0,
          0,
          0,
          0,
          0,
          0,
          0,
          0,
          0,
          0,
          0,
          0,
          0,
          0,
          0,
          0,
          0,
          0,
          0,
          0,
          0,
          0,
          0,
          0,
          0,
          0,
          0,
          0,
          0.6021573559342049,
          0,
          0,
          5.5889740575213995,
          0,
          0,
          0,
          0,
          0,
          0,
          0,
          0,
          0,
          0,
          0,
          0,
          0,
          0,
          0,
          0,
          -0.23075138186171823,
          0,
          0,
          0,
          0,
          0,
          0,
          0,
          0,
          0,
          0,
          0,
          0,
          0,
          0,
          0,
          0,
          0,
          0,
          0,
          0,
          0,
          0,
          0,
          0,
          0,
          0,
          0,
          0,
          0,
          0,
          0,
          0,
          0,
          0,
          0,
          0,
          0,
          0,
          0,
          0,
          0,
          0,
          0,
          0,
          0,
          0,
          0,
          0,
          0,
          0,
          0,
          0,
          0,
          0,
          0,
          0,
          0,
          0,
          0,
          0,
          0,
          0,
          0,
          0,
          0,
          0,
          0,
          0,
          0,
          0,
          0,
          0.18609257038558044,
          0.6622835325725617,
          0,
          0,
          0,
          0,
          0,
          0,
          0,
          0,
          0,
          0,
          0,
          0,
          0,
          0,
          0,
          0,
          0,
          0,
          0,
          0,
          0,
          0,
          0,
          0,
          0,
          0,
          0,
          0,
          0,
          0,
          0,
          0,
          0,
          0,
          0,
          0,
          0,
          0,
          0,
          0,
          0,
          0,
          0,
          0,
          0,
          0,
          0,
          0,
          0,
          0,
          0,
          0,
          0,
          0,
          0,
          0,
          0,
          0,
          0,
          0,
          0,
          0,
          0,
          0,
          0,
          0,
          0,
          0,
          1.808848090472989,
          0,
          0,
          0,
          0,
          0,
          0
         ],
         "xaxis": "x",
         "y": [
          "Lasso",
          "Lasso",
          "Lasso",
          "Lasso",
          "Lasso",
          "Lasso",
          "Lasso",
          "Lasso",
          "Lasso",
          "Lasso",
          "Lasso",
          "Lasso",
          "Lasso",
          "Lasso",
          "Lasso",
          "Lasso",
          "Lasso",
          "Lasso",
          "Lasso",
          "Lasso",
          "Lasso",
          "Lasso",
          "Lasso",
          "Lasso",
          "Lasso",
          "Lasso",
          "Lasso",
          "Lasso",
          "Lasso",
          "Lasso",
          "Lasso",
          "Lasso",
          "Lasso",
          "Lasso",
          "Lasso",
          "Lasso",
          "Lasso",
          "Lasso",
          "Lasso",
          "Lasso",
          "Lasso",
          "Lasso",
          "Lasso",
          "Lasso",
          "Lasso",
          "Lasso",
          "Lasso",
          "Lasso",
          "Lasso",
          "Lasso",
          "Lasso",
          "Lasso",
          "Lasso",
          "Lasso",
          "Lasso",
          "Lasso",
          "Lasso",
          "Lasso",
          "Lasso",
          "Lasso",
          "Lasso",
          "Lasso",
          "Lasso",
          "Lasso",
          "Lasso",
          "Lasso",
          "Lasso",
          "Lasso",
          "Lasso",
          "Lasso",
          "Lasso",
          "Lasso",
          "Lasso",
          "Lasso",
          "Lasso",
          "Lasso",
          "Lasso",
          "Lasso",
          "Lasso",
          "Lasso",
          "Lasso",
          "Lasso",
          "Lasso",
          "Lasso",
          "Lasso",
          "Lasso",
          "Lasso",
          "Lasso",
          "Lasso",
          "Lasso",
          "Lasso",
          "Lasso",
          "Lasso",
          "Lasso",
          "Lasso",
          "Lasso",
          "Lasso",
          "Lasso",
          "Lasso",
          "Lasso",
          "Lasso",
          "Lasso",
          "Lasso",
          "Lasso",
          "Lasso",
          "Lasso",
          "Lasso",
          "Lasso",
          "Lasso",
          "Lasso",
          "Lasso",
          "Lasso",
          "Lasso",
          "Lasso",
          "Lasso",
          "Lasso",
          "Lasso",
          "Lasso",
          "Lasso",
          "Lasso",
          "Lasso",
          "Lasso",
          "Lasso",
          "Lasso",
          "Lasso",
          "Lasso",
          "Lasso",
          "Lasso",
          "Lasso",
          "Lasso",
          "Lasso",
          "Lasso",
          "Lasso",
          "Lasso",
          "Lasso",
          "Lasso",
          "Lasso",
          "Lasso",
          "Lasso",
          "Lasso",
          "Lasso",
          "Lasso",
          "Lasso",
          "Lasso",
          "Lasso",
          "Lasso",
          "Lasso",
          "Lasso",
          "Lasso",
          "Lasso",
          "Lasso",
          "Lasso",
          "Lasso",
          "Lasso",
          "Lasso",
          "Lasso",
          "Lasso",
          "Lasso",
          "Lasso",
          "Lasso",
          "Lasso",
          "Lasso",
          "Lasso",
          "Lasso",
          "Lasso",
          "Lasso",
          "Lasso",
          "Lasso",
          "Lasso",
          "Lasso",
          "Lasso",
          "Lasso",
          "Lasso",
          "Lasso",
          "Lasso",
          "Lasso",
          "Lasso",
          "Lasso",
          "Lasso",
          "Lasso",
          "Lasso",
          "Lasso",
          "Lasso",
          "Lasso",
          "Lasso",
          "Lasso",
          "Lasso",
          "Lasso",
          "Lasso",
          "Lasso",
          "Lasso",
          "Lasso",
          "Lasso",
          "Lasso",
          "Lasso",
          "Lasso",
          "Lasso",
          "Lasso",
          "Lasso",
          "Lasso",
          "Lasso",
          "Lasso",
          "Lasso",
          "Lasso",
          "Lasso",
          "Lasso",
          "Lasso",
          "Lasso",
          "Lasso",
          "Lasso",
          "Lasso",
          "Lasso",
          "Lasso",
          "Lasso",
          "Lasso",
          "Lasso",
          "Lasso",
          "Lasso",
          "Lasso",
          "Lasso",
          "Lasso",
          "Lasso",
          "Lasso",
          "Lasso",
          "Lasso",
          "Lasso",
          "Lasso",
          "Lasso",
          "Lasso",
          "Lasso",
          "Lasso",
          "Lasso",
          "Lasso",
          "Lasso",
          "Lasso",
          "Lasso",
          "Lasso",
          "Lasso",
          "Lasso",
          "Lasso",
          "Lasso",
          "Lasso",
          "Lasso",
          "Lasso",
          "Lasso",
          "Lasso",
          "Lasso",
          "Lasso",
          "Lasso",
          "Lasso",
          "Lasso",
          "Lasso",
          "Lasso",
          "Lasso",
          "Lasso",
          "Lasso",
          "Lasso",
          "Lasso",
          "Lasso",
          "Lasso",
          "Lasso",
          "Lasso",
          "Lasso",
          "Lasso",
          "Lasso",
          "Lasso",
          "Lasso",
          "Lasso",
          "Lasso",
          "Lasso",
          "Lasso",
          "Lasso",
          "Lasso",
          "Lasso",
          "Lasso",
          "Lasso",
          "Lasso",
          "Lasso",
          "Lasso",
          "Lasso",
          "Lasso",
          "Lasso",
          "Lasso",
          "Lasso",
          "Lasso",
          "Lasso",
          "Lasso",
          "Lasso",
          "Lasso",
          "Lasso",
          "Lasso",
          "Lasso",
          "Lasso",
          "Lasso"
         ],
         "yaxis": "y2"
        }
       ],
       "layout": {
        "barmode": "overlay",
        "hovermode": "closest",
        "legend": {
         "traceorder": "reversed"
        },
        "template": {
         "data": {
          "bar": [
           {
            "error_x": {
             "color": "#2a3f5f"
            },
            "error_y": {
             "color": "#2a3f5f"
            },
            "marker": {
             "line": {
              "color": "#E5ECF6",
              "width": 0.5
             },
             "pattern": {
              "fillmode": "overlay",
              "size": 10,
              "solidity": 0.2
             }
            },
            "type": "bar"
           }
          ],
          "barpolar": [
           {
            "marker": {
             "line": {
              "color": "#E5ECF6",
              "width": 0.5
             },
             "pattern": {
              "fillmode": "overlay",
              "size": 10,
              "solidity": 0.2
             }
            },
            "type": "barpolar"
           }
          ],
          "carpet": [
           {
            "aaxis": {
             "endlinecolor": "#2a3f5f",
             "gridcolor": "white",
             "linecolor": "white",
             "minorgridcolor": "white",
             "startlinecolor": "#2a3f5f"
            },
            "baxis": {
             "endlinecolor": "#2a3f5f",
             "gridcolor": "white",
             "linecolor": "white",
             "minorgridcolor": "white",
             "startlinecolor": "#2a3f5f"
            },
            "type": "carpet"
           }
          ],
          "choropleth": [
           {
            "colorbar": {
             "outlinewidth": 0,
             "ticks": ""
            },
            "type": "choropleth"
           }
          ],
          "contour": [
           {
            "colorbar": {
             "outlinewidth": 0,
             "ticks": ""
            },
            "colorscale": [
             [
              0,
              "#0d0887"
             ],
             [
              0.1111111111111111,
              "#46039f"
             ],
             [
              0.2222222222222222,
              "#7201a8"
             ],
             [
              0.3333333333333333,
              "#9c179e"
             ],
             [
              0.4444444444444444,
              "#bd3786"
             ],
             [
              0.5555555555555556,
              "#d8576b"
             ],
             [
              0.6666666666666666,
              "#ed7953"
             ],
             [
              0.7777777777777778,
              "#fb9f3a"
             ],
             [
              0.8888888888888888,
              "#fdca26"
             ],
             [
              1,
              "#f0f921"
             ]
            ],
            "type": "contour"
           }
          ],
          "contourcarpet": [
           {
            "colorbar": {
             "outlinewidth": 0,
             "ticks": ""
            },
            "type": "contourcarpet"
           }
          ],
          "heatmap": [
           {
            "colorbar": {
             "outlinewidth": 0,
             "ticks": ""
            },
            "colorscale": [
             [
              0,
              "#0d0887"
             ],
             [
              0.1111111111111111,
              "#46039f"
             ],
             [
              0.2222222222222222,
              "#7201a8"
             ],
             [
              0.3333333333333333,
              "#9c179e"
             ],
             [
              0.4444444444444444,
              "#bd3786"
             ],
             [
              0.5555555555555556,
              "#d8576b"
             ],
             [
              0.6666666666666666,
              "#ed7953"
             ],
             [
              0.7777777777777778,
              "#fb9f3a"
             ],
             [
              0.8888888888888888,
              "#fdca26"
             ],
             [
              1,
              "#f0f921"
             ]
            ],
            "type": "heatmap"
           }
          ],
          "heatmapgl": [
           {
            "colorbar": {
             "outlinewidth": 0,
             "ticks": ""
            },
            "colorscale": [
             [
              0,
              "#0d0887"
             ],
             [
              0.1111111111111111,
              "#46039f"
             ],
             [
              0.2222222222222222,
              "#7201a8"
             ],
             [
              0.3333333333333333,
              "#9c179e"
             ],
             [
              0.4444444444444444,
              "#bd3786"
             ],
             [
              0.5555555555555556,
              "#d8576b"
             ],
             [
              0.6666666666666666,
              "#ed7953"
             ],
             [
              0.7777777777777778,
              "#fb9f3a"
             ],
             [
              0.8888888888888888,
              "#fdca26"
             ],
             [
              1,
              "#f0f921"
             ]
            ],
            "type": "heatmapgl"
           }
          ],
          "histogram": [
           {
            "marker": {
             "pattern": {
              "fillmode": "overlay",
              "size": 10,
              "solidity": 0.2
             }
            },
            "type": "histogram"
           }
          ],
          "histogram2d": [
           {
            "colorbar": {
             "outlinewidth": 0,
             "ticks": ""
            },
            "colorscale": [
             [
              0,
              "#0d0887"
             ],
             [
              0.1111111111111111,
              "#46039f"
             ],
             [
              0.2222222222222222,
              "#7201a8"
             ],
             [
              0.3333333333333333,
              "#9c179e"
             ],
             [
              0.4444444444444444,
              "#bd3786"
             ],
             [
              0.5555555555555556,
              "#d8576b"
             ],
             [
              0.6666666666666666,
              "#ed7953"
             ],
             [
              0.7777777777777778,
              "#fb9f3a"
             ],
             [
              0.8888888888888888,
              "#fdca26"
             ],
             [
              1,
              "#f0f921"
             ]
            ],
            "type": "histogram2d"
           }
          ],
          "histogram2dcontour": [
           {
            "colorbar": {
             "outlinewidth": 0,
             "ticks": ""
            },
            "colorscale": [
             [
              0,
              "#0d0887"
             ],
             [
              0.1111111111111111,
              "#46039f"
             ],
             [
              0.2222222222222222,
              "#7201a8"
             ],
             [
              0.3333333333333333,
              "#9c179e"
             ],
             [
              0.4444444444444444,
              "#bd3786"
             ],
             [
              0.5555555555555556,
              "#d8576b"
             ],
             [
              0.6666666666666666,
              "#ed7953"
             ],
             [
              0.7777777777777778,
              "#fb9f3a"
             ],
             [
              0.8888888888888888,
              "#fdca26"
             ],
             [
              1,
              "#f0f921"
             ]
            ],
            "type": "histogram2dcontour"
           }
          ],
          "mesh3d": [
           {
            "colorbar": {
             "outlinewidth": 0,
             "ticks": ""
            },
            "type": "mesh3d"
           }
          ],
          "parcoords": [
           {
            "line": {
             "colorbar": {
              "outlinewidth": 0,
              "ticks": ""
             }
            },
            "type": "parcoords"
           }
          ],
          "pie": [
           {
            "automargin": true,
            "type": "pie"
           }
          ],
          "scatter": [
           {
            "marker": {
             "colorbar": {
              "outlinewidth": 0,
              "ticks": ""
             }
            },
            "type": "scatter"
           }
          ],
          "scatter3d": [
           {
            "line": {
             "colorbar": {
              "outlinewidth": 0,
              "ticks": ""
             }
            },
            "marker": {
             "colorbar": {
              "outlinewidth": 0,
              "ticks": ""
             }
            },
            "type": "scatter3d"
           }
          ],
          "scattercarpet": [
           {
            "marker": {
             "colorbar": {
              "outlinewidth": 0,
              "ticks": ""
             }
            },
            "type": "scattercarpet"
           }
          ],
          "scattergeo": [
           {
            "marker": {
             "colorbar": {
              "outlinewidth": 0,
              "ticks": ""
             }
            },
            "type": "scattergeo"
           }
          ],
          "scattergl": [
           {
            "marker": {
             "colorbar": {
              "outlinewidth": 0,
              "ticks": ""
             }
            },
            "type": "scattergl"
           }
          ],
          "scattermapbox": [
           {
            "marker": {
             "colorbar": {
              "outlinewidth": 0,
              "ticks": ""
             }
            },
            "type": "scattermapbox"
           }
          ],
          "scatterpolar": [
           {
            "marker": {
             "colorbar": {
              "outlinewidth": 0,
              "ticks": ""
             }
            },
            "type": "scatterpolar"
           }
          ],
          "scatterpolargl": [
           {
            "marker": {
             "colorbar": {
              "outlinewidth": 0,
              "ticks": ""
             }
            },
            "type": "scatterpolargl"
           }
          ],
          "scatterternary": [
           {
            "marker": {
             "colorbar": {
              "outlinewidth": 0,
              "ticks": ""
             }
            },
            "type": "scatterternary"
           }
          ],
          "surface": [
           {
            "colorbar": {
             "outlinewidth": 0,
             "ticks": ""
            },
            "colorscale": [
             [
              0,
              "#0d0887"
             ],
             [
              0.1111111111111111,
              "#46039f"
             ],
             [
              0.2222222222222222,
              "#7201a8"
             ],
             [
              0.3333333333333333,
              "#9c179e"
             ],
             [
              0.4444444444444444,
              "#bd3786"
             ],
             [
              0.5555555555555556,
              "#d8576b"
             ],
             [
              0.6666666666666666,
              "#ed7953"
             ],
             [
              0.7777777777777778,
              "#fb9f3a"
             ],
             [
              0.8888888888888888,
              "#fdca26"
             ],
             [
              1,
              "#f0f921"
             ]
            ],
            "type": "surface"
           }
          ],
          "table": [
           {
            "cells": {
             "fill": {
              "color": "#EBF0F8"
             },
             "line": {
              "color": "white"
             }
            },
            "header": {
             "fill": {
              "color": "#C8D4E3"
             },
             "line": {
              "color": "white"
             }
            },
            "type": "table"
           }
          ]
         },
         "layout": {
          "annotationdefaults": {
           "arrowcolor": "#2a3f5f",
           "arrowhead": 0,
           "arrowwidth": 1
          },
          "autotypenumbers": "strict",
          "coloraxis": {
           "colorbar": {
            "outlinewidth": 0,
            "ticks": ""
           }
          },
          "colorscale": {
           "diverging": [
            [
             0,
             "#8e0152"
            ],
            [
             0.1,
             "#c51b7d"
            ],
            [
             0.2,
             "#de77ae"
            ],
            [
             0.3,
             "#f1b6da"
            ],
            [
             0.4,
             "#fde0ef"
            ],
            [
             0.5,
             "#f7f7f7"
            ],
            [
             0.6,
             "#e6f5d0"
            ],
            [
             0.7,
             "#b8e186"
            ],
            [
             0.8,
             "#7fbc41"
            ],
            [
             0.9,
             "#4d9221"
            ],
            [
             1,
             "#276419"
            ]
           ],
           "sequential": [
            [
             0,
             "#0d0887"
            ],
            [
             0.1111111111111111,
             "#46039f"
            ],
            [
             0.2222222222222222,
             "#7201a8"
            ],
            [
             0.3333333333333333,
             "#9c179e"
            ],
            [
             0.4444444444444444,
             "#bd3786"
            ],
            [
             0.5555555555555556,
             "#d8576b"
            ],
            [
             0.6666666666666666,
             "#ed7953"
            ],
            [
             0.7777777777777778,
             "#fb9f3a"
            ],
            [
             0.8888888888888888,
             "#fdca26"
            ],
            [
             1,
             "#f0f921"
            ]
           ],
           "sequentialminus": [
            [
             0,
             "#0d0887"
            ],
            [
             0.1111111111111111,
             "#46039f"
            ],
            [
             0.2222222222222222,
             "#7201a8"
            ],
            [
             0.3333333333333333,
             "#9c179e"
            ],
            [
             0.4444444444444444,
             "#bd3786"
            ],
            [
             0.5555555555555556,
             "#d8576b"
            ],
            [
             0.6666666666666666,
             "#ed7953"
            ],
            [
             0.7777777777777778,
             "#fb9f3a"
            ],
            [
             0.8888888888888888,
             "#fdca26"
            ],
            [
             1,
             "#f0f921"
            ]
           ]
          },
          "colorway": [
           "#636efa",
           "#EF553B",
           "#00cc96",
           "#ab63fa",
           "#FFA15A",
           "#19d3f3",
           "#FF6692",
           "#B6E880",
           "#FF97FF",
           "#FECB52"
          ],
          "font": {
           "color": "#2a3f5f"
          },
          "geo": {
           "bgcolor": "white",
           "lakecolor": "white",
           "landcolor": "#E5ECF6",
           "showlakes": true,
           "showland": true,
           "subunitcolor": "white"
          },
          "hoverlabel": {
           "align": "left"
          },
          "hovermode": "closest",
          "mapbox": {
           "style": "light"
          },
          "paper_bgcolor": "white",
          "plot_bgcolor": "#E5ECF6",
          "polar": {
           "angularaxis": {
            "gridcolor": "white",
            "linecolor": "white",
            "ticks": ""
           },
           "bgcolor": "#E5ECF6",
           "radialaxis": {
            "gridcolor": "white",
            "linecolor": "white",
            "ticks": ""
           }
          },
          "scene": {
           "xaxis": {
            "backgroundcolor": "#E5ECF6",
            "gridcolor": "white",
            "gridwidth": 2,
            "linecolor": "white",
            "showbackground": true,
            "ticks": "",
            "zerolinecolor": "white"
           },
           "yaxis": {
            "backgroundcolor": "#E5ECF6",
            "gridcolor": "white",
            "gridwidth": 2,
            "linecolor": "white",
            "showbackground": true,
            "ticks": "",
            "zerolinecolor": "white"
           },
           "zaxis": {
            "backgroundcolor": "#E5ECF6",
            "gridcolor": "white",
            "gridwidth": 2,
            "linecolor": "white",
            "showbackground": true,
            "ticks": "",
            "zerolinecolor": "white"
           }
          },
          "shapedefaults": {
           "line": {
            "color": "#2a3f5f"
           }
          },
          "ternary": {
           "aaxis": {
            "gridcolor": "white",
            "linecolor": "white",
            "ticks": ""
           },
           "baxis": {
            "gridcolor": "white",
            "linecolor": "white",
            "ticks": ""
           },
           "bgcolor": "#E5ECF6",
           "caxis": {
            "gridcolor": "white",
            "linecolor": "white",
            "ticks": ""
           }
          },
          "title": {
           "x": 0.05
          },
          "xaxis": {
           "automargin": true,
           "gridcolor": "white",
           "linecolor": "white",
           "ticks": "",
           "title": {
            "standoff": 15
           },
           "zerolinecolor": "white",
           "zerolinewidth": 2
          },
          "yaxis": {
           "automargin": true,
           "gridcolor": "white",
           "linecolor": "white",
           "ticks": "",
           "title": {
            "standoff": 15
           },
           "zerolinecolor": "white",
           "zerolinewidth": 2
          }
         }
        },
        "xaxis": {
         "anchor": "y2",
         "domain": [
          0,
          1
         ],
         "zeroline": false
        },
        "yaxis": {
         "anchor": "free",
         "domain": [
          0.35,
          1
         ],
         "position": 0
        },
        "yaxis2": {
         "anchor": "x",
         "domain": [
          0,
          0.25
         ],
         "dtick": 1,
         "showticklabels": false
        }
       }
      },
      "text/html": [
       "<div>                            <div id=\"d3d62ab2-41e8-4a1a-8e5f-1b1743bc42ce\" class=\"plotly-graph-div\" style=\"height:525px; width:100%;\"></div>            <script type=\"text/javascript\">                require([\"plotly\"], function(Plotly) {                    window.PLOTLYENV=window.PLOTLYENV || {};                                    if (document.getElementById(\"d3d62ab2-41e8-4a1a-8e5f-1b1743bc42ce\")) {                    Plotly.newPlot(                        \"d3d62ab2-41e8-4a1a-8e5f-1b1743bc42ce\",                        [{\"autobinx\":false,\"histnorm\":\"probability density\",\"legendgroup\":\"Ridge\",\"marker\":{\"color\":\"rgb(31, 119, 180)\"},\"name\":\"Ridge\",\"opacity\":0.7,\"type\":\"histogram\",\"x\":[-3.9930691936815332,5.037703251895794,-0.8618254501185434,-3.5181435000930463,-0.4246938571400847,2.6812822014661393,-0.3053145831713664,0.22547086629846724,-0.10313995513732155,-0.12233091116114636,0.19802547403675608,-0.12096923597822179,-1.030734996008152,0.16054616663688268,0.18853639551107196,-0.5453464132844121,2.560592894499266,0.5680348391888845,-0.08841057029679247,1.247250531725382,-2.160230765395564,-1.0677409849345836,-0.7364849429178004,-0.2811209899778425,-0.4882475060998853,-0.14255761332358527,0.16910845093607968,-2.052987586031343,-0.22818313515558078,1.6303535359654067,0.8247284958344028,0.6917671103465357,0.6339733263642684,2.7866272842137185,1.6999498733488583,0.21763941698389852,-0.45854149897245966,-1.8837289958894206,1.7836060122605477,-1.7389733928317288,-0.4024316624779892,0.613432524299055,2.0043312211547626,0.9351900064124419,0.6522049111168258,-2.4074597277499716,-0.39265252407867224,-0.005285919488876797,1.3906261964441247,-1.1616037424271257,0.8189254155612922,1.0215379890426228,-2.6372219327165696,0.9361208196448098,-0.04223649969154142,-1.9565464961934262,0.24985779224657678,-2.315030515160203,1.6026187321075083,-2.329852832342274,-0.018319414366763074,1.2373129436137427,-2.1630547161835674,0.38742978467244865,0.49486736636344697,0.4341785024692655,0.39683123102571566,-1.1540100751196558,-1.0653725203822728,-0.4275049160296144,-1.3657494493721576,-0.3684794762000472,-1.3560032393828485,1.9161410482968504,0.4341785024692655,0.5744090048161836,-0.7771061917845639,0.40558274892234625,0.23064206609326598,-1.8974790844938205,0.46121366396004865,1.3590820283499805,-0.11806189831154376,-0.06233611749636697,-0.07435451646727739,-2.8553645595291433,0.38736355872639233,1.0392987593973324,-0.16148829932391284,-0.4898593874157782,-0.9368997009385048,0.15097206177048347,2.1509718272367166,2.381501788404203,0.7298908738782819,0.4611998508368884,-0.5850812205330903,-0.5766478514318314,-0.08427367234492039,-0.7326296025055843,0.7799620757296405,0.1073208498993452,0.5339684840239884,0.33179740827524307,0.9623797379288419,-1.4091362541086414,-1.2291494337634017,0.14425910823935698,0.43317135964248527,0.5838555717902949,0.3158534049891116,-0.34789097747256137,0.6189045066994652,-1.0726914056624646,-0.7417059249629399,-0.12408193154473632,-0.1106003528374035,-0.39265252407867224,-0.548748101865117,1.9467143014387593,0.8742526670257912,-2.098105545298221,0.9757650198916039,-0.6980378887425709,-0.8464642645194891,1.6856988605524745,-0.018319414366763074,-0.10760176154625611,7.6821753235669,0.16796990200656323,0.4482517885923387,-0.19999585750763327,1.794283391955585,1.2266152872656024,0.8071214607482697,1.169760812638812,0.6339733263642684,0.4164937530833034,-0.30428774746226717,-1.6816675765689784,1.0989302571808024,-0.6205092991725927,1.1145049284259914,2.332586517749339,0.21545201326449628,-0.6986593516110036,1.0936996724139623,0.99743157861618,-1.4074303075202999,1.2359178567007958,0.47996983491565337,-1.42624919929158,4.006720858317902,-0.32232830466393925,-1.4404328017368222,-0.1944250093704597,0.3417978238287023,-2.107840844595999,-0.4898593874157782,1.9572274502485496,2.111597152461549,-0.7683885279644291,2.0126422082188515,0.5680348391888845,1.192123079471259,1.8787650269127059,-0.050067932178152086,-1.1465662192600536,0.3000037209450849,1.6319378655427057,0.5095374822855097,-1.5520388924206827,0.26364822358944556,-1.2075031029262089,-2.1400776378361535,0.8045344667770618,-2.0981811705114426,0.15322260147553868,-1.8095174186696852,1.2933493524941184,0.34760805945346207,0.3263719150808022,1.8022382923921476,-0.7846170533600128,-0.04833304101051383,-1.0333405344985274,0.2588721030978307,0.08418350533015095,0.11381657692555586,-0.2784010220920654,-2.9148789948519944,-0.7162228698664246,-1.0989167937250928,-0.3371975377972639,0.5744090048161836,-0.7661721021389365,0.9965650814252086,0.16054616663688268,0.28572421857442953,0.30634306349153606,0.38736355872639233,0.6415168134902156,0.6917671103465357,-0.5604835780015947,0.6486327923858981,0.6145561347053154,0.891565741466179,-0.6494825002619384,0.28539380643842727,-1.5958345515656802,-0.354694601276938,-0.9939621593371002,0.005548225269794926,0.24830801554533466,3.8176466378032363,-1.3797561092144077,0.38177675143901524,0.6194056372609777,1.069901129062247,0.1632872290838228,-1.0166920313011314,0.8394235955605593,-0.10730650303032219,0.12140768004432642,-0.6919093726358961,0.5071910575636052,-0.04472434566115432,-0.3343042673219785,-1.6159508819679933,0.344140052029553,0.6145561347053154,-0.018319414366763074,-0.7623030730024091,-3.3571882637023203,-2.6385357025435545,-3.627411412756622,-0.5383119878973731,1.2766053960081987,-1.5397432817499117,-1.4006379765014878,0.30824874789876444,-0.02310303361719869,0.2710413648330383,-0.4911880484914884,-0.14113324828184104,0.18932121571116875,-0.5967101997755566,-0.22992584158208315,-0.20156557368956518,-0.3398644620897624,-0.06048041883934281,-0.133134915957947,-0.16936953546211495,-0.6564774170442531,1.5843929484364045,-0.3343042673219785,0.891565741466179,0.06343382376951481,1.9826221771151804,2.3970167223708088,0.3736258893235849,0.6405990301821889,-0.4004375585174369,-0.8376852920110974,0.7497945288488004,-1.9895537622618282,0.4734198938575282,2.9866868034965846,0.3517943015214493,1.286677573901931,0.32698211095889707,0.28733045197475127,-0.5196881893484819,2.0994167713564718,2.0994167713564718,-2.001270841854581,-0.9832916621767471,-0.3768322979785109,-1.0166920313011314,-0.8746832953430022,-0.2671839173785464,-0.5967101997755566,-0.1106003528374035,-2.022212202576244,-1.3282205088683383,-0.22915228605734494,-2.6730265939248605,3.5599727064033413,-1.6668494152711992,-1.5409088940631017,0.891565741466179,0.6486327923858981,-2.0060305527461213,1.7836060122605477],\"xaxis\":\"x\",\"xbins\":{\"end\":7.6821753235669,\"size\":0.1,\"start\":-3.9930691936815332},\"yaxis\":\"y\"},{\"autobinx\":false,\"histnorm\":\"probability density\",\"legendgroup\":\"Lasso\",\"marker\":{\"color\":\"rgb(255, 127, 14)\"},\"name\":\"Lasso\",\"opacity\":0.7,\"type\":\"histogram\",\"x\":[-2.0476198734900093,3.223742095739854,-0.22808811219082664,-4.424263598198707,-0.0,2.6754583974503547,-0.23827509751446155,-0.0,0.19334928481972458,-0.6878399125175529,0.0,0.0,-0.0,-0.0,-0.0,-0.0,0.0,0.0,-0.0,0.0,-0.0,-0.0,-0.0,0.0,-0.0,0.0,-0.0,-0.0,-0.0,0.0,0.0,0.0,0.0,0.0,0.0,-0.0,-0.0,-0.0,0.0,-0.0,-0.0,0.0,0.0,0.0,0.0,-0.0,-0.0,-0.0,0.0,-0.0,0.0,0.0,-0.0,0.0,0.0,-0.0,0.0,-0.0,0.0,-0.0,0.0,0.0,-0.0,0.0,0.0,0.0,0.0,-0.39833346661240243,-0.0,-0.0,-0.0,0.0,-0.0,0.0,0.0,0.0,-0.0,0.0,-0.0,-0.0,-0.0,0.0,-0.0,-0.0,0.0,-0.0,-0.0,0.0,-0.0,-0.0,-0.0,0.0,0.0,0.0,0.0,0.0,-0.0,-0.0,-0.0,-0.0,0.0,-0.0,0.0,-0.0,0.0,-0.0,-0.0,-0.0,0.0,0.0,0.0,-0.0,0.0,-0.0,-0.0,-0.0,0.0,-0.0,0.0,0.0,0.0,-0.0,0.0,-0.0,-0.0,0.6021573559342049,0.0,0.0,5.5889740575213995,-0.0,-0.0,0.0,0.0,0.0,0.0,0.0,0.0,0.0,-0.0,-0.0,0.0,-0.0,0.0,0.0,0.0,-0.23075138186171823,0.0,0.0,-0.0,0.0,-0.0,-0.0,0.0,0.0,-0.0,0.0,-0.0,-0.0,-0.0,0.0,0.0,-0.0,0.0,0.0,0.0,0.0,-0.0,-0.0,0.0,0.0,0.0,0.0,0.0,-0.0,-0.0,0.0,-0.0,-0.0,-0.0,0.0,-0.0,0.0,0.0,-0.0,-0.0,-0.0,-0.0,0.0,-0.0,-0.0,-0.0,-0.0,-0.0,-0.0,0.0,-0.0,0.0,-0.0,0.0,-0.0,-0.0,-0.0,0.0,-0.0,0.0,0.0,0.0,-0.0,0.0,-0.0,-0.0,-0.0,0.0,0.0,0.0,-0.0,0.0,0.18609257038558044,0.6622835325725617,0.0,-0.0,0.0,0.0,0.0,-0.0,0.0,-0.0,-0.0,-0.0,0.0,0.0,0.0,-0.0,-0.0,-0.0,-0.0,-0.0,0.0,-0.0,-0.0,0.0,-0.0,0.0,0.0,-0.0,0.0,-0.0,-0.0,0.0,-0.0,0.0,-0.0,-0.0,0.0,0.0,-0.0,0.0,-0.0,0.0,0.0,-0.0,0.0,-0.0,-0.0,0.0,-0.0,0.0,0.0,0.0,0.0,-0.0,-0.0,-0.0,0.0,0.0,-0.0,-0.0,-0.0,-0.0,-0.0,0.0,-0.0,0.0,-0.0,-0.0,-0.0,-0.0,1.808848090472989,-0.0,-0.0,0.0,0.0,-0.0,0.0],\"xaxis\":\"x\",\"xbins\":{\"end\":5.5889740575213995,\"size\":0.1,\"start\":-4.424263598198707},\"yaxis\":\"y\"},{\"legendgroup\":\"Ridge\",\"marker\":{\"color\":\"rgb(31, 119, 180)\"},\"mode\":\"lines\",\"name\":\"Ridge\",\"showlegend\":false,\"type\":\"scatter\",\"x\":[-3.9930691936815332,-3.9697187046470366,-3.9463682156125395,-3.923017726578043,-3.8996672375435457,-3.876316748509049,-3.852966259474552,-3.8296157704400553,-3.806265281405558,-3.7829147923710615,-3.7595643033365644,-3.736213814302068,-3.7128633252675707,-3.689512836233074,-3.666162347198577,-3.6428118581640803,-3.619461369129583,-3.5961108800950865,-3.57276039106059,-3.5494099020260927,-3.526059412991596,-3.502708923957099,-3.4793584349226023,-3.4560079458881052,-3.432657456853608,-3.4093069678191115,-3.385956478784615,-3.3626059897501177,-3.339255500715621,-3.315905011681124,-3.2925545226466273,-3.26920403361213,-3.2458535445776335,-3.222503055543137,-3.1991525665086398,-3.1758020774741427,-3.152451588439646,-3.1291010994051494,-3.1057506103706523,-3.0824001213361556,-3.0590496323016585,-3.035699143267162,-3.0123486542326647,-2.988998165198168,-2.965647676163671,-2.9422971871291743,-2.918946698094677,-2.8955962090601806,-2.8722457200256835,-2.848895230991187,-2.8255447419566897,-2.802194252922193,-2.7788437638876964,-2.7554932748531993,-2.732142785818702,-2.7087922967842055,-2.685441807749709,-2.6620913187152118,-2.6387408296807147,-2.6153903406462184,-2.5920398516117213,-2.5686893625772242,-2.545338873542727,-2.5219883845082305,-2.498637895473734,-2.4752874064392367,-2.45193691740474,-2.4285864283702434,-2.4052359393357463,-2.381885450301249,-2.3585349612667525,-2.335184472232256,-2.311833983197759,-2.288483494163262,-2.265133005128765,-2.2417825160942684,-2.2184320270597713,-2.195081538025274,-2.171731048990778,-2.148380559956281,-2.1250300709217838,-2.1016795818872867,-2.07832909285279,-2.0549786038182933,-2.0316281147837962,-2.0082776257492996,-1.984927136714803,-1.9615766476803058,-1.9382261586458087,-1.914875669611312,-1.8915251805768154,-1.8681746915423183,-1.8448242025078216,-1.8214737134733245,-1.7981232244388279,-1.7747727354043308,-1.7514222463698337,-1.728071757335337,-1.70472126830084,-1.6813707792663437,-1.6580202902318466,-1.63466980119735,-1.6113193121628528,-1.5879688231283557,-1.564618334093859,-1.541267845059362,-1.5179173560248653,-1.4945668669903682,-1.4712163779558716,-1.447865888921375,-1.4245153998868778,-1.4011649108523812,-1.377814421817884,-1.3544639327833874,-1.3311134437488903,-1.3077629547143936,-1.2844124656798965,-1.2610619766453994,-1.2377114876109032,-1.2143609985764061,-1.1910105095419095,-1.1676600205074124,-1.1443095314729153,-1.1209590424384186,-1.0976085534039215,-1.0742580643694248,-1.0509075753349277,-1.027557086300431,-1.0042065972659344,-0.9808561082314373,-0.9575056191969407,-0.9341551301624436,-0.9108046411279469,-0.8874541520934498,-0.8641036630589531,-0.840753174024456,-0.8174026849899589,-0.7940521959554627,-0.7707017069209656,-0.747351217886469,-0.7240007288519719,-0.7006502398174748,-0.6772997507829781,-0.653949261748481,-0.6305987727139843,-0.6072482836794872,-0.583897794644991,-0.5605473056104939,-0.5371968165759968,-0.5138463275415002,-0.49049583850700307,-0.4671453494725064,-0.4437948604380093,-0.42044437140351265,-0.39709388236901555,-0.37374339333451845,-0.35039290430002223,-0.32704241526552513,-0.3036919262310285,-0.2803414371965314,-0.2569909481620347,-0.23364045912753761,-0.2102899700930405,-0.18693948105854385,-0.16358899202404675,-0.14023850298955054,-0.11688801395505344,-0.09353752492055634,-0.07018703588605968,-0.04683654685156258,-0.02348605781706592,-0.00013556878256881788,0.023214920251927396,0.0465654092864245,0.0699158983209216,0.0932663873554187,0.1166168763899158,0.13996736542441202,0.16331785445890912,0.18666834349340622,0.21001883252790243,0.23336932156239953,0.25671981059689664,0.28007029963139374,0.30342078866588995,0.32677127770038705,0.35012176673488415,0.37347225576938126,0.39682274480387747,0.42017323383837457,0.4435237228728717,0.4668742119073679,0.4902247009418659,0.5135751899763621,0.5369256790108592,0.5602761680453554,0.5836266570798534,0.6069771461143496,0.6303276351488458,0.6536781241833438,0.67702861321784,0.7003791022523371,0.7237295912868333,0.7470800803213313,0.7704305693558275,0.7937810583903246,0.8171315474248217,0.8404820364593188,0.8638325254938151,0.8871830145283113,0.9105335035628093,0.9338839925973055,0.9572344816318026,0.9805849706662997,1.0039354597007968,1.027285948735293,1.05063643776979,1.0739869268042872,1.0973374158387834,1.1206879048732805,1.1440383939077776,1.1673888829422747,1.190739371976771,1.214089861011268,1.2374403500457651,1.2607908390802622,1.2841413281147585,1.3074918171492556,1.3308423061837527,1.3541927952182489,1.377543284252746,1.400893773287243,1.4242442623217402,1.4475947513562364,1.4709452403907344,1.4942957294252306,1.5176462184597268,1.5409967074942248,1.564347196528721,1.587697685563218,1.6110481745977143,1.6343986636322123,1.6577491526667085,1.6810996417012056,1.7044501307357027,1.7278006197701998,1.751151108804696,1.7745015978391923,1.7978520868736902,1.8212025759081865,1.8445530649426836,1.8679035539771807,1.8912540430116778,1.914604532046174,1.937955021080671,1.9613055101151682,1.9846559991496644,2.0080064881841615,2.0313569772186586,2.0547074662531557,2.078057955287652,2.101408444322149,2.124758933356646,2.148109422391143,2.1714599114256394,2.1948104004601365,2.2181608894946336,2.24151137852913,2.264861867563627,2.288212356598124,2.311562845632621,2.3349133346671174,2.3582638237016154,2.3816143127361116,2.404964801770608,2.428315290805105,2.451665779839602,2.475016268874099,2.4983667579085953,2.5217172469430933,2.5450677359775895,2.5684182250120866,2.5917687140465837,2.61511920308108,2.638469692115577,2.6618201811500732,2.6851706701845712,2.7085211592190674,2.7318716482535645,2.7552221372880616,2.7785726263225587,2.801923115357055,2.825273604391551,2.848624093426049,2.8719745824605454,2.8953250714950425,2.9186755605295396,2.9420260495640367,2.965376538598533,2.98872702763303,3.012077516667527,3.035428005702024,3.0587784947365204,3.0821289837710175,3.1054794728055146,3.128829961840011,3.152180450874508,3.175530939909005,3.198881428943502,3.2222319179779984,3.2455824070124963,3.2689328960469926,3.2922833850814888,3.315633874115986,3.338984363150483,3.36233485218498,3.3856853412194763,3.4090358302539743,3.4323863192884705,3.4557368083229676,3.479087297357464,3.502437786391961,3.525788275426458,3.549138764460954,3.572489253495452,3.5958397425299484,3.6191902315644455,3.6425407205989426,3.6658912096334397,3.689241698667936,3.712592187702432,3.73594267673693,3.7592931657714264,3.7826436548059235,3.8059941438404206,3.8293446328749177,3.852695121909414,3.876045610943911,3.899396099978408,3.922746589012905,3.9460970780474014,3.9694475670818985,3.9927980561163956,4.016148545150893,4.039499034185388,4.062849523219887,4.086200012254382,4.109550501288879,4.132900990323376,4.1562514793578735,4.179601968392371,4.202952457426866,4.226302946461365,4.249653435495862,4.273003924530357,4.296354413564854,4.3197049025993515,4.343055391633849,4.366405880668346,4.389756369702841,4.413106858737338,4.436457347771837,4.459807836806332,4.483158325840829,4.5065088148753265,4.529859303909824,4.553209792944321,4.576560281978818,4.599910771013313,4.62326126004781,4.646611749082307,4.669962238116804,4.6933127271513015,4.716663216185797,4.740013705220296,4.763364194254793,4.786714683289288,4.810065172323785,4.833415661358282,4.8567661503927795,4.880116639427277,4.903467128461774,4.926817617496269,4.950168106530768,4.973518595565265,4.99686908459976,5.020219573634257,5.043570062668753,5.066920551703252,5.090271040737749,5.113621529772244,5.136972018806741,5.16032250784124,5.183672996875735,5.2070234859102325,5.2303739749447296,5.253724463979225,5.277074953013724,5.300425442048221,5.323775931082716,5.347126420117213,5.37047690915171,5.3938273981862075,5.417177887220705,5.4405283762552,5.463878865289699,5.487229354324196,5.510579843358691,5.533930332393188,5.557280821427685,5.5806313104621825,5.60398179949668,5.627332288531177,5.650682777565672,5.674033266600171,5.697383755634666,5.720734244669163,5.7440847337036605,5.767435222738156,5.790785711772655,5.814136200807152,5.837486689841647,5.860837178876144,5.884187667910643,5.907538156945138,5.9308886459796355,5.954239135014133,5.977589624048628,6.000940113083127,6.024290602117624,6.047641091152119,6.070991580186616,6.094342069221113,6.1176925582556105,6.141043047290108,6.164393536324603,6.1877440253591,6.211094514393599,6.234445003428094,6.257795492462591,6.2811459814970885,6.304496470531586,6.327846959566083,6.35119744860058,6.374547937635075,6.397898426669572,6.421248915704069,6.444599404738566,6.4679498937730635,6.491300382807559,6.514650871842058,6.538001360876555,6.56135184991105,6.584702338945547,6.608052827980044,6.631403317014541,6.6547538060490385,6.678104295083536,6.701454784118031,6.72480527315253,6.748155762187025,6.771506251221522,6.794856740256019,6.818207229290515,6.841557718325014,6.864908207359511,6.888258696394006,6.911609185428503,6.934959674463002,6.958310163497497,6.981660652531994,7.0050111415664915,7.028361630600987,7.051712119635486,7.075062608669983,7.098413097704478,7.121763586738975,7.145114075773472,7.1684645648079695,7.1918150538424666,7.215165542876962,7.238516031911459,7.261866520945958,7.285217009980453,7.30856749901495,7.331917988049447,7.3552684770839445,7.378618966118442,7.401969455152939,7.425319944187434,7.448670433221933,7.472020922256428,7.495371411290925,7.518721900325422,7.542072389359918,7.565422878394417,7.588773367428914,7.612123856463409,7.635474345497906,7.658824834532405],\"xaxis\":\"x\",\"y\":[0.00843784074155664,0.008769082774307114,0.00909956094837992,0.009428622228241075,0.009755662845965032,0.010080138863451044,0.010401576693462165,0.010719583437334836,0.01103385688926835,0.011344195051589415,0.01165050500272021,0.011952810960132757,0.012251261384649737,0.012546134980260058,0.012837845455257846,0.013126944925957257,0.013414125863322201,0.013700221505273813,0.013986204682753866,0.014273185035245677,0.01456240462068076,0.014855231954678782,0.01515315454399105,0.015457770007905644,0.015770775908272038,0.01609395843278505,0.016429180096365164,0.016778366641117506,0.017143493325818663,0.017526570800713872,0.017929630762351288,0.0183547115762034,0.018803844042130737,0.019279037459768944,0.01978226612834207,0.020315456389111364,0.020880474289734965,0.021479113919472298,0.02211308643375049,0.022784009757513865,0.02349339893038668,0.02424265703432197,0.02503306662729056,0.025865781595702193,0.026741819334438775,0.027662053167117794,0.028627204930688648,0.029637837667536557,0.030694348394429024,0.0317969609500289,0.03294571896013336,0.03414047900079376,0.035380904082300116,0.03666645761974717,0.03799639809650595,0.039369774663326834,0.04078542394597163,0.04224196835632187,0.04373781621417096,0.04527116398800759,0.04684000095204248,0.048442116532954556,0.05007511058324462,0.05173640676909545,0.05342326920015295,0.05513282235808788,0.056862074302009354,0.058607943044070444,0.060367285900504025,0.06213693153470637,0.06391371432280767,0.06569451059144359,0.06747627620509013,0.0692560849190649,0.07103116686655297,0.07279894651579084,0.07455707941836485,0.07630348707240767,0.07803638924567348,0.07975433314276557,0.08145621885727845,0.08314132062181176,0.08480930345464267,0.08646023489879043,0.08809459165431924,0.08971326101480617,0.09131753713054869,0.0929091122308738,0.09449006304248643,0.09606283273700464,0.09763020882583823,0.09919529749195893,0.10076149490396073,0.10233245609676263,0.10391206202460893,0.10550438539554423,0.10711365588275458,0.10874422527813783,0.1104005331087931,0.1120870731798357,0.11380836143948561,0.1155689054874235,0.11737317596782237,0.11922558000714618,0.12113043677662451,0.12309195518295853,0.12511421362073868,0.12720114165839302,0.1293565034779484,0.13158388284879244,0.1338866693877762,0.13626804584276186,0.138730976133985,0.1412781938967971,0.14391219128955712,0.1466352078603318,0.1494492193040864,0.15235592598640482,0.1553567411585534,0.15845277883990985,0.16164484139543386,0.16493340688606564,0.1683186163169288,0.1718002609503834,0.17537776988700154,0.17905019814625897,0.18281621549937974,0.18667409631874016,0.19062171071129957,0.19465651719767904,0.19877555718403475,0.20297545145127838,0.2072523988562027,0.21160217740261378,0.2160201477986992,0.22050125957075076,0.22504005975436858,0.2296307041336576,0.23426697094815682,0.23894227693766787,0.24364969554817806,0.24838197707900433,0.253131570513421,0.25789064674352,0.26265112287593007,0.26740468728921535,0.2721428251069828,0.27685684375350395,0.281537898271286,0.28617701610259005,0.2907651210691721,0.29529305632601194,0.2997516061147625,0.30413151619996626,0.3084235129343955,0.31261832096757197,0.31670667968163113,0.3206793585092071,0.3245271713565331,0.3282409904192408,0.33181175973581634,0.3352305088720866,0.3384883671671532,0.3415765789948005,0.3444865205028989,0.3472097182852774,0.34973787041509874,0.35206287022554517,0.35417683316279347,0.3560721269586787,0.3577414052774936,0.3591776448851023,0.3603741862715964,0.3613247775341311,0.3620236211979944,0.3624654235251616,0.3626454457347411,0.3625595564428897,0.36220428452511055,0.3615768715151245,0.3606753225852827,0.35949845510667044,0.3580459437650017,0.3563183612127556,0.35431721326951215,0.3520449677410585,0.3495050760125917,0.346701986680427,0.3436411506173562,0.3403290170158216,0.3367730201163062,0.3329815565012801,0.3289639530127522,0.3247304255289408,0.3202920290076181,0.3156605993655025,0.3108486879100023,0.30586948916770224,0.30073676305969643,0.29546475245474024,0.2900680971852595,0.28456174563777453,0.27896086502831974,0.27328075144589115,0.26753674069476585,0.2617441208923531,0.25591804768634874,0.2500734628473231,0.24422501687469172,0.23838699612985514,0.23257325488465674,0.22679715255066288,0.2210714962392365,0.21540848869767984,0.2098196815759718,0.2043159339042825,0.1989073756051928,0.19360337582724862,0.1884125158681915,0.18334256645613678,0.17840046917362706,0.17359232184060297,0.16892336771514863,0.1643979884220987,0.1600197005756794,0.15579115611955538,0.15171414646224524,0.14778961053422845,0.14401764693195315,0.14039753034046035,0.13692773243820816,0.1336059474831958,0.13042912275773078,0.1273934940099259,0.12449462597379683,0.12172745797795942,0.11908635456732528,0.11656516096549846,0.114157263100817,0.11185565180969308,0.10965299072082232,0.10754168721682864,0.10551396576986584,0.10356194285828767,0.10167770259617247,0.09985337214918895,0.09808119597153254,0.09635360788127337,0.09466329999665173,0.09300328758408574,0.09136696891968824,0.08974817933895825,0.08814123874236715,0.0865409919355517,0.08494284130895453,0.08334277149977103,0.08173736582539248,0.08012381442838648,0.07849991422453008,0.07686406089363865,0.07521523329420111,0.07355297081366184,0.07187734428346904,0.07018892118906035,0.06848872598761387,0.06677819640902974,0.06505913665721243,0.06333366844885244,0.06160418082574069,0.059873279654901974,0.05814373768977425,0.05641844600700904,0.05470036755935279,0.05299249349794134,0.051297802819900644,0.04961922579224699,0.047959611493640884,0.04632169970448649,0.04470809726599528,0.04312125892280111,0.04156347256394637,0.04003684868568774,0.038543313818412535,0.03708460759045466,0.035662283044833466,0.034277709781592405,0.03293207946879106,0.031626413249242334,0.03036157056736658,0.029138258950341996,0.027957044299038246,0.026818361275807494,0.02572252341661965,0.02466973264270339,0.023660087900113085,0.022693592712767992,0.02177016149379339,0.0208896245197473,0.02005173153096376,0.019256153977301477,0.01850248598073121,0.017790244133270513,0.017118866289816282,0.016487709549667082,0.015896047647416867,0.015343067993093606,0.014827868612775885,0.014349455244507824,0.013906738840395316,0.013498533714725123,0.013123556560367493,0.01278042653230218,0.012467666568649049,0.012183706086973561,0.011926885157812525,0.011695460219303322,0.011487611357478486,0.011301451137176824,0.01113503492955278,0.010986372644716474,0.010853441742916768,0.010734201365611163,0.010626607399380154,0.010528628261462902,0.01043826117613307,0.0103535486964998,0.010272595216799895,0.010193583215921863,0.010114788973740936,0.010034597507717515,0.009951516487894212,0.009864188903609947,0.009771404274548062,0.009672108221700337,0.009565410239956815,0.00945058954277883,0.009327098880205269,0.009194566263687753,0.009052794564350328,0.00890175898462776,0.008741602436274242,0.008572628889893177,0.008395294791895566,0.00821019867366467,0.008018069104251003,0.00781975116175906,0.007616191619387383,0.0074084230595757835,0.007197547143693677,0.006984717275020795,0.006771120899347603,0.006557961690329547,0.0063464418658034935,0.006137744876703784,0.005933018702138456,0.005733359972789811,0.005539799130312521,0.005353286813081398,0.005174681638783139,0.005004739532272967,0.004844104723168623,0.004693302512191475,0.004552733878656142,0.004422671974138517,0.004303260519600889,0.004194514095508095,0.004096320287117068,0.0040084436205414095,0.003930531199756398,0.0038621199307769956,0.003802645197157859,0.0037514508310546907,0.0037078002066529463,0.0036708882680857335,0.0036398542922669555,0.0036137951785594814,0.003591779052036318,0.003572858965382972,0.0035560864862821348,0.003540524962411167,0.0035252622648992518,0.0035094228231010464,0.0034921787786486897,0.0034727601046816016,0.0034504635565992237,0.0034246603432550775,0.003394802431779262,0.0033604274247079845,0.0033211619743062754,0.0032767237253685964,0.003226921803835784,0.003171655893747975,0.0031109139688500344,0.003044768767101558,0.0029733731159839473,0.002896954233467042,0.002815807143486926,0.0027302873555624368,0.002640802965586566,0.002547806338803087,0.00245178553653618,0.002353255645482996,0.0022527501624869193,0.00215081257893777,0.0020479882976114213,0.0019448170012368736,0.0018418255767768843,0.0017395216827677115,0.001638388029542072,0.001538877424211008,0.0014414086143508629,0.0013463629468515902,0.0012540818417169325,0.0011648650651085288,0.001078969771884233,0.0009966102755306,0.000917958492903192,0.0008431450026806328,0.0007722606499595166,0.0007053586249638065,0.0006424569413547171,0.0005835412389982696,0.0005285678371311222,0.00047746696647806616,0.00043014611280989723,0.0003864934094629706,0.00034638102223586033,0.00030966847659640473,0.00027620588404068285,0.00024583703152102266,0.00021840230489544412,0.00019374142415940588,0.00017169597463773264,0.00015211172420223328,0.00013484072182749098,0.00011974317731949053,0.00010668912579282609,9.555988340180037e-05,8.624930294333709e-05,7.866483926309384e-05,7.272843494886066e-05,6.837723664440485e-05,6.55641515356062e-05,6.425825223578123e-05,6.444503652654409e-05,6.612654630111842e-05,6.932134772185359e-05,7.406437216005359e-05,8.040661505322581e-05,8.841468751129212e-05,9.817021344539156e-05,0.0001097690632920415,0.00012332041416602196,0.0001389456255921315,0.00015677691992214732,0.00017695585720752557,0.00019963159572266816,0.00022495893155088174,0.0002530961136669979,0.0002842024347652911,0.0003184356026517554,0.00035594890228329005,0.0003968881644020831,0.00044138856306542325,0.0004895712710653136,0.0005415400091016638,0.0005973775314284342,0.0006571420973259377,0.0007208639839448726,0.0007885421015892741,0.0008601407771270033,0.0009355867747128339,0.0010147666251705356,0.0010975243360160445,0.0011836595530535896,0.0012729262416175475,0.0013650319507832497,0.0014596377172021394,0.0015563586566541773,0.0016547652810371934,0.0017543855664720295,0.0018547077846971251,0.001955184095215816,0.0020552348800576318,0.002154253786878441,0.002251613429849324,0.002346671681792861,0.002438778475752533,0.0025272830200656067,0.0026115413184752793,0.0026909238762621,0.002764823465154981,0.0028326628142014317,0.002893902091072257,0.0029480460386115126,0.002994650634896723,0.0030333291516399666,0.003063757495340091,0.0030856787280031947,0.003098906679212897],\"yaxis\":\"y\"},{\"legendgroup\":\"Lasso\",\"marker\":{\"color\":\"rgb(255, 127, 14)\"},\"mode\":\"lines\",\"name\":\"Lasso\",\"showlegend\":false,\"type\":\"scatter\",\"x\":[-4.424263598198707,-4.404237122887267,-4.384210647575827,-4.364184172264387,-4.344157696952946,-4.324131221641506,-4.304104746330066,-4.284078271018625,-4.264051795707186,-4.244025320395745,-4.223998845084306,-4.203972369772865,-4.1839458944614245,-4.163919419149985,-4.143892943838544,-4.123866468527104,-4.103839993215664,-4.083813517904224,-4.063787042592783,-4.0437605672813435,-4.023734091969903,-4.003707616658462,-3.983681141347023,-3.9636546660355823,-3.943628190724142,-3.923601715412702,-3.9035752401012616,-3.8835487647898215,-3.8635222894783814,-3.843495814166941,-3.8234693388555008,-3.8034428635440607,-3.78341638823262,-3.76338991292118,-3.74336343760974,-3.7233369622983,-3.70331048698686,-3.6832840116754193,-3.663257536363979,-3.643231061052539,-3.6232045857410986,-3.6031781104296585,-3.5831516351182184,-3.563125159806778,-3.543098684495338,-3.5230722091838977,-3.503045733872457,-3.483019258561017,-3.462992783249577,-3.4429663079381365,-3.4229398326266964,-3.4029133573152563,-3.382886882003816,-3.3628604066923757,-3.3428339313809357,-3.322807456069495,-3.3027809807580555,-3.282754505446615,-3.2627280301351744,-3.242701554823735,-3.2226750795122943,-3.202648604200854,-3.182622128889414,-3.1625956535779736,-3.1425691782665335,-3.1225427029550934,-3.102516227643653,-3.082489752332213,-3.0624632770207727,-3.042436801709332,-3.0224103263978925,-3.002383851086452,-2.982357375775012,-2.962330900463572,-2.9423044251521313,-2.9222779498406912,-2.902251474529251,-2.8822249992178106,-2.8621985239063705,-2.8421720485949304,-2.82214557328349,-2.80211909797205,-2.7820926226606097,-2.762066147349169,-2.742039672037729,-2.722013196726289,-2.7019867214148485,-2.6819602461034084,-2.6619337707919684,-2.641907295480528,-2.621880820169088,-2.6018543448576477,-2.581827869546207,-2.5618013942347675,-2.541774918923327,-2.521748443611887,-2.501721968300447,-2.4816954929890063,-2.461669017677566,-2.441642542366126,-2.4216160670546856,-2.4015895917432455,-2.3815631164318054,-2.361536641120365,-2.341510165808925,-2.3214836904974847,-2.301457215186044,-2.281430739874604,-2.261404264563164,-2.2413777892517235,-2.2213513139402834,-2.2013248386288433,-2.1812983633174032,-2.1612718880059627,-2.1412454126945226,-2.1212189373830825,-2.101192462071642,-2.081165986760202,-2.061139511448762,-2.0411130361373218,-2.0210865608258812,-2.001060085514441,-1.981033610203001,-1.961007134891561,-1.9409806595801204,-1.9209541842686804,-1.9009277089572403,-1.8809012336457998,-1.8608747583343597,-1.8408482830229196,-1.8208218077114795,-1.800795332400039,-1.7807688570885989,-1.7607423817771588,-1.7407159064657183,-1.7206894311542782,-1.700662955842838,-1.680636480531398,-1.6606100052199575,-1.6405835299085174,-1.6205570545970773,-1.6005305792856368,-1.5805041039741967,-1.5604776286627566,-1.5404511533513165,-1.520424678039876,-1.500398202728436,-1.4803717274169959,-1.4603452521055558,-1.4403187767941152,-1.4202923014826752,-1.400265826171235,-1.3802393508597945,-1.3602128755483545,-1.3401864002369144,-1.3201599249254743,-1.3001334496140338,-1.2801069743025937,-1.2600804989911536,-1.240054023679713,-1.220027548368273,-1.2000010730568325,-1.1799745977453924,-1.1599481224339518,-1.1399216471225118,-1.1198951718110717,-1.0998686964996311,-1.079842221188191,-1.059815745876751,-1.039789270565311,-1.0197627952538704,-0.9997363199424303,-0.9797098446309902,-0.9596833693195497,-0.9396568940081096,-0.9196304186966695,-0.8996039433852294,-0.8795774680737889,-0.8595509927623488,-0.8395245174509087,-0.8194980421394686,-0.7994715668280281,-0.779445091516588,-0.759418616205148,-0.7393921408937074,-0.7193656655822673,-0.6993391902708272,-0.6793127149593872,-0.6592862396479466,-0.6392597643365066,-0.6192332890250665,-0.5992068137136259,-0.5791803384021859,-0.5591538630907458,-0.5391273877793057,-0.5191009124678652,-0.4990744371564251,-0.479047961844985,-0.45902148653354446,-0.4389950112221044,-0.41896853591066385,-0.3989420605992242,-0.3789155852877837,-0.35888910997634405,-0.3388626346649035,-0.318836159353463,-0.29880968404202246,-0.2787832087305828,-0.2587567334191423,-0.23873025810770265,-0.21870378279626213,-0.1986773074848216,-0.17865083217338107,-0.15862435686194143,-0.1385978815505009,-0.11857140623906126,-0.09854493092762073,-0.0785184556161811,-0.05849198030473968,-0.03846550499330004,-0.01843902968185951,0.001587445629580131,0.02161392094102066,0.0416403962524603,0.06166687156390083,0.08169334687534135,0.10171982218678188,0.12174629749822152,0.14177277280966205,0.1617992481211017,0.18182572343254222,0.20185219874398186,0.22187867405542328,0.24190514936686291,0.26193162467830344,0.2819580999897431,0.3019845753011836,0.32201105061262325,0.3420375259240638,0.3620640012355034,0.38209047654694483,0.4021169518583845,0.422143427169825,0.44216990248126464,0.46219637779270517,0.4822228531041448,0.5022493284155853,0.5222758037270259,0.5423022790384664,0.562328754349906,0.5823552296613466,0.6023817049727862,0.6224081802842267,0.6424346555956664,0.6624611309071078,0.6824876062185474,0.702514081529988,0.7225405568414285,0.7425670321528681,0.7625935074643087,0.7826199827757483,0.8026464580871897,0.8226729333986293,0.8426994087100699,0.8627258840215095,0.88275235933295,0.9027788346443897,0.9228053099558302,0.9428317852672707,0.9628582605787113,0.9828847358901509,1.0029112112015914,1.022937686513031,1.0429641618244716,1.0629906371359112,1.0830171124473527,1.1030435877587923,1.1230700630702328,1.1430965383816725,1.163123013693113,1.1831494890045526,1.2031759643159932,1.2232024396274337,1.2432289149388742,1.2632553902503139,1.2832818655617544,1.303308340873194,1.3233348161846346,1.3433612914960742,1.3633877668075156,1.3834142421189553,1.4034407174303958,1.4234671927418354,1.443493668053276,1.4635201433647156,1.4835466186761561,1.5035730939875958,1.5235995692990372,1.5436260446104768,1.5636525199219173,1.583678995233357,1.6037054705447975,1.6237319458562371,1.6437584211676777,1.6637848964791182,1.6838113717905587,1.7038378471019984,1.723864322413439,1.7438907977248785,1.763917273036319,1.7839437483477587,1.8039702236592001,1.8239966989706398,1.8440231742820803,1.86404964959352,1.8840761249049605,1.9041026002164,1.9241290755278406,1.9441555508392812,1.9641820261507217,1.9842085014621613,2.004234976773602,2.0242614520850424,2.044287927396482,2.0643144027079225,2.084340878019363,2.1043673533308036,2.1243938286422432,2.1444203039536838,2.1644467792651234,2.184473254576564,2.2044997298880036,2.224526205199445,2.2445526805108846,2.264579155822325,2.284605631133765,2.3046321064452053,2.324658581756645,2.3446850570680855,2.364711532379526,2.3847380076909666,2.404764483002406,2.4247909583138467,2.4448174336252864,2.464843908936727,2.4848703842481665,2.504896859559608,2.5249233348710476,2.544949810182488,2.5649762854939278,2.5850027608053683,2.605029236116808,2.6250557114282485,2.645082186739688,2.6651086620511295,2.685135137362569,2.7051616126740097,2.7251880879854493,2.74521456329689,2.7652410386083295,2.78526751391977,2.8052939892312105,2.825320464542651,2.8453469398540907,2.8653734151655312,2.885399890476971,2.9054263657884114,2.925452841099851,2.9454793164112925,2.965505791722732,2.9855322670341726,3.0055587423456123,3.025585217657053,3.0456116929684924,3.065638168279933,3.0856646435913735,3.105691118902814,3.1257175942142537,3.145744069525694,3.165770544837134,3.1857970201485744,3.205823495460014,3.2258499707714554,3.245876446082895,3.2659029213943356,3.285929396705776,3.3059558720172157,3.3259823473286563,3.346008822640096,3.3660352979515373,3.386061773262977,3.4060882485744175,3.426114723885857,3.4461411991972977,3.4661676745087373,3.486194149820178,3.5062206251316184,3.526247100443059,3.5462735757544985,3.566300051065939,3.5863265263773796,3.6063530016888192,3.626379477000259,3.6464059523117003,3.66643242762314,3.6864589029345796,3.706485378246019,3.7265118535574606,3.7465383288689003,3.7665648041803417,3.7865912794917813,3.806617754803221,3.8266442301146624,3.8466707054261002,3.8666971807375417,3.886723656048983,3.9067501313604227,3.9267766066718623,3.946803081983302,3.9668295572947434,3.986856032606183,4.006882507917623,4.026908983229064,4.046935458540504,4.066961933851945,4.086988409163383,4.107014884474824,4.127041359786264,4.1470678350977055,4.167094310409145,4.187120785720585,4.207147261032026,4.227173736343466,4.2472002116549055,4.267226686966345,4.2872531622777865,4.307279637589228,4.327306112900666,4.347332588212107,4.367359063523547,4.387385538834988,4.407412014146426,4.4274384894578676,4.447464964769309,4.467491440080749,4.487517915392188,4.507544390703628,4.527570866015069,4.547597341326509,4.56762381663795,4.58765029194939,4.60767676726083,4.627703242572271,4.647729717883711,4.66775619319515,4.68778266850659,4.707809143818031,4.727835619129473,4.747862094440911,4.767888569752352,4.787915045063792,4.807941520375233,4.827967995686671,4.847994470998112,4.868020946309554,4.8880474216209935,4.908073896932433,4.928100372243873,4.948126847555314,4.968153322866754,4.9881797981781935,5.008206273489635,5.0282327488010745,5.048259224112516,5.068285699423954,5.088312174735395,5.108338650046835,5.128365125358276,5.148391600669714,5.1684180759811555,5.188444551292597,5.208471026604037,5.228497501915476,5.248523977226916,5.268550452538357,5.288576927849799,5.308603403161237,5.328629878472678,5.348656353784118,5.368682829095559,5.388709304406997,5.408735779718438,5.428762255029878,5.448788730341319,5.468815205652759,5.488841680964199,5.50886815627564,5.52889463158708,5.548921106898519,5.568947582209959],\"xaxis\":\"x\",\"y\":[0.00823115946786868,0.008170648324910325,0.007991770915025656,0.007702301941591483,0.007314574341882736,0.0068446080257981885,0.006311013533057743,0.00573377499114613,0.0051330227130815574,0.004527899003786089,0.003935602989373084,0.0033706746719643463,0.002844548866228237,0.002365380245099599,0.0019381149753480726,0.0015647649675472391,0.001244828999079642,0.0009758010582115619,0.0007537093066617579,0.0005736374233151166,0.0004301917526689474,0.0003178906023459808,0.00023146445284084305,0.00016606645825431368,0.00011740066272980212,8.178057860886275e-05,5.6133331032817944e-05,3.796491708240602e-05,2.530084942943482e-05,1.6614173970755835e-05,1.075012244060213e-05,6.853920664790282e-06,4.305818711933545e-06,2.6654062622089723e-06,1.6257811806413033e-06,9.771287139295966e-07,5.786719943928232e-07,3.3767908229910813e-07,1.9416317205252415e-07,1.1000706134551981e-07,6.141370147774226e-08,3.3783215940037454e-08,1.831165974888237e-08,9.780148211360318e-09,5.146999994627704e-09,2.669032761552876e-09,1.3637810352516873e-09,6.866357232408018e-10,3.4064274843645677e-10,1.6651866146834455e-10,8.020800291764391e-11,3.806831334360265e-11,1.780333449970706e-11,8.204168290369477e-12,3.7255005186475414e-12,1.6675337536487163e-12,7.369065385696574e-13,3.245127277441187e-13,1.4975396858386063e-13,8.953041896211411e-14,1.0035392135932206e-13,1.9009627620971556e-13,4.231416105499022e-13,9.619267545535162e-13,2.1685598225675798e-12,4.82255545733304e-12,1.0569595789683671e-11,2.2826807082203586e-11,4.8576419815247145e-11,1.0185850183017493e-10,2.104554354867133e-10,4.284636944418069e-10,8.595257998140329e-10,1.6990056058618987e-09,3.309190065718917e-09,6.350963507456585e-09,1.2010152668497295e-08,2.237940027427799e-08,4.109030505181367e-08,7.43397835308023e-08,1.3252390490140727e-07,2.3278669878406126e-07,4.0291469222938227e-07,6.871618688512934e-07,1.1547713633210201e-06,1.9121588333893003e-06,3.1199161919971885e-06,5.015946519046183e-06,7.94609717607452e-06,1.2403545720595035e-05,1.907782396212256e-05,2.89136438794779e-05,4.317852708767307e-05,6.353657861088274e-05,9.212358521948786e-05,0.0001316160470653677,0.00018528397542693137,0.00025701465219419884,0.0003512925265394969,0.0004731196041062133,0.0006278616864718494,0.0008210092043557596,0.0010578475270764044,0.0013430405629812545,0.0016801427773684347,0.002071067503894149,0.002515552148208898,0.0030106717019411154,0.0035504588342480173,0.0041256897675240245,0.004723888733130773,0.005329589462423044,0.0059248704536337665,0.006490153472375711,0.007005224850748189,0.007450410430422692,0.007807811531316299,0.008062494855446823,0.008203526489736889,0.008224750348681819,0.00812523385327578,0.00790933589363651,0.007586390175100883,0.007170035996267268,0.006677263305991602,0.0061272651418496265,0.0055402052001224935,0.0049360100213991145,0.0043332846682743,0.0037484300695749956,0.0031950128653731643,0.0026834086465969266,0.0022207108983889126,0.0018108740230191453,0.0014550417686129522,0.001152003214824828,0.0008987169592811285,0.0006908491318454229,0.000523280529682175,0.00039055045262249166,0.00028721775181873307,0.00020813155861193524,0.00014861400531932618,0.00010456439301926248,7.249859858680166e-05,4.9539316902291505e-05,3.3372517363462914e-05,2.2183874821411995e-05,1.458652482761887e-05,9.548816604953468e-06,6.328190291072736e-06,4.415142273501759e-06,3.4895872824059264e-06,3.390793861081311e-06,4.101396258598928e-06,5.745652225762633e-06,8.601972242636084e-06,1.3129626043434736e-05,2.0009270541290895e-05,3.019638541436763e-05,4.498572319387969e-05,6.608340331274424e-05,9.568130233723051e-05,0.00013652601573139447,0.00019197211683101003,0.00026600708308920947,0.00036323359780903553,0.0004887945633179644,0.0006482276987153855,0.0008472405788835568,0.0010914037230422596,0.0013857688288836966,0.001734430971868303,0.0021400665226966936,0.0026034911627214265,0.003123292841215094,0.0036956008984723302,0.004314053264410879,0.004970017765994424,0.005653111425525935,0.006352044949927838,0.007055801700781849,0.007755145979726692,0.008444450030852639,0.009123838382550093,0.009801676629453568,0.010497481792107629,0.01124540165934488,0.012098494832096886,0.013134129565760402,0.01446088972135605,0.01622740599316457,0.018633491239181173,0.02194381933503356,0.02650411882812333,0.03275943521914671,0.041273443914590514,0.052747088586981294,0.06803402740535339,0.08814958026621213,0.11426920994044082,0.14771219709504013,0.18990625804183836,0.24232957041056308,0.30642813836734806,0.3835086866242223,0.47461024454639483,0.5803610479545016,0.7008309775730585,0.8353929735015546,0.9826091451520723,1.1401580750861264,1.3048186422938026,1.4725223286506595,1.6384804838781615,1.7973858170076162,1.9436791987209594,2.0718647020581025,2.1768488087453317,2.254274947363445,2.3008228575054943,2.314444146498716,2.2945107794980992,2.2418615567585682,2.158741868933239,2.048642866218652,1.916056218445718,1.7661685971564536,1.6045249212359387,1.4366907854337667,1.2679423685197784,1.1030070137099752,0.9458704795090835,0.7996586709496359,0.6665935964040467,0.5480163219896647,0.4444645084737246,0.3557890702755447,0.2812936082995631,0.21988126610068484,0.1701960720547076,0.13074909422772568,0.10002328946365747,0.07655429646740448,0.058987258516791326,0.046111868570323775,0.0368791524265599,0.03040410192662523,0.025958273579599112,0.0229560493669691,0.02093759063474685,0.019550756934326056,0.01853352814946586,0.01769783843253318,0.016915244050636276,0.016104512164357664,0.015221019110100724,0.01424775688028614,0.013187732034405252,0.012057570291441026,0.010882186004255077,0.009690419555918754,0.008511576302053464,0.007372813902066729,0.006297322019035904,0.005303224127770555,0.0044031117485733556,0.0036041028855661804,0.002908303579682031,0.002313547173888828,0.001814290988134274,0.0014025636992058151,0.0010688766395610255,0.0008030356420177124,0.0005948140709724891,0.00043446980076867553,0.0003131073245253345,0.00022289990334948767,0.00015719546037077725,0.00011053416160175393,7.860608396019101e-05,5.817501382575359e-05,4.699021123930149e-05,4.370274674521988e-05,4.7797398618091026e-05,5.954550270133005e-05,7.997881299314615e-05,0.00011087948670250979,0.00015477685240316132,0.00021493780095322787,0.00029533470451198924,0.000400573089282778,0.0005357613302775217,0.0007063068966244641,0.0009176285647563891,0.0011747817226912837,0.0014820042362757764,0.0018422026862309243,0.0022564119360614005,0.002723273296712737,0.0032385860293095434,0.0037949915254478625,0.004381847462552136,0.004985339446533832,0.005588860015265551,0.006173660481238538,0.00671975227210473,0.007207004553069957,0.007616357973263963,0.007931054386474894,0.00813777273651732,0.00822756409609673,0.008196494530075288,0.00804593156479481,0.007782445395129959,0.007417335080766001,0.006965827812283262,0.006446031012652864,0.005877738693870049,0.005281202771536086,0.004675976457688809,0.004079921728826205,0.0035084490161932003,0.0029740284389243895,0.0024859821218034227,0.0020505400661076363,0.0016711204578182823,0.0013487808117781043,0.0010827793346722047,0.0008711856309466862,0.0007114848902451576,0.0006011281248056046,0.0005379910357784876,0.0005207141940450509,0.0005489064972265751,0.0006232020072489802,0.00074516752980248,0.0009170652805246785,0.0011414824116690247,0.0014208475948472119,0.0017568644011356845,0.0021499014415843763,0.0025983890609680045,0.003098280227534772,0.003642637262674724,0.004221404405511697,0.004821417577326447,0.005426686620784565,0.006018962392105277,0.0065785732668927266,0.0070854858782532105,0.007520516987262844,0.007866601241791454,0.008110006708904424,0.008241388874763141,0.008256585111143296,0.008157074395389643,0.007950058575009637,0.007648157575348797,0.007268746861359108,0.006832996504878141,0.006364693608613523,0.005888941357140242,0.005430828219667688,0.00501415126374035,0.004660261053711203,0.004387075920197125,0.004208294260204842,0.0041328180258599165,0.0041643904763398,0.004301446843339399,0.004537176538555075,0.00485979753481228,0.005253044696449866,0.005696871449631717,0.0061683564897992245,0.006642793819656488,0.007094926466626198,0.007500264338976596,0.007836408403188284,0.008084290532834581,0.008229234315138275,0.008261748910409133,0.00817798613219629,0.007979818753004932,0.007674532438053468,0.007274160270759549,0.006794522705278525,0.006254062472035348,0.005672580082222066,0.0050699793633312215,0.00446512399176284,0.0038748870862195203,0.0033134497373169466,0.0027918747662614473,0.0023179529989427704,0.0018962943537695575,0.0015286175369672729,0.0012141813722685542,0.0009502978010690359,0.0007328703846532993,0.0005569110241197441,0.0004169995530296601,0.00030766383831274,0.00022367033075827375,0.000160225394320184,0.0001130955061647509,7.86593530788652e-05,5.390715454849129e-05,3.640268850826454e-05,2.4222084833021405e-05,1.588110037972491e-05,1.0259841895402205e-05,6.531181496940143e-06,4.096696995045803e-06,2.532018881621224e-06,1.542023677755109e-06,9.2535025796575e-07,5.471573832673047e-07,3.1879344500387244e-07,1.830195601600269e-07,1.0353248475136886e-07,5.7709428333216873e-08,3.169625212198202e-08,1.7153788795281684e-08,9.147516672687421e-09,4.806593183509465e-09,2.488642583132895e-09,1.2696344421169537e-09,6.382427174493739e-10,3.1614334763840363e-10,1.543025990901058e-10,7.420847218475431e-11,3.516616663980898e-11,1.6420606867345282e-11,7.555334408642041e-12,3.4258028711619993e-12,1.5316719734929583e-12,6.774695641871379e-13,3.0192785133439256e-13,1.487930634888345e-13,1.1019823458263911e-13,1.584408341760119e-13,3.2810944300271344e-13,7.383735290402616e-13,1.6681231812548112e-12,3.725733820984053e-12,8.204259260008837e-12,1.7803369443159343e-11,3.806832656660865e-11,8.020800784702913e-11,1.665186632786709e-10,3.406427490914473e-10,6.86635723474293e-10,1.3637810353336875e-09,2.6690327615812332e-09,5.14699999463766e-09,9.780148211364484e-09,1.8311659748883765e-08,3.3783215940038996e-08,6.141370147774443e-08,1.1000706134552727e-07,1.9416317205252105e-07,3.37679082299119e-07,5.7867199439285e-07,9.77128713929642e-07,1.6257811806413497e-06,2.66540626220901e-06,4.305818711933724e-06,6.853920664790373e-06,1.0750122440602274e-05,1.661417397075668e-05,2.530084942943511e-05,3.796491708240777e-05,5.6133331032817944e-05,8.17805786088645e-05,0.00011740066272980327,0.00016606645825431864,0.0002314644528408408,0.0003178906023459865,0.0004301917526689584,0.000573637423315126,0.000753709306661764,0.0009758010582115619,0.0012448289990796592,0.0015647649675472899,0.0019381149753480726,0.002365380245099625,0.0028445488662282663,0.00337067467196441,0.003935602989373084,0.004527899003786106,0.005133022713081575,0.005733774991146199,0.006311013533057776,0.0068446080257981885,0.007314574341882775,0.007702301941591493,0.007991770915025665,0.00817064832491033],\"yaxis\":\"y\"},{\"legendgroup\":\"Ridge\",\"marker\":{\"color\":\"rgb(31, 119, 180)\",\"symbol\":\"line-ns-open\"},\"mode\":\"markers\",\"name\":\"Ridge\",\"showlegend\":false,\"type\":\"scatter\",\"x\":[-3.9930691936815332,5.037703251895794,-0.8618254501185434,-3.5181435000930463,-0.4246938571400847,2.6812822014661393,-0.3053145831713664,0.22547086629846724,-0.10313995513732155,-0.12233091116114636,0.19802547403675608,-0.12096923597822179,-1.030734996008152,0.16054616663688268,0.18853639551107196,-0.5453464132844121,2.560592894499266,0.5680348391888845,-0.08841057029679247,1.247250531725382,-2.160230765395564,-1.0677409849345836,-0.7364849429178004,-0.2811209899778425,-0.4882475060998853,-0.14255761332358527,0.16910845093607968,-2.052987586031343,-0.22818313515558078,1.6303535359654067,0.8247284958344028,0.6917671103465357,0.6339733263642684,2.7866272842137185,1.6999498733488583,0.21763941698389852,-0.45854149897245966,-1.8837289958894206,1.7836060122605477,-1.7389733928317288,-0.4024316624779892,0.613432524299055,2.0043312211547626,0.9351900064124419,0.6522049111168258,-2.4074597277499716,-0.39265252407867224,-0.005285919488876797,1.3906261964441247,-1.1616037424271257,0.8189254155612922,1.0215379890426228,-2.6372219327165696,0.9361208196448098,-0.04223649969154142,-1.9565464961934262,0.24985779224657678,-2.315030515160203,1.6026187321075083,-2.329852832342274,-0.018319414366763074,1.2373129436137427,-2.1630547161835674,0.38742978467244865,0.49486736636344697,0.4341785024692655,0.39683123102571566,-1.1540100751196558,-1.0653725203822728,-0.4275049160296144,-1.3657494493721576,-0.3684794762000472,-1.3560032393828485,1.9161410482968504,0.4341785024692655,0.5744090048161836,-0.7771061917845639,0.40558274892234625,0.23064206609326598,-1.8974790844938205,0.46121366396004865,1.3590820283499805,-0.11806189831154376,-0.06233611749636697,-0.07435451646727739,-2.8553645595291433,0.38736355872639233,1.0392987593973324,-0.16148829932391284,-0.4898593874157782,-0.9368997009385048,0.15097206177048347,2.1509718272367166,2.381501788404203,0.7298908738782819,0.4611998508368884,-0.5850812205330903,-0.5766478514318314,-0.08427367234492039,-0.7326296025055843,0.7799620757296405,0.1073208498993452,0.5339684840239884,0.33179740827524307,0.9623797379288419,-1.4091362541086414,-1.2291494337634017,0.14425910823935698,0.43317135964248527,0.5838555717902949,0.3158534049891116,-0.34789097747256137,0.6189045066994652,-1.0726914056624646,-0.7417059249629399,-0.12408193154473632,-0.1106003528374035,-0.39265252407867224,-0.548748101865117,1.9467143014387593,0.8742526670257912,-2.098105545298221,0.9757650198916039,-0.6980378887425709,-0.8464642645194891,1.6856988605524745,-0.018319414366763074,-0.10760176154625611,7.6821753235669,0.16796990200656323,0.4482517885923387,-0.19999585750763327,1.794283391955585,1.2266152872656024,0.8071214607482697,1.169760812638812,0.6339733263642684,0.4164937530833034,-0.30428774746226717,-1.6816675765689784,1.0989302571808024,-0.6205092991725927,1.1145049284259914,2.332586517749339,0.21545201326449628,-0.6986593516110036,1.0936996724139623,0.99743157861618,-1.4074303075202999,1.2359178567007958,0.47996983491565337,-1.42624919929158,4.006720858317902,-0.32232830466393925,-1.4404328017368222,-0.1944250093704597,0.3417978238287023,-2.107840844595999,-0.4898593874157782,1.9572274502485496,2.111597152461549,-0.7683885279644291,2.0126422082188515,0.5680348391888845,1.192123079471259,1.8787650269127059,-0.050067932178152086,-1.1465662192600536,0.3000037209450849,1.6319378655427057,0.5095374822855097,-1.5520388924206827,0.26364822358944556,-1.2075031029262089,-2.1400776378361535,0.8045344667770618,-2.0981811705114426,0.15322260147553868,-1.8095174186696852,1.2933493524941184,0.34760805945346207,0.3263719150808022,1.8022382923921476,-0.7846170533600128,-0.04833304101051383,-1.0333405344985274,0.2588721030978307,0.08418350533015095,0.11381657692555586,-0.2784010220920654,-2.9148789948519944,-0.7162228698664246,-1.0989167937250928,-0.3371975377972639,0.5744090048161836,-0.7661721021389365,0.9965650814252086,0.16054616663688268,0.28572421857442953,0.30634306349153606,0.38736355872639233,0.6415168134902156,0.6917671103465357,-0.5604835780015947,0.6486327923858981,0.6145561347053154,0.891565741466179,-0.6494825002619384,0.28539380643842727,-1.5958345515656802,-0.354694601276938,-0.9939621593371002,0.005548225269794926,0.24830801554533466,3.8176466378032363,-1.3797561092144077,0.38177675143901524,0.6194056372609777,1.069901129062247,0.1632872290838228,-1.0166920313011314,0.8394235955605593,-0.10730650303032219,0.12140768004432642,-0.6919093726358961,0.5071910575636052,-0.04472434566115432,-0.3343042673219785,-1.6159508819679933,0.344140052029553,0.6145561347053154,-0.018319414366763074,-0.7623030730024091,-3.3571882637023203,-2.6385357025435545,-3.627411412756622,-0.5383119878973731,1.2766053960081987,-1.5397432817499117,-1.4006379765014878,0.30824874789876444,-0.02310303361719869,0.2710413648330383,-0.4911880484914884,-0.14113324828184104,0.18932121571116875,-0.5967101997755566,-0.22992584158208315,-0.20156557368956518,-0.3398644620897624,-0.06048041883934281,-0.133134915957947,-0.16936953546211495,-0.6564774170442531,1.5843929484364045,-0.3343042673219785,0.891565741466179,0.06343382376951481,1.9826221771151804,2.3970167223708088,0.3736258893235849,0.6405990301821889,-0.4004375585174369,-0.8376852920110974,0.7497945288488004,-1.9895537622618282,0.4734198938575282,2.9866868034965846,0.3517943015214493,1.286677573901931,0.32698211095889707,0.28733045197475127,-0.5196881893484819,2.0994167713564718,2.0994167713564718,-2.001270841854581,-0.9832916621767471,-0.3768322979785109,-1.0166920313011314,-0.8746832953430022,-0.2671839173785464,-0.5967101997755566,-0.1106003528374035,-2.022212202576244,-1.3282205088683383,-0.22915228605734494,-2.6730265939248605,3.5599727064033413,-1.6668494152711992,-1.5409088940631017,0.891565741466179,0.6486327923858981,-2.0060305527461213,1.7836060122605477],\"xaxis\":\"x\",\"y\":[\"Ridge\",\"Ridge\",\"Ridge\",\"Ridge\",\"Ridge\",\"Ridge\",\"Ridge\",\"Ridge\",\"Ridge\",\"Ridge\",\"Ridge\",\"Ridge\",\"Ridge\",\"Ridge\",\"Ridge\",\"Ridge\",\"Ridge\",\"Ridge\",\"Ridge\",\"Ridge\",\"Ridge\",\"Ridge\",\"Ridge\",\"Ridge\",\"Ridge\",\"Ridge\",\"Ridge\",\"Ridge\",\"Ridge\",\"Ridge\",\"Ridge\",\"Ridge\",\"Ridge\",\"Ridge\",\"Ridge\",\"Ridge\",\"Ridge\",\"Ridge\",\"Ridge\",\"Ridge\",\"Ridge\",\"Ridge\",\"Ridge\",\"Ridge\",\"Ridge\",\"Ridge\",\"Ridge\",\"Ridge\",\"Ridge\",\"Ridge\",\"Ridge\",\"Ridge\",\"Ridge\",\"Ridge\",\"Ridge\",\"Ridge\",\"Ridge\",\"Ridge\",\"Ridge\",\"Ridge\",\"Ridge\",\"Ridge\",\"Ridge\",\"Ridge\",\"Ridge\",\"Ridge\",\"Ridge\",\"Ridge\",\"Ridge\",\"Ridge\",\"Ridge\",\"Ridge\",\"Ridge\",\"Ridge\",\"Ridge\",\"Ridge\",\"Ridge\",\"Ridge\",\"Ridge\",\"Ridge\",\"Ridge\",\"Ridge\",\"Ridge\",\"Ridge\",\"Ridge\",\"Ridge\",\"Ridge\",\"Ridge\",\"Ridge\",\"Ridge\",\"Ridge\",\"Ridge\",\"Ridge\",\"Ridge\",\"Ridge\",\"Ridge\",\"Ridge\",\"Ridge\",\"Ridge\",\"Ridge\",\"Ridge\",\"Ridge\",\"Ridge\",\"Ridge\",\"Ridge\",\"Ridge\",\"Ridge\",\"Ridge\",\"Ridge\",\"Ridge\",\"Ridge\",\"Ridge\",\"Ridge\",\"Ridge\",\"Ridge\",\"Ridge\",\"Ridge\",\"Ridge\",\"Ridge\",\"Ridge\",\"Ridge\",\"Ridge\",\"Ridge\",\"Ridge\",\"Ridge\",\"Ridge\",\"Ridge\",\"Ridge\",\"Ridge\",\"Ridge\",\"Ridge\",\"Ridge\",\"Ridge\",\"Ridge\",\"Ridge\",\"Ridge\",\"Ridge\",\"Ridge\",\"Ridge\",\"Ridge\",\"Ridge\",\"Ridge\",\"Ridge\",\"Ridge\",\"Ridge\",\"Ridge\",\"Ridge\",\"Ridge\",\"Ridge\",\"Ridge\",\"Ridge\",\"Ridge\",\"Ridge\",\"Ridge\",\"Ridge\",\"Ridge\",\"Ridge\",\"Ridge\",\"Ridge\",\"Ridge\",\"Ridge\",\"Ridge\",\"Ridge\",\"Ridge\",\"Ridge\",\"Ridge\",\"Ridge\",\"Ridge\",\"Ridge\",\"Ridge\",\"Ridge\",\"Ridge\",\"Ridge\",\"Ridge\",\"Ridge\",\"Ridge\",\"Ridge\",\"Ridge\",\"Ridge\",\"Ridge\",\"Ridge\",\"Ridge\",\"Ridge\",\"Ridge\",\"Ridge\",\"Ridge\",\"Ridge\",\"Ridge\",\"Ridge\",\"Ridge\",\"Ridge\",\"Ridge\",\"Ridge\",\"Ridge\",\"Ridge\",\"Ridge\",\"Ridge\",\"Ridge\",\"Ridge\",\"Ridge\",\"Ridge\",\"Ridge\",\"Ridge\",\"Ridge\",\"Ridge\",\"Ridge\",\"Ridge\",\"Ridge\",\"Ridge\",\"Ridge\",\"Ridge\",\"Ridge\",\"Ridge\",\"Ridge\",\"Ridge\",\"Ridge\",\"Ridge\",\"Ridge\",\"Ridge\",\"Ridge\",\"Ridge\",\"Ridge\",\"Ridge\",\"Ridge\",\"Ridge\",\"Ridge\",\"Ridge\",\"Ridge\",\"Ridge\",\"Ridge\",\"Ridge\",\"Ridge\",\"Ridge\",\"Ridge\",\"Ridge\",\"Ridge\",\"Ridge\",\"Ridge\",\"Ridge\",\"Ridge\",\"Ridge\",\"Ridge\",\"Ridge\",\"Ridge\",\"Ridge\",\"Ridge\",\"Ridge\",\"Ridge\",\"Ridge\",\"Ridge\",\"Ridge\",\"Ridge\",\"Ridge\",\"Ridge\",\"Ridge\",\"Ridge\",\"Ridge\",\"Ridge\",\"Ridge\",\"Ridge\",\"Ridge\",\"Ridge\",\"Ridge\",\"Ridge\",\"Ridge\",\"Ridge\",\"Ridge\",\"Ridge\",\"Ridge\",\"Ridge\",\"Ridge\",\"Ridge\",\"Ridge\",\"Ridge\",\"Ridge\",\"Ridge\",\"Ridge\",\"Ridge\",\"Ridge\",\"Ridge\",\"Ridge\",\"Ridge\",\"Ridge\",\"Ridge\",\"Ridge\",\"Ridge\",\"Ridge\",\"Ridge\",\"Ridge\",\"Ridge\",\"Ridge\",\"Ridge\",\"Ridge\",\"Ridge\"],\"yaxis\":\"y2\"},{\"legendgroup\":\"Lasso\",\"marker\":{\"color\":\"rgb(255, 127, 14)\",\"symbol\":\"line-ns-open\"},\"mode\":\"markers\",\"name\":\"Lasso\",\"showlegend\":false,\"type\":\"scatter\",\"x\":[-2.0476198734900093,3.223742095739854,-0.22808811219082664,-4.424263598198707,-0.0,2.6754583974503547,-0.23827509751446155,-0.0,0.19334928481972458,-0.6878399125175529,0.0,0.0,-0.0,-0.0,-0.0,-0.0,0.0,0.0,-0.0,0.0,-0.0,-0.0,-0.0,0.0,-0.0,0.0,-0.0,-0.0,-0.0,0.0,0.0,0.0,0.0,0.0,0.0,-0.0,-0.0,-0.0,0.0,-0.0,-0.0,0.0,0.0,0.0,0.0,-0.0,-0.0,-0.0,0.0,-0.0,0.0,0.0,-0.0,0.0,0.0,-0.0,0.0,-0.0,0.0,-0.0,0.0,0.0,-0.0,0.0,0.0,0.0,0.0,-0.39833346661240243,-0.0,-0.0,-0.0,0.0,-0.0,0.0,0.0,0.0,-0.0,0.0,-0.0,-0.0,-0.0,0.0,-0.0,-0.0,0.0,-0.0,-0.0,0.0,-0.0,-0.0,-0.0,0.0,0.0,0.0,0.0,0.0,-0.0,-0.0,-0.0,-0.0,0.0,-0.0,0.0,-0.0,0.0,-0.0,-0.0,-0.0,0.0,0.0,0.0,-0.0,0.0,-0.0,-0.0,-0.0,0.0,-0.0,0.0,0.0,0.0,-0.0,0.0,-0.0,-0.0,0.6021573559342049,0.0,0.0,5.5889740575213995,-0.0,-0.0,0.0,0.0,0.0,0.0,0.0,0.0,0.0,-0.0,-0.0,0.0,-0.0,0.0,0.0,0.0,-0.23075138186171823,0.0,0.0,-0.0,0.0,-0.0,-0.0,0.0,0.0,-0.0,0.0,-0.0,-0.0,-0.0,0.0,0.0,-0.0,0.0,0.0,0.0,0.0,-0.0,-0.0,0.0,0.0,0.0,0.0,0.0,-0.0,-0.0,0.0,-0.0,-0.0,-0.0,0.0,-0.0,0.0,0.0,-0.0,-0.0,-0.0,-0.0,0.0,-0.0,-0.0,-0.0,-0.0,-0.0,-0.0,0.0,-0.0,0.0,-0.0,0.0,-0.0,-0.0,-0.0,0.0,-0.0,0.0,0.0,0.0,-0.0,0.0,-0.0,-0.0,-0.0,0.0,0.0,0.0,-0.0,0.0,0.18609257038558044,0.6622835325725617,0.0,-0.0,0.0,0.0,0.0,-0.0,0.0,-0.0,-0.0,-0.0,0.0,0.0,0.0,-0.0,-0.0,-0.0,-0.0,-0.0,0.0,-0.0,-0.0,0.0,-0.0,0.0,0.0,-0.0,0.0,-0.0,-0.0,0.0,-0.0,0.0,-0.0,-0.0,0.0,0.0,-0.0,0.0,-0.0,0.0,0.0,-0.0,0.0,-0.0,-0.0,0.0,-0.0,0.0,0.0,0.0,0.0,-0.0,-0.0,-0.0,0.0,0.0,-0.0,-0.0,-0.0,-0.0,-0.0,0.0,-0.0,0.0,-0.0,-0.0,-0.0,-0.0,1.808848090472989,-0.0,-0.0,0.0,0.0,-0.0,0.0],\"xaxis\":\"x\",\"y\":[\"Lasso\",\"Lasso\",\"Lasso\",\"Lasso\",\"Lasso\",\"Lasso\",\"Lasso\",\"Lasso\",\"Lasso\",\"Lasso\",\"Lasso\",\"Lasso\",\"Lasso\",\"Lasso\",\"Lasso\",\"Lasso\",\"Lasso\",\"Lasso\",\"Lasso\",\"Lasso\",\"Lasso\",\"Lasso\",\"Lasso\",\"Lasso\",\"Lasso\",\"Lasso\",\"Lasso\",\"Lasso\",\"Lasso\",\"Lasso\",\"Lasso\",\"Lasso\",\"Lasso\",\"Lasso\",\"Lasso\",\"Lasso\",\"Lasso\",\"Lasso\",\"Lasso\",\"Lasso\",\"Lasso\",\"Lasso\",\"Lasso\",\"Lasso\",\"Lasso\",\"Lasso\",\"Lasso\",\"Lasso\",\"Lasso\",\"Lasso\",\"Lasso\",\"Lasso\",\"Lasso\",\"Lasso\",\"Lasso\",\"Lasso\",\"Lasso\",\"Lasso\",\"Lasso\",\"Lasso\",\"Lasso\",\"Lasso\",\"Lasso\",\"Lasso\",\"Lasso\",\"Lasso\",\"Lasso\",\"Lasso\",\"Lasso\",\"Lasso\",\"Lasso\",\"Lasso\",\"Lasso\",\"Lasso\",\"Lasso\",\"Lasso\",\"Lasso\",\"Lasso\",\"Lasso\",\"Lasso\",\"Lasso\",\"Lasso\",\"Lasso\",\"Lasso\",\"Lasso\",\"Lasso\",\"Lasso\",\"Lasso\",\"Lasso\",\"Lasso\",\"Lasso\",\"Lasso\",\"Lasso\",\"Lasso\",\"Lasso\",\"Lasso\",\"Lasso\",\"Lasso\",\"Lasso\",\"Lasso\",\"Lasso\",\"Lasso\",\"Lasso\",\"Lasso\",\"Lasso\",\"Lasso\",\"Lasso\",\"Lasso\",\"Lasso\",\"Lasso\",\"Lasso\",\"Lasso\",\"Lasso\",\"Lasso\",\"Lasso\",\"Lasso\",\"Lasso\",\"Lasso\",\"Lasso\",\"Lasso\",\"Lasso\",\"Lasso\",\"Lasso\",\"Lasso\",\"Lasso\",\"Lasso\",\"Lasso\",\"Lasso\",\"Lasso\",\"Lasso\",\"Lasso\",\"Lasso\",\"Lasso\",\"Lasso\",\"Lasso\",\"Lasso\",\"Lasso\",\"Lasso\",\"Lasso\",\"Lasso\",\"Lasso\",\"Lasso\",\"Lasso\",\"Lasso\",\"Lasso\",\"Lasso\",\"Lasso\",\"Lasso\",\"Lasso\",\"Lasso\",\"Lasso\",\"Lasso\",\"Lasso\",\"Lasso\",\"Lasso\",\"Lasso\",\"Lasso\",\"Lasso\",\"Lasso\",\"Lasso\",\"Lasso\",\"Lasso\",\"Lasso\",\"Lasso\",\"Lasso\",\"Lasso\",\"Lasso\",\"Lasso\",\"Lasso\",\"Lasso\",\"Lasso\",\"Lasso\",\"Lasso\",\"Lasso\",\"Lasso\",\"Lasso\",\"Lasso\",\"Lasso\",\"Lasso\",\"Lasso\",\"Lasso\",\"Lasso\",\"Lasso\",\"Lasso\",\"Lasso\",\"Lasso\",\"Lasso\",\"Lasso\",\"Lasso\",\"Lasso\",\"Lasso\",\"Lasso\",\"Lasso\",\"Lasso\",\"Lasso\",\"Lasso\",\"Lasso\",\"Lasso\",\"Lasso\",\"Lasso\",\"Lasso\",\"Lasso\",\"Lasso\",\"Lasso\",\"Lasso\",\"Lasso\",\"Lasso\",\"Lasso\",\"Lasso\",\"Lasso\",\"Lasso\",\"Lasso\",\"Lasso\",\"Lasso\",\"Lasso\",\"Lasso\",\"Lasso\",\"Lasso\",\"Lasso\",\"Lasso\",\"Lasso\",\"Lasso\",\"Lasso\",\"Lasso\",\"Lasso\",\"Lasso\",\"Lasso\",\"Lasso\",\"Lasso\",\"Lasso\",\"Lasso\",\"Lasso\",\"Lasso\",\"Lasso\",\"Lasso\",\"Lasso\",\"Lasso\",\"Lasso\",\"Lasso\",\"Lasso\",\"Lasso\",\"Lasso\",\"Lasso\",\"Lasso\",\"Lasso\",\"Lasso\",\"Lasso\",\"Lasso\",\"Lasso\",\"Lasso\",\"Lasso\",\"Lasso\",\"Lasso\",\"Lasso\",\"Lasso\",\"Lasso\",\"Lasso\",\"Lasso\",\"Lasso\",\"Lasso\",\"Lasso\",\"Lasso\",\"Lasso\",\"Lasso\",\"Lasso\",\"Lasso\",\"Lasso\",\"Lasso\",\"Lasso\",\"Lasso\",\"Lasso\",\"Lasso\",\"Lasso\",\"Lasso\",\"Lasso\",\"Lasso\",\"Lasso\",\"Lasso\",\"Lasso\",\"Lasso\",\"Lasso\",\"Lasso\",\"Lasso\",\"Lasso\",\"Lasso\",\"Lasso\",\"Lasso\",\"Lasso\",\"Lasso\",\"Lasso\",\"Lasso\",\"Lasso\",\"Lasso\",\"Lasso\"],\"yaxis\":\"y2\"}],                        {\"barmode\":\"overlay\",\"hovermode\":\"closest\",\"legend\":{\"traceorder\":\"reversed\"},\"template\":{\"data\":{\"bar\":[{\"error_x\":{\"color\":\"#2a3f5f\"},\"error_y\":{\"color\":\"#2a3f5f\"},\"marker\":{\"line\":{\"color\":\"#E5ECF6\",\"width\":0.5},\"pattern\":{\"fillmode\":\"overlay\",\"size\":10,\"solidity\":0.2}},\"type\":\"bar\"}],\"barpolar\":[{\"marker\":{\"line\":{\"color\":\"#E5ECF6\",\"width\":0.5},\"pattern\":{\"fillmode\":\"overlay\",\"size\":10,\"solidity\":0.2}},\"type\":\"barpolar\"}],\"carpet\":[{\"aaxis\":{\"endlinecolor\":\"#2a3f5f\",\"gridcolor\":\"white\",\"linecolor\":\"white\",\"minorgridcolor\":\"white\",\"startlinecolor\":\"#2a3f5f\"},\"baxis\":{\"endlinecolor\":\"#2a3f5f\",\"gridcolor\":\"white\",\"linecolor\":\"white\",\"minorgridcolor\":\"white\",\"startlinecolor\":\"#2a3f5f\"},\"type\":\"carpet\"}],\"choropleth\":[{\"colorbar\":{\"outlinewidth\":0,\"ticks\":\"\"},\"type\":\"choropleth\"}],\"contour\":[{\"colorbar\":{\"outlinewidth\":0,\"ticks\":\"\"},\"colorscale\":[[0.0,\"#0d0887\"],[0.1111111111111111,\"#46039f\"],[0.2222222222222222,\"#7201a8\"],[0.3333333333333333,\"#9c179e\"],[0.4444444444444444,\"#bd3786\"],[0.5555555555555556,\"#d8576b\"],[0.6666666666666666,\"#ed7953\"],[0.7777777777777778,\"#fb9f3a\"],[0.8888888888888888,\"#fdca26\"],[1.0,\"#f0f921\"]],\"type\":\"contour\"}],\"contourcarpet\":[{\"colorbar\":{\"outlinewidth\":0,\"ticks\":\"\"},\"type\":\"contourcarpet\"}],\"heatmap\":[{\"colorbar\":{\"outlinewidth\":0,\"ticks\":\"\"},\"colorscale\":[[0.0,\"#0d0887\"],[0.1111111111111111,\"#46039f\"],[0.2222222222222222,\"#7201a8\"],[0.3333333333333333,\"#9c179e\"],[0.4444444444444444,\"#bd3786\"],[0.5555555555555556,\"#d8576b\"],[0.6666666666666666,\"#ed7953\"],[0.7777777777777778,\"#fb9f3a\"],[0.8888888888888888,\"#fdca26\"],[1.0,\"#f0f921\"]],\"type\":\"heatmap\"}],\"heatmapgl\":[{\"colorbar\":{\"outlinewidth\":0,\"ticks\":\"\"},\"colorscale\":[[0.0,\"#0d0887\"],[0.1111111111111111,\"#46039f\"],[0.2222222222222222,\"#7201a8\"],[0.3333333333333333,\"#9c179e\"],[0.4444444444444444,\"#bd3786\"],[0.5555555555555556,\"#d8576b\"],[0.6666666666666666,\"#ed7953\"],[0.7777777777777778,\"#fb9f3a\"],[0.8888888888888888,\"#fdca26\"],[1.0,\"#f0f921\"]],\"type\":\"heatmapgl\"}],\"histogram\":[{\"marker\":{\"pattern\":{\"fillmode\":\"overlay\",\"size\":10,\"solidity\":0.2}},\"type\":\"histogram\"}],\"histogram2d\":[{\"colorbar\":{\"outlinewidth\":0,\"ticks\":\"\"},\"colorscale\":[[0.0,\"#0d0887\"],[0.1111111111111111,\"#46039f\"],[0.2222222222222222,\"#7201a8\"],[0.3333333333333333,\"#9c179e\"],[0.4444444444444444,\"#bd3786\"],[0.5555555555555556,\"#d8576b\"],[0.6666666666666666,\"#ed7953\"],[0.7777777777777778,\"#fb9f3a\"],[0.8888888888888888,\"#fdca26\"],[1.0,\"#f0f921\"]],\"type\":\"histogram2d\"}],\"histogram2dcontour\":[{\"colorbar\":{\"outlinewidth\":0,\"ticks\":\"\"},\"colorscale\":[[0.0,\"#0d0887\"],[0.1111111111111111,\"#46039f\"],[0.2222222222222222,\"#7201a8\"],[0.3333333333333333,\"#9c179e\"],[0.4444444444444444,\"#bd3786\"],[0.5555555555555556,\"#d8576b\"],[0.6666666666666666,\"#ed7953\"],[0.7777777777777778,\"#fb9f3a\"],[0.8888888888888888,\"#fdca26\"],[1.0,\"#f0f921\"]],\"type\":\"histogram2dcontour\"}],\"mesh3d\":[{\"colorbar\":{\"outlinewidth\":0,\"ticks\":\"\"},\"type\":\"mesh3d\"}],\"parcoords\":[{\"line\":{\"colorbar\":{\"outlinewidth\":0,\"ticks\":\"\"}},\"type\":\"parcoords\"}],\"pie\":[{\"automargin\":true,\"type\":\"pie\"}],\"scatter\":[{\"marker\":{\"colorbar\":{\"outlinewidth\":0,\"ticks\":\"\"}},\"type\":\"scatter\"}],\"scatter3d\":[{\"line\":{\"colorbar\":{\"outlinewidth\":0,\"ticks\":\"\"}},\"marker\":{\"colorbar\":{\"outlinewidth\":0,\"ticks\":\"\"}},\"type\":\"scatter3d\"}],\"scattercarpet\":[{\"marker\":{\"colorbar\":{\"outlinewidth\":0,\"ticks\":\"\"}},\"type\":\"scattercarpet\"}],\"scattergeo\":[{\"marker\":{\"colorbar\":{\"outlinewidth\":0,\"ticks\":\"\"}},\"type\":\"scattergeo\"}],\"scattergl\":[{\"marker\":{\"colorbar\":{\"outlinewidth\":0,\"ticks\":\"\"}},\"type\":\"scattergl\"}],\"scattermapbox\":[{\"marker\":{\"colorbar\":{\"outlinewidth\":0,\"ticks\":\"\"}},\"type\":\"scattermapbox\"}],\"scatterpolar\":[{\"marker\":{\"colorbar\":{\"outlinewidth\":0,\"ticks\":\"\"}},\"type\":\"scatterpolar\"}],\"scatterpolargl\":[{\"marker\":{\"colorbar\":{\"outlinewidth\":0,\"ticks\":\"\"}},\"type\":\"scatterpolargl\"}],\"scatterternary\":[{\"marker\":{\"colorbar\":{\"outlinewidth\":0,\"ticks\":\"\"}},\"type\":\"scatterternary\"}],\"surface\":[{\"colorbar\":{\"outlinewidth\":0,\"ticks\":\"\"},\"colorscale\":[[0.0,\"#0d0887\"],[0.1111111111111111,\"#46039f\"],[0.2222222222222222,\"#7201a8\"],[0.3333333333333333,\"#9c179e\"],[0.4444444444444444,\"#bd3786\"],[0.5555555555555556,\"#d8576b\"],[0.6666666666666666,\"#ed7953\"],[0.7777777777777778,\"#fb9f3a\"],[0.8888888888888888,\"#fdca26\"],[1.0,\"#f0f921\"]],\"type\":\"surface\"}],\"table\":[{\"cells\":{\"fill\":{\"color\":\"#EBF0F8\"},\"line\":{\"color\":\"white\"}},\"header\":{\"fill\":{\"color\":\"#C8D4E3\"},\"line\":{\"color\":\"white\"}},\"type\":\"table\"}]},\"layout\":{\"annotationdefaults\":{\"arrowcolor\":\"#2a3f5f\",\"arrowhead\":0,\"arrowwidth\":1},\"autotypenumbers\":\"strict\",\"coloraxis\":{\"colorbar\":{\"outlinewidth\":0,\"ticks\":\"\"}},\"colorscale\":{\"diverging\":[[0,\"#8e0152\"],[0.1,\"#c51b7d\"],[0.2,\"#de77ae\"],[0.3,\"#f1b6da\"],[0.4,\"#fde0ef\"],[0.5,\"#f7f7f7\"],[0.6,\"#e6f5d0\"],[0.7,\"#b8e186\"],[0.8,\"#7fbc41\"],[0.9,\"#4d9221\"],[1,\"#276419\"]],\"sequential\":[[0.0,\"#0d0887\"],[0.1111111111111111,\"#46039f\"],[0.2222222222222222,\"#7201a8\"],[0.3333333333333333,\"#9c179e\"],[0.4444444444444444,\"#bd3786\"],[0.5555555555555556,\"#d8576b\"],[0.6666666666666666,\"#ed7953\"],[0.7777777777777778,\"#fb9f3a\"],[0.8888888888888888,\"#fdca26\"],[1.0,\"#f0f921\"]],\"sequentialminus\":[[0.0,\"#0d0887\"],[0.1111111111111111,\"#46039f\"],[0.2222222222222222,\"#7201a8\"],[0.3333333333333333,\"#9c179e\"],[0.4444444444444444,\"#bd3786\"],[0.5555555555555556,\"#d8576b\"],[0.6666666666666666,\"#ed7953\"],[0.7777777777777778,\"#fb9f3a\"],[0.8888888888888888,\"#fdca26\"],[1.0,\"#f0f921\"]]},\"colorway\":[\"#636efa\",\"#EF553B\",\"#00cc96\",\"#ab63fa\",\"#FFA15A\",\"#19d3f3\",\"#FF6692\",\"#B6E880\",\"#FF97FF\",\"#FECB52\"],\"font\":{\"color\":\"#2a3f5f\"},\"geo\":{\"bgcolor\":\"white\",\"lakecolor\":\"white\",\"landcolor\":\"#E5ECF6\",\"showlakes\":true,\"showland\":true,\"subunitcolor\":\"white\"},\"hoverlabel\":{\"align\":\"left\"},\"hovermode\":\"closest\",\"mapbox\":{\"style\":\"light\"},\"paper_bgcolor\":\"white\",\"plot_bgcolor\":\"#E5ECF6\",\"polar\":{\"angularaxis\":{\"gridcolor\":\"white\",\"linecolor\":\"white\",\"ticks\":\"\"},\"bgcolor\":\"#E5ECF6\",\"radialaxis\":{\"gridcolor\":\"white\",\"linecolor\":\"white\",\"ticks\":\"\"}},\"scene\":{\"xaxis\":{\"backgroundcolor\":\"#E5ECF6\",\"gridcolor\":\"white\",\"gridwidth\":2,\"linecolor\":\"white\",\"showbackground\":true,\"ticks\":\"\",\"zerolinecolor\":\"white\"},\"yaxis\":{\"backgroundcolor\":\"#E5ECF6\",\"gridcolor\":\"white\",\"gridwidth\":2,\"linecolor\":\"white\",\"showbackground\":true,\"ticks\":\"\",\"zerolinecolor\":\"white\"},\"zaxis\":{\"backgroundcolor\":\"#E5ECF6\",\"gridcolor\":\"white\",\"gridwidth\":2,\"linecolor\":\"white\",\"showbackground\":true,\"ticks\":\"\",\"zerolinecolor\":\"white\"}},\"shapedefaults\":{\"line\":{\"color\":\"#2a3f5f\"}},\"ternary\":{\"aaxis\":{\"gridcolor\":\"white\",\"linecolor\":\"white\",\"ticks\":\"\"},\"baxis\":{\"gridcolor\":\"white\",\"linecolor\":\"white\",\"ticks\":\"\"},\"bgcolor\":\"#E5ECF6\",\"caxis\":{\"gridcolor\":\"white\",\"linecolor\":\"white\",\"ticks\":\"\"}},\"title\":{\"x\":0.05},\"xaxis\":{\"automargin\":true,\"gridcolor\":\"white\",\"linecolor\":\"white\",\"ticks\":\"\",\"title\":{\"standoff\":15},\"zerolinecolor\":\"white\",\"zerolinewidth\":2},\"yaxis\":{\"automargin\":true,\"gridcolor\":\"white\",\"linecolor\":\"white\",\"ticks\":\"\",\"title\":{\"standoff\":15},\"zerolinecolor\":\"white\",\"zerolinewidth\":2}}},\"xaxis\":{\"anchor\":\"y2\",\"domain\":[0.0,1.0],\"zeroline\":false},\"yaxis\":{\"anchor\":\"free\",\"domain\":[0.35,1],\"position\":0.0},\"yaxis2\":{\"anchor\":\"x\",\"domain\":[0,0.25],\"dtick\":1,\"showticklabels\":false}},                        {\"responsive\": true}                    ).then(function(){\n",
       "                            \n",
       "var gd = document.getElementById('d3d62ab2-41e8-4a1a-8e5f-1b1743bc42ce');\n",
       "var x = new MutationObserver(function (mutations, observer) {{\n",
       "        var display = window.getComputedStyle(gd).display;\n",
       "        if (!display || display === 'none') {{\n",
       "            console.log([gd, 'removed!']);\n",
       "            Plotly.purge(gd);\n",
       "            observer.disconnect();\n",
       "        }}\n",
       "}});\n",
       "\n",
       "// Listen for the removal of the full notebook cells\n",
       "var notebookContainer = gd.closest('#notebook-container');\n",
       "if (notebookContainer) {{\n",
       "    x.observe(notebookContainer, {childList: true});\n",
       "}}\n",
       "\n",
       "// Listen for the clearing of the current output cell\n",
       "var outputEl = gd.closest('.output');\n",
       "if (outputEl) {{\n",
       "    x.observe(outputEl, {childList: true});\n",
       "}}\n",
       "\n",
       "                        })                };                });            </script>        </div>"
      ]
     },
     "metadata": {},
     "output_type": "display_data"
    }
   ],
   "source": [
    "ff.create_distplot([ridge_coef, lasso_coef], [\"Ridge\", \"Lasso\"], bin_size = 0.1)"
   ]
  },
  {
   "cell_type": "code",
   "execution_count": 66,
   "metadata": {},
   "outputs": [
    {
     "data": {
      "text/plain": [
       "Index(['displacement', 'model_year', 'x0_japan', 'datsun', 'diesel',\n",
       "       'plymouth', 'pontiac', 'vw'],\n",
       "      dtype='object')"
      ]
     },
     "execution_count": 66,
     "metadata": {},
     "output_type": "execute_result"
    }
   ],
   "source": [
    "name_design_matrix_std(tr).columns[lasso_coef > 0]"
   ]
  },
  {
   "cell_type": "code",
   "execution_count": null,
   "metadata": {},
   "outputs": [],
   "source": []
  }
 ],
 "metadata": {
  "kernelspec": {
   "display_name": "Python 3",
   "language": "python",
   "name": "python3"
  },
  "language_info": {
   "codemirror_mode": {
    "name": "ipython",
    "version": 3
   },
   "file_extension": ".py",
   "mimetype": "text/x-python",
   "name": "python",
   "nbconvert_exporter": "python",
   "pygments_lexer": "ipython3",
   "version": "3.8.8"
  }
 },
 "nbformat": 4,
 "nbformat_minor": 4
}
